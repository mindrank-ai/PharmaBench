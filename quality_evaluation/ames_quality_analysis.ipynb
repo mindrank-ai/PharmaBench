{
 "cells": [
  {
   "cell_type": "code",
   "execution_count": 38,
   "id": "1819e27a",
   "metadata": {},
   "outputs": [
    {
     "name": "stdout",
     "output_type": "stream",
     "text": [
      "INFO: Pandarallel will run on 20 workers.\n",
      "INFO: Pandarallel will use standard multiprocessing data transfer (pipe) to transfer data between the main process and workers.\n"
     ]
    }
   ],
   "source": [
    "import os\n",
    "import numpy as np\n",
    "import pandas as pd\n",
    "pd.set_option('display.max_columns',50)\n",
    "pd.set_option('display.max_rows',50)\n",
    "pd.options.mode.chained_assignment = None\n",
    "\n",
    "import random\n",
    "random.seed(68)\n",
    "\n",
    "from pandarallel import pandarallel\n",
    "pandarallel.initialize(nb_workers=20)\n",
    "\n",
    "from rdkit import Chem\n",
    "from rdkit.Chem import Descriptors\n",
    "import matplotlib.pyplot as plt"
   ]
  },
  {
   "cell_type": "code",
   "execution_count": 39,
   "id": "2fd38748",
   "metadata": {},
   "outputs": [
    {
     "name": "stdout",
     "output_type": "stream",
     "text": [
      "The autoreload extension is already loaded. To reload it, use:\n",
      "  %reload_ext autoreload\n"
     ]
    }
   ],
   "source": [
    "%load_ext autoreload\n",
    "%autoreload 2\n",
    "\n",
    "import sys\n",
    "sys.path.append('../')\n",
    "from standardization_process import plot_reg_correlation,plot_diagram,unreliable_datapoints,plot_cls_correlation\n",
    "from data_split import train_test_split"
   ]
  },
  {
   "cell_type": "code",
   "execution_count": 40,
   "id": "8253b4c3",
   "metadata": {},
   "outputs": [],
   "source": [
    "def remove_bad_datapoints(df,controlled_list,value_col,fold=np.log10(3)):\n",
    "    bad_datapoints_index = unreliable_datapoints(df, controlled_list, value_col)\n",
    "    df = df.loc[~df.index.isin(bad_datapoints_index),] \n",
    "    \n",
    "    bad_group_index = identify_unreliable_group(df, controlled_list, value_col, fold=fold)\n",
    "    \n",
    "    df = df.loc[~df.index.isin(bad_group_index),] \n",
    "    \n",
    "    \n",
    "    return df"
   ]
  },
  {
   "cell_type": "code",
   "execution_count": 41,
   "id": "e623d77d",
   "metadata": {},
   "outputs": [],
   "source": [
    "def compound_property_analysis(mol_list):\n",
    "    atom_counts = mol_list.map(lambda x: x.GetNumAtoms())\n",
    "    qed = mol_list.parallel_apply(Descriptors.qed)\n",
    "    logp = mol_list.parallel_apply(Descriptors.MolLogP)\n",
    "    TPSA = mol_list.parallel_apply(Descriptors.TPSA)\n",
    "    HBD = mol_list.parallel_apply(Descriptors.NumHDonors)\n",
    "    HBA = mol_list.parallel_apply(Descriptors.NumHAcceptors)\n",
    "    \n",
    "    fig, axs = plt.subplots(3,2, figsize=(16, 10))\n",
    "\n",
    "    # Plot data\n",
    "    axs[0, 0].hist(qed, bins=20, color='b', alpha=0.7, label='A')\n",
    "    axs[0, 0].set_title('qed')\n",
    "\n",
    "    axs[0, 1].hist(atom_counts, bins=20, color='r', alpha=0.7, label='B')\n",
    "    axs[0, 1].set_title('atom_counts')\n",
    "\n",
    "    axs[1, 0].hist(logp, bins=20, color='g', alpha=0.7, label='C')\n",
    "    axs[1, 0].set_title('logp')\n",
    "\n",
    "    axs[1, 1].hist(TPSA, bins=20, color='y', alpha=0.7, label='D')\n",
    "    axs[1, 1].set_title('TPSA')\n",
    "\n",
    "    axs[2, 0].hist(HBD, bins=20, color='y', alpha=0.7, label='D')\n",
    "    axs[2, 0].set_title('HBD')\n",
    "\n",
    "    axs[2, 1].hist(HBA, bins=20, color='y', alpha=0.7, label='D')\n",
    "    axs[2, 1].set_title('HBA')\n",
    "\n",
    "    # Add some labels and titles for better readability\n",
    "    for ax in axs.flat:\n",
    "        ax.set( ylabel='Frequency')\n",
    "\n",
    "\n",
    "    plt.show()"
   ]
  },
  {
   "cell_type": "markdown",
   "id": "b15438c1",
   "metadata": {},
   "source": [
    "# Load data"
   ]
  },
  {
   "cell_type": "code",
   "execution_count": 8,
   "id": "81e582b8",
   "metadata": {},
   "outputs": [],
   "source": [
    "all_data = pd.read_csv('../data/data_processing_result/ames_preprocessing_finished.csv')"
   ]
  },
  {
   "cell_type": "code",
   "execution_count": 9,
   "id": "ed8a65e0",
   "metadata": {},
   "outputs": [
    {
     "data": {
      "text/html": [
       "<div>\n",
       "<style scoped>\n",
       "    .dataframe tbody tr th:only-of-type {\n",
       "        vertical-align: middle;\n",
       "    }\n",
       "\n",
       "    .dataframe tbody tr th {\n",
       "        vertical-align: top;\n",
       "    }\n",
       "\n",
       "    .dataframe thead th {\n",
       "        text-align: right;\n",
       "    }\n",
       "</style>\n",
       "<table border=\"1\" class=\"dataframe\">\n",
       "  <thead>\n",
       "    <tr style=\"text-align: right;\">\n",
       "      <th></th>\n",
       "      <th>Smiles_unify</th>\n",
       "      <th>Smiles</th>\n",
       "      <th>value</th>\n",
       "      <th>source</th>\n",
       "      <th>property</th>\n",
       "      <th>cell_type</th>\n",
       "      <th>s9</th>\n",
       "    </tr>\n",
       "  </thead>\n",
       "  <tbody>\n",
       "    <tr>\n",
       "      <th>0</th>\n",
       "      <td>[N-]=[N+]=C1C=NC(=O)NC1=O</td>\n",
       "      <td>[N-]=[N+]=C1C=NC(=O)NC1=O</td>\n",
       "      <td>1</td>\n",
       "      <td>Benchmark</td>\n",
       "      <td>ames</td>\n",
       "      <td>NaN</td>\n",
       "      <td>-1</td>\n",
       "    </tr>\n",
       "    <tr>\n",
       "      <th>1</th>\n",
       "      <td>Cc1cccc([N+](=O)[O-])c1C</td>\n",
       "      <td>Cc1cccc([N+](=O)[O-])c1C</td>\n",
       "      <td>1</td>\n",
       "      <td>Benchmark</td>\n",
       "      <td>ames</td>\n",
       "      <td>NaN</td>\n",
       "      <td>-1</td>\n",
       "    </tr>\n",
       "    <tr>\n",
       "      <th>2</th>\n",
       "      <td>OC1C=Cc2c(ccc3c(Br)c4ccccc4cc23)C1O</td>\n",
       "      <td>OC1C=Cc2c(ccc3c(Br)c4ccccc4cc23)C1O</td>\n",
       "      <td>1</td>\n",
       "      <td>Benchmark</td>\n",
       "      <td>ames</td>\n",
       "      <td>NaN</td>\n",
       "      <td>-1</td>\n",
       "    </tr>\n",
       "    <tr>\n",
       "      <th>3</th>\n",
       "      <td>Cc1cc2c(nc(N)n2C)c2ncc(-c3ccccc3)nc12</td>\n",
       "      <td>Cc1cc2c(nc(N)n2C)c2ncc(-c3ccccc3)nc12</td>\n",
       "      <td>1</td>\n",
       "      <td>Benchmark</td>\n",
       "      <td>ames</td>\n",
       "      <td>NaN</td>\n",
       "      <td>-1</td>\n",
       "    </tr>\n",
       "    <tr>\n",
       "      <th>4</th>\n",
       "      <td>Oc1cc2c3ccccc3ccc2c2ccccc12</td>\n",
       "      <td>Oc1cc2c3ccccc3ccc2c2ccccc12</td>\n",
       "      <td>1</td>\n",
       "      <td>Benchmark</td>\n",
       "      <td>ames</td>\n",
       "      <td>NaN</td>\n",
       "      <td>-1</td>\n",
       "    </tr>\n",
       "  </tbody>\n",
       "</table>\n",
       "</div>"
      ],
      "text/plain": [
       "                            Smiles_unify  \\\n",
       "0              [N-]=[N+]=C1C=NC(=O)NC1=O   \n",
       "1               Cc1cccc([N+](=O)[O-])c1C   \n",
       "2    OC1C=Cc2c(ccc3c(Br)c4ccccc4cc23)C1O   \n",
       "3  Cc1cc2c(nc(N)n2C)c2ncc(-c3ccccc3)nc12   \n",
       "4            Oc1cc2c3ccccc3ccc2c2ccccc12   \n",
       "\n",
       "                                  Smiles  value     source property cell_type  \\\n",
       "0              [N-]=[N+]=C1C=NC(=O)NC1=O      1  Benchmark     ames       NaN   \n",
       "1               Cc1cccc([N+](=O)[O-])c1C      1  Benchmark     ames       NaN   \n",
       "2    OC1C=Cc2c(ccc3c(Br)c4ccccc4cc23)C1O      1  Benchmark     ames       NaN   \n",
       "3  Cc1cc2c(nc(N)n2C)c2ncc(-c3ccccc3)nc12      1  Benchmark     ames       NaN   \n",
       "4            Oc1cc2c3ccccc3ccc2c2ccccc12      1  Benchmark     ames       NaN   \n",
       "\n",
       "   s9  \n",
       "0  -1  \n",
       "1  -1  \n",
       "2  -1  \n",
       "3  -1  \n",
       "4  -1  "
      ]
     },
     "execution_count": 9,
     "metadata": {},
     "output_type": "execute_result"
    }
   ],
   "source": [
    "all_data.head()"
   ]
  },
  {
   "cell_type": "code",
   "execution_count": 10,
   "id": "2569a49b-a4be-49b0-b694-575d01f68e50",
   "metadata": {},
   "outputs": [
    {
     "data": {
      "text/plain": [
       "<AxesSubplot:>"
      ]
     },
     "execution_count": 10,
     "metadata": {},
     "output_type": "execute_result"
    },
    {
     "data": {
      "image/png": "[encoded data removed]",
      "text/plain": [
       "<Figure size 432x288 with 1 Axes>"
      ]
     },
     "metadata": {},
     "output_type": "display_data"
    }
   ],
   "source": [
    "all_data['value'].hist()"
   ]
  },
  {
   "cell_type": "markdown",
   "id": "423f43a5-adc0-4c9e-8256-26963f933415",
   "metadata": {},
   "source": [
    "### analysis duplicated"
   ]
  },
  {
   "cell_type": "code",
   "execution_count": 11,
   "id": "2bd6e3c1-392a-4cf7-995c-20cc7d83efc7",
   "metadata": {},
   "outputs": [],
   "source": [
    "all_data['source1'] = all_data['source'].apply(lambda x: x if x in ['EFSA','Xu','Benchmark','ECVA'] else 'Chembl')"
   ]
  },
  {
   "cell_type": "code",
   "execution_count": 12,
   "id": "a19b6890-8813-48d2-b65c-4b4752435520",
   "metadata": {},
   "outputs": [
    {
     "data": {
      "text/plain": [
       "EFSA             7294\n",
       "Xu               7278\n",
       "Benchmark        6498\n",
       "ECVA             1293\n",
       "CHEMBL2210499      30\n",
       "                 ... \n",
       "CHEMBL1251165       1\n",
       "CHEMBL1120177       1\n",
       "CHEMBL2410272       1\n",
       "CHEMBL1685383       1\n",
       "CHEMBL5217974       1\n",
       "Name: source, Length: 647, dtype: int64"
      ]
     },
     "execution_count": 12,
     "metadata": {},
     "output_type": "execute_result"
    }
   ],
   "source": [
    "all_data['source'].value_counts()"
   ]
  },
  {
   "cell_type": "code",
   "execution_count": 13,
   "id": "f9114d57",
   "metadata": {},
   "outputs": [],
   "source": [
    "all_data['cell_type'] = all_data['cell_type'].fillna('unknown')"
   ]
  },
  {
   "cell_type": "code",
   "execution_count": 14,
   "id": "b5b20b75",
   "metadata": {},
   "outputs": [],
   "source": [
    "df  = all_data.drop_duplicates(['Smiles_unify','s9','source1'])\n",
    "df_pivot = pd.pivot_table(data=df, index=['Smiles_unify','s9'], columns='source1', values='value')\n",
    "df_pivot.reset_index(inplace=True)"
   ]
  },
  {
   "cell_type": "code",
   "execution_count": 15,
   "id": "0144df4c",
   "metadata": {},
   "outputs": [
    {
     "data": {
      "text/html": [
       "<div>\n",
       "<style scoped>\n",
       "    .dataframe tbody tr th:only-of-type {\n",
       "        vertical-align: middle;\n",
       "    }\n",
       "\n",
       "    .dataframe tbody tr th {\n",
       "        vertical-align: top;\n",
       "    }\n",
       "\n",
       "    .dataframe thead th {\n",
       "        text-align: right;\n",
       "    }\n",
       "</style>\n",
       "<table border=\"1\" class=\"dataframe\">\n",
       "  <thead>\n",
       "    <tr style=\"text-align: right;\">\n",
       "      <th>source1</th>\n",
       "      <th>Smiles_unify</th>\n",
       "      <th>s9</th>\n",
       "      <th>Benchmark</th>\n",
       "      <th>Chembl</th>\n",
       "      <th>ECVA</th>\n",
       "      <th>EFSA</th>\n",
       "      <th>Xu</th>\n",
       "    </tr>\n",
       "  </thead>\n",
       "  <tbody>\n",
       "    <tr>\n",
       "      <th>2032</th>\n",
       "      <td>CC1CS(=O)(=O)CCN1/N=C/c1ccc([N+](=O)[O-])o1</td>\n",
       "      <td>0</td>\n",
       "      <td>NaN</td>\n",
       "      <td>1.0</td>\n",
       "      <td>1.0</td>\n",
       "      <td>NaN</td>\n",
       "      <td>NaN</td>\n",
       "    </tr>\n",
       "    <tr>\n",
       "      <th>2033</th>\n",
       "      <td>CC1CS(=O)(=O)CCN1/N=C/c1ccc([N+](=O)[O-])o1</td>\n",
       "      <td>1</td>\n",
       "      <td>NaN</td>\n",
       "      <td>1.0</td>\n",
       "      <td>1.0</td>\n",
       "      <td>NaN</td>\n",
       "      <td>NaN</td>\n",
       "    </tr>\n",
       "    <tr>\n",
       "      <th>2817</th>\n",
       "      <td>CCN(CC)CCCC(C)Nc1ccnc2cc(Cl)ccc12</td>\n",
       "      <td>0</td>\n",
       "      <td>NaN</td>\n",
       "      <td>0.0</td>\n",
       "      <td>1.0</td>\n",
       "      <td>NaN</td>\n",
       "      <td>NaN</td>\n",
       "    </tr>\n",
       "    <tr>\n",
       "      <th>2888</th>\n",
       "      <td>CCN(CCCl)CCCNc1c2ccc(Cl)cc2nc2ccc(OC)cc12</td>\n",
       "      <td>0</td>\n",
       "      <td>NaN</td>\n",
       "      <td>1.0</td>\n",
       "      <td>1.0</td>\n",
       "      <td>NaN</td>\n",
       "      <td>NaN</td>\n",
       "    </tr>\n",
       "    <tr>\n",
       "      <th>6185</th>\n",
       "      <td>Cc1cccc(C)c1N</td>\n",
       "      <td>0</td>\n",
       "      <td>NaN</td>\n",
       "      <td>0.0</td>\n",
       "      <td>1.0</td>\n",
       "      <td>0.0</td>\n",
       "      <td>NaN</td>\n",
       "    </tr>\n",
       "    <tr>\n",
       "      <th>7643</th>\n",
       "      <td>Nc1ccc(-c2ccc(Cl)cc2)cc1</td>\n",
       "      <td>0</td>\n",
       "      <td>NaN</td>\n",
       "      <td>0.0</td>\n",
       "      <td>1.0</td>\n",
       "      <td>NaN</td>\n",
       "      <td>NaN</td>\n",
       "    </tr>\n",
       "    <tr>\n",
       "      <th>8273</th>\n",
       "      <td>O=C(Cn1ccnc1[N+](=O)[O-])NCc1ccccc1</td>\n",
       "      <td>0</td>\n",
       "      <td>NaN</td>\n",
       "      <td>1.0</td>\n",
       "      <td>1.0</td>\n",
       "      <td>NaN</td>\n",
       "      <td>NaN</td>\n",
       "    </tr>\n",
       "    <tr>\n",
       "      <th>9248</th>\n",
       "      <td>O=NN1CCCC1</td>\n",
       "      <td>0</td>\n",
       "      <td>NaN</td>\n",
       "      <td>0.0</td>\n",
       "      <td>1.0</td>\n",
       "      <td>NaN</td>\n",
       "      <td>NaN</td>\n",
       "    </tr>\n",
       "    <tr>\n",
       "      <th>9589</th>\n",
       "      <td>O=[N+]([O-])c1cc[n+]([O-])c2ccccc12</td>\n",
       "      <td>0</td>\n",
       "      <td>NaN</td>\n",
       "      <td>1.0</td>\n",
       "      <td>1.0</td>\n",
       "      <td>NaN</td>\n",
       "      <td>NaN</td>\n",
       "    </tr>\n",
       "    <tr>\n",
       "      <th>9590</th>\n",
       "      <td>O=[N+]([O-])c1cc[n+]([O-])c2ccccc12</td>\n",
       "      <td>1</td>\n",
       "      <td>NaN</td>\n",
       "      <td>1.0</td>\n",
       "      <td>1.0</td>\n",
       "      <td>NaN</td>\n",
       "      <td>NaN</td>\n",
       "    </tr>\n",
       "    <tr>\n",
       "      <th>9736</th>\n",
       "      <td>O=[N+]([O-])c1ccc2c(c1)Cc1ccccc1-2</td>\n",
       "      <td>0</td>\n",
       "      <td>NaN</td>\n",
       "      <td>1.0</td>\n",
       "      <td>1.0</td>\n",
       "      <td>NaN</td>\n",
       "      <td>NaN</td>\n",
       "    </tr>\n",
       "  </tbody>\n",
       "</table>\n",
       "</div>"
      ],
      "text/plain": [
       "source1                                 Smiles_unify  s9  Benchmark  Chembl  \\\n",
       "2032     CC1CS(=O)(=O)CCN1/N=C/c1ccc([N+](=O)[O-])o1   0        NaN     1.0   \n",
       "2033     CC1CS(=O)(=O)CCN1/N=C/c1ccc([N+](=O)[O-])o1   1        NaN     1.0   \n",
       "2817               CCN(CC)CCCC(C)Nc1ccnc2cc(Cl)ccc12   0        NaN     0.0   \n",
       "2888       CCN(CCCl)CCCNc1c2ccc(Cl)cc2nc2ccc(OC)cc12   0        NaN     1.0   \n",
       "6185                                   Cc1cccc(C)c1N   0        NaN     0.0   \n",
       "7643                        Nc1ccc(-c2ccc(Cl)cc2)cc1   0        NaN     0.0   \n",
       "8273             O=C(Cn1ccnc1[N+](=O)[O-])NCc1ccccc1   0        NaN     1.0   \n",
       "9248                                      O=NN1CCCC1   0        NaN     0.0   \n",
       "9589             O=[N+]([O-])c1cc[n+]([O-])c2ccccc12   0        NaN     1.0   \n",
       "9590             O=[N+]([O-])c1cc[n+]([O-])c2ccccc12   1        NaN     1.0   \n",
       "9736              O=[N+]([O-])c1ccc2c(c1)Cc1ccccc1-2   0        NaN     1.0   \n",
       "\n",
       "source1  ECVA  EFSA  Xu  \n",
       "2032      1.0   NaN NaN  \n",
       "2033      1.0   NaN NaN  \n",
       "2817      1.0   NaN NaN  \n",
       "2888      1.0   NaN NaN  \n",
       "6185      1.0   0.0 NaN  \n",
       "7643      1.0   NaN NaN  \n",
       "8273      1.0   NaN NaN  \n",
       "9248      1.0   NaN NaN  \n",
       "9589      1.0   NaN NaN  \n",
       "9590      1.0   NaN NaN  \n",
       "9736      1.0   NaN NaN  "
      ]
     },
     "execution_count": 15,
     "metadata": {},
     "output_type": "execute_result"
    }
   ],
   "source": [
    "df_pivot[(~df_pivot['ECVA'].isna()) & (~df_pivot['Chembl'].isna())]"
   ]
  },
  {
   "cell_type": "code",
   "execution_count": 16,
   "id": "8defbbd3",
   "metadata": {},
   "outputs": [
    {
     "data": {
      "image/png": "[encoded data removed]",
      "text/plain": [
       "<Figure size 432x288 with 2 Axes>"
      ]
     },
     "metadata": {},
     "output_type": "display_data"
    }
   ],
   "source": [
    "# tmp = all_data.drop_duplicates(['Smiles_unify','source1'])\n",
    "plot_cls_correlation(all_data, ['Smiles_unify','cell_type','s9'], 'source1', 'value', fig_title='datasets correlation')"
   ]
  },
  {
   "cell_type": "markdown",
   "id": "0986fc2d",
   "metadata": {},
   "source": [
    "# Process"
   ]
  },
  {
   "cell_type": "code",
   "execution_count": 17,
   "id": "bb89a9c6",
   "metadata": {},
   "outputs": [
    {
     "data": {
      "text/plain": [
       "9200"
      ]
     },
     "execution_count": 17,
     "metadata": {},
     "output_type": "execute_result"
    }
   ],
   "source": [
    "all_data['Smiles'].nunique()"
   ]
  },
  {
   "cell_type": "code",
   "execution_count": 18,
   "id": "bc9261ee",
   "metadata": {},
   "outputs": [],
   "source": [
    "ames_cls = pd.DataFrame()\n",
    "ames_cls['value'] = all_data.groupby(['Smiles_unify']).apply(lambda x: max(x['value']))"
   ]
  },
  {
   "cell_type": "code",
   "execution_count": 19,
   "id": "e0a71877",
   "metadata": {},
   "outputs": [
    {
     "data": {
      "text/html": [
       "<div>\n",
       "<style scoped>\n",
       "    .dataframe tbody tr th:only-of-type {\n",
       "        vertical-align: middle;\n",
       "    }\n",
       "\n",
       "    .dataframe tbody tr th {\n",
       "        vertical-align: top;\n",
       "    }\n",
       "\n",
       "    .dataframe thead th {\n",
       "        text-align: right;\n",
       "    }\n",
       "</style>\n",
       "<table border=\"1\" class=\"dataframe\">\n",
       "  <thead>\n",
       "    <tr style=\"text-align: right;\">\n",
       "      <th></th>\n",
       "      <th>value</th>\n",
       "    </tr>\n",
       "    <tr>\n",
       "      <th>Smiles_unify</th>\n",
       "      <th></th>\n",
       "    </tr>\n",
       "  </thead>\n",
       "  <tbody>\n",
       "    <tr>\n",
       "      <th>Br/C=C/Br</th>\n",
       "      <td>1</td>\n",
       "    </tr>\n",
       "    <tr>\n",
       "      <th>BrC(Br)Br</th>\n",
       "      <td>1</td>\n",
       "    </tr>\n",
       "    <tr>\n",
       "      <th>BrC(Br)C(Br)(Br)Br</th>\n",
       "      <td>0</td>\n",
       "    </tr>\n",
       "    <tr>\n",
       "      <th>BrC(Br)C(Br)Br</th>\n",
       "      <td>0</td>\n",
       "    </tr>\n",
       "    <tr>\n",
       "      <th>BrC/C=C\\CBr</th>\n",
       "      <td>1</td>\n",
       "    </tr>\n",
       "    <tr>\n",
       "      <th>...</th>\n",
       "      <td>...</td>\n",
       "    </tr>\n",
       "    <tr>\n",
       "      <th>c1csc(-c2nc(N3CCOCC3)c3ccccc3n2)c1</th>\n",
       "      <td>1</td>\n",
       "    </tr>\n",
       "    <tr>\n",
       "      <th>c1cscn1</th>\n",
       "      <td>1</td>\n",
       "    </tr>\n",
       "    <tr>\n",
       "      <th>c1nc[nH]n1</th>\n",
       "      <td>0</td>\n",
       "    </tr>\n",
       "    <tr>\n",
       "      <th>c1scc2c1-c1cscc1C1NC21</th>\n",
       "      <td>1</td>\n",
       "    </tr>\n",
       "    <tr>\n",
       "      <th>c1scc2c1-c1cscc1C1OC21</th>\n",
       "      <td>1</td>\n",
       "    </tr>\n",
       "  </tbody>\n",
       "</table>\n",
       "<p>9139 rows × 1 columns</p>\n",
       "</div>"
      ],
      "text/plain": [
       "                                    value\n",
       "Smiles_unify                             \n",
       "Br/C=C/Br                               1\n",
       "BrC(Br)Br                               1\n",
       "BrC(Br)C(Br)(Br)Br                      0\n",
       "BrC(Br)C(Br)Br                          0\n",
       "BrC/C=C\\CBr                             1\n",
       "...                                   ...\n",
       "c1csc(-c2nc(N3CCOCC3)c3ccccc3n2)c1      1\n",
       "c1cscn1                                 1\n",
       "c1nc[nH]n1                              0\n",
       "c1scc2c1-c1cscc1C1NC21                  1\n",
       "c1scc2c1-c1cscc1C1OC21                  1\n",
       "\n",
       "[9139 rows x 1 columns]"
      ]
     },
     "execution_count": 19,
     "metadata": {},
     "output_type": "execute_result"
    }
   ],
   "source": [
    "ames_cls"
   ]
  },
  {
   "cell_type": "code",
   "execution_count": 20,
   "id": "4c0b54f3",
   "metadata": {},
   "outputs": [],
   "source": [
    "ames_cls['property'] = 'ames'"
   ]
  },
  {
   "cell_type": "code",
   "execution_count": 21,
   "id": "003ab2d3",
   "metadata": {},
   "outputs": [],
   "source": [
    "ames_cls = ames_cls.reset_index()"
   ]
  },
  {
   "cell_type": "code",
   "execution_count": 31,
   "id": "b921e3b3-b72e-4db4-ae8e-24dfc24632f8",
   "metadata": {},
   "outputs": [],
   "source": [
    "df = ames_cls[['Smiles_unify','value','property']]"
   ]
  },
  {
   "cell_type": "markdown",
   "id": "c4cb9a66",
   "metadata": {},
   "source": [
    "# Compound Property analysis "
   ]
  },
  {
   "cell_type": "code",
   "execution_count": 32,
   "id": "675c9e52",
   "metadata": {},
   "outputs": [],
   "source": [
    "mol_list = df['Smiles_unify'].map(Chem.MolFromSmiles)"
   ]
  },
  {
   "cell_type": "code",
   "execution_count": 33,
   "id": "3477eb36",
   "metadata": {},
   "outputs": [
    {
     "data": {
      "image/png": "[encoded data removed]",
      "text/plain": [
       "<Figure size 1152x720 with 6 Axes>"
      ]
     },
     "metadata": {},
     "output_type": "display_data"
    }
   ],
   "source": [
    "compound_property_analysis(mol_list)"
   ]
  },
  {
   "cell_type": "markdown",
   "id": "bb85cd3f",
   "metadata": {},
   "source": [
    "# Data Split"
   ]
  },
  {
   "cell_type": "code",
   "execution_count": 34,
   "id": "46edd32b",
   "metadata": {},
   "outputs": [
    {
     "name": "stderr",
     "output_type": "stream",
     "text": [
      "100%|█████████████████████████████████████████| 9139/9139 [00:01<00:00, 7324.11it/s]\n"
     ]
    }
   ],
   "source": [
    "train_index,test_index = train_test_split(df['Smiles_unify'].map(Chem.MolFromSmiles),split_scaffold=True)\n",
    "df.loc[train_index,'scaffold_train_test_label'] = 'train'\n",
    "df.loc[test_index,'scaffold_train_test_label'] = 'test'"
   ]
  },
  {
   "cell_type": "code",
   "execution_count": 35,
   "id": "aa11e6d9",
   "metadata": {},
   "outputs": [
    {
     "name": "stderr",
     "output_type": "stream",
     "text": [
      "100%|████████████████████████████████████████| 9139/9139 [00:00<00:00, 17929.74it/s]\n"
     ]
    }
   ],
   "source": [
    "train_index,test_index = train_test_split(df['Smiles_unify'].map(Chem.MolFromSmiles),split_scaffold=False)\n",
    "df.loc[train_index,'random_train_test_label'] = 'train'\n",
    "df.loc[test_index,'random_train_test_label'] = 'test'"
   ]
  },
  {
   "cell_type": "code",
   "execution_count": 36,
   "id": "9c92fcc1",
   "metadata": {},
   "outputs": [
    {
     "data": {
      "text/html": [
       "<div>\n",
       "<style scoped>\n",
       "    .dataframe tbody tr th:only-of-type {\n",
       "        vertical-align: middle;\n",
       "    }\n",
       "\n",
       "    .dataframe tbody tr th {\n",
       "        vertical-align: top;\n",
       "    }\n",
       "\n",
       "    .dataframe thead th {\n",
       "        text-align: right;\n",
       "    }\n",
       "</style>\n",
       "<table border=\"1\" class=\"dataframe\">\n",
       "  <thead>\n",
       "    <tr style=\"text-align: right;\">\n",
       "      <th></th>\n",
       "      <th>Smiles_unify</th>\n",
       "      <th>value</th>\n",
       "      <th>property</th>\n",
       "      <th>scaffold_train_test_label</th>\n",
       "      <th>random_train_test_label</th>\n",
       "    </tr>\n",
       "  </thead>\n",
       "  <tbody>\n",
       "    <tr>\n",
       "      <th>0</th>\n",
       "      <td>Br/C=C/Br</td>\n",
       "      <td>1</td>\n",
       "      <td>ames</td>\n",
       "      <td>train</td>\n",
       "      <td>train</td>\n",
       "    </tr>\n",
       "    <tr>\n",
       "      <th>1</th>\n",
       "      <td>BrC(Br)Br</td>\n",
       "      <td>1</td>\n",
       "      <td>ames</td>\n",
       "      <td>train</td>\n",
       "      <td>train</td>\n",
       "    </tr>\n",
       "    <tr>\n",
       "      <th>2</th>\n",
       "      <td>BrC(Br)C(Br)(Br)Br</td>\n",
       "      <td>0</td>\n",
       "      <td>ames</td>\n",
       "      <td>train</td>\n",
       "      <td>train</td>\n",
       "    </tr>\n",
       "    <tr>\n",
       "      <th>3</th>\n",
       "      <td>BrC(Br)C(Br)Br</td>\n",
       "      <td>0</td>\n",
       "      <td>ames</td>\n",
       "      <td>train</td>\n",
       "      <td>train</td>\n",
       "    </tr>\n",
       "    <tr>\n",
       "      <th>4</th>\n",
       "      <td>BrC/C=C\\CBr</td>\n",
       "      <td>1</td>\n",
       "      <td>ames</td>\n",
       "      <td>train</td>\n",
       "      <td>train</td>\n",
       "    </tr>\n",
       "    <tr>\n",
       "      <th>...</th>\n",
       "      <td>...</td>\n",
       "      <td>...</td>\n",
       "      <td>...</td>\n",
       "      <td>...</td>\n",
       "      <td>...</td>\n",
       "    </tr>\n",
       "    <tr>\n",
       "      <th>9134</th>\n",
       "      <td>c1csc(-c2nc(N3CCOCC3)c3ccccc3n2)c1</td>\n",
       "      <td>1</td>\n",
       "      <td>ames</td>\n",
       "      <td>test</td>\n",
       "      <td>test</td>\n",
       "    </tr>\n",
       "    <tr>\n",
       "      <th>9135</th>\n",
       "      <td>c1cscn1</td>\n",
       "      <td>1</td>\n",
       "      <td>ames</td>\n",
       "      <td>train</td>\n",
       "      <td>test</td>\n",
       "    </tr>\n",
       "    <tr>\n",
       "      <th>9136</th>\n",
       "      <td>c1nc[nH]n1</td>\n",
       "      <td>0</td>\n",
       "      <td>ames</td>\n",
       "      <td>train</td>\n",
       "      <td>train</td>\n",
       "    </tr>\n",
       "    <tr>\n",
       "      <th>9137</th>\n",
       "      <td>c1scc2c1-c1cscc1C1NC21</td>\n",
       "      <td>1</td>\n",
       "      <td>ames</td>\n",
       "      <td>train</td>\n",
       "      <td>test</td>\n",
       "    </tr>\n",
       "    <tr>\n",
       "      <th>9138</th>\n",
       "      <td>c1scc2c1-c1cscc1C1OC21</td>\n",
       "      <td>1</td>\n",
       "      <td>ames</td>\n",
       "      <td>train</td>\n",
       "      <td>test</td>\n",
       "    </tr>\n",
       "  </tbody>\n",
       "</table>\n",
       "<p>9139 rows × 5 columns</p>\n",
       "</div>"
      ],
      "text/plain": [
       "                            Smiles_unify  value property  \\\n",
       "0                              Br/C=C/Br      1     ames   \n",
       "1                              BrC(Br)Br      1     ames   \n",
       "2                     BrC(Br)C(Br)(Br)Br      0     ames   \n",
       "3                         BrC(Br)C(Br)Br      0     ames   \n",
       "4                            BrC/C=C\\CBr      1     ames   \n",
       "...                                  ...    ...      ...   \n",
       "9134  c1csc(-c2nc(N3CCOCC3)c3ccccc3n2)c1      1     ames   \n",
       "9135                             c1cscn1      1     ames   \n",
       "9136                          c1nc[nH]n1      0     ames   \n",
       "9137              c1scc2c1-c1cscc1C1NC21      1     ames   \n",
       "9138              c1scc2c1-c1cscc1C1OC21      1     ames   \n",
       "\n",
       "     scaffold_train_test_label random_train_test_label  \n",
       "0                        train                   train  \n",
       "1                        train                   train  \n",
       "2                        train                   train  \n",
       "3                        train                   train  \n",
       "4                        train                   train  \n",
       "...                        ...                     ...  \n",
       "9134                      test                    test  \n",
       "9135                     train                    test  \n",
       "9136                     train                   train  \n",
       "9137                     train                    test  \n",
       "9138                     train                    test  \n",
       "\n",
       "[9139 rows x 5 columns]"
      ]
     },
     "execution_count": 36,
     "metadata": {},
     "output_type": "execute_result"
    }
   ],
   "source": [
    "df"
   ]
  },
  {
   "cell_type": "code",
   "execution_count": 37,
   "id": "75c1a421",
   "metadata": {},
   "outputs": [],
   "source": [
    "df.to_csv('../data/final_datasets/ames_cls_final_data.csv',index=False)"
   ]
  },
  {
   "cell_type": "code",
   "execution_count": null,
   "id": "51a1f67d",
   "metadata": {},
   "outputs": [],
   "source": []
  }
 ],
 "metadata": {
  "kernelspec": {
   "display_name": "Python 3 (ipykernel)",
   "language": "python",
   "name": "python3"
  },
  "language_info": {
   "codemirror_mode": {
    "name": "ipython",
    "version": 3
   },
   "file_extension": ".py",
   "mimetype": "text/x-python",
   "name": "python",
   "nbconvert_exporter": "python",
   "pygments_lexer": "ipython3",
   "version": "3.9.6"
  },
  "toc-autonumbering": true
 },
 "nbformat": 4,
 "nbformat_minor": 5
}
