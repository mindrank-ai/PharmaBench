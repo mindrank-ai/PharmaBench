{
 "cells": [
  {
   "cell_type": "code",
   "execution_count": 1,
   "id": "1819e27a",
   "metadata": {},
   "outputs": [
    {
     "name": "stdout",
     "output_type": "stream",
     "text": [
      "INFO: Pandarallel will run on 20 workers.\n",
      "INFO: Pandarallel will use standard multiprocessing data transfer (pipe) to transfer data between the main process and workers.\n"
     ]
    }
   ],
   "source": [
    "import os\n",
    "import numpy as np\n",
    "import pandas as pd\n",
    "pd.set_option('display.max_columns',50)\n",
    "pd.set_option('display.max_rows',50)\n",
    "pd.options.mode.chained_assignment = None\n",
    "\n",
    "import random\n",
    "random.seed(68)\n",
    "\n",
    "from pandarallel import pandarallel\n",
    "pandarallel.initialize(nb_workers=20)\n",
    "\n",
    "from rdkit import Chem"
   ]
  },
  {
   "cell_type": "code",
   "execution_count": 2,
   "id": "2fd38748",
   "metadata": {},
   "outputs": [],
   "source": [
    "%load_ext autoreload\n",
    "%autoreload 2\n",
    "\n",
    "import sys\n",
    "sys.path.append('../')\n",
    "from standardization_process import plot_reg_correlation,plot_diagram,unreliable_datapoints,final_mean_value,identify_unreliable_group,plot_cls_correlation,plot_classification_diagram"
   ]
  },
  {
   "cell_type": "code",
   "execution_count": 3,
   "id": "8253b4c3",
   "metadata": {},
   "outputs": [],
   "source": [
    "def remove_bad_datapoints(df,controlled_list,value_col,fold=np.log10(3)):\n",
    "    bad_datapoints_index = unreliable_datapoints(df, controlled_list, value_col)\n",
    "    df = df.loc[~df.index.isin(bad_datapoints_index),] \n",
    "    \n",
    "    bad_group_index = identify_unreliable_group(df, controlled_list, value_col, fold=fold)\n",
    "    \n",
    "    df = df.loc[~df.index.isin(bad_group_index),] \n",
    "    return df"
   ]
  },
  {
   "cell_type": "code",
   "execution_count": 4,
   "id": "d9e8ece2",
   "metadata": {},
   "outputs": [],
   "source": [
    "from rdkit.Chem import Descriptors\n",
    "import matplotlib.pyplot as plt\n",
    "from data_split import train_test_split\n",
    "def compound_property_analysis(mol_list):\n",
    "    atom_counts = mol_list.map(lambda x: x.GetNumAtoms())\n",
    "    qed = mol_list.parallel_apply(Descriptors.qed)\n",
    "    logp = mol_list.parallel_apply(Descriptors.MolLogP)\n",
    "    TPSA = mol_list.parallel_apply(Descriptors.TPSA)\n",
    "    HBD = mol_list.parallel_apply(Descriptors.NumHDonors)\n",
    "    HBA = mol_list.parallel_apply(Descriptors.NumHAcceptors)\n",
    "    \n",
    "    fig, axs = plt.subplots(3,2, figsize=(16, 10))\n",
    "\n",
    "    # Plot data\n",
    "    axs[0, 0].hist(qed, bins=20, color='b', alpha=0.7, label='A')\n",
    "    axs[0, 0].set_title('qed')\n",
    "\n",
    "    axs[0, 1].hist(atom_counts, bins=20, color='r', alpha=0.7, label='B')\n",
    "    axs[0, 1].set_title('atom_counts')\n",
    "\n",
    "    axs[1, 0].hist(logp, bins=20, color='g', alpha=0.7, label='C')\n",
    "    axs[1, 0].set_title('logp')\n",
    "\n",
    "    axs[1, 1].hist(TPSA, bins=20, color='y', alpha=0.7, label='D')\n",
    "    axs[1, 1].set_title('TPSA')\n",
    "\n",
    "    axs[2, 0].hist(HBD, bins=20, color='y', alpha=0.7, label='D')\n",
    "    axs[2, 0].set_title('HBD')\n",
    "\n",
    "    axs[2, 1].hist(HBA, bins=20, color='y', alpha=0.7, label='D')\n",
    "    axs[2, 1].set_title('HBA')\n",
    "\n",
    "    # Add some labels and titles for better readability\n",
    "    for ax in axs.flat:\n",
    "        ax.set( ylabel='Frequency')\n",
    "\n",
    "\n",
    "    plt.show()"
   ]
  },
  {
   "cell_type": "markdown",
   "id": "b15438c1",
   "metadata": {},
   "source": [
    "# Load data"
   ]
  },
  {
   "cell_type": "code",
   "execution_count": null,
   "id": "a53b2e16",
   "metadata": {},
   "outputs": [],
   "source": []
  },
  {
   "cell_type": "code",
   "execution_count": 5,
   "id": "81e582b8",
   "metadata": {},
   "outputs": [],
   "source": [
    "all_data = pd.read_csv('../data/data_processing_result/bbb_preprocessing_finished.csv')"
   ]
  },
  {
   "cell_type": "code",
   "execution_count": 6,
   "id": "ed8a65e0",
   "metadata": {},
   "outputs": [
    {
     "data": {
      "text/html": [
       "<div>\n",
       "<style scoped>\n",
       "    .dataframe tbody tr th:only-of-type {\n",
       "        vertical-align: middle;\n",
       "    }\n",
       "\n",
       "    .dataframe tbody tr th {\n",
       "        vertical-align: top;\n",
       "    }\n",
       "\n",
       "    .dataframe thead th {\n",
       "        text-align: right;\n",
       "    }\n",
       "</style>\n",
       "<table border=\"1\" class=\"dataframe\">\n",
       "  <thead>\n",
       "    <tr style=\"text-align: right;\">\n",
       "      <th></th>\n",
       "      <th>Smiles_unify</th>\n",
       "      <th>Smiles</th>\n",
       "      <th>value</th>\n",
       "      <th>source</th>\n",
       "      <th>property</th>\n",
       "    </tr>\n",
       "  </thead>\n",
       "  <tbody>\n",
       "    <tr>\n",
       "      <th>0</th>\n",
       "      <td>O=C(O)c1cc(N=Nc2ccc(S(=O)(=O)Nc3ccccn3)cc2)ccc1O</td>\n",
       "      <td>O=C(O)c1cc(N=Nc2ccc(S(=O)(=O)Nc3ccccn3)cc2)ccc1O</td>\n",
       "      <td>0</td>\n",
       "      <td>B3DB</td>\n",
       "      <td>bbb</td>\n",
       "    </tr>\n",
       "    <tr>\n",
       "      <th>1</th>\n",
       "      <td>COC1(NC(=O)C(C(=O)O)c2ccc(O)cc2)C(=O)N2C(C(=O)...</td>\n",
       "      <td>COC1(NC(=O)C(C(=O)O)c2ccc(O)cc2)C(=O)N2C(C(=O)...</td>\n",
       "      <td>0</td>\n",
       "      <td>B3DB</td>\n",
       "      <td>bbb</td>\n",
       "    </tr>\n",
       "    <tr>\n",
       "      <th>2</th>\n",
       "      <td>Oc1c(I)cc(Cl)c2cccnc12</td>\n",
       "      <td>Oc1c(I)cc(Cl)c2cccnc12</td>\n",
       "      <td>0</td>\n",
       "      <td>B3DB</td>\n",
       "      <td>bbb</td>\n",
       "    </tr>\n",
       "    <tr>\n",
       "      <th>3</th>\n",
       "      <td>CCNC(=NCCSCc1ncccc1Br)NC#N</td>\n",
       "      <td>CCNC(=NCCSCc1ncccc1Br)NC#N</td>\n",
       "      <td>0</td>\n",
       "      <td>B3DB</td>\n",
       "      <td>bbb</td>\n",
       "    </tr>\n",
       "    <tr>\n",
       "      <th>4</th>\n",
       "      <td>CN1CC[C@]23c4c5ccc(OC6O[C@H](C(=O)O)[C@@H](O)[...</td>\n",
       "      <td>CN1CC[C@]23c4c5ccc(OC6O[C@H](C(=O)O)[C@@H](O)[...</td>\n",
       "      <td>0</td>\n",
       "      <td>B3DB</td>\n",
       "      <td>bbb</td>\n",
       "    </tr>\n",
       "  </tbody>\n",
       "</table>\n",
       "</div>"
      ],
      "text/plain": [
       "                                        Smiles_unify  \\\n",
       "0   O=C(O)c1cc(N=Nc2ccc(S(=O)(=O)Nc3ccccn3)cc2)ccc1O   \n",
       "1  COC1(NC(=O)C(C(=O)O)c2ccc(O)cc2)C(=O)N2C(C(=O)...   \n",
       "2                             Oc1c(I)cc(Cl)c2cccnc12   \n",
       "3                         CCNC(=NCCSCc1ncccc1Br)NC#N   \n",
       "4  CN1CC[C@]23c4c5ccc(OC6O[C@H](C(=O)O)[C@@H](O)[...   \n",
       "\n",
       "                                              Smiles  value source property  \n",
       "0   O=C(O)c1cc(N=Nc2ccc(S(=O)(=O)Nc3ccccn3)cc2)ccc1O      0   B3DB      bbb  \n",
       "1  COC1(NC(=O)C(C(=O)O)c2ccc(O)cc2)C(=O)N2C(C(=O)...      0   B3DB      bbb  \n",
       "2                             Oc1c(I)cc(Cl)c2cccnc12      0   B3DB      bbb  \n",
       "3                         CCNC(=NCCSCc1ncccc1Br)NC#N      0   B3DB      bbb  \n",
       "4  CN1CC[C@]23c4c5ccc(OC6O[C@H](C(=O)O)[C@@H](O)[...      0   B3DB      bbb  "
      ]
     },
     "execution_count": 6,
     "metadata": {},
     "output_type": "execute_result"
    }
   ],
   "source": [
    "all_data.head()"
   ]
  },
  {
   "cell_type": "code",
   "execution_count": 7,
   "id": "7f5ca0f7",
   "metadata": {},
   "outputs": [
    {
     "data": {
      "text/plain": [
       "<AxesSubplot:>"
      ]
     },
     "execution_count": 7,
     "metadata": {},
     "output_type": "execute_result"
    },
    {
     "data": {
      "image/png": "[encoded data removed]",
      "text/plain": [
       "<Figure size 432x288 with 1 Axes>"
      ]
     },
     "metadata": {},
     "output_type": "display_data"
    }
   ],
   "source": [
    "all_data['value'].hist()"
   ]
  },
  {
   "cell_type": "markdown",
   "id": "423f43a5-adc0-4c9e-8256-26963f933415",
   "metadata": {},
   "source": [
    "### Dataset correlation"
   ]
  },
  {
   "cell_type": "code",
   "execution_count": 8,
   "id": "2bd6e3c1-392a-4cf7-995c-20cc7d83efc7",
   "metadata": {},
   "outputs": [
    {
     "data": {
      "text/plain": [
       "B3DB             7805\n",
       "TDC_martin       2039\n",
       "TDC_adenot       1581\n",
       "CHEMBL4408525      34\n",
       "CHEMBL4198351      33\n",
       "                 ... \n",
       "CHEMBL5133683       2\n",
       "CHEMBL4669395       2\n",
       "CHEMBL4686703       1\n",
       "CHEMBL5128450       1\n",
       "CHEMBL4724699       1\n",
       "Name: source, Length: 92, dtype: int64"
      ]
     },
     "execution_count": 8,
     "metadata": {},
     "output_type": "execute_result"
    }
   ],
   "source": [
    "all_data['source'].value_counts()"
   ]
  },
  {
   "cell_type": "code",
   "execution_count": 9,
   "id": "ea7b59c2",
   "metadata": {},
   "outputs": [],
   "source": [
    "def merge_sources(x):\n",
    "    if x == 'B3DB':\n",
    "        return x\n",
    "    elif 'TDC' in x:\n",
    "        return x\n",
    "    else:\n",
    "        return 'Chembl'\n",
    "\n",
    "all_data['source1'] = all_data['source'].apply(merge_sources)"
   ]
  },
  {
   "cell_type": "code",
   "execution_count": 10,
   "id": "4f73aea0-9ed6-4465-8d9a-db5d3197c451",
   "metadata": {},
   "outputs": [
    {
     "data": {
      "image/png": "[encoded data removed]",
      "text/plain": [
       "<Figure size 432x288 with 2 Axes>"
      ]
     },
     "metadata": {},
     "output_type": "display_data"
    }
   ],
   "source": [
    "# tmp = all_data.drop_duplicates(['Smiles_unify','source1'])\n",
    "plot_cls_correlation(all_data, ['Smiles_unify'], 'source1', 'value', fig_title='datasets correlation')"
   ]
  },
  {
   "cell_type": "markdown",
   "id": "35f67f55",
   "metadata": {},
   "source": [
    "# Further filtering"
   ]
  },
  {
   "cell_type": "code",
   "execution_count": 11,
   "id": "ce4b9e04",
   "metadata": {},
   "outputs": [],
   "source": [
    "smi_cols = 'Smiles_unify'\n",
    "source_col = 'source1'\n",
    "value_col = 'value'"
   ]
  },
  {
   "cell_type": "code",
   "execution_count": 12,
   "id": "cfe8271e",
   "metadata": {},
   "outputs": [],
   "source": [
    "df_pivot = pd.pivot_table(data=all_data, index=smi_cols, columns=source_col, values=value_col)"
   ]
  },
  {
   "cell_type": "code",
   "execution_count": 13,
   "id": "1b898ae0",
   "metadata": {},
   "outputs": [
    {
     "data": {
      "text/html": [
       "<div>\n",
       "<style scoped>\n",
       "    .dataframe tbody tr th:only-of-type {\n",
       "        vertical-align: middle;\n",
       "    }\n",
       "\n",
       "    .dataframe tbody tr th {\n",
       "        vertical-align: top;\n",
       "    }\n",
       "\n",
       "    .dataframe thead th {\n",
       "        text-align: right;\n",
       "    }\n",
       "</style>\n",
       "<table border=\"1\" class=\"dataframe\">\n",
       "  <thead>\n",
       "    <tr style=\"text-align: right;\">\n",
       "      <th>source1</th>\n",
       "      <th>B3DB</th>\n",
       "      <th>Chembl</th>\n",
       "      <th>TDC_adenot</th>\n",
       "      <th>TDC_martin</th>\n",
       "    </tr>\n",
       "    <tr>\n",
       "      <th>Smiles_unify</th>\n",
       "      <th></th>\n",
       "      <th></th>\n",
       "      <th></th>\n",
       "      <th></th>\n",
       "    </tr>\n",
       "  </thead>\n",
       "  <tbody>\n",
       "    <tr>\n",
       "      <th>BrC(Br)Br</th>\n",
       "      <td>1.0</td>\n",
       "      <td>NaN</td>\n",
       "      <td>1.0</td>\n",
       "      <td>1.0</td>\n",
       "    </tr>\n",
       "    <tr>\n",
       "      <th>Brc1c(NC2=NCCN2)ccc2nccnc12</th>\n",
       "      <td>1.0</td>\n",
       "      <td>NaN</td>\n",
       "      <td>NaN</td>\n",
       "      <td>NaN</td>\n",
       "    </tr>\n",
       "    <tr>\n",
       "      <th>Brc1cc(Br)c(NC2=NCCN2)c(Br)c1</th>\n",
       "      <td>1.0</td>\n",
       "      <td>NaN</td>\n",
       "      <td>NaN</td>\n",
       "      <td>NaN</td>\n",
       "    </tr>\n",
       "    <tr>\n",
       "      <th>Brc1ccc(-c2nnc(N3CCN(c4ccccn4)CC3)o2)cc1</th>\n",
       "      <td>NaN</td>\n",
       "      <td>1.0</td>\n",
       "      <td>NaN</td>\n",
       "      <td>NaN</td>\n",
       "    </tr>\n",
       "    <tr>\n",
       "      <th>Brc1ccc(CNC2CCN(Cc3ccccc3)C2)cc1</th>\n",
       "      <td>NaN</td>\n",
       "      <td>1.0</td>\n",
       "      <td>NaN</td>\n",
       "      <td>NaN</td>\n",
       "    </tr>\n",
       "    <tr>\n",
       "      <th>...</th>\n",
       "      <td>...</td>\n",
       "      <td>...</td>\n",
       "      <td>...</td>\n",
       "      <td>...</td>\n",
       "    </tr>\n",
       "    <tr>\n",
       "      <th>c1cncc(C2CCCN2)c1</th>\n",
       "      <td>1.0</td>\n",
       "      <td>NaN</td>\n",
       "      <td>NaN</td>\n",
       "      <td>NaN</td>\n",
       "    </tr>\n",
       "    <tr>\n",
       "      <th>c1cncc(CC2(Cc3ccncc3)c3cccnc3-c3ncccc32)c1</th>\n",
       "      <td>1.0</td>\n",
       "      <td>NaN</td>\n",
       "      <td>NaN</td>\n",
       "      <td>1.0</td>\n",
       "    </tr>\n",
       "    <tr>\n",
       "      <th>c1cncc([C@@H]2CCCN2)c1</th>\n",
       "      <td>1.0</td>\n",
       "      <td>NaN</td>\n",
       "      <td>NaN</td>\n",
       "      <td>NaN</td>\n",
       "    </tr>\n",
       "    <tr>\n",
       "      <th>c1csc(Cc2ccccc2OCC2CNCCO2)c1</th>\n",
       "      <td>1.0</td>\n",
       "      <td>NaN</td>\n",
       "      <td>NaN</td>\n",
       "      <td>1.0</td>\n",
       "    </tr>\n",
       "    <tr>\n",
       "      <th>c1csc(Cc2ccccc2OC[C@@H]2CNCCO2)c1</th>\n",
       "      <td>1.0</td>\n",
       "      <td>NaN</td>\n",
       "      <td>1.0</td>\n",
       "      <td>NaN</td>\n",
       "    </tr>\n",
       "  </tbody>\n",
       "</table>\n",
       "<p>8654 rows × 4 columns</p>\n",
       "</div>"
      ],
      "text/plain": [
       "source1                                     B3DB  Chembl  TDC_adenot  \\\n",
       "Smiles_unify                                                           \n",
       "BrC(Br)Br                                    1.0     NaN         1.0   \n",
       "Brc1c(NC2=NCCN2)ccc2nccnc12                  1.0     NaN         NaN   \n",
       "Brc1cc(Br)c(NC2=NCCN2)c(Br)c1                1.0     NaN         NaN   \n",
       "Brc1ccc(-c2nnc(N3CCN(c4ccccn4)CC3)o2)cc1     NaN     1.0         NaN   \n",
       "Brc1ccc(CNC2CCN(Cc3ccccc3)C2)cc1             NaN     1.0         NaN   \n",
       "...                                          ...     ...         ...   \n",
       "c1cncc(C2CCCN2)c1                            1.0     NaN         NaN   \n",
       "c1cncc(CC2(Cc3ccncc3)c3cccnc3-c3ncccc32)c1   1.0     NaN         NaN   \n",
       "c1cncc([C@@H]2CCCN2)c1                       1.0     NaN         NaN   \n",
       "c1csc(Cc2ccccc2OCC2CNCCO2)c1                 1.0     NaN         NaN   \n",
       "c1csc(Cc2ccccc2OC[C@@H]2CNCCO2)c1            1.0     NaN         1.0   \n",
       "\n",
       "source1                                     TDC_martin  \n",
       "Smiles_unify                                            \n",
       "BrC(Br)Br                                          1.0  \n",
       "Brc1c(NC2=NCCN2)ccc2nccnc12                        NaN  \n",
       "Brc1cc(Br)c(NC2=NCCN2)c(Br)c1                      NaN  \n",
       "Brc1ccc(-c2nnc(N3CCN(c4ccccn4)CC3)o2)cc1           NaN  \n",
       "Brc1ccc(CNC2CCN(Cc3ccccc3)C2)cc1                   NaN  \n",
       "...                                                ...  \n",
       "c1cncc(C2CCCN2)c1                                  NaN  \n",
       "c1cncc(CC2(Cc3ccncc3)c3cccnc3-c3ncccc32)c1         1.0  \n",
       "c1cncc([C@@H]2CCCN2)c1                             NaN  \n",
       "c1csc(Cc2ccccc2OCC2CNCCO2)c1                       1.0  \n",
       "c1csc(Cc2ccccc2OC[C@@H]2CNCCO2)c1                  NaN  \n",
       "\n",
       "[8654 rows x 4 columns]"
      ]
     },
     "execution_count": 13,
     "metadata": {},
     "output_type": "execute_result"
    }
   ],
   "source": [
    "df_pivot"
   ]
  },
  {
   "cell_type": "code",
   "execution_count": 14,
   "id": "8af106ae",
   "metadata": {},
   "outputs": [],
   "source": [
    "remove_none = pd.DataFrame()\n",
    "def filter_bbb(x):\n",
    "    if x.nunique()==1:\n",
    "        if x.dropna().unique() in [0,1]:\n",
    "            return x.dropna().unique()[0]\n",
    "        else:\n",
    "            return None\n",
    "    else:\n",
    "        return None\n",
    "    \n",
    "remove_none['value'] = df_pivot.apply(filter_bbb,axis=1)\n",
    "remove_none.reset_index(inplace=True)"
   ]
  },
  {
   "cell_type": "code",
   "execution_count": 15,
   "id": "298da735",
   "metadata": {},
   "outputs": [],
   "source": [
    "remove_none = remove_none[~remove_none['value'].isna()]"
   ]
  },
  {
   "cell_type": "code",
   "execution_count": 16,
   "id": "8b0752e7",
   "metadata": {},
   "outputs": [],
   "source": [
    "remove_none['property'] = 'bbb'"
   ]
  },
  {
   "cell_type": "code",
   "execution_count": 18,
   "id": "b921e3b3-b72e-4db4-ae8e-24dfc24632f8",
   "metadata": {},
   "outputs": [],
   "source": [
    "df = remove_none[['Smiles_unify','value','property']]"
   ]
  },
  {
   "cell_type": "markdown",
   "id": "0081f009",
   "metadata": {},
   "source": [
    "# Compound Property analysis"
   ]
  },
  {
   "cell_type": "code",
   "execution_count": 19,
   "id": "4f6f4070",
   "metadata": {},
   "outputs": [],
   "source": [
    "mol_list = df['Smiles_unify'].map(Chem.MolFromSmiles)"
   ]
  },
  {
   "cell_type": "code",
   "execution_count": 20,
   "id": "a6634704",
   "metadata": {},
   "outputs": [
    {
     "data": {
      "image/png": "[encoded data removed]",
      "text/plain": [
       "<Figure size 1152x720 with 6 Axes>"
      ]
     },
     "metadata": {},
     "output_type": "display_data"
    }
   ],
   "source": [
    "compound_property_analysis(mol_list)"
   ]
  },
  {
   "cell_type": "markdown",
   "id": "d4c3dc05",
   "metadata": {},
   "source": [
    "# Data Split"
   ]
  },
  {
   "cell_type": "code",
   "execution_count": 24,
   "id": "b129ab34",
   "metadata": {},
   "outputs": [],
   "source": [
    "df =  df.reset_index()"
   ]
  },
  {
   "cell_type": "code",
   "execution_count": 25,
   "id": "2366289e",
   "metadata": {},
   "outputs": [
    {
     "name": "stderr",
     "output_type": "stream",
     "text": [
      "100%|█████████████████████████████████████████| 8301/8301 [00:01<00:00, 4378.93it/s]\n"
     ]
    }
   ],
   "source": [
    "train_index,test_index = train_test_split(df['Smiles_unify'].map(Chem.MolFromSmiles),split_scaffold=True)\n",
    "df.loc[train_index,'scaffold_train_test_label'] = 'train'\n",
    "df.loc[test_index,'scaffold_train_test_label'] = 'test'"
   ]
  },
  {
   "cell_type": "code",
   "execution_count": 26,
   "id": "19152912",
   "metadata": {},
   "outputs": [
    {
     "name": "stderr",
     "output_type": "stream",
     "text": [
      "100%|████████████████████████████████████████| 8301/8301 [00:00<00:00, 11158.82it/s]\n"
     ]
    }
   ],
   "source": [
    "train_index,test_index = train_test_split(df['Smiles_unify'].map(Chem.MolFromSmiles),split_scaffold=False)\n",
    "df.loc[train_index,'random_train_test_label'] = 'train'\n",
    "df.loc[test_index,'random_train_test_label'] = 'test'"
   ]
  },
  {
   "cell_type": "code",
   "execution_count": 27,
   "id": "ab0abe62",
   "metadata": {},
   "outputs": [
    {
     "data": {
      "text/html": [
       "<div>\n",
       "<style scoped>\n",
       "    .dataframe tbody tr th:only-of-type {\n",
       "        vertical-align: middle;\n",
       "    }\n",
       "\n",
       "    .dataframe tbody tr th {\n",
       "        vertical-align: top;\n",
       "    }\n",
       "\n",
       "    .dataframe thead th {\n",
       "        text-align: right;\n",
       "    }\n",
       "</style>\n",
       "<table border=\"1\" class=\"dataframe\">\n",
       "  <thead>\n",
       "    <tr style=\"text-align: right;\">\n",
       "      <th></th>\n",
       "      <th>index</th>\n",
       "      <th>Smiles_unify</th>\n",
       "      <th>value</th>\n",
       "      <th>property</th>\n",
       "      <th>scaffold_train_test_label</th>\n",
       "      <th>random_train_test_label</th>\n",
       "    </tr>\n",
       "  </thead>\n",
       "  <tbody>\n",
       "    <tr>\n",
       "      <th>0</th>\n",
       "      <td>0</td>\n",
       "      <td>BrC(Br)Br</td>\n",
       "      <td>1.0</td>\n",
       "      <td>bbb</td>\n",
       "      <td>train</td>\n",
       "      <td>train</td>\n",
       "    </tr>\n",
       "    <tr>\n",
       "      <th>1</th>\n",
       "      <td>1</td>\n",
       "      <td>Brc1c(NC2=NCCN2)ccc2nccnc12</td>\n",
       "      <td>1.0</td>\n",
       "      <td>bbb</td>\n",
       "      <td>train</td>\n",
       "      <td>train</td>\n",
       "    </tr>\n",
       "    <tr>\n",
       "      <th>2</th>\n",
       "      <td>2</td>\n",
       "      <td>Brc1cc(Br)c(NC2=NCCN2)c(Br)c1</td>\n",
       "      <td>1.0</td>\n",
       "      <td>bbb</td>\n",
       "      <td>train</td>\n",
       "      <td>test</td>\n",
       "    </tr>\n",
       "    <tr>\n",
       "      <th>3</th>\n",
       "      <td>3</td>\n",
       "      <td>Brc1ccc(-c2nnc(N3CCN(c4ccccn4)CC3)o2)cc1</td>\n",
       "      <td>1.0</td>\n",
       "      <td>bbb</td>\n",
       "      <td>test</td>\n",
       "      <td>train</td>\n",
       "    </tr>\n",
       "    <tr>\n",
       "      <th>4</th>\n",
       "      <td>4</td>\n",
       "      <td>Brc1ccc(CNC2CCN(Cc3ccccc3)C2)cc1</td>\n",
       "      <td>1.0</td>\n",
       "      <td>bbb</td>\n",
       "      <td>test</td>\n",
       "      <td>train</td>\n",
       "    </tr>\n",
       "    <tr>\n",
       "      <th>...</th>\n",
       "      <td>...</td>\n",
       "      <td>...</td>\n",
       "      <td>...</td>\n",
       "      <td>...</td>\n",
       "      <td>...</td>\n",
       "      <td>...</td>\n",
       "    </tr>\n",
       "    <tr>\n",
       "      <th>8296</th>\n",
       "      <td>8649</td>\n",
       "      <td>c1cncc(C2CCCN2)c1</td>\n",
       "      <td>1.0</td>\n",
       "      <td>bbb</td>\n",
       "      <td>test</td>\n",
       "      <td>test</td>\n",
       "    </tr>\n",
       "    <tr>\n",
       "      <th>8297</th>\n",
       "      <td>8650</td>\n",
       "      <td>c1cncc(CC2(Cc3ccncc3)c3cccnc3-c3ncccc32)c1</td>\n",
       "      <td>1.0</td>\n",
       "      <td>bbb</td>\n",
       "      <td>train</td>\n",
       "      <td>train</td>\n",
       "    </tr>\n",
       "    <tr>\n",
       "      <th>8298</th>\n",
       "      <td>8651</td>\n",
       "      <td>c1cncc([C@@H]2CCCN2)c1</td>\n",
       "      <td>1.0</td>\n",
       "      <td>bbb</td>\n",
       "      <td>train</td>\n",
       "      <td>train</td>\n",
       "    </tr>\n",
       "    <tr>\n",
       "      <th>8299</th>\n",
       "      <td>8652</td>\n",
       "      <td>c1csc(Cc2ccccc2OCC2CNCCO2)c1</td>\n",
       "      <td>1.0</td>\n",
       "      <td>bbb</td>\n",
       "      <td>train</td>\n",
       "      <td>train</td>\n",
       "    </tr>\n",
       "    <tr>\n",
       "      <th>8300</th>\n",
       "      <td>8653</td>\n",
       "      <td>c1csc(Cc2ccccc2OC[C@@H]2CNCCO2)c1</td>\n",
       "      <td>1.0</td>\n",
       "      <td>bbb</td>\n",
       "      <td>train</td>\n",
       "      <td>test</td>\n",
       "    </tr>\n",
       "  </tbody>\n",
       "</table>\n",
       "<p>8301 rows × 6 columns</p>\n",
       "</div>"
      ],
      "text/plain": [
       "      index                                Smiles_unify  value property  \\\n",
       "0         0                                   BrC(Br)Br    1.0      bbb   \n",
       "1         1                 Brc1c(NC2=NCCN2)ccc2nccnc12    1.0      bbb   \n",
       "2         2               Brc1cc(Br)c(NC2=NCCN2)c(Br)c1    1.0      bbb   \n",
       "3         3    Brc1ccc(-c2nnc(N3CCN(c4ccccn4)CC3)o2)cc1    1.0      bbb   \n",
       "4         4            Brc1ccc(CNC2CCN(Cc3ccccc3)C2)cc1    1.0      bbb   \n",
       "...     ...                                         ...    ...      ...   \n",
       "8296   8649                           c1cncc(C2CCCN2)c1    1.0      bbb   \n",
       "8297   8650  c1cncc(CC2(Cc3ccncc3)c3cccnc3-c3ncccc32)c1    1.0      bbb   \n",
       "8298   8651                      c1cncc([C@@H]2CCCN2)c1    1.0      bbb   \n",
       "8299   8652                c1csc(Cc2ccccc2OCC2CNCCO2)c1    1.0      bbb   \n",
       "8300   8653           c1csc(Cc2ccccc2OC[C@@H]2CNCCO2)c1    1.0      bbb   \n",
       "\n",
       "     scaffold_train_test_label random_train_test_label  \n",
       "0                        train                   train  \n",
       "1                        train                   train  \n",
       "2                        train                    test  \n",
       "3                         test                   train  \n",
       "4                         test                   train  \n",
       "...                        ...                     ...  \n",
       "8296                      test                    test  \n",
       "8297                     train                   train  \n",
       "8298                     train                   train  \n",
       "8299                     train                   train  \n",
       "8300                     train                    test  \n",
       "\n",
       "[8301 rows x 6 columns]"
      ]
     },
     "execution_count": 27,
     "metadata": {},
     "output_type": "execute_result"
    }
   ],
   "source": [
    "df"
   ]
  },
  {
   "cell_type": "code",
   "execution_count": 28,
   "id": "7379005a",
   "metadata": {},
   "outputs": [],
   "source": [
    "df.to_csv('../data/final_datasets/bbb_cls_final_data.csv',index=False)"
   ]
  },
  {
   "cell_type": "code",
   "execution_count": null,
   "id": "2460a3a2",
   "metadata": {},
   "outputs": [],
   "source": []
  }
 ],
 "metadata": {
  "kernelspec": {
   "display_name": "Python 3 (ipykernel)",
   "language": "python",
   "name": "python3"
  },
  "language_info": {
   "codemirror_mode": {
    "name": "ipython",
    "version": 3
   },
   "file_extension": ".py",
   "mimetype": "text/x-python",
   "name": "python",
   "nbconvert_exporter": "python",
   "pygments_lexer": "ipython3",
   "version": "3.9.6"
  },
  "toc-autonumbering": true
 },
 "nbformat": 4,
 "nbformat_minor": 5
}
