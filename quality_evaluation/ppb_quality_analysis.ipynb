{
 "cells": [
  {
   "cell_type": "code",
   "execution_count": 1,
   "id": "1819e27a",
   "metadata": {},
   "outputs": [
    {
     "name": "stdout",
     "output_type": "stream",
     "text": [
      "INFO: Pandarallel will run on 20 workers.\n",
      "INFO: Pandarallel will use standard multiprocessing data transfer (pipe) to transfer data between the main process and workers.\n"
     ]
    }
   ],
   "source": [
    "import os\n",
    "import numpy as np\n",
    "import pandas as pd\n",
    "pd.set_option('display.max_columns',50)\n",
    "pd.set_option('display.max_rows',50)\n",
    "pd.options.mode.chained_assignment = None\n",
    "\n",
    "import random\n",
    "random.seed(68)\n",
    "\n",
    "from pandarallel import pandarallel\n",
    "pandarallel.initialize(nb_workers=20)\n",
    "\n",
    "from rdkit import Chem\n"
   ]
  },
  {
   "cell_type": "code",
   "execution_count": 2,
   "id": "2fd38748",
   "metadata": {},
   "outputs": [],
   "source": [
    "%load_ext autoreload\n",
    "%autoreload 2\n",
    "\n",
    "import sys\n",
    "sys.path.append('../')\n",
    "from standardization_process import plot_reg_correlation,plot_diagram,unreliable_datapoints,plot_cls_correlation,identify_unreliable_group,final_mean_value\n",
    "from data_split import train_test_split"
   ]
  },
  {
   "cell_type": "code",
   "execution_count": 3,
   "id": "8253b4c3",
   "metadata": {},
   "outputs": [],
   "source": [
    "def remove_bad_datapoints(df,controlled_list,value_col,fold=np.log10(3)):\n",
    "    bad_datapoints_index = unreliable_datapoints(df, controlled_list, value_col)\n",
    "    df = df.loc[~df.index.isin(bad_datapoints_index),] \n",
    "    \n",
    "    bad_group_index = identify_unreliable_group(df, controlled_list, value_col, fold=fold)\n",
    "    \n",
    "    df = df.loc[~df.index.isin(bad_group_index),] \n",
    "    \n",
    "    \n",
    "    return df"
   ]
  },
  {
   "cell_type": "code",
   "execution_count": 4,
   "id": "6650e66f",
   "metadata": {},
   "outputs": [],
   "source": [
    "from rdkit.Chem import Descriptors\n",
    "import matplotlib.pyplot as plt\n",
    "def compound_property_analysis(mol_list):\n",
    "    atom_counts = mol_list.map(lambda x: x.GetNumAtoms())\n",
    "    qed = mol_list.parallel_apply(Descriptors.qed)\n",
    "    logp = mol_list.parallel_apply(Descriptors.MolLogP)\n",
    "    TPSA = mol_list.parallel_apply(Descriptors.TPSA)\n",
    "    HBD = mol_list.parallel_apply(Descriptors.NumHDonors)\n",
    "    HBA = mol_list.parallel_apply(Descriptors.NumHAcceptors)\n",
    "    \n",
    "    fig, axs = plt.subplots(3,2, figsize=(16, 10))\n",
    "\n",
    "    # Plot data\n",
    "    axs[0, 0].hist(qed, bins=20, color='b', alpha=0.7, label='A')\n",
    "    axs[0, 0].set_title('qed')\n",
    "\n",
    "    axs[0, 1].hist(atom_counts, bins=20, color='r', alpha=0.7, label='B')\n",
    "    axs[0, 1].set_title('atom_counts')\n",
    "\n",
    "    axs[1, 0].hist(logp, bins=20, color='g', alpha=0.7, label='C')\n",
    "    axs[1, 0].set_title('logp')\n",
    "\n",
    "    axs[1, 1].hist(TPSA, bins=20, color='y', alpha=0.7, label='D')\n",
    "    axs[1, 1].set_title('TPSA')\n",
    "\n",
    "    axs[2, 0].hist(HBD, bins=20, color='y', alpha=0.7, label='D')\n",
    "    axs[2, 0].set_title('HBD')\n",
    "\n",
    "    axs[2, 1].hist(HBA, bins=20, color='y', alpha=0.7, label='D')\n",
    "    axs[2, 1].set_title('HBA')\n",
    "\n",
    "    # Add some labels and titles for better readability\n",
    "    for ax in axs.flat:\n",
    "        ax.set( ylabel='Frequency')\n",
    "\n",
    "\n",
    "    plt.show()"
   ]
  },
  {
   "cell_type": "markdown",
   "id": "b15438c1",
   "metadata": {},
   "source": [
    "# Load data"
   ]
  },
  {
   "cell_type": "code",
   "execution_count": 5,
   "id": "81e582b8",
   "metadata": {},
   "outputs": [],
   "source": [
    "all_data = pd.read_csv('../data/data_processing_result/ppb_preprocessing_finished.csv')"
   ]
  },
  {
   "cell_type": "code",
   "execution_count": 6,
   "id": "ed8a65e0",
   "metadata": {},
   "outputs": [
    {
     "data": {
      "text/html": [
       "<div>\n",
       "<style scoped>\n",
       "    .dataframe tbody tr th:only-of-type {\n",
       "        vertical-align: middle;\n",
       "    }\n",
       "\n",
       "    .dataframe tbody tr th {\n",
       "        vertical-align: top;\n",
       "    }\n",
       "\n",
       "    .dataframe thead th {\n",
       "        text-align: right;\n",
       "    }\n",
       "</style>\n",
       "<table border=\"1\" class=\"dataframe\">\n",
       "  <thead>\n",
       "    <tr style=\"text-align: right;\">\n",
       "      <th></th>\n",
       "      <th>Smiles_unify</th>\n",
       "      <th>Smiles</th>\n",
       "      <th>value</th>\n",
       "      <th>source</th>\n",
       "      <th>concentration</th>\n",
       "      <th>spec</th>\n",
       "      <th>property</th>\n",
       "    </tr>\n",
       "  </thead>\n",
       "  <tbody>\n",
       "    <tr>\n",
       "      <th>0</th>\n",
       "      <td>Nc1noc2ccc(-n3nc(C(F)(F)F)c4c3C(=O)N(c3ccc(-c5...</td>\n",
       "      <td>Nc1noc2ccc(-n3nc(C(F)(F)F)c4c3C(=O)N(c3ccc(-c5...</td>\n",
       "      <td>97.0</td>\n",
       "      <td>CHEMBL900675</td>\n",
       "      <td>NaN</td>\n",
       "      <td>Human Serum</td>\n",
       "      <td>ppb</td>\n",
       "    </tr>\n",
       "    <tr>\n",
       "      <th>1</th>\n",
       "      <td>COc1cc(NC(C(=O)c2c[nH]c3ccccc23)c2ccccc2)cc(OC...</td>\n",
       "      <td>COc1cc(NC(C(=O)c2c[nH]c3ccccc23)c2ccccc2)cc(OC...</td>\n",
       "      <td>99.0</td>\n",
       "      <td>CHEMBL4200986</td>\n",
       "      <td>NaN</td>\n",
       "      <td>Human</td>\n",
       "      <td>ppb</td>\n",
       "    </tr>\n",
       "    <tr>\n",
       "      <th>2</th>\n",
       "      <td>O=C(O)C[C@H](NC(=O)Cn1c(C2CC2)cnc(NCc2ccc3c(n2...</td>\n",
       "      <td>O=C(O)C[C@H](NC(=O)Cn1c(C2CC2)cnc(NCc2ccc3c(n2...</td>\n",
       "      <td>97.5</td>\n",
       "      <td>CHEMBL619354</td>\n",
       "      <td>NaN</td>\n",
       "      <td>Human</td>\n",
       "      <td>ppb</td>\n",
       "    </tr>\n",
       "    <tr>\n",
       "      <th>3</th>\n",
       "      <td>CN1CCN(Nc2ncc(Nc3ccc4c(Nc5cnccn5)ccnc4c3)cn2)CC1</td>\n",
       "      <td>CN1CCN(Nc2ncc(Nc3ccc4c(Nc5cnccn5)ccnc4c3)cn2)CC1</td>\n",
       "      <td>51.0</td>\n",
       "      <td>CHEMBL4373163</td>\n",
       "      <td>NaN</td>\n",
       "      <td>Human</td>\n",
       "      <td>ppb</td>\n",
       "    </tr>\n",
       "    <tr>\n",
       "      <th>4</th>\n",
       "      <td>N#Cc1cc(F)cc(Oc2ccc3c(c2C(F)F)[C@@H](O)C(F)(F)...</td>\n",
       "      <td>N#Cc1cc(F)cc(Oc2ccc3c(c2C(F)F)[C@@H](O)C(F)(F)...</td>\n",
       "      <td>63.0</td>\n",
       "      <td>CHEMBL4158411</td>\n",
       "      <td>10 uM</td>\n",
       "      <td>Human Plasma</td>\n",
       "      <td>ppb</td>\n",
       "    </tr>\n",
       "  </tbody>\n",
       "</table>\n",
       "</div>"
      ],
      "text/plain": [
       "                                        Smiles_unify  \\\n",
       "0  Nc1noc2ccc(-n3nc(C(F)(F)F)c4c3C(=O)N(c3ccc(-c5...   \n",
       "1  COc1cc(NC(C(=O)c2c[nH]c3ccccc23)c2ccccc2)cc(OC...   \n",
       "2  O=C(O)C[C@H](NC(=O)Cn1c(C2CC2)cnc(NCc2ccc3c(n2...   \n",
       "3   CN1CCN(Nc2ncc(Nc3ccc4c(Nc5cnccn5)ccnc4c3)cn2)CC1   \n",
       "4  N#Cc1cc(F)cc(Oc2ccc3c(c2C(F)F)[C@@H](O)C(F)(F)...   \n",
       "\n",
       "                                              Smiles  value         source  \\\n",
       "0  Nc1noc2ccc(-n3nc(C(F)(F)F)c4c3C(=O)N(c3ccc(-c5...   97.0   CHEMBL900675   \n",
       "1  COc1cc(NC(C(=O)c2c[nH]c3ccccc23)c2ccccc2)cc(OC...   99.0  CHEMBL4200986   \n",
       "2  O=C(O)C[C@H](NC(=O)Cn1c(C2CC2)cnc(NCc2ccc3c(n2...   97.5   CHEMBL619354   \n",
       "3   CN1CCN(Nc2ncc(Nc3ccc4c(Nc5cnccn5)ccnc4c3)cn2)CC1   51.0  CHEMBL4373163   \n",
       "4  N#Cc1cc(F)cc(Oc2ccc3c(c2C(F)F)[C@@H](O)C(F)(F)...   63.0  CHEMBL4158411   \n",
       "\n",
       "  concentration          spec property  \n",
       "0           NaN   Human Serum      ppb  \n",
       "1           NaN         Human      ppb  \n",
       "2           NaN         Human      ppb  \n",
       "3           NaN         Human      ppb  \n",
       "4         10 uM  Human Plasma      ppb  "
      ]
     },
     "execution_count": 6,
     "metadata": {},
     "output_type": "execute_result"
    }
   ],
   "source": [
    "all_data.head()"
   ]
  },
  {
   "cell_type": "code",
   "execution_count": 7,
   "id": "7f5ca0f7",
   "metadata": {},
   "outputs": [
    {
     "data": {
      "text/plain": [
       "<AxesSubplot:>"
      ]
     },
     "execution_count": 7,
     "metadata": {},
     "output_type": "execute_result"
    },
    {
     "data": {
      "image/png": "[encoded data removed]",
      "text/plain": [
       "<Figure size 432x288 with 1 Axes>"
      ]
     },
     "metadata": {},
     "output_type": "display_data"
    }
   ],
   "source": [
    "all_data['value'].hist()"
   ]
  },
  {
   "cell_type": "code",
   "execution_count": 8,
   "id": "f2e2a91a",
   "metadata": {},
   "outputs": [
    {
     "data": {
      "text/html": [
       "<div>\n",
       "<style scoped>\n",
       "    .dataframe tbody tr th:only-of-type {\n",
       "        vertical-align: middle;\n",
       "    }\n",
       "\n",
       "    .dataframe tbody tr th {\n",
       "        vertical-align: top;\n",
       "    }\n",
       "\n",
       "    .dataframe thead th {\n",
       "        text-align: right;\n",
       "    }\n",
       "</style>\n",
       "<table border=\"1\" class=\"dataframe\">\n",
       "  <thead>\n",
       "    <tr style=\"text-align: right;\">\n",
       "      <th></th>\n",
       "      <th>Smiles_unify</th>\n",
       "      <th>Smiles</th>\n",
       "      <th>value</th>\n",
       "      <th>source</th>\n",
       "      <th>concentration</th>\n",
       "      <th>spec</th>\n",
       "      <th>property</th>\n",
       "    </tr>\n",
       "  </thead>\n",
       "  <tbody>\n",
       "    <tr>\n",
       "      <th>0</th>\n",
       "      <td>Nc1noc2ccc(-n3nc(C(F)(F)F)c4c3C(=O)N(c3ccc(-c5...</td>\n",
       "      <td>Nc1noc2ccc(-n3nc(C(F)(F)F)c4c3C(=O)N(c3ccc(-c5...</td>\n",
       "      <td>97.0</td>\n",
       "      <td>CHEMBL900675</td>\n",
       "      <td>NaN</td>\n",
       "      <td>Human Serum</td>\n",
       "      <td>ppb</td>\n",
       "    </tr>\n",
       "    <tr>\n",
       "      <th>1</th>\n",
       "      <td>COc1cc(NC(C(=O)c2c[nH]c3ccccc23)c2ccccc2)cc(OC...</td>\n",
       "      <td>COc1cc(NC(C(=O)c2c[nH]c3ccccc23)c2ccccc2)cc(OC...</td>\n",
       "      <td>99.0</td>\n",
       "      <td>CHEMBL4200986</td>\n",
       "      <td>NaN</td>\n",
       "      <td>Human</td>\n",
       "      <td>ppb</td>\n",
       "    </tr>\n",
       "    <tr>\n",
       "      <th>2</th>\n",
       "      <td>O=C(O)C[C@H](NC(=O)Cn1c(C2CC2)cnc(NCc2ccc3c(n2...</td>\n",
       "      <td>O=C(O)C[C@H](NC(=O)Cn1c(C2CC2)cnc(NCc2ccc3c(n2...</td>\n",
       "      <td>97.5</td>\n",
       "      <td>CHEMBL619354</td>\n",
       "      <td>NaN</td>\n",
       "      <td>Human</td>\n",
       "      <td>ppb</td>\n",
       "    </tr>\n",
       "    <tr>\n",
       "      <th>3</th>\n",
       "      <td>CN1CCN(Nc2ncc(Nc3ccc4c(Nc5cnccn5)ccnc4c3)cn2)CC1</td>\n",
       "      <td>CN1CCN(Nc2ncc(Nc3ccc4c(Nc5cnccn5)ccnc4c3)cn2)CC1</td>\n",
       "      <td>51.0</td>\n",
       "      <td>CHEMBL4373163</td>\n",
       "      <td>NaN</td>\n",
       "      <td>Human</td>\n",
       "      <td>ppb</td>\n",
       "    </tr>\n",
       "    <tr>\n",
       "      <th>4</th>\n",
       "      <td>N#Cc1cc(F)cc(Oc2ccc3c(c2C(F)F)[C@@H](O)C(F)(F)...</td>\n",
       "      <td>N#Cc1cc(F)cc(Oc2ccc3c(c2C(F)F)[C@@H](O)C(F)(F)...</td>\n",
       "      <td>63.0</td>\n",
       "      <td>CHEMBL4158411</td>\n",
       "      <td>10 uM</td>\n",
       "      <td>Human Plasma</td>\n",
       "      <td>ppb</td>\n",
       "    </tr>\n",
       "    <tr>\n",
       "      <th>...</th>\n",
       "      <td>...</td>\n",
       "      <td>...</td>\n",
       "      <td>...</td>\n",
       "      <td>...</td>\n",
       "      <td>...</td>\n",
       "      <td>...</td>\n",
       "      <td>...</td>\n",
       "    </tr>\n",
       "    <tr>\n",
       "      <th>1305</th>\n",
       "      <td>C#CCOc1ncc(F)c(OCC#C)n1</td>\n",
       "      <td>C#CCOc1ncc(F)c(OCC#C)n1</td>\n",
       "      <td>85.8</td>\n",
       "      <td>CHEMBL5156881</td>\n",
       "      <td>5 uM</td>\n",
       "      <td>Human Plasma</td>\n",
       "      <td>ppb</td>\n",
       "    </tr>\n",
       "    <tr>\n",
       "      <th>1306</th>\n",
       "      <td>CCOc1ccccc1NC(=O)c1cc(C)ccc1NS(=O)(=O)C1CC1</td>\n",
       "      <td>CCOc1ccccc1NC(=O)c1cc(C)ccc1NS(=O)(=O)C1CC1</td>\n",
       "      <td>0.3</td>\n",
       "      <td>CHEMBL5167414</td>\n",
       "      <td>NaN</td>\n",
       "      <td>Human</td>\n",
       "      <td>ppb</td>\n",
       "    </tr>\n",
       "    <tr>\n",
       "      <th>1307</th>\n",
       "      <td>CCOc1ccc(F)cc1NC(=O)c1cc(Cl)ccc1NS(=O)(=O)C1CC1</td>\n",
       "      <td>CCOc1ccc(F)cc1NC(=O)c1cc(Cl)ccc1NS(=O)(=O)C1CC1</td>\n",
       "      <td>0.1</td>\n",
       "      <td>CHEMBL5167414</td>\n",
       "      <td>NaN</td>\n",
       "      <td>Human</td>\n",
       "      <td>ppb</td>\n",
       "    </tr>\n",
       "    <tr>\n",
       "      <th>1308</th>\n",
       "      <td>COc1ccc2ccc(=O)n(CCN[C@H]3CC[C@H]4[C@@H](C3)OC...</td>\n",
       "      <td>COc1ccc2ccc(=O)n(CCN[C@H]3CC[C@H]4[C@@H](C3)OC...</td>\n",
       "      <td>8.1</td>\n",
       "      <td>CHEMBL5146138</td>\n",
       "      <td>NaN</td>\n",
       "      <td>Human</td>\n",
       "      <td>ppb</td>\n",
       "    </tr>\n",
       "    <tr>\n",
       "      <th>1309</th>\n",
       "      <td>CC(C)NC[C@@H](C(=O)N1CCN(c2ncnc3c2[C@H](C)CC(=...</td>\n",
       "      <td>CC(C)NC[C@@H](C(=O)N1CCN(c2ncnc3c2[C@H](C)CC(=...</td>\n",
       "      <td>48.7</td>\n",
       "      <td>CHEMBL5168689</td>\n",
       "      <td>1 to 100 uM</td>\n",
       "      <td>Human</td>\n",
       "      <td>ppb</td>\n",
       "    </tr>\n",
       "  </tbody>\n",
       "</table>\n",
       "<p>1310 rows × 7 columns</p>\n",
       "</div>"
      ],
      "text/plain": [
       "                                           Smiles_unify  \\\n",
       "0     Nc1noc2ccc(-n3nc(C(F)(F)F)c4c3C(=O)N(c3ccc(-c5...   \n",
       "1     COc1cc(NC(C(=O)c2c[nH]c3ccccc23)c2ccccc2)cc(OC...   \n",
       "2     O=C(O)C[C@H](NC(=O)Cn1c(C2CC2)cnc(NCc2ccc3c(n2...   \n",
       "3      CN1CCN(Nc2ncc(Nc3ccc4c(Nc5cnccn5)ccnc4c3)cn2)CC1   \n",
       "4     N#Cc1cc(F)cc(Oc2ccc3c(c2C(F)F)[C@@H](O)C(F)(F)...   \n",
       "...                                                 ...   \n",
       "1305                            C#CCOc1ncc(F)c(OCC#C)n1   \n",
       "1306        CCOc1ccccc1NC(=O)c1cc(C)ccc1NS(=O)(=O)C1CC1   \n",
       "1307    CCOc1ccc(F)cc1NC(=O)c1cc(Cl)ccc1NS(=O)(=O)C1CC1   \n",
       "1308  COc1ccc2ccc(=O)n(CCN[C@H]3CC[C@H]4[C@@H](C3)OC...   \n",
       "1309  CC(C)NC[C@@H](C(=O)N1CCN(c2ncnc3c2[C@H](C)CC(=...   \n",
       "\n",
       "                                                 Smiles  value         source  \\\n",
       "0     Nc1noc2ccc(-n3nc(C(F)(F)F)c4c3C(=O)N(c3ccc(-c5...   97.0   CHEMBL900675   \n",
       "1     COc1cc(NC(C(=O)c2c[nH]c3ccccc23)c2ccccc2)cc(OC...   99.0  CHEMBL4200986   \n",
       "2     O=C(O)C[C@H](NC(=O)Cn1c(C2CC2)cnc(NCc2ccc3c(n2...   97.5   CHEMBL619354   \n",
       "3      CN1CCN(Nc2ncc(Nc3ccc4c(Nc5cnccn5)ccnc4c3)cn2)CC1   51.0  CHEMBL4373163   \n",
       "4     N#Cc1cc(F)cc(Oc2ccc3c(c2C(F)F)[C@@H](O)C(F)(F)...   63.0  CHEMBL4158411   \n",
       "...                                                 ...    ...            ...   \n",
       "1305                            C#CCOc1ncc(F)c(OCC#C)n1   85.8  CHEMBL5156881   \n",
       "1306        CCOc1ccccc1NC(=O)c1cc(C)ccc1NS(=O)(=O)C1CC1    0.3  CHEMBL5167414   \n",
       "1307    CCOc1ccc(F)cc1NC(=O)c1cc(Cl)ccc1NS(=O)(=O)C1CC1    0.1  CHEMBL5167414   \n",
       "1308  COc1ccc2ccc(=O)n(CCN[C@H]3CC[C@H]4[C@@H](C3)OC...    8.1  CHEMBL5146138   \n",
       "1309  CC(C)NC[C@@H](C(=O)N1CCN(c2ncnc3c2[C@H](C)CC(=...   48.7  CHEMBL5168689   \n",
       "\n",
       "     concentration          spec property  \n",
       "0              NaN   Human Serum      ppb  \n",
       "1              NaN         Human      ppb  \n",
       "2              NaN         Human      ppb  \n",
       "3              NaN         Human      ppb  \n",
       "4            10 uM  Human Plasma      ppb  \n",
       "...            ...           ...      ...  \n",
       "1305          5 uM  Human Plasma      ppb  \n",
       "1306           NaN         Human      ppb  \n",
       "1307           NaN         Human      ppb  \n",
       "1308           NaN         Human      ppb  \n",
       "1309   1 to 100 uM         Human      ppb  \n",
       "\n",
       "[1310 rows x 7 columns]"
      ]
     },
     "execution_count": 8,
     "metadata": {},
     "output_type": "execute_result"
    }
   ],
   "source": [
    "all_data"
   ]
  },
  {
   "cell_type": "markdown",
   "id": "339afdcc-4c26-4b12-9622-5ebe1a8d144d",
   "metadata": {},
   "source": [
    "### Repeated values"
   ]
  },
  {
   "cell_type": "code",
   "execution_count": 9,
   "id": "865e7ccc",
   "metadata": {},
   "outputs": [],
   "source": [
    "controlled_variable = ['Smiles_unify']"
   ]
  },
  {
   "cell_type": "code",
   "execution_count": 10,
   "id": "611b87b5-0f77-4efd-a0ea-08673d96ee56",
   "metadata": {},
   "outputs": [
    {
     "data": {
      "image/png": "[encoded data removed]",
      "text/plain": [
       "<Figure size 432x288 with 1 Axes>"
      ]
     },
     "metadata": {},
     "output_type": "display_data"
    }
   ],
   "source": [
    "plot_diagram(all_data, controlled_variable, 'value')"
   ]
  },
  {
   "cell_type": "markdown",
   "id": "35f67f55",
   "metadata": {},
   "source": [
    "# Further filtering"
   ]
  },
  {
   "cell_type": "code",
   "execution_count": 11,
   "id": "2b4fdc86",
   "metadata": {},
   "outputs": [],
   "source": [
    "df_remove_bad_datapoints = remove_bad_datapoints(all_data,controlled_variable, 'value',fold=50)"
   ]
  },
  {
   "cell_type": "code",
   "execution_count": 12,
   "id": "3faead53",
   "metadata": {},
   "outputs": [
    {
     "data": {
      "image/png": "[encoded data removed]",
      "text/plain": [
       "<Figure size 432x288 with 1 Axes>"
      ]
     },
     "metadata": {},
     "output_type": "display_data"
    }
   ],
   "source": [
    "plot_diagram(df_remove_bad_datapoints, controlled_variable, 'value')"
   ]
  },
  {
   "cell_type": "code",
   "execution_count": 13,
   "id": "295383a9-3b4a-4be9-9cbb-ebef5c863ce4",
   "metadata": {},
   "outputs": [],
   "source": [
    "df = final_mean_value(df_remove_bad_datapoints,controlled_variable, 'value')"
   ]
  },
  {
   "cell_type": "code",
   "execution_count": 14,
   "id": "67750ef3-7926-4e14-914c-255e72e10709",
   "metadata": {},
   "outputs": [],
   "source": [
    "df['value'] = df['value_mean'].copy()"
   ]
  },
  {
   "cell_type": "code",
   "execution_count": 15,
   "id": "810e76f4-41bc-41d1-8042-36722d8d9d12",
   "metadata": {},
   "outputs": [],
   "source": [
    "df = df.drop_duplicates(controlled_variable)"
   ]
  },
  {
   "cell_type": "code",
   "execution_count": 16,
   "id": "c62c096c",
   "metadata": {},
   "outputs": [
    {
     "data": {
      "text/plain": [
       "Index(['Smiles_unify', 'Smiles', 'value', 'source', 'concentration', 'spec',\n",
       "       'property', 'value_mean'],\n",
       "      dtype='object')"
      ]
     },
     "execution_count": 16,
     "metadata": {},
     "output_type": "execute_result"
    }
   ],
   "source": [
    "df.columns"
   ]
  },
  {
   "cell_type": "markdown",
   "id": "63272e7a",
   "metadata": {},
   "source": [
    "# Compound Property analysis"
   ]
  },
  {
   "cell_type": "code",
   "execution_count": 17,
   "id": "b5920b5a",
   "metadata": {},
   "outputs": [],
   "source": [
    "df['value'] = df['value']/100"
   ]
  },
  {
   "cell_type": "code",
   "execution_count": 20,
   "id": "2124dc15",
   "metadata": {},
   "outputs": [],
   "source": [
    "df = df[['Smiles_unify','value','property']]"
   ]
  },
  {
   "cell_type": "code",
   "execution_count": 21,
   "id": "5d643586",
   "metadata": {},
   "outputs": [],
   "source": [
    "mol_list = df['Smiles_unify'].map(Chem.MolFromSmiles)"
   ]
  },
  {
   "cell_type": "code",
   "execution_count": 22,
   "id": "8f0d6637",
   "metadata": {},
   "outputs": [
    {
     "data": {
      "image/png": "[encoded data removed]",
      "text/plain": [
       "<Figure size 1152x720 with 6 Axes>"
      ]
     },
     "metadata": {},
     "output_type": "display_data"
    }
   ],
   "source": [
    "compound_property_analysis(mol_list)"
   ]
  },
  {
   "cell_type": "markdown",
   "id": "cff7e73d",
   "metadata": {},
   "source": [
    "# Data Split"
   ]
  },
  {
   "cell_type": "code",
   "execution_count": 23,
   "id": "165ab6b7",
   "metadata": {},
   "outputs": [
    {
     "name": "stderr",
     "output_type": "stream",
     "text": [
      "100%|█████████████████████████████████████| 1262/1262 [00:00<00:00, 3345.10it/s]\n",
      "100%|█████████████████████████████████████| 1262/1262 [00:00<00:00, 7882.54it/s]\n"
     ]
    }
   ],
   "source": [
    "df =  df.reset_index()\n",
    "\n",
    "\n",
    "train_index,test_index = train_test_split(df['Smiles_unify'].map(Chem.MolFromSmiles),split_scaffold=True)\n",
    "df.loc[train_index,'scaffold_train_test_label'] = 'train'\n",
    "df.loc[test_index,'scaffold_train_test_label'] = 'test'\n",
    "\n",
    "train_index,test_index = train_test_split(df['Smiles_unify'].map(Chem.MolFromSmiles),split_scaffold=False)\n",
    "df.loc[train_index,'random_train_test_label'] = 'train'\n",
    "df.loc[test_index,'random_train_test_label'] = 'test'"
   ]
  },
  {
   "cell_type": "code",
   "execution_count": 25,
   "id": "2d81c5b3",
   "metadata": {},
   "outputs": [],
   "source": [
    "df[['Smiles_unify',  'value', 'property', 'scaffold_train_test_label','random_train_test_label']].to_csv('../data/final_datasets/ppb_reg_final_data.csv',index=False)"
   ]
  },
  {
   "cell_type": "code",
   "execution_count": 26,
   "id": "72de8fec",
   "metadata": {},
   "outputs": [
    {
     "data": {
      "text/plain": [
       "(1262, 6)"
      ]
     },
     "execution_count": 26,
     "metadata": {},
     "output_type": "execute_result"
    }
   ],
   "source": [
    "df.shape"
   ]
  },
  {
   "cell_type": "code",
   "execution_count": 28,
   "id": "5dafc043",
   "metadata": {},
   "outputs": [
    {
     "data": {
      "text/plain": [
       "<AxesSubplot:>"
      ]
     },
     "execution_count": 28,
     "metadata": {},
     "output_type": "execute_result"
    },
    {
     "data": {
      "image/png": "[encoded data removed]",
      "text/plain": [
       "<Figure size 432x288 with 1 Axes>"
      ]
     },
     "metadata": {},
     "output_type": "display_data"
    }
   ],
   "source": [
    "df['value'].hist()\n"
   ]
  },
  {
   "cell_type": "code",
   "execution_count": null,
   "id": "17a2b83f",
   "metadata": {},
   "outputs": [],
   "source": []
  }
 ],
 "metadata": {
  "kernelspec": {
   "display_name": "Python 3 (ipykernel)",
   "language": "python",
   "name": "python3"
  },
  "language_info": {
   "codemirror_mode": {
    "name": "ipython",
    "version": 3
   },
   "file_extension": ".py",
   "mimetype": "text/x-python",
   "name": "python",
   "nbconvert_exporter": "python",
   "pygments_lexer": "ipython3",
   "version": "3.9.6"
  },
  "toc-autonumbering": true
 },
 "nbformat": 4,
 "nbformat_minor": 5
}
