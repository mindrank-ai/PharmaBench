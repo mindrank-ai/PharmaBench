{
 "cells": [
  {
   "cell_type": "code",
   "execution_count": 1,
   "id": "1819e27a",
   "metadata": {},
   "outputs": [
    {
     "name": "stdout",
     "output_type": "stream",
     "text": [
      "INFO: Pandarallel will run on 20 workers.\n",
      "INFO: Pandarallel will use standard multiprocessing data transfer (pipe) to transfer data between the main process and workers.\n"
     ]
    }
   ],
   "source": [
    "import os\n",
    "import numpy as np\n",
    "import pandas as pd\n",
    "pd.set_option('display.max_columns',50)\n",
    "pd.set_option('display.max_rows',50)\n",
    "pd.options.mode.chained_assignment = None\n",
    "\n",
    "import random\n",
    "random.seed(68)\n",
    "\n",
    "from pandarallel import pandarallel\n",
    "pandarallel.initialize(nb_workers=20)\n",
    "\n",
    "from rdkit import Chem\n"
   ]
  },
  {
   "cell_type": "code",
   "execution_count": 2,
   "id": "2fd38748",
   "metadata": {},
   "outputs": [],
   "source": [
    "%load_ext autoreload\n",
    "%autoreload 2\n",
    "\n",
    "import sys\n",
    "sys.path.append('../')\n",
    "from standardization_process import *\n",
    "from data_split import train_test_split"
   ]
  },
  {
   "cell_type": "code",
   "execution_count": 3,
   "id": "8253b4c3",
   "metadata": {},
   "outputs": [],
   "source": [
    "def remove_bad_datapoints(df,controlled_list,value_col,fold=np.log10(3)):\n",
    "    bad_datapoints_index = unreliable_datapoints(df, controlled_list, value_col)\n",
    "    df = df.loc[~df.index.isin(bad_datapoints_index),] \n",
    "    \n",
    "    bad_group_index = identify_unreliable_group(df, controlled_list, value_col, fold=fold)\n",
    "    \n",
    "    df = df.loc[~df.index.isin(bad_group_index),] \n",
    "    \n",
    "    return df"
   ]
  },
  {
   "cell_type": "code",
   "execution_count": 4,
   "id": "7a5efc02",
   "metadata": {},
   "outputs": [],
   "source": [
    "from rdkit.Chem import Descriptors\n",
    "import matplotlib.pyplot as plt\n",
    "def compound_property_analysis(mol_list):\n",
    "    atom_counts = mol_list.map(lambda x: x.GetNumAtoms())\n",
    "    atom_counts = [x for x in atom_counts if x <=100]\n",
    "    qed = mol_list.parallel_apply(Descriptors.qed)\n",
    "    logp = mol_list.parallel_apply(Descriptors.MolLogP)\n",
    "    TPSA = mol_list.parallel_apply(Descriptors.TPSA)\n",
    "    HBD = mol_list.parallel_apply(Descriptors.NumHDonors)\n",
    "    HBA = mol_list.parallel_apply(Descriptors.NumHAcceptors)\n",
    "    \n",
    "    fig, axs = plt.subplots(3,2, figsize=(16, 10))\n",
    "\n",
    "    # Plot data\n",
    "    axs[0, 0].hist(qed, bins=20, color='b', alpha=0.7, label='A')\n",
    "    axs[0, 0].set_title('qed')\n",
    "    \n",
    "    axs[0, 1].hist(atom_counts, bins=40 , color='r', alpha=0.7, label='B')\n",
    "    axs[0, 1].set_title('atom_counts')\n",
    "\n",
    "    axs[1, 0].hist(logp, bins=20, color='g', alpha=0.7, label='C')\n",
    "    axs[1, 0].set_title('logp')\n",
    "\n",
    "    axs[1, 1].hist(TPSA, bins=20, color='y', alpha=0.7, label='D')\n",
    "    axs[1, 1].set_title('TPSA')\n",
    "\n",
    "    axs[2, 0].hist(HBD, bins=20, color='y', alpha=0.7, label='D')\n",
    "    axs[2, 0].set_title('HBD')\n",
    "\n",
    "    axs[2, 1].hist(HBA, bins=20, color='y', alpha=0.7, label='D')\n",
    "    axs[2, 1].set_title('HBA')\n",
    "\n",
    "    # Add some labels and titles for better readability\n",
    "    for ax in axs.flat:\n",
    "        ax.set( ylabel='Frequency')\n",
    "\n",
    "\n",
    "    plt.show()"
   ]
  },
  {
   "cell_type": "markdown",
   "id": "b15438c1",
   "metadata": {},
   "source": [
    "# Load data"
   ]
  },
  {
   "cell_type": "code",
   "execution_count": 5,
   "id": "81e582b8",
   "metadata": {},
   "outputs": [],
   "source": [
    "all_data = pd.read_csv('../data/data_processing_result/logd_preprocessing_finished.csv')"
   ]
  },
  {
   "cell_type": "code",
   "execution_count": 6,
   "id": "ed8a65e0",
   "metadata": {},
   "outputs": [
    {
     "data": {
      "text/html": [
       "<div>\n",
       "<style scoped>\n",
       "    .dataframe tbody tr th:only-of-type {\n",
       "        vertical-align: middle;\n",
       "    }\n",
       "\n",
       "    .dataframe tbody tr th {\n",
       "        vertical-align: top;\n",
       "    }\n",
       "\n",
       "    .dataframe thead th {\n",
       "        text-align: right;\n",
       "    }\n",
       "</style>\n",
       "<table border=\"1\" class=\"dataframe\">\n",
       "  <thead>\n",
       "    <tr style=\"text-align: right;\">\n",
       "      <th></th>\n",
       "      <th>Smiles_unify</th>\n",
       "      <th>Smiles</th>\n",
       "      <th>value</th>\n",
       "      <th>source</th>\n",
       "      <th>ph</th>\n",
       "      <th>property</th>\n",
       "    </tr>\n",
       "  </thead>\n",
       "  <tbody>\n",
       "    <tr>\n",
       "      <th>0</th>\n",
       "      <td>C[C@@H]1CN([C@H](c2ccc(CCC(=O)O)cc2)c2cccc(O)c...</td>\n",
       "      <td>C[C@@H]1CN([C@H](c2ccc(CCC(=O)O)cc2)c2cccc(O)c...</td>\n",
       "      <td>2.1</td>\n",
       "      <td>CHEMBL861858</td>\n",
       "      <td>7.4</td>\n",
       "      <td>logd</td>\n",
       "    </tr>\n",
       "    <tr>\n",
       "      <th>1</th>\n",
       "      <td>O=C(O)COc1ccc(C(F)(F)F)cc1-c1ccc(Cl)cc1</td>\n",
       "      <td>O=C(O)COc1ccc(C(F)(F)F)cc1-c1ccc(Cl)cc1</td>\n",
       "      <td>0.9</td>\n",
       "      <td>CHEMBL1780748</td>\n",
       "      <td>7.4</td>\n",
       "      <td>logd</td>\n",
       "    </tr>\n",
       "    <tr>\n",
       "      <th>2</th>\n",
       "      <td>CS(=O)(=O)c1ccc(-c2cc(C(F)(F)F)ccc2OCC(=O)O)c(...</td>\n",
       "      <td>CS(=O)(=O)c1ccc(-c2cc(C(F)(F)F)ccc2OCC(=O)O)c(...</td>\n",
       "      <td>0.5</td>\n",
       "      <td>CHEMBL1780748</td>\n",
       "      <td>7.4</td>\n",
       "      <td>logd</td>\n",
       "    </tr>\n",
       "    <tr>\n",
       "      <th>3</th>\n",
       "      <td>CCS(=O)(=O)c1ccc(-c2cc(C(F)(F)F)ccc2OCC(=O)O)c...</td>\n",
       "      <td>CCS(=O)(=O)c1ccc(-c2cc(C(F)(F)F)ccc2OCC(=O)O)c...</td>\n",
       "      <td>0.5</td>\n",
       "      <td>CHEMBL1780748</td>\n",
       "      <td>7.4</td>\n",
       "      <td>logd</td>\n",
       "    </tr>\n",
       "    <tr>\n",
       "      <th>4</th>\n",
       "      <td>CCS(=O)(=O)c1ccc(-c2cc(C(F)(F)F)ccc2O[C@@H](C)...</td>\n",
       "      <td>CCS(=O)(=O)c1ccc(-c2cc(C(F)(F)F)ccc2O[C@@H](C)...</td>\n",
       "      <td>0.4</td>\n",
       "      <td>CHEMBL1780748</td>\n",
       "      <td>7.4</td>\n",
       "      <td>logd</td>\n",
       "    </tr>\n",
       "  </tbody>\n",
       "</table>\n",
       "</div>"
      ],
      "text/plain": [
       "                                        Smiles_unify  \\\n",
       "0  C[C@@H]1CN([C@H](c2ccc(CCC(=O)O)cc2)c2cccc(O)c...   \n",
       "1            O=C(O)COc1ccc(C(F)(F)F)cc1-c1ccc(Cl)cc1   \n",
       "2  CS(=O)(=O)c1ccc(-c2cc(C(F)(F)F)ccc2OCC(=O)O)c(...   \n",
       "3  CCS(=O)(=O)c1ccc(-c2cc(C(F)(F)F)ccc2OCC(=O)O)c...   \n",
       "4  CCS(=O)(=O)c1ccc(-c2cc(C(F)(F)F)ccc2O[C@@H](C)...   \n",
       "\n",
       "                                              Smiles  value         source  \\\n",
       "0  C[C@@H]1CN([C@H](c2ccc(CCC(=O)O)cc2)c2cccc(O)c...    2.1   CHEMBL861858   \n",
       "1            O=C(O)COc1ccc(C(F)(F)F)cc1-c1ccc(Cl)cc1    0.9  CHEMBL1780748   \n",
       "2  CS(=O)(=O)c1ccc(-c2cc(C(F)(F)F)ccc2OCC(=O)O)c(...    0.5  CHEMBL1780748   \n",
       "3  CCS(=O)(=O)c1ccc(-c2cc(C(F)(F)F)ccc2OCC(=O)O)c...    0.5  CHEMBL1780748   \n",
       "4  CCS(=O)(=O)c1ccc(-c2cc(C(F)(F)F)ccc2O[C@@H](C)...    0.4  CHEMBL1780748   \n",
       "\n",
       "    ph property  \n",
       "0  7.4     logd  \n",
       "1  7.4     logd  \n",
       "2  7.4     logd  \n",
       "3  7.4     logd  \n",
       "4  7.4     logd  "
      ]
     },
     "execution_count": 6,
     "metadata": {},
     "output_type": "execute_result"
    }
   ],
   "source": [
    "all_data.head()"
   ]
  },
  {
   "cell_type": "code",
   "execution_count": 7,
   "id": "2569a49b-a4be-49b0-b694-575d01f68e50",
   "metadata": {},
   "outputs": [
    {
     "data": {
      "text/plain": [
       "<AxesSubplot:>"
      ]
     },
     "execution_count": 7,
     "metadata": {},
     "output_type": "execute_result"
    },
    {
     "data": {
      "image/png": "[encoded data removed]",
      "text/plain": [
       "<Figure size 432x288 with 1 Axes>"
      ]
     },
     "metadata": {},
     "output_type": "display_data"
    }
   ],
   "source": [
    "all_data['value'].hist()"
   ]
  },
  {
   "cell_type": "markdown",
   "id": "35f67f55",
   "metadata": {},
   "source": [
    "# Further filtering"
   ]
  },
  {
   "cell_type": "code",
   "execution_count": 8,
   "id": "61178621-3581-4d9f-87a1-babf1b2fa7d5",
   "metadata": {},
   "outputs": [],
   "source": [
    "df_remove_bad_data = remove_bad_datapoints(all_data,['Smiles_unify','ph'],'value',fold=np.log10(3))"
   ]
  },
  {
   "cell_type": "code",
   "execution_count": 9,
   "id": "6aaae131",
   "metadata": {},
   "outputs": [
    {
     "data": {
      "image/png": "[encoded data removed]",
      "text/plain": [
       "<Figure size 432x288 with 1 Axes>"
      ]
     },
     "metadata": {},
     "output_type": "display_data"
    }
   ],
   "source": [
    "plot_diagram(df_remove_bad_data, ['Smiles_unify','ph'], 'value')"
   ]
  },
  {
   "cell_type": "code",
   "execution_count": 10,
   "id": "295383a9-3b4a-4be9-9cbb-ebef5c863ce4",
   "metadata": {},
   "outputs": [],
   "source": [
    "df = final_mean_value(df_remove_bad_data,['Smiles_unify','ph'], 'value')"
   ]
  },
  {
   "cell_type": "code",
   "execution_count": 11,
   "id": "67750ef3-7926-4e14-914c-255e72e10709",
   "metadata": {},
   "outputs": [],
   "source": [
    "df['value'] = df['value_mean'].copy()"
   ]
  },
  {
   "cell_type": "code",
   "execution_count": 12,
   "id": "810e76f4-41bc-41d1-8042-36722d8d9d12",
   "metadata": {},
   "outputs": [],
   "source": [
    "df = df.drop_duplicates('Smiles_unify')"
   ]
  },
  {
   "cell_type": "code",
   "execution_count": 16,
   "id": "dfa29138",
   "metadata": {},
   "outputs": [],
   "source": [
    "df = df[['Smiles_unify','value','property']]"
   ]
  },
  {
   "cell_type": "markdown",
   "id": "b6a43d79",
   "metadata": {},
   "source": [
    "# Compound Property analysis"
   ]
  },
  {
   "cell_type": "code",
   "execution_count": 17,
   "id": "edd94427",
   "metadata": {},
   "outputs": [],
   "source": [
    "mol_list = df['Smiles_unify'].map(Chem.MolFromSmiles)"
   ]
  },
  {
   "cell_type": "code",
   "execution_count": 18,
   "id": "38a0c04f",
   "metadata": {},
   "outputs": [
    {
     "data": {
      "image/png": "[encoded data removed]",
      "text/plain": [
       "<Figure size 1152x720 with 6 Axes>"
      ]
     },
     "metadata": {},
     "output_type": "display_data"
    }
   ],
   "source": [
    "compound_property_analysis(mol_list)"
   ]
  },
  {
   "cell_type": "markdown",
   "id": "aef31fc2",
   "metadata": {},
   "source": [
    "# Data Split"
   ]
  },
  {
   "cell_type": "code",
   "execution_count": 19,
   "id": "fef601e0",
   "metadata": {},
   "outputs": [],
   "source": [
    "df =  df.reset_index()"
   ]
  },
  {
   "cell_type": "code",
   "execution_count": 20,
   "id": "eb874ec2",
   "metadata": {},
   "outputs": [
    {
     "name": "stderr",
     "output_type": "stream",
     "text": [
      "100%|███████████████████████████████████| 13068/13068 [00:03<00:00, 3976.53it/s]\n",
      "100%|██████████████████████████████████| 13068/13068 [00:01<00:00, 11077.94it/s]\n"
     ]
    }
   ],
   "source": [
    "\n",
    "train_index,test_index = train_test_split(df['Smiles_unify'].map(Chem.MolFromSmiles),split_scaffold=True)\n",
    "df.loc[train_index,'scaffold_train_test_label'] = 'train'\n",
    "df.loc[test_index,'scaffold_train_test_label'] = 'test'\n",
    "\n",
    "train_index,test_index = train_test_split(df['Smiles_unify'].map(Chem.MolFromSmiles),split_scaffold=False)\n",
    "df.loc[train_index,'random_train_test_label'] = 'train'\n",
    "df.loc[test_index,'random_train_test_label'] = 'test'"
   ]
  },
  {
   "cell_type": "code",
   "execution_count": 21,
   "id": "7d2bc114",
   "metadata": {},
   "outputs": [],
   "source": [
    "df.to_csv('../data/final_datasets/logd_reg_final_data.csv',index=False)"
   ]
  },
  {
   "cell_type": "code",
   "execution_count": 22,
   "id": "35462093",
   "metadata": {},
   "outputs": [
    {
     "data": {
      "text/plain": [
       "(13068, 6)"
      ]
     },
     "execution_count": 22,
     "metadata": {},
     "output_type": "execute_result"
    }
   ],
   "source": [
    "df.shape"
   ]
  },
  {
   "cell_type": "code",
   "execution_count": null,
   "id": "cfe5877d",
   "metadata": {},
   "outputs": [],
   "source": []
  }
 ],
 "metadata": {
  "kernelspec": {
   "display_name": "Python 3 (ipykernel)",
   "language": "python",
   "name": "python3"
  },
  "language_info": {
   "codemirror_mode": {
    "name": "ipython",
    "version": 3
   },
   "file_extension": ".py",
   "mimetype": "text/x-python",
   "name": "python",
   "nbconvert_exporter": "python",
   "pygments_lexer": "ipython3",
   "version": "3.9.6"
  },
  "toc-autonumbering": true
 },
 "nbformat": 4,
 "nbformat_minor": 5
}
