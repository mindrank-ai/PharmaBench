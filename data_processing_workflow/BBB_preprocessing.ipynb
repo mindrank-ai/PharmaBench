{
 "cells": [
  {
   "cell_type": "code",
   "execution_count": 1,
   "id": "77d2532a-5fd0-4324-831a-4802a7c409ba",
   "metadata": {},
   "outputs": [
    {
     "name": "stdout",
     "output_type": "stream",
     "text": [
      "INFO: Pandarallel will run on 20 workers.\n",
      "INFO: Pandarallel will use standard multiprocessing data transfer (pipe) to transfer data between the main process and workers.\n"
     ]
    }
   ],
   "source": [
    "import os\n",
    "import numpy as np\n",
    "import pandas as pd\n",
    "pd.set_option('display.max_columns',50)\n",
    "pd.set_option('display.max_rows',50)\n",
    "pd.options.mode.chained_assignment = None\n",
    "\n",
    "import random\n",
    "random.seed(68)\n",
    "\n",
    "from pandarallel import pandarallel\n",
    "pandarallel.initialize(nb_workers=20)\n",
    "\n",
    "from rdkit import Chem\n",
    "from rdkit.Chem import PandasTools\n"
   ]
  },
  {
   "cell_type": "code",
   "execution_count": 2,
   "id": "5cd7346b-7c91-43c1-94cf-2551c3b99f95",
   "metadata": {},
   "outputs": [],
   "source": [
    "import sys\n",
    "sys.path.append('../')\n",
    "from Draw_fig import Draw_plot\n",
    "from standardization_process import *"
   ]
  },
  {
   "cell_type": "markdown",
   "id": "1f05365a",
   "metadata": {},
   "source": [
    "# Summary for the raw data"
   ]
  },
  {
   "cell_type": "code",
   "execution_count": 4,
   "id": "54ca03c6",
   "metadata": {},
   "outputs": [
    {
     "name": "stderr",
     "output_type": "stream",
     "text": [
      "/Users/xiangluxiao/opt/anaconda3/envs/rdkit/lib/python3.9/site-packages/IPython/core/interactiveshell.py:3441: DtypeWarning: Columns (11) have mixed types.Specify dtype option on import or set low_memory=False.\n",
      "  exec(code_obj, self.user_global_ns, self.user_ns)\n"
     ]
    }
   ],
   "source": [
    "chembl = pd.read_csv('../data/data_mining_results/Blood_Brain_Barrier/chembl_bbb_data_mining.csv')\n",
    "cls_b3db_df = pd.read_table('../data/raw_data/bbb/classification_extended_test.tsv')\n",
    "\n",
    "bbb_martin = pd.read_csv('../data/raw_data/bbb/bbb_martins.tab',delimiter='\\t')\n",
    "bbb_adenot = pd.read_csv('../data/raw_data/bbb/bbb_adenot.tab',delimiter='\\t')"
   ]
  },
  {
   "cell_type": "code",
   "execution_count": 8,
   "id": "ff282e69",
   "metadata": {},
   "outputs": [
    {
     "data": {
      "text/plain": [
       "(14107, 21)"
      ]
     },
     "execution_count": 8,
     "metadata": {},
     "output_type": "execute_result"
    }
   ],
   "source": [
    "chembl = chembl[~chembl['Blood_Brain_Barrier'].isna()]\n",
    "chembl.shape"
   ]
  },
  {
   "cell_type": "code",
   "execution_count": 10,
   "id": "17de62d6",
   "metadata": {},
   "outputs": [
    {
     "data": {
      "text/plain": [
       "1881"
      ]
     },
     "execution_count": 10,
     "metadata": {},
     "output_type": "execute_result"
    }
   ],
   "source": [
    "chembl['Assay ChEMBL ID'].nunique()"
   ]
  },
  {
   "cell_type": "code",
   "execution_count": 11,
   "id": "d5d1c7c1",
   "metadata": {},
   "outputs": [],
   "source": [
    "bbb_df = pd.concat([cls_b3db_df,bbb_martin,bbb_adenot])"
   ]
  },
  {
   "cell_type": "code",
   "execution_count": 12,
   "id": "f5eda1e0",
   "metadata": {},
   "outputs": [
    {
     "data": {
      "text/plain": [
       "(11427, 1628)"
      ]
     },
     "execution_count": 12,
     "metadata": {},
     "output_type": "execute_result"
    }
   ],
   "source": [
    "bbb_df.shape"
   ]
  },
  {
   "cell_type": "markdown",
   "id": "212134d8",
   "metadata": {},
   "source": [
    "### Chembl"
   ]
  },
  {
   "cell_type": "code",
   "execution_count": 15,
   "id": "8995312c",
   "metadata": {},
   "outputs": [],
   "source": [
    "chembl = pd.read_csv('../data/data_mining_results/Blood_Brain_Barrier/chembl_bbb_data_mining.csv')"
   ]
  },
  {
   "cell_type": "code",
   "execution_count": 16,
   "id": "8e8d07af",
   "metadata": {},
   "outputs": [
    {
     "name": "stderr",
     "output_type": "stream",
     "text": [
      "100%|███████████████████████████████████████| 14518/14518 [00:01<00:00, 9954.38it/s]\n"
     ]
    },
    {
     "name": "stdout",
     "output_type": "stream",
     "text": [
      "SANITIZE_NONE    14518\n",
      "Name: Smiles_check, dtype: int64\n"
     ]
    },
    {
     "name": "stderr",
     "output_type": "stream",
     "text": [
      "100%|████████████████████████████████████| 14518/14518 [00:00<00:00, 1173183.29it/s]\n",
      "14518it [00:13, 1067.51it/s]\n"
     ]
    },
    {
     "name": "stdout",
     "output_type": "stream",
     "text": [
      "Metal in Smiles amount: 10\n"
     ]
    },
    {
     "name": "stderr",
     "output_type": "stream",
     "text": [
      "100%|███████████████████████████████████████| 14508/14508 [00:01<00:00, 9917.80it/s]\n"
     ]
    }
   ],
   "source": [
    "chembl = process_stage_1(chembl,'Smiles')"
   ]
  },
  {
   "cell_type": "code",
   "execution_count": 17,
   "id": "3aae5093",
   "metadata": {},
   "outputs": [
    {
     "data": {
      "text/html": [
       "<div>\n",
       "<style scoped>\n",
       "    .dataframe tbody tr th:only-of-type {\n",
       "        vertical-align: middle;\n",
       "    }\n",
       "\n",
       "    .dataframe tbody tr th {\n",
       "        vertical-align: top;\n",
       "    }\n",
       "\n",
       "    .dataframe thead th {\n",
       "        text-align: right;\n",
       "    }\n",
       "</style>\n",
       "<table border=\"1\" class=\"dataframe\">\n",
       "  <thead>\n",
       "    <tr style=\"text-align: right;\">\n",
       "      <th></th>\n",
       "      <th>Molecule ChEMBL ID</th>\n",
       "      <th>Smiles</th>\n",
       "      <th>Standard Type</th>\n",
       "      <th>Standard Relation</th>\n",
       "      <th>Standard Value</th>\n",
       "      <th>Standard Units</th>\n",
       "      <th>Assay ChEMBL ID</th>\n",
       "      <th>Assay Description</th>\n",
       "      <th>Assay Type</th>\n",
       "      <th>BAO Format ID</th>\n",
       "      <th>BAO Label</th>\n",
       "      <th>Document ChEMBL ID</th>\n",
       "      <th>Source Description</th>\n",
       "      <th>Document Journal</th>\n",
       "      <th>Document Year</th>\n",
       "      <th>Cell Line Models</th>\n",
       "      <th>Temperature Conditions</th>\n",
       "      <th>Permeability Assays</th>\n",
       "      <th>pH Levels</th>\n",
       "      <th>Concentration and Dosing Parameters</th>\n",
       "      <th>Blood_Brain_Barrier</th>\n",
       "      <th>Smiles_check</th>\n",
       "      <th>Smiles_removesalt</th>\n",
       "      <th>Smiles_unify</th>\n",
       "    </tr>\n",
       "  </thead>\n",
       "  <tbody>\n",
       "    <tr>\n",
       "      <th>0</th>\n",
       "      <td>CHEMBL314768</td>\n",
       "      <td>Cn1cc(Cc2cn(CC(=O)N(CCN3CCCCC3)Cc3ccc(-c4ccc(C...</td>\n",
       "      <td>Permeability</td>\n",
       "      <td>'='</td>\n",
       "      <td>0.068</td>\n",
       "      <td>cm hr-1</td>\n",
       "      <td>CHEMBL633580</td>\n",
       "      <td>Permeability of compound was evaluated in an a...</td>\n",
       "      <td>A</td>\n",
       "      <td>BAO_0000249</td>\n",
       "      <td>cell membrane format</td>\n",
       "      <td>CHEMBL1135959</td>\n",
       "      <td>Scientific Literature</td>\n",
       "      <td>Bioorg Med Chem Lett</td>\n",
       "      <td>2002.0</td>\n",
       "      <td>artificial membrane permeability</td>\n",
       "      <td>NaN</td>\n",
       "      <td>NaN</td>\n",
       "      <td>NaN</td>\n",
       "      <td>NaN</td>\n",
       "      <td>False</td>\n",
       "      <td>SANITIZE_NONE</td>\n",
       "      <td>Cn1cc(Cc2cn(CC(=O)N(CCN3CCCCC3)Cc3ccc(-c4ccc(C...</td>\n",
       "      <td>Cn1cc(Cc2cn(CC(=O)N(CCN3CCCCC3)Cc3ccc(-c4ccc(C...</td>\n",
       "    </tr>\n",
       "    <tr>\n",
       "      <th>1</th>\n",
       "      <td>CHEMBL31965</td>\n",
       "      <td>C=CC(=O)Nc1cc2c(Nc3ccc(F)c(Cl)c3)ncnc2cc1OCCCN...</td>\n",
       "      <td>Permeability</td>\n",
       "      <td>'='</td>\n",
       "      <td>49.300</td>\n",
       "      <td>*10e6</td>\n",
       "      <td>CHEMBL659173</td>\n",
       "      <td>Absorptive transport in Caco-2 cells in compar...</td>\n",
       "      <td>F</td>\n",
       "      <td>BAO_0000219</td>\n",
       "      <td>cell-based format</td>\n",
       "      <td>CHEMBL1133162</td>\n",
       "      <td>Scientific Literature</td>\n",
       "      <td>J Med Chem</td>\n",
       "      <td>2000.0</td>\n",
       "      <td>NaN</td>\n",
       "      <td>NaN</td>\n",
       "      <td>NaN</td>\n",
       "      <td>NaN</td>\n",
       "      <td>NaN</td>\n",
       "      <td>NaN</td>\n",
       "      <td>SANITIZE_NONE</td>\n",
       "      <td>C=CC(=O)Nc1cc2c(Nc3ccc(F)c(Cl)c3)ncnc2cc1OCCCN...</td>\n",
       "      <td>C=CC(=O)Nc1cc2c(Nc3ccc(F)c(Cl)c3)ncnc2cc1OCCCN...</td>\n",
       "    </tr>\n",
       "    <tr>\n",
       "      <th>2</th>\n",
       "      <td>CHEMBL262993</td>\n",
       "      <td>CC[C@H](C)[C@H](NC(=O)[C@H](CC(=O)O)NC(=O)[C@H...</td>\n",
       "      <td>Permeability</td>\n",
       "      <td>'='</td>\n",
       "      <td>4.700</td>\n",
       "      <td>10e4*cm min-1</td>\n",
       "      <td>CHEMBL653931</td>\n",
       "      <td>Permeability in Caco-2 Cell monolayers for the...</td>\n",
       "      <td>F</td>\n",
       "      <td>BAO_0000219</td>\n",
       "      <td>cell-based format</td>\n",
       "      <td>CHEMBL1130387</td>\n",
       "      <td>Scientific Literature</td>\n",
       "      <td>J Med Chem</td>\n",
       "      <td>1997.0</td>\n",
       "      <td>Caco-2 monolayers</td>\n",
       "      <td>NaN</td>\n",
       "      <td>permeability assay</td>\n",
       "      <td>NaN</td>\n",
       "      <td>NaN</td>\n",
       "      <td>False</td>\n",
       "      <td>SANITIZE_NONE</td>\n",
       "      <td>CC[C@H](C)[C@H](NC(=O)[C@H](CC(=O)O)NC(=O)[C@H...</td>\n",
       "      <td>CC[C@H](C)[C@H](NC(=O)[C@H](CC(=O)O)NC(=O)[C@H...</td>\n",
       "    </tr>\n",
       "    <tr>\n",
       "      <th>3</th>\n",
       "      <td>CHEMBL3431531</td>\n",
       "      <td>NC(=O)c1cccc(-c2n[nH]c([C@H]3CCCCN3C(=O)COc3cc...</td>\n",
       "      <td>Permeability</td>\n",
       "      <td>'='</td>\n",
       "      <td>22.480</td>\n",
       "      <td>nm s-1</td>\n",
       "      <td>CHEMBL3431937</td>\n",
       "      <td>SUPPLEMENTARY: PAMPA permeability assay</td>\n",
       "      <td>P</td>\n",
       "      <td>BAO_0000100</td>\n",
       "      <td>small-molecule physicochemical format</td>\n",
       "      <td>CHEMBL3431459</td>\n",
       "      <td>Deposited Supplementary Bioactivity Data</td>\n",
       "      <td>NaN</td>\n",
       "      <td>NaN</td>\n",
       "      <td>PAMPA</td>\n",
       "      <td>NaN</td>\n",
       "      <td>NaN</td>\n",
       "      <td>NaN</td>\n",
       "      <td>NaN</td>\n",
       "      <td>False</td>\n",
       "      <td>SANITIZE_NONE</td>\n",
       "      <td>NC(=O)c1cccc(-c2n[nH]c([C@H]3CCCCN3C(=O)COc3cc...</td>\n",
       "      <td>NC(=O)c1cccc(-c2n[nH]c([C@H]3CCCCN3C(=O)COc3cc...</td>\n",
       "    </tr>\n",
       "    <tr>\n",
       "      <th>4</th>\n",
       "      <td>CHEMBL3431559</td>\n",
       "      <td>O=C(COc1ccccc1)N1CCCC[C@@H]1c1nc(-c2ccc(=O)[nH...</td>\n",
       "      <td>Permeability</td>\n",
       "      <td>'='</td>\n",
       "      <td>47.500</td>\n",
       "      <td>nm s-1</td>\n",
       "      <td>CHEMBL3431937</td>\n",
       "      <td>SUPPLEMENTARY: PAMPA permeability assay</td>\n",
       "      <td>P</td>\n",
       "      <td>BAO_0000100</td>\n",
       "      <td>small-molecule physicochemical format</td>\n",
       "      <td>CHEMBL3431459</td>\n",
       "      <td>Deposited Supplementary Bioactivity Data</td>\n",
       "      <td>NaN</td>\n",
       "      <td>NaN</td>\n",
       "      <td>PAMPA</td>\n",
       "      <td>NaN</td>\n",
       "      <td>NaN</td>\n",
       "      <td>NaN</td>\n",
       "      <td>NaN</td>\n",
       "      <td>False</td>\n",
       "      <td>SANITIZE_NONE</td>\n",
       "      <td>O=C(COc1ccccc1)N1CCCC[C@@H]1c1nc(-c2ccc(=O)[nH...</td>\n",
       "      <td>O=C(COc1ccccc1)N1CCCC[C@@H]1c1nc(-c2ccc(=O)[nH...</td>\n",
       "    </tr>\n",
       "  </tbody>\n",
       "</table>\n",
       "</div>"
      ],
      "text/plain": [
       "  Molecule ChEMBL ID                                             Smiles  \\\n",
       "0       CHEMBL314768  Cn1cc(Cc2cn(CC(=O)N(CCN3CCCCC3)Cc3ccc(-c4ccc(C...   \n",
       "1        CHEMBL31965  C=CC(=O)Nc1cc2c(Nc3ccc(F)c(Cl)c3)ncnc2cc1OCCCN...   \n",
       "2       CHEMBL262993  CC[C@H](C)[C@H](NC(=O)[C@H](CC(=O)O)NC(=O)[C@H...   \n",
       "3      CHEMBL3431531  NC(=O)c1cccc(-c2n[nH]c([C@H]3CCCCN3C(=O)COc3cc...   \n",
       "4      CHEMBL3431559  O=C(COc1ccccc1)N1CCCC[C@@H]1c1nc(-c2ccc(=O)[nH...   \n",
       "\n",
       "  Standard Type Standard Relation  Standard Value Standard Units  \\\n",
       "0  Permeability               '='           0.068        cm hr-1   \n",
       "1  Permeability               '='          49.300          *10e6   \n",
       "2  Permeability               '='           4.700  10e4*cm min-1   \n",
       "3  Permeability               '='          22.480         nm s-1   \n",
       "4  Permeability               '='          47.500         nm s-1   \n",
       "\n",
       "  Assay ChEMBL ID                                  Assay Description  \\\n",
       "0    CHEMBL633580  Permeability of compound was evaluated in an a...   \n",
       "1    CHEMBL659173  Absorptive transport in Caco-2 cells in compar...   \n",
       "2    CHEMBL653931  Permeability in Caco-2 Cell monolayers for the...   \n",
       "3   CHEMBL3431937            SUPPLEMENTARY: PAMPA permeability assay   \n",
       "4   CHEMBL3431937            SUPPLEMENTARY: PAMPA permeability assay   \n",
       "\n",
       "  Assay Type BAO Format ID                              BAO Label  \\\n",
       "0          A   BAO_0000249                   cell membrane format   \n",
       "1          F   BAO_0000219                      cell-based format   \n",
       "2          F   BAO_0000219                      cell-based format   \n",
       "3          P   BAO_0000100  small-molecule physicochemical format   \n",
       "4          P   BAO_0000100  small-molecule physicochemical format   \n",
       "\n",
       "  Document ChEMBL ID                        Source Description  \\\n",
       "0      CHEMBL1135959                     Scientific Literature   \n",
       "1      CHEMBL1133162                     Scientific Literature   \n",
       "2      CHEMBL1130387                     Scientific Literature   \n",
       "3      CHEMBL3431459  Deposited Supplementary Bioactivity Data   \n",
       "4      CHEMBL3431459  Deposited Supplementary Bioactivity Data   \n",
       "\n",
       "       Document Journal  Document Year                  Cell Line Models  \\\n",
       "0  Bioorg Med Chem Lett         2002.0  artificial membrane permeability   \n",
       "1            J Med Chem         2000.0                               NaN   \n",
       "2            J Med Chem         1997.0                 Caco-2 monolayers   \n",
       "3                   NaN            NaN                             PAMPA   \n",
       "4                   NaN            NaN                             PAMPA   \n",
       "\n",
       "  Temperature Conditions Permeability Assays pH Levels  \\\n",
       "0                    NaN                 NaN       NaN   \n",
       "1                    NaN                 NaN       NaN   \n",
       "2                    NaN  permeability assay       NaN   \n",
       "3                    NaN                 NaN       NaN   \n",
       "4                    NaN                 NaN       NaN   \n",
       "\n",
       "  Concentration and Dosing Parameters Blood_Brain_Barrier   Smiles_check  \\\n",
       "0                                 NaN               False  SANITIZE_NONE   \n",
       "1                                 NaN                 NaN  SANITIZE_NONE   \n",
       "2                                 NaN               False  SANITIZE_NONE   \n",
       "3                                 NaN               False  SANITIZE_NONE   \n",
       "4                                 NaN               False  SANITIZE_NONE   \n",
       "\n",
       "                                   Smiles_removesalt  \\\n",
       "0  Cn1cc(Cc2cn(CC(=O)N(CCN3CCCCC3)Cc3ccc(-c4ccc(C...   \n",
       "1  C=CC(=O)Nc1cc2c(Nc3ccc(F)c(Cl)c3)ncnc2cc1OCCCN...   \n",
       "2  CC[C@H](C)[C@H](NC(=O)[C@H](CC(=O)O)NC(=O)[C@H...   \n",
       "3  NC(=O)c1cccc(-c2n[nH]c([C@H]3CCCCN3C(=O)COc3cc...   \n",
       "4  O=C(COc1ccccc1)N1CCCC[C@@H]1c1nc(-c2ccc(=O)[nH...   \n",
       "\n",
       "                                        Smiles_unify  \n",
       "0  Cn1cc(Cc2cn(CC(=O)N(CCN3CCCCC3)Cc3ccc(-c4ccc(C...  \n",
       "1  C=CC(=O)Nc1cc2c(Nc3ccc(F)c(Cl)c3)ncnc2cc1OCCCN...  \n",
       "2  CC[C@H](C)[C@H](NC(=O)[C@H](CC(=O)O)NC(=O)[C@H...  \n",
       "3  NC(=O)c1cccc(-c2n[nH]c([C@H]3CCCCN3C(=O)COc3cc...  \n",
       "4  O=C(COc1ccccc1)N1CCCC[C@@H]1c1nc(-c2ccc(=O)[nH...  "
      ]
     },
     "execution_count": 17,
     "metadata": {},
     "output_type": "execute_result"
    }
   ],
   "source": [
    "chembl.head()"
   ]
  },
  {
   "cell_type": "code",
   "execution_count": 18,
   "id": "95ab1cd7",
   "metadata": {},
   "outputs": [],
   "source": [
    "chembl = chembl[chembl['Standard Value'] > 0]"
   ]
  },
  {
   "cell_type": "code",
   "execution_count": 19,
   "id": "e0d24b4b",
   "metadata": {},
   "outputs": [],
   "source": [
    "chembl = chembl[chembl['Standard Units'].isin([\"10'-6 cm/s\"  ,'10^-6 cm/s', \"ucm/s\"])]"
   ]
  },
  {
   "cell_type": "code",
   "execution_count": 20,
   "id": "3d83a75f",
   "metadata": {},
   "outputs": [
    {
     "data": {
      "text/plain": [
       "count    8774.000000\n",
       "mean       81.511546\n",
       "std       264.223539\n",
       "min         0.000100\n",
       "25%         2.392500\n",
       "50%         9.670000\n",
       "75%        24.000000\n",
       "max      2900.000000\n",
       "Name: Standard Value, dtype: float64"
      ]
     },
     "execution_count": 20,
     "metadata": {},
     "output_type": "execute_result"
    }
   ],
   "source": [
    "chembl['Standard Value'].describe()"
   ]
  },
  {
   "cell_type": "code",
   "execution_count": 21,
   "id": "5de73285",
   "metadata": {},
   "outputs": [
    {
     "data": {
      "text/plain": [
       "<AxesSubplot:>"
      ]
     },
     "execution_count": 21,
     "metadata": {},
     "output_type": "execute_result"
    },
    {
     "data": {
      "image/png": "[encoded data removed]",
      "text/plain": [
       "<Figure size 432x288 with 1 Axes>"
      ]
     },
     "metadata": {},
     "output_type": "display_data"
    }
   ],
   "source": [
    "chembl['Standard Value'].map(lambda x: np.log(x)).hist(bins=100)"
   ]
  },
  {
   "cell_type": "code",
   "execution_count": 22,
   "id": "431dca8d",
   "metadata": {},
   "outputs": [],
   "source": [
    "chembl['value'] = chembl['Standard Value'].apply(lambda x: 0 if np.log(x) <=0 else 1)"
   ]
  },
  {
   "cell_type": "code",
   "execution_count": 23,
   "id": "1f485b73",
   "metadata": {},
   "outputs": [
    {
     "data": {
      "text/plain": [
       "1    7398\n",
       "0    1376\n",
       "Name: value, dtype: int64"
      ]
     },
     "execution_count": 23,
     "metadata": {},
     "output_type": "execute_result"
    }
   ],
   "source": [
    "chembl['value'].value_counts()"
   ]
  },
  {
   "cell_type": "code",
   "execution_count": 24,
   "id": "a4724b69",
   "metadata": {},
   "outputs": [
    {
     "data": {
      "text/plain": [
       "Index(['Molecule ChEMBL ID', 'Smiles', 'Standard Type', 'Standard Relation',\n",
       "       'Standard Value', 'Standard Units', 'Assay ChEMBL ID',\n",
       "       'Assay Description', 'Assay Type', 'BAO Format ID', 'BAO Label',\n",
       "       'Document ChEMBL ID', 'Source Description', 'Document Journal',\n",
       "       'Document Year', 'Cell Line Models', 'Temperature Conditions',\n",
       "       'Permeability Assays', 'pH Levels',\n",
       "       'Concentration and Dosing Parameters', 'Blood_Brain_Barrier',\n",
       "       'Smiles_check', 'Smiles_removesalt', 'Smiles_unify', 'value'],\n",
       "      dtype='object')"
      ]
     },
     "execution_count": 24,
     "metadata": {},
     "output_type": "execute_result"
    }
   ],
   "source": [
    "chembl.columns"
   ]
  },
  {
   "cell_type": "code",
   "execution_count": 25,
   "id": "2a1f8e58",
   "metadata": {
    "scrolled": true
   },
   "outputs": [
    {
     "data": {
      "text/plain": [
       "PAMPA                               3871\n",
       "Caco2                               1145\n",
       "PAMPA-BBB                            955\n",
       "Caco-2                               394\n",
       "human Caco2                          309\n",
       "                                    ... \n",
       "human Caco2/TC7 UPLC/ESI-MS-MS         1\n",
       "PAMPA pH 6.8                           1\n",
       "pig LLC-PK1 human MDR1                 1\n",
       "artificial membrane permeability       1\n",
       "PAMPA PBS/EtOH                         1\n",
       "Name: Cell Line Models, Length: 107, dtype: int64"
      ]
     },
     "metadata": {},
     "output_type": "display_data"
    },
    {
     "data": {
      "text/plain": [
       "NaN        8716\n",
       "37 degC      30\n",
       "25 degC      28\n",
       "Name: Temperature Conditions, dtype: int64"
      ]
     },
     "metadata": {},
     "output_type": "display_data"
    },
    {
     "data": {
      "text/plain": [
       "NaN                                                      6086\n",
       "apical to basolateral                                    1509\n",
       "basolateral to apical                                     536\n",
       "passive permeability                                       39\n",
       "basal to apical                                            34\n",
       "                                                         ... \n",
       "permeability assessment 50 uM 2 hrs                         1\n",
       "basolateral to apical permeability in MDR1 expression       1\n",
       "permeability at 10 uM at pH 7.4                             1\n",
       "passive apical to basolateral permeability                  1\n",
       "across apical to basolateral side pH 7.4                    1\n",
       "Name: Permeability Assays, Length: 97, dtype: int64"
      ]
     },
     "metadata": {},
     "output_type": "display_data"
    },
    {
     "data": {
      "text/plain": [
       "NaN                               6466\n",
       "7.4                               1653\n",
       "4.0                                140\n",
       "6.5                                100\n",
       "5.0                                 63\n",
       "7.4 PBS                             61\n",
       "7.4 PBS/EtOH (7:3)                  58\n",
       "7.4 PBS/EtOH                        41\n",
       "6.2                                 40\n",
       "PBS/EtOH (70:30)                    29\n",
       "5.5                                 26\n",
       "6.5 to 7.4                          19\n",
       "pH 7.4                              18\n",
       "PBS/EtOH                            12\n",
       "donor 5.0 and acceptor 7.4           8\n",
       "donor 6.2 and acceptor 7.4           7\n",
       "3.0                                  6\n",
       "basolateral 6.5 to apical 7.4        5\n",
       "donor 7.4 and acceptor 7.4           4\n",
       "apical 6.5 and basolateral 7.4       4\n",
       "pH 5.0                               3\n",
       "donor and acceptor 7.4               3\n",
       "pH 6.5 to 7.4                        2\n",
       "pH 6 to 7.4                          2\n",
       "7.4 HBSS                             2\n",
       "5 to 7.4                             1\n",
       "6.8                                  1\n",
       "Name: pH Levels, dtype: int64"
      ]
     },
     "metadata": {},
     "output_type": "display_data"
    },
    {
     "data": {
      "text/plain": [
       "NaN                       5801\n",
       "10 uM                      223\n",
       "25 ug/ml after 18 hrs      169\n",
       "after 30 mins              140\n",
       "100 ug/ml after 10 hrs     125\n",
       "                          ... \n",
       "50 uM at pH 7.4              1\n",
       "100 uM in PBS pH 7.4         1\n",
       "20 uM for 120 mins           1\n",
       "5 uM after 5 hrs             1\n",
       "pH 5.0 and 7.4 buffer        1\n",
       "Name: Concentration and Dosing Parameters, Length: 172, dtype: int64"
      ]
     },
     "metadata": {},
     "output_type": "display_data"
    },
    {
     "data": {
      "text/plain": [
       "False    7510\n",
       "True     1090\n",
       "NaN       174\n",
       "Name: Blood_Brain_Barrier, dtype: int64"
      ]
     },
     "metadata": {},
     "output_type": "display_data"
    }
   ],
   "source": [
    "for experiment in [  'Cell Line Models', 'Temperature Conditions',\n",
    "       'Permeability Assays', 'pH Levels',\n",
    "       'Concentration and Dosing Parameters', 'Blood_Brain_Barrier']:\n",
    "    display(chembl[experiment].value_counts(dropna=False))"
   ]
  },
  {
   "cell_type": "code",
   "execution_count": 28,
   "id": "b008fc8e",
   "metadata": {},
   "outputs": [
    {
     "data": {
      "image/png": "[encoded data removed]",
      "text/plain": [
       "<Figure size 432x288 with 2 Axes>"
      ]
     },
     "metadata": {},
     "output_type": "display_data"
    }
   ],
   "source": [
    "plot_classification_diagram(chembl,['Smiles_unify'], 'value')"
   ]
  },
  {
   "cell_type": "code",
   "execution_count": 30,
   "id": "5d4ecb2a",
   "metadata": {},
   "outputs": [
    {
     "data": {
      "text/plain": [
       "PAMPA-BBB                        955\n",
       "PAMPA-BBB PBS/EtOH                45\n",
       "BBB-PAMPA                         29\n",
       "PAMPA BBB                         25\n",
       "PAMPA-BBB PVDF membrane            9\n",
       "PAMPA-BBB HPLC-UV                  6\n",
       "PAMPA-BBB UV                       5\n",
       "PAMPA-BBB porcine brain lipid      3\n",
       "Name: Cell Line Models, dtype: int64"
      ]
     },
     "execution_count": 30,
     "metadata": {},
     "output_type": "execute_result"
    }
   ],
   "source": [
    "chembl['Cell Line Models'] = chembl['Cell Line Models'].fillna('unknown')\n",
    "chembl = chembl[chembl['Cell Line Models'].apply(lambda x: x.lower()).str.contains('bbb')]\n",
    "chembl['Cell Line Models'].value_counts()"
   ]
  },
  {
   "cell_type": "code",
   "execution_count": 31,
   "id": "90d136e3",
   "metadata": {},
   "outputs": [
    {
     "data": {
      "text/plain": [
       "unknown    1077\n",
       "Name: Temperature Conditions, dtype: int64"
      ]
     },
     "execution_count": 31,
     "metadata": {},
     "output_type": "execute_result"
    }
   ],
   "source": [
    "chembl['Temperature Conditions'] = chembl['Temperature Conditions'].fillna('unknown')\n",
    "chembl['Temperature Conditions'].value_counts()"
   ]
  },
  {
   "cell_type": "code",
   "execution_count": 32,
   "id": "45674d76",
   "metadata": {},
   "outputs": [
    {
     "data": {
      "text/plain": [
       "unknown                                       974\n",
       "compound dilution permeability                 21\n",
       "dissolved in PBS/EtOH mixture permeability     20\n",
       "permeability after dilution with PBS/EtOH      20\n",
       "BBB assay                                      20\n",
       "PAMPA-BBB                                       5\n",
       "passive permeability                            4\n",
       "diffusion porcine brain lipid                   3\n",
       "BBB permeability                                3\n",
       "Name: Permeability Assays, dtype: int64"
      ]
     },
     "execution_count": 32,
     "metadata": {},
     "output_type": "execute_result"
    }
   ],
   "source": [
    "chembl['Permeability Assays'] = chembl['Permeability Assays'].fillna('unknown')\n",
    "chembl = chembl[~chembl['Permeability Assays'].apply(lambda x: x.lower()).str.contains('effective permeability')]\n",
    "chembl['Permeability Assays'].value_counts()"
   ]
  },
  {
   "cell_type": "code",
   "execution_count": 33,
   "id": "99cdddb2",
   "metadata": {},
   "outputs": [
    {
     "data": {
      "text/plain": [
       "unknown                   651\n",
       "7.4                       209\n",
       "7.4 PBS                    61\n",
       "7.4 PBS/EtOH (7:3)         58\n",
       "7.4 PBS/EtOH               41\n",
       "PBS/EtOH (70:30)           29\n",
       "PBS/EtOH                   12\n",
       "pH 7.4                      6\n",
       "donor and acceptor 7.4      3\n",
       "Name: pH Levels, dtype: int64"
      ]
     },
     "execution_count": 33,
     "metadata": {},
     "output_type": "execute_result"
    }
   ],
   "source": [
    "chembl['pH Levels'] = chembl['pH Levels'].fillna('unknown')\n",
    "chembl['pH Levels'].value_counts()"
   ]
  },
  {
   "cell_type": "code",
   "execution_count": 34,
   "id": "5c11f43b",
   "metadata": {},
   "outputs": [
    {
     "data": {
      "text/plain": [
       "unknown                                   299\n",
       "25 ug/ml after 18 hrs                      92\n",
       "incubated for 18 hrs                       87\n",
       "100 ug/ml after 18 hrs                     61\n",
       "after 16 hrs                               53\n",
       "after 18 hrs                               42\n",
       "100 ug/ml after 10 hrs                     34\n",
       "1 mg/ml after 4 hrs                        28\n",
       "in PBS/EtOH (7:3)                          24\n",
       "after dilution in PBS/EtOH                 21\n",
       "100 ug/ml after 12 hrs                     19\n",
       "dissolved in PBS/EtOH (80:20)              18\n",
       "5 mg/ml after 18 hrs                       18\n",
       "25 ug/ml incubated for 16 hrs              16\n",
       "100 ug/ml after 16 hrs                     16\n",
       "after 2 hrs and 30 mins                    15\n",
       "50 ug/ml in PBS:EtOH                       15\n",
       "100 uM after 60 mins                       13\n",
       "25 ug/ml                                   13\n",
       "incubated for 10 hrs                       13\n",
       "after 240 mins                             13\n",
       "100 ug/ml by PAMPA-BBB                     13\n",
       "after 2.5 hrs                              12\n",
       "200 uL after 18 hrs                        11\n",
       "incubated for 165 mins                     11\n",
       "10 uM incubated for 4 hrs                  10\n",
       "after 2 hrs 45 mins                         9\n",
       "measured after 18 hrs                       9\n",
       "100 ug/ml incubated for 18 hrs              9\n",
       "in PBS/EtOH (7:3) incubated for 16 hrs      9\n",
       "200 uL after 16 hrs                         8\n",
       "at 100 ul after 2 hrs and 30 mins           7\n",
       "100 ug/mL after 10 hrs                      6\n",
       "500 uM incubated for 18 hrs                 6\n",
       "incubated for 2.5 hrs                       5\n",
       "incubated for 16 hrs                        5\n",
       "100 ug/mL                                   5\n",
       "500 uM incubated for 120 mins               5\n",
       "measured after 16 hrs                       4\n",
       "500 uM after 4 hrs                          4\n",
       "100 ug/ml in PBS/EtOH (70:30)               3\n",
       "At pH 7.4 after 5 hrs                       3\n",
       "diffusion assessment                        3\n",
       "60 uM at pH 7.4 for 1 hr                    2\n",
       "100 uM in PBS pH 7.4                        1\n",
       "Name: Concentration and Dosing Parameters, dtype: int64"
      ]
     },
     "execution_count": 34,
     "metadata": {},
     "output_type": "execute_result"
    }
   ],
   "source": [
    "chembl['Concentration and Dosing Parameters'] = chembl['Concentration and Dosing Parameters'].fillna('unknown')\n",
    "chembl['Concentration and Dosing Parameters'].value_counts()"
   ]
  },
  {
   "cell_type": "code",
   "execution_count": 35,
   "id": "0b638b22",
   "metadata": {},
   "outputs": [],
   "source": [
    "chembl['Blood_Brain_Barrier'] = chembl['Blood_Brain_Barrier'].fillna(False)\n",
    "\n",
    "chembl = chembl[chembl['Blood_Brain_Barrier']]\n"
   ]
  },
  {
   "cell_type": "code",
   "execution_count": 36,
   "id": "698884d5",
   "metadata": {},
   "outputs": [
    {
     "data": {
      "image/png": "[encoded data removed]",
      "text/plain": [
       "<Figure size 432x288 with 2 Axes>"
      ]
     },
     "metadata": {},
     "output_type": "display_data"
    }
   ],
   "source": [
    "plot_classification_diagram(chembl,['Smiles_unify','Concentration and Dosing Parameters'], 'value')"
   ]
  },
  {
   "cell_type": "code",
   "execution_count": 37,
   "id": "671bda9e",
   "metadata": {},
   "outputs": [],
   "source": [
    "chembl = chembl[['Smiles','value','Assay ChEMBL ID']]\n",
    "chembl['property'] = 'bbb'"
   ]
  },
  {
   "cell_type": "code",
   "execution_count": 38,
   "id": "fe2e2031",
   "metadata": {},
   "outputs": [],
   "source": [
    "chembl.columns = ['Smiles','value','source','property']"
   ]
  },
  {
   "cell_type": "code",
   "execution_count": 39,
   "id": "f85e7242",
   "metadata": {},
   "outputs": [
    {
     "data": {
      "text/html": [
       "<div>\n",
       "<style scoped>\n",
       "    .dataframe tbody tr th:only-of-type {\n",
       "        vertical-align: middle;\n",
       "    }\n",
       "\n",
       "    .dataframe tbody tr th {\n",
       "        vertical-align: top;\n",
       "    }\n",
       "\n",
       "    .dataframe thead th {\n",
       "        text-align: right;\n",
       "    }\n",
       "</style>\n",
       "<table border=\"1\" class=\"dataframe\">\n",
       "  <thead>\n",
       "    <tr style=\"text-align: right;\">\n",
       "      <th></th>\n",
       "      <th>Smiles</th>\n",
       "      <th>value</th>\n",
       "      <th>source</th>\n",
       "      <th>property</th>\n",
       "    </tr>\n",
       "  </thead>\n",
       "  <tbody>\n",
       "  </tbody>\n",
       "</table>\n",
       "</div>"
      ],
      "text/plain": [
       "Empty DataFrame\n",
       "Columns: [Smiles, value, source, property]\n",
       "Index: []"
      ]
     },
     "execution_count": 39,
     "metadata": {},
     "output_type": "execute_result"
    }
   ],
   "source": [
    "chembl[chembl['value'].isna()]"
   ]
  },
  {
   "cell_type": "code",
   "execution_count": 40,
   "id": "0e11df23",
   "metadata": {},
   "outputs": [
    {
     "data": {
      "text/plain": [
       "<AxesSubplot:>"
      ]
     },
     "execution_count": 40,
     "metadata": {},
     "output_type": "execute_result"
    },
    {
     "data": {
      "image/png": "[encoded data removed]",
      "text/plain": [
       "<Figure size 432x288 with 1 Axes>"
      ]
     },
     "metadata": {},
     "output_type": "display_data"
    }
   ],
   "source": [
    "chembl['value'].hist()"
   ]
  },
  {
   "cell_type": "markdown",
   "id": "33721743-e51c-4530-a55a-788b05fc0a4e",
   "metadata": {},
   "source": [
    "## B3DB"
   ]
  },
  {
   "cell_type": "code",
   "execution_count": 45,
   "id": "a782fbb0-905c-4706-9d60-72cb8db49180",
   "metadata": {},
   "outputs": [
    {
     "name": "stderr",
     "output_type": "stream",
     "text": [
      "/Users/xiangluxiao/opt/anaconda3/envs/rdkit/lib/python3.9/site-packages/IPython/core/interactiveshell.py:3441: DtypeWarning: Columns (11) have mixed types.Specify dtype option on import or set low_memory=False.\n",
      "  exec(code_obj, self.user_global_ns, self.user_ns)\n"
     ]
    }
   ],
   "source": [
    "cls_b3db_df = pd.read_table('../data/raw_data/bbb/classification_extended_test.tsv')"
   ]
  },
  {
   "cell_type": "code",
   "execution_count": 46,
   "id": "22f28898",
   "metadata": {},
   "outputs": [
    {
     "data": {
      "text/html": [
       "<div>\n",
       "<style scoped>\n",
       "    .dataframe tbody tr th:only-of-type {\n",
       "        vertical-align: middle;\n",
       "    }\n",
       "\n",
       "    .dataframe tbody tr th {\n",
       "        vertical-align: top;\n",
       "    }\n",
       "\n",
       "    .dataframe thead th {\n",
       "        text-align: right;\n",
       "    }\n",
       "</style>\n",
       "<table border=\"1\" class=\"dataframe\">\n",
       "  <thead>\n",
       "    <tr style=\"text-align: right;\">\n",
       "      <th></th>\n",
       "      <th>NO.</th>\n",
       "      <th>compound_name</th>\n",
       "      <th>IUPAC_name</th>\n",
       "      <th>SMILES</th>\n",
       "      <th>CID</th>\n",
       "      <th>logBB</th>\n",
       "      <th>BBB+/BBB-</th>\n",
       "      <th>Inchi</th>\n",
       "      <th>threshold</th>\n",
       "      <th>reference</th>\n",
       "      <th>group</th>\n",
       "      <th>comments</th>\n",
       "      <th>ABC</th>\n",
       "      <th>ABCGG</th>\n",
       "      <th>nAcid</th>\n",
       "      <th>nBase</th>\n",
       "      <th>SpAbs_A</th>\n",
       "      <th>SpMax_A</th>\n",
       "      <th>SpDiam_A</th>\n",
       "      <th>SpAD_A</th>\n",
       "      <th>SpMAD_A</th>\n",
       "      <th>LogEE_A</th>\n",
       "      <th>VE1_A</th>\n",
       "      <th>VE2_A</th>\n",
       "      <th>VE3_A</th>\n",
       "      <th>...</th>\n",
       "      <th>MWC05</th>\n",
       "      <th>MWC06</th>\n",
       "      <th>MWC07</th>\n",
       "      <th>MWC08</th>\n",
       "      <th>MWC09</th>\n",
       "      <th>MWC10</th>\n",
       "      <th>TMWC10</th>\n",
       "      <th>SRW02</th>\n",
       "      <th>SRW03</th>\n",
       "      <th>SRW04</th>\n",
       "      <th>SRW05</th>\n",
       "      <th>SRW06</th>\n",
       "      <th>SRW07</th>\n",
       "      <th>SRW08</th>\n",
       "      <th>SRW09</th>\n",
       "      <th>SRW10</th>\n",
       "      <th>TSRW10</th>\n",
       "      <th>MW</th>\n",
       "      <th>AMW</th>\n",
       "      <th>WPath</th>\n",
       "      <th>WPol</th>\n",
       "      <th>Zagreb1</th>\n",
       "      <th>Zagreb2</th>\n",
       "      <th>mZagreb1</th>\n",
       "      <th>mZagreb2</th>\n",
       "    </tr>\n",
       "  </thead>\n",
       "  <tbody>\n",
       "    <tr>\n",
       "      <th>0</th>\n",
       "      <td>1</td>\n",
       "      <td>sulphasalazine</td>\n",
       "      <td>2-hydroxy-5-[[4-(pyridin-2-ylsulfamoyl)phenyl]...</td>\n",
       "      <td>O=C(O)c1cc(N=Nc2ccc(S(=O)(=O)Nc3ccccn3)cc2)ccc1O</td>\n",
       "      <td>5339.0</td>\n",
       "      <td>-2.69</td>\n",
       "      <td>BBB-</td>\n",
       "      <td>InChI=1S/C18H14N4O5S/c23-16-9-6-13(11-15(16)18...</td>\n",
       "      <td>NaN</td>\n",
       "      <td>R2|R2|R25|R46|</td>\n",
       "      <td>A</td>\n",
       "      <td>NaN</td>\n",
       "      <td>21.716720</td>\n",
       "      <td>16.307343</td>\n",
       "      <td>1</td>\n",
       "      <td>0</td>\n",
       "      <td>35.289886</td>\n",
       "      <td>2.380530</td>\n",
       "      <td>4.761059</td>\n",
       "      <td>35.289886</td>\n",
       "      <td>1.260353</td>\n",
       "      <td>4.249578</td>\n",
       "      <td>4.471033</td>\n",
       "      <td>0.159680</td>\n",
       "      <td>2.527239</td>\n",
       "      <td>...</td>\n",
       "      <td>7.512618</td>\n",
       "      <td>8.382289</td>\n",
       "      <td>9.229849</td>\n",
       "      <td>10.100328</td>\n",
       "      <td>10.950649</td>\n",
       "      <td>11.821814</td>\n",
       "      <td>133.447165</td>\n",
       "      <td>4.110874</td>\n",
       "      <td>0.0</td>\n",
       "      <td>5.433722</td>\n",
       "      <td>0.000000</td>\n",
       "      <td>6.946014</td>\n",
       "      <td>0.000000</td>\n",
       "      <td>8.538759</td>\n",
       "      <td>0.000000</td>\n",
       "      <td>10.171643</td>\n",
       "      <td>63.201012</td>\n",
       "      <td>398.068491</td>\n",
       "      <td>9.477821</td>\n",
       "      <td>2428</td>\n",
       "      <td>42</td>\n",
       "      <td>144</td>\n",
       "      <td>165</td>\n",
       "      <td>9.590278</td>\n",
       "      <td>6.097222</td>\n",
       "    </tr>\n",
       "    <tr>\n",
       "      <th>1</th>\n",
       "      <td>2</td>\n",
       "      <td>moxalactam</td>\n",
       "      <td>7-[[2-carboxy-2-(4-hydroxyphenyl)acetyl]amino]...</td>\n",
       "      <td>COC1(NC(=O)C(C(=O)O)c2ccc(O)cc2)C(=O)N2C(C(=O)...</td>\n",
       "      <td>3889.0</td>\n",
       "      <td>-2.52</td>\n",
       "      <td>BBB-</td>\n",
       "      <td>InChI=1S/C20H20N6O9S/c1-25-19(22-23-24-25)36-8...</td>\n",
       "      <td>NaN</td>\n",
       "      <td>R25|</td>\n",
       "      <td>A</td>\n",
       "      <td>NaN</td>\n",
       "      <td>27.965103</td>\n",
       "      <td>22.915028</td>\n",
       "      <td>4</td>\n",
       "      <td>0</td>\n",
       "      <td>45.430282</td>\n",
       "      <td>2.648849</td>\n",
       "      <td>5.297577</td>\n",
       "      <td>45.430282</td>\n",
       "      <td>1.261952</td>\n",
       "      <td>4.519812</td>\n",
       "      <td>4.024851</td>\n",
       "      <td>0.111801</td>\n",
       "      <td>2.673422</td>\n",
       "      <td>...</td>\n",
       "      <td>8.005367</td>\n",
       "      <td>8.942330</td>\n",
       "      <td>9.872358</td>\n",
       "      <td>10.817355</td>\n",
       "      <td>11.757196</td>\n",
       "      <td>12.708831</td>\n",
       "      <td>155.628995</td>\n",
       "      <td>4.369448</td>\n",
       "      <td>0.0</td>\n",
       "      <td>5.765191</td>\n",
       "      <td>2.397895</td>\n",
       "      <td>7.379632</td>\n",
       "      <td>4.595120</td>\n",
       "      <td>9.103979</td>\n",
       "      <td>6.529419</td>\n",
       "      <td>10.893010</td>\n",
       "      <td>87.033695</td>\n",
       "      <td>520.101247</td>\n",
       "      <td>9.287522</td>\n",
       "      <td>4114</td>\n",
       "      <td>62</td>\n",
       "      <td>194</td>\n",
       "      <td>237</td>\n",
       "      <td>13.756944</td>\n",
       "      <td>7.916667</td>\n",
       "    </tr>\n",
       "    <tr>\n",
       "      <th>2</th>\n",
       "      <td>3</td>\n",
       "      <td>clioquinol</td>\n",
       "      <td>5-chloro-7-iodoquinolin-8-ol</td>\n",
       "      <td>Oc1c(I)cc(Cl)c2cccnc12</td>\n",
       "      <td>2788.0</td>\n",
       "      <td>-2.40</td>\n",
       "      <td>BBB-</td>\n",
       "      <td>InChI=1S/C9H5ClINO/c10-6-4-7(11)9(13)8-5(6)2-1...</td>\n",
       "      <td>NaN</td>\n",
       "      <td>R18|R26|R27|</td>\n",
       "      <td>A</td>\n",
       "      <td>NaN</td>\n",
       "      <td>10.065904</td>\n",
       "      <td>8.927318</td>\n",
       "      <td>0</td>\n",
       "      <td>0</td>\n",
       "      <td>16.678194</td>\n",
       "      <td>2.425683</td>\n",
       "      <td>4.851365</td>\n",
       "      <td>16.678194</td>\n",
       "      <td>1.282938</td>\n",
       "      <td>3.505118</td>\n",
       "      <td>3.363390</td>\n",
       "      <td>0.258722</td>\n",
       "      <td>1.475314</td>\n",
       "      <td>...</td>\n",
       "      <td>6.857514</td>\n",
       "      <td>7.745436</td>\n",
       "      <td>8.628198</td>\n",
       "      <td>9.516280</td>\n",
       "      <td>10.400164</td>\n",
       "      <td>11.288093</td>\n",
       "      <td>96.742426</td>\n",
       "      <td>3.367296</td>\n",
       "      <td>0.0</td>\n",
       "      <td>4.691348</td>\n",
       "      <td>0.000000</td>\n",
       "      <td>6.244167</td>\n",
       "      <td>0.000000</td>\n",
       "      <td>7.904335</td>\n",
       "      <td>0.000000</td>\n",
       "      <td>9.618402</td>\n",
       "      <td>44.825548</td>\n",
       "      <td>304.910439</td>\n",
       "      <td>16.939469</td>\n",
       "      <td>218</td>\n",
       "      <td>21</td>\n",
       "      <td>68</td>\n",
       "      <td>81</td>\n",
       "      <td>4.805556</td>\n",
       "      <td>2.861111</td>\n",
       "    </tr>\n",
       "    <tr>\n",
       "      <th>3</th>\n",
       "      <td>4</td>\n",
       "      <td>bbcpd11 (cimetidine analog) (y-g13)</td>\n",
       "      <td>2-[2-[(3-bromopyridin-2-yl)methylsulfanyl]ethy...</td>\n",
       "      <td>CCNC(=NCCSCc1ncccc1Br)NC#N</td>\n",
       "      <td>14022517.0</td>\n",
       "      <td>-2.15</td>\n",
       "      <td>BBB-</td>\n",
       "      <td>InChI=1S/C12H16BrN5S/c1-2-15-12(18-9-14)17-6-7...</td>\n",
       "      <td>NaN</td>\n",
       "      <td>R2|R2|R8|R40|R2|R2|R2|R2|R18|R21|R25|R25|R26|R...</td>\n",
       "      <td>A</td>\n",
       "      <td>NaN</td>\n",
       "      <td>13.503979</td>\n",
       "      <td>11.612996</td>\n",
       "      <td>0</td>\n",
       "      <td>3</td>\n",
       "      <td>23.641772</td>\n",
       "      <td>2.237342</td>\n",
       "      <td>4.474683</td>\n",
       "      <td>23.641772</td>\n",
       "      <td>1.244304</td>\n",
       "      <td>3.806689</td>\n",
       "      <td>3.290631</td>\n",
       "      <td>0.173191</td>\n",
       "      <td>1.832933</td>\n",
       "      <td>...</td>\n",
       "      <td>6.734592</td>\n",
       "      <td>7.523481</td>\n",
       "      <td>8.305731</td>\n",
       "      <td>9.097060</td>\n",
       "      <td>9.882417</td>\n",
       "      <td>10.675330</td>\n",
       "      <td>105.772026</td>\n",
       "      <td>3.663562</td>\n",
       "      <td>0.0</td>\n",
       "      <td>4.844187</td>\n",
       "      <td>0.000000</td>\n",
       "      <td>6.216606</td>\n",
       "      <td>0.000000</td>\n",
       "      <td>7.684784</td>\n",
       "      <td>0.000000</td>\n",
       "      <td>9.201199</td>\n",
       "      <td>50.610337</td>\n",
       "      <td>341.030979</td>\n",
       "      <td>9.743742</td>\n",
       "      <td>898</td>\n",
       "      <td>22</td>\n",
       "      <td>82</td>\n",
       "      <td>88</td>\n",
       "      <td>6.583333</td>\n",
       "      <td>4.694444</td>\n",
       "    </tr>\n",
       "    <tr>\n",
       "      <th>4</th>\n",
       "      <td>5</td>\n",
       "      <td>schembl614298</td>\n",
       "      <td>(2s,3s,4s,5r)-6-[[(4r,4ar,7s,7ar,12bs)-7-hydro...</td>\n",
       "      <td>CN1CC[C@]23c4c5ccc(OC6O[C@H](C(=O)O)[C@@H](O)[...</td>\n",
       "      <td>18595497.0</td>\n",
       "      <td>-2.15</td>\n",
       "      <td>BBB-</td>\n",
       "      <td>InChI=1S/C23H27NO9/c1-24-7-6-23-10-3-4-12(25)2...</td>\n",
       "      <td>NaN</td>\n",
       "      <td>R25|</td>\n",
       "      <td>A</td>\n",
       "      <td>NaN</td>\n",
       "      <td>27.006116</td>\n",
       "      <td>19.957433</td>\n",
       "      <td>1</td>\n",
       "      <td>1</td>\n",
       "      <td>43.435426</td>\n",
       "      <td>2.709582</td>\n",
       "      <td>5.329713</td>\n",
       "      <td>43.435426</td>\n",
       "      <td>1.316225</td>\n",
       "      <td>4.477453</td>\n",
       "      <td>4.332407</td>\n",
       "      <td>0.131285</td>\n",
       "      <td>2.660046</td>\n",
       "      <td>...</td>\n",
       "      <td>8.159089</td>\n",
       "      <td>9.132054</td>\n",
       "      <td>10.103854</td>\n",
       "      <td>11.081912</td>\n",
       "      <td>12.059224</td>\n",
       "      <td>13.040978</td>\n",
       "      <td>153.299550</td>\n",
       "      <td>4.343805</td>\n",
       "      <td>0.0</td>\n",
       "      <td>5.771441</td>\n",
       "      <td>2.397895</td>\n",
       "      <td>7.415175</td>\n",
       "      <td>4.948760</td>\n",
       "      <td>9.171288</td>\n",
       "      <td>7.309881</td>\n",
       "      <td>10.992336</td>\n",
       "      <td>85.350582</td>\n",
       "      <td>461.168581</td>\n",
       "      <td>7.686143</td>\n",
       "      <td>2850</td>\n",
       "      <td>74</td>\n",
       "      <td>198</td>\n",
       "      <td>254</td>\n",
       "      <td>11.229167</td>\n",
       "      <td>6.847222</td>\n",
       "    </tr>\n",
       "    <tr>\n",
       "      <th>...</th>\n",
       "      <td>...</td>\n",
       "      <td>...</td>\n",
       "      <td>...</td>\n",
       "      <td>...</td>\n",
       "      <td>...</td>\n",
       "      <td>...</td>\n",
       "      <td>...</td>\n",
       "      <td>...</td>\n",
       "      <td>...</td>\n",
       "      <td>...</td>\n",
       "      <td>...</td>\n",
       "      <td>...</td>\n",
       "      <td>...</td>\n",
       "      <td>...</td>\n",
       "      <td>...</td>\n",
       "      <td>...</td>\n",
       "      <td>...</td>\n",
       "      <td>...</td>\n",
       "      <td>...</td>\n",
       "      <td>...</td>\n",
       "      <td>...</td>\n",
       "      <td>...</td>\n",
       "      <td>...</td>\n",
       "      <td>...</td>\n",
       "      <td>...</td>\n",
       "      <td>...</td>\n",
       "      <td>...</td>\n",
       "      <td>...</td>\n",
       "      <td>...</td>\n",
       "      <td>...</td>\n",
       "      <td>...</td>\n",
       "      <td>...</td>\n",
       "      <td>...</td>\n",
       "      <td>...</td>\n",
       "      <td>...</td>\n",
       "      <td>...</td>\n",
       "      <td>...</td>\n",
       "      <td>...</td>\n",
       "      <td>...</td>\n",
       "      <td>...</td>\n",
       "      <td>...</td>\n",
       "      <td>...</td>\n",
       "      <td>...</td>\n",
       "      <td>...</td>\n",
       "      <td>...</td>\n",
       "      <td>...</td>\n",
       "      <td>...</td>\n",
       "      <td>...</td>\n",
       "      <td>...</td>\n",
       "      <td>...</td>\n",
       "      <td>...</td>\n",
       "    </tr>\n",
       "    <tr>\n",
       "      <th>7802</th>\n",
       "      <td>7803</td>\n",
       "      <td>antazoline</td>\n",
       "      <td>n-benzyl-n-(4,5-dihydro-1h-imidazol-2-ylmethyl...</td>\n",
       "      <td>c1ccc(CN(CC2=NCCN2)c2ccccc2)cc1</td>\n",
       "      <td>2200.0</td>\n",
       "      <td>NaN</td>\n",
       "      <td>BBB-</td>\n",
       "      <td>InChI=1S/C17H19N3/c1-3-7-15(8-4-1)13-20(14-17-...</td>\n",
       "      <td>NaN</td>\n",
       "      <td>R14|R23|R50|</td>\n",
       "      <td>D</td>\n",
       "      <td>NaN</td>\n",
       "      <td>15.515909</td>\n",
       "      <td>12.987974</td>\n",
       "      <td>0</td>\n",
       "      <td>2</td>\n",
       "      <td>26.938755</td>\n",
       "      <td>2.326623</td>\n",
       "      <td>4.635214</td>\n",
       "      <td>26.938755</td>\n",
       "      <td>1.346938</td>\n",
       "      <td>3.923960</td>\n",
       "      <td>4.106193</td>\n",
       "      <td>0.205310</td>\n",
       "      <td>2.105644</td>\n",
       "      <td>...</td>\n",
       "      <td>7.082549</td>\n",
       "      <td>7.921898</td>\n",
       "      <td>8.756053</td>\n",
       "      <td>9.599066</td>\n",
       "      <td>10.436847</td>\n",
       "      <td>11.281510</td>\n",
       "      <td>113.373744</td>\n",
       "      <td>3.806662</td>\n",
       "      <td>0.0</td>\n",
       "      <td>5.056246</td>\n",
       "      <td>2.397895</td>\n",
       "      <td>6.496775</td>\n",
       "      <td>4.442651</td>\n",
       "      <td>8.018625</td>\n",
       "      <td>6.259581</td>\n",
       "      <td>9.582249</td>\n",
       "      <td>66.060685</td>\n",
       "      <td>265.157898</td>\n",
       "      <td>6.798920</td>\n",
       "      <td>829</td>\n",
       "      <td>24</td>\n",
       "      <td>100</td>\n",
       "      <td>113</td>\n",
       "      <td>4.444444</td>\n",
       "      <td>4.527778</td>\n",
       "    </tr>\n",
       "    <tr>\n",
       "      <th>7803</th>\n",
       "      <td>7804</td>\n",
       "      <td>emedastine</td>\n",
       "      <td>1-(2-ethoxyethyl)-2-(4-methyl-1,4-diazepan-1-y...</td>\n",
       "      <td>CCOCCn1c(N2CCCN(C)CC2)nc2ccccc21</td>\n",
       "      <td>3219.0</td>\n",
       "      <td>NaN</td>\n",
       "      <td>BBB+</td>\n",
       "      <td>InChI=1S/C17H26N4O/c1-3-22-14-13-21-16-8-5-4-7...</td>\n",
       "      <td>NaN</td>\n",
       "      <td>R15|R23|R50|</td>\n",
       "      <td>D</td>\n",
       "      <td>NaN</td>\n",
       "      <td>16.918192</td>\n",
       "      <td>13.952862</td>\n",
       "      <td>0</td>\n",
       "      <td>1</td>\n",
       "      <td>28.885493</td>\n",
       "      <td>2.483200</td>\n",
       "      <td>4.768669</td>\n",
       "      <td>28.885493</td>\n",
       "      <td>1.312977</td>\n",
       "      <td>4.018574</td>\n",
       "      <td>3.811754</td>\n",
       "      <td>0.173262</td>\n",
       "      <td>2.126547</td>\n",
       "      <td>...</td>\n",
       "      <td>7.320527</td>\n",
       "      <td>8.210396</td>\n",
       "      <td>9.101752</td>\n",
       "      <td>10.000478</td>\n",
       "      <td>10.899495</td>\n",
       "      <td>11.802778</td>\n",
       "      <td>120.079099</td>\n",
       "      <td>3.891820</td>\n",
       "      <td>0.0</td>\n",
       "      <td>5.176150</td>\n",
       "      <td>2.397895</td>\n",
       "      <td>6.652863</td>\n",
       "      <td>4.948760</td>\n",
       "      <td>8.228177</td>\n",
       "      <td>7.181592</td>\n",
       "      <td>9.863134</td>\n",
       "      <td>70.340391</td>\n",
       "      <td>302.210661</td>\n",
       "      <td>6.296055</td>\n",
       "      <td>1041</td>\n",
       "      <td>35</td>\n",
       "      <td>112</td>\n",
       "      <td>131</td>\n",
       "      <td>6.166667</td>\n",
       "      <td>5.027778</td>\n",
       "    </tr>\n",
       "    <tr>\n",
       "      <th>7804</th>\n",
       "      <td>7805</td>\n",
       "      <td>ketotifen</td>\n",
       "      <td>2-(1-methylpiperidin-4-ylidene)-6-thiatricyclo...</td>\n",
       "      <td>CN1CCC(=C2c3ccccc3CC(=O)c3sccc32)CC1</td>\n",
       "      <td>3827.0</td>\n",
       "      <td>NaN</td>\n",
       "      <td>BBB+</td>\n",
       "      <td>InChI=1S/C19H19NOS/c1-20-9-6-13(7-10-20)18-15-...</td>\n",
       "      <td>NaN</td>\n",
       "      <td>R15|R27|R50|</td>\n",
       "      <td>D</td>\n",
       "      <td>NaN</td>\n",
       "      <td>17.653808</td>\n",
       "      <td>14.479992</td>\n",
       "      <td>0</td>\n",
       "      <td>1</td>\n",
       "      <td>29.305963</td>\n",
       "      <td>2.511472</td>\n",
       "      <td>4.918238</td>\n",
       "      <td>29.305963</td>\n",
       "      <td>1.332089</td>\n",
       "      <td>4.053092</td>\n",
       "      <td>4.182891</td>\n",
       "      <td>0.190131</td>\n",
       "      <td>2.219460</td>\n",
       "      <td>...</td>\n",
       "      <td>7.503841</td>\n",
       "      <td>8.418256</td>\n",
       "      <td>9.330521</td>\n",
       "      <td>10.248247</td>\n",
       "      <td>11.164176</td>\n",
       "      <td>12.083391</td>\n",
       "      <td>122.854218</td>\n",
       "      <td>3.931826</td>\n",
       "      <td>0.0</td>\n",
       "      <td>5.273000</td>\n",
       "      <td>2.397895</td>\n",
       "      <td>6.812345</td>\n",
       "      <td>4.727388</td>\n",
       "      <td>8.443116</td>\n",
       "      <td>6.880384</td>\n",
       "      <td>10.124268</td>\n",
       "      <td>70.590222</td>\n",
       "      <td>309.118735</td>\n",
       "      <td>7.539481</td>\n",
       "      <td>917</td>\n",
       "      <td>40</td>\n",
       "      <td>122</td>\n",
       "      <td>148</td>\n",
       "      <td>5.888889</td>\n",
       "      <td>4.750000</td>\n",
       "    </tr>\n",
       "    <tr>\n",
       "      <th>7805</th>\n",
       "      <td>7806</td>\n",
       "      <td>milrinone</td>\n",
       "      <td>6-methyl-2-oxo-5-pyridin-4-yl-1h-pyridine-3-ca...</td>\n",
       "      <td>Cc1[nH]c(=O)c(C#N)cc1-c1ccncc1</td>\n",
       "      <td>4197.0</td>\n",
       "      <td>NaN</td>\n",
       "      <td>BBB-</td>\n",
       "      <td>InChI=1S/C12H9N3O/c1-8-11(9-2-4-14-5-3-9)6-10(...</td>\n",
       "      <td>NaN</td>\n",
       "      <td>R15|R23|R27|</td>\n",
       "      <td>D</td>\n",
       "      <td>NaN</td>\n",
       "      <td>12.118275</td>\n",
       "      <td>10.624530</td>\n",
       "      <td>0</td>\n",
       "      <td>0</td>\n",
       "      <td>20.388826</td>\n",
       "      <td>2.390361</td>\n",
       "      <td>4.780722</td>\n",
       "      <td>20.388826</td>\n",
       "      <td>1.274302</td>\n",
       "      <td>3.691943</td>\n",
       "      <td>3.625609</td>\n",
       "      <td>0.226601</td>\n",
       "      <td>1.758026</td>\n",
       "      <td>...</td>\n",
       "      <td>6.951772</td>\n",
       "      <td>7.821242</td>\n",
       "      <td>8.685585</td>\n",
       "      <td>9.557541</td>\n",
       "      <td>10.424095</td>\n",
       "      <td>11.297117</td>\n",
       "      <td>103.456480</td>\n",
       "      <td>3.555348</td>\n",
       "      <td>0.0</td>\n",
       "      <td>4.844187</td>\n",
       "      <td>0.000000</td>\n",
       "      <td>6.354370</td>\n",
       "      <td>0.000000</td>\n",
       "      <td>7.962416</td>\n",
       "      <td>0.000000</td>\n",
       "      <td>9.618801</td>\n",
       "      <td>48.335122</td>\n",
       "      <td>211.074562</td>\n",
       "      <td>8.442982</td>\n",
       "      <td>425</td>\n",
       "      <td>24</td>\n",
       "      <td>80</td>\n",
       "      <td>93</td>\n",
       "      <td>5.555556</td>\n",
       "      <td>3.666667</td>\n",
       "    </tr>\n",
       "    <tr>\n",
       "      <th>7806</th>\n",
       "      <td>7807</td>\n",
       "      <td>amrinone</td>\n",
       "      <td>3-amino-5-pyridin-4-yl-1h-pyridin-2-one</td>\n",
       "      <td>Nc1cc(-c2ccncc2)c[nH]c1=O</td>\n",
       "      <td>3698.0</td>\n",
       "      <td>NaN</td>\n",
       "      <td>BBB-</td>\n",
       "      <td>InChI=1S/C10H9N3O/c11-9-5-8(6-13-10(9)14)7-1-3...</td>\n",
       "      <td>NaN</td>\n",
       "      <td>R15|R23|R27|</td>\n",
       "      <td>D</td>\n",
       "      <td>NaN</td>\n",
       "      <td>10.744501</td>\n",
       "      <td>9.200710</td>\n",
       "      <td>0</td>\n",
       "      <td>0</td>\n",
       "      <td>18.348875</td>\n",
       "      <td>2.335372</td>\n",
       "      <td>4.670745</td>\n",
       "      <td>18.348875</td>\n",
       "      <td>1.310634</td>\n",
       "      <td>3.564716</td>\n",
       "      <td>3.500479</td>\n",
       "      <td>0.250034</td>\n",
       "      <td>1.589372</td>\n",
       "      <td>...</td>\n",
       "      <td>6.760415</td>\n",
       "      <td>7.605392</td>\n",
       "      <td>8.449984</td>\n",
       "      <td>9.296793</td>\n",
       "      <td>10.143331</td>\n",
       "      <td>10.990887</td>\n",
       "      <td>97.512466</td>\n",
       "      <td>3.433987</td>\n",
       "      <td>0.0</td>\n",
       "      <td>4.709530</td>\n",
       "      <td>0.000000</td>\n",
       "      <td>6.200509</td>\n",
       "      <td>0.000000</td>\n",
       "      <td>7.779467</td>\n",
       "      <td>0.000000</td>\n",
       "      <td>9.398561</td>\n",
       "      <td>45.522055</td>\n",
       "      <td>187.074562</td>\n",
       "      <td>8.133677</td>\n",
       "      <td>303</td>\n",
       "      <td>19</td>\n",
       "      <td>70</td>\n",
       "      <td>80</td>\n",
       "      <td>4.444444</td>\n",
       "      <td>3.138889</td>\n",
       "    </tr>\n",
       "  </tbody>\n",
       "</table>\n",
       "<p>7807 rows × 1625 columns</p>\n",
       "</div>"
      ],
      "text/plain": [
       "       NO.                        compound_name  \\\n",
       "0        1                       sulphasalazine   \n",
       "1        2                           moxalactam   \n",
       "2        3                           clioquinol   \n",
       "3        4  bbcpd11 (cimetidine analog) (y-g13)   \n",
       "4        5                        schembl614298   \n",
       "...    ...                                  ...   \n",
       "7802  7803                           antazoline   \n",
       "7803  7804                           emedastine   \n",
       "7804  7805                            ketotifen   \n",
       "7805  7806                            milrinone   \n",
       "7806  7807                             amrinone   \n",
       "\n",
       "                                             IUPAC_name  \\\n",
       "0     2-hydroxy-5-[[4-(pyridin-2-ylsulfamoyl)phenyl]...   \n",
       "1     7-[[2-carboxy-2-(4-hydroxyphenyl)acetyl]amino]...   \n",
       "2                          5-chloro-7-iodoquinolin-8-ol   \n",
       "3     2-[2-[(3-bromopyridin-2-yl)methylsulfanyl]ethy...   \n",
       "4     (2s,3s,4s,5r)-6-[[(4r,4ar,7s,7ar,12bs)-7-hydro...   \n",
       "...                                                 ...   \n",
       "7802  n-benzyl-n-(4,5-dihydro-1h-imidazol-2-ylmethyl...   \n",
       "7803  1-(2-ethoxyethyl)-2-(4-methyl-1,4-diazepan-1-y...   \n",
       "7804  2-(1-methylpiperidin-4-ylidene)-6-thiatricyclo...   \n",
       "7805  6-methyl-2-oxo-5-pyridin-4-yl-1h-pyridine-3-ca...   \n",
       "7806            3-amino-5-pyridin-4-yl-1h-pyridin-2-one   \n",
       "\n",
       "                                                 SMILES         CID  logBB  \\\n",
       "0      O=C(O)c1cc(N=Nc2ccc(S(=O)(=O)Nc3ccccn3)cc2)ccc1O      5339.0  -2.69   \n",
       "1     COC1(NC(=O)C(C(=O)O)c2ccc(O)cc2)C(=O)N2C(C(=O)...      3889.0  -2.52   \n",
       "2                                Oc1c(I)cc(Cl)c2cccnc12      2788.0  -2.40   \n",
       "3                            CCNC(=NCCSCc1ncccc1Br)NC#N  14022517.0  -2.15   \n",
       "4     CN1CC[C@]23c4c5ccc(OC6O[C@H](C(=O)O)[C@@H](O)[...  18595497.0  -2.15   \n",
       "...                                                 ...         ...    ...   \n",
       "7802                    c1ccc(CN(CC2=NCCN2)c2ccccc2)cc1      2200.0    NaN   \n",
       "7803                   CCOCCn1c(N2CCCN(C)CC2)nc2ccccc21      3219.0    NaN   \n",
       "7804               CN1CCC(=C2c3ccccc3CC(=O)c3sccc32)CC1      3827.0    NaN   \n",
       "7805                     Cc1[nH]c(=O)c(C#N)cc1-c1ccncc1      4197.0    NaN   \n",
       "7806                          Nc1cc(-c2ccncc2)c[nH]c1=O      3698.0    NaN   \n",
       "\n",
       "     BBB+/BBB-                                              Inchi  threshold  \\\n",
       "0         BBB-  InChI=1S/C18H14N4O5S/c23-16-9-6-13(11-15(16)18...        NaN   \n",
       "1         BBB-  InChI=1S/C20H20N6O9S/c1-25-19(22-23-24-25)36-8...        NaN   \n",
       "2         BBB-  InChI=1S/C9H5ClINO/c10-6-4-7(11)9(13)8-5(6)2-1...        NaN   \n",
       "3         BBB-  InChI=1S/C12H16BrN5S/c1-2-15-12(18-9-14)17-6-7...        NaN   \n",
       "4         BBB-  InChI=1S/C23H27NO9/c1-24-7-6-23-10-3-4-12(25)2...        NaN   \n",
       "...        ...                                                ...        ...   \n",
       "7802      BBB-  InChI=1S/C17H19N3/c1-3-7-15(8-4-1)13-20(14-17-...        NaN   \n",
       "7803      BBB+  InChI=1S/C17H26N4O/c1-3-22-14-13-21-16-8-5-4-7...        NaN   \n",
       "7804      BBB+  InChI=1S/C19H19NOS/c1-20-9-6-13(7-10-20)18-15-...        NaN   \n",
       "7805      BBB-  InChI=1S/C12H9N3O/c1-8-11(9-2-4-14-5-3-9)6-10(...        NaN   \n",
       "7806      BBB-  InChI=1S/C10H9N3O/c11-9-5-8(6-13-10(9)14)7-1-3...        NaN   \n",
       "\n",
       "                                              reference group comments  \\\n",
       "0                                        R2|R2|R25|R46|     A      NaN   \n",
       "1                                                  R25|     A      NaN   \n",
       "2                                          R18|R26|R27|     A      NaN   \n",
       "3     R2|R2|R8|R40|R2|R2|R2|R2|R18|R21|R25|R25|R26|R...     A      NaN   \n",
       "4                                                  R25|     A      NaN   \n",
       "...                                                 ...   ...      ...   \n",
       "7802                                       R14|R23|R50|     D      NaN   \n",
       "7803                                       R15|R23|R50|     D      NaN   \n",
       "7804                                       R15|R27|R50|     D      NaN   \n",
       "7805                                       R15|R23|R27|     D      NaN   \n",
       "7806                                       R15|R23|R27|     D      NaN   \n",
       "\n",
       "            ABC      ABCGG  nAcid  nBase    SpAbs_A   SpMax_A  SpDiam_A  \\\n",
       "0     21.716720  16.307343      1      0  35.289886  2.380530  4.761059   \n",
       "1     27.965103  22.915028      4      0  45.430282  2.648849  5.297577   \n",
       "2     10.065904   8.927318      0      0  16.678194  2.425683  4.851365   \n",
       "3     13.503979  11.612996      0      3  23.641772  2.237342  4.474683   \n",
       "4     27.006116  19.957433      1      1  43.435426  2.709582  5.329713   \n",
       "...         ...        ...    ...    ...        ...       ...       ...   \n",
       "7802  15.515909  12.987974      0      2  26.938755  2.326623  4.635214   \n",
       "7803  16.918192  13.952862      0      1  28.885493  2.483200  4.768669   \n",
       "7804  17.653808  14.479992      0      1  29.305963  2.511472  4.918238   \n",
       "7805  12.118275  10.624530      0      0  20.388826  2.390361  4.780722   \n",
       "7806  10.744501   9.200710      0      0  18.348875  2.335372  4.670745   \n",
       "\n",
       "         SpAD_A   SpMAD_A   LogEE_A     VE1_A     VE2_A     VE3_A  ...  \\\n",
       "0     35.289886  1.260353  4.249578  4.471033  0.159680  2.527239  ...   \n",
       "1     45.430282  1.261952  4.519812  4.024851  0.111801  2.673422  ...   \n",
       "2     16.678194  1.282938  3.505118  3.363390  0.258722  1.475314  ...   \n",
       "3     23.641772  1.244304  3.806689  3.290631  0.173191  1.832933  ...   \n",
       "4     43.435426  1.316225  4.477453  4.332407  0.131285  2.660046  ...   \n",
       "...         ...       ...       ...       ...       ...       ...  ...   \n",
       "7802  26.938755  1.346938  3.923960  4.106193  0.205310  2.105644  ...   \n",
       "7803  28.885493  1.312977  4.018574  3.811754  0.173262  2.126547  ...   \n",
       "7804  29.305963  1.332089  4.053092  4.182891  0.190131  2.219460  ...   \n",
       "7805  20.388826  1.274302  3.691943  3.625609  0.226601  1.758026  ...   \n",
       "7806  18.348875  1.310634  3.564716  3.500479  0.250034  1.589372  ...   \n",
       "\n",
       "         MWC05     MWC06      MWC07      MWC08      MWC09      MWC10  \\\n",
       "0     7.512618  8.382289   9.229849  10.100328  10.950649  11.821814   \n",
       "1     8.005367  8.942330   9.872358  10.817355  11.757196  12.708831   \n",
       "2     6.857514  7.745436   8.628198   9.516280  10.400164  11.288093   \n",
       "3     6.734592  7.523481   8.305731   9.097060   9.882417  10.675330   \n",
       "4     8.159089  9.132054  10.103854  11.081912  12.059224  13.040978   \n",
       "...        ...       ...        ...        ...        ...        ...   \n",
       "7802  7.082549  7.921898   8.756053   9.599066  10.436847  11.281510   \n",
       "7803  7.320527  8.210396   9.101752  10.000478  10.899495  11.802778   \n",
       "7804  7.503841  8.418256   9.330521  10.248247  11.164176  12.083391   \n",
       "7805  6.951772  7.821242   8.685585   9.557541  10.424095  11.297117   \n",
       "7806  6.760415  7.605392   8.449984   9.296793  10.143331  10.990887   \n",
       "\n",
       "          TMWC10     SRW02  SRW03     SRW04     SRW05     SRW06     SRW07  \\\n",
       "0     133.447165  4.110874    0.0  5.433722  0.000000  6.946014  0.000000   \n",
       "1     155.628995  4.369448    0.0  5.765191  2.397895  7.379632  4.595120   \n",
       "2      96.742426  3.367296    0.0  4.691348  0.000000  6.244167  0.000000   \n",
       "3     105.772026  3.663562    0.0  4.844187  0.000000  6.216606  0.000000   \n",
       "4     153.299550  4.343805    0.0  5.771441  2.397895  7.415175  4.948760   \n",
       "...          ...       ...    ...       ...       ...       ...       ...   \n",
       "7802  113.373744  3.806662    0.0  5.056246  2.397895  6.496775  4.442651   \n",
       "7803  120.079099  3.891820    0.0  5.176150  2.397895  6.652863  4.948760   \n",
       "7804  122.854218  3.931826    0.0  5.273000  2.397895  6.812345  4.727388   \n",
       "7805  103.456480  3.555348    0.0  4.844187  0.000000  6.354370  0.000000   \n",
       "7806   97.512466  3.433987    0.0  4.709530  0.000000  6.200509  0.000000   \n",
       "\n",
       "         SRW08     SRW09      SRW10     TSRW10          MW        AMW  WPath  \\\n",
       "0     8.538759  0.000000  10.171643  63.201012  398.068491   9.477821   2428   \n",
       "1     9.103979  6.529419  10.893010  87.033695  520.101247   9.287522   4114   \n",
       "2     7.904335  0.000000   9.618402  44.825548  304.910439  16.939469    218   \n",
       "3     7.684784  0.000000   9.201199  50.610337  341.030979   9.743742    898   \n",
       "4     9.171288  7.309881  10.992336  85.350582  461.168581   7.686143   2850   \n",
       "...        ...       ...        ...        ...         ...        ...    ...   \n",
       "7802  8.018625  6.259581   9.582249  66.060685  265.157898   6.798920    829   \n",
       "7803  8.228177  7.181592   9.863134  70.340391  302.210661   6.296055   1041   \n",
       "7804  8.443116  6.880384  10.124268  70.590222  309.118735   7.539481    917   \n",
       "7805  7.962416  0.000000   9.618801  48.335122  211.074562   8.442982    425   \n",
       "7806  7.779467  0.000000   9.398561  45.522055  187.074562   8.133677    303   \n",
       "\n",
       "      WPol  Zagreb1  Zagreb2   mZagreb1  mZagreb2  \n",
       "0       42      144      165   9.590278  6.097222  \n",
       "1       62      194      237  13.756944  7.916667  \n",
       "2       21       68       81   4.805556  2.861111  \n",
       "3       22       82       88   6.583333  4.694444  \n",
       "4       74      198      254  11.229167  6.847222  \n",
       "...    ...      ...      ...        ...       ...  \n",
       "7802    24      100      113   4.444444  4.527778  \n",
       "7803    35      112      131   6.166667  5.027778  \n",
       "7804    40      122      148   5.888889  4.750000  \n",
       "7805    24       80       93   5.555556  3.666667  \n",
       "7806    19       70       80   4.444444  3.138889  \n",
       "\n",
       "[7807 rows x 1625 columns]"
      ]
     },
     "execution_count": 46,
     "metadata": {},
     "output_type": "execute_result"
    }
   ],
   "source": [
    "cls_b3db_df"
   ]
  },
  {
   "cell_type": "code",
   "execution_count": 47,
   "id": "87ddb0b8",
   "metadata": {},
   "outputs": [
    {
     "data": {
      "text/plain": [
       "<AxesSubplot:>"
      ]
     },
     "execution_count": 47,
     "metadata": {},
     "output_type": "execute_result"
    },
    {
     "data": {
      "image/png": "[encoded data removed]",
      "text/plain": [
       "<Figure size 432x288 with 1 Axes>"
      ]
     },
     "metadata": {},
     "output_type": "display_data"
    }
   ],
   "source": [
    "cls_b3db_df[cls_b3db_df['BBB+/BBB-'] == 'BBB-']['logBB'].hist()"
   ]
  },
  {
   "cell_type": "code",
   "execution_count": 48,
   "id": "1b2a1824",
   "metadata": {},
   "outputs": [
    {
     "data": {
      "text/plain": [
       "<AxesSubplot:>"
      ]
     },
     "execution_count": 48,
     "metadata": {},
     "output_type": "execute_result"
    },
    {
     "data": {
      "image/png": "[encoded data removed]",
      "text/plain": [
       "<Figure size 432x288 with 1 Axes>"
      ]
     },
     "metadata": {},
     "output_type": "display_data"
    }
   ],
   "source": [
    "cls_b3db_df[cls_b3db_df['BBB+/BBB-'] == 'BBB+']['logBB'].hist()"
   ]
  },
  {
   "cell_type": "code",
   "execution_count": 49,
   "id": "7f60df29-22d2-4f2d-8cbf-32eb5635eae6",
   "metadata": {},
   "outputs": [
    {
     "data": {
      "text/plain": [
       "Index(['NO.', 'compound_name', 'IUPAC_name', 'SMILES', 'CID', 'logBB',\n",
       "       'BBB+/BBB-', 'Inchi', 'threshold', 'reference',\n",
       "       ...\n",
       "       'SRW10', 'TSRW10', 'MW', 'AMW', 'WPath', 'WPol', 'Zagreb1', 'Zagreb2',\n",
       "       'mZagreb1', 'mZagreb2'],\n",
       "      dtype='object', length=1625)"
      ]
     },
     "execution_count": 49,
     "metadata": {},
     "output_type": "execute_result"
    }
   ],
   "source": [
    "cls_b3db_df.columns"
   ]
  },
  {
   "cell_type": "code",
   "execution_count": 50,
   "id": "8b6a59f4-1a73-4849-a1a6-7730129eccb7",
   "metadata": {},
   "outputs": [],
   "source": [
    "cls_b3db_df = cls_b3db_df[['NO.', 'compound_name', 'IUPAC_name', 'SMILES', 'CID', 'logBB','BBB+/BBB-', 'Inchi', 'threshold', 'reference','group','comments']]"
   ]
  },
  {
   "cell_type": "code",
   "execution_count": 51,
   "id": "75be1033-cffe-48a3-b62b-589a5245e698",
   "metadata": {},
   "outputs": [],
   "source": [
    "cls_b3db_df['BBB_Class'] =cls_b3db_df['BBB+/BBB-'].apply(lambda x:0 if x == 'BBB-' else 1)"
   ]
  },
  {
   "cell_type": "code",
   "execution_count": 52,
   "id": "0c7026bd",
   "metadata": {},
   "outputs": [],
   "source": [
    "# cls_b3db_df['BBB_Class'] =cls_b3db_df['logBB'].apply(lambda x:0 if x <= -1 else 1)"
   ]
  },
  {
   "cell_type": "code",
   "execution_count": 53,
   "id": "bf35666c-69d8-4023-9e3a-904d5054acef",
   "metadata": {},
   "outputs": [],
   "source": [
    "cls_b3db_df = cls_b3db_df[cls_b3db_df['SMILES'].notna()]"
   ]
  },
  {
   "cell_type": "code",
   "execution_count": 54,
   "id": "0fb9b255-7927-474c-a4bc-d9e39e71a5a4",
   "metadata": {},
   "outputs": [
    {
     "data": {
      "text/plain": [
       "(7807, 13)"
      ]
     },
     "execution_count": 54,
     "metadata": {},
     "output_type": "execute_result"
    }
   ],
   "source": [
    "cls_b3db_df.shape"
   ]
  },
  {
   "cell_type": "code",
   "execution_count": 55,
   "id": "3000d3ce-d3c7-4fe6-a253-973831b7ec71",
   "metadata": {},
   "outputs": [],
   "source": [
    "cls_b3db_df['source'] = 'B3DB'"
   ]
  },
  {
   "cell_type": "code",
   "execution_count": 56,
   "id": "3b4bbd47",
   "metadata": {},
   "outputs": [],
   "source": [
    "cls_b3db_df = cls_b3db_df[['SMILES','BBB_Class','source']]"
   ]
  },
  {
   "cell_type": "code",
   "execution_count": 57,
   "id": "259c2e64",
   "metadata": {},
   "outputs": [],
   "source": [
    "cls_b3db_df['property'] = 'bbb'"
   ]
  },
  {
   "cell_type": "code",
   "execution_count": 58,
   "id": "cba86f51",
   "metadata": {},
   "outputs": [],
   "source": [
    "cls_b3db_df.columns = ['Smiles','value','source','property']"
   ]
  },
  {
   "cell_type": "code",
   "execution_count": 59,
   "id": "4b632e16",
   "metadata": {},
   "outputs": [
    {
     "data": {
      "text/plain": [
       "1    4956\n",
       "0    2851\n",
       "Name: value, dtype: int64"
      ]
     },
     "execution_count": 59,
     "metadata": {},
     "output_type": "execute_result"
    }
   ],
   "source": [
    "cls_b3db_df['value'].value_counts()"
   ]
  },
  {
   "cell_type": "markdown",
   "id": "007e37c0-c6a3-4fcb-9e59-456109251283",
   "metadata": {},
   "source": [
    "### TDC"
   ]
  },
  {
   "cell_type": "code",
   "execution_count": 60,
   "id": "9e8fe739-5c72-4dde-8a93-c371d6d6916c",
   "metadata": {},
   "outputs": [],
   "source": [
    "bbb_martin = pd.read_csv('../data/raw_data/bbb/bbb_martins.tab',delimiter='\\t')\n",
    "bbb_adenot = pd.read_csv('../data/raw_data/bbb/bbb_adenot.tab',delimiter='\\t')"
   ]
  },
  {
   "cell_type": "code",
   "execution_count": 61,
   "id": "d9f09e36-c5b0-4d36-8acd-d9fbab764e25",
   "metadata": {},
   "outputs": [
    {
     "data": {
      "text/html": [
       "<div>\n",
       "<style scoped>\n",
       "    .dataframe tbody tr th:only-of-type {\n",
       "        vertical-align: middle;\n",
       "    }\n",
       "\n",
       "    .dataframe tbody tr th {\n",
       "        vertical-align: top;\n",
       "    }\n",
       "\n",
       "    .dataframe thead th {\n",
       "        text-align: right;\n",
       "    }\n",
       "</style>\n",
       "<table border=\"1\" class=\"dataframe\">\n",
       "  <thead>\n",
       "    <tr style=\"text-align: right;\">\n",
       "      <th></th>\n",
       "      <th>Drug_ID</th>\n",
       "      <th>Drug</th>\n",
       "      <th>Y</th>\n",
       "    </tr>\n",
       "  </thead>\n",
       "  <tbody>\n",
       "    <tr>\n",
       "      <th>0</th>\n",
       "      <td>Propanolol</td>\n",
       "      <td>CC(C)NCC(O)COc1cccc2ccccc12.[Cl]</td>\n",
       "      <td>1</td>\n",
       "    </tr>\n",
       "    <tr>\n",
       "      <th>1</th>\n",
       "      <td>Terbutylchlorambucil</td>\n",
       "      <td>CC(C)(C)OC(=O)CCCc1ccc(N(CCCl)CCCl)cc1</td>\n",
       "      <td>1</td>\n",
       "    </tr>\n",
       "    <tr>\n",
       "      <th>2</th>\n",
       "      <td>40730</td>\n",
       "      <td>CC1COc2c(N3CCN(C)CC3)c(F)cc3c(=O)c(C(=O)O)cn1c23</td>\n",
       "      <td>1</td>\n",
       "    </tr>\n",
       "    <tr>\n",
       "      <th>3</th>\n",
       "      <td>24</td>\n",
       "      <td>CC(=O)NCCCOc1cccc(CN2CCCCC2)c1</td>\n",
       "      <td>1</td>\n",
       "    </tr>\n",
       "    <tr>\n",
       "      <th>4</th>\n",
       "      <td>cloxacillin</td>\n",
       "      <td>Cc1onc(-c2ccccc2Cl)c1C(=O)N[C@@H]1C(=O)N2[C@@H...</td>\n",
       "      <td>1</td>\n",
       "    </tr>\n",
       "    <tr>\n",
       "      <th>...</th>\n",
       "      <td>...</td>\n",
       "      <td>...</td>\n",
       "      <td>...</td>\n",
       "    </tr>\n",
       "    <tr>\n",
       "      <th>2034</th>\n",
       "      <td>licostinel</td>\n",
       "      <td>O=c1[nH]c2cc(Cl)c(Cl)c([N+](=O)[O-])c2[nH]c1=O</td>\n",
       "      <td>1</td>\n",
       "    </tr>\n",
       "    <tr>\n",
       "      <th>2035</th>\n",
       "      <td>ademetionine(adenosyl-methionine)</td>\n",
       "      <td>C[S+](CC[C@H](N)C(=O)[O-])C[C@H]1O[C@@H](n2cnc...</td>\n",
       "      <td>1</td>\n",
       "    </tr>\n",
       "    <tr>\n",
       "      <th>2036</th>\n",
       "      <td>mesocarb</td>\n",
       "      <td>CC(Cc1ccccc1)n1cc([N-]C(=O)Nc2ccccc2)[o+]n1</td>\n",
       "      <td>1</td>\n",
       "    </tr>\n",
       "    <tr>\n",
       "      <th>2037</th>\n",
       "      <td>tofisoline</td>\n",
       "      <td>CCc1c(C)[n+]([NH-])c(-c2ccc(OC)c(OC)c2)c2cc(OC...</td>\n",
       "      <td>1</td>\n",
       "    </tr>\n",
       "    <tr>\n",
       "      <th>2038</th>\n",
       "      <td>azidamfenicol</td>\n",
       "      <td>[N-]=[N+]=NCC(=O)N[C@H](CO)[C@H](O)c1ccc([N+](...</td>\n",
       "      <td>1</td>\n",
       "    </tr>\n",
       "  </tbody>\n",
       "</table>\n",
       "<p>2039 rows × 3 columns</p>\n",
       "</div>"
      ],
      "text/plain": [
       "                                Drug_ID  \\\n",
       "0                            Propanolol   \n",
       "1                  Terbutylchlorambucil   \n",
       "2                                 40730   \n",
       "3                                    24   \n",
       "4                           cloxacillin   \n",
       "...                                 ...   \n",
       "2034                         licostinel   \n",
       "2035  ademetionine(adenosyl-methionine)   \n",
       "2036                           mesocarb   \n",
       "2037                         tofisoline   \n",
       "2038                      azidamfenicol   \n",
       "\n",
       "                                                   Drug  Y  \n",
       "0                      CC(C)NCC(O)COc1cccc2ccccc12.[Cl]  1  \n",
       "1                CC(C)(C)OC(=O)CCCc1ccc(N(CCCl)CCCl)cc1  1  \n",
       "2      CC1COc2c(N3CCN(C)CC3)c(F)cc3c(=O)c(C(=O)O)cn1c23  1  \n",
       "3                        CC(=O)NCCCOc1cccc(CN2CCCCC2)c1  1  \n",
       "4     Cc1onc(-c2ccccc2Cl)c1C(=O)N[C@@H]1C(=O)N2[C@@H...  1  \n",
       "...                                                 ... ..  \n",
       "2034     O=c1[nH]c2cc(Cl)c(Cl)c([N+](=O)[O-])c2[nH]c1=O  1  \n",
       "2035  C[S+](CC[C@H](N)C(=O)[O-])C[C@H]1O[C@@H](n2cnc...  1  \n",
       "2036        CC(Cc1ccccc1)n1cc([N-]C(=O)Nc2ccccc2)[o+]n1  1  \n",
       "2037  CCc1c(C)[n+]([NH-])c(-c2ccc(OC)c(OC)c2)c2cc(OC...  1  \n",
       "2038  [N-]=[N+]=NCC(=O)N[C@H](CO)[C@H](O)c1ccc([N+](...  1  \n",
       "\n",
       "[2039 rows x 3 columns]"
      ]
     },
     "execution_count": 61,
     "metadata": {},
     "output_type": "execute_result"
    }
   ],
   "source": [
    "bbb_martin"
   ]
  },
  {
   "cell_type": "code",
   "execution_count": 62,
   "id": "38dca051-a485-446d-8ff2-0c3ff974bfa5",
   "metadata": {},
   "outputs": [
    {
     "data": {
      "text/html": [
       "<div>\n",
       "<style scoped>\n",
       "    .dataframe tbody tr th:only-of-type {\n",
       "        vertical-align: middle;\n",
       "    }\n",
       "\n",
       "    .dataframe tbody tr th {\n",
       "        vertical-align: top;\n",
       "    }\n",
       "\n",
       "    .dataframe thead th {\n",
       "        text-align: right;\n",
       "    }\n",
       "</style>\n",
       "<table border=\"1\" class=\"dataframe\">\n",
       "  <thead>\n",
       "    <tr style=\"text-align: right;\">\n",
       "      <th></th>\n",
       "      <th>Drug_ID</th>\n",
       "      <th>Drug</th>\n",
       "      <th>Y</th>\n",
       "    </tr>\n",
       "  </thead>\n",
       "  <tbody>\n",
       "    <tr>\n",
       "      <th>0</th>\n",
       "      <td>12dichlorotetrafluoroethane (cryofluorane)</td>\n",
       "      <td>FC(F)(Cl)C(F)(F)Cl</td>\n",
       "      <td>1</td>\n",
       "    </tr>\n",
       "    <tr>\n",
       "      <th>1</th>\n",
       "      <td>2methylthiophencyclidine (gacyclidine)</td>\n",
       "      <td>C[C@H]1CCCC[C@]1(c1cccs1)N1CCCCC1</td>\n",
       "      <td>1</td>\n",
       "    </tr>\n",
       "    <tr>\n",
       "      <th>2</th>\n",
       "      <td>7amphetaminoethyltheophylline (fenetylline)</td>\n",
       "      <td>C[C@@H](Cc1ccccc1)NCCn1cnc2c1c(=O)n(C)c(=O)n2C</td>\n",
       "      <td>1</td>\n",
       "    </tr>\n",
       "    <tr>\n",
       "      <th>3</th>\n",
       "      <td>acaprazine</td>\n",
       "      <td>CC(=O)NCCCN1CCN(c2cc(Cl)ccc2Cl)CC1</td>\n",
       "      <td>1</td>\n",
       "    </tr>\n",
       "    <tr>\n",
       "      <th>4</th>\n",
       "      <td>acebrochol</td>\n",
       "      <td>CC(=O)O[C@@H]1CC[C@@]2(C)[C@H]3CC[C@]4(C)[C@@H...</td>\n",
       "      <td>1</td>\n",
       "    </tr>\n",
       "    <tr>\n",
       "      <th>...</th>\n",
       "      <td>...</td>\n",
       "      <td>...</td>\n",
       "      <td>...</td>\n",
       "    </tr>\n",
       "    <tr>\n",
       "      <th>1576</th>\n",
       "      <td>sanfetrinem</td>\n",
       "      <td>CO[C@H]1CCC[C@H]2C1=C(C=O)N1C(=O)[C@H]([C@@H](...</td>\n",
       "      <td>-1</td>\n",
       "    </tr>\n",
       "    <tr>\n",
       "      <th>1577</th>\n",
       "      <td>tamoxifen</td>\n",
       "      <td>CC/C(=C(/c1ccccc1)c1ccc(OCCN(C)C)cc1)c1ccccc1</td>\n",
       "      <td>-1</td>\n",
       "    </tr>\n",
       "    <tr>\n",
       "      <th>1578</th>\n",
       "      <td>temocillin</td>\n",
       "      <td>CO[C@@]1(NC(=O)[C@@H](C(=O)O)c2ccsc2)C(=O)N2[C...</td>\n",
       "      <td>-1</td>\n",
       "    </tr>\n",
       "    <tr>\n",
       "      <th>1579</th>\n",
       "      <td>tetracycline</td>\n",
       "      <td>CN(C)[C@H]1C(O)=C(C(N)=O)C(=O)[C@@]2(O)C(O)=C3...</td>\n",
       "      <td>-1</td>\n",
       "    </tr>\n",
       "    <tr>\n",
       "      <th>1580</th>\n",
       "      <td>ticarcillin</td>\n",
       "      <td>CC1(C)S[C@@H]2[C@H](NC(=O)[C@@H](C(=O)O)c3ccsc...</td>\n",
       "      <td>-1</td>\n",
       "    </tr>\n",
       "  </tbody>\n",
       "</table>\n",
       "<p>1581 rows × 3 columns</p>\n",
       "</div>"
      ],
      "text/plain": [
       "                                          Drug_ID  \\\n",
       "0      12dichlorotetrafluoroethane (cryofluorane)   \n",
       "1          2methylthiophencyclidine (gacyclidine)   \n",
       "2     7amphetaminoethyltheophylline (fenetylline)   \n",
       "3                                      acaprazine   \n",
       "4                                      acebrochol   \n",
       "...                                           ...   \n",
       "1576                                  sanfetrinem   \n",
       "1577                                    tamoxifen   \n",
       "1578                                   temocillin   \n",
       "1579                                 tetracycline   \n",
       "1580                                  ticarcillin   \n",
       "\n",
       "                                                   Drug  Y  \n",
       "0                                    FC(F)(Cl)C(F)(F)Cl  1  \n",
       "1                     C[C@H]1CCCC[C@]1(c1cccs1)N1CCCCC1  1  \n",
       "2        C[C@@H](Cc1ccccc1)NCCn1cnc2c1c(=O)n(C)c(=O)n2C  1  \n",
       "3                    CC(=O)NCCCN1CCN(c2cc(Cl)ccc2Cl)CC1  1  \n",
       "4     CC(=O)O[C@@H]1CC[C@@]2(C)[C@H]3CC[C@]4(C)[C@@H...  1  \n",
       "...                                                 ... ..  \n",
       "1576  CO[C@H]1CCC[C@H]2C1=C(C=O)N1C(=O)[C@H]([C@@H](... -1  \n",
       "1577      CC/C(=C(/c1ccccc1)c1ccc(OCCN(C)C)cc1)c1ccccc1 -1  \n",
       "1578  CO[C@@]1(NC(=O)[C@@H](C(=O)O)c2ccsc2)C(=O)N2[C... -1  \n",
       "1579  CN(C)[C@H]1C(O)=C(C(N)=O)C(=O)[C@@]2(O)C(O)=C3... -1  \n",
       "1580  CC1(C)S[C@@H]2[C@H](NC(=O)[C@@H](C(=O)O)c3ccsc... -1  \n",
       "\n",
       "[1581 rows x 3 columns]"
      ]
     },
     "execution_count": 62,
     "metadata": {},
     "output_type": "execute_result"
    }
   ],
   "source": [
    "bbb_adenot"
   ]
  },
  {
   "cell_type": "code",
   "execution_count": 63,
   "id": "80497fb0-47c1-474c-8bc4-5e3decc906dc",
   "metadata": {},
   "outputs": [],
   "source": [
    "bbb_adenot['source'] = 'TDC_adenot'\n",
    "bbb_martin['source'] = 'TDC_martin'"
   ]
  },
  {
   "cell_type": "code",
   "execution_count": 64,
   "id": "6dc84539-a77c-4d79-93c1-2055db0a84d9",
   "metadata": {},
   "outputs": [],
   "source": [
    "bbb_tdc_df = pd.concat([bbb_martin,bbb_adenot])\n",
    "\n",
    "# bbb_tdc_df.rename(columns = {'Y':'BBB_Class'},inplace = True)"
   ]
  },
  {
   "cell_type": "code",
   "execution_count": 65,
   "id": "1f3b5fa9-65e3-4d8c-aa8a-73932a55a3ad",
   "metadata": {},
   "outputs": [],
   "source": [
    "bbb_tdc_df['value'] = bbb_tdc_df['Y'].apply(lambda x : 0 if x == -1 else 1)"
   ]
  },
  {
   "cell_type": "code",
   "execution_count": 66,
   "id": "266c5bdc",
   "metadata": {},
   "outputs": [],
   "source": [
    "bbb_tdc_df = bbb_tdc_df[['Drug','value','source']]\n",
    "bbb_tdc_df['property'] = 'bbb'"
   ]
  },
  {
   "cell_type": "code",
   "execution_count": 67,
   "id": "dea0b6ff",
   "metadata": {},
   "outputs": [],
   "source": [
    "bbb_tdc_df.columns = ['Smiles','value','source','property']"
   ]
  },
  {
   "cell_type": "code",
   "execution_count": 68,
   "id": "30b0cf82-2145-4ebf-b53c-b089cec50fc6",
   "metadata": {},
   "outputs": [
    {
     "data": {
      "text/plain": [
       "((3620, 4),\n",
       " 1    3311\n",
       " 0     309\n",
       " Name: value, dtype: int64)"
      ]
     },
     "execution_count": 68,
     "metadata": {},
     "output_type": "execute_result"
    }
   ],
   "source": [
    "bbb_tdc_df.shape,bbb_tdc_df['value'].value_counts()"
   ]
  },
  {
   "cell_type": "markdown",
   "id": "ee03e94f-a94f-474b-b8c9-866a3b2d302f",
   "metadata": {},
   "source": [
    "## Cleaning"
   ]
  },
  {
   "cell_type": "code",
   "execution_count": 69,
   "id": "233d9e1f-548b-428f-bed5-7e340591dd02",
   "metadata": {},
   "outputs": [],
   "source": [
    "bbb_df = pd.concat([cls_b3db_df,chembl,bbb_tdc_df,])"
   ]
  },
  {
   "cell_type": "code",
   "execution_count": 70,
   "id": "b2153394-ab17-43a3-9fcd-8a61d117a3b3",
   "metadata": {},
   "outputs": [
    {
     "data": {
      "text/plain": [
       "1    9200\n",
       "0    3288\n",
       "Name: value, dtype: int64"
      ]
     },
     "execution_count": 70,
     "metadata": {},
     "output_type": "execute_result"
    }
   ],
   "source": [
    "bbb_df['value'].value_counts(dropna = False)"
   ]
  },
  {
   "cell_type": "code",
   "execution_count": 71,
   "id": "55e4ae98",
   "metadata": {},
   "outputs": [
    {
     "data": {
      "text/plain": [
       "(92, (12488, 4))"
      ]
     },
     "execution_count": 71,
     "metadata": {},
     "output_type": "execute_result"
    }
   ],
   "source": [
    "bbb_df['source'].nunique(), bbb_df.shape"
   ]
  },
  {
   "cell_type": "code",
   "execution_count": 72,
   "id": "45eebf32",
   "metadata": {},
   "outputs": [
    {
     "data": {
      "text/plain": [
       "B3DB             7807\n",
       "TDC_martin       2039\n",
       "TDC_adenot       1581\n",
       "CHEMBL4408525      34\n",
       "CHEMBL4198351      33\n",
       "                 ... \n",
       "CHEMBL5133683       2\n",
       "CHEMBL4669395       2\n",
       "CHEMBL4686703       1\n",
       "CHEMBL5128450       1\n",
       "CHEMBL4724699       1\n",
       "Name: source, Length: 92, dtype: int64"
      ]
     },
     "execution_count": 72,
     "metadata": {},
     "output_type": "execute_result"
    }
   ],
   "source": [
    "bbb_df['source'].value_counts()"
   ]
  },
  {
   "cell_type": "code",
   "execution_count": 73,
   "id": "0c05641e",
   "metadata": {},
   "outputs": [
    {
     "data": {
      "text/html": [
       "<div>\n",
       "<style scoped>\n",
       "    .dataframe tbody tr th:only-of-type {\n",
       "        vertical-align: middle;\n",
       "    }\n",
       "\n",
       "    .dataframe tbody tr th {\n",
       "        vertical-align: top;\n",
       "    }\n",
       "\n",
       "    .dataframe thead th {\n",
       "        text-align: right;\n",
       "    }\n",
       "</style>\n",
       "<table border=\"1\" class=\"dataframe\">\n",
       "  <thead>\n",
       "    <tr style=\"text-align: right;\">\n",
       "      <th></th>\n",
       "      <th>Smiles</th>\n",
       "      <th>value</th>\n",
       "      <th>source</th>\n",
       "      <th>property</th>\n",
       "    </tr>\n",
       "  </thead>\n",
       "  <tbody>\n",
       "    <tr>\n",
       "      <th>0</th>\n",
       "      <td>O=C(O)c1cc(N=Nc2ccc(S(=O)(=O)Nc3ccccn3)cc2)ccc1O</td>\n",
       "      <td>0</td>\n",
       "      <td>B3DB</td>\n",
       "      <td>bbb</td>\n",
       "    </tr>\n",
       "    <tr>\n",
       "      <th>1</th>\n",
       "      <td>COC1(NC(=O)C(C(=O)O)c2ccc(O)cc2)C(=O)N2C(C(=O)...</td>\n",
       "      <td>0</td>\n",
       "      <td>B3DB</td>\n",
       "      <td>bbb</td>\n",
       "    </tr>\n",
       "    <tr>\n",
       "      <th>2</th>\n",
       "      <td>Oc1c(I)cc(Cl)c2cccnc12</td>\n",
       "      <td>0</td>\n",
       "      <td>B3DB</td>\n",
       "      <td>bbb</td>\n",
       "    </tr>\n",
       "    <tr>\n",
       "      <th>3</th>\n",
       "      <td>CCNC(=NCCSCc1ncccc1Br)NC#N</td>\n",
       "      <td>0</td>\n",
       "      <td>B3DB</td>\n",
       "      <td>bbb</td>\n",
       "    </tr>\n",
       "    <tr>\n",
       "      <th>4</th>\n",
       "      <td>CN1CC[C@]23c4c5ccc(OC6O[C@H](C(=O)O)[C@@H](O)[...</td>\n",
       "      <td>0</td>\n",
       "      <td>B3DB</td>\n",
       "      <td>bbb</td>\n",
       "    </tr>\n",
       "    <tr>\n",
       "      <th>...</th>\n",
       "      <td>...</td>\n",
       "      <td>...</td>\n",
       "      <td>...</td>\n",
       "      <td>...</td>\n",
       "    </tr>\n",
       "    <tr>\n",
       "      <th>1576</th>\n",
       "      <td>CO[C@H]1CCC[C@H]2C1=C(C=O)N1C(=O)[C@H]([C@@H](...</td>\n",
       "      <td>0</td>\n",
       "      <td>TDC_adenot</td>\n",
       "      <td>bbb</td>\n",
       "    </tr>\n",
       "    <tr>\n",
       "      <th>1577</th>\n",
       "      <td>CC/C(=C(/c1ccccc1)c1ccc(OCCN(C)C)cc1)c1ccccc1</td>\n",
       "      <td>0</td>\n",
       "      <td>TDC_adenot</td>\n",
       "      <td>bbb</td>\n",
       "    </tr>\n",
       "    <tr>\n",
       "      <th>1578</th>\n",
       "      <td>CO[C@@]1(NC(=O)[C@@H](C(=O)O)c2ccsc2)C(=O)N2[C...</td>\n",
       "      <td>0</td>\n",
       "      <td>TDC_adenot</td>\n",
       "      <td>bbb</td>\n",
       "    </tr>\n",
       "    <tr>\n",
       "      <th>1579</th>\n",
       "      <td>CN(C)[C@H]1C(O)=C(C(N)=O)C(=O)[C@@]2(O)C(O)=C3...</td>\n",
       "      <td>0</td>\n",
       "      <td>TDC_adenot</td>\n",
       "      <td>bbb</td>\n",
       "    </tr>\n",
       "    <tr>\n",
       "      <th>1580</th>\n",
       "      <td>CC1(C)S[C@@H]2[C@H](NC(=O)[C@@H](C(=O)O)c3ccsc...</td>\n",
       "      <td>0</td>\n",
       "      <td>TDC_adenot</td>\n",
       "      <td>bbb</td>\n",
       "    </tr>\n",
       "  </tbody>\n",
       "</table>\n",
       "<p>12488 rows × 4 columns</p>\n",
       "</div>"
      ],
      "text/plain": [
       "                                                 Smiles  value      source  \\\n",
       "0      O=C(O)c1cc(N=Nc2ccc(S(=O)(=O)Nc3ccccn3)cc2)ccc1O      0        B3DB   \n",
       "1     COC1(NC(=O)C(C(=O)O)c2ccc(O)cc2)C(=O)N2C(C(=O)...      0        B3DB   \n",
       "2                                Oc1c(I)cc(Cl)c2cccnc12      0        B3DB   \n",
       "3                            CCNC(=NCCSCc1ncccc1Br)NC#N      0        B3DB   \n",
       "4     CN1CC[C@]23c4c5ccc(OC6O[C@H](C(=O)O)[C@@H](O)[...      0        B3DB   \n",
       "...                                                 ...    ...         ...   \n",
       "1576  CO[C@H]1CCC[C@H]2C1=C(C=O)N1C(=O)[C@H]([C@@H](...      0  TDC_adenot   \n",
       "1577      CC/C(=C(/c1ccccc1)c1ccc(OCCN(C)C)cc1)c1ccccc1      0  TDC_adenot   \n",
       "1578  CO[C@@]1(NC(=O)[C@@H](C(=O)O)c2ccsc2)C(=O)N2[C...      0  TDC_adenot   \n",
       "1579  CN(C)[C@H]1C(O)=C(C(N)=O)C(=O)[C@@]2(O)C(O)=C3...      0  TDC_adenot   \n",
       "1580  CC1(C)S[C@@H]2[C@H](NC(=O)[C@@H](C(=O)O)c3ccsc...      0  TDC_adenot   \n",
       "\n",
       "     property  \n",
       "0         bbb  \n",
       "1         bbb  \n",
       "2         bbb  \n",
       "3         bbb  \n",
       "4         bbb  \n",
       "...       ...  \n",
       "1576      bbb  \n",
       "1577      bbb  \n",
       "1578      bbb  \n",
       "1579      bbb  \n",
       "1580      bbb  \n",
       "\n",
       "[12488 rows x 4 columns]"
      ]
     },
     "execution_count": 73,
     "metadata": {},
     "output_type": "execute_result"
    }
   ],
   "source": [
    "bbb_df"
   ]
  },
  {
   "cell_type": "code",
   "execution_count": 74,
   "id": "7e3ad4f3",
   "metadata": {
    "scrolled": true
   },
   "outputs": [
    {
     "name": "stderr",
     "output_type": "stream",
     "text": [
      "[15:51:51] WARNING: not removing hydrogen atom without neighbors\n",
      "[15:51:51] WARNING: not removing hydrogen atom without neighbors\n",
      "[15:51:51] WARNING: not removing hydrogen atom without neighbors\n",
      "[15:51:51] Explicit valence for atom # 8 C greater than permitted\n",
      "[15:51:51] WARNING: not removing hydrogen atom without neighbors\n",
      "[15:51:51] WARNING: not removing hydrogen atom without neighbors\n",
      "[15:51:51] WARNING: not removing hydrogen atom without neighbors\n",
      "[15:51:51] WARNING: not removing hydrogen atom without neighbors\n",
      "[15:51:51] WARNING: not removing hydrogen atom without neighbors\n",
      "[15:51:51] WARNING: not removing hydrogen atom without neighbors\n",
      "[15:51:51] WARNING: not removing hydrogen atom without neighbors\n",
      "[15:51:51] WARNING: not removing hydrogen atom without neighbors\n",
      "[15:51:51] WARNING: not removing hydrogen atom without neighbors\n",
      "[15:51:51] WARNING: not removing hydrogen atom without neighbors\n",
      "[15:51:51] WARNING: not removing hydrogen atom without neighbors\n",
      "[15:51:51] WARNING: not removing hydrogen atom without neighbors\n",
      "[15:51:51] WARNING: not removing hydrogen atom without neighbors\n",
      "[15:51:51] WARNING: not removing hydrogen atom without neighbors\n",
      "[15:51:51] WARNING: not removing hydrogen atom without neighbors\n",
      "[15:51:51] Explicit valence for atom # 8 C greater than permitted\n",
      "[15:51:51] WARNING: not removing hydrogen atom without neighbors\n",
      "[15:51:51] WARNING: not removing hydrogen atom without neighbors\n",
      "[15:51:51] WARNING: not removing hydrogen atom without neighbors\n",
      "[15:51:51] WARNING: not removing hydrogen atom without neighbors\n",
      "[15:51:51] WARNING: not removing hydrogen atom without neighbors\n",
      "[15:51:51] WARNING: not removing hydrogen atom without neighbors\n",
      "[15:51:51] WARNING: not removing hydrogen atom without neighbors\n",
      "[15:51:51] WARNING: not removing hydrogen atom without neighbors\n",
      "[15:51:51] WARNING: not removing hydrogen atom without neighbors\n",
      "[15:51:51] WARNING: not removing hydrogen atom without neighbors\n",
      "[15:51:51] WARNING: not removing hydrogen atom without neighbors\n",
      "[15:51:51] WARNING: not removing hydrogen atom without neighbors\n",
      "[15:51:51] WARNING: not removing hydrogen atom without neighbors\n",
      "[15:51:51] WARNING: not removing hydrogen atom without neighbors\n",
      "[15:51:51] WARNING: not removing hydrogen atom without neighbors\n",
      "[15:51:52] WARNING: not removing hydrogen atom without neighbors\n",
      "[15:51:52] WARNING: not removing hydrogen atom without neighbors\n",
      "[15:51:52] WARNING: not removing hydrogen atom without neighbors\n",
      "[15:51:52] WARNING: not removing hydrogen atom without neighbors\n",
      "[15:51:52] WARNING: not removing hydrogen atom without neighbors\n",
      "[15:51:52] WARNING: not removing hydrogen atom without neighbors\n",
      "[15:51:52] WARNING: not removing hydrogen atom without neighbors\n",
      "[15:51:53] WARNING: not removing hydrogen atom without neighbors\n",
      "[15:51:53] WARNING: not removing hydrogen atom without neighbors\n",
      "[15:51:53] WARNING: not removing hydrogen atom without neighbors\n",
      "[15:51:53] WARNING: not removing hydrogen atom without neighbors\n",
      "[15:51:53] WARNING: not removing hydrogen atom without neighbors\n",
      "[15:51:53] WARNING: not removing hydrogen atom without neighbors\n",
      "[15:51:53] WARNING: not removing hydrogen atom without neighbors\n",
      "[15:51:53] WARNING: not removing hydrogen atom without neighbors\n",
      "[15:51:53] WARNING: not removing hydrogen atom without neighbors\n",
      "[15:51:53] WARNING: not removing hydrogen atom without neighbors\n",
      "[15:51:53] WARNING: not removing hydrogen atom without neighbors\n",
      "[15:51:53] WARNING: not removing hydrogen atom without neighbors\n",
      "[15:51:53] WARNING: not removing hydrogen atom without neighbors\n",
      "[15:51:53] WARNING: not removing hydrogen atom without neighbors\n",
      "[15:51:53] WARNING: not removing hydrogen atom without neighbors\n",
      "[15:51:53] WARNING: not removing hydrogen atom without neighbors\n",
      "[15:51:53] WARNING: not removing hydrogen atom without neighbors\n",
      "[15:51:53] WARNING: not removing hydrogen atom without neighbors\n",
      "[15:51:53] WARNING: not removing hydrogen atom without neighbors\n",
      "[15:51:53] WARNING: not removing hydrogen atom without neighbors\n",
      "[15:51:53] WARNING: not removing hydrogen atom without neighbors\n",
      "[15:51:53] WARNING: not removing hydrogen atom without neighbors\n",
      "[15:51:53] WARNING: not removing hydrogen atom without neighbors\n",
      "[15:51:53] WARNING: not removing hydrogen atom without neighbors\n",
      "[15:51:53] WARNING: not removing hydrogen atom without neighbors\n",
      "[15:51:53] WARNING: not removing hydrogen atom without neighbors\n",
      "[15:51:53] WARNING: not removing hydrogen atom without neighbors\n",
      "[15:51:53] WARNING: not removing hydrogen atom without neighbors\n",
      "[15:51:53] WARNING: not removing hydrogen atom without neighbors\n",
      "[15:51:53] WARNING: not removing hydrogen atom without neighbors\n",
      "[15:51:53] WARNING: not removing hydrogen atom without neighbors\n",
      "[15:51:53] WARNING: not removing hydrogen atom without neighbors\n",
      "[15:51:53] WARNING: not removing hydrogen atom without neighbors\n",
      "[15:51:53] WARNING: not removing hydrogen atom without neighbors\n",
      "[15:51:53] WARNING: not removing hydrogen atom without neighbors\n",
      "[15:51:53] WARNING: not removing hydrogen atom without neighbors\n",
      "[15:51:53] WARNING: not removing hydrogen atom without neighbors\n",
      "[15:51:53] WARNING: not removing hydrogen atom without neighbors\n",
      "[15:51:53] WARNING: not removing hydrogen atom without neighbors\n",
      "[15:51:53] WARNING: not removing hydrogen atom without neighbors\n",
      "100%|██████████████████████████████████████| 12486/12486 [00:00<00:00, 13771.53it/s]\n"
     ]
    },
    {
     "name": "stdout",
     "output_type": "stream",
     "text": [
      "SANITIZE_NONE    12486\n",
      "Name: Smiles_check, dtype: int64\n"
     ]
    },
    {
     "name": "stderr",
     "output_type": "stream",
     "text": [
      "100%|████████████████████████████████████| 12486/12486 [00:00<00:00, 1201010.89it/s]\n",
      "12486it [00:12, 1020.60it/s]\n"
     ]
    },
    {
     "name": "stdout",
     "output_type": "stream",
     "text": [
      "Metal in Smiles amount: 0\n"
     ]
    },
    {
     "name": "stderr",
     "output_type": "stream",
     "text": [
      "100%|██████████████████████████████████████| 12486/12486 [00:00<00:00, 13281.67it/s]\n"
     ]
    }
   ],
   "source": [
    "bbb_df = process_stage_1(bbb_df,'Smiles')"
   ]
  },
  {
   "cell_type": "code",
   "execution_count": 75,
   "id": "3582886d-c76f-4e42-b95c-e0436a064e47",
   "metadata": {},
   "outputs": [],
   "source": [
    "bbb_df = bbb_df[['Smiles_unify','Smiles','value','source','property']]"
   ]
  },
  {
   "cell_type": "code",
   "execution_count": 76,
   "id": "785b0733",
   "metadata": {},
   "outputs": [],
   "source": [
    "bbb_df = bbb_df[bbb_df['value'].isin([0,1])]"
   ]
  },
  {
   "cell_type": "code",
   "execution_count": 77,
   "id": "d16d7cfe",
   "metadata": {},
   "outputs": [
    {
     "data": {
      "text/html": [
       "<div>\n",
       "<style scoped>\n",
       "    .dataframe tbody tr th:only-of-type {\n",
       "        vertical-align: middle;\n",
       "    }\n",
       "\n",
       "    .dataframe tbody tr th {\n",
       "        vertical-align: top;\n",
       "    }\n",
       "\n",
       "    .dataframe thead th {\n",
       "        text-align: right;\n",
       "    }\n",
       "</style>\n",
       "<table border=\"1\" class=\"dataframe\">\n",
       "  <thead>\n",
       "    <tr style=\"text-align: right;\">\n",
       "      <th></th>\n",
       "      <th>Smiles_unify</th>\n",
       "      <th>Smiles</th>\n",
       "      <th>value</th>\n",
       "      <th>source</th>\n",
       "      <th>property</th>\n",
       "    </tr>\n",
       "  </thead>\n",
       "  <tbody>\n",
       "    <tr>\n",
       "      <th>0</th>\n",
       "      <td>O=C(O)c1cc(N=Nc2ccc(S(=O)(=O)Nc3ccccn3)cc2)ccc1O</td>\n",
       "      <td>O=C(O)c1cc(N=Nc2ccc(S(=O)(=O)Nc3ccccn3)cc2)ccc1O</td>\n",
       "      <td>0</td>\n",
       "      <td>B3DB</td>\n",
       "      <td>bbb</td>\n",
       "    </tr>\n",
       "    <tr>\n",
       "      <th>1</th>\n",
       "      <td>COC1(NC(=O)C(C(=O)O)c2ccc(O)cc2)C(=O)N2C(C(=O)...</td>\n",
       "      <td>COC1(NC(=O)C(C(=O)O)c2ccc(O)cc2)C(=O)N2C(C(=O)...</td>\n",
       "      <td>0</td>\n",
       "      <td>B3DB</td>\n",
       "      <td>bbb</td>\n",
       "    </tr>\n",
       "    <tr>\n",
       "      <th>2</th>\n",
       "      <td>Oc1c(I)cc(Cl)c2cccnc12</td>\n",
       "      <td>Oc1c(I)cc(Cl)c2cccnc12</td>\n",
       "      <td>0</td>\n",
       "      <td>B3DB</td>\n",
       "      <td>bbb</td>\n",
       "    </tr>\n",
       "    <tr>\n",
       "      <th>3</th>\n",
       "      <td>CCNC(=NCCSCc1ncccc1Br)NC#N</td>\n",
       "      <td>CCNC(=NCCSCc1ncccc1Br)NC#N</td>\n",
       "      <td>0</td>\n",
       "      <td>B3DB</td>\n",
       "      <td>bbb</td>\n",
       "    </tr>\n",
       "    <tr>\n",
       "      <th>4</th>\n",
       "      <td>CN1CC[C@]23c4c5ccc(OC6O[C@H](C(=O)O)[C@@H](O)[...</td>\n",
       "      <td>CN1CC[C@]23c4c5ccc(OC6O[C@H](C(=O)O)[C@@H](O)[...</td>\n",
       "      <td>0</td>\n",
       "      <td>B3DB</td>\n",
       "      <td>bbb</td>\n",
       "    </tr>\n",
       "    <tr>\n",
       "      <th>...</th>\n",
       "      <td>...</td>\n",
       "      <td>...</td>\n",
       "      <td>...</td>\n",
       "      <td>...</td>\n",
       "      <td>...</td>\n",
       "    </tr>\n",
       "    <tr>\n",
       "      <th>1576</th>\n",
       "      <td>CO[C@H]1CCC[C@H]2C1=C(C=O)N1C(=O)[C@H]([C@@H](...</td>\n",
       "      <td>CO[C@H]1CCC[C@H]2C1=C(C=O)N1C(=O)[C@H]([C@@H](...</td>\n",
       "      <td>0</td>\n",
       "      <td>TDC_adenot</td>\n",
       "      <td>bbb</td>\n",
       "    </tr>\n",
       "    <tr>\n",
       "      <th>1577</th>\n",
       "      <td>CC/C(=C(/c1ccccc1)c1ccc(OCCN(C)C)cc1)c1ccccc1</td>\n",
       "      <td>CC/C(=C(/c1ccccc1)c1ccc(OCCN(C)C)cc1)c1ccccc1</td>\n",
       "      <td>0</td>\n",
       "      <td>TDC_adenot</td>\n",
       "      <td>bbb</td>\n",
       "    </tr>\n",
       "    <tr>\n",
       "      <th>1578</th>\n",
       "      <td>CO[C@@]1(NC(=O)[C@@H](C(=O)O)c2ccsc2)C(=O)N2[C...</td>\n",
       "      <td>CO[C@@]1(NC(=O)[C@@H](C(=O)O)c2ccsc2)C(=O)N2[C...</td>\n",
       "      <td>0</td>\n",
       "      <td>TDC_adenot</td>\n",
       "      <td>bbb</td>\n",
       "    </tr>\n",
       "    <tr>\n",
       "      <th>1579</th>\n",
       "      <td>CN(C)[C@H]1C(O)=C(C(N)=O)C(=O)[C@@]2(O)C(O)=C3...</td>\n",
       "      <td>CN(C)[C@H]1C(O)=C(C(N)=O)C(=O)[C@@]2(O)C(O)=C3...</td>\n",
       "      <td>0</td>\n",
       "      <td>TDC_adenot</td>\n",
       "      <td>bbb</td>\n",
       "    </tr>\n",
       "    <tr>\n",
       "      <th>1580</th>\n",
       "      <td>CC1(C)S[C@@H]2[C@H](NC(=O)[C@@H](C(=O)O)c3ccsc...</td>\n",
       "      <td>CC1(C)S[C@@H]2[C@H](NC(=O)[C@@H](C(=O)O)c3ccsc...</td>\n",
       "      <td>0</td>\n",
       "      <td>TDC_adenot</td>\n",
       "      <td>bbb</td>\n",
       "    </tr>\n",
       "  </tbody>\n",
       "</table>\n",
       "<p>12486 rows × 5 columns</p>\n",
       "</div>"
      ],
      "text/plain": [
       "                                           Smiles_unify  \\\n",
       "0      O=C(O)c1cc(N=Nc2ccc(S(=O)(=O)Nc3ccccn3)cc2)ccc1O   \n",
       "1     COC1(NC(=O)C(C(=O)O)c2ccc(O)cc2)C(=O)N2C(C(=O)...   \n",
       "2                                Oc1c(I)cc(Cl)c2cccnc12   \n",
       "3                            CCNC(=NCCSCc1ncccc1Br)NC#N   \n",
       "4     CN1CC[C@]23c4c5ccc(OC6O[C@H](C(=O)O)[C@@H](O)[...   \n",
       "...                                                 ...   \n",
       "1576  CO[C@H]1CCC[C@H]2C1=C(C=O)N1C(=O)[C@H]([C@@H](...   \n",
       "1577      CC/C(=C(/c1ccccc1)c1ccc(OCCN(C)C)cc1)c1ccccc1   \n",
       "1578  CO[C@@]1(NC(=O)[C@@H](C(=O)O)c2ccsc2)C(=O)N2[C...   \n",
       "1579  CN(C)[C@H]1C(O)=C(C(N)=O)C(=O)[C@@]2(O)C(O)=C3...   \n",
       "1580  CC1(C)S[C@@H]2[C@H](NC(=O)[C@@H](C(=O)O)c3ccsc...   \n",
       "\n",
       "                                                 Smiles  value      source  \\\n",
       "0      O=C(O)c1cc(N=Nc2ccc(S(=O)(=O)Nc3ccccn3)cc2)ccc1O      0        B3DB   \n",
       "1     COC1(NC(=O)C(C(=O)O)c2ccc(O)cc2)C(=O)N2C(C(=O)...      0        B3DB   \n",
       "2                                Oc1c(I)cc(Cl)c2cccnc12      0        B3DB   \n",
       "3                            CCNC(=NCCSCc1ncccc1Br)NC#N      0        B3DB   \n",
       "4     CN1CC[C@]23c4c5ccc(OC6O[C@H](C(=O)O)[C@@H](O)[...      0        B3DB   \n",
       "...                                                 ...    ...         ...   \n",
       "1576  CO[C@H]1CCC[C@H]2C1=C(C=O)N1C(=O)[C@H]([C@@H](...      0  TDC_adenot   \n",
       "1577      CC/C(=C(/c1ccccc1)c1ccc(OCCN(C)C)cc1)c1ccccc1      0  TDC_adenot   \n",
       "1578  CO[C@@]1(NC(=O)[C@@H](C(=O)O)c2ccsc2)C(=O)N2[C...      0  TDC_adenot   \n",
       "1579  CN(C)[C@H]1C(O)=C(C(N)=O)C(=O)[C@@]2(O)C(O)=C3...      0  TDC_adenot   \n",
       "1580  CC1(C)S[C@@H]2[C@H](NC(=O)[C@@H](C(=O)O)c3ccsc...      0  TDC_adenot   \n",
       "\n",
       "     property  \n",
       "0         bbb  \n",
       "1         bbb  \n",
       "2         bbb  \n",
       "3         bbb  \n",
       "4         bbb  \n",
       "...       ...  \n",
       "1576      bbb  \n",
       "1577      bbb  \n",
       "1578      bbb  \n",
       "1579      bbb  \n",
       "1580      bbb  \n",
       "\n",
       "[12486 rows x 5 columns]"
      ]
     },
     "execution_count": 77,
     "metadata": {},
     "output_type": "execute_result"
    }
   ],
   "source": [
    "bbb_df"
   ]
  },
  {
   "cell_type": "code",
   "execution_count": 79,
   "id": "a0e8b6eb",
   "metadata": {},
   "outputs": [],
   "source": [
    "bbb_df.to_csv('../data/data_processing_result/bbb_preprocessing_finished.csv',index=False)"
   ]
  },
  {
   "cell_type": "code",
   "execution_count": null,
   "id": "baf0e5f3",
   "metadata": {},
   "outputs": [],
   "source": []
  }
 ],
 "metadata": {
  "kernelspec": {
   "display_name": "Python 3 (ipykernel)",
   "language": "python",
   "name": "python3"
  },
  "language_info": {
   "codemirror_mode": {
    "name": "ipython",
    "version": 3
   },
   "file_extension": ".py",
   "mimetype": "text/x-python",
   "name": "python",
   "nbconvert_exporter": "python",
   "pygments_lexer": "ipython3",
   "version": "3.9.6"
  }
 },
 "nbformat": 4,
 "nbformat_minor": 5
}
