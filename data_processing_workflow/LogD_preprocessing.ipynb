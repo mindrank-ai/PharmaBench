{
 "cells": [
  {
   "cell_type": "code",
   "execution_count": 1,
   "id": "6941b0b5-09c2-4e9b-acb0-502be54181ff",
   "metadata": {
    "tags": []
   },
   "outputs": [
    {
     "name": "stdout",
     "output_type": "stream",
     "text": [
      "INFO: Pandarallel will run on 20 workers.\n",
      "INFO: Pandarallel will use standard multiprocessing data transfer (pipe) to transfer data between the main process and workers.\n"
     ]
    }
   ],
   "source": [
    "import os\n",
    "import numpy as np\n",
    "import pandas as pd\n",
    "pd.set_option('display.max_columns',50)\n",
    "pd.set_option('display.max_rows',50)\n",
    "pd.options.mode.chained_assignment = None\n",
    "\n",
    "import random\n",
    "random.seed(68)\n",
    "\n",
    "from pandarallel import pandarallel\n",
    "pandarallel.initialize(nb_workers=20)\n",
    "\n",
    "from rdkit import Chem\n",
    "from rdkit.Chem import PandasTools"
   ]
  },
  {
   "cell_type": "code",
   "execution_count": 3,
   "id": "e8eac678-7f02-47f0-bbfa-22c5c904d227",
   "metadata": {},
   "outputs": [],
   "source": [
    "import sys\n",
    "sys.path.append('../')\n",
    "from Draw_fig import Draw_plot\n",
    "from standardization_process import *"
   ]
  },
  {
   "cell_type": "code",
   "execution_count": 4,
   "id": "47b82494",
   "metadata": {},
   "outputs": [],
   "source": [
    "def process_stage_1(df,smi_col):\n",
    "    df[smi_col] = df[smi_col].parallel_apply(smi_to_smi)\n",
    "    df = df[~df[smi_col].isna()]\n",
    "    df = smiles_check(df , smi_col)\n",
    "    df = df[df['Smiles_check'] != False]\n",
    "    df = remove_salt(df, smi_col)\n",
    "    metal_index = metal_check(df, 'Smiles_removesalt')\n",
    "    df = df[~df.index.isin(metal_index)]\n",
    "    df = smiles_unify(df, 'Smiles_removesalt')\n",
    "    return df "
   ]
  },
  {
   "cell_type": "markdown",
   "id": "242e6c31-7d09-4eb4-ae40-366330843af6",
   "metadata": {},
   "source": [
    "# Summary for the raw data"
   ]
  },
  {
   "cell_type": "code",
   "execution_count": 7,
   "id": "ef1d1551",
   "metadata": {},
   "outputs": [],
   "source": [
    "LogD_chembl_raw_data = pd.read_csv('../data/data_mining_results/LogD/LogD_Chembl_data_mining_finished.csv')\n",
    "LogD_AZ_raw_data = pd.read_csv('../data/raw_data/logd/LogD_AZ_raw_data.csv')"
   ]
  },
  {
   "cell_type": "code",
   "execution_count": 9,
   "id": "692c6937",
   "metadata": {},
   "outputs": [],
   "source": [
    "LogD_chembl_raw_data = LogD_chembl_raw_data[~LogD_chembl_raw_data['LogD experiment'].isna()]"
   ]
  },
  {
   "cell_type": "code",
   "execution_count": 12,
   "id": "18b1959f",
   "metadata": {},
   "outputs": [
    {
     "data": {
      "text/plain": [
       "2261"
      ]
     },
     "execution_count": 12,
     "metadata": {},
     "output_type": "execute_result"
    }
   ],
   "source": [
    "LogD_chembl_raw_data['Assay ChEMBL ID'].nunique()"
   ]
  },
  {
   "cell_type": "code",
   "execution_count": 13,
   "id": "f98ce810",
   "metadata": {},
   "outputs": [
    {
     "data": {
      "text/plain": [
       "(25332, 22)"
      ]
     },
     "execution_count": 13,
     "metadata": {},
     "output_type": "execute_result"
    }
   ],
   "source": [
    "LogD_chembl_raw_data.shape"
   ]
  },
  {
   "cell_type": "code",
   "execution_count": 14,
   "id": "5a22d7f2",
   "metadata": {},
   "outputs": [
    {
     "data": {
      "text/plain": [
       "(4132, 3)"
      ]
     },
     "execution_count": 14,
     "metadata": {},
     "output_type": "execute_result"
    }
   ],
   "source": [
    "LogD_AZ_raw_data.shape"
   ]
  },
  {
   "cell_type": "code",
   "execution_count": null,
   "id": "0259dc5d",
   "metadata": {},
   "outputs": [],
   "source": []
  },
  {
   "cell_type": "markdown",
   "id": "ad715ec7-62ae-49a5-9dd4-1940ef381c89",
   "metadata": {},
   "source": [
    "### Chembl"
   ]
  },
  {
   "cell_type": "code",
   "execution_count": 18,
   "id": "65bbd692",
   "metadata": {},
   "outputs": [
    {
     "data": {
      "text/plain": [
       "(25963, 22)"
      ]
     },
     "execution_count": 18,
     "metadata": {},
     "output_type": "execute_result"
    }
   ],
   "source": [
    "LogD_chembl_raw_data = pd.read_csv('../data/data_mining_results/LogD/LogD_Chembl_data_mining_finished.csv')\n",
    "LogD_chembl_raw_data.shape"
   ]
  },
  {
   "cell_type": "code",
   "execution_count": 19,
   "id": "0dc46797",
   "metadata": {},
   "outputs": [],
   "source": [
    "LogD_chembl_raw_data = LogD_chembl_raw_data[LogD_chembl_raw_data['Standard Relation'] == \"'='\"]"
   ]
  },
  {
   "cell_type": "code",
   "execution_count": 20,
   "id": "418572ff",
   "metadata": {},
   "outputs": [
    {
     "data": {
      "text/html": [
       "<div>\n",
       "<style scoped>\n",
       "    .dataframe tbody tr th:only-of-type {\n",
       "        vertical-align: middle;\n",
       "    }\n",
       "\n",
       "    .dataframe tbody tr th {\n",
       "        vertical-align: top;\n",
       "    }\n",
       "\n",
       "    .dataframe thead th {\n",
       "        text-align: right;\n",
       "    }\n",
       "</style>\n",
       "<table border=\"1\" class=\"dataframe\">\n",
       "  <thead>\n",
       "    <tr style=\"text-align: right;\">\n",
       "      <th></th>\n",
       "      <th>Molecule ChEMBL ID</th>\n",
       "      <th>Smiles</th>\n",
       "      <th>Standard Type</th>\n",
       "      <th>Standard Relation</th>\n",
       "      <th>Standard Value</th>\n",
       "      <th>Standard Units</th>\n",
       "      <th>Assay ChEMBL ID</th>\n",
       "      <th>Assay Description</th>\n",
       "      <th>Assay Type</th>\n",
       "      <th>BAO Format ID</th>\n",
       "      <th>BAO Label</th>\n",
       "      <th>Document ChEMBL ID</th>\n",
       "      <th>Source Description</th>\n",
       "      <th>Document Journal</th>\n",
       "      <th>Document Year</th>\n",
       "      <th>pH</th>\n",
       "      <th>Analytical Method</th>\n",
       "      <th>Solvent System</th>\n",
       "      <th>Equilibration Technique</th>\n",
       "      <th>Incubation Time</th>\n",
       "      <th>Shaking Condition</th>\n",
       "      <th>LogD experiment</th>\n",
       "    </tr>\n",
       "  </thead>\n",
       "  <tbody>\n",
       "    <tr>\n",
       "      <th>0</th>\n",
       "      <td>CHEMBL205526</td>\n",
       "      <td>CC(C)Cn1c(=O)n(C)c(=O)c2c(SCCCO)c(Cc3cccc4cccc...</td>\n",
       "      <td>LogD</td>\n",
       "      <td>'='</td>\n",
       "      <td>4.80</td>\n",
       "      <td>NaN</td>\n",
       "      <td>CHEMBL869598</td>\n",
       "      <td>Lipophilicity, LogD of the compound</td>\n",
       "      <td>P</td>\n",
       "      <td>BAO_0000100</td>\n",
       "      <td>small-molecule physicochemical format</td>\n",
       "      <td>CHEMBL1146970</td>\n",
       "      <td>Scientific Literature</td>\n",
       "      <td>Bioorg Med Chem Lett</td>\n",
       "      <td>2006.0</td>\n",
       "      <td>NaN</td>\n",
       "      <td>NaN</td>\n",
       "      <td>NaN</td>\n",
       "      <td>NaN</td>\n",
       "      <td>NaN</td>\n",
       "      <td>NaN</td>\n",
       "      <td>True</td>\n",
       "    </tr>\n",
       "    <tr>\n",
       "      <th>1</th>\n",
       "      <td>CHEMBL208330</td>\n",
       "      <td>CC(C)Cn1c(=O)n(C)c(=O)c2c(C(=O)N(C)C)c(Cc3cccc...</td>\n",
       "      <td>LogD</td>\n",
       "      <td>'='</td>\n",
       "      <td>2.90</td>\n",
       "      <td>NaN</td>\n",
       "      <td>CHEMBL869598</td>\n",
       "      <td>Lipophilicity, LogD of the compound</td>\n",
       "      <td>P</td>\n",
       "      <td>BAO_0000100</td>\n",
       "      <td>small-molecule physicochemical format</td>\n",
       "      <td>CHEMBL1146970</td>\n",
       "      <td>Scientific Literature</td>\n",
       "      <td>Bioorg Med Chem Lett</td>\n",
       "      <td>2006.0</td>\n",
       "      <td>NaN</td>\n",
       "      <td>NaN</td>\n",
       "      <td>NaN</td>\n",
       "      <td>NaN</td>\n",
       "      <td>NaN</td>\n",
       "      <td>NaN</td>\n",
       "      <td>True</td>\n",
       "    </tr>\n",
       "    <tr>\n",
       "      <th>2</th>\n",
       "      <td>CHEMBL380947</td>\n",
       "      <td>CC(C)(CO)Nc1nc(SCc2cccc(F)c2F)nc2nc(N)sc12</td>\n",
       "      <td>LogD</td>\n",
       "      <td>'='</td>\n",
       "      <td>3.40</td>\n",
       "      <td>NaN</td>\n",
       "      <td>CHEMBL862385</td>\n",
       "      <td>Distribution coefficient of the compound, log D</td>\n",
       "      <td>P</td>\n",
       "      <td>BAO_0000100</td>\n",
       "      <td>small-molecule physicochemical format</td>\n",
       "      <td>CHEMBL1149469</td>\n",
       "      <td>Scientific Literature</td>\n",
       "      <td>Bioorg Med Chem Lett</td>\n",
       "      <td>2006.0</td>\n",
       "      <td>NaN</td>\n",
       "      <td>NaN</td>\n",
       "      <td>NaN</td>\n",
       "      <td>NaN</td>\n",
       "      <td>NaN</td>\n",
       "      <td>NaN</td>\n",
       "      <td>True</td>\n",
       "    </tr>\n",
       "    <tr>\n",
       "      <th>3</th>\n",
       "      <td>CHEMBL272323</td>\n",
       "      <td>C[C@H](Cc1cccc(CC(=O)NC2C3CC4CC(C3)CC2C4)c1)NC...</td>\n",
       "      <td>LogD</td>\n",
       "      <td>'='</td>\n",
       "      <td>2.10</td>\n",
       "      <td>NaN</td>\n",
       "      <td>CHEMBL946922</td>\n",
       "      <td>Distribution coefficient, log D of the compound</td>\n",
       "      <td>P</td>\n",
       "      <td>BAO_0000100</td>\n",
       "      <td>small-molecule physicochemical format</td>\n",
       "      <td>CHEMBL1142368</td>\n",
       "      <td>Scientific Literature</td>\n",
       "      <td>Bioorg Med Chem Lett</td>\n",
       "      <td>2008.0</td>\n",
       "      <td>NaN</td>\n",
       "      <td>NaN</td>\n",
       "      <td>NaN</td>\n",
       "      <td>NaN</td>\n",
       "      <td>NaN</td>\n",
       "      <td>NaN</td>\n",
       "      <td>True</td>\n",
       "    </tr>\n",
       "    <tr>\n",
       "      <th>4</th>\n",
       "      <td>CHEMBL270199</td>\n",
       "      <td>C[C@H](Cc1cccc(CC(=O)NCC2CCCCC2)c1)NC[C@H](O)c...</td>\n",
       "      <td>LogD</td>\n",
       "      <td>'='</td>\n",
       "      <td>1.50</td>\n",
       "      <td>NaN</td>\n",
       "      <td>CHEMBL946922</td>\n",
       "      <td>Distribution coefficient, log D of the compound</td>\n",
       "      <td>P</td>\n",
       "      <td>BAO_0000100</td>\n",
       "      <td>small-molecule physicochemical format</td>\n",
       "      <td>CHEMBL1142368</td>\n",
       "      <td>Scientific Literature</td>\n",
       "      <td>Bioorg Med Chem Lett</td>\n",
       "      <td>2008.0</td>\n",
       "      <td>NaN</td>\n",
       "      <td>NaN</td>\n",
       "      <td>NaN</td>\n",
       "      <td>NaN</td>\n",
       "      <td>NaN</td>\n",
       "      <td>NaN</td>\n",
       "      <td>True</td>\n",
       "    </tr>\n",
       "    <tr>\n",
       "      <th>...</th>\n",
       "      <td>...</td>\n",
       "      <td>...</td>\n",
       "      <td>...</td>\n",
       "      <td>...</td>\n",
       "      <td>...</td>\n",
       "      <td>...</td>\n",
       "      <td>...</td>\n",
       "      <td>...</td>\n",
       "      <td>...</td>\n",
       "      <td>...</td>\n",
       "      <td>...</td>\n",
       "      <td>...</td>\n",
       "      <td>...</td>\n",
       "      <td>...</td>\n",
       "      <td>...</td>\n",
       "      <td>...</td>\n",
       "      <td>...</td>\n",
       "      <td>...</td>\n",
       "      <td>...</td>\n",
       "      <td>...</td>\n",
       "      <td>...</td>\n",
       "      <td>...</td>\n",
       "    </tr>\n",
       "    <tr>\n",
       "      <th>25958</th>\n",
       "      <td>CHEMBL5169763</td>\n",
       "      <td>COc1cc(F)ccc1-c1cnc2sc(N3CC[C@@H](O)[C@@H](N)C...</td>\n",
       "      <td>LogD</td>\n",
       "      <td>'='</td>\n",
       "      <td>2.00</td>\n",
       "      <td>NaN</td>\n",
       "      <td>CHEMBL5160047</td>\n",
       "      <td>Lipophilicity, log D of compound at pH 7.4</td>\n",
       "      <td>P</td>\n",
       "      <td>BAO_0000100</td>\n",
       "      <td>small-molecule physicochemical format</td>\n",
       "      <td>CHEMBL5154768</td>\n",
       "      <td>Scientific Literature</td>\n",
       "      <td>J Med Chem</td>\n",
       "      <td>2022.0</td>\n",
       "      <td>7.4</td>\n",
       "      <td>NaN</td>\n",
       "      <td>NaN</td>\n",
       "      <td>NaN</td>\n",
       "      <td>NaN</td>\n",
       "      <td>NaN</td>\n",
       "      <td>True</td>\n",
       "    </tr>\n",
       "    <tr>\n",
       "      <th>25959</th>\n",
       "      <td>CHEMBL4448829</td>\n",
       "      <td>C[C@H](CCC(C)(C)O)[C@H]1CC[C@H]2[C@@H]3CC=C4C[...</td>\n",
       "      <td>LogD</td>\n",
       "      <td>'='</td>\n",
       "      <td>5.00</td>\n",
       "      <td>NaN</td>\n",
       "      <td>CHEMBL5136724</td>\n",
       "      <td>Lipophilicity, logD of compound in MeOH at 20 ...</td>\n",
       "      <td>P</td>\n",
       "      <td>BAO_0000100</td>\n",
       "      <td>small-molecule physicochemical format</td>\n",
       "      <td>CHEMBL5131569</td>\n",
       "      <td>Scientific Literature</td>\n",
       "      <td>J Med Chem</td>\n",
       "      <td>2022.0</td>\n",
       "      <td>NaN</td>\n",
       "      <td>HPLC</td>\n",
       "      <td>MeOH</td>\n",
       "      <td>NaN</td>\n",
       "      <td>NaN</td>\n",
       "      <td>NaN</td>\n",
       "      <td>True</td>\n",
       "    </tr>\n",
       "    <tr>\n",
       "      <th>25960</th>\n",
       "      <td>CHEMBL5205388</td>\n",
       "      <td>C[C@H]1C[C@@H](O)CN(c2ncc(Cl)c(Nc3ccc4c(c3)c3c...</td>\n",
       "      <td>LogD</td>\n",
       "      <td>'='</td>\n",
       "      <td>3.00</td>\n",
       "      <td>NaN</td>\n",
       "      <td>CHEMBL5168566</td>\n",
       "      <td>Lipophilicity, logD of compound at pH 7.4 by U...</td>\n",
       "      <td>P</td>\n",
       "      <td>BAO_0000100</td>\n",
       "      <td>small-molecule physicochemical format</td>\n",
       "      <td>CHEMBL5154939</td>\n",
       "      <td>Scientific Literature</td>\n",
       "      <td>J Med Chem</td>\n",
       "      <td>2022.0</td>\n",
       "      <td>7.4</td>\n",
       "      <td>UV-vis detection based HPLC</td>\n",
       "      <td>NaN</td>\n",
       "      <td>NaN</td>\n",
       "      <td>NaN</td>\n",
       "      <td>NaN</td>\n",
       "      <td>True</td>\n",
       "    </tr>\n",
       "    <tr>\n",
       "      <th>25961</th>\n",
       "      <td>CHEMBL5198667</td>\n",
       "      <td>COc1cccc2[nH]c(C(=O)N[C@@H](CC(C)C)C(=O)N[C@@H...</td>\n",
       "      <td>LogD</td>\n",
       "      <td>'='</td>\n",
       "      <td>4.89</td>\n",
       "      <td>NaN</td>\n",
       "      <td>CHEMBL5155131</td>\n",
       "      <td>Lipophilicity, log D of the compound at phosph...</td>\n",
       "      <td>P</td>\n",
       "      <td>BAO_0000100</td>\n",
       "      <td>small-molecule physicochemical format</td>\n",
       "      <td>CHEMBL5154637</td>\n",
       "      <td>Scientific Literature</td>\n",
       "      <td>J Med Chem</td>\n",
       "      <td>2022.0</td>\n",
       "      <td>7.4</td>\n",
       "      <td>LC-MS/MS</td>\n",
       "      <td>NaN</td>\n",
       "      <td>NaN</td>\n",
       "      <td>NaN</td>\n",
       "      <td>shake flask</td>\n",
       "      <td>True</td>\n",
       "    </tr>\n",
       "    <tr>\n",
       "      <th>25962</th>\n",
       "      <td>CHEMBL5204388</td>\n",
       "      <td>CN(C)C(=O)[C@H]1CCC[C@@H](c2cccc(-n3ncc(C(=O)O...</td>\n",
       "      <td>LogD</td>\n",
       "      <td>'='</td>\n",
       "      <td>1.70</td>\n",
       "      <td>NaN</td>\n",
       "      <td>CHEMBL5152130</td>\n",
       "      <td>Lipophilicity, logD of compound at pH 2 to 10....</td>\n",
       "      <td>P</td>\n",
       "      <td>BAO_0000100</td>\n",
       "      <td>small-molecule physicochemical format</td>\n",
       "      <td>CHEMBL5150008</td>\n",
       "      <td>Scientific Literature</td>\n",
       "      <td>J Med Chem</td>\n",
       "      <td>2021.0</td>\n",
       "      <td>NaN</td>\n",
       "      <td>reversed-phase HPLC</td>\n",
       "      <td>octanol and water</td>\n",
       "      <td>NaN</td>\n",
       "      <td>NaN</td>\n",
       "      <td>NaN</td>\n",
       "      <td>True</td>\n",
       "    </tr>\n",
       "  </tbody>\n",
       "</table>\n",
       "<p>25243 rows × 22 columns</p>\n",
       "</div>"
      ],
      "text/plain": [
       "      Molecule ChEMBL ID                                             Smiles  \\\n",
       "0           CHEMBL205526  CC(C)Cn1c(=O)n(C)c(=O)c2c(SCCCO)c(Cc3cccc4cccc...   \n",
       "1           CHEMBL208330  CC(C)Cn1c(=O)n(C)c(=O)c2c(C(=O)N(C)C)c(Cc3cccc...   \n",
       "2           CHEMBL380947         CC(C)(CO)Nc1nc(SCc2cccc(F)c2F)nc2nc(N)sc12   \n",
       "3           CHEMBL272323  C[C@H](Cc1cccc(CC(=O)NC2C3CC4CC(C3)CC2C4)c1)NC...   \n",
       "4           CHEMBL270199  C[C@H](Cc1cccc(CC(=O)NCC2CCCCC2)c1)NC[C@H](O)c...   \n",
       "...                  ...                                                ...   \n",
       "25958      CHEMBL5169763  COc1cc(F)ccc1-c1cnc2sc(N3CC[C@@H](O)[C@@H](N)C...   \n",
       "25959      CHEMBL4448829  C[C@H](CCC(C)(C)O)[C@H]1CC[C@H]2[C@@H]3CC=C4C[...   \n",
       "25960      CHEMBL5205388  C[C@H]1C[C@@H](O)CN(c2ncc(Cl)c(Nc3ccc4c(c3)c3c...   \n",
       "25961      CHEMBL5198667  COc1cccc2[nH]c(C(=O)N[C@@H](CC(C)C)C(=O)N[C@@H...   \n",
       "25962      CHEMBL5204388  CN(C)C(=O)[C@H]1CCC[C@@H](c2cccc(-n3ncc(C(=O)O...   \n",
       "\n",
       "      Standard Type Standard Relation  Standard Value  Standard Units  \\\n",
       "0              LogD               '='            4.80             NaN   \n",
       "1              LogD               '='            2.90             NaN   \n",
       "2              LogD               '='            3.40             NaN   \n",
       "3              LogD               '='            2.10             NaN   \n",
       "4              LogD               '='            1.50             NaN   \n",
       "...             ...               ...             ...             ...   \n",
       "25958          LogD               '='            2.00             NaN   \n",
       "25959          LogD               '='            5.00             NaN   \n",
       "25960          LogD               '='            3.00             NaN   \n",
       "25961          LogD               '='            4.89             NaN   \n",
       "25962          LogD               '='            1.70             NaN   \n",
       "\n",
       "      Assay ChEMBL ID                                  Assay Description  \\\n",
       "0        CHEMBL869598                Lipophilicity, LogD of the compound   \n",
       "1        CHEMBL869598                Lipophilicity, LogD of the compound   \n",
       "2        CHEMBL862385    Distribution coefficient of the compound, log D   \n",
       "3        CHEMBL946922    Distribution coefficient, log D of the compound   \n",
       "4        CHEMBL946922    Distribution coefficient, log D of the compound   \n",
       "...               ...                                                ...   \n",
       "25958   CHEMBL5160047         Lipophilicity, log D of compound at pH 7.4   \n",
       "25959   CHEMBL5136724  Lipophilicity, logD of compound in MeOH at 20 ...   \n",
       "25960   CHEMBL5168566  Lipophilicity, logD of compound at pH 7.4 by U...   \n",
       "25961   CHEMBL5155131  Lipophilicity, log D of the compound at phosph...   \n",
       "25962   CHEMBL5152130  Lipophilicity, logD of compound at pH 2 to 10....   \n",
       "\n",
       "      Assay Type BAO Format ID                              BAO Label  \\\n",
       "0              P   BAO_0000100  small-molecule physicochemical format   \n",
       "1              P   BAO_0000100  small-molecule physicochemical format   \n",
       "2              P   BAO_0000100  small-molecule physicochemical format   \n",
       "3              P   BAO_0000100  small-molecule physicochemical format   \n",
       "4              P   BAO_0000100  small-molecule physicochemical format   \n",
       "...          ...           ...                                    ...   \n",
       "25958          P   BAO_0000100  small-molecule physicochemical format   \n",
       "25959          P   BAO_0000100  small-molecule physicochemical format   \n",
       "25960          P   BAO_0000100  small-molecule physicochemical format   \n",
       "25961          P   BAO_0000100  small-molecule physicochemical format   \n",
       "25962          P   BAO_0000100  small-molecule physicochemical format   \n",
       "\n",
       "      Document ChEMBL ID     Source Description      Document Journal  \\\n",
       "0          CHEMBL1146970  Scientific Literature  Bioorg Med Chem Lett   \n",
       "1          CHEMBL1146970  Scientific Literature  Bioorg Med Chem Lett   \n",
       "2          CHEMBL1149469  Scientific Literature  Bioorg Med Chem Lett   \n",
       "3          CHEMBL1142368  Scientific Literature  Bioorg Med Chem Lett   \n",
       "4          CHEMBL1142368  Scientific Literature  Bioorg Med Chem Lett   \n",
       "...                  ...                    ...                   ...   \n",
       "25958      CHEMBL5154768  Scientific Literature            J Med Chem   \n",
       "25959      CHEMBL5131569  Scientific Literature            J Med Chem   \n",
       "25960      CHEMBL5154939  Scientific Literature            J Med Chem   \n",
       "25961      CHEMBL5154637  Scientific Literature            J Med Chem   \n",
       "25962      CHEMBL5150008  Scientific Literature            J Med Chem   \n",
       "\n",
       "       Document Year   pH            Analytical Method     Solvent System  \\\n",
       "0             2006.0  NaN                          NaN                NaN   \n",
       "1             2006.0  NaN                          NaN                NaN   \n",
       "2             2006.0  NaN                          NaN                NaN   \n",
       "3             2008.0  NaN                          NaN                NaN   \n",
       "4             2008.0  NaN                          NaN                NaN   \n",
       "...              ...  ...                          ...                ...   \n",
       "25958         2022.0  7.4                          NaN                NaN   \n",
       "25959         2022.0  NaN                         HPLC               MeOH   \n",
       "25960         2022.0  7.4  UV-vis detection based HPLC                NaN   \n",
       "25961         2022.0  7.4                     LC-MS/MS                NaN   \n",
       "25962         2021.0  NaN          reversed-phase HPLC  octanol and water   \n",
       "\n",
       "      Equilibration Technique Incubation Time Shaking Condition  \\\n",
       "0                         NaN             NaN               NaN   \n",
       "1                         NaN             NaN               NaN   \n",
       "2                         NaN             NaN               NaN   \n",
       "3                         NaN             NaN               NaN   \n",
       "4                         NaN             NaN               NaN   \n",
       "...                       ...             ...               ...   \n",
       "25958                     NaN             NaN               NaN   \n",
       "25959                     NaN             NaN               NaN   \n",
       "25960                     NaN             NaN               NaN   \n",
       "25961                     NaN             NaN       shake flask   \n",
       "25962                     NaN             NaN               NaN   \n",
       "\n",
       "      LogD experiment  \n",
       "0                True  \n",
       "1                True  \n",
       "2                True  \n",
       "3                True  \n",
       "4                True  \n",
       "...               ...  \n",
       "25958            True  \n",
       "25959            True  \n",
       "25960            True  \n",
       "25961            True  \n",
       "25962            True  \n",
       "\n",
       "[25243 rows x 22 columns]"
      ]
     },
     "execution_count": 20,
     "metadata": {},
     "output_type": "execute_result"
    }
   ],
   "source": [
    "LogD_chembl_raw_data"
   ]
  },
  {
   "cell_type": "code",
   "execution_count": 21,
   "id": "03cabb4b",
   "metadata": {},
   "outputs": [],
   "source": [
    "LogD_chembl_raw_data = LogD_chembl_raw_data[LogD_chembl_raw_data['LogD experiment'] == True]"
   ]
  },
  {
   "cell_type": "code",
   "execution_count": 22,
   "id": "fe3924bd",
   "metadata": {},
   "outputs": [
    {
     "name": "stderr",
     "output_type": "stream",
     "text": [
      "100%|███████████████████████████████████████| 24612/24612 [00:02<00:00, 9236.50it/s]\n"
     ]
    },
    {
     "name": "stdout",
     "output_type": "stream",
     "text": [
      "SANITIZE_NONE    24612\n",
      "Name: Smiles_check, dtype: int64\n"
     ]
    },
    {
     "name": "stderr",
     "output_type": "stream",
     "text": [
      "100%|█████████████████████████████████████| 24612/24612 [00:00<00:00, 905623.49it/s]\n",
      "24612it [00:25, 984.14it/s] \n"
     ]
    },
    {
     "name": "stdout",
     "output_type": "stream",
     "text": [
      "Metal in Smiles amount: 7\n"
     ]
    },
    {
     "name": "stderr",
     "output_type": "stream",
     "text": [
      "100%|██████████████████████████████████████| 24605/24605 [00:02<00:00, 10827.50it/s]\n"
     ]
    },
    {
     "data": {
      "text/plain": [
       "Index(['Molecule ChEMBL ID', 'Smiles', 'Standard Type', 'Standard Relation',\n",
       "       'Standard Value', 'Standard Units', 'Assay ChEMBL ID',\n",
       "       'Assay Description', 'Assay Type', 'BAO Format ID', 'BAO Label',\n",
       "       'Document ChEMBL ID', 'Source Description', 'Document Journal',\n",
       "       'Document Year', 'pH', 'Analytical Method', 'Solvent System',\n",
       "       'Equilibration Technique', 'Incubation Time', 'Shaking Condition',\n",
       "       'LogD experiment', 'Smiles_check', 'Smiles_removesalt', 'Smiles_unify'],\n",
       "      dtype='object')"
      ]
     },
     "execution_count": 22,
     "metadata": {},
     "output_type": "execute_result"
    }
   ],
   "source": [
    "LogD_chembl_raw_data = process_stage_1(LogD_chembl_raw_data,'Smiles')\n",
    "LogD_chembl_raw_data.columns"
   ]
  },
  {
   "cell_type": "code",
   "execution_count": 23,
   "id": "1f6fa481",
   "metadata": {},
   "outputs": [],
   "source": [
    "LogD_chembl_raw_data['source'] = LogD_chembl_raw_data['Assay ChEMBL ID']\n",
    "LogD_chembl_raw_data['value'] = LogD_chembl_raw_data['Standard Value']\n",
    "LogD_chembl_raw_data = LogD_chembl_raw_data[~LogD_chembl_raw_data['source'].isin(LogD_chembl_raw_data[LogD_chembl_raw_data['value'] > 10]['source'].unique())]"
   ]
  },
  {
   "cell_type": "code",
   "execution_count": 24,
   "id": "c43f6f9b",
   "metadata": {},
   "outputs": [],
   "source": [
    "LogD_chembl_raw_data = LogD_chembl_raw_data[LogD_chembl_raw_data['value'] > -5]"
   ]
  },
  {
   "cell_type": "code",
   "execution_count": 25,
   "id": "fc567f7e",
   "metadata": {},
   "outputs": [
    {
     "data": {
      "image/png": "[encoded data removed]",
      "text/plain": [
       "<Figure size 432x288 with 1 Axes>"
      ]
     },
     "metadata": {},
     "output_type": "display_data"
    }
   ],
   "source": [
    "plot_diagram(LogD_chembl_raw_data,['Smiles_unify'],'Standard Value')"
   ]
  },
  {
   "cell_type": "markdown",
   "id": "a97bc88d",
   "metadata": {},
   "source": [
    "# pH"
   ]
  },
  {
   "cell_type": "code",
   "execution_count": 26,
   "id": "23c0e75f",
   "metadata": {},
   "outputs": [],
   "source": [
    "LogD_chembl_raw_data['pH'] = LogD_chembl_raw_data['pH'].fillna(0)\n",
    "\n",
    "def convert_float(x):\n",
    "    try:\n",
    "        return float(x)\n",
    "    except:\n",
    "        return 0\n",
    "LogD_chembl_raw_data['pH'] = LogD_chembl_raw_data['pH'].map(convert_float)"
   ]
  },
  {
   "cell_type": "code",
   "execution_count": 27,
   "id": "430ab75e",
   "metadata": {},
   "outputs": [],
   "source": [
    "LogD_chembl_raw_data = LogD_chembl_raw_data[LogD_chembl_raw_data['pH'] == 7.4]"
   ]
  },
  {
   "cell_type": "markdown",
   "id": "9cc5c924",
   "metadata": {},
   "source": [
    "# Analytical Method"
   ]
  },
  {
   "cell_type": "code",
   "execution_count": 28,
   "id": "c527632e",
   "metadata": {},
   "outputs": [],
   "source": [
    "LogD_chembl_raw_data['Analytical Method'] = LogD_chembl_raw_data['Analytical Method'].fillna('unknown')"
   ]
  },
  {
   "cell_type": "code",
   "execution_count": 29,
   "id": "ab91a1ac",
   "metadata": {},
   "outputs": [],
   "source": [
    "LogD_chembl_raw_data = LogD_chembl_raw_data[LogD_chembl_raw_data['Analytical Method'].str.contains('unknown|shake|HPLC')]"
   ]
  },
  {
   "cell_type": "code",
   "execution_count": 30,
   "id": "aa13a472",
   "metadata": {},
   "outputs": [
    {
     "data": {
      "text/plain": [
       "unknown                        7436\n",
       "shake flask                    2331\n",
       "HPLC                           1615\n",
       "shake-flask                     338\n",
       "RP-HPLC                         236\n",
       "UV-HPLC                         177\n",
       "HPLC-MS                         122\n",
       "HPLC-UV                          88\n",
       "HPLC-MS/MS                       87\n",
       "reverse-phase HPLC               86\n",
       "gradient HPLC                    69\n",
       "microscale shake flask           61\n",
       "HPLC-DAD                         54\n",
       "UV-vis/HPLC                      49\n",
       "HPLC-LC/MS                       34\n",
       "shake flask HPLC                 31\n",
       "LC-MS/MS-based shake flask       30\n",
       "HPLC-based shake-flask           29\n",
       "fast gradient HPLC               23\n",
       "UV-vis detection based HPLC      20\n",
       "Name: Analytical Method, dtype: int64"
      ]
     },
     "execution_count": 30,
     "metadata": {},
     "output_type": "execute_result"
    }
   ],
   "source": [
    "LogD_chembl_raw_data['Analytical Method'].value_counts(dropna=False).head(20)"
   ]
  },
  {
   "cell_type": "code",
   "execution_count": 31,
   "id": "7dfbcccd",
   "metadata": {
    "scrolled": true
   },
   "outputs": [
    {
     "data": {
      "text/plain": [
       "unknown                                            8628\n",
       "octanol-water                                       776\n",
       "octanol/water                                       177\n",
       "1-octanol-water                                     103\n",
       "hexadecane-water                                     44\n",
       "octanol/water phosphate buffer                       43\n",
       "Octanol/water phosphate buffer                       39\n",
       "Octanol/water                                        38\n",
       "n-Octanol-water                                      30\n",
       "1-octanol and water containing phosphate buffer      22\n",
       "n-octanol-water                                      20\n",
       "n-octanol/water                                      18\n",
       "octanol-water in phosphate buffer                    13\n",
       "water-lipid                                          10\n",
       "n-octanol/water in HEPES buffer                       9\n",
       "1-octanol/water                                       8\n",
       "1-octanol/water in PBS                                8\n",
       "octanol to water                                      5\n",
       "water and octanol                                     5\n",
       "octanol and water                                     5\n",
       "Name: Solvent System, dtype: int64"
      ]
     },
     "execution_count": 31,
     "metadata": {},
     "output_type": "execute_result"
    }
   ],
   "source": [
    "LogD_chembl_raw_data['Solvent System'] = LogD_chembl_raw_data['Solvent System'].fillna('unknown')\n",
    "LogD_chembl_raw_data = LogD_chembl_raw_data[LogD_chembl_raw_data['Solvent System'].str.contains('unknown|water')]\n",
    "LogD_chembl_raw_data['Solvent System'].value_counts(dropna=False).head(20)"
   ]
  },
  {
   "cell_type": "code",
   "execution_count": 32,
   "id": "57ac1d52",
   "metadata": {},
   "outputs": [
    {
     "data": {
      "text/plain": [
       "unknown    10011\n",
       "Name: Equilibration Technique, dtype: int64"
      ]
     },
     "execution_count": 32,
     "metadata": {},
     "output_type": "execute_result"
    }
   ],
   "source": [
    "LogD_chembl_raw_data['Equilibration Technique'] = LogD_chembl_raw_data['Equilibration Technique'].fillna('unknown')\n",
    "# LogD_chembl_raw_data = LogD_chembl_raw_data[LogD_chembl_raw_data['Solvent System'].str.contains('unknown|water')]\n",
    "LogD_chembl_raw_data['Equilibration Technique'].value_counts(dropna=False).head(20)"
   ]
  },
  {
   "cell_type": "code",
   "execution_count": 33,
   "id": "83d7d6a0",
   "metadata": {},
   "outputs": [
    {
     "data": {
      "text/plain": [
       "unknown                    9840\n",
       "30 mins                      64\n",
       "5 hrs                        26\n",
       "24 hrs                       21\n",
       "4 hrs                        14\n",
       "6 hrs                        14\n",
       "2 hrs                        13\n",
       "1 hr                         11\n",
       "after 4 hrs                   2\n",
       "after 20 mins                 2\n",
       "under shaking condition       2\n",
       "Name: Incubation Time, dtype: int64"
      ]
     },
     "execution_count": 33,
     "metadata": {},
     "output_type": "execute_result"
    }
   ],
   "source": [
    "LogD_chembl_raw_data['Incubation Time'] = LogD_chembl_raw_data['Incubation Time'].fillna('unknown')\n",
    "LogD_chembl_raw_data = LogD_chembl_raw_data[~LogD_chembl_raw_data['Incubation Time'].str.contains('after 24 hrs')]\n",
    "LogD_chembl_raw_data['Incubation Time'].value_counts(dropna=False).head(20)"
   ]
  },
  {
   "cell_type": "code",
   "execution_count": 34,
   "id": "dc921463",
   "metadata": {},
   "outputs": [
    {
     "data": {
      "text/plain": [
       "unknown                     9015\n",
       "shake flask                  645\n",
       "shake-flask                  255\n",
       "microscale shake flask        61\n",
       "miniaturized shake-flask      23\n",
       "shaking                       10\n",
       "Name: Shaking Condition, dtype: int64"
      ]
     },
     "execution_count": 34,
     "metadata": {},
     "output_type": "execute_result"
    }
   ],
   "source": [
    "LogD_chembl_raw_data['Shaking Condition'] = LogD_chembl_raw_data['Shaking Condition'].fillna('unknown')\n",
    "# LogD_chembl_raw_data = LogD_chembl_raw_data[~LogD_chembl_raw_data['Shaking Condition'].str.contains('after 24 hrs')]\n",
    "LogD_chembl_raw_data['Shaking Condition'].value_counts(dropna=False).head(20)"
   ]
  },
  {
   "cell_type": "code",
   "execution_count": 35,
   "id": "f8122ad1",
   "metadata": {},
   "outputs": [
    {
     "data": {
      "text/plain": [
       "Index(['Molecule ChEMBL ID', 'Smiles', 'Standard Type', 'Standard Relation',\n",
       "       'Standard Value', 'Standard Units', 'Assay ChEMBL ID',\n",
       "       'Assay Description', 'Assay Type', 'BAO Format ID', 'BAO Label',\n",
       "       'Document ChEMBL ID', 'Source Description', 'Document Journal',\n",
       "       'Document Year', 'pH', 'Analytical Method', 'Solvent System',\n",
       "       'Equilibration Technique', 'Incubation Time', 'Shaking Condition',\n",
       "       'LogD experiment', 'Smiles_check', 'Smiles_removesalt', 'Smiles_unify',\n",
       "       'source', 'value'],\n",
       "      dtype='object')"
      ]
     },
     "execution_count": 35,
     "metadata": {},
     "output_type": "execute_result"
    }
   ],
   "source": [
    "LogD_chembl_raw_data.columns"
   ]
  },
  {
   "cell_type": "code",
   "execution_count": 36,
   "id": "e9f03de8",
   "metadata": {},
   "outputs": [
    {
     "data": {
      "image/png": "[encoded data removed]",
      "text/plain": [
       "<Figure size 432x288 with 1 Axes>"
      ]
     },
     "metadata": {},
     "output_type": "display_data"
    }
   ],
   "source": [
    "plot_diagram(LogD_chembl_raw_data,['Smiles_unify'],'Standard Value')"
   ]
  },
  {
   "cell_type": "code",
   "execution_count": 37,
   "id": "fab4f39b",
   "metadata": {},
   "outputs": [],
   "source": [
    "LogD_chembl_raw_data = LogD_chembl_raw_data[['Smiles','Standard Value','Assay ChEMBL ID','pH']]"
   ]
  },
  {
   "cell_type": "code",
   "execution_count": 38,
   "id": "8b425a8e",
   "metadata": {},
   "outputs": [],
   "source": [
    "LogD_chembl_raw_data.columns = ['Smiles','value','source','ph']"
   ]
  },
  {
   "cell_type": "code",
   "execution_count": 39,
   "id": "4571f6e8",
   "metadata": {},
   "outputs": [
    {
     "data": {
      "text/html": [
       "<div>\n",
       "<style scoped>\n",
       "    .dataframe tbody tr th:only-of-type {\n",
       "        vertical-align: middle;\n",
       "    }\n",
       "\n",
       "    .dataframe tbody tr th {\n",
       "        vertical-align: top;\n",
       "    }\n",
       "\n",
       "    .dataframe thead th {\n",
       "        text-align: right;\n",
       "    }\n",
       "</style>\n",
       "<table border=\"1\" class=\"dataframe\">\n",
       "  <thead>\n",
       "    <tr style=\"text-align: right;\">\n",
       "      <th></th>\n",
       "      <th>Smiles</th>\n",
       "      <th>value</th>\n",
       "      <th>source</th>\n",
       "      <th>ph</th>\n",
       "    </tr>\n",
       "  </thead>\n",
       "  <tbody>\n",
       "    <tr>\n",
       "      <th>5</th>\n",
       "      <td>C[C@@H]1CN([C@H](c2ccc(CCC(=O)O)cc2)c2cccc(O)c...</td>\n",
       "      <td>2.1</td>\n",
       "      <td>CHEMBL861858</td>\n",
       "      <td>7.4</td>\n",
       "    </tr>\n",
       "    <tr>\n",
       "      <th>6</th>\n",
       "      <td>O=C(O)COc1ccc(C(F)(F)F)cc1-c1ccc(Cl)cc1</td>\n",
       "      <td>0.9</td>\n",
       "      <td>CHEMBL1780748</td>\n",
       "      <td>7.4</td>\n",
       "    </tr>\n",
       "    <tr>\n",
       "      <th>7</th>\n",
       "      <td>CS(=O)(=O)c1ccc(-c2cc(C(F)(F)F)ccc2OCC(=O)O)c(...</td>\n",
       "      <td>0.5</td>\n",
       "      <td>CHEMBL1780748</td>\n",
       "      <td>7.4</td>\n",
       "    </tr>\n",
       "    <tr>\n",
       "      <th>8</th>\n",
       "      <td>CCS(=O)(=O)c1ccc(-c2cc(C(F)(F)F)ccc2OCC(=O)O)c...</td>\n",
       "      <td>0.5</td>\n",
       "      <td>CHEMBL1780748</td>\n",
       "      <td>7.4</td>\n",
       "    </tr>\n",
       "    <tr>\n",
       "      <th>9</th>\n",
       "      <td>CCS(=O)(=O)c1ccc(-c2cc(C(F)(F)F)ccc2O[C@@H](C)...</td>\n",
       "      <td>0.4</td>\n",
       "      <td>CHEMBL1780748</td>\n",
       "      <td>7.4</td>\n",
       "    </tr>\n",
       "    <tr>\n",
       "      <th>...</th>\n",
       "      <td>...</td>\n",
       "      <td>...</td>\n",
       "      <td>...</td>\n",
       "      <td>...</td>\n",
       "    </tr>\n",
       "    <tr>\n",
       "      <th>25954</th>\n",
       "      <td>C=CC(=O)N1CCN2c3ncnc4cc(-c5c(C)ccc6[nH]ncc56)c...</td>\n",
       "      <td>3.4</td>\n",
       "      <td>CHEMBL5166129</td>\n",
       "      <td>7.4</td>\n",
       "    </tr>\n",
       "    <tr>\n",
       "      <th>25955</th>\n",
       "      <td>COc1cc(C)ccc1-c1cnc2sc(N3CCC(O)(CN)CC3)nn12</td>\n",
       "      <td>1.8</td>\n",
       "      <td>CHEMBL5160047</td>\n",
       "      <td>7.4</td>\n",
       "    </tr>\n",
       "    <tr>\n",
       "      <th>25956</th>\n",
       "      <td>COc1nc(C)ccc1-c1cnc2sc(N3CCC(O)(CN)CC3)nn12</td>\n",
       "      <td>1.5</td>\n",
       "      <td>CHEMBL5160047</td>\n",
       "      <td>7.4</td>\n",
       "    </tr>\n",
       "    <tr>\n",
       "      <th>25958</th>\n",
       "      <td>COc1cc(F)ccc1-c1cnc2sc(N3CC[C@@H](O)[C@@H](N)C...</td>\n",
       "      <td>2.0</td>\n",
       "      <td>CHEMBL5160047</td>\n",
       "      <td>7.4</td>\n",
       "    </tr>\n",
       "    <tr>\n",
       "      <th>25960</th>\n",
       "      <td>C[C@H]1C[C@@H](O)CN(c2ncc(Cl)c(Nc3ccc4c(c3)c3c...</td>\n",
       "      <td>3.0</td>\n",
       "      <td>CHEMBL5168566</td>\n",
       "      <td>7.4</td>\n",
       "    </tr>\n",
       "  </tbody>\n",
       "</table>\n",
       "<p>10009 rows × 4 columns</p>\n",
       "</div>"
      ],
      "text/plain": [
       "                                                  Smiles  value  \\\n",
       "5      C[C@@H]1CN([C@H](c2ccc(CCC(=O)O)cc2)c2cccc(O)c...    2.1   \n",
       "6                O=C(O)COc1ccc(C(F)(F)F)cc1-c1ccc(Cl)cc1    0.9   \n",
       "7      CS(=O)(=O)c1ccc(-c2cc(C(F)(F)F)ccc2OCC(=O)O)c(...    0.5   \n",
       "8      CCS(=O)(=O)c1ccc(-c2cc(C(F)(F)F)ccc2OCC(=O)O)c...    0.5   \n",
       "9      CCS(=O)(=O)c1ccc(-c2cc(C(F)(F)F)ccc2O[C@@H](C)...    0.4   \n",
       "...                                                  ...    ...   \n",
       "25954  C=CC(=O)N1CCN2c3ncnc4cc(-c5c(C)ccc6[nH]ncc56)c...    3.4   \n",
       "25955        COc1cc(C)ccc1-c1cnc2sc(N3CCC(O)(CN)CC3)nn12    1.8   \n",
       "25956        COc1nc(C)ccc1-c1cnc2sc(N3CCC(O)(CN)CC3)nn12    1.5   \n",
       "25958  COc1cc(F)ccc1-c1cnc2sc(N3CC[C@@H](O)[C@@H](N)C...    2.0   \n",
       "25960  C[C@H]1C[C@@H](O)CN(c2ncc(Cl)c(Nc3ccc4c(c3)c3c...    3.0   \n",
       "\n",
       "              source   ph  \n",
       "5       CHEMBL861858  7.4  \n",
       "6      CHEMBL1780748  7.4  \n",
       "7      CHEMBL1780748  7.4  \n",
       "8      CHEMBL1780748  7.4  \n",
       "9      CHEMBL1780748  7.4  \n",
       "...              ...  ...  \n",
       "25954  CHEMBL5166129  7.4  \n",
       "25955  CHEMBL5160047  7.4  \n",
       "25956  CHEMBL5160047  7.4  \n",
       "25958  CHEMBL5160047  7.4  \n",
       "25960  CHEMBL5168566  7.4  \n",
       "\n",
       "[10009 rows x 4 columns]"
      ]
     },
     "execution_count": 39,
     "metadata": {},
     "output_type": "execute_result"
    }
   ],
   "source": [
    "LogD_chembl_raw_data"
   ]
  },
  {
   "cell_type": "markdown",
   "id": "b83a0f7e",
   "metadata": {},
   "source": [
    "### AZ"
   ]
  },
  {
   "cell_type": "code",
   "execution_count": 40,
   "id": "79b93681",
   "metadata": {},
   "outputs": [],
   "source": [
    "LogD_AZ_raw_data = pd.read_csv('../data/raw_data/logd/LogD_AZ_raw_data.csv')"
   ]
  },
  {
   "cell_type": "code",
   "execution_count": 41,
   "id": "9984dab3",
   "metadata": {},
   "outputs": [
    {
     "data": {
      "text/plain": [
       "(4132, 3)"
      ]
     },
     "execution_count": 41,
     "metadata": {},
     "output_type": "execute_result"
    }
   ],
   "source": [
    "LogD_AZ_raw_data.shape"
   ]
  },
  {
   "cell_type": "code",
   "execution_count": 42,
   "id": "50f79431",
   "metadata": {},
   "outputs": [
    {
     "data": {
      "text/html": [
       "<div>\n",
       "<style scoped>\n",
       "    .dataframe tbody tr th:only-of-type {\n",
       "        vertical-align: middle;\n",
       "    }\n",
       "\n",
       "    .dataframe tbody tr th {\n",
       "        vertical-align: top;\n",
       "    }\n",
       "\n",
       "    .dataframe thead th {\n",
       "        text-align: right;\n",
       "    }\n",
       "</style>\n",
       "<table border=\"1\" class=\"dataframe\">\n",
       "  <thead>\n",
       "    <tr style=\"text-align: right;\">\n",
       "      <th></th>\n",
       "      <th>smiles</th>\n",
       "      <th>AZ_LogD7.4</th>\n",
       "      <th>SLogD</th>\n",
       "    </tr>\n",
       "  </thead>\n",
       "  <tbody>\n",
       "    <tr>\n",
       "      <th>0</th>\n",
       "      <td>Brc1cc(Br)cc(COC[C@H](c2ccccc2)N2CCNCC2)c1</td>\n",
       "      <td>2.80</td>\n",
       "      <td>2.40434</td>\n",
       "    </tr>\n",
       "    <tr>\n",
       "      <th>1</th>\n",
       "      <td>Brc1cnc(NCc2ccccc2)nc1Nc1cc(C2CC2)[nH]n1</td>\n",
       "      <td>4.11</td>\n",
       "      <td>3.71898</td>\n",
       "    </tr>\n",
       "    <tr>\n",
       "      <th>2</th>\n",
       "      <td>C#CC(C)(C)NC(=O)c1sccc1Oc1ccc(F)cc1[N+](=O)[O-]</td>\n",
       "      <td>3.00</td>\n",
       "      <td>3.68020</td>\n",
       "    </tr>\n",
       "    <tr>\n",
       "      <th>3</th>\n",
       "      <td>C#CC(C)n1c(=O)c2c(-c3cncn3C)n(Cc3ccnc4ccc(Cl)c...</td>\n",
       "      <td>3.59</td>\n",
       "      <td>3.72259</td>\n",
       "    </tr>\n",
       "    <tr>\n",
       "      <th>4</th>\n",
       "      <td>C#CCN(C)C(C)Cc1ccccc1</td>\n",
       "      <td>2.16</td>\n",
       "      <td>1.93556</td>\n",
       "    </tr>\n",
       "  </tbody>\n",
       "</table>\n",
       "</div>"
      ],
      "text/plain": [
       "                                              smiles  AZ_LogD7.4    SLogD\n",
       "0         Brc1cc(Br)cc(COC[C@H](c2ccccc2)N2CCNCC2)c1        2.80  2.40434\n",
       "1           Brc1cnc(NCc2ccccc2)nc1Nc1cc(C2CC2)[nH]n1        4.11  3.71898\n",
       "2    C#CC(C)(C)NC(=O)c1sccc1Oc1ccc(F)cc1[N+](=O)[O-]        3.00  3.68020\n",
       "3  C#CC(C)n1c(=O)c2c(-c3cncn3C)n(Cc3ccnc4ccc(Cl)c...        3.59  3.72259\n",
       "4                              C#CCN(C)C(C)Cc1ccccc1        2.16  1.93556"
      ]
     },
     "execution_count": 42,
     "metadata": {},
     "output_type": "execute_result"
    }
   ],
   "source": [
    "LogD_AZ_raw_data.head()"
   ]
  },
  {
   "cell_type": "code",
   "execution_count": 43,
   "id": "fdc58d33",
   "metadata": {},
   "outputs": [],
   "source": [
    "LogD_AZ_raw_data = LogD_AZ_raw_data.loc[:,['smiles','AZ_LogD7.4']]\n",
    "LogD_AZ_raw_data['source'] = 'CHEMBL 3301361 AZ'\n",
    "LogD_AZ_raw_data['ph'] = 7.4"
   ]
  },
  {
   "cell_type": "code",
   "execution_count": 44,
   "id": "a6c3a58b",
   "metadata": {},
   "outputs": [
    {
     "data": {
      "text/html": [
       "<div>\n",
       "<style scoped>\n",
       "    .dataframe tbody tr th:only-of-type {\n",
       "        vertical-align: middle;\n",
       "    }\n",
       "\n",
       "    .dataframe tbody tr th {\n",
       "        vertical-align: top;\n",
       "    }\n",
       "\n",
       "    .dataframe thead th {\n",
       "        text-align: right;\n",
       "    }\n",
       "</style>\n",
       "<table border=\"1\" class=\"dataframe\">\n",
       "  <thead>\n",
       "    <tr style=\"text-align: right;\">\n",
       "      <th></th>\n",
       "      <th>smiles</th>\n",
       "      <th>AZ_LogD7.4</th>\n",
       "      <th>source</th>\n",
       "      <th>ph</th>\n",
       "    </tr>\n",
       "  </thead>\n",
       "  <tbody>\n",
       "    <tr>\n",
       "      <th>0</th>\n",
       "      <td>Brc1cc(Br)cc(COC[C@H](c2ccccc2)N2CCNCC2)c1</td>\n",
       "      <td>2.80</td>\n",
       "      <td>CHEMBL 3301361 AZ</td>\n",
       "      <td>7.4</td>\n",
       "    </tr>\n",
       "    <tr>\n",
       "      <th>1</th>\n",
       "      <td>Brc1cnc(NCc2ccccc2)nc1Nc1cc(C2CC2)[nH]n1</td>\n",
       "      <td>4.11</td>\n",
       "      <td>CHEMBL 3301361 AZ</td>\n",
       "      <td>7.4</td>\n",
       "    </tr>\n",
       "    <tr>\n",
       "      <th>2</th>\n",
       "      <td>C#CC(C)(C)NC(=O)c1sccc1Oc1ccc(F)cc1[N+](=O)[O-]</td>\n",
       "      <td>3.00</td>\n",
       "      <td>CHEMBL 3301361 AZ</td>\n",
       "      <td>7.4</td>\n",
       "    </tr>\n",
       "    <tr>\n",
       "      <th>3</th>\n",
       "      <td>C#CC(C)n1c(=O)c2c(-c3cncn3C)n(Cc3ccnc4ccc(Cl)c...</td>\n",
       "      <td>3.59</td>\n",
       "      <td>CHEMBL 3301361 AZ</td>\n",
       "      <td>7.4</td>\n",
       "    </tr>\n",
       "    <tr>\n",
       "      <th>4</th>\n",
       "      <td>C#CCN(C)C(C)Cc1ccccc1</td>\n",
       "      <td>2.16</td>\n",
       "      <td>CHEMBL 3301361 AZ</td>\n",
       "      <td>7.4</td>\n",
       "    </tr>\n",
       "  </tbody>\n",
       "</table>\n",
       "</div>"
      ],
      "text/plain": [
       "                                              smiles  AZ_LogD7.4  \\\n",
       "0         Brc1cc(Br)cc(COC[C@H](c2ccccc2)N2CCNCC2)c1        2.80   \n",
       "1           Brc1cnc(NCc2ccccc2)nc1Nc1cc(C2CC2)[nH]n1        4.11   \n",
       "2    C#CC(C)(C)NC(=O)c1sccc1Oc1ccc(F)cc1[N+](=O)[O-]        3.00   \n",
       "3  C#CC(C)n1c(=O)c2c(-c3cncn3C)n(Cc3ccnc4ccc(Cl)c...        3.59   \n",
       "4                              C#CCN(C)C(C)Cc1ccccc1        2.16   \n",
       "\n",
       "              source   ph  \n",
       "0  CHEMBL 3301361 AZ  7.4  \n",
       "1  CHEMBL 3301361 AZ  7.4  \n",
       "2  CHEMBL 3301361 AZ  7.4  \n",
       "3  CHEMBL 3301361 AZ  7.4  \n",
       "4  CHEMBL 3301361 AZ  7.4  "
      ]
     },
     "execution_count": 44,
     "metadata": {},
     "output_type": "execute_result"
    }
   ],
   "source": [
    "LogD_AZ_raw_data.head()"
   ]
  },
  {
   "cell_type": "code",
   "execution_count": 45,
   "id": "b4b4c8f1",
   "metadata": {},
   "outputs": [],
   "source": [
    "LogD_AZ_raw_data.columns = ['Smiles','value','source','ph']"
   ]
  },
  {
   "cell_type": "code",
   "execution_count": 46,
   "id": "3dd0711d",
   "metadata": {},
   "outputs": [
    {
     "data": {
      "text/html": [
       "<div>\n",
       "<style scoped>\n",
       "    .dataframe tbody tr th:only-of-type {\n",
       "        vertical-align: middle;\n",
       "    }\n",
       "\n",
       "    .dataframe tbody tr th {\n",
       "        vertical-align: top;\n",
       "    }\n",
       "\n",
       "    .dataframe thead th {\n",
       "        text-align: right;\n",
       "    }\n",
       "</style>\n",
       "<table border=\"1\" class=\"dataframe\">\n",
       "  <thead>\n",
       "    <tr style=\"text-align: right;\">\n",
       "      <th></th>\n",
       "      <th>Smiles</th>\n",
       "      <th>value</th>\n",
       "      <th>source</th>\n",
       "      <th>ph</th>\n",
       "    </tr>\n",
       "  </thead>\n",
       "  <tbody>\n",
       "    <tr>\n",
       "      <th>0</th>\n",
       "      <td>Brc1cc(Br)cc(COC[C@H](c2ccccc2)N2CCNCC2)c1</td>\n",
       "      <td>2.80</td>\n",
       "      <td>CHEMBL 3301361 AZ</td>\n",
       "      <td>7.4</td>\n",
       "    </tr>\n",
       "    <tr>\n",
       "      <th>1</th>\n",
       "      <td>Brc1cnc(NCc2ccccc2)nc1Nc1cc(C2CC2)[nH]n1</td>\n",
       "      <td>4.11</td>\n",
       "      <td>CHEMBL 3301361 AZ</td>\n",
       "      <td>7.4</td>\n",
       "    </tr>\n",
       "    <tr>\n",
       "      <th>2</th>\n",
       "      <td>C#CC(C)(C)NC(=O)c1sccc1Oc1ccc(F)cc1[N+](=O)[O-]</td>\n",
       "      <td>3.00</td>\n",
       "      <td>CHEMBL 3301361 AZ</td>\n",
       "      <td>7.4</td>\n",
       "    </tr>\n",
       "    <tr>\n",
       "      <th>3</th>\n",
       "      <td>C#CC(C)n1c(=O)c2c(-c3cncn3C)n(Cc3ccnc4ccc(Cl)c...</td>\n",
       "      <td>3.59</td>\n",
       "      <td>CHEMBL 3301361 AZ</td>\n",
       "      <td>7.4</td>\n",
       "    </tr>\n",
       "    <tr>\n",
       "      <th>4</th>\n",
       "      <td>C#CCN(C)C(C)Cc1ccccc1</td>\n",
       "      <td>2.16</td>\n",
       "      <td>CHEMBL 3301361 AZ</td>\n",
       "      <td>7.4</td>\n",
       "    </tr>\n",
       "  </tbody>\n",
       "</table>\n",
       "</div>"
      ],
      "text/plain": [
       "                                              Smiles  value  \\\n",
       "0         Brc1cc(Br)cc(COC[C@H](c2ccccc2)N2CCNCC2)c1   2.80   \n",
       "1           Brc1cnc(NCc2ccccc2)nc1Nc1cc(C2CC2)[nH]n1   4.11   \n",
       "2    C#CC(C)(C)NC(=O)c1sccc1Oc1ccc(F)cc1[N+](=O)[O-]   3.00   \n",
       "3  C#CC(C)n1c(=O)c2c(-c3cncn3C)n(Cc3ccnc4ccc(Cl)c...   3.59   \n",
       "4                              C#CCN(C)C(C)Cc1ccccc1   2.16   \n",
       "\n",
       "              source   ph  \n",
       "0  CHEMBL 3301361 AZ  7.4  \n",
       "1  CHEMBL 3301361 AZ  7.4  \n",
       "2  CHEMBL 3301361 AZ  7.4  \n",
       "3  CHEMBL 3301361 AZ  7.4  \n",
       "4  CHEMBL 3301361 AZ  7.4  "
      ]
     },
     "execution_count": 46,
     "metadata": {},
     "output_type": "execute_result"
    }
   ],
   "source": [
    "LogD_AZ_raw_data.head()"
   ]
  },
  {
   "cell_type": "code",
   "execution_count": 47,
   "id": "f7a77569",
   "metadata": {},
   "outputs": [],
   "source": [
    "LogD_AZ_raw_data.drop_duplicates(inplace=True)"
   ]
  },
  {
   "cell_type": "code",
   "execution_count": 48,
   "id": "5cc6a1ac",
   "metadata": {},
   "outputs": [
    {
     "data": {
      "text/plain": [
       "(4132, 4)"
      ]
     },
     "execution_count": 48,
     "metadata": {},
     "output_type": "execute_result"
    }
   ],
   "source": [
    "LogD_AZ_raw_data.shape"
   ]
  },
  {
   "cell_type": "markdown",
   "id": "6c282727-18f8-45c7-8747-48da6281bb97",
   "metadata": {},
   "source": [
    "## Concat all data"
   ]
  },
  {
   "cell_type": "code",
   "execution_count": 49,
   "id": "addc6bf2-96b3-4986-97c7-a051ec203e95",
   "metadata": {},
   "outputs": [],
   "source": [
    "all_data = pd.concat([LogD_chembl_raw_data,LogD_AZ_raw_data],ignore_index=True)"
   ]
  },
  {
   "cell_type": "code",
   "execution_count": 50,
   "id": "67ce919c",
   "metadata": {},
   "outputs": [
    {
     "data": {
      "text/plain": [
       "(878, (14141, 4))"
      ]
     },
     "execution_count": 50,
     "metadata": {},
     "output_type": "execute_result"
    }
   ],
   "source": [
    "all_data['source'].nunique(),all_data.shape"
   ]
  },
  {
   "cell_type": "code",
   "execution_count": 51,
   "id": "3339de11",
   "metadata": {},
   "outputs": [
    {
     "name": "stderr",
     "output_type": "stream",
     "text": [
      "100%|██████████████████████████████████████| 14141/14141 [00:01<00:00, 10804.09it/s]\n"
     ]
    },
    {
     "name": "stdout",
     "output_type": "stream",
     "text": [
      "SANITIZE_NONE    14141\n",
      "Name: Smiles_check, dtype: int64\n"
     ]
    },
    {
     "name": "stderr",
     "output_type": "stream",
     "text": [
      "100%|████████████████████████████████████| 14141/14141 [00:00<00:00, 1224637.70it/s]\n",
      "14141it [00:14, 965.48it/s] \n"
     ]
    },
    {
     "name": "stdout",
     "output_type": "stream",
     "text": [
      "Metal in Smiles amount: 0\n"
     ]
    },
    {
     "name": "stderr",
     "output_type": "stream",
     "text": [
      "100%|██████████████████████████████████████| 14141/14141 [00:01<00:00, 11125.89it/s]\n"
     ]
    }
   ],
   "source": [
    "all_data = process_stage_1(all_data,'Smiles')"
   ]
  },
  {
   "cell_type": "code",
   "execution_count": 52,
   "id": "814dc24e",
   "metadata": {},
   "outputs": [],
   "source": [
    "all_data = all_data[['Smiles_unify','Smiles','value','source','ph']]"
   ]
  },
  {
   "cell_type": "code",
   "execution_count": 53,
   "id": "736662cd",
   "metadata": {},
   "outputs": [],
   "source": [
    "all_data['property'] = 'logd'"
   ]
  },
  {
   "cell_type": "markdown",
   "id": "d54575bc",
   "metadata": {},
   "source": [
    "# Filter values"
   ]
  },
  {
   "cell_type": "code",
   "execution_count": 54,
   "id": "166f05fc",
   "metadata": {},
   "outputs": [],
   "source": [
    "all_data = all_data[~all_data['source'].isin(all_data[all_data['value'] > 10]['source'].unique())]"
   ]
  },
  {
   "cell_type": "code",
   "execution_count": 55,
   "id": "41cfa300",
   "metadata": {},
   "outputs": [],
   "source": [
    "all_data = all_data[all_data['value'] > -5]"
   ]
  },
  {
   "cell_type": "code",
   "execution_count": 56,
   "id": "e8929cc2",
   "metadata": {},
   "outputs": [],
   "source": [
    "all_data = all_data[all_data['ph'] == 7.4]"
   ]
  },
  {
   "cell_type": "code",
   "execution_count": 57,
   "id": "768e6ab6",
   "metadata": {},
   "outputs": [
    {
     "data": {
      "text/html": [
       "<div>\n",
       "<style scoped>\n",
       "    .dataframe tbody tr th:only-of-type {\n",
       "        vertical-align: middle;\n",
       "    }\n",
       "\n",
       "    .dataframe tbody tr th {\n",
       "        vertical-align: top;\n",
       "    }\n",
       "\n",
       "    .dataframe thead th {\n",
       "        text-align: right;\n",
       "    }\n",
       "</style>\n",
       "<table border=\"1\" class=\"dataframe\">\n",
       "  <thead>\n",
       "    <tr style=\"text-align: right;\">\n",
       "      <th></th>\n",
       "      <th>Smiles_unify</th>\n",
       "      <th>Smiles</th>\n",
       "      <th>value</th>\n",
       "      <th>source</th>\n",
       "      <th>ph</th>\n",
       "      <th>property</th>\n",
       "    </tr>\n",
       "  </thead>\n",
       "  <tbody>\n",
       "    <tr>\n",
       "      <th>0</th>\n",
       "      <td>C[C@@H]1CN([C@H](c2ccc(CCC(=O)O)cc2)c2cccc(O)c...</td>\n",
       "      <td>C[C@@H]1CN([C@H](c2ccc(CCC(=O)O)cc2)c2cccc(O)c...</td>\n",
       "      <td>2.10</td>\n",
       "      <td>CHEMBL861858</td>\n",
       "      <td>7.4</td>\n",
       "      <td>logd</td>\n",
       "    </tr>\n",
       "    <tr>\n",
       "      <th>1</th>\n",
       "      <td>O=C(O)COc1ccc(C(F)(F)F)cc1-c1ccc(Cl)cc1</td>\n",
       "      <td>O=C(O)COc1ccc(C(F)(F)F)cc1-c1ccc(Cl)cc1</td>\n",
       "      <td>0.90</td>\n",
       "      <td>CHEMBL1780748</td>\n",
       "      <td>7.4</td>\n",
       "      <td>logd</td>\n",
       "    </tr>\n",
       "    <tr>\n",
       "      <th>2</th>\n",
       "      <td>CS(=O)(=O)c1ccc(-c2cc(C(F)(F)F)ccc2OCC(=O)O)c(...</td>\n",
       "      <td>CS(=O)(=O)c1ccc(-c2cc(C(F)(F)F)ccc2OCC(=O)O)c(...</td>\n",
       "      <td>0.50</td>\n",
       "      <td>CHEMBL1780748</td>\n",
       "      <td>7.4</td>\n",
       "      <td>logd</td>\n",
       "    </tr>\n",
       "    <tr>\n",
       "      <th>3</th>\n",
       "      <td>CCS(=O)(=O)c1ccc(-c2cc(C(F)(F)F)ccc2OCC(=O)O)c...</td>\n",
       "      <td>CCS(=O)(=O)c1ccc(-c2cc(C(F)(F)F)ccc2OCC(=O)O)c...</td>\n",
       "      <td>0.50</td>\n",
       "      <td>CHEMBL1780748</td>\n",
       "      <td>7.4</td>\n",
       "      <td>logd</td>\n",
       "    </tr>\n",
       "    <tr>\n",
       "      <th>4</th>\n",
       "      <td>CCS(=O)(=O)c1ccc(-c2cc(C(F)(F)F)ccc2O[C@@H](C)...</td>\n",
       "      <td>CCS(=O)(=O)c1ccc(-c2cc(C(F)(F)F)ccc2O[C@@H](C)...</td>\n",
       "      <td>0.40</td>\n",
       "      <td>CHEMBL1780748</td>\n",
       "      <td>7.4</td>\n",
       "      <td>logd</td>\n",
       "    </tr>\n",
       "    <tr>\n",
       "      <th>...</th>\n",
       "      <td>...</td>\n",
       "      <td>...</td>\n",
       "      <td>...</td>\n",
       "      <td>...</td>\n",
       "      <td>...</td>\n",
       "      <td>...</td>\n",
       "    </tr>\n",
       "    <tr>\n",
       "      <th>14136</th>\n",
       "      <td>c1cnc2cccnc2c1</td>\n",
       "      <td>c1cnc2cccnc2c1</td>\n",
       "      <td>0.89</td>\n",
       "      <td>CHEMBL 3301361 AZ</td>\n",
       "      <td>7.4</td>\n",
       "      <td>logd</td>\n",
       "    </tr>\n",
       "    <tr>\n",
       "      <th>14137</th>\n",
       "      <td>c1cncc(-c2ccc(-c3nnc(C4CN5CCC4CC5)o3)o2)c1</td>\n",
       "      <td>c1cncc(-c2ccc(-c3nnc(C4CN5CCC4CC5)o3)o2)c1</td>\n",
       "      <td>1.20</td>\n",
       "      <td>CHEMBL 3301361 AZ</td>\n",
       "      <td>7.4</td>\n",
       "      <td>logd</td>\n",
       "    </tr>\n",
       "    <tr>\n",
       "      <th>14138</th>\n",
       "      <td>c1cncc(Nc2ncnc3ccccc23)c1</td>\n",
       "      <td>c1cncc(Nc2ncnc3ccccc23)c1</td>\n",
       "      <td>1.57</td>\n",
       "      <td>CHEMBL 3301361 AZ</td>\n",
       "      <td>7.4</td>\n",
       "      <td>logd</td>\n",
       "    </tr>\n",
       "    <tr>\n",
       "      <th>14139</th>\n",
       "      <td>c1csc(Cn2nnnc2CN2CCN(c3nc4ccccc4s3)CC2)c1</td>\n",
       "      <td>c1csc(Cn2nnnc2CN2CCN(c3nc4ccccc4s3)CC2)c1</td>\n",
       "      <td>3.65</td>\n",
       "      <td>CHEMBL 3301361 AZ</td>\n",
       "      <td>7.4</td>\n",
       "      <td>logd</td>\n",
       "    </tr>\n",
       "    <tr>\n",
       "      <th>14140</th>\n",
       "      <td>c1nc(N2CCCCC2)c2nc[nH]c2n1</td>\n",
       "      <td>c1nc(N2CCCCC2)c2nc[nH]c2n1</td>\n",
       "      <td>1.84</td>\n",
       "      <td>CHEMBL 3301361 AZ</td>\n",
       "      <td>7.4</td>\n",
       "      <td>logd</td>\n",
       "    </tr>\n",
       "  </tbody>\n",
       "</table>\n",
       "<p>14141 rows × 6 columns</p>\n",
       "</div>"
      ],
      "text/plain": [
       "                                            Smiles_unify  \\\n",
       "0      C[C@@H]1CN([C@H](c2ccc(CCC(=O)O)cc2)c2cccc(O)c...   \n",
       "1                O=C(O)COc1ccc(C(F)(F)F)cc1-c1ccc(Cl)cc1   \n",
       "2      CS(=O)(=O)c1ccc(-c2cc(C(F)(F)F)ccc2OCC(=O)O)c(...   \n",
       "3      CCS(=O)(=O)c1ccc(-c2cc(C(F)(F)F)ccc2OCC(=O)O)c...   \n",
       "4      CCS(=O)(=O)c1ccc(-c2cc(C(F)(F)F)ccc2O[C@@H](C)...   \n",
       "...                                                  ...   \n",
       "14136                                     c1cnc2cccnc2c1   \n",
       "14137         c1cncc(-c2ccc(-c3nnc(C4CN5CCC4CC5)o3)o2)c1   \n",
       "14138                          c1cncc(Nc2ncnc3ccccc23)c1   \n",
       "14139          c1csc(Cn2nnnc2CN2CCN(c3nc4ccccc4s3)CC2)c1   \n",
       "14140                         c1nc(N2CCCCC2)c2nc[nH]c2n1   \n",
       "\n",
       "                                                  Smiles  value  \\\n",
       "0      C[C@@H]1CN([C@H](c2ccc(CCC(=O)O)cc2)c2cccc(O)c...   2.10   \n",
       "1                O=C(O)COc1ccc(C(F)(F)F)cc1-c1ccc(Cl)cc1   0.90   \n",
       "2      CS(=O)(=O)c1ccc(-c2cc(C(F)(F)F)ccc2OCC(=O)O)c(...   0.50   \n",
       "3      CCS(=O)(=O)c1ccc(-c2cc(C(F)(F)F)ccc2OCC(=O)O)c...   0.50   \n",
       "4      CCS(=O)(=O)c1ccc(-c2cc(C(F)(F)F)ccc2O[C@@H](C)...   0.40   \n",
       "...                                                  ...    ...   \n",
       "14136                                     c1cnc2cccnc2c1   0.89   \n",
       "14137         c1cncc(-c2ccc(-c3nnc(C4CN5CCC4CC5)o3)o2)c1   1.20   \n",
       "14138                          c1cncc(Nc2ncnc3ccccc23)c1   1.57   \n",
       "14139          c1csc(Cn2nnnc2CN2CCN(c3nc4ccccc4s3)CC2)c1   3.65   \n",
       "14140                         c1nc(N2CCCCC2)c2nc[nH]c2n1   1.84   \n",
       "\n",
       "                  source   ph property  \n",
       "0           CHEMBL861858  7.4     logd  \n",
       "1          CHEMBL1780748  7.4     logd  \n",
       "2          CHEMBL1780748  7.4     logd  \n",
       "3          CHEMBL1780748  7.4     logd  \n",
       "4          CHEMBL1780748  7.4     logd  \n",
       "...                  ...  ...      ...  \n",
       "14136  CHEMBL 3301361 AZ  7.4     logd  \n",
       "14137  CHEMBL 3301361 AZ  7.4     logd  \n",
       "14138  CHEMBL 3301361 AZ  7.4     logd  \n",
       "14139  CHEMBL 3301361 AZ  7.4     logd  \n",
       "14140  CHEMBL 3301361 AZ  7.4     logd  \n",
       "\n",
       "[14141 rows x 6 columns]"
      ]
     },
     "execution_count": 57,
     "metadata": {},
     "output_type": "execute_result"
    }
   ],
   "source": [
    "all_data"
   ]
  },
  {
   "cell_type": "code",
   "execution_count": null,
   "id": "06e63473",
   "metadata": {},
   "outputs": [],
   "source": []
  },
  {
   "cell_type": "code",
   "execution_count": 58,
   "id": "1fb26666",
   "metadata": {},
   "outputs": [],
   "source": [
    "all_data.to_csv('../data/data_processing_result/logd_preprocessing_finished.csv',index=False)"
   ]
  },
  {
   "cell_type": "code",
   "execution_count": null,
   "id": "c04d8e06",
   "metadata": {},
   "outputs": [],
   "source": []
  }
 ],
 "metadata": {
  "kernelspec": {
   "display_name": "Python 3 (ipykernel)",
   "language": "python",
   "name": "python3"
  },
  "language_info": {
   "codemirror_mode": {
    "name": "ipython",
    "version": 3
   },
   "file_extension": ".py",
   "mimetype": "text/x-python",
   "name": "python",
   "nbconvert_exporter": "python",
   "pygments_lexer": "ipython3",
   "version": "3.9.6"
  },
  "toc-autonumbering": true
 },
 "nbformat": 4,
 "nbformat_minor": 5
}
