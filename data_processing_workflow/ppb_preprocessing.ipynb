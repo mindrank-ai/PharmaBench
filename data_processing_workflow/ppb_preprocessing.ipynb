{
 "cells": [
  {
   "cell_type": "code",
   "execution_count": 1,
   "id": "c6779d79-450c-4dc8-b459-920fefc85120",
   "metadata": {},
   "outputs": [
    {
     "name": "stdout",
     "output_type": "stream",
     "text": [
      "INFO: Pandarallel will run on 20 workers.\n",
      "INFO: Pandarallel will use standard multiprocessing data transfer (pipe) to transfer data between the main process and workers.\n"
     ]
    }
   ],
   "source": [
    "import os\n",
    "import numpy as np\n",
    "import pandas as pd\n",
    "pd.set_option('display.max_columns',50)\n",
    "pd.set_option('display.max_rows',50)\n",
    "pd.options.mode.chained_assignment = None\n",
    "\n",
    "import random\n",
    "random.seed(68)\n",
    "\n",
    "from pandarallel import pandarallel\n",
    "pandarallel.initialize(nb_workers=20)\n",
    "\n",
    "from rdkit import Chem\n",
    "from rdkit.Chem import PandasTools\n",
    "\n"
   ]
  },
  {
   "cell_type": "code",
   "execution_count": 2,
   "id": "5aa812bc",
   "metadata": {},
   "outputs": [],
   "source": [
    "import sys\n",
    "sys.path.append('../')\n",
    "from Draw_fig import Draw_plot\n",
    "from standardization_process import *"
   ]
  },
  {
   "cell_type": "code",
   "execution_count": 3,
   "id": "a928c8c1-9b7c-4b5a-8a75-d979f90ad8da",
   "metadata": {},
   "outputs": [],
   "source": [
    "def process_stage_1(df,smi_col):\n",
    "    df[smi_col] = df[smi_col].parallel_apply(smi_to_smi)\n",
    "    df = df[~df[smi_col].isna()]\n",
    "    df = smiles_check(df , smi_col)\n",
    "    df = df[df['Smiles_check'] != False]\n",
    "    df = remove_salt(df, smi_col)\n",
    "    metal_index = metal_check(df, 'Smiles_removesalt')\n",
    "    df = df[~df.index.isin(metal_index)]\n",
    "    df = smiles_unify(df, 'Smiles_removesalt')\n",
    "    df['AtomCounts'] = df[smi_col].apply(lambda x: Chem.MolFromSmiles(x).GetNumAtoms())\n",
    "    df = df[df['AtomCounts'] <=100]\n",
    "    return df "
   ]
  },
  {
   "cell_type": "markdown",
   "id": "1fdddc6a",
   "metadata": {},
   "source": [
    "# Summary for the raw data"
   ]
  },
  {
   "cell_type": "code",
   "execution_count": 5,
   "id": "a3437a57",
   "metadata": {},
   "outputs": [],
   "source": [
    "Chembl = pd.read_csv('../data/data_mining_results/Plasma_Protein_Binding/ppb_Chembl_data_mining_finished.csv')\n"
   ]
  },
  {
   "cell_type": "code",
   "execution_count": 9,
   "id": "d0809da9",
   "metadata": {},
   "outputs": [],
   "source": [
    "Chembl = Chembl[~Chembl['Plasma_Protein_Binding'].isna()]"
   ]
  },
  {
   "cell_type": "code",
   "execution_count": 11,
   "id": "3e4f1d0a",
   "metadata": {},
   "outputs": [
    {
     "data": {
      "text/plain": [
       "(3381, 21)"
      ]
     },
     "execution_count": 11,
     "metadata": {},
     "output_type": "execute_result"
    }
   ],
   "source": [
    "Chembl.shape"
   ]
  },
  {
   "cell_type": "code",
   "execution_count": 12,
   "id": "8c1261ef",
   "metadata": {},
   "outputs": [
    {
     "data": {
      "text/plain": [
       "1296"
      ]
     },
     "execution_count": 12,
     "metadata": {},
     "output_type": "execute_result"
    }
   ],
   "source": [
    "Chembl['Assay ChEMBL ID'].nunique()"
   ]
  },
  {
   "cell_type": "markdown",
   "id": "99a2e574-f56b-4b72-bff1-e7fdfd766277",
   "metadata": {},
   "source": [
    "### Chembl"
   ]
  },
  {
   "cell_type": "code",
   "execution_count": 17,
   "id": "8a68bd69",
   "metadata": {},
   "outputs": [],
   "source": [
    "Chembl = pd.read_csv('../data/data_mining_results/Plasma_Protein_Binding/ppb_Chembl_data_mining_finished.csv')"
   ]
  },
  {
   "cell_type": "code",
   "execution_count": 18,
   "id": "f4b2ba91",
   "metadata": {},
   "outputs": [
    {
     "data": {
      "text/html": [
       "<div>\n",
       "<style scoped>\n",
       "    .dataframe tbody tr th:only-of-type {\n",
       "        vertical-align: middle;\n",
       "    }\n",
       "\n",
       "    .dataframe tbody tr th {\n",
       "        vertical-align: top;\n",
       "    }\n",
       "\n",
       "    .dataframe thead th {\n",
       "        text-align: right;\n",
       "    }\n",
       "</style>\n",
       "<table border=\"1\" class=\"dataframe\">\n",
       "  <thead>\n",
       "    <tr style=\"text-align: right;\">\n",
       "      <th></th>\n",
       "      <th>Molecule ChEMBL ID</th>\n",
       "      <th>Smiles</th>\n",
       "      <th>Standard Type</th>\n",
       "      <th>Standard Relation</th>\n",
       "      <th>Standard Value</th>\n",
       "      <th>Standard Units</th>\n",
       "      <th>Assay ChEMBL ID</th>\n",
       "      <th>Assay Description</th>\n",
       "      <th>Assay Type</th>\n",
       "      <th>BAO Format ID</th>\n",
       "      <th>BAO Label</th>\n",
       "      <th>Document ChEMBL ID</th>\n",
       "      <th>Source Description</th>\n",
       "      <th>Document Journal</th>\n",
       "      <th>Document Year</th>\n",
       "      <th>Species/Origin of Plasma or Serum</th>\n",
       "      <th>Concentration of Tested Compound</th>\n",
       "      <th>Duration of Incubation</th>\n",
       "      <th>Analytical Detection Method</th>\n",
       "      <th>Equilibrium Dialysis for Protein Binding Assessment</th>\n",
       "      <th>Plasma_Protein_Binding</th>\n",
       "    </tr>\n",
       "  </thead>\n",
       "  <tbody>\n",
       "    <tr>\n",
       "      <th>0</th>\n",
       "      <td>CHEMBL1223528</td>\n",
       "      <td>Cc1cc2n[nH]c(=O)n2c2cc(-c3cn[nH]c3)ccc12</td>\n",
       "      <td>PPB</td>\n",
       "      <td>'='</td>\n",
       "      <td>1.3</td>\n",
       "      <td>%</td>\n",
       "      <td>CHEMBL1228392</td>\n",
       "      <td>Protein binding in plasma</td>\n",
       "      <td>A</td>\n",
       "      <td>BAO_0000366</td>\n",
       "      <td>cell-free format</td>\n",
       "      <td>CHEMBL1221270</td>\n",
       "      <td>Scientific Literature</td>\n",
       "      <td>Bioorg Med Chem Lett</td>\n",
       "      <td>2010.0</td>\n",
       "      <td>NaN</td>\n",
       "      <td>NaN</td>\n",
       "      <td>NaN</td>\n",
       "      <td>NaN</td>\n",
       "      <td>NaN</td>\n",
       "      <td>True</td>\n",
       "    </tr>\n",
       "    <tr>\n",
       "      <th>1</th>\n",
       "      <td>CHEMBL374975</td>\n",
       "      <td>CC(=O)O[C@H]1C[C@@]2(C)[C@@H](C[C@@H](O)[C@H]3...</td>\n",
       "      <td>PPB</td>\n",
       "      <td>'='</td>\n",
       "      <td>97.0</td>\n",
       "      <td>%</td>\n",
       "      <td>CHEMBL1661509</td>\n",
       "      <td>Protein binding in serum</td>\n",
       "      <td>A</td>\n",
       "      <td>BAO_0000366</td>\n",
       "      <td>cell-free format</td>\n",
       "      <td>CHEMBL1649135</td>\n",
       "      <td>Scientific Literature</td>\n",
       "      <td>Antimicrob Agents Chemother</td>\n",
       "      <td>2009.0</td>\n",
       "      <td>NaN</td>\n",
       "      <td>NaN</td>\n",
       "      <td>NaN</td>\n",
       "      <td>NaN</td>\n",
       "      <td>NaN</td>\n",
       "      <td>True</td>\n",
       "    </tr>\n",
       "    <tr>\n",
       "      <th>2</th>\n",
       "      <td>CHEMBL2235849</td>\n",
       "      <td>CC(C)Cc1ccc(C(C)C(=O)OCc2ccccc2)cc1</td>\n",
       "      <td>PPB</td>\n",
       "      <td>'='</td>\n",
       "      <td>37.0</td>\n",
       "      <td>%</td>\n",
       "      <td>CHEMBL3048171</td>\n",
       "      <td>Protein binding in plasma at 20 ug/ml</td>\n",
       "      <td>A</td>\n",
       "      <td>BAO_0000366</td>\n",
       "      <td>cell-free format</td>\n",
       "      <td>CHEMBL3046468</td>\n",
       "      <td>Scientific Literature</td>\n",
       "      <td>Med Chem Res</td>\n",
       "      <td>2012.0</td>\n",
       "      <td>NaN</td>\n",
       "      <td>20 ug/ml</td>\n",
       "      <td>NaN</td>\n",
       "      <td>NaN</td>\n",
       "      <td>NaN</td>\n",
       "      <td>True</td>\n",
       "    </tr>\n",
       "    <tr>\n",
       "      <th>3</th>\n",
       "      <td>CHEMBL2235855</td>\n",
       "      <td>COC(=O)C(Cc1ccccc1)NC(=O)C(C)c1ccc(CC(C)C)cc1</td>\n",
       "      <td>PPB</td>\n",
       "      <td>'='</td>\n",
       "      <td>47.0</td>\n",
       "      <td>%</td>\n",
       "      <td>CHEMBL3048171</td>\n",
       "      <td>Protein binding in plasma at 20 ug/ml</td>\n",
       "      <td>A</td>\n",
       "      <td>BAO_0000366</td>\n",
       "      <td>cell-free format</td>\n",
       "      <td>CHEMBL3046468</td>\n",
       "      <td>Scientific Literature</td>\n",
       "      <td>Med Chem Res</td>\n",
       "      <td>2012.0</td>\n",
       "      <td>NaN</td>\n",
       "      <td>20 ug/ml</td>\n",
       "      <td>NaN</td>\n",
       "      <td>NaN</td>\n",
       "      <td>NaN</td>\n",
       "      <td>True</td>\n",
       "    </tr>\n",
       "    <tr>\n",
       "      <th>4</th>\n",
       "      <td>CHEMBL378093</td>\n",
       "      <td>Nc1noc2ccc(-n3nc(C(F)(F)F)c4c3C(=O)N(c3ccc(-c5...</td>\n",
       "      <td>PPB</td>\n",
       "      <td>'='</td>\n",
       "      <td>97.0</td>\n",
       "      <td>%</td>\n",
       "      <td>CHEMBL900675</td>\n",
       "      <td>Protein binding in human serum by equilibrium ...</td>\n",
       "      <td>A</td>\n",
       "      <td>BAO_0000366</td>\n",
       "      <td>cell-free format</td>\n",
       "      <td>CHEMBL1137566</td>\n",
       "      <td>Scientific Literature</td>\n",
       "      <td>J Med Chem</td>\n",
       "      <td>2007.0</td>\n",
       "      <td>Human Serum</td>\n",
       "      <td>NaN</td>\n",
       "      <td>NaN</td>\n",
       "      <td>Equilibrium Dialysis</td>\n",
       "      <td>Equilibrium Dialysis</td>\n",
       "      <td>True</td>\n",
       "    </tr>\n",
       "  </tbody>\n",
       "</table>\n",
       "</div>"
      ],
      "text/plain": [
       "  Molecule ChEMBL ID                                             Smiles  \\\n",
       "0      CHEMBL1223528           Cc1cc2n[nH]c(=O)n2c2cc(-c3cn[nH]c3)ccc12   \n",
       "1       CHEMBL374975  CC(=O)O[C@H]1C[C@@]2(C)[C@@H](C[C@@H](O)[C@H]3...   \n",
       "2      CHEMBL2235849                CC(C)Cc1ccc(C(C)C(=O)OCc2ccccc2)cc1   \n",
       "3      CHEMBL2235855      COC(=O)C(Cc1ccccc1)NC(=O)C(C)c1ccc(CC(C)C)cc1   \n",
       "4       CHEMBL378093  Nc1noc2ccc(-n3nc(C(F)(F)F)c4c3C(=O)N(c3ccc(-c5...   \n",
       "\n",
       "  Standard Type Standard Relation  Standard Value Standard Units  \\\n",
       "0           PPB               '='             1.3              %   \n",
       "1           PPB               '='            97.0              %   \n",
       "2           PPB               '='            37.0              %   \n",
       "3           PPB               '='            47.0              %   \n",
       "4           PPB               '='            97.0              %   \n",
       "\n",
       "  Assay ChEMBL ID                                  Assay Description  \\\n",
       "0   CHEMBL1228392                          Protein binding in plasma   \n",
       "1   CHEMBL1661509                           Protein binding in serum   \n",
       "2   CHEMBL3048171              Protein binding in plasma at 20 ug/ml   \n",
       "3   CHEMBL3048171              Protein binding in plasma at 20 ug/ml   \n",
       "4    CHEMBL900675  Protein binding in human serum by equilibrium ...   \n",
       "\n",
       "  Assay Type BAO Format ID         BAO Label Document ChEMBL ID  \\\n",
       "0          A   BAO_0000366  cell-free format      CHEMBL1221270   \n",
       "1          A   BAO_0000366  cell-free format      CHEMBL1649135   \n",
       "2          A   BAO_0000366  cell-free format      CHEMBL3046468   \n",
       "3          A   BAO_0000366  cell-free format      CHEMBL3046468   \n",
       "4          A   BAO_0000366  cell-free format      CHEMBL1137566   \n",
       "\n",
       "      Source Description             Document Journal  Document Year  \\\n",
       "0  Scientific Literature         Bioorg Med Chem Lett         2010.0   \n",
       "1  Scientific Literature  Antimicrob Agents Chemother         2009.0   \n",
       "2  Scientific Literature                 Med Chem Res         2012.0   \n",
       "3  Scientific Literature                 Med Chem Res         2012.0   \n",
       "4  Scientific Literature                   J Med Chem         2007.0   \n",
       "\n",
       "  Species/Origin of Plasma or Serum Concentration of Tested Compound  \\\n",
       "0                               NaN                              NaN   \n",
       "1                               NaN                              NaN   \n",
       "2                               NaN                         20 ug/ml   \n",
       "3                               NaN                         20 ug/ml   \n",
       "4                       Human Serum                              NaN   \n",
       "\n",
       "  Duration of Incubation Analytical Detection Method  \\\n",
       "0                    NaN                         NaN   \n",
       "1                    NaN                         NaN   \n",
       "2                    NaN                         NaN   \n",
       "3                    NaN                         NaN   \n",
       "4                    NaN        Equilibrium Dialysis   \n",
       "\n",
       "  Equilibrium Dialysis for Protein Binding Assessment Plasma_Protein_Binding  \n",
       "0                                                NaN                    True  \n",
       "1                                                NaN                    True  \n",
       "2                                                NaN                    True  \n",
       "3                                                NaN                    True  \n",
       "4                               Equilibrium Dialysis                    True  "
      ]
     },
     "execution_count": 18,
     "metadata": {},
     "output_type": "execute_result"
    }
   ],
   "source": [
    "Chembl.head()"
   ]
  },
  {
   "cell_type": "code",
   "execution_count": 19,
   "id": "74a0b47f",
   "metadata": {},
   "outputs": [],
   "source": [
    "Chembl = Chembl[Chembl['Standard Relation'] == \"'='\"]\n",
    "Chembl = Chembl[Chembl['Standard Units'] == '%']\n",
    "Chembl['Plasma_Protein_Binding'] = Chembl['Plasma_Protein_Binding'].fillna(False)\n",
    "Chembl = Chembl[Chembl['Plasma_Protein_Binding']]"
   ]
  },
  {
   "cell_type": "code",
   "execution_count": 20,
   "id": "31aa3d40",
   "metadata": {},
   "outputs": [
    {
     "data": {
      "text/plain": [
       "Index(['Molecule ChEMBL ID', 'Smiles', 'Standard Type', 'Standard Relation',\n",
       "       'Standard Value', 'Standard Units', 'Assay ChEMBL ID',\n",
       "       'Assay Description', 'Assay Type', 'BAO Format ID', 'BAO Label',\n",
       "       'Document ChEMBL ID', 'Source Description', 'Document Journal',\n",
       "       'Document Year', 'Species/Origin of Plasma or Serum',\n",
       "       'Concentration of Tested Compound', 'Duration of Incubation',\n",
       "       'Analytical Detection Method',\n",
       "       'Equilibrium Dialysis for Protein Binding Assessment',\n",
       "       'Plasma_Protein_Binding'],\n",
       "      dtype='object')"
      ]
     },
     "execution_count": 20,
     "metadata": {},
     "output_type": "execute_result"
    }
   ],
   "source": [
    "Chembl.columns"
   ]
  },
  {
   "cell_type": "code",
   "execution_count": 21,
   "id": "18b9a9cc",
   "metadata": {},
   "outputs": [
    {
     "name": "stderr",
     "output_type": "stream",
     "text": [
      "100%|█████████████████████████████████████████| 3202/3202 [00:00<00:00, 8578.66it/s]\n"
     ]
    },
    {
     "name": "stdout",
     "output_type": "stream",
     "text": [
      "SANITIZE_NONE    3202\n",
      "Name: Smiles_check, dtype: int64\n"
     ]
    },
    {
     "name": "stderr",
     "output_type": "stream",
     "text": [
      "100%|██████████████████████████████████████| 3202/3202 [00:00<00:00, 1146015.99it/s]\n",
      "3202it [00:03, 1037.03it/s]\n"
     ]
    },
    {
     "name": "stdout",
     "output_type": "stream",
     "text": [
      "Metal in Smiles amount: 0\n"
     ]
    },
    {
     "name": "stderr",
     "output_type": "stream",
     "text": [
      "100%|█████████████████████████████████████████| 3202/3202 [00:00<00:00, 9664.38it/s]\n"
     ]
    }
   ],
   "source": [
    "Chembl = process_stage_1(Chembl,'Smiles')"
   ]
  },
  {
   "cell_type": "code",
   "execution_count": 22,
   "id": "f062a532",
   "metadata": {},
   "outputs": [],
   "source": [
    "Chembl['value'] = Chembl['Standard Value']\n",
    "Chembl = Chembl[(Chembl['value'] <150) & (Chembl['value'] >= 0)]"
   ]
  },
  {
   "cell_type": "code",
   "execution_count": 23,
   "id": "a0181b12",
   "metadata": {},
   "outputs": [
    {
     "data": {
      "image/png": "[encoded data removed]",
      "text/plain": [
       "<Figure size 432x288 with 1 Axes>"
      ]
     },
     "metadata": {},
     "output_type": "display_data"
    }
   ],
   "source": [
    "plot_diagram(Chembl,['Smiles_unify'],'value')"
   ]
  },
  {
   "cell_type": "code",
   "execution_count": 24,
   "id": "f298c779",
   "metadata": {},
   "outputs": [
    {
     "data": {
      "text/plain": [
       "Human                            958\n",
       "Mouse                            420\n",
       "Rat                              411\n",
       "Human Plasma                     288\n",
       "NaN                              191\n",
       "                                ... \n",
       "Guinea pig                         1\n",
       "C57BL/6 Mouse                      1\n",
       "OATP Knock Out Wistar Han Rat      1\n",
       "Han Wistar Rat Plasma              1\n",
       "Wistar Han male rat                1\n",
       "Name: Species/Origin of Plasma or Serum, Length: 92, dtype: int64"
      ]
     },
     "metadata": {},
     "output_type": "display_data"
    },
    {
     "data": {
      "text/plain": [
       "NaN                  2028\n",
       "5 uM                  316\n",
       "10 uM                 213\n",
       "1 uM                  185\n",
       "2 uM                  110\n",
       "                     ... \n",
       "200 mg/kg               1\n",
       "125 mg                  1\n",
       "500 to 5000 ng/ml       1\n",
       "0.5 ug/ml               1\n",
       "400 mg                  1\n",
       "Name: Concentration of Tested Compound, Length: 67, dtype: int64"
      ]
     },
     "metadata": {},
     "output_type": "display_data"
    },
    {
     "data": {
      "text/plain": [
       "NaN                                          2004\n",
       "4 hrs                                         416\n",
       "5 hrs                                         200\n",
       "6 hrs                                         123\n",
       "18 hrs                                         92\n",
       "15 mins                                        48\n",
       "30 mins                                        37\n",
       "24 hrs                                         35\n",
       "1 hr                                           21\n",
       "1 hr preincubation                             20\n",
       "120 mins                                       20\n",
       "2 hrs                                          20\n",
       "4.2 hrs                                        17\n",
       "48 hrs                                         16\n",
       "16 hrs                                         14\n",
       "3 to 6 hrs                                      9\n",
       "after 24 hrs                                    6\n",
       "5 hr                                            6\n",
       "up to 24 hrs                                    6\n",
       "8 hrs                                           6\n",
       "30 mins preincubation followed by 4 hrs         5\n",
       "after 10 mins                                   5\n",
       "4.5 hrs                                         5\n",
       "60 mins                                         5\n",
       "2 to 6 hrs                                      4\n",
       "20 mins                                         4\n",
       "0.25 mins                                       3\n",
       "up to 8 hrs                                     3\n",
       "after 6 hrs                                     3\n",
       "up to 6 hrs                                     3\n",
       "2 mins                                          3\n",
       "240 mins                                        2\n",
       "5 to 10 mins                                    2\n",
       "10 mins                                         2\n",
       "measured after 24 hrs                           2\n",
       "60 to 120 mins                                  2\n",
       "4 to 6 hrs                                      2\n",
       "6 hrs post dose                                 1\n",
       "45 mins                                         1\n",
       "30 mins incubation, measured after 10 hrs       1\n",
       "20 to 24 hrs                                    1\n",
       "up to 72 hrs                                    1\n",
       "upto 8 hrs                                      1\n",
       "Name: Duration of Incubation, dtype: int64"
      ]
     },
     "metadata": {},
     "output_type": "display_data"
    },
    {
     "data": {
      "text/plain": [
       "NaN                                                1770\n",
       "LC-MS/MS                                            621\n",
       "Equilibrium Dialysis                                158\n",
       "LC-MS                                               117\n",
       "LC/MS/MS                                             81\n",
       "Rapid Equilibrium Dialysis                           65\n",
       "UC-LC/MS/MS                                          42\n",
       "HPLC                                                 39\n",
       "Dialysis                                             35\n",
       "HPLC-MS                                              32\n",
       "UPLC-MS/MS                                           27\n",
       "HPLC-MS/MS                                           26\n",
       "Ultracentrifugation                                  18\n",
       "RF-MS                                                18\n",
       "Ultrafiltration                                      11\n",
       "LCMS                                                 11\n",
       "ESI-LC/MS/MS                                         10\n",
       "LC/MS                                                10\n",
       "Spectrophotometry                                    10\n",
       "UV-UPLC                                              10\n",
       "UPLC                                                 10\n",
       "RP-UHPLC                                              9\n",
       "LC/MS-MS                                              5\n",
       "Ultra-filtration                                      4\n",
       "RP-HPLC                                               4\n",
       "LC-ESI-MS/MS                                          4\n",
       "HSA-HPLC                                              4\n",
       "High-Throughput Dialysis                              4\n",
       "Liquid Chromatography/Tandem Mass Spectrometric       3\n",
       "Mass Spectrometry                                     3\n",
       "Liquid Chromatography-Tandem Mass Spectrometry        3\n",
       "HPLC-UV/Vis detection                                 2\n",
       "Chromatographic Method                                2\n",
       "Balanced Dialysis                                     2\n",
       "UHPLC-MS/MS                                           2\n",
       "Toribara Dialysis                                     1\n",
       "LC-ESI MS                                             1\n",
       "UPLC-MS                                               1\n",
       "HPLC-UV/Vis                                           1\n",
       "Quadrupole Mass Spectrometry Coupled UFLC             1\n",
       "Name: Analytical Detection Method, dtype: int64"
      ]
     },
     "metadata": {},
     "output_type": "display_data"
    },
    {
     "data": {
      "text/plain": [
       "NaN                           2449\n",
       "Equilibrium Dialysis           324\n",
       "Rapid Equilibrium Dialysis     286\n",
       "Ultracentrifugation             42\n",
       "Relative to Control             24\n",
       "Balanced Dialysis               22\n",
       "Ultrafiltration                 13\n",
       "Dialysis                         6\n",
       "Red Equilibrium Dialysis         5\n",
       "High-Throughput Dialysis         3\n",
       "Toribara Dialysis                2\n",
       "Equilibrium Analysis             1\n",
       "Name: Equilibrium Dialysis for Protein Binding Assessment, dtype: int64"
      ]
     },
     "metadata": {},
     "output_type": "display_data"
    }
   ],
   "source": [
    "for experiment in [  'Species/Origin of Plasma or Serum',\n",
    "       'Concentration of Tested Compound', 'Duration of Incubation',\n",
    "       'Analytical Detection Method',\n",
    "       'Equilibrium Dialysis for Protein Binding Assessment']:\n",
    "    display(Chembl[experiment].value_counts(dropna=False))"
   ]
  },
  {
   "cell_type": "code",
   "execution_count": 25,
   "id": "7ca0313c",
   "metadata": {},
   "outputs": [],
   "source": [
    "Chembl['value'] = Chembl['Standard Value'].copy(deep=True)"
   ]
  },
  {
   "cell_type": "code",
   "execution_count": 26,
   "id": "994af987",
   "metadata": {},
   "outputs": [],
   "source": [
    "Chembl['Species/Origin of Plasma or Serum'] = Chembl['Species/Origin of Plasma or Serum'].fillna('Unknown')"
   ]
  },
  {
   "cell_type": "code",
   "execution_count": 27,
   "id": "eddcce50",
   "metadata": {},
   "outputs": [],
   "source": [
    "Chembl = Chembl[Chembl['Species/Origin of Plasma or Serum'].map(lambda x:x.lower()).str.contains('human')]"
   ]
  },
  {
   "cell_type": "code",
   "execution_count": 28,
   "id": "dd836481",
   "metadata": {},
   "outputs": [
    {
     "data": {
      "text/plain": [
       "5 uM                    147\n",
       "10 uM                   105\n",
       "1 uM                     71\n",
       "2 uM                     36\n",
       "1 ug/ml                  33\n",
       "5 mM                     10\n",
       "0.5 mg/ml                 9\n",
       "50 uM                     9\n",
       "10 ug/mL                  6\n",
       "1 mM                      5\n",
       "150 uM                    5\n",
       "100 ug/ml                 3\n",
       "100 mg                    3\n",
       "30 to 1000 ng/ml          2\n",
       "20 uM                     2\n",
       "0.2 mg/ml                 1\n",
       "0.2 g                     1\n",
       "0.25 mg/ml                1\n",
       "0.6 g                     1\n",
       "0.5 to 2 uM               1\n",
       "400 mg                    1\n",
       "20 mg/kg                  1\n",
       "200 mg/kg                 1\n",
       "125 mg                    1\n",
       "40 uM                     1\n",
       "0.2 to 20 uM              1\n",
       "0.3 ug/ml                 1\n",
       "0.0002 to 1000 mg/ml      1\n",
       "1 to 100 uM               1\n",
       "Name: Concentration of Tested Compound, dtype: int64"
      ]
     },
     "execution_count": 28,
     "metadata": {},
     "output_type": "execute_result"
    }
   ],
   "source": [
    "Chembl = Chembl[~Chembl['Concentration of Tested Compound'].isin(['2 g','1 g'])]\n",
    "\n",
    "Chembl['Concentration of Tested Compound'].value_counts()"
   ]
  },
  {
   "cell_type": "code",
   "execution_count": 29,
   "id": "bd5ce651",
   "metadata": {},
   "outputs": [
    {
     "data": {
      "text/plain": [
       "4 hrs                                      186\n",
       "5 hrs                                       98\n",
       "18 hrs                                      91\n",
       "6 hrs                                       46\n",
       "30 mins                                     23\n",
       "1 hr                                        16\n",
       "24 hrs                                      15\n",
       "120 mins                                    10\n",
       "3 to 6 hrs                                   9\n",
       "2 hrs                                        9\n",
       "30 mins preincubation followed by 4 hrs      5\n",
       "60 mins                                      4\n",
       "16 hrs                                       3\n",
       "up to 6 hrs                                  3\n",
       "2 to 6 hrs                                   2\n",
       "20 mins                                      2\n",
       "240 mins                                     2\n",
       "8 hrs                                        1\n",
       "4.5 hrs                                      1\n",
       "2 mins                                       1\n",
       "60 to 120 mins                               1\n",
       "5 to 10 mins                                 1\n",
       "20 to 24 hrs                                 1\n",
       "0.25 mins                                    1\n",
       "15 mins                                      1\n",
       "Name: Duration of Incubation, dtype: int64"
      ]
     },
     "execution_count": 29,
     "metadata": {},
     "output_type": "execute_result"
    }
   ],
   "source": [
    "Chembl = Chembl[~Chembl['Duration of Incubation'].isin(['48 hrs'])]\n",
    "\n",
    "Chembl['Duration of Incubation'].value_counts()"
   ]
  },
  {
   "cell_type": "code",
   "execution_count": 30,
   "id": "54c569ba",
   "metadata": {},
   "outputs": [
    {
     "data": {
      "text/plain": [
       "LC-MS/MS                                          249\n",
       "Equilibrium Dialysis                               72\n",
       "LC/MS/MS                                           61\n",
       "LC-MS                                              28\n",
       "HPLC                                               27\n",
       "HPLC-MS/MS                                         21\n",
       "Rapid Equilibrium Dialysis                         19\n",
       "HPLC-MS                                            19\n",
       "RF-MS                                              18\n",
       "Dialysis                                           14\n",
       "UV-UPLC                                            10\n",
       "RP-UHPLC                                            9\n",
       "Ultracentrifugation                                 8\n",
       "UPLC                                                6\n",
       "UPLC-MS/MS                                          5\n",
       "Ultrafiltration                                     5\n",
       "LC-ESI-MS/MS                                        4\n",
       "RP-HPLC                                             4\n",
       "LC/MS                                               4\n",
       "LCMS                                                3\n",
       "Chromatographic Method                              2\n",
       "Ultra-filtration                                    2\n",
       "Balanced Dialysis                                   2\n",
       "ESI-LC/MS/MS                                        2\n",
       "High-Throughput Dialysis                            1\n",
       "UPLC-MS                                             1\n",
       "HPLC-UV/Vis                                         1\n",
       "Liquid Chromatography-Tandem Mass Spectrometry      1\n",
       "UHPLC-MS/MS                                         1\n",
       "Quadrupole Mass Spectrometry Coupled UFLC           1\n",
       "Name: Analytical Detection Method, dtype: int64"
      ]
     },
     "execution_count": 30,
     "metadata": {},
     "output_type": "execute_result"
    }
   ],
   "source": [
    "# Chembl = Chembl[~Chembl['Duration of Incubation'].isin(['48 hrs'])]\n",
    "\n",
    "Chembl['Analytical Detection Method'].value_counts()"
   ]
  },
  {
   "cell_type": "code",
   "execution_count": 31,
   "id": "039e1da8",
   "metadata": {},
   "outputs": [
    {
     "data": {
      "text/plain": [
       "Rapid Equilibrium Dialysis    181\n",
       "Equilibrium Dialysis          132\n",
       "Relative to Control            12\n",
       "Ultracentrifugation            12\n",
       "Ultrafiltration                 9\n",
       "Balanced Dialysis               2\n",
       "High-Throughput Dialysis        1\n",
       "Name: Equilibrium Dialysis for Protein Binding Assessment, dtype: int64"
      ]
     },
     "execution_count": 31,
     "metadata": {},
     "output_type": "execute_result"
    }
   ],
   "source": [
    "\n",
    "Chembl['Equilibrium Dialysis for Protein Binding Assessment'].value_counts()"
   ]
  },
  {
   "cell_type": "code",
   "execution_count": 32,
   "id": "7574100c",
   "metadata": {},
   "outputs": [
    {
     "data": {
      "image/png": "[encoded data removed]",
      "text/plain": [
       "<Figure size 432x288 with 1 Axes>"
      ]
     },
     "metadata": {},
     "output_type": "display_data"
    }
   ],
   "source": [
    "plot_diagram(Chembl,['Smiles_unify','Concentration of Tested Compound'],'value')"
   ]
  },
  {
   "cell_type": "code",
   "execution_count": 33,
   "id": "51a730f6",
   "metadata": {},
   "outputs": [],
   "source": [
    "Chembl = Chembl[['Smiles','value','Assay ChEMBL ID','Concentration of Tested Compound','Species/Origin of Plasma or Serum']]\n",
    "Chembl['property'] = 'ppb'"
   ]
  },
  {
   "cell_type": "code",
   "execution_count": 34,
   "id": "bd673fce",
   "metadata": {},
   "outputs": [],
   "source": [
    "Chembl.columns = ['Smiles','value','source','concentration','spec','property']"
   ]
  },
  {
   "cell_type": "code",
   "execution_count": 35,
   "id": "c7fb61e5",
   "metadata": {},
   "outputs": [],
   "source": [
    "Chembl = Chembl[(Chembl['value'] <150) & (Chembl['value'] >= 0)]"
   ]
  },
  {
   "cell_type": "code",
   "execution_count": 36,
   "id": "663a66c9",
   "metadata": {},
   "outputs": [
    {
     "data": {
      "text/plain": [
       "<AxesSubplot:>"
      ]
     },
     "execution_count": 36,
     "metadata": {},
     "output_type": "execute_result"
    },
    {
     "data": {
      "image/png": "[encoded data removed]",
      "text/plain": [
       "<Figure size 432x288 with 1 Axes>"
      ]
     },
     "metadata": {},
     "output_type": "display_data"
    }
   ],
   "source": [
    "Chembl['value'].hist()"
   ]
  },
  {
   "cell_type": "markdown",
   "id": "e28294ae-a313-46f4-beaf-ba81fe6e6406",
   "metadata": {},
   "source": [
    "## Combine all datasets"
   ]
  },
  {
   "cell_type": "code",
   "execution_count": 37,
   "id": "cae4310b",
   "metadata": {},
   "outputs": [],
   "source": [
    "\n",
    "df_all = Chembl.copy(deep=True)"
   ]
  },
  {
   "cell_type": "code",
   "execution_count": 38,
   "id": "ae3dd283",
   "metadata": {},
   "outputs": [
    {
     "data": {
      "text/plain": [
       "(397, (1310, 6))"
      ]
     },
     "execution_count": 38,
     "metadata": {},
     "output_type": "execute_result"
    }
   ],
   "source": [
    "df_all['source'].nunique(),df_all.shape"
   ]
  },
  {
   "cell_type": "code",
   "execution_count": 39,
   "id": "527d83cd-9c4a-4738-a1fa-cef486a3cf1a",
   "metadata": {},
   "outputs": [],
   "source": [
    "\n",
    "df_all = df_all.dropna(subset = ['Smiles','value'])\n"
   ]
  },
  {
   "cell_type": "code",
   "execution_count": 40,
   "id": "b86e0794",
   "metadata": {},
   "outputs": [
    {
     "name": "stderr",
     "output_type": "stream",
     "text": [
      "100%|████████████████████████████████████████| 1310/1310 [00:00<00:00, 10580.56it/s]\n"
     ]
    },
    {
     "name": "stdout",
     "output_type": "stream",
     "text": [
      "SANITIZE_NONE    1310\n",
      "Name: Smiles_check, dtype: int64\n"
     ]
    },
    {
     "name": "stderr",
     "output_type": "stream",
     "text": [
      "100%|███████████████████████████████████████| 1310/1310 [00:00<00:00, 984331.47it/s]\n",
      "1310it [00:01, 921.70it/s] \n"
     ]
    },
    {
     "name": "stdout",
     "output_type": "stream",
     "text": [
      "Metal in Smiles amount: 0\n"
     ]
    },
    {
     "name": "stderr",
     "output_type": "stream",
     "text": [
      "100%|████████████████████████████████████████| 1310/1310 [00:00<00:00, 10516.77it/s]\n"
     ]
    }
   ],
   "source": [
    "df_all = process_stage_1(df_all,'Smiles')"
   ]
  },
  {
   "cell_type": "markdown",
   "id": "f62cba0d",
   "metadata": {},
   "source": [
    "## Filter Unrealiable Value"
   ]
  },
  {
   "cell_type": "code",
   "execution_count": 41,
   "id": "4038960f",
   "metadata": {},
   "outputs": [],
   "source": [
    "df_all['value'] = df_all['value'].map(float)"
   ]
  },
  {
   "cell_type": "code",
   "execution_count": 42,
   "id": "89ef969d",
   "metadata": {},
   "outputs": [
    {
     "data": {
      "text/plain": [
       "<AxesSubplot:>"
      ]
     },
     "execution_count": 42,
     "metadata": {},
     "output_type": "execute_result"
    },
    {
     "data": {
      "image/png": "[encoded data removed]",
      "text/plain": [
       "<Figure size 432x288 with 1 Axes>"
      ]
     },
     "metadata": {},
     "output_type": "display_data"
    }
   ],
   "source": [
    "df_all['value'].hist()"
   ]
  },
  {
   "cell_type": "code",
   "execution_count": 43,
   "id": "73f5cf68",
   "metadata": {},
   "outputs": [
    {
     "data": {
      "text/plain": [
       "Index(['Smiles', 'value', 'source', 'concentration', 'spec', 'property',\n",
       "       'Smiles_check', 'Smiles_removesalt', 'Smiles_unify', 'AtomCounts'],\n",
       "      dtype='object')"
      ]
     },
     "execution_count": 43,
     "metadata": {},
     "output_type": "execute_result"
    }
   ],
   "source": [
    "df_all.columns"
   ]
  },
  {
   "cell_type": "code",
   "execution_count": 44,
   "id": "be319b48",
   "metadata": {},
   "outputs": [],
   "source": [
    "df_all = df_all[['Smiles_unify','Smiles','value', 'source', 'concentration', 'spec',\n",
    "       'property']]"
   ]
  },
  {
   "cell_type": "code",
   "execution_count": 46,
   "id": "a3e7fae4",
   "metadata": {},
   "outputs": [
    {
     "data": {
      "text/html": [
       "<div>\n",
       "<style scoped>\n",
       "    .dataframe tbody tr th:only-of-type {\n",
       "        vertical-align: middle;\n",
       "    }\n",
       "\n",
       "    .dataframe tbody tr th {\n",
       "        vertical-align: top;\n",
       "    }\n",
       "\n",
       "    .dataframe thead th {\n",
       "        text-align: right;\n",
       "    }\n",
       "</style>\n",
       "<table border=\"1\" class=\"dataframe\">\n",
       "  <thead>\n",
       "    <tr style=\"text-align: right;\">\n",
       "      <th></th>\n",
       "      <th>Smiles_unify</th>\n",
       "      <th>Smiles</th>\n",
       "      <th>value</th>\n",
       "      <th>source</th>\n",
       "      <th>concentration</th>\n",
       "      <th>spec</th>\n",
       "      <th>property</th>\n",
       "    </tr>\n",
       "  </thead>\n",
       "  <tbody>\n",
       "    <tr>\n",
       "      <th>4</th>\n",
       "      <td>Nc1noc2ccc(-n3nc(C(F)(F)F)c4c3C(=O)N(c3ccc(-c5...</td>\n",
       "      <td>Nc1noc2ccc(-n3nc(C(F)(F)F)c4c3C(=O)N(c3ccc(-c5...</td>\n",
       "      <td>97.0</td>\n",
       "      <td>CHEMBL900675</td>\n",
       "      <td>NaN</td>\n",
       "      <td>Human Serum</td>\n",
       "      <td>ppb</td>\n",
       "    </tr>\n",
       "    <tr>\n",
       "      <th>11</th>\n",
       "      <td>COc1cc(NC(C(=O)c2c[nH]c3ccccc23)c2ccccc2)cc(OC...</td>\n",
       "      <td>COc1cc(NC(C(=O)c2c[nH]c3ccccc23)c2ccccc2)cc(OC...</td>\n",
       "      <td>99.0</td>\n",
       "      <td>CHEMBL4200986</td>\n",
       "      <td>NaN</td>\n",
       "      <td>Human</td>\n",
       "      <td>ppb</td>\n",
       "    </tr>\n",
       "    <tr>\n",
       "      <th>14</th>\n",
       "      <td>O=C(O)C[C@H](NC(=O)Cn1c(C2CC2)cnc(NCc2ccc3c(n2...</td>\n",
       "      <td>O=C(O)C[C@H](NC(=O)Cn1c(C2CC2)cnc(NCc2ccc3c(n2...</td>\n",
       "      <td>97.5</td>\n",
       "      <td>CHEMBL619354</td>\n",
       "      <td>NaN</td>\n",
       "      <td>Human</td>\n",
       "      <td>ppb</td>\n",
       "    </tr>\n",
       "    <tr>\n",
       "      <th>15</th>\n",
       "      <td>CN1CCN(Nc2ncc(Nc3ccc4c(Nc5cnccn5)ccnc4c3)cn2)CC1</td>\n",
       "      <td>CN1CCN(Nc2ncc(Nc3ccc4c(Nc5cnccn5)ccnc4c3)cn2)CC1</td>\n",
       "      <td>51.0</td>\n",
       "      <td>CHEMBL4373163</td>\n",
       "      <td>NaN</td>\n",
       "      <td>Human</td>\n",
       "      <td>ppb</td>\n",
       "    </tr>\n",
       "    <tr>\n",
       "      <th>19</th>\n",
       "      <td>N#Cc1cc(F)cc(Oc2ccc3c(c2C(F)F)[C@@H](O)C(F)(F)...</td>\n",
       "      <td>N#Cc1cc(F)cc(Oc2ccc3c(c2C(F)F)[C@@H](O)C(F)(F)...</td>\n",
       "      <td>63.0</td>\n",
       "      <td>CHEMBL4158411</td>\n",
       "      <td>10 uM</td>\n",
       "      <td>Human Plasma</td>\n",
       "      <td>ppb</td>\n",
       "    </tr>\n",
       "    <tr>\n",
       "      <th>...</th>\n",
       "      <td>...</td>\n",
       "      <td>...</td>\n",
       "      <td>...</td>\n",
       "      <td>...</td>\n",
       "      <td>...</td>\n",
       "      <td>...</td>\n",
       "      <td>...</td>\n",
       "    </tr>\n",
       "    <tr>\n",
       "      <th>3380</th>\n",
       "      <td>C#CCOc1ncc(F)c(OCC#C)n1</td>\n",
       "      <td>C#CCOc1ncc(F)c(OCC#C)n1</td>\n",
       "      <td>85.8</td>\n",
       "      <td>CHEMBL5156881</td>\n",
       "      <td>5 uM</td>\n",
       "      <td>Human Plasma</td>\n",
       "      <td>ppb</td>\n",
       "    </tr>\n",
       "    <tr>\n",
       "      <th>3383</th>\n",
       "      <td>CCOc1ccccc1NC(=O)c1cc(C)ccc1NS(=O)(=O)C1CC1</td>\n",
       "      <td>CCOc1ccccc1NC(=O)c1cc(C)ccc1NS(=O)(=O)C1CC1</td>\n",
       "      <td>0.3</td>\n",
       "      <td>CHEMBL5167414</td>\n",
       "      <td>NaN</td>\n",
       "      <td>Human</td>\n",
       "      <td>ppb</td>\n",
       "    </tr>\n",
       "    <tr>\n",
       "      <th>3384</th>\n",
       "      <td>CCOc1ccc(F)cc1NC(=O)c1cc(Cl)ccc1NS(=O)(=O)C1CC1</td>\n",
       "      <td>CCOc1ccc(F)cc1NC(=O)c1cc(Cl)ccc1NS(=O)(=O)C1CC1</td>\n",
       "      <td>0.1</td>\n",
       "      <td>CHEMBL5167414</td>\n",
       "      <td>NaN</td>\n",
       "      <td>Human</td>\n",
       "      <td>ppb</td>\n",
       "    </tr>\n",
       "    <tr>\n",
       "      <th>3387</th>\n",
       "      <td>COc1ccc2ccc(=O)n(CCN[C@H]3CC[C@H]4[C@@H](C3)OC...</td>\n",
       "      <td>COc1ccc2ccc(=O)n(CCN[C@H]3CC[C@H]4[C@@H](C3)OC...</td>\n",
       "      <td>8.1</td>\n",
       "      <td>CHEMBL5146138</td>\n",
       "      <td>NaN</td>\n",
       "      <td>Human</td>\n",
       "      <td>ppb</td>\n",
       "    </tr>\n",
       "    <tr>\n",
       "      <th>3388</th>\n",
       "      <td>CC(C)NC[C@@H](C(=O)N1CCN(c2ncnc3c2[C@H](C)CC(=...</td>\n",
       "      <td>CC(C)NC[C@@H](C(=O)N1CCN(c2ncnc3c2[C@H](C)CC(=...</td>\n",
       "      <td>48.7</td>\n",
       "      <td>CHEMBL5168689</td>\n",
       "      <td>1 to 100 uM</td>\n",
       "      <td>Human</td>\n",
       "      <td>ppb</td>\n",
       "    </tr>\n",
       "  </tbody>\n",
       "</table>\n",
       "<p>1310 rows × 7 columns</p>\n",
       "</div>"
      ],
      "text/plain": [
       "                                           Smiles_unify  \\\n",
       "4     Nc1noc2ccc(-n3nc(C(F)(F)F)c4c3C(=O)N(c3ccc(-c5...   \n",
       "11    COc1cc(NC(C(=O)c2c[nH]c3ccccc23)c2ccccc2)cc(OC...   \n",
       "14    O=C(O)C[C@H](NC(=O)Cn1c(C2CC2)cnc(NCc2ccc3c(n2...   \n",
       "15     CN1CCN(Nc2ncc(Nc3ccc4c(Nc5cnccn5)ccnc4c3)cn2)CC1   \n",
       "19    N#Cc1cc(F)cc(Oc2ccc3c(c2C(F)F)[C@@H](O)C(F)(F)...   \n",
       "...                                                 ...   \n",
       "3380                            C#CCOc1ncc(F)c(OCC#C)n1   \n",
       "3383        CCOc1ccccc1NC(=O)c1cc(C)ccc1NS(=O)(=O)C1CC1   \n",
       "3384    CCOc1ccc(F)cc1NC(=O)c1cc(Cl)ccc1NS(=O)(=O)C1CC1   \n",
       "3387  COc1ccc2ccc(=O)n(CCN[C@H]3CC[C@H]4[C@@H](C3)OC...   \n",
       "3388  CC(C)NC[C@@H](C(=O)N1CCN(c2ncnc3c2[C@H](C)CC(=...   \n",
       "\n",
       "                                                 Smiles  value         source  \\\n",
       "4     Nc1noc2ccc(-n3nc(C(F)(F)F)c4c3C(=O)N(c3ccc(-c5...   97.0   CHEMBL900675   \n",
       "11    COc1cc(NC(C(=O)c2c[nH]c3ccccc23)c2ccccc2)cc(OC...   99.0  CHEMBL4200986   \n",
       "14    O=C(O)C[C@H](NC(=O)Cn1c(C2CC2)cnc(NCc2ccc3c(n2...   97.5   CHEMBL619354   \n",
       "15     CN1CCN(Nc2ncc(Nc3ccc4c(Nc5cnccn5)ccnc4c3)cn2)CC1   51.0  CHEMBL4373163   \n",
       "19    N#Cc1cc(F)cc(Oc2ccc3c(c2C(F)F)[C@@H](O)C(F)(F)...   63.0  CHEMBL4158411   \n",
       "...                                                 ...    ...            ...   \n",
       "3380                            C#CCOc1ncc(F)c(OCC#C)n1   85.8  CHEMBL5156881   \n",
       "3383        CCOc1ccccc1NC(=O)c1cc(C)ccc1NS(=O)(=O)C1CC1    0.3  CHEMBL5167414   \n",
       "3384    CCOc1ccc(F)cc1NC(=O)c1cc(Cl)ccc1NS(=O)(=O)C1CC1    0.1  CHEMBL5167414   \n",
       "3387  COc1ccc2ccc(=O)n(CCN[C@H]3CC[C@H]4[C@@H](C3)OC...    8.1  CHEMBL5146138   \n",
       "3388  CC(C)NC[C@@H](C(=O)N1CCN(c2ncnc3c2[C@H](C)CC(=...   48.7  CHEMBL5168689   \n",
       "\n",
       "     concentration          spec property  \n",
       "4              NaN   Human Serum      ppb  \n",
       "11             NaN         Human      ppb  \n",
       "14             NaN         Human      ppb  \n",
       "15             NaN         Human      ppb  \n",
       "19           10 uM  Human Plasma      ppb  \n",
       "...            ...           ...      ...  \n",
       "3380          5 uM  Human Plasma      ppb  \n",
       "3383           NaN         Human      ppb  \n",
       "3384           NaN         Human      ppb  \n",
       "3387           NaN         Human      ppb  \n",
       "3388   1 to 100 uM         Human      ppb  \n",
       "\n",
       "[1310 rows x 7 columns]"
      ]
     },
     "execution_count": 46,
     "metadata": {},
     "output_type": "execute_result"
    }
   ],
   "source": [
    "df_all"
   ]
  },
  {
   "cell_type": "code",
   "execution_count": 45,
   "id": "74c29521",
   "metadata": {},
   "outputs": [],
   "source": [
    "df_all.to_csv('../data/data_processing_result/ppb_preprocessing_finished.csv',index=False)"
   ]
  },
  {
   "cell_type": "code",
   "execution_count": null,
   "id": "df7bf845",
   "metadata": {},
   "outputs": [],
   "source": []
  },
  {
   "cell_type": "code",
   "execution_count": null,
   "id": "80d57fd9",
   "metadata": {},
   "outputs": [],
   "source": []
  }
 ],
 "metadata": {
  "kernelspec": {
   "display_name": "Python 3 (ipykernel)",
   "language": "python",
   "name": "python3"
  },
  "language_info": {
   "codemirror_mode": {
    "name": "ipython",
    "version": 3
   },
   "file_extension": ".py",
   "mimetype": "text/x-python",
   "name": "python",
   "nbconvert_exporter": "python",
   "pygments_lexer": "ipython3",
   "version": "3.9.6"
  }
 },
 "nbformat": 4,
 "nbformat_minor": 5
}
