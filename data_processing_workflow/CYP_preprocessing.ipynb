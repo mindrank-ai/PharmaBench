{
 "cells": [
  {
   "cell_type": "code",
   "execution_count": 1,
   "id": "bee20496-e90c-453c-94f1-1d41ae110284",
   "metadata": {
    "tags": []
   },
   "outputs": [
    {
     "name": "stdout",
     "output_type": "stream",
     "text": [
      "INFO: Pandarallel will run on 20 workers.\n",
      "INFO: Pandarallel will use standard multiprocessing data transfer (pipe) to transfer data between the main process and workers.\n"
     ]
    }
   ],
   "source": [
    "import os\n",
    "import numpy as np\n",
    "import pandas as pd\n",
    "pd.set_option('display.max_columns',50)\n",
    "pd.set_option('display.max_rows',50)\n",
    "pd.options.mode.chained_assignment = None\n",
    "\n",
    "import random\n",
    "random.seed(68)\n",
    "\n",
    "from pandarallel import pandarallel\n",
    "pandarallel.initialize(nb_workers=20)\n",
    "\n",
    "from rdkit import Chem\n",
    "from rdkit.Chem import PandasTools\n",
    "from rdkit.Chem import Descriptors\n"
   ]
  },
  {
   "cell_type": "code",
   "execution_count": 2,
   "id": "a0285089-9bd5-4e2f-8f8b-fc73ea734d89",
   "metadata": {},
   "outputs": [],
   "source": [
    "import sys\n",
    "sys.path.append('../')\n",
    "from Draw_fig import Draw_plot\n",
    "from standardization_process import *"
   ]
  },
  {
   "cell_type": "code",
   "execution_count": 3,
   "id": "3091712c-0994-41df-b557-02adc40e874d",
   "metadata": {},
   "outputs": [],
   "source": [
    "def process_stage_1(df,smi_col):\n",
    "    df[smi_col] = df[smi_col].parallel_apply(smi_to_smi)\n",
    "    df = df[~df[smi_col].isna()]\n",
    "    df = smiles_check(df , smi_col)\n",
    "    df = df[df['Smiles_check'] != False]\n",
    "    df = remove_salt(df, smi_col)\n",
    "    metal_index = metal_check(df, 'Smiles_removesalt')\n",
    "    df = df[~df.index.isin(metal_index)]\n",
    "    df = smiles_unify(df, 'Smiles_removesalt')\n",
    "    return df "
   ]
  },
  {
   "cell_type": "markdown",
   "id": "969f2f68",
   "metadata": {},
   "source": [
    "# Summary for the raw data"
   ]
  },
  {
   "cell_type": "code",
   "execution_count": 4,
   "id": "6af0a5c4",
   "metadata": {},
   "outputs": [],
   "source": [
    "Chembl = pd.read_csv('../data/data_mining_results/Cytochrome_P450_enzymes/chembl_cyp_data_mining_finished.csv')"
   ]
  },
  {
   "cell_type": "code",
   "execution_count": 6,
   "id": "e81fd86b",
   "metadata": {},
   "outputs": [
    {
     "data": {
      "text/plain": [
       "(14775, 26)"
      ]
     },
     "execution_count": 6,
     "metadata": {},
     "output_type": "execute_result"
    }
   ],
   "source": [
    "Chembl = Chembl[~Chembl['Cytochrome_P450_enzymes'].isna()]\n",
    "Chembl.shape"
   ]
  },
  {
   "cell_type": "code",
   "execution_count": 8,
   "id": "cbd967d7",
   "metadata": {},
   "outputs": [
    {
     "data": {
      "text/plain": [
       "3651"
      ]
     },
     "execution_count": 8,
     "metadata": {},
     "output_type": "execute_result"
    }
   ],
   "source": [
    "Chembl['Assay ChEMBL ID'].nunique()"
   ]
  },
  {
   "cell_type": "code",
   "execution_count": null,
   "id": "c58d21dc",
   "metadata": {},
   "outputs": [],
   "source": []
  },
  {
   "cell_type": "markdown",
   "id": "813951ef-b705-470e-8e11-2548232c16a5",
   "metadata": {},
   "source": [
    "# Chembl"
   ]
  },
  {
   "cell_type": "code",
   "execution_count": 9,
   "id": "cf44cdd3-0abd-4b28-b140-4236db72f66f",
   "metadata": {},
   "outputs": [],
   "source": [
    "chembl = pd.read_csv('../data/data_mining_results/Cytochrome_P450_enzymes/chembl_cyp_data_mining_finished.csv')"
   ]
  },
  {
   "cell_type": "code",
   "execution_count": 10,
   "id": "0c49795a-385b-4c60-8df6-11ab1f28027f",
   "metadata": {},
   "outputs": [
    {
     "data": {
      "text/plain": [
       "(19930, 26)"
      ]
     },
     "execution_count": 10,
     "metadata": {},
     "output_type": "execute_result"
    }
   ],
   "source": [
    "chembl.shape"
   ]
  },
  {
   "cell_type": "code",
   "execution_count": 11,
   "id": "e63ddc01-70ba-4e3f-b0c3-8ff97c295809",
   "metadata": {},
   "outputs": [
    {
     "data": {
      "text/html": [
       "<div>\n",
       "<style scoped>\n",
       "    .dataframe tbody tr th:only-of-type {\n",
       "        vertical-align: middle;\n",
       "    }\n",
       "\n",
       "    .dataframe tbody tr th {\n",
       "        vertical-align: top;\n",
       "    }\n",
       "\n",
       "    .dataframe thead th {\n",
       "        text-align: right;\n",
       "    }\n",
       "</style>\n",
       "<table border=\"1\" class=\"dataframe\">\n",
       "  <thead>\n",
       "    <tr style=\"text-align: right;\">\n",
       "      <th></th>\n",
       "      <th>Molecule ChEMBL ID</th>\n",
       "      <th>Smiles</th>\n",
       "      <th>Standard Type</th>\n",
       "      <th>Standard Relation</th>\n",
       "      <th>Standard Value</th>\n",
       "      <th>Standard Units</th>\n",
       "      <th>Assay ChEMBL ID</th>\n",
       "      <th>Assay Description</th>\n",
       "      <th>Assay Type</th>\n",
       "      <th>BAO Format ID</th>\n",
       "      <th>BAO Label</th>\n",
       "      <th>Document ChEMBL ID</th>\n",
       "      <th>Source Description</th>\n",
       "      <th>Document Journal</th>\n",
       "      <th>Document Year</th>\n",
       "      <th>Enzyme Source</th>\n",
       "      <th>Incubation Time</th>\n",
       "      <th>Temperature Range</th>\n",
       "      <th>pH Level</th>\n",
       "      <th>Substrate Concentration</th>\n",
       "      <th>Inhibitor Concentration</th>\n",
       "      <th>Cofactors</th>\n",
       "      <th>Detection Method</th>\n",
       "      <th>Protein Expression System</th>\n",
       "      <th>CYP sources</th>\n",
       "      <th>Cytochrome_P450_enzymes</th>\n",
       "    </tr>\n",
       "  </thead>\n",
       "  <tbody>\n",
       "    <tr>\n",
       "      <th>0</th>\n",
       "      <td>CHEMBL1294</td>\n",
       "      <td>C=C[C@H]1CN2CC[C@H]1C[C@@H]2[C@@H](O)c1ccnc2cc...</td>\n",
       "      <td>IC50</td>\n",
       "      <td>'='</td>\n",
       "      <td>20.0</td>\n",
       "      <td>nM</td>\n",
       "      <td>CHEMBL860948</td>\n",
       "      <td>Inhibition of human CYP2D6</td>\n",
       "      <td>A</td>\n",
       "      <td>BAO_0000357</td>\n",
       "      <td>single protein format</td>\n",
       "      <td>CHEMBL1146077</td>\n",
       "      <td>Scientific Literature</td>\n",
       "      <td>J Med Chem</td>\n",
       "      <td>2006.0</td>\n",
       "      <td>CYP2D6</td>\n",
       "      <td>NaN</td>\n",
       "      <td>NaN</td>\n",
       "      <td>NaN</td>\n",
       "      <td>NaN</td>\n",
       "      <td>NaN</td>\n",
       "      <td>NaN</td>\n",
       "      <td>NaN</td>\n",
       "      <td>NaN</td>\n",
       "      <td>human</td>\n",
       "      <td>True</td>\n",
       "    </tr>\n",
       "    <tr>\n",
       "      <th>1</th>\n",
       "      <td>CHEMBL495118</td>\n",
       "      <td>CNc1noc2c(-c3ccc4c(N5CCOC[C@@H]5C)nncc4c3)c(Cl...</td>\n",
       "      <td>IC50</td>\n",
       "      <td>'='</td>\n",
       "      <td>6000.0</td>\n",
       "      <td>nM</td>\n",
       "      <td>CHEMBL1035787</td>\n",
       "      <td>Inhibition of CYP3A4 in human liver microsomes</td>\n",
       "      <td>A</td>\n",
       "      <td>BAO_0000251</td>\n",
       "      <td>microsome format</td>\n",
       "      <td>CHEMBL1140162</td>\n",
       "      <td>Scientific Literature</td>\n",
       "      <td>J Med Chem</td>\n",
       "      <td>2008.0</td>\n",
       "      <td>CYP3A4</td>\n",
       "      <td>NaN</td>\n",
       "      <td>NaN</td>\n",
       "      <td>NaN</td>\n",
       "      <td>NaN</td>\n",
       "      <td>NaN</td>\n",
       "      <td>NaN</td>\n",
       "      <td>NaN</td>\n",
       "      <td>NaN</td>\n",
       "      <td>human liver microsomes</td>\n",
       "      <td>True</td>\n",
       "    </tr>\n",
       "    <tr>\n",
       "      <th>2</th>\n",
       "      <td>CHEMBL206202</td>\n",
       "      <td>CC[C@@](C)(Cc1ccc(OCCCOc2ccc(CC(F)(F)F)cc2Cl)c...</td>\n",
       "      <td>IC50</td>\n",
       "      <td>'&lt;'</td>\n",
       "      <td>50.0</td>\n",
       "      <td>nM</td>\n",
       "      <td>CHEMBL868415</td>\n",
       "      <td>Inhibition of CYP2C9</td>\n",
       "      <td>A</td>\n",
       "      <td>BAO_0000357</td>\n",
       "      <td>single protein format</td>\n",
       "      <td>CHEMBL1139027</td>\n",
       "      <td>Scientific Literature</td>\n",
       "      <td>Bioorg Med Chem Lett</td>\n",
       "      <td>2006.0</td>\n",
       "      <td>CYP2C9</td>\n",
       "      <td>NaN</td>\n",
       "      <td>NaN</td>\n",
       "      <td>NaN</td>\n",
       "      <td>NaN</td>\n",
       "      <td>NaN</td>\n",
       "      <td>NaN</td>\n",
       "      <td>NaN</td>\n",
       "      <td>NaN</td>\n",
       "      <td>NaN</td>\n",
       "      <td>True</td>\n",
       "    </tr>\n",
       "  </tbody>\n",
       "</table>\n",
       "</div>"
      ],
      "text/plain": [
       "  Molecule ChEMBL ID                                             Smiles  \\\n",
       "0         CHEMBL1294  C=C[C@H]1CN2CC[C@H]1C[C@@H]2[C@@H](O)c1ccnc2cc...   \n",
       "1       CHEMBL495118  CNc1noc2c(-c3ccc4c(N5CCOC[C@@H]5C)nncc4c3)c(Cl...   \n",
       "2       CHEMBL206202  CC[C@@](C)(Cc1ccc(OCCCOc2ccc(CC(F)(F)F)cc2Cl)c...   \n",
       "\n",
       "  Standard Type Standard Relation  Standard Value Standard Units  \\\n",
       "0          IC50               '='            20.0             nM   \n",
       "1          IC50               '='          6000.0             nM   \n",
       "2          IC50               '<'            50.0             nM   \n",
       "\n",
       "  Assay ChEMBL ID                               Assay Description Assay Type  \\\n",
       "0    CHEMBL860948                      Inhibition of human CYP2D6          A   \n",
       "1   CHEMBL1035787  Inhibition of CYP3A4 in human liver microsomes          A   \n",
       "2    CHEMBL868415                            Inhibition of CYP2C9          A   \n",
       "\n",
       "  BAO Format ID              BAO Label Document ChEMBL ID  \\\n",
       "0   BAO_0000357  single protein format      CHEMBL1146077   \n",
       "1   BAO_0000251       microsome format      CHEMBL1140162   \n",
       "2   BAO_0000357  single protein format      CHEMBL1139027   \n",
       "\n",
       "      Source Description      Document Journal  Document Year Enzyme Source  \\\n",
       "0  Scientific Literature            J Med Chem         2006.0        CYP2D6   \n",
       "1  Scientific Literature            J Med Chem         2008.0        CYP3A4   \n",
       "2  Scientific Literature  Bioorg Med Chem Lett         2006.0        CYP2C9   \n",
       "\n",
       "  Incubation Time Temperature Range pH Level Substrate Concentration  \\\n",
       "0             NaN               NaN      NaN                     NaN   \n",
       "1             NaN               NaN      NaN                     NaN   \n",
       "2             NaN               NaN      NaN                     NaN   \n",
       "\n",
       "  Inhibitor Concentration Cofactors Detection Method  \\\n",
       "0                     NaN       NaN              NaN   \n",
       "1                     NaN       NaN              NaN   \n",
       "2                     NaN       NaN              NaN   \n",
       "\n",
       "  Protein Expression System             CYP sources Cytochrome_P450_enzymes  \n",
       "0                       NaN                   human                    True  \n",
       "1                       NaN  human liver microsomes                    True  \n",
       "2                       NaN                     NaN                    True  "
      ]
     },
     "execution_count": 11,
     "metadata": {},
     "output_type": "execute_result"
    }
   ],
   "source": [
    "chembl.head(3)"
   ]
  },
  {
   "cell_type": "markdown",
   "id": "564c5cee-5a8c-42ac-940d-1829b76ee2ac",
   "metadata": {},
   "source": [
    "## check experimental data"
   ]
  },
  {
   "cell_type": "code",
   "execution_count": 12,
   "id": "69aac49d",
   "metadata": {},
   "outputs": [],
   "source": [
    "chembl['Cytochrome_P450_enzymes'] = chembl['Cytochrome_P450_enzymes'].fillna(False)\n",
    "chembl = chembl[chembl['Cytochrome_P450_enzymes']]\n",
    "chembl = chembl[chembl['Standard Relation'] == \"'='\"]"
   ]
  },
  {
   "cell_type": "code",
   "execution_count": 13,
   "id": "1466557b",
   "metadata": {},
   "outputs": [
    {
     "data": {
      "text/plain": [
       "Index(['Molecule ChEMBL ID', 'Smiles', 'Standard Type', 'Standard Relation',\n",
       "       'Standard Value', 'Standard Units', 'Assay ChEMBL ID',\n",
       "       'Assay Description', 'Assay Type', 'BAO Format ID', 'BAO Label',\n",
       "       'Document ChEMBL ID', 'Source Description', 'Document Journal',\n",
       "       'Document Year', 'Enzyme Source', 'Incubation Time',\n",
       "       'Temperature Range', 'pH Level', 'Substrate Concentration',\n",
       "       'Inhibitor Concentration', 'Cofactors', 'Detection Method',\n",
       "       'Protein Expression System', 'CYP sources', 'Cytochrome_P450_enzymes'],\n",
       "      dtype='object')"
      ]
     },
     "execution_count": 13,
     "metadata": {},
     "output_type": "execute_result"
    }
   ],
   "source": [
    "chembl.columns"
   ]
  },
  {
   "cell_type": "code",
   "execution_count": 14,
   "id": "cb439d82",
   "metadata": {},
   "outputs": [
    {
     "data": {
      "text/plain": [
       "CYP3A4                2201\n",
       "CYP2D6                1287\n",
       "CYP2C9                1053\n",
       "CYP11B2                615\n",
       "CYP1A2                 545\n",
       "                      ... \n",
       "recombinant CYP2D6       4\n",
       "SCD                      3\n",
       "hepatic CYP3A4           3\n",
       "CYP450                   2\n",
       "CYP2B1                   2\n",
       "Name: Enzyme Source, Length: 66, dtype: int64"
      ]
     },
     "metadata": {},
     "output_type": "display_data"
    },
    {
     "data": {
      "text/plain": [
       "NaN                                                            6399\n",
       "after 10 mins                                                   178\n",
       "after 45 mins                                                   114\n",
       "after 30 mins                                                   111\n",
       "preincubated for 5 mins                                          95\n",
       "                                                               ... \n",
       "preincubated for 5 mins, after NADPH addition                     3\n",
       "preincubated for 30 mins, after substrate addition                3\n",
       "preincubated for 10 mins, measured every minute for 10 mins       1\n",
       "after 4 mins                                                      1\n",
       "incubated for 40 to 130 mins                                      1\n",
       "Name: Incubation Time, Length: 109, dtype: int64"
      ]
     },
     "metadata": {},
     "output_type": "display_data"
    },
    {
     "data": {
      "text/plain": [
       "NaN                                           8460\n",
       "37 degC                                         24\n",
       "room temperature, overnight shaking at 4 C      17\n",
       "at 37°C                                         10\n",
       "Name: Temperature Range, dtype: int64"
      ]
     },
     "metadata": {},
     "output_type": "display_data"
    },
    {
     "data": {
      "text/plain": [
       "NaN       8471\n",
       "pH 7.5      23\n",
       "pH 7.2      17\n",
       "Name: pH Level, dtype: int64"
      ]
     },
     "metadata": {},
     "output_type": "display_data"
    },
    {
     "data": {
      "text/plain": [
       "NaN                                         5165\n",
       "7-ethoxyresorufin                            202\n",
       "[1,2-3H]-11-deoxycorticosterone              195\n",
       "testosterone                                 160\n",
       "3-Cyano-7-ethoxycoumarin                     155\n",
       "                                            ... \n",
       "7-benzyloxyresorufin                           1\n",
       "diethoxyfluorescein/7-benzyloxyquinoline       1\n",
       "acetaminophen                                  1\n",
       "benzyloxy-4-(trifluoromethyl)coumarin          1\n",
       "p-nitrophenol                                  1\n",
       "Name: Substrate Concentration, Length: 128, dtype: int64"
      ]
     },
     "metadata": {},
     "output_type": "display_data"
    },
    {
     "data": {
      "text/plain": [
       "NaN                                                                   8122\n",
       "in presence of NADPH                                                   123\n",
       "100 nM                                                                  68\n",
       "in presence of NADPH regeneration system                                51\n",
       "500 nM                                                                  49\n",
       "in presence of NADP+                                                    20\n",
       "relative to control                                                     18\n",
       "in presence of rat P450 reductase                                       13\n",
       "in presence of 250 nM 11-deoxycortisol                                   9\n",
       "in presence of 1 mmol NADPH                                              9\n",
       "in presence of Adx, AdR                                                  8\n",
       "in presence of bovine adrenodoxin, adrenodoxin reductase and NADPH       7\n",
       "in presence of NADPH/NADPH-cytochrome p450 reductase                     6\n",
       "in presence of NADPH-generating system, G6P and G6P dehydrogenase        6\n",
       "NADPH                                                                    1\n",
       "acetone-induced                                                          1\n",
       "Name: Inhibitor Concentration, dtype: int64"
      ]
     },
     "metadata": {},
     "output_type": "display_data"
    },
    {
     "data": {
      "text/plain": [
       "NaN                                                                                7695\n",
       "NADPH                                                                               546\n",
       "NADPH-regenerating system                                                            65\n",
       "NADPH regeneration system                                                            58\n",
       "NADPH-P450 reductase                                                                 43\n",
       "NADP+                                                                                24\n",
       "NADP                                                                                 22\n",
       "cytochrome P450 reductase                                                            22\n",
       "bovine adrenodoxin, adrenodoxin reductase, NADPH                                     11\n",
       "glucose-6-phosphate, glucose-6-phosphate dehydrogenase, NADPH                        11\n",
       "NADPH-cytochrome p450 reductase                                                       7\n",
       "glucose-6-phosphate, glucose-6-phosphate dehydrogenase, NADPH-generating system       7\n",
       "Name: Cofactors, dtype: int64"
      ]
     },
     "metadata": {},
     "output_type": "display_data"
    },
    {
     "data": {
      "text/plain": [
       "NaN                             5398\n",
       "fluorescence assay               329\n",
       "LC-MS/MS                         313\n",
       "HPLC                             230\n",
       "DRUGMATRIX                       188\n",
       "                                ... \n",
       "CYP450-Glo assay                   3\n",
       "HPLC/MS                            3\n",
       "P450 cypex assay                   2\n",
       "spectrofluorimetric analysis       2\n",
       "CYPEX assay                        1\n",
       "Name: Detection Method, Length: 95, dtype: int64"
      ]
     },
     "metadata": {},
     "output_type": "display_data"
    },
    {
     "data": {
      "text/plain": [
       "NaN                                           4281\n",
       "human liver microsomes                         627\n",
       "recombinant human                              487\n",
       "unknown origin                                 281\n",
       "recombinant                                    269\n",
       "                                              ... \n",
       "expressed in insect microsomes                   3\n",
       "expressed in microsomes                          2\n",
       "recombinant human expressed in baculosomes       1\n",
       "expressed in supersomes                          1\n",
       "Sprague-Dawley rat liver microsomes              1\n",
       "Name: Protein Expression System, Length: 135, dtype: int64"
      ]
     },
     "metadata": {},
     "output_type": "display_data"
    },
    {
     "data": {
      "text/plain": [
       "human                       2450\n",
       "NaN                         2172\n",
       "unknown origin               986\n",
       "recombinant human            596\n",
       "human liver                  556\n",
       "                            ... \n",
       "human recombinant CYP2D6       1\n",
       "recombinant human CYP2D6       1\n",
       "CYP2D6                         1\n",
       "unknown origin CYP450          1\n",
       "CYP450                         1\n",
       "Name: CYP sources, Length: 82, dtype: int64"
      ]
     },
     "metadata": {},
     "output_type": "display_data"
    }
   ],
   "source": [
    "for experiment in [ 'Enzyme Source', 'Incubation Time',\n",
    "       'Temperature Range', 'pH Level', 'Substrate Concentration',\n",
    "       'Inhibitor Concentration', 'Cofactors', 'Detection Method',\n",
    "       'Protein Expression System', 'CYP sources']:\n",
    "    display(chembl[experiment].value_counts(dropna=False))"
   ]
  },
  {
   "cell_type": "code",
   "execution_count": null,
   "id": "57092da9",
   "metadata": {},
   "outputs": [],
   "source": []
  },
  {
   "cell_type": "code",
   "execution_count": 15,
   "id": "24142dc6-b491-4209-8f2d-43a0ad0d745a",
   "metadata": {},
   "outputs": [
    {
     "data": {
      "text/plain": [
       "(4541, 26)"
      ]
     },
     "execution_count": 15,
     "metadata": {},
     "output_type": "execute_result"
    }
   ],
   "source": [
    "chembl['Enzyme Source'] = chembl['Enzyme Source'].fillna('unknown')\n",
    "chembl = chembl[chembl['Enzyme Source'].isin(['CYP3A4','CYP2D6','CYP2C9'])]\n",
    "chembl.shape"
   ]
  },
  {
   "cell_type": "code",
   "execution_count": 16,
   "id": "f47af0e9",
   "metadata": {},
   "outputs": [
    {
     "name": "stderr",
     "output_type": "stream",
     "text": [
      "100%|█████████████████████████████████████████| 4541/4541 [00:00<00:00, 9023.49it/s]\n"
     ]
    },
    {
     "name": "stdout",
     "output_type": "stream",
     "text": [
      "SANITIZE_NONE    4541\n",
      "Name: Smiles_check, dtype: int64\n"
     ]
    },
    {
     "name": "stderr",
     "output_type": "stream",
     "text": [
      "100%|███████████████████████████████████████| 4541/4541 [00:00<00:00, 953222.28it/s]\n",
      "4541it [00:04, 1018.00it/s]\n"
     ]
    },
    {
     "name": "stdout",
     "output_type": "stream",
     "text": [
      "Metal in Smiles amount: 0\n"
     ]
    },
    {
     "name": "stderr",
     "output_type": "stream",
     "text": [
      "100%|█████████████████████████████████████████| 4541/4541 [00:00<00:00, 9775.80it/s]\n"
     ]
    }
   ],
   "source": [
    "chembl = process_stage_1(chembl,'Smiles')"
   ]
  },
  {
   "cell_type": "code",
   "execution_count": 17,
   "id": "9c023acd",
   "metadata": {},
   "outputs": [],
   "source": [
    "chembl['value'] = chembl['Standard Value']\n",
    "chembl['unit'] = chembl['Standard Units']"
   ]
  },
  {
   "cell_type": "code",
   "execution_count": 18,
   "id": "c2e10560",
   "metadata": {},
   "outputs": [],
   "source": [
    "def standardlise_value(x):\n",
    "    if x['unit'] == 'uM':\n",
    "        return x['value']\n",
    "    else:\n",
    "        return x['value']/1000\n",
    "\n",
    "chembl['value_uM'] = chembl.apply(standardlise_value,axis=1) "
   ]
  },
  {
   "cell_type": "code",
   "execution_count": 19,
   "id": "f80cdb2a",
   "metadata": {},
   "outputs": [],
   "source": [
    "chembl = chembl[chembl['value_uM'] != 0]"
   ]
  },
  {
   "cell_type": "code",
   "execution_count": 20,
   "id": "3fe6013c",
   "metadata": {},
   "outputs": [],
   "source": [
    "chembl['value_uM_log'] = chembl['value_uM'].apply(lambda x: round(np.log10(x), 4))"
   ]
  },
  {
   "cell_type": "code",
   "execution_count": 21,
   "id": "efd3f6b8",
   "metadata": {},
   "outputs": [
    {
     "data": {
      "image/png": "[encoded data removed]",
      "text/plain": [
       "<Figure size 432x288 with 1 Axes>"
      ]
     },
     "metadata": {},
     "output_type": "display_data"
    }
   ],
   "source": [
    "plot_diagram(chembl,['Smiles_unify'],'value_uM_log')"
   ]
  },
  {
   "cell_type": "code",
   "execution_count": 22,
   "id": "62ae616b-af32-4dba-9b22-c170aa8ec8e3",
   "metadata": {},
   "outputs": [
    {
     "data": {
      "text/plain": [
       "CYP3A4    2200\n",
       "CYP2D6    1287\n",
       "CYP2C9    1053\n",
       "Name: Enzyme Source, dtype: int64"
      ]
     },
     "execution_count": 22,
     "metadata": {},
     "output_type": "execute_result"
    }
   ],
   "source": [
    "\n",
    "chembl['Enzyme Source'].value_counts(dropna=False)"
   ]
  },
  {
   "cell_type": "code",
   "execution_count": 23,
   "id": "ef0bf4d9-dfe4-479c-83d3-30d100b34ff3",
   "metadata": {},
   "outputs": [
    {
     "data": {
      "text/plain": [
       "unknown                                                        3764\n",
       "after 30 mins                                                    87\n",
       "after 45 mins                                                    86\n",
       "after 10 mins                                                    66\n",
       "30 mins                                                          58\n",
       "preincubated for 5 mins                                          57\n",
       "10 mins                                                          35\n",
       "preincubated for 30 mins                                         35\n",
       "preincubated for 10 mins, measured after 30 mins                 33\n",
       "45 mins                                                          33\n",
       "after 5 mins                                                     25\n",
       "pre-incubated 30 mins                                            24\n",
       "after 20 mins                                                    14\n",
       "after 8 mins                                                     13\n",
       "incubated for 5 mins                                             13\n",
       "in presence of NADP                                              12\n",
       "preincubated with NADPH                                          12\n",
       "preincubated for 5 mins, measured after 15 mins                  11\n",
       "after 12 mins                                                    10\n",
       "incubated for 30 mins                                            10\n",
       "preincubated for 30 mins, after 45 mins                          10\n",
       "preincubated for 5 mins, measured after 10 mins                   9\n",
       "after 2 mins                                                      9\n",
       "preincubated for 30 mins, measured after 10 mins                  8\n",
       "up to 2 hrs                                                       8\n",
       "pretreated for 30 mins, measured after 45 mins                    7\n",
       "preincubated for 5 mins, measured after 8 mins                    7\n",
       "incubated for 15 mins, measured after 30 mins                     6\n",
       "in presence of NADPH generating system                            6\n",
       "preincubated for 30 mins, after 30 secs                           6\n",
       "preincubated for 5 to 10 mins                                     6\n",
       "measured after incubation                                         6\n",
       "in presence of NADPH                                              6\n",
       "time dependent inhibition assay                                   6\n",
       "preincubated for 30 mins, measured after 45 mins                  5\n",
       "in absence of NADPH                                               4\n",
       "preincubated for 10 mins                                          4\n",
       "after incubation                                                  3\n",
       "incubated for 5 to 20 mins                                        3\n",
       "preincubated for 30 mins, after substrate/NADPH addition          3\n",
       "preincubated for 30 mins, after substrate addition                3\n",
       "preincubated for 30 mins, after NADP addition                     3\n",
       "after 15 mins                                                     2\n",
       "preincubated for 10 mins, measured every minute for 10 mins       1\n",
       "after 4 mins                                                      1\n",
       "incubated for 40 to 130 mins                                      1\n",
       "Name: Incubation Time, dtype: int64"
      ]
     },
     "execution_count": 23,
     "metadata": {},
     "output_type": "execute_result"
    }
   ],
   "source": [
    "chembl['Incubation Time'] = chembl['Incubation Time'].fillna('unknown')\n",
    "chembl = chembl[~chembl['Incubation Time'].isin(['measured immediately','after 30 secs'])]\n",
    "chembl['Incubation Time'].value_counts()"
   ]
  },
  {
   "cell_type": "code",
   "execution_count": 24,
   "id": "83595ff9",
   "metadata": {},
   "outputs": [
    {
     "data": {
      "text/plain": [
       "unknown    4531\n",
       "Name: Temperature Range, dtype: int64"
      ]
     },
     "execution_count": 24,
     "metadata": {},
     "output_type": "execute_result"
    }
   ],
   "source": [
    "chembl['Temperature Range'] = chembl['Temperature Range'].fillna('unknown')\n",
    "chembl['Temperature Range'].value_counts()"
   ]
  },
  {
   "cell_type": "code",
   "execution_count": 25,
   "id": "0971fed8",
   "metadata": {},
   "outputs": [
    {
     "data": {
      "text/plain": [
       "unknown    4531\n",
       "Name: pH Level, dtype: int64"
      ]
     },
     "execution_count": 25,
     "metadata": {},
     "output_type": "execute_result"
    }
   ],
   "source": [
    "chembl['pH Level'] = chembl['pH Level'].fillna('unknown')\n",
    "chembl['pH Level'].value_counts()"
   ]
  },
  {
   "cell_type": "code",
   "execution_count": 26,
   "id": "4ffd6923",
   "metadata": {},
   "outputs": [
    {
     "data": {
      "text/plain": [
       "unknown                                                              4418\n",
       "in presence of NADPH                                                   54\n",
       "in presence of NADPH regeneration system                               43\n",
       "in presence of 1 mmol NADPH                                             9\n",
       "in presence of NADPH-generating system, G6P and G6P dehydrogenase       6\n",
       "NADPH                                                                   1\n",
       "Name: Inhibitor Concentration, dtype: int64"
      ]
     },
     "execution_count": 26,
     "metadata": {},
     "output_type": "execute_result"
    }
   ],
   "source": [
    "chembl['Inhibitor Concentration'] = chembl['Inhibitor Concentration'].fillna('unknown')\n",
    "chembl['Inhibitor Concentration'].value_counts()"
   ]
  },
  {
   "cell_type": "code",
   "execution_count": 27,
   "id": "4ee18108",
   "metadata": {},
   "outputs": [
    {
     "data": {
      "text/plain": [
       "unknown                      4232\n",
       "NADPH                         222\n",
       "NADPH regeneration system      40\n",
       "NADP                           22\n",
       "NADPH-regenerating system      15\n",
       "Name: Cofactors, dtype: int64"
      ]
     },
     "execution_count": 27,
     "metadata": {},
     "output_type": "execute_result"
    }
   ],
   "source": [
    "chembl['Cofactors'] = chembl['Cofactors'].fillna('unknown')\n",
    "chembl['Cofactors'].value_counts()"
   ]
  },
  {
   "cell_type": "code",
   "execution_count": 28,
   "id": "82e32bab",
   "metadata": {},
   "outputs": [
    {
     "data": {
      "text/plain": [
       "unknown                                   1751\n",
       "unknown origin                             758\n",
       "human                                      671\n",
       "recombinant human                          335\n",
       "human liver                                331\n",
       "human recombinant                          259\n",
       "human liver microsomes                     245\n",
       "recombinant                                 36\n",
       "microsomal                                  22\n",
       "human liver microsome                       19\n",
       "in microsomes                               16\n",
       "human liver CYP3A4                          12\n",
       "CYP3A4                                       9\n",
       "human hepatic                                8\n",
       "recombinant human CYP3A4                     7\n",
       "C-terminal 4His-tagged CYP3A4                6\n",
       "unknown origin CYP3A4                        5\n",
       "recombinant (unknown origin)                 5\n",
       "insect cells infected with baculovirus       4\n",
       "human liver CYP2D6                           4\n",
       "hepatic CYP2D6                               3\n",
       "unknown origin CYP2C9                        3\n",
       "human CYP2D6                                 2\n",
       "unknown origin recombinant CYP2C9            2\n",
       "human CYP3A4                                 2\n",
       "unknown origin CYP2D6                        2\n",
       "recombinant human CYP2C9                     2\n",
       "human recombinant CYP3A4                     2\n",
       "human liver CYP2C9                           2\n",
       "human CYP2C9                                 2\n",
       "recombinant CYP2C9                           2\n",
       "CYP2D6                                       1\n",
       "recombinant human CYP2D6                     1\n",
       "recombinant CYP3A4                           1\n",
       "human recombinant CYP2D6                     1\n",
       "Name: CYP sources, dtype: int64"
      ]
     },
     "execution_count": 28,
     "metadata": {},
     "output_type": "execute_result"
    }
   ],
   "source": [
    "chembl['CYP sources'] = chembl['CYP sources'].fillna('unknown')\n",
    "chembl['CYP sources'].value_counts()"
   ]
  },
  {
   "cell_type": "code",
   "execution_count": 29,
   "id": "1047bf06",
   "metadata": {},
   "outputs": [
    {
     "data": {
      "text/plain": [
       "unknown                                                             3090\n",
       "human liver microsomes                                               449\n",
       "recombinant human                                                    237\n",
       "recombinant                                                          204\n",
       "unknown origin                                                       200\n",
       "expressed in baculovirus-infected insect microsomes                   29\n",
       "expressed in Escherichia coli JM109                                   25\n",
       "in microsomes                                                         24\n",
       "expressed in insect cells microsomes                                  23\n",
       "human recombinant                                                     21\n",
       "expressed in Saccharomyces cerevisiae                                 19\n",
       "expressed in Escherichia coli                                         17\n",
       "expressed in Saccharomyces cerevisiae YY7 microsomal membranes        16\n",
       "recombinant human in supersomes                                       16\n",
       "human hepatocyte microsome                                            13\n",
       "baculovirus infected insect microsomes                                11\n",
       "co-expressed with human P450 reductase/human b5 reductase             11\n",
       "coexpressed in Escherichia coli                                        9\n",
       "recombinant human expressed in insect microsomes                       9\n",
       "expressed in hamster fibroblast                                        9\n",
       "bound to yeast microsomal membrane                                     8\n",
       "expressed in Escherichia coli co-expressing CYP-reductase              8\n",
       "human hepatocytes                                                      8\n",
       "human hepatic                                                          8\n",
       "recombinant human in human liver microsomes                            8\n",
       "human                                                                  8\n",
       "recombinant (unknown origin)                                           7\n",
       "expressed in insect cell microsomes                                    7\n",
       "pooled human hepatic microsomes                                        6\n",
       "human liver microsome                                                  6\n",
       "baculovirus infected insect cells                                      5\n",
       "recombinant human expressed in baculovirus infected insect cells       5\n",
       "recombinant human expressed in Escherichia coli cells                  5\n",
       "expressed in baculovirus infected insect cells                         4\n",
       "expressed in insect microsomes                                         3\n",
       "expressed in microsomes                                                2\n",
       "recombinant human expressed in baculosomes                             1\n",
       "Name: Protein Expression System, dtype: int64"
      ]
     },
     "execution_count": 29,
     "metadata": {},
     "output_type": "execute_result"
    }
   ],
   "source": [
    "chembl['Protein Expression System'] = chembl['Protein Expression System'].fillna('unknown')\n",
    "chembl['Protein Expression System'].value_counts()"
   ]
  },
  {
   "cell_type": "code",
   "execution_count": 30,
   "id": "92d50e02-041f-48e0-acb0-4274cae8f330",
   "metadata": {},
   "outputs": [],
   "source": [
    "chembl.loc[chembl['Standard Units'] == 'min', 'Standard Units'] = 'uM'"
   ]
  },
  {
   "cell_type": "code",
   "execution_count": 31,
   "id": "7241034b-9f0b-4294-ae27-966c0b11d9b9",
   "metadata": {},
   "outputs": [
    {
     "data": {
      "text/plain": [
       "'='    4531\n",
       "Name: Standard Relation, dtype: int64"
      ]
     },
     "execution_count": 31,
     "metadata": {},
     "output_type": "execute_result"
    }
   ],
   "source": [
    "chembl['Standard Relation'].value_counts(dropna=False)"
   ]
  },
  {
   "cell_type": "code",
   "execution_count": 32,
   "id": "16c1479c-7415-4e07-839e-d1f605829510",
   "metadata": {},
   "outputs": [
    {
     "data": {
      "text/plain": [
       "IC50    4531\n",
       "Name: Standard Type, dtype: int64"
      ]
     },
     "execution_count": 32,
     "metadata": {},
     "output_type": "execute_result"
    }
   ],
   "source": [
    "chembl['Standard Type'].value_counts(dropna=False)"
   ]
  },
  {
   "cell_type": "code",
   "execution_count": 33,
   "id": "098648bf",
   "metadata": {},
   "outputs": [
    {
     "data": {
      "text/html": [
       "<div>\n",
       "<style scoped>\n",
       "    .dataframe tbody tr th:only-of-type {\n",
       "        vertical-align: middle;\n",
       "    }\n",
       "\n",
       "    .dataframe tbody tr th {\n",
       "        vertical-align: top;\n",
       "    }\n",
       "\n",
       "    .dataframe thead th {\n",
       "        text-align: right;\n",
       "    }\n",
       "</style>\n",
       "<table border=\"1\" class=\"dataframe\">\n",
       "  <thead>\n",
       "    <tr style=\"text-align: right;\">\n",
       "      <th></th>\n",
       "      <th>Molecule ChEMBL ID</th>\n",
       "      <th>Smiles</th>\n",
       "      <th>Standard Type</th>\n",
       "      <th>Standard Relation</th>\n",
       "      <th>Standard Value</th>\n",
       "      <th>Standard Units</th>\n",
       "      <th>Assay ChEMBL ID</th>\n",
       "      <th>Assay Description</th>\n",
       "      <th>Assay Type</th>\n",
       "      <th>BAO Format ID</th>\n",
       "      <th>BAO Label</th>\n",
       "      <th>Document ChEMBL ID</th>\n",
       "      <th>Source Description</th>\n",
       "      <th>Document Journal</th>\n",
       "      <th>Document Year</th>\n",
       "      <th>Enzyme Source</th>\n",
       "      <th>Incubation Time</th>\n",
       "      <th>Temperature Range</th>\n",
       "      <th>pH Level</th>\n",
       "      <th>Substrate Concentration</th>\n",
       "      <th>Inhibitor Concentration</th>\n",
       "      <th>Cofactors</th>\n",
       "      <th>Detection Method</th>\n",
       "      <th>Protein Expression System</th>\n",
       "      <th>CYP sources</th>\n",
       "      <th>Cytochrome_P450_enzymes</th>\n",
       "      <th>Smiles_check</th>\n",
       "      <th>Smiles_removesalt</th>\n",
       "      <th>Smiles_unify</th>\n",
       "      <th>value</th>\n",
       "      <th>unit</th>\n",
       "      <th>value_uM</th>\n",
       "      <th>value_uM_log</th>\n",
       "    </tr>\n",
       "  </thead>\n",
       "  <tbody>\n",
       "    <tr>\n",
       "      <th>0</th>\n",
       "      <td>CHEMBL1294</td>\n",
       "      <td>C=C[C@H]1CN2CC[C@H]1C[C@@H]2[C@@H](O)c1ccnc2cc...</td>\n",
       "      <td>IC50</td>\n",
       "      <td>'='</td>\n",
       "      <td>20.0</td>\n",
       "      <td>nM</td>\n",
       "      <td>CHEMBL860948</td>\n",
       "      <td>Inhibition of human CYP2D6</td>\n",
       "      <td>A</td>\n",
       "      <td>BAO_0000357</td>\n",
       "      <td>single protein format</td>\n",
       "      <td>CHEMBL1146077</td>\n",
       "      <td>Scientific Literature</td>\n",
       "      <td>J Med Chem</td>\n",
       "      <td>2006.0</td>\n",
       "      <td>CYP2D6</td>\n",
       "      <td>unknown</td>\n",
       "      <td>unknown</td>\n",
       "      <td>unknown</td>\n",
       "      <td>NaN</td>\n",
       "      <td>unknown</td>\n",
       "      <td>unknown</td>\n",
       "      <td>NaN</td>\n",
       "      <td>unknown</td>\n",
       "      <td>human</td>\n",
       "      <td>True</td>\n",
       "      <td>SANITIZE_NONE</td>\n",
       "      <td>C=C[C@H]1CN2CC[C@H]1C[C@@H]2[C@@H](O)c1ccnc2cc...</td>\n",
       "      <td>C=C[C@H]1CN2CC[C@H]1C[C@@H]2[C@@H](O)c1ccnc2cc...</td>\n",
       "      <td>20.0</td>\n",
       "      <td>nM</td>\n",
       "      <td>0.0200</td>\n",
       "      <td>-1.6990</td>\n",
       "    </tr>\n",
       "    <tr>\n",
       "      <th>1</th>\n",
       "      <td>CHEMBL495118</td>\n",
       "      <td>CNc1noc2c(-c3ccc4c(N5CCOC[C@@H]5C)nncc4c3)c(Cl...</td>\n",
       "      <td>IC50</td>\n",
       "      <td>'='</td>\n",
       "      <td>6000.0</td>\n",
       "      <td>nM</td>\n",
       "      <td>CHEMBL1035787</td>\n",
       "      <td>Inhibition of CYP3A4 in human liver microsomes</td>\n",
       "      <td>A</td>\n",
       "      <td>BAO_0000251</td>\n",
       "      <td>microsome format</td>\n",
       "      <td>CHEMBL1140162</td>\n",
       "      <td>Scientific Literature</td>\n",
       "      <td>J Med Chem</td>\n",
       "      <td>2008.0</td>\n",
       "      <td>CYP3A4</td>\n",
       "      <td>unknown</td>\n",
       "      <td>unknown</td>\n",
       "      <td>unknown</td>\n",
       "      <td>NaN</td>\n",
       "      <td>unknown</td>\n",
       "      <td>unknown</td>\n",
       "      <td>NaN</td>\n",
       "      <td>unknown</td>\n",
       "      <td>human liver microsomes</td>\n",
       "      <td>True</td>\n",
       "      <td>SANITIZE_NONE</td>\n",
       "      <td>CNc1noc2c(-c3ccc4c(N5CCOC[C@@H]5C)nncc4c3)c(Cl...</td>\n",
       "      <td>CNc1noc2c(-c3ccc4c(N5CCOC[C@@H]5C)nncc4c3)c(Cl...</td>\n",
       "      <td>6000.0</td>\n",
       "      <td>nM</td>\n",
       "      <td>6.0000</td>\n",
       "      <td>0.7782</td>\n",
       "    </tr>\n",
       "    <tr>\n",
       "      <th>6</th>\n",
       "      <td>CHEMBL206145</td>\n",
       "      <td>Cc1cc2c(F)c(Oc3ncnn4cc(OCCC5CCN(C)CC5)c(C)c34)...</td>\n",
       "      <td>IC50</td>\n",
       "      <td>'='</td>\n",
       "      <td>700.0</td>\n",
       "      <td>nM</td>\n",
       "      <td>CHEMBL859789</td>\n",
       "      <td>Inhibitory activity against CYP3A4</td>\n",
       "      <td>A</td>\n",
       "      <td>BAO_0000357</td>\n",
       "      <td>single protein format</td>\n",
       "      <td>CHEMBL1146078</td>\n",
       "      <td>Scientific Literature</td>\n",
       "      <td>J Med Chem</td>\n",
       "      <td>2006.0</td>\n",
       "      <td>CYP3A4</td>\n",
       "      <td>unknown</td>\n",
       "      <td>unknown</td>\n",
       "      <td>unknown</td>\n",
       "      <td>NaN</td>\n",
       "      <td>unknown</td>\n",
       "      <td>unknown</td>\n",
       "      <td>NaN</td>\n",
       "      <td>unknown</td>\n",
       "      <td>unknown</td>\n",
       "      <td>True</td>\n",
       "      <td>SANITIZE_NONE</td>\n",
       "      <td>Cc1cc2c(F)c(Oc3ncnn4cc(OCCC5CCN(C)CC5)c(C)c34)...</td>\n",
       "      <td>Cc1cc2c(F)c(Oc3ncnn4cc(OCCC5CCN(C)CC5)c(C)c34)...</td>\n",
       "      <td>700.0</td>\n",
       "      <td>nM</td>\n",
       "      <td>0.7000</td>\n",
       "      <td>-0.1549</td>\n",
       "    </tr>\n",
       "    <tr>\n",
       "      <th>11</th>\n",
       "      <td>CHEMBL408443</td>\n",
       "      <td>Cc1cc2c(F)c(Oc3ncnn4cc(OC[C@@H](C)OC(=O)[C@H](...</td>\n",
       "      <td>IC50</td>\n",
       "      <td>'='</td>\n",
       "      <td>24000.0</td>\n",
       "      <td>nM</td>\n",
       "      <td>CHEMBL935253</td>\n",
       "      <td>Inhibition of human CYP2D6</td>\n",
       "      <td>A</td>\n",
       "      <td>BAO_0000357</td>\n",
       "      <td>single protein format</td>\n",
       "      <td>CHEMBL1141628</td>\n",
       "      <td>Scientific Literature</td>\n",
       "      <td>J Med Chem</td>\n",
       "      <td>2008.0</td>\n",
       "      <td>CYP2D6</td>\n",
       "      <td>unknown</td>\n",
       "      <td>unknown</td>\n",
       "      <td>unknown</td>\n",
       "      <td>NaN</td>\n",
       "      <td>unknown</td>\n",
       "      <td>unknown</td>\n",
       "      <td>NaN</td>\n",
       "      <td>unknown</td>\n",
       "      <td>human</td>\n",
       "      <td>True</td>\n",
       "      <td>SANITIZE_NONE</td>\n",
       "      <td>Cc1cc2c(F)c(Oc3ncnn4cc(OC[C@@H](C)OC(=O)[C@H](...</td>\n",
       "      <td>Cc1cc2c(F)c(Oc3ncnn4cc(OC[C@@H](C)OC(=O)[C@H](...</td>\n",
       "      <td>24000.0</td>\n",
       "      <td>nM</td>\n",
       "      <td>24.0000</td>\n",
       "      <td>1.3802</td>\n",
       "    </tr>\n",
       "    <tr>\n",
       "      <th>12</th>\n",
       "      <td>CHEMBL377500</td>\n",
       "      <td>O=C(Nc1nccs1)N1CCC(Cc2c[nH]cn2)CC1</td>\n",
       "      <td>IC50</td>\n",
       "      <td>'='</td>\n",
       "      <td>2000.0</td>\n",
       "      <td>nM</td>\n",
       "      <td>CHEMBL866475</td>\n",
       "      <td>Inhibition of CYP2D6 by human liver microsome ...</td>\n",
       "      <td>A</td>\n",
       "      <td>BAO_0000221</td>\n",
       "      <td>tissue-based format</td>\n",
       "      <td>CHEMBL1138111</td>\n",
       "      <td>Scientific Literature</td>\n",
       "      <td>Bioorg Med Chem Lett</td>\n",
       "      <td>2006.0</td>\n",
       "      <td>CYP2D6</td>\n",
       "      <td>unknown</td>\n",
       "      <td>unknown</td>\n",
       "      <td>unknown</td>\n",
       "      <td>NaN</td>\n",
       "      <td>unknown</td>\n",
       "      <td>unknown</td>\n",
       "      <td>human liver microsome assay</td>\n",
       "      <td>unknown</td>\n",
       "      <td>human</td>\n",
       "      <td>True</td>\n",
       "      <td>SANITIZE_NONE</td>\n",
       "      <td>O=C(Nc1nccs1)N1CCC(Cc2c[nH]cn2)CC1</td>\n",
       "      <td>O=C(Nc1nccs1)N1CCC(Cc2c[nH]cn2)CC1</td>\n",
       "      <td>2000.0</td>\n",
       "      <td>nM</td>\n",
       "      <td>2.0000</td>\n",
       "      <td>0.3010</td>\n",
       "    </tr>\n",
       "    <tr>\n",
       "      <th>...</th>\n",
       "      <td>...</td>\n",
       "      <td>...</td>\n",
       "      <td>...</td>\n",
       "      <td>...</td>\n",
       "      <td>...</td>\n",
       "      <td>...</td>\n",
       "      <td>...</td>\n",
       "      <td>...</td>\n",
       "      <td>...</td>\n",
       "      <td>...</td>\n",
       "      <td>...</td>\n",
       "      <td>...</td>\n",
       "      <td>...</td>\n",
       "      <td>...</td>\n",
       "      <td>...</td>\n",
       "      <td>...</td>\n",
       "      <td>...</td>\n",
       "      <td>...</td>\n",
       "      <td>...</td>\n",
       "      <td>...</td>\n",
       "      <td>...</td>\n",
       "      <td>...</td>\n",
       "      <td>...</td>\n",
       "      <td>...</td>\n",
       "      <td>...</td>\n",
       "      <td>...</td>\n",
       "      <td>...</td>\n",
       "      <td>...</td>\n",
       "      <td>...</td>\n",
       "      <td>...</td>\n",
       "      <td>...</td>\n",
       "      <td>...</td>\n",
       "      <td>...</td>\n",
       "    </tr>\n",
       "    <tr>\n",
       "      <th>19913</th>\n",
       "      <td>CHEMBL1271763</td>\n",
       "      <td>CC1([C@@H]2COC[C@H](COC(=O)N3CCC(CO)CC3)N2S(=O...</td>\n",
       "      <td>IC50</td>\n",
       "      <td>'='</td>\n",
       "      <td>5.5</td>\n",
       "      <td>nM</td>\n",
       "      <td>CHEMBL1273059</td>\n",
       "      <td>Inhibition of CYP3A4 after 30 mins</td>\n",
       "      <td>A</td>\n",
       "      <td>BAO_0000357</td>\n",
       "      <td>single protein format</td>\n",
       "      <td>CHEMBL1268982</td>\n",
       "      <td>Scientific Literature</td>\n",
       "      <td>Bioorg Med Chem Lett</td>\n",
       "      <td>2010.0</td>\n",
       "      <td>CYP3A4</td>\n",
       "      <td>30 mins</td>\n",
       "      <td>unknown</td>\n",
       "      <td>unknown</td>\n",
       "      <td>NaN</td>\n",
       "      <td>unknown</td>\n",
       "      <td>unknown</td>\n",
       "      <td>NaN</td>\n",
       "      <td>unknown</td>\n",
       "      <td>unknown</td>\n",
       "      <td>True</td>\n",
       "      <td>SANITIZE_NONE</td>\n",
       "      <td>CC1([C@@H]2COC[C@H](COC(=O)N3CCC(CO)CC3)N2S(=O...</td>\n",
       "      <td>CC1([C@@H]2COC[C@H](COC(=O)N3CCC(CO)CC3)N2S(=O...</td>\n",
       "      <td>5.5</td>\n",
       "      <td>nM</td>\n",
       "      <td>0.0055</td>\n",
       "      <td>-2.2596</td>\n",
       "    </tr>\n",
       "    <tr>\n",
       "      <th>19920</th>\n",
       "      <td>CHEMBL1642915</td>\n",
       "      <td>CN[C@@H]1CCc2ccccc2[C@@H]1c1ccc(Cl)c(Cl)c1</td>\n",
       "      <td>IC50</td>\n",
       "      <td>'='</td>\n",
       "      <td>7600.0</td>\n",
       "      <td>nM</td>\n",
       "      <td>CHEMBL1647133</td>\n",
       "      <td>Inhibition of CYP2C9</td>\n",
       "      <td>A</td>\n",
       "      <td>BAO_0000357</td>\n",
       "      <td>single protein format</td>\n",
       "      <td>CHEMBL1641414</td>\n",
       "      <td>Scientific Literature</td>\n",
       "      <td>Bioorg Med Chem</td>\n",
       "      <td>2011.0</td>\n",
       "      <td>CYP2C9</td>\n",
       "      <td>unknown</td>\n",
       "      <td>unknown</td>\n",
       "      <td>unknown</td>\n",
       "      <td>NaN</td>\n",
       "      <td>unknown</td>\n",
       "      <td>unknown</td>\n",
       "      <td>NaN</td>\n",
       "      <td>unknown</td>\n",
       "      <td>unknown</td>\n",
       "      <td>True</td>\n",
       "      <td>SANITIZE_NONE</td>\n",
       "      <td>CN[C@@H]1CCc2ccccc2[C@@H]1c1ccc(Cl)c(Cl)c1</td>\n",
       "      <td>CN[C@@H]1CCc2ccccc2[C@@H]1c1ccc(Cl)c(Cl)c1</td>\n",
       "      <td>7600.0</td>\n",
       "      <td>nM</td>\n",
       "      <td>7.6000</td>\n",
       "      <td>0.8808</td>\n",
       "    </tr>\n",
       "    <tr>\n",
       "      <th>19926</th>\n",
       "      <td>CHEMBL1289515</td>\n",
       "      <td>O=c1cc(OCc2ccccc2)ccn1-c1ccc2c(cnn2CCN2CC[C@H]...</td>\n",
       "      <td>IC50</td>\n",
       "      <td>'='</td>\n",
       "      <td>7700.0</td>\n",
       "      <td>nM</td>\n",
       "      <td>CHEMBL1292297</td>\n",
       "      <td>Inhibition of CYP3A4</td>\n",
       "      <td>A</td>\n",
       "      <td>BAO_0000357</td>\n",
       "      <td>single protein format</td>\n",
       "      <td>CHEMBL1287684</td>\n",
       "      <td>Scientific Literature</td>\n",
       "      <td>Bioorg Med Chem Lett</td>\n",
       "      <td>2010.0</td>\n",
       "      <td>CYP3A4</td>\n",
       "      <td>unknown</td>\n",
       "      <td>unknown</td>\n",
       "      <td>unknown</td>\n",
       "      <td>NaN</td>\n",
       "      <td>unknown</td>\n",
       "      <td>unknown</td>\n",
       "      <td>NaN</td>\n",
       "      <td>unknown</td>\n",
       "      <td>unknown</td>\n",
       "      <td>True</td>\n",
       "      <td>SANITIZE_NONE</td>\n",
       "      <td>O=c1cc(OCc2ccccc2)ccn1-c1ccc2c(cnn2CCN2CC[C@H]...</td>\n",
       "      <td>O=c1cc(OCc2ccccc2)ccn1-c1ccc2c(cnn2CCN2CC[C@H]...</td>\n",
       "      <td>7700.0</td>\n",
       "      <td>nM</td>\n",
       "      <td>7.7000</td>\n",
       "      <td>0.8865</td>\n",
       "    </tr>\n",
       "    <tr>\n",
       "      <th>19928</th>\n",
       "      <td>CHEMBL257171</td>\n",
       "      <td>Cc1cc2c(cc1C)N(CC(=O)N1CCCC(c3ccccc3)C1CN1CCCC...</td>\n",
       "      <td>IC50</td>\n",
       "      <td>'='</td>\n",
       "      <td>5100.0</td>\n",
       "      <td>nM</td>\n",
       "      <td>CHEMBL921646</td>\n",
       "      <td>Inhibition of CYP2D6</td>\n",
       "      <td>A</td>\n",
       "      <td>BAO_0000357</td>\n",
       "      <td>single protein format</td>\n",
       "      <td>CHEMBL1145579</td>\n",
       "      <td>Scientific Literature</td>\n",
       "      <td>Bioorg Med Chem Lett</td>\n",
       "      <td>2008.0</td>\n",
       "      <td>CYP2D6</td>\n",
       "      <td>unknown</td>\n",
       "      <td>unknown</td>\n",
       "      <td>unknown</td>\n",
       "      <td>NaN</td>\n",
       "      <td>unknown</td>\n",
       "      <td>unknown</td>\n",
       "      <td>NaN</td>\n",
       "      <td>unknown</td>\n",
       "      <td>unknown</td>\n",
       "      <td>True</td>\n",
       "      <td>SANITIZE_NONE</td>\n",
       "      <td>Cc1cc2c(cc1C)N(CC(=O)N1CCCC(c3ccccc3)C1CN1CCCC...</td>\n",
       "      <td>Cc1cc2c(cc1C)N(CC(=O)N1CCCC(c3ccccc3)C1CN1CCCC...</td>\n",
       "      <td>5100.0</td>\n",
       "      <td>nM</td>\n",
       "      <td>5.1000</td>\n",
       "      <td>0.7076</td>\n",
       "    </tr>\n",
       "    <tr>\n",
       "      <th>19929</th>\n",
       "      <td>CHEMBL255460</td>\n",
       "      <td>O=C(Cn1c(=O)sc2ccc(Cl)cc21)N1CCCC(c2ccccc2)C1C...</td>\n",
       "      <td>IC50</td>\n",
       "      <td>'='</td>\n",
       "      <td>680.0</td>\n",
       "      <td>nM</td>\n",
       "      <td>CHEMBL921647</td>\n",
       "      <td>Inhibition of CYP3A4</td>\n",
       "      <td>A</td>\n",
       "      <td>BAO_0000357</td>\n",
       "      <td>single protein format</td>\n",
       "      <td>CHEMBL1145579</td>\n",
       "      <td>Scientific Literature</td>\n",
       "      <td>Bioorg Med Chem Lett</td>\n",
       "      <td>2008.0</td>\n",
       "      <td>CYP3A4</td>\n",
       "      <td>unknown</td>\n",
       "      <td>unknown</td>\n",
       "      <td>unknown</td>\n",
       "      <td>NaN</td>\n",
       "      <td>unknown</td>\n",
       "      <td>unknown</td>\n",
       "      <td>NaN</td>\n",
       "      <td>unknown</td>\n",
       "      <td>unknown</td>\n",
       "      <td>True</td>\n",
       "      <td>SANITIZE_NONE</td>\n",
       "      <td>O=C(Cn1c(=O)sc2ccc(Cl)cc21)N1CCCC(c2ccccc2)C1C...</td>\n",
       "      <td>O=C(Cn1c(=O)sc2ccc(Cl)cc21)N1CCCC(c2ccccc2)C1C...</td>\n",
       "      <td>680.0</td>\n",
       "      <td>nM</td>\n",
       "      <td>0.6800</td>\n",
       "      <td>-0.1675</td>\n",
       "    </tr>\n",
       "  </tbody>\n",
       "</table>\n",
       "<p>4531 rows × 33 columns</p>\n",
       "</div>"
      ],
      "text/plain": [
       "      Molecule ChEMBL ID                                             Smiles  \\\n",
       "0             CHEMBL1294  C=C[C@H]1CN2CC[C@H]1C[C@@H]2[C@@H](O)c1ccnc2cc...   \n",
       "1           CHEMBL495118  CNc1noc2c(-c3ccc4c(N5CCOC[C@@H]5C)nncc4c3)c(Cl...   \n",
       "6           CHEMBL206145  Cc1cc2c(F)c(Oc3ncnn4cc(OCCC5CCN(C)CC5)c(C)c34)...   \n",
       "11          CHEMBL408443  Cc1cc2c(F)c(Oc3ncnn4cc(OC[C@@H](C)OC(=O)[C@H](...   \n",
       "12          CHEMBL377500                 O=C(Nc1nccs1)N1CCC(Cc2c[nH]cn2)CC1   \n",
       "...                  ...                                                ...   \n",
       "19913      CHEMBL1271763  CC1([C@@H]2COC[C@H](COC(=O)N3CCC(CO)CC3)N2S(=O...   \n",
       "19920      CHEMBL1642915         CN[C@@H]1CCc2ccccc2[C@@H]1c1ccc(Cl)c(Cl)c1   \n",
       "19926      CHEMBL1289515  O=c1cc(OCc2ccccc2)ccn1-c1ccc2c(cnn2CCN2CC[C@H]...   \n",
       "19928       CHEMBL257171  Cc1cc2c(cc1C)N(CC(=O)N1CCCC(c3ccccc3)C1CN1CCCC...   \n",
       "19929       CHEMBL255460  O=C(Cn1c(=O)sc2ccc(Cl)cc21)N1CCCC(c2ccccc2)C1C...   \n",
       "\n",
       "      Standard Type Standard Relation  Standard Value Standard Units  \\\n",
       "0              IC50               '='            20.0             nM   \n",
       "1              IC50               '='          6000.0             nM   \n",
       "6              IC50               '='           700.0             nM   \n",
       "11             IC50               '='         24000.0             nM   \n",
       "12             IC50               '='          2000.0             nM   \n",
       "...             ...               ...             ...            ...   \n",
       "19913          IC50               '='             5.5             nM   \n",
       "19920          IC50               '='          7600.0             nM   \n",
       "19926          IC50               '='          7700.0             nM   \n",
       "19928          IC50               '='          5100.0             nM   \n",
       "19929          IC50               '='           680.0             nM   \n",
       "\n",
       "      Assay ChEMBL ID                                  Assay Description  \\\n",
       "0        CHEMBL860948                         Inhibition of human CYP2D6   \n",
       "1       CHEMBL1035787     Inhibition of CYP3A4 in human liver microsomes   \n",
       "6        CHEMBL859789                 Inhibitory activity against CYP3A4   \n",
       "11       CHEMBL935253                         Inhibition of human CYP2D6   \n",
       "12       CHEMBL866475  Inhibition of CYP2D6 by human liver microsome ...   \n",
       "...               ...                                                ...   \n",
       "19913   CHEMBL1273059                 Inhibition of CYP3A4 after 30 mins   \n",
       "19920   CHEMBL1647133                               Inhibition of CYP2C9   \n",
       "19926   CHEMBL1292297                               Inhibition of CYP3A4   \n",
       "19928    CHEMBL921646                               Inhibition of CYP2D6   \n",
       "19929    CHEMBL921647                               Inhibition of CYP3A4   \n",
       "\n",
       "      Assay Type BAO Format ID              BAO Label Document ChEMBL ID  \\\n",
       "0              A   BAO_0000357  single protein format      CHEMBL1146077   \n",
       "1              A   BAO_0000251       microsome format      CHEMBL1140162   \n",
       "6              A   BAO_0000357  single protein format      CHEMBL1146078   \n",
       "11             A   BAO_0000357  single protein format      CHEMBL1141628   \n",
       "12             A   BAO_0000221    tissue-based format      CHEMBL1138111   \n",
       "...          ...           ...                    ...                ...   \n",
       "19913          A   BAO_0000357  single protein format      CHEMBL1268982   \n",
       "19920          A   BAO_0000357  single protein format      CHEMBL1641414   \n",
       "19926          A   BAO_0000357  single protein format      CHEMBL1287684   \n",
       "19928          A   BAO_0000357  single protein format      CHEMBL1145579   \n",
       "19929          A   BAO_0000357  single protein format      CHEMBL1145579   \n",
       "\n",
       "          Source Description      Document Journal  Document Year  \\\n",
       "0      Scientific Literature            J Med Chem         2006.0   \n",
       "1      Scientific Literature            J Med Chem         2008.0   \n",
       "6      Scientific Literature            J Med Chem         2006.0   \n",
       "11     Scientific Literature            J Med Chem         2008.0   \n",
       "12     Scientific Literature  Bioorg Med Chem Lett         2006.0   \n",
       "...                      ...                   ...            ...   \n",
       "19913  Scientific Literature  Bioorg Med Chem Lett         2010.0   \n",
       "19920  Scientific Literature       Bioorg Med Chem         2011.0   \n",
       "19926  Scientific Literature  Bioorg Med Chem Lett         2010.0   \n",
       "19928  Scientific Literature  Bioorg Med Chem Lett         2008.0   \n",
       "19929  Scientific Literature  Bioorg Med Chem Lett         2008.0   \n",
       "\n",
       "      Enzyme Source Incubation Time Temperature Range pH Level  \\\n",
       "0            CYP2D6         unknown           unknown  unknown   \n",
       "1            CYP3A4         unknown           unknown  unknown   \n",
       "6            CYP3A4         unknown           unknown  unknown   \n",
       "11           CYP2D6         unknown           unknown  unknown   \n",
       "12           CYP2D6         unknown           unknown  unknown   \n",
       "...             ...             ...               ...      ...   \n",
       "19913        CYP3A4         30 mins           unknown  unknown   \n",
       "19920        CYP2C9         unknown           unknown  unknown   \n",
       "19926        CYP3A4         unknown           unknown  unknown   \n",
       "19928        CYP2D6         unknown           unknown  unknown   \n",
       "19929        CYP3A4         unknown           unknown  unknown   \n",
       "\n",
       "      Substrate Concentration Inhibitor Concentration Cofactors  \\\n",
       "0                         NaN                 unknown   unknown   \n",
       "1                         NaN                 unknown   unknown   \n",
       "6                         NaN                 unknown   unknown   \n",
       "11                        NaN                 unknown   unknown   \n",
       "12                        NaN                 unknown   unknown   \n",
       "...                       ...                     ...       ...   \n",
       "19913                     NaN                 unknown   unknown   \n",
       "19920                     NaN                 unknown   unknown   \n",
       "19926                     NaN                 unknown   unknown   \n",
       "19928                     NaN                 unknown   unknown   \n",
       "19929                     NaN                 unknown   unknown   \n",
       "\n",
       "                  Detection Method Protein Expression System  \\\n",
       "0                              NaN                   unknown   \n",
       "1                              NaN                   unknown   \n",
       "6                              NaN                   unknown   \n",
       "11                             NaN                   unknown   \n",
       "12     human liver microsome assay                   unknown   \n",
       "...                            ...                       ...   \n",
       "19913                          NaN                   unknown   \n",
       "19920                          NaN                   unknown   \n",
       "19926                          NaN                   unknown   \n",
       "19928                          NaN                   unknown   \n",
       "19929                          NaN                   unknown   \n",
       "\n",
       "                  CYP sources  Cytochrome_P450_enzymes   Smiles_check  \\\n",
       "0                       human                     True  SANITIZE_NONE   \n",
       "1      human liver microsomes                     True  SANITIZE_NONE   \n",
       "6                     unknown                     True  SANITIZE_NONE   \n",
       "11                      human                     True  SANITIZE_NONE   \n",
       "12                      human                     True  SANITIZE_NONE   \n",
       "...                       ...                      ...            ...   \n",
       "19913                 unknown                     True  SANITIZE_NONE   \n",
       "19920                 unknown                     True  SANITIZE_NONE   \n",
       "19926                 unknown                     True  SANITIZE_NONE   \n",
       "19928                 unknown                     True  SANITIZE_NONE   \n",
       "19929                 unknown                     True  SANITIZE_NONE   \n",
       "\n",
       "                                       Smiles_removesalt  \\\n",
       "0      C=C[C@H]1CN2CC[C@H]1C[C@@H]2[C@@H](O)c1ccnc2cc...   \n",
       "1      CNc1noc2c(-c3ccc4c(N5CCOC[C@@H]5C)nncc4c3)c(Cl...   \n",
       "6      Cc1cc2c(F)c(Oc3ncnn4cc(OCCC5CCN(C)CC5)c(C)c34)...   \n",
       "11     Cc1cc2c(F)c(Oc3ncnn4cc(OC[C@@H](C)OC(=O)[C@H](...   \n",
       "12                    O=C(Nc1nccs1)N1CCC(Cc2c[nH]cn2)CC1   \n",
       "...                                                  ...   \n",
       "19913  CC1([C@@H]2COC[C@H](COC(=O)N3CCC(CO)CC3)N2S(=O...   \n",
       "19920         CN[C@@H]1CCc2ccccc2[C@@H]1c1ccc(Cl)c(Cl)c1   \n",
       "19926  O=c1cc(OCc2ccccc2)ccn1-c1ccc2c(cnn2CCN2CC[C@H]...   \n",
       "19928  Cc1cc2c(cc1C)N(CC(=O)N1CCCC(c3ccccc3)C1CN1CCCC...   \n",
       "19929  O=C(Cn1c(=O)sc2ccc(Cl)cc21)N1CCCC(c2ccccc2)C1C...   \n",
       "\n",
       "                                            Smiles_unify    value unit  \\\n",
       "0      C=C[C@H]1CN2CC[C@H]1C[C@@H]2[C@@H](O)c1ccnc2cc...     20.0   nM   \n",
       "1      CNc1noc2c(-c3ccc4c(N5CCOC[C@@H]5C)nncc4c3)c(Cl...   6000.0   nM   \n",
       "6      Cc1cc2c(F)c(Oc3ncnn4cc(OCCC5CCN(C)CC5)c(C)c34)...    700.0   nM   \n",
       "11     Cc1cc2c(F)c(Oc3ncnn4cc(OC[C@@H](C)OC(=O)[C@H](...  24000.0   nM   \n",
       "12                    O=C(Nc1nccs1)N1CCC(Cc2c[nH]cn2)CC1   2000.0   nM   \n",
       "...                                                  ...      ...  ...   \n",
       "19913  CC1([C@@H]2COC[C@H](COC(=O)N3CCC(CO)CC3)N2S(=O...      5.5   nM   \n",
       "19920         CN[C@@H]1CCc2ccccc2[C@@H]1c1ccc(Cl)c(Cl)c1   7600.0   nM   \n",
       "19926  O=c1cc(OCc2ccccc2)ccn1-c1ccc2c(cnn2CCN2CC[C@H]...   7700.0   nM   \n",
       "19928  Cc1cc2c(cc1C)N(CC(=O)N1CCCC(c3ccccc3)C1CN1CCCC...   5100.0   nM   \n",
       "19929  O=C(Cn1c(=O)sc2ccc(Cl)cc21)N1CCCC(c2ccccc2)C1C...    680.0   nM   \n",
       "\n",
       "       value_uM  value_uM_log  \n",
       "0        0.0200       -1.6990  \n",
       "1        6.0000        0.7782  \n",
       "6        0.7000       -0.1549  \n",
       "11      24.0000        1.3802  \n",
       "12       2.0000        0.3010  \n",
       "...         ...           ...  \n",
       "19913    0.0055       -2.2596  \n",
       "19920    7.6000        0.8808  \n",
       "19926    7.7000        0.8865  \n",
       "19928    5.1000        0.7076  \n",
       "19929    0.6800       -0.1675  \n",
       "\n",
       "[4531 rows x 33 columns]"
      ]
     },
     "execution_count": 33,
     "metadata": {},
     "output_type": "execute_result"
    }
   ],
   "source": [
    "chembl"
   ]
  },
  {
   "cell_type": "code",
   "execution_count": 34,
   "id": "6c1f8606",
   "metadata": {},
   "outputs": [
    {
     "data": {
      "image/png": "[encoded data removed]",
      "text/plain": [
       "<Figure size 432x288 with 1 Axes>"
      ]
     },
     "metadata": {},
     "output_type": "display_data"
    }
   ],
   "source": [
    "plot_diagram(chembl,['Smiles_unify','Enzyme Source'],'value_uM_log')"
   ]
  },
  {
   "cell_type": "markdown",
   "id": "ccac866f-df45-461e-bc3e-d33a1d850e4a",
   "metadata": {},
   "source": [
    "## be ready for concat"
   ]
  },
  {
   "cell_type": "code",
   "execution_count": 35,
   "id": "7b3138b9-7a79-409b-8bd3-a2f6e4f7456d",
   "metadata": {},
   "outputs": [],
   "source": [
    "chembl['source'] = 'ChEMBL'\n",
    "chembl['property'] = 'cyp_IC50'"
   ]
  },
  {
   "cell_type": "code",
   "execution_count": 36,
   "id": "aec2496a-a250-4e9a-b9ed-4153c841d9fb",
   "metadata": {},
   "outputs": [],
   "source": [
    "chembl_fc = chembl[['Smiles', 'Standard Value', 'Standard Units', \n",
    "                    'Document ChEMBL ID', 'source', \n",
    "                    'Enzyme Source', \n",
    "                    'property'\n",
    "                   ]]"
   ]
  },
  {
   "cell_type": "code",
   "execution_count": 37,
   "id": "7d21b9a3-aff6-43d4-86d8-c6ecb5cd48b0",
   "metadata": {},
   "outputs": [],
   "source": [
    "chembl_fc.columns = ['Smiles', 'value', 'unit', \n",
    "                    'ref', 'source', \n",
    "                    'CYP_type', \n",
    "                    'property']"
   ]
  },
  {
   "cell_type": "code",
   "execution_count": 38,
   "id": "eb37f434-3fed-4d5a-ba7c-c2d929c7fdf0",
   "metadata": {},
   "outputs": [
    {
     "data": {
      "text/html": [
       "<div>\n",
       "<style scoped>\n",
       "    .dataframe tbody tr th:only-of-type {\n",
       "        vertical-align: middle;\n",
       "    }\n",
       "\n",
       "    .dataframe tbody tr th {\n",
       "        vertical-align: top;\n",
       "    }\n",
       "\n",
       "    .dataframe thead th {\n",
       "        text-align: right;\n",
       "    }\n",
       "</style>\n",
       "<table border=\"1\" class=\"dataframe\">\n",
       "  <thead>\n",
       "    <tr style=\"text-align: right;\">\n",
       "      <th></th>\n",
       "      <th>Smiles</th>\n",
       "      <th>value</th>\n",
       "      <th>unit</th>\n",
       "      <th>ref</th>\n",
       "      <th>source</th>\n",
       "      <th>CYP_type</th>\n",
       "      <th>property</th>\n",
       "    </tr>\n",
       "  </thead>\n",
       "  <tbody>\n",
       "    <tr>\n",
       "      <th>0</th>\n",
       "      <td>C=C[C@H]1CN2CC[C@H]1C[C@@H]2[C@@H](O)c1ccnc2cc...</td>\n",
       "      <td>20.0</td>\n",
       "      <td>nM</td>\n",
       "      <td>CHEMBL1146077</td>\n",
       "      <td>ChEMBL</td>\n",
       "      <td>CYP2D6</td>\n",
       "      <td>cyp_IC50</td>\n",
       "    </tr>\n",
       "    <tr>\n",
       "      <th>1</th>\n",
       "      <td>CNc1noc2c(-c3ccc4c(N5CCOC[C@@H]5C)nncc4c3)c(Cl...</td>\n",
       "      <td>6000.0</td>\n",
       "      <td>nM</td>\n",
       "      <td>CHEMBL1140162</td>\n",
       "      <td>ChEMBL</td>\n",
       "      <td>CYP3A4</td>\n",
       "      <td>cyp_IC50</td>\n",
       "    </tr>\n",
       "    <tr>\n",
       "      <th>6</th>\n",
       "      <td>Cc1cc2c(F)c(Oc3ncnn4cc(OCCC5CCN(C)CC5)c(C)c34)...</td>\n",
       "      <td>700.0</td>\n",
       "      <td>nM</td>\n",
       "      <td>CHEMBL1146078</td>\n",
       "      <td>ChEMBL</td>\n",
       "      <td>CYP3A4</td>\n",
       "      <td>cyp_IC50</td>\n",
       "    </tr>\n",
       "  </tbody>\n",
       "</table>\n",
       "</div>"
      ],
      "text/plain": [
       "                                              Smiles   value unit  \\\n",
       "0  C=C[C@H]1CN2CC[C@H]1C[C@@H]2[C@@H](O)c1ccnc2cc...    20.0   nM   \n",
       "1  CNc1noc2c(-c3ccc4c(N5CCOC[C@@H]5C)nncc4c3)c(Cl...  6000.0   nM   \n",
       "6  Cc1cc2c(F)c(Oc3ncnn4cc(OCCC5CCN(C)CC5)c(C)c34)...   700.0   nM   \n",
       "\n",
       "             ref  source CYP_type  property  \n",
       "0  CHEMBL1146077  ChEMBL   CYP2D6  cyp_IC50  \n",
       "1  CHEMBL1140162  ChEMBL   CYP3A4  cyp_IC50  \n",
       "6  CHEMBL1146078  ChEMBL   CYP3A4  cyp_IC50  "
      ]
     },
     "execution_count": 38,
     "metadata": {},
     "output_type": "execute_result"
    }
   ],
   "source": [
    "chembl_fc.head(3)"
   ]
  },
  {
   "cell_type": "code",
   "execution_count": 39,
   "id": "3d2361ba-7552-454a-b898-9057566208d0",
   "metadata": {},
   "outputs": [
    {
     "data": {
      "text/plain": [
       "(4517, 7)"
      ]
     },
     "execution_count": 39,
     "metadata": {},
     "output_type": "execute_result"
    }
   ],
   "source": [
    "chembl_fc.drop_duplicates(inplace=True)\n",
    "chembl_fc.shape"
   ]
  },
  {
   "cell_type": "markdown",
   "id": "0be63428-b5fa-499c-a66e-15d224902908",
   "metadata": {},
   "source": [
    "# Cleaning"
   ]
  },
  {
   "cell_type": "code",
   "execution_count": 40,
   "id": "d4cbc6c0",
   "metadata": {},
   "outputs": [
    {
     "data": {
      "text/plain": [
       "775"
      ]
     },
     "execution_count": 40,
     "metadata": {},
     "output_type": "execute_result"
    }
   ],
   "source": [
    "chembl_fc['ref'].nunique()"
   ]
  },
  {
   "cell_type": "code",
   "execution_count": 41,
   "id": "defede5a-0468-49a4-8303-dd8ccd611dff",
   "metadata": {},
   "outputs": [
    {
     "name": "stderr",
     "output_type": "stream",
     "text": [
      "100%|████████████████████████████████████████| 4517/4517 [00:00<00:00, 10210.01it/s]\n"
     ]
    },
    {
     "name": "stdout",
     "output_type": "stream",
     "text": [
      "SANITIZE_NONE    4517\n",
      "Name: Smiles_check, dtype: int64\n"
     ]
    },
    {
     "name": "stderr",
     "output_type": "stream",
     "text": [
      "100%|███████████████████████████████████████| 4517/4517 [00:00<00:00, 937950.95it/s]\n",
      "4517it [00:04, 1040.98it/s]\n"
     ]
    },
    {
     "name": "stdout",
     "output_type": "stream",
     "text": [
      "Metal in Smiles amount: 0\n"
     ]
    },
    {
     "name": "stderr",
     "output_type": "stream",
     "text": [
      "100%|█████████████████████████████████████████| 4517/4517 [00:00<00:00, 9851.67it/s]\n"
     ]
    }
   ],
   "source": [
    "chembl_fc = process_stage_1(chembl_fc,'Smiles')"
   ]
  },
  {
   "cell_type": "markdown",
   "id": "b27ac4e0-0cfc-4fab-8640-4f1ad923c7bd",
   "metadata": {},
   "source": [
    "## value unify"
   ]
  },
  {
   "cell_type": "code",
   "execution_count": 42,
   "id": "6d19414b-4d59-49ed-801d-01973b33fd65",
   "metadata": {},
   "outputs": [
    {
     "data": {
      "text/plain": [
       "nM    4509\n",
       "uM       8\n",
       "Name: unit, dtype: int64"
      ]
     },
     "execution_count": 42,
     "metadata": {},
     "output_type": "execute_result"
    }
   ],
   "source": [
    "chembl_fc['unit'].value_counts(dropna=False)"
   ]
  },
  {
   "cell_type": "code",
   "execution_count": 43,
   "id": "a0539615-c5b2-48e3-8497-f1b7969161a1",
   "metadata": {},
   "outputs": [],
   "source": [
    "def standardlise_value(x):\n",
    "    if x['unit'] == 'uM':\n",
    "        return x['value']\n",
    "    else:\n",
    "        return x['value']/1000\n",
    "\n",
    "chembl_fc['value_uM'] = chembl_fc.apply(standardlise_value,axis=1) "
   ]
  },
  {
   "cell_type": "markdown",
   "id": "05925a58-5690-4428-8d1a-05be324b9eff",
   "metadata": {},
   "source": [
    "## filter values"
   ]
  },
  {
   "cell_type": "code",
   "execution_count": 44,
   "id": "26b589bd-64c8-434d-92bf-93e17cfcc01e",
   "metadata": {},
   "outputs": [
    {
     "data": {
      "text/plain": [
       "(4517, 11)"
      ]
     },
     "execution_count": 44,
     "metadata": {},
     "output_type": "execute_result"
    }
   ],
   "source": [
    "chembl_fc = chembl_fc[chembl_fc['value_uM'] != 0]\n",
    "chembl_fc.shape"
   ]
  },
  {
   "cell_type": "code",
   "execution_count": 45,
   "id": "618362be-80a1-43ac-a6d6-92a7d4fc5e75",
   "metadata": {},
   "outputs": [],
   "source": [
    "chembl_fc['value_uM_log'] = chembl_fc['value_uM'].apply(lambda x: round(np.log10(x), 4))"
   ]
  },
  {
   "cell_type": "code",
   "execution_count": 46,
   "id": "a3412ab7-5818-46ca-9c0d-fac408f4b9ed",
   "metadata": {},
   "outputs": [
    {
     "name": "stdout",
     "output_type": "stream",
     "text": [
      "alldata shape: (4517, 13)\n",
      "AtomCounts shape: (4507, 13)\n"
     ]
    }
   ],
   "source": [
    "chembl_fc = AtomCounts(chembl_fc, 'Smiles_unify', 10)"
   ]
  },
  {
   "cell_type": "code",
   "execution_count": 47,
   "id": "3831afe3-3c6c-4dac-9432-75fe6158d741",
   "metadata": {},
   "outputs": [
    {
     "data": {
      "text/plain": [
       "(4507, 8)"
      ]
     },
     "execution_count": 47,
     "metadata": {},
     "output_type": "execute_result"
    }
   ],
   "source": [
    "chembl_fc = chembl_fc[['Smiles_unify', 'Smiles', 'value_uM', 'value_uM_log', \n",
    "        'ref', 'source', 'CYP_type', 'property']]\n",
    "chembl_fc.shape"
   ]
  },
  {
   "cell_type": "code",
   "execution_count": 48,
   "id": "495cbf0a-547b-4c7f-8e51-9817cebbe9f0",
   "metadata": {},
   "outputs": [],
   "source": [
    "chembl_fc.to_csv('../data/data_processing_result/cyp_preprocessing_finished.csv',index=False)"
   ]
  },
  {
   "cell_type": "code",
   "execution_count": null,
   "id": "1b30c7f2",
   "metadata": {},
   "outputs": [],
   "source": []
  }
 ],
 "metadata": {
  "kernelspec": {
   "display_name": "Python 3 (ipykernel)",
   "language": "python",
   "name": "python3"
  },
  "language_info": {
   "codemirror_mode": {
    "name": "ipython",
    "version": 3
   },
   "file_extension": ".py",
   "mimetype": "text/x-python",
   "name": "python",
   "nbconvert_exporter": "python",
   "pygments_lexer": "ipython3",
   "version": "3.9.6"
  }
 },
 "nbformat": 4,
 "nbformat_minor": 5
}
