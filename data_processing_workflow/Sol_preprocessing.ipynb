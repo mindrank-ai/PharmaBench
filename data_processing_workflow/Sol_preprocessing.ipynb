{
 "cells": [
  {
   "cell_type": "code",
   "execution_count": 1,
   "id": "828799cc-a009-49ce-8ad4-c7d43e023706",
   "metadata": {
    "tags": []
   },
   "outputs": [
    {
     "name": "stdout",
     "output_type": "stream",
     "text": [
      "INFO: Pandarallel will run on 20 workers.\n",
      "INFO: Pandarallel will use standard multiprocessing data transfer (pipe) to transfer data between the main process and workers.\n"
     ]
    }
   ],
   "source": [
    "import os\n",
    "import numpy as np\n",
    "import pandas as pd\n",
    "pd.set_option('display.max_columns',50)\n",
    "pd.set_option('display.max_rows',50)\n",
    "pd.options.mode.chained_assignment = None\n",
    "\n",
    "import random\n",
    "random.seed(68)\n",
    "\n",
    "from pandarallel import pandarallel\n",
    "pandarallel.initialize(nb_workers=20)\n",
    "\n",
    "from rdkit import Chem\n",
    "from rdkit.Chem import PandasTools\n",
    "from rdkit.Chem import Descriptors\n"
   ]
  },
  {
   "cell_type": "code",
   "execution_count": 2,
   "id": "98ce95b7-0d9a-41b8-aeba-d92f230d9dbf",
   "metadata": {},
   "outputs": [],
   "source": [
    "import sys\n",
    "sys.path.append('../')\n",
    "from Draw_fig import Draw_plot\n",
    "from standardization_process import *"
   ]
  },
  {
   "cell_type": "markdown",
   "id": "a5bfb215",
   "metadata": {},
   "source": [
    "# Summary for the raw data"
   ]
  },
  {
   "cell_type": "code",
   "execution_count": 5,
   "id": "acc21495",
   "metadata": {},
   "outputs": [],
   "source": [
    "chembl = pd.read_csv('../data/data_mining_results/water_solubility/chembl_solubility_data_mining.csv')\n",
    "esol = pd.read_csv('../data/raw_data/solubility/delaney 2004.txt')\n",
    "cuietal = pd.read_excel('../data/raw_data/solubility/9,943 compounds_0.xlsx')\n",
    "ons = pd.read_csv('../data/raw_data/solubility/water_solubility_data.csv')\n",
    "wangetal1 = pd.read_excel('../data/raw_data/solubility/Wangetal/ci800406y_si_001.xlsx')\n",
    "wangetal2 = pd.read_excel('../data/raw_data/solubility/Wangetal/Jain and Yalkowsky.xls')\n",
    "wangetal3 = pd.read_excel('../data/raw_data/solubility/Wangetal/Beilstein.xlsx')\n",
    "wangetal4 = pd.read_excel('../data/raw_data/solubility/Wangetal/goodman_25celsius.xlsx')\n",
    "wangetal5 = pd.read_excel('../data/raw_data/solubility/Wangetal/wang_collected.xlsx')"
   ]
  },
  {
   "cell_type": "code",
   "execution_count": 6,
   "id": "ea6b6d03",
   "metadata": {},
   "outputs": [
    {
     "data": {
      "text/plain": [
       "(3705, 9)"
      ]
     },
     "execution_count": 6,
     "metadata": {},
     "output_type": "execute_result"
    }
   ],
   "source": [
    "wangetal = pd.concat([wangetal1, wangetal2, wangetal3, wangetal4, wangetal5], ignore_index=True)\n",
    "wangetal.shape"
   ]
  },
  {
   "cell_type": "code",
   "execution_count": 8,
   "id": "53f7c2e8",
   "metadata": {},
   "outputs": [
    {
     "data": {
      "text/plain": [
       "(15692, 27)"
      ]
     },
     "execution_count": 8,
     "metadata": {},
     "output_type": "execute_result"
    }
   ],
   "source": [
    "pd.concat([esol,cuietal,ons,wangetal]).shape"
   ]
  },
  {
   "cell_type": "code",
   "execution_count": 15,
   "id": "59e91019",
   "metadata": {},
   "outputs": [
    {
     "data": {
      "text/plain": [
       "1849"
      ]
     },
     "execution_count": 15,
     "metadata": {},
     "output_type": "execute_result"
    }
   ],
   "source": [
    "chembl = chembl[~chembl['Water Solubility'].isna()]\n",
    "chembl['Assay ChEMBL ID'].nunique()"
   ]
  },
  {
   "cell_type": "code",
   "execution_count": 16,
   "id": "5f331439",
   "metadata": {},
   "outputs": [
    {
     "data": {
      "text/plain": [
       "(17141, 22)"
      ]
     },
     "execution_count": 16,
     "metadata": {},
     "output_type": "execute_result"
    }
   ],
   "source": [
    "chembl.shape"
   ]
  },
  {
   "cell_type": "markdown",
   "id": "1fde0559-c0ea-4186-9e4e-0188cdd761b9",
   "metadata": {},
   "source": [
    "# Load data"
   ]
  },
  {
   "cell_type": "markdown",
   "id": "a9d49205-17f1-4c9f-9b51-2e5eb553a4a3",
   "metadata": {},
   "source": [
    "## Chembl"
   ]
  },
  {
   "cell_type": "code",
   "execution_count": 20,
   "id": "79db7ba5-a18e-4d4d-88b9-a9810fa527b8",
   "metadata": {},
   "outputs": [],
   "source": [
    "chembl = pd.read_csv('../data/data_mining_results/water_solubility/chembl_solubility_data_mining.csv')"
   ]
  },
  {
   "cell_type": "code",
   "execution_count": 21,
   "id": "fa81c7b4-0704-4816-a651-6be45e4231c7",
   "metadata": {},
   "outputs": [
    {
     "data": {
      "text/plain": [
       "((52947, 22),\n",
       " Index(['Molecule ChEMBL ID', 'Smiles', 'Standard Type', 'Standard Relation',\n",
       "        'Standard Value', 'Standard Units', 'Assay ChEMBL ID',\n",
       "        'Assay Description', 'Assay Type', 'BAO Format ID', 'BAO Label',\n",
       "        'Document ChEMBL ID', 'Source Description', 'Document Journal',\n",
       "        'Document Year', 'pH Level', 'Solvent/System Composition',\n",
       "        'Time Period', 'Measurement Technique', 'Temperature Range',\n",
       "        'water_solubility', 'Water Solubility'],\n",
       "       dtype='object'))"
      ]
     },
     "execution_count": 21,
     "metadata": {},
     "output_type": "execute_result"
    }
   ],
   "source": [
    "chembl.shape, chembl.columns"
   ]
  },
  {
   "cell_type": "code",
   "execution_count": 22,
   "id": "9cc4c794-755c-44dc-b2f2-feb476554607",
   "metadata": {
    "scrolled": true
   },
   "outputs": [
    {
     "data": {
      "text/html": [
       "<div>\n",
       "<style scoped>\n",
       "    .dataframe tbody tr th:only-of-type {\n",
       "        vertical-align: middle;\n",
       "    }\n",
       "\n",
       "    .dataframe tbody tr th {\n",
       "        vertical-align: top;\n",
       "    }\n",
       "\n",
       "    .dataframe thead th {\n",
       "        text-align: right;\n",
       "    }\n",
       "</style>\n",
       "<table border=\"1\" class=\"dataframe\">\n",
       "  <thead>\n",
       "    <tr style=\"text-align: right;\">\n",
       "      <th></th>\n",
       "      <th>Molecule ChEMBL ID</th>\n",
       "      <th>Smiles</th>\n",
       "      <th>Standard Type</th>\n",
       "      <th>Standard Relation</th>\n",
       "      <th>Standard Value</th>\n",
       "      <th>Standard Units</th>\n",
       "      <th>Assay ChEMBL ID</th>\n",
       "      <th>Assay Description</th>\n",
       "      <th>Assay Type</th>\n",
       "      <th>BAO Format ID</th>\n",
       "      <th>BAO Label</th>\n",
       "      <th>Document ChEMBL ID</th>\n",
       "      <th>Source Description</th>\n",
       "      <th>Document Journal</th>\n",
       "      <th>Document Year</th>\n",
       "      <th>pH Level</th>\n",
       "      <th>Solvent/System Composition</th>\n",
       "      <th>Time Period</th>\n",
       "      <th>Measurement Technique</th>\n",
       "      <th>Temperature Range</th>\n",
       "      <th>water_solubility</th>\n",
       "      <th>Water Solubility</th>\n",
       "    </tr>\n",
       "  </thead>\n",
       "  <tbody>\n",
       "    <tr>\n",
       "      <th>0</th>\n",
       "      <td>CHEMBL381394</td>\n",
       "      <td>CCCC[C@H](NC(=O)O[C@@H]1C(=O)N(C(=O)Nc2c(C)noc...</td>\n",
       "      <td>Solubility</td>\n",
       "      <td>'='</td>\n",
       "      <td>320.0</td>\n",
       "      <td>ug.mL-1</td>\n",
       "      <td>CHEMBL860622</td>\n",
       "      <td>Solubility in fasted state-simulated intestina...</td>\n",
       "      <td>P</td>\n",
       "      <td>BAO_0000100</td>\n",
       "      <td>small-molecule physicochemical format</td>\n",
       "      <td>CHEMBL1146061</td>\n",
       "      <td>Scientific Literature</td>\n",
       "      <td>Bioorg Med Chem Lett</td>\n",
       "      <td>2006.0</td>\n",
       "      <td>6.8</td>\n",
       "      <td>fasted state-simulated intestinal fluid</td>\n",
       "      <td>NaN</td>\n",
       "      <td>NaN</td>\n",
       "      <td>NaN</td>\n",
       "      <td>True</td>\n",
       "      <td>NaN</td>\n",
       "    </tr>\n",
       "    <tr>\n",
       "      <th>1</th>\n",
       "      <td>CHEMBL383687</td>\n",
       "      <td>CCCC[C@H](NC(=O)O[C@@H]1C(=O)N(C(=O)c2ccno2)CC...</td>\n",
       "      <td>Solubility</td>\n",
       "      <td>'='</td>\n",
       "      <td>68.0</td>\n",
       "      <td>ug.mL-1</td>\n",
       "      <td>CHEMBL860622</td>\n",
       "      <td>Solubility in fasted state-simulated intestina...</td>\n",
       "      <td>P</td>\n",
       "      <td>BAO_0000100</td>\n",
       "      <td>small-molecule physicochemical format</td>\n",
       "      <td>CHEMBL1146061</td>\n",
       "      <td>Scientific Literature</td>\n",
       "      <td>Bioorg Med Chem Lett</td>\n",
       "      <td>2006.0</td>\n",
       "      <td>6.8</td>\n",
       "      <td>fasted state-simulated intestinal fluid</td>\n",
       "      <td>NaN</td>\n",
       "      <td>NaN</td>\n",
       "      <td>NaN</td>\n",
       "      <td>True</td>\n",
       "      <td>NaN</td>\n",
       "    </tr>\n",
       "    <tr>\n",
       "      <th>2</th>\n",
       "      <td>CHEMBL203501</td>\n",
       "      <td>CCCC[C@@H](/C=N/NS(=O)(=O)N(C)C)NC(=O)OC(C)(C)C</td>\n",
       "      <td>Solubility</td>\n",
       "      <td>'='</td>\n",
       "      <td>380.0</td>\n",
       "      <td>ug.mL-1</td>\n",
       "      <td>CHEMBL868304</td>\n",
       "      <td>Solubility in fasted state-simulated intestina...</td>\n",
       "      <td>P</td>\n",
       "      <td>BAO_0000100</td>\n",
       "      <td>small-molecule physicochemical format</td>\n",
       "      <td>CHEMBL1138109</td>\n",
       "      <td>Scientific Literature</td>\n",
       "      <td>Bioorg Med Chem Lett</td>\n",
       "      <td>2006.0</td>\n",
       "      <td>6.8</td>\n",
       "      <td>fasted state-simulated intestinal fluid</td>\n",
       "      <td>NaN</td>\n",
       "      <td>NaN</td>\n",
       "      <td>NaN</td>\n",
       "      <td>True</td>\n",
       "      <td>NaN</td>\n",
       "    </tr>\n",
       "  </tbody>\n",
       "</table>\n",
       "</div>"
      ],
      "text/plain": [
       "  Molecule ChEMBL ID                                             Smiles  \\\n",
       "0       CHEMBL381394  CCCC[C@H](NC(=O)O[C@@H]1C(=O)N(C(=O)Nc2c(C)noc...   \n",
       "1       CHEMBL383687  CCCC[C@H](NC(=O)O[C@@H]1C(=O)N(C(=O)c2ccno2)CC...   \n",
       "2       CHEMBL203501    CCCC[C@@H](/C=N/NS(=O)(=O)N(C)C)NC(=O)OC(C)(C)C   \n",
       "\n",
       "  Standard Type Standard Relation  Standard Value Standard Units  \\\n",
       "0    Solubility               '='           320.0        ug.mL-1   \n",
       "1    Solubility               '='            68.0        ug.mL-1   \n",
       "2    Solubility               '='           380.0        ug.mL-1   \n",
       "\n",
       "  Assay ChEMBL ID                                  Assay Description  \\\n",
       "0    CHEMBL860622  Solubility in fasted state-simulated intestina...   \n",
       "1    CHEMBL860622  Solubility in fasted state-simulated intestina...   \n",
       "2    CHEMBL868304  Solubility in fasted state-simulated intestina...   \n",
       "\n",
       "  Assay Type BAO Format ID                              BAO Label  \\\n",
       "0          P   BAO_0000100  small-molecule physicochemical format   \n",
       "1          P   BAO_0000100  small-molecule physicochemical format   \n",
       "2          P   BAO_0000100  small-molecule physicochemical format   \n",
       "\n",
       "  Document ChEMBL ID     Source Description      Document Journal  \\\n",
       "0      CHEMBL1146061  Scientific Literature  Bioorg Med Chem Lett   \n",
       "1      CHEMBL1146061  Scientific Literature  Bioorg Med Chem Lett   \n",
       "2      CHEMBL1138109  Scientific Literature  Bioorg Med Chem Lett   \n",
       "\n",
       "   Document Year pH Level               Solvent/System Composition  \\\n",
       "0         2006.0      6.8  fasted state-simulated intestinal fluid   \n",
       "1         2006.0      6.8  fasted state-simulated intestinal fluid   \n",
       "2         2006.0      6.8  fasted state-simulated intestinal fluid   \n",
       "\n",
       "  Time Period Measurement Technique Temperature Range water_solubility  \\\n",
       "0         NaN                   NaN               NaN             True   \n",
       "1         NaN                   NaN               NaN             True   \n",
       "2         NaN                   NaN               NaN             True   \n",
       "\n",
       "  Water Solubility  \n",
       "0              NaN  \n",
       "1              NaN  \n",
       "2              NaN  "
      ]
     },
     "execution_count": 22,
     "metadata": {},
     "output_type": "execute_result"
    }
   ],
   "source": [
    "chembl.head(3)"
   ]
  },
  {
   "cell_type": "markdown",
   "id": "24f1367a-901f-4708-b360-24496f2252da",
   "metadata": {},
   "source": [
    "### check experimental data"
   ]
  },
  {
   "cell_type": "code",
   "execution_count": 23,
   "id": "0a5a7ef6",
   "metadata": {},
   "outputs": [],
   "source": [
    "chembl = chembl[chembl['Standard Relation'] == \"'='\"]"
   ]
  },
  {
   "cell_type": "code",
   "execution_count": 24,
   "id": "43eb1f1a",
   "metadata": {},
   "outputs": [
    {
     "data": {
      "text/plain": [
       "(False    21740\n",
       " True     16623\n",
       " Name: water_solubility, dtype: int64,\n",
       " False    27941\n",
       " True     10422\n",
       " Name: Water Solubility, dtype: int64)"
      ]
     },
     "execution_count": 24,
     "metadata": {},
     "output_type": "execute_result"
    }
   ],
   "source": [
    "chembl['water_solubility'] = chembl['water_solubility'].fillna(False)\n",
    "chembl['Water Solubility'] = chembl['Water Solubility'].fillna(False)\n",
    "\n",
    "chembl['water_solubility'].value_counts(), chembl['Water Solubility'].value_counts()"
   ]
  },
  {
   "cell_type": "code",
   "execution_count": 25,
   "id": "926ca313-df1c-4425-869b-1a413c7c6223",
   "metadata": {},
   "outputs": [
    {
     "data": {
      "text/plain": [
       "(27045, 22)"
      ]
     },
     "execution_count": 25,
     "metadata": {},
     "output_type": "execute_result"
    }
   ],
   "source": [
    "chembl = chembl[chembl['water_solubility']|chembl['Water Solubility']]\n",
    "chembl.shape"
   ]
  },
  {
   "cell_type": "code",
   "execution_count": 26,
   "id": "6790036e",
   "metadata": {},
   "outputs": [
    {
     "data": {
      "text/plain": [
       "nM         14789\n",
       "ug.mL-1    12256\n",
       "Name: Standard Units, dtype: int64"
      ]
     },
     "execution_count": 26,
     "metadata": {},
     "output_type": "execute_result"
    }
   ],
   "source": [
    "chembl['Standard Units'].value_counts(dropna=False)"
   ]
  },
  {
   "cell_type": "code",
   "execution_count": 27,
   "id": "ae4e5372",
   "metadata": {},
   "outputs": [
    {
     "name": "stderr",
     "output_type": "stream",
     "text": [
      "100%|███████████████████████████████████████| 27045/27045 [00:03<00:00, 8676.95it/s]\n"
     ]
    },
    {
     "name": "stdout",
     "output_type": "stream",
     "text": [
      "SANITIZE_NONE    27045\n",
      "Name: Smiles_check, dtype: int64\n"
     ]
    },
    {
     "name": "stderr",
     "output_type": "stream",
     "text": [
      "100%|████████████████████████████████████| 27045/27045 [00:00<00:00, 1093696.81it/s]\n",
      "27045it [00:30, 898.37it/s] \n"
     ]
    },
    {
     "name": "stdout",
     "output_type": "stream",
     "text": [
      "Metal in Smiles amount: 0\n"
     ]
    },
    {
     "name": "stderr",
     "output_type": "stream",
     "text": [
      "100%|██████████████████████████████████████| 27045/27045 [00:02<00:00, 10050.83it/s]\n"
     ]
    }
   ],
   "source": [
    "chembl = process_stage_1(chembl,'Smiles')"
   ]
  },
  {
   "cell_type": "code",
   "execution_count": 28,
   "id": "5a683a24",
   "metadata": {},
   "outputs": [],
   "source": [
    "chembl['MW'] = chembl['Smiles_unify'].apply(lambda x: Chem.Descriptors.ExactMolWt(Chem.MolFromSmiles(x)))"
   ]
  },
  {
   "cell_type": "code",
   "execution_count": 29,
   "id": "7d1ba4ae",
   "metadata": {},
   "outputs": [],
   "source": [
    "def standardlised_value(x):\n",
    "    value = float(x['Standard Value'])\n",
    "    unit = x['Standard Units']\n",
    "    mw = x['MW']\n",
    "    \n",
    "    if unit == 'nM':\n",
    "        return value\n",
    "    elif unit == 'ug.mL-1':\n",
    "        return value/mw*1000000\n",
    "    elif unit == 'log(mol/L)':\n",
    "        return 10**value*1000000000\n",
    "    else:\n",
    "        print(unit)"
   ]
  },
  {
   "cell_type": "code",
   "execution_count": 30,
   "id": "5711aa0c",
   "metadata": {},
   "outputs": [],
   "source": [
    "chembl['value_nM'] = chembl.apply(standardlised_value,axis=1)\n",
    "chembl = chembl[chembl['value_nM'] > 0]"
   ]
  },
  {
   "cell_type": "code",
   "execution_count": 31,
   "id": "71ca0833",
   "metadata": {},
   "outputs": [],
   "source": [
    "chembl['value_nM_log'] = chembl['value_nM'].apply(lambda x: round(np.log10(x), 4))"
   ]
  },
  {
   "cell_type": "code",
   "execution_count": 32,
   "id": "5d2967dd",
   "metadata": {},
   "outputs": [
    {
     "data": {
      "image/png": "[encoded data removed]",
      "text/plain": [
       "<Figure size 432x288 with 1 Axes>"
      ]
     },
     "metadata": {},
     "output_type": "display_data"
    }
   ],
   "source": [
    "plot_diagram(chembl,['Smiles_unify'],'value_nM_log')"
   ]
  },
  {
   "cell_type": "code",
   "execution_count": 33,
   "id": "578ef495",
   "metadata": {
    "scrolled": true
   },
   "outputs": [
    {
     "data": {
      "text/plain": [
       "7.4            9543\n",
       "NaN            9344\n",
       "6.5            1905\n",
       "6.8            1713\n",
       "7.0            1659\n",
       "2.0             923\n",
       "4.0             296\n",
       "1.2             265\n",
       "7.2             201\n",
       "1.0             182\n",
       "8.0             154\n",
       "5.0             108\n",
       "6.0              66\n",
       "3.0              61\n",
       "7.5              57\n",
       "1.1 to 7.4       56\n",
       "5.5              38\n",
       "9.9              34\n",
       "4.5              33\n",
       "1.5              31\n",
       "2.4              29\n",
       "6.6              25\n",
       "7.6              16\n",
       "isoelectric      15\n",
       "2.2              15\n",
       "4 to 7.4         15\n",
       "2.5              14\n",
       "9.0              13\n",
       "5.2              12\n",
       "6.9              11\n",
       "7.3              11\n",
       "6.4              10\n",
       "7.2 to 7.4        6\n",
       "6.4 to 7.5        1\n",
       "Name: pH Level, dtype: int64"
      ]
     },
     "metadata": {},
     "output_type": "display_data"
    },
    {
     "data": {
      "text/plain": [
       "NaN                               7397\n",
       "aqueous                           4560\n",
       "phosphate buffer                  2260\n",
       "water                             1785\n",
       "PBS                               1471\n",
       "                                  ... \n",
       "0.1N HCl                             2\n",
       "phosphate buffered saline/DMSO       2\n",
       "Labrasol                             2\n",
       "water containing 5% dextrose         1\n",
       "pH 4 acetate buffer                  1\n",
       "Name: Solvent/System Composition, Length: 172, dtype: int64"
      ]
     },
     "metadata": {},
     "output_type": "display_data"
    },
    {
     "data": {
      "text/plain": [
       "NaN             19709\n",
       "24 hrs           2246\n",
       "18 hrs            650\n",
       "2 hrs             543\n",
       "1 hr              531\n",
       "                ...  \n",
       "5 to 60 mins        8\n",
       "2 to 5 days         8\n",
       "1 to 24 hrs         8\n",
       "24 to 36 hrs        4\n",
       "6 hrs               1\n",
       "Name: Time Period, Length: 51, dtype: int64"
      ]
     },
     "metadata": {},
     "output_type": "display_data"
    },
    {
     "data": {
      "text/plain": [
       "NaN                                             12389\n",
       "HPLC analysis                                    1643\n",
       "kinetic                                          1131\n",
       "kinetic solubility                                741\n",
       "thermodynamic solubility                          674\n",
       "                                                ...  \n",
       "high-throughput equilibrium solubility assay        6\n",
       "charged aerosol detection method                    5\n",
       "UV absorption                                       4\n",
       "magnetic stirrer incubation                         1\n",
       "spectrophotometry analysis                          1\n",
       "Name: Measurement Technique, Length: 195, dtype: int64"
      ]
     },
     "metadata": {},
     "output_type": "display_data"
    },
    {
     "data": {
      "text/plain": [
       "NaN                     25738\n",
       "25 degC                   312\n",
       "20 degC                   220\n",
       "room temperature          164\n",
       "25 degree C                97\n",
       "37 degree C                52\n",
       "22 degC                    46\n",
       "20 degree C                37\n",
       "22.5 degC                  34\n",
       "21 degrees C               21\n",
       "22 degree C                21\n",
       "298 +/- 0.1 K              17\n",
       "30 degC                    16\n",
       "22C                        16\n",
       "25 +/- 1 degC              16\n",
       "20 degrees C               15\n",
       "37 degC                    13\n",
       "25 degreeC                 13\n",
       "20 degreeC                 10\n",
       "25 degree Centigrade        4\n",
       "Name: Temperature Range, dtype: int64"
      ]
     },
     "metadata": {},
     "output_type": "display_data"
    }
   ],
   "source": [
    "for experiment in ['pH Level', 'Solvent/System Composition',\n",
    "        'Time Period', 'Measurement Technique', 'Temperature Range']:\n",
    "    display(chembl[experiment].value_counts(dropna=False))"
   ]
  },
  {
   "cell_type": "code",
   "execution_count": 34,
   "id": "933b9ce2-7621-44b2-888d-7425a72e2705",
   "metadata": {},
   "outputs": [
    {
     "data": {
      "text/plain": [
       "(11487, 29)"
      ]
     },
     "execution_count": 34,
     "metadata": {},
     "output_type": "execute_result"
    }
   ],
   "source": [
    "def convert_float(x):\n",
    "    try:\n",
    "        return float(x)\n",
    "    except:\n",
    "        return 0\n",
    "# chembl['pH Level'] = chembl['pH Level'].fillna(7.4)\n",
    "chembl['pH'] = chembl['pH Level'].map(convert_float)\n",
    "chembl = chembl[((chembl['pH'] >= 7) & (chembl['pH'] <= 7.6)) ]\n",
    "chembl.shape"
   ]
  },
  {
   "cell_type": "code",
   "execution_count": 35,
   "id": "56a35334",
   "metadata": {},
   "outputs": [
    {
     "data": {
      "text/plain": [
       "(2404, 29)"
      ]
     },
     "execution_count": 35,
     "metadata": {},
     "output_type": "execute_result"
    }
   ],
   "source": [
    "chembl['Solvent/System Composition'] = chembl['Solvent/System Composition'].fillna('unknown')\n",
    "\n",
    "chembl = chembl[chembl['Solvent/System Composition'].str.contains('water|aqueous')]\n",
    "chembl.shape"
   ]
  },
  {
   "cell_type": "code",
   "execution_count": 36,
   "id": "03207a89-98dd-4f1e-b6c9-d6d752b40b33",
   "metadata": {},
   "outputs": [
    {
     "data": {
      "text/plain": [
       "(2404, 29)"
      ]
     },
     "execution_count": 36,
     "metadata": {},
     "output_type": "execute_result"
    }
   ],
   "source": [
    "chembl['Measurement Technique'] = chembl['Measurement Technique'].fillna('other')\n",
    "chembl = chembl[~chembl['Measurement Technique'].str.contains( 'kinetic')]\n",
    "chembl.shape"
   ]
  },
  {
   "cell_type": "code",
   "execution_count": 37,
   "id": "de1d27f4",
   "metadata": {},
   "outputs": [
    {
     "data": {
      "text/plain": [
       "other           2090\n",
       "24 hrs           166\n",
       "20 to 24 hrs      62\n",
       "4 hrs             34\n",
       "16 to 18 hrs      13\n",
       "18 hrs            12\n",
       "Name: Time Period, dtype: int64"
      ]
     },
     "execution_count": 37,
     "metadata": {},
     "output_type": "execute_result"
    }
   ],
   "source": [
    "chembl['Time Period'] = chembl['Time Period'].fillna('other')\n",
    "chembl = chembl[~chembl['Time Period'].isin( ['15 mins','72 hrs'])]\n",
    "chembl['Time Period'].value_counts()"
   ]
  },
  {
   "cell_type": "code",
   "execution_count": 38,
   "id": "98df21b4",
   "metadata": {},
   "outputs": [
    {
     "data": {
      "text/plain": [
       "other         2133\n",
       "20 degC        128\n",
       "25 degC         87\n",
       "22C             16\n",
       "25 degreeC      13\n",
       "Name: Temperature Range, dtype: int64"
      ]
     },
     "execution_count": 38,
     "metadata": {},
     "output_type": "execute_result"
    }
   ],
   "source": [
    "chembl['Temperature Range'] = chembl['Temperature Range'].fillna('other')\n",
    "# chembl = chembl[~chembl['Time Period'].isin( ['15 mins','72 hrs'])]\n",
    "chembl['Temperature Range'].value_counts()"
   ]
  },
  {
   "cell_type": "code",
   "execution_count": 39,
   "id": "7370e513",
   "metadata": {},
   "outputs": [
    {
     "data": {
      "image/png": "[encoded data removed]",
      "text/plain": [
       "<Figure size 432x288 with 1 Axes>"
      ]
     },
     "metadata": {},
     "output_type": "display_data"
    }
   ],
   "source": [
    "plot_diagram(chembl,['Smiles_unify'],'value_nM_log')"
   ]
  },
  {
   "cell_type": "markdown",
   "id": "70f75825-77d6-4c53-883e-39663a9eee97",
   "metadata": {},
   "source": [
    "### be ready for concat"
   ]
  },
  {
   "cell_type": "code",
   "execution_count": 40,
   "id": "82ebba8d-4124-40ae-af08-3581f979e17c",
   "metadata": {},
   "outputs": [],
   "source": [
    "chembl['source'] = 'ChEMBL'\n",
    "chembl['property'] = 'solubility'"
   ]
  },
  {
   "cell_type": "code",
   "execution_count": 41,
   "id": "71fb6c47-2131-4d92-9ec7-d53c561c338c",
   "metadata": {},
   "outputs": [],
   "source": [
    "chembl_fc = chembl[['Smiles', 'Standard Value', 'Standard Units', \n",
    "                    'Document ChEMBL ID', 'source', \n",
    "                    'Temperature Range', 'pH', \n",
    "                    'property'\n",
    "                   ]]"
   ]
  },
  {
   "cell_type": "code",
   "execution_count": 42,
   "id": "bd1a38ce-924b-404e-bc37-b7d6029ad0a1",
   "metadata": {},
   "outputs": [],
   "source": [
    "chembl_fc.columns = ['Smiles', 'value', 'unit', \n",
    "                    'ref', 'source', \n",
    "                    'Temperature', 'pH', \n",
    "                    'property']"
   ]
  },
  {
   "cell_type": "code",
   "execution_count": 43,
   "id": "7e162200-b8aa-4ea0-af66-a74b7d2ce66c",
   "metadata": {},
   "outputs": [
    {
     "data": {
      "text/html": [
       "<div>\n",
       "<style scoped>\n",
       "    .dataframe tbody tr th:only-of-type {\n",
       "        vertical-align: middle;\n",
       "    }\n",
       "\n",
       "    .dataframe tbody tr th {\n",
       "        vertical-align: top;\n",
       "    }\n",
       "\n",
       "    .dataframe thead th {\n",
       "        text-align: right;\n",
       "    }\n",
       "</style>\n",
       "<table border=\"1\" class=\"dataframe\">\n",
       "  <thead>\n",
       "    <tr style=\"text-align: right;\">\n",
       "      <th></th>\n",
       "      <th>Smiles</th>\n",
       "      <th>value</th>\n",
       "      <th>unit</th>\n",
       "      <th>ref</th>\n",
       "      <th>source</th>\n",
       "      <th>Temperature</th>\n",
       "      <th>pH</th>\n",
       "      <th>property</th>\n",
       "    </tr>\n",
       "  </thead>\n",
       "  <tbody>\n",
       "    <tr>\n",
       "      <th>13</th>\n",
       "      <td>O=C(c1cc(Cc2n[nH]c(=O)c3ccccc23)ccc1F)N1CCCNCC1</td>\n",
       "      <td>5100.0</td>\n",
       "      <td>ug.mL-1</td>\n",
       "      <td>CHEMBL1138134</td>\n",
       "      <td>ChEMBL</td>\n",
       "      <td>other</td>\n",
       "      <td>7.4</td>\n",
       "      <td>solubility</td>\n",
       "    </tr>\n",
       "    <tr>\n",
       "      <th>54</th>\n",
       "      <td>CCc1ccc(S(=O)(=O)c2ccccc2)cc1S(=O)(=O)NCCCN(C)C</td>\n",
       "      <td>26.0</td>\n",
       "      <td>ug.mL-1</td>\n",
       "      <td>CHEMBL1151763</td>\n",
       "      <td>ChEMBL</td>\n",
       "      <td>other</td>\n",
       "      <td>7.4</td>\n",
       "      <td>solubility</td>\n",
       "    </tr>\n",
       "    <tr>\n",
       "      <th>86</th>\n",
       "      <td>O=C(Nc1cccc(-c2ccc(OC(F)(F)F)cc2)c1)N[C@@H]1CO...</td>\n",
       "      <td>3.0</td>\n",
       "      <td>ug.mL-1</td>\n",
       "      <td>CHEMBL1944507</td>\n",
       "      <td>ChEMBL</td>\n",
       "      <td>other</td>\n",
       "      <td>7.0</td>\n",
       "      <td>solubility</td>\n",
       "    </tr>\n",
       "  </tbody>\n",
       "</table>\n",
       "</div>"
      ],
      "text/plain": [
       "                                               Smiles   value     unit  \\\n",
       "13    O=C(c1cc(Cc2n[nH]c(=O)c3ccccc23)ccc1F)N1CCCNCC1  5100.0  ug.mL-1   \n",
       "54    CCc1ccc(S(=O)(=O)c2ccccc2)cc1S(=O)(=O)NCCCN(C)C    26.0  ug.mL-1   \n",
       "86  O=C(Nc1cccc(-c2ccc(OC(F)(F)F)cc2)c1)N[C@@H]1CO...     3.0  ug.mL-1   \n",
       "\n",
       "              ref  source Temperature   pH    property  \n",
       "13  CHEMBL1138134  ChEMBL       other  7.4  solubility  \n",
       "54  CHEMBL1151763  ChEMBL       other  7.4  solubility  \n",
       "86  CHEMBL1944507  ChEMBL       other  7.0  solubility  "
      ]
     },
     "execution_count": 43,
     "metadata": {},
     "output_type": "execute_result"
    }
   ],
   "source": [
    "chembl_fc.head(3)"
   ]
  },
  {
   "cell_type": "code",
   "execution_count": 44,
   "id": "b1d52171-9b34-4472-aa7b-e3d8189b4196",
   "metadata": {},
   "outputs": [
    {
     "data": {
      "text/plain": [
       "(2375, 8)"
      ]
     },
     "execution_count": 44,
     "metadata": {},
     "output_type": "execute_result"
    }
   ],
   "source": [
    "chembl_fc.drop_duplicates(inplace=True)\n",
    "chembl_fc.shape"
   ]
  },
  {
   "cell_type": "markdown",
   "id": "0e1c08b0-24ae-4d7e-82a7-454afa689840",
   "metadata": {},
   "source": [
    "## ESOL"
   ]
  },
  {
   "cell_type": "code",
   "execution_count": 45,
   "id": "001bbcd9-7bd8-461c-a50a-730e847cce17",
   "metadata": {},
   "outputs": [],
   "source": [
    "esol = pd.read_csv('../data/raw_data/solubility/delaney 2004.txt')"
   ]
  },
  {
   "cell_type": "code",
   "execution_count": 46,
   "id": "06c1b657-d107-4f51-a391-9092923d23db",
   "metadata": {},
   "outputs": [
    {
     "data": {
      "text/plain": [
       "(1144, 4)"
      ]
     },
     "execution_count": 46,
     "metadata": {},
     "output_type": "execute_result"
    }
   ],
   "source": [
    "esol.shape"
   ]
  },
  {
   "cell_type": "code",
   "execution_count": 47,
   "id": "e8b8508d-a74a-43ba-a22e-0306bd166411",
   "metadata": {},
   "outputs": [
    {
     "data": {
      "text/html": [
       "<div>\n",
       "<style scoped>\n",
       "    .dataframe tbody tr th:only-of-type {\n",
       "        vertical-align: middle;\n",
       "    }\n",
       "\n",
       "    .dataframe tbody tr th {\n",
       "        vertical-align: top;\n",
       "    }\n",
       "\n",
       "    .dataframe thead th {\n",
       "        text-align: right;\n",
       "    }\n",
       "</style>\n",
       "<table border=\"1\" class=\"dataframe\">\n",
       "  <thead>\n",
       "    <tr style=\"text-align: right;\">\n",
       "      <th></th>\n",
       "      <th>Compound ID</th>\n",
       "      <th>measured log(solubility:mol/L)</th>\n",
       "      <th>ESOL predicted log(solubility:mol/L)</th>\n",
       "      <th>SMILES</th>\n",
       "    </tr>\n",
       "  </thead>\n",
       "  <tbody>\n",
       "    <tr>\n",
       "      <th>0</th>\n",
       "      <td>1,1,1,2-Tetrachloroethane</td>\n",
       "      <td>-2.18</td>\n",
       "      <td>-2.794</td>\n",
       "      <td>ClCC(Cl)(Cl)Cl</td>\n",
       "    </tr>\n",
       "    <tr>\n",
       "      <th>1</th>\n",
       "      <td>1,1,1-Trichloroethane</td>\n",
       "      <td>-2.00</td>\n",
       "      <td>-2.232</td>\n",
       "      <td>CC(Cl)(Cl)Cl</td>\n",
       "    </tr>\n",
       "    <tr>\n",
       "      <th>2</th>\n",
       "      <td>1,1,2,2-Tetrachloroethane</td>\n",
       "      <td>-1.74</td>\n",
       "      <td>-2.549</td>\n",
       "      <td>ClC(Cl)C(Cl)Cl</td>\n",
       "    </tr>\n",
       "  </tbody>\n",
       "</table>\n",
       "</div>"
      ],
      "text/plain": [
       "                 Compound ID  measured log(solubility:mol/L)  \\\n",
       "0  1,1,1,2-Tetrachloroethane                           -2.18   \n",
       "1      1,1,1-Trichloroethane                           -2.00   \n",
       "2  1,1,2,2-Tetrachloroethane                           -1.74   \n",
       "\n",
       "   ESOL predicted log(solubility:mol/L)          SMILES  \n",
       "0                                -2.794  ClCC(Cl)(Cl)Cl  \n",
       "1                                -2.232    CC(Cl)(Cl)Cl  \n",
       "2                                -2.549  ClC(Cl)C(Cl)Cl  "
      ]
     },
     "execution_count": 47,
     "metadata": {},
     "output_type": "execute_result"
    }
   ],
   "source": [
    "esol.head(3)"
   ]
  },
  {
   "cell_type": "markdown",
   "id": "ed140f41-570a-437f-bb34-baabd8da9b06",
   "metadata": {},
   "source": [
    "### be ready for concat"
   ]
  },
  {
   "cell_type": "code",
   "execution_count": 48,
   "id": "4fd8ea51-52d1-4ea8-8548-0e67d8e6c175",
   "metadata": {},
   "outputs": [],
   "source": [
    "esol['Temperature'] =25\n",
    "esol['Unit'] ='log(mol/L)'\n",
    "esol['source'] = 'ESOL'\n",
    "esol['property'] = 'solubility'"
   ]
  },
  {
   "cell_type": "code",
   "execution_count": 49,
   "id": "06d85db5-73ac-4dca-80ee-3c74b2a0e367",
   "metadata": {},
   "outputs": [],
   "source": [
    "esol_fc = esol[['SMILES', 'measured log(solubility:mol/L)', 'Unit', \n",
    "               'source', 'Temperature', 'property']]"
   ]
  },
  {
   "cell_type": "code",
   "execution_count": 50,
   "id": "48230fd0-4b75-4524-84a5-e068a26c5e36",
   "metadata": {},
   "outputs": [],
   "source": [
    "esol_fc.columns = ['Smiles', 'value', 'unit', \n",
    "                    'source', 'Temperature', 'property']"
   ]
  },
  {
   "cell_type": "code",
   "execution_count": 51,
   "id": "d1b081ae-b0a6-4865-bd82-ae4762b03afe",
   "metadata": {},
   "outputs": [
    {
     "data": {
      "text/plain": [
       "(1140, 6)"
      ]
     },
     "execution_count": 51,
     "metadata": {},
     "output_type": "execute_result"
    }
   ],
   "source": [
    "esol_fc.drop_duplicates(inplace=True)\n",
    "esol_fc.shape"
   ]
  },
  {
   "cell_type": "markdown",
   "id": "e0c5ba80-ea44-496f-ba41-ef24b6c913c6",
   "metadata": {},
   "source": [
    "## Cuietal"
   ]
  },
  {
   "cell_type": "code",
   "execution_count": 52,
   "id": "2bcfc70d-749c-4c89-a7da-cdf0d6030104",
   "metadata": {},
   "outputs": [],
   "source": [
    "cuietal = pd.read_excel('../data/raw_data/solubility/9,943 compounds_0.xlsx')"
   ]
  },
  {
   "cell_type": "code",
   "execution_count": 53,
   "id": "7600662b-200b-4055-8da8-5f91eeb1e422",
   "metadata": {},
   "outputs": [
    {
     "data": {
      "text/plain": [
       "(9943, 6)"
      ]
     },
     "execution_count": 53,
     "metadata": {},
     "output_type": "execute_result"
    }
   ],
   "source": [
    "cuietal.shape"
   ]
  },
  {
   "cell_type": "code",
   "execution_count": 54,
   "id": "d9a13ade-60ed-47e9-a3cc-85c2cd422c30",
   "metadata": {},
   "outputs": [
    {
     "data": {
      "text/html": [
       "<div>\n",
       "<style scoped>\n",
       "    .dataframe tbody tr th:only-of-type {\n",
       "        vertical-align: middle;\n",
       "    }\n",
       "\n",
       "    .dataframe tbody tr th {\n",
       "        vertical-align: top;\n",
       "    }\n",
       "\n",
       "    .dataframe thead th {\n",
       "        text-align: right;\n",
       "    }\n",
       "</style>\n",
       "<table border=\"1\" class=\"dataframe\">\n",
       "  <thead>\n",
       "    <tr style=\"text-align: right;\">\n",
       "      <th></th>\n",
       "      <th>Compound ID</th>\n",
       "      <th>InChIKey</th>\n",
       "      <th>SMILES</th>\n",
       "      <th>logS</th>\n",
       "      <th>logP</th>\n",
       "      <th>MW</th>\n",
       "    </tr>\n",
       "  </thead>\n",
       "  <tbody>\n",
       "    <tr>\n",
       "      <th>0</th>\n",
       "      <td>C1711</td>\n",
       "      <td>ACTIUHUUMQJHFO-UPTCCGCDSA-N</td>\n",
       "      <td>COC1=C(OC)C(=O)C(=C(C1=O)C/C=C(/CC/C=C(/CC/C=C...</td>\n",
       "      <td>-18.217693</td>\n",
       "      <td>17.8539</td>\n",
       "      <td>863.344</td>\n",
       "    </tr>\n",
       "    <tr>\n",
       "      <th>1</th>\n",
       "      <td>C1712</td>\n",
       "      <td>CQISYTXUORWJSX-UHFFFAOYSA-N</td>\n",
       "      <td>CCCCCCCCCCCCCCCCCC(=O)Nc1ccc(cc1)NC(=O)CCCCCCC...</td>\n",
       "      <td>-17.468457</td>\n",
       "      <td>14.2326</td>\n",
       "      <td>641.065</td>\n",
       "    </tr>\n",
       "    <tr>\n",
       "      <th>2</th>\n",
       "      <td>C1713</td>\n",
       "      <td>UXPYIAWFQKSHNV-UHFFFAOYSA-N</td>\n",
       "      <td>CCCCCCCCCCCCCCCC(=O)OCCCCOC(=O)CCCCCCCCCCCCCCC</td>\n",
       "      <td>-16.259392</td>\n",
       "      <td>11.8156</td>\n",
       "      <td>566.939</td>\n",
       "    </tr>\n",
       "  </tbody>\n",
       "</table>\n",
       "</div>"
      ],
      "text/plain": [
       "  Compound ID                     InChIKey  \\\n",
       "0       C1711  ACTIUHUUMQJHFO-UPTCCGCDSA-N   \n",
       "1       C1712  CQISYTXUORWJSX-UHFFFAOYSA-N   \n",
       "2       C1713  UXPYIAWFQKSHNV-UHFFFAOYSA-N   \n",
       "\n",
       "                                              SMILES       logS     logP  \\\n",
       "0  COC1=C(OC)C(=O)C(=C(C1=O)C/C=C(/CC/C=C(/CC/C=C... -18.217693  17.8539   \n",
       "1  CCCCCCCCCCCCCCCCCC(=O)Nc1ccc(cc1)NC(=O)CCCCCCC... -17.468457  14.2326   \n",
       "2     CCCCCCCCCCCCCCCC(=O)OCCCCOC(=O)CCCCCCCCCCCCCCC -16.259392  11.8156   \n",
       "\n",
       "        MW  \n",
       "0  863.344  \n",
       "1  641.065  \n",
       "2  566.939  "
      ]
     },
     "execution_count": 54,
     "metadata": {},
     "output_type": "execute_result"
    }
   ],
   "source": [
    "cuietal.head(3)"
   ]
  },
  {
   "cell_type": "markdown",
   "id": "51e48959-47c4-4a02-914a-8067ee66ee18",
   "metadata": {},
   "source": [
    "### be ready for concat"
   ]
  },
  {
   "cell_type": "code",
   "execution_count": 55,
   "id": "93f2a5b2-d914-4e01-b9d8-1f88305fab54",
   "metadata": {},
   "outputs": [],
   "source": [
    "cuietal['Temperature'] =25\n",
    "cuietal['Unit'] ='log(mol/L)'\n",
    "cuietal['source'] = 'Cuietal'\n",
    "cuietal['property'] = 'solubility'"
   ]
  },
  {
   "cell_type": "code",
   "execution_count": 56,
   "id": "bee8c4e9-811f-41bf-a4eb-4611c2fb8339",
   "metadata": {},
   "outputs": [],
   "source": [
    "cuietal_fc = cuietal[['SMILES', 'logS', 'Unit', \n",
    "               'source', 'Temperature', 'property']]"
   ]
  },
  {
   "cell_type": "code",
   "execution_count": 57,
   "id": "0eac819a-f539-47ac-a130-e4ba2d1ff1b6",
   "metadata": {},
   "outputs": [],
   "source": [
    "cuietal_fc.columns = ['Smiles', 'value', 'unit', \n",
    "                    'source', 'Temperature', 'property']"
   ]
  },
  {
   "cell_type": "code",
   "execution_count": 58,
   "id": "28eb78a4-3b6b-4d37-a001-eb59c461f5d9",
   "metadata": {},
   "outputs": [
    {
     "data": {
      "text/plain": [
       "(9943, 6)"
      ]
     },
     "execution_count": 58,
     "metadata": {},
     "output_type": "execute_result"
    }
   ],
   "source": [
    "cuietal_fc.drop_duplicates(inplace=True)\n",
    "cuietal_fc.shape"
   ]
  },
  {
   "cell_type": "markdown",
   "id": "dca9a518-de19-4830-9cb4-90c51b9bf4e5",
   "metadata": {},
   "source": [
    "## ONSchallenge"
   ]
  },
  {
   "cell_type": "code",
   "execution_count": 59,
   "id": "2feaea08-fa87-45cb-88f2-e4fbe823c18a",
   "metadata": {},
   "outputs": [],
   "source": [
    "ons = pd.read_csv('../data/raw_data/solubility/water_solubility_data.csv')"
   ]
  },
  {
   "cell_type": "code",
   "execution_count": 60,
   "id": "df344530-9b41-45f5-90cd-411fe3a77af5",
   "metadata": {},
   "outputs": [
    {
     "data": {
      "text/plain": [
       "(900, 10)"
      ]
     },
     "execution_count": 60,
     "metadata": {},
     "output_type": "execute_result"
    }
   ],
   "source": [
    "ons.shape"
   ]
  },
  {
   "cell_type": "code",
   "execution_count": 61,
   "id": "4daeff31-b5b7-436b-a804-35f6a81cdbcf",
   "metadata": {},
   "outputs": [
    {
     "data": {
      "text/html": [
       "<div>\n",
       "<style scoped>\n",
       "    .dataframe tbody tr th:only-of-type {\n",
       "        vertical-align: middle;\n",
       "    }\n",
       "\n",
       "    .dataframe tbody tr th {\n",
       "        vertical-align: top;\n",
       "    }\n",
       "\n",
       "    .dataframe thead th {\n",
       "        text-align: right;\n",
       "    }\n",
       "</style>\n",
       "<table border=\"1\" class=\"dataframe\">\n",
       "  <thead>\n",
       "    <tr style=\"text-align: right;\">\n",
       "      <th></th>\n",
       "      <th>StdInChIKey</th>\n",
       "      <th>Smiles</th>\n",
       "      <th>LogS</th>\n",
       "      <th>T</th>\n",
       "      <th>Source</th>\n",
       "      <th>REF1</th>\n",
       "      <th>REF2</th>\n",
       "      <th>REF3</th>\n",
       "      <th>REF4</th>\n",
       "      <th>REF5</th>\n",
       "    </tr>\n",
       "  </thead>\n",
       "  <tbody>\n",
       "    <tr>\n",
       "      <th>0</th>\n",
       "      <td>AAEVYOVXGOFMJO-UHFFFAOYSA-N</td>\n",
       "      <td>S(C)c1nc(NC(C)C)nc(NC(C)C)n1</td>\n",
       "      <td>-4.10</td>\n",
       "      <td>NaN</td>\n",
       "      <td>ONSchallenge</td>\n",
       "      <td>http://dx.doi.org/10.1021/ci800406y</td>\n",
       "      <td>NaN</td>\n",
       "      <td>NaN</td>\n",
       "      <td>NaN</td>\n",
       "      <td>NaN</td>\n",
       "    </tr>\n",
       "    <tr>\n",
       "      <th>1</th>\n",
       "      <td>ABICJYZKIYUWEE-UHFFFAOYSA-N</td>\n",
       "      <td>O=[N+]([O-])C1C(=O)NC(=O)NC1=O</td>\n",
       "      <td>-2.28</td>\n",
       "      <td>NaN</td>\n",
       "      <td>ONSchallenge</td>\n",
       "      <td>http://dx.doi.org/10.1021/ci800406y</td>\n",
       "      <td>NaN</td>\n",
       "      <td>NaN</td>\n",
       "      <td>NaN</td>\n",
       "      <td>NaN</td>\n",
       "    </tr>\n",
       "    <tr>\n",
       "      <th>2</th>\n",
       "      <td>ADIMAYPTOBDMTL-UHFFFAOYSA-N</td>\n",
       "      <td>Clc1cc2C(=NC(O)C(=O)Nc2cc1)c1ccccc1</td>\n",
       "      <td>-3.95</td>\n",
       "      <td>NaN</td>\n",
       "      <td>ONSchallenge</td>\n",
       "      <td>http://dx.doi.org/10.1021/ci800406y</td>\n",
       "      <td>NaN</td>\n",
       "      <td>NaN</td>\n",
       "      <td>NaN</td>\n",
       "      <td>NaN</td>\n",
       "    </tr>\n",
       "  </tbody>\n",
       "</table>\n",
       "</div>"
      ],
      "text/plain": [
       "                   StdInChIKey                               Smiles  LogS   T  \\\n",
       "0  AAEVYOVXGOFMJO-UHFFFAOYSA-N         S(C)c1nc(NC(C)C)nc(NC(C)C)n1 -4.10 NaN   \n",
       "1  ABICJYZKIYUWEE-UHFFFAOYSA-N       O=[N+]([O-])C1C(=O)NC(=O)NC1=O -2.28 NaN   \n",
       "2  ADIMAYPTOBDMTL-UHFFFAOYSA-N  Clc1cc2C(=NC(O)C(=O)Nc2cc1)c1ccccc1 -3.95 NaN   \n",
       "\n",
       "         Source                                 REF1 REF2 REF3 REF4 REF5  \n",
       "0  ONSchallenge  http://dx.doi.org/10.1021/ci800406y  NaN  NaN  NaN  NaN  \n",
       "1  ONSchallenge  http://dx.doi.org/10.1021/ci800406y  NaN  NaN  NaN  NaN  \n",
       "2  ONSchallenge  http://dx.doi.org/10.1021/ci800406y  NaN  NaN  NaN  NaN  "
      ]
     },
     "execution_count": 61,
     "metadata": {},
     "output_type": "execute_result"
    }
   ],
   "source": [
    "ons.head(3)"
   ]
  },
  {
   "cell_type": "markdown",
   "id": "efcd8d9a-f824-4f67-b795-d275cf807744",
   "metadata": {},
   "source": [
    "### be ready for concat"
   ]
  },
  {
   "cell_type": "code",
   "execution_count": 62,
   "id": "9cde1e9f-1857-4eb8-8dfc-53b0f0ccac63",
   "metadata": {},
   "outputs": [],
   "source": [
    "ons['Temperature'] = np.nan\n",
    "ons['Unit'] ='log(mol/L)'\n",
    "ons['property'] = 'solubility'"
   ]
  },
  {
   "cell_type": "code",
   "execution_count": 63,
   "id": "78ee1f08-c098-4b6a-a6a6-f3fa8a96f094",
   "metadata": {},
   "outputs": [],
   "source": [
    "ons_fc = ons[['Smiles', 'LogS', 'Unit', 'REF1', \n",
    "               'Source', 'Temperature', 'property']]"
   ]
  },
  {
   "cell_type": "code",
   "execution_count": 64,
   "id": "8ade8ced-50c6-4a5e-a21c-a7d26f8a7a56",
   "metadata": {},
   "outputs": [],
   "source": [
    "ons_fc.columns = ['Smiles', 'value', 'unit', 'ref', \n",
    "                    'source', 'Temperature', 'property']"
   ]
  },
  {
   "cell_type": "code",
   "execution_count": 65,
   "id": "b41ae248-3c32-4216-9bd1-6d35696fba75",
   "metadata": {},
   "outputs": [
    {
     "data": {
      "text/plain": [
       "(900, 7)"
      ]
     },
     "execution_count": 65,
     "metadata": {},
     "output_type": "execute_result"
    }
   ],
   "source": [
    "ons_fc.drop_duplicates(inplace=True)\n",
    "ons_fc.shape"
   ]
  },
  {
   "cell_type": "markdown",
   "id": "9417f4bc-6457-44bd-bb28-05ccda21eed3",
   "metadata": {},
   "source": [
    "## Wangetal"
   ]
  },
  {
   "cell_type": "code",
   "execution_count": 66,
   "id": "fdc12c9e-516e-4959-880a-d4c494088445",
   "metadata": {},
   "outputs": [],
   "source": [
    "wangetal1 = pd.read_excel('../data/raw_data/solubility/Wangetal/ci800406y_si_001.xlsx')\n",
    "wangetal2 = pd.read_excel('../data/raw_data/solubility/Wangetal/Jain and Yalkowsky.xls')\n",
    "wangetal3 = pd.read_excel('../data/raw_data/solubility/Wangetal/Beilstein.xlsx')\n",
    "wangetal4 = pd.read_excel('../data/raw_data/solubility/Wangetal/goodman_25celsius.xlsx')\n",
    "wangetal5 = pd.read_excel('../data/raw_data/solubility/Wangetal/wang_collected.xlsx')"
   ]
  },
  {
   "cell_type": "code",
   "execution_count": 67,
   "id": "e46a45ec-7686-4630-a5d5-5b9c193074a0",
   "metadata": {},
   "outputs": [
    {
     "data": {
      "text/plain": [
       "((1708, 6), (578, 7), (1210, 6), (90, 6), (119, 7))"
      ]
     },
     "execution_count": 67,
     "metadata": {},
     "output_type": "execute_result"
    }
   ],
   "source": [
    "wangetal1.shape, wangetal2.shape, wangetal3.shape, wangetal4.shape, wangetal5.shape "
   ]
  },
  {
   "cell_type": "code",
   "execution_count": 68,
   "id": "0222c357-e68e-4202-afb7-15743e693f43",
   "metadata": {},
   "outputs": [],
   "source": [
    "wangetal3.drop(columns=['Entry'], inplace=True)"
   ]
  },
  {
   "cell_type": "code",
   "execution_count": 69,
   "id": "db35c327-de60-474e-851e-3a66ab13264f",
   "metadata": {},
   "outputs": [],
   "source": [
    "wangetal1['ref'] = 'https://pubs.acs.org/doi/10.1021/ci700096r'\n",
    "wangetal2['ref'] = 'https://jpharmsci.org/article/S0022-3549(16)30715-8/fulltext'\n",
    "wangetal3['ref'] = 'Beilstein data set'\n",
    "wangetal4['ref'] = 'Goodman’s data set'\n",
    "wangetal5['ref'] = 'Wang et al. collected'"
   ]
  },
  {
   "cell_type": "code",
   "execution_count": 70,
   "id": "9dfe84cc-2334-4a91-ac5c-b7a2ec970fec",
   "metadata": {},
   "outputs": [
    {
     "data": {
      "text/plain": [
       "(3705, 9)"
      ]
     },
     "execution_count": 70,
     "metadata": {},
     "output_type": "execute_result"
    }
   ],
   "source": [
    "wangetal = pd.concat([wangetal1, wangetal2, wangetal3, wangetal4, wangetal5], ignore_index=True)\n",
    "wangetal.shape"
   ]
  },
  {
   "cell_type": "code",
   "execution_count": 71,
   "id": "f1db85ed-4941-41fa-9fc7-fb22d60a0254",
   "metadata": {},
   "outputs": [
    {
     "data": {
      "text/html": [
       "<div>\n",
       "<style scoped>\n",
       "    .dataframe tbody tr th:only-of-type {\n",
       "        vertical-align: middle;\n",
       "    }\n",
       "\n",
       "    .dataframe tbody tr th {\n",
       "        vertical-align: top;\n",
       "    }\n",
       "\n",
       "    .dataframe thead th {\n",
       "        text-align: right;\n",
       "    }\n",
       "</style>\n",
       "<table border=\"1\" class=\"dataframe\">\n",
       "  <thead>\n",
       "    <tr style=\"text-align: right;\">\n",
       "      <th></th>\n",
       "      <th>No</th>\n",
       "      <th>Expt.</th>\n",
       "      <th>ClogP</th>\n",
       "      <th>Polarizability</th>\n",
       "      <th>Name</th>\n",
       "      <th>SLN</th>\n",
       "      <th>ref</th>\n",
       "      <th>Tm</th>\n",
       "      <th>MP</th>\n",
       "    </tr>\n",
       "  </thead>\n",
       "  <tbody>\n",
       "    <tr>\n",
       "      <th>0</th>\n",
       "      <td>1</td>\n",
       "      <td>-4.35</td>\n",
       "      <td>4.22</td>\n",
       "      <td>133.981</td>\n",
       "      <td>1-bromonapthtalene</td>\n",
       "      <td>BrC[2]C[3]=C(CH=CHCH=@2)CH=CHCH=CH@3</td>\n",
       "      <td>https://pubs.acs.org/doi/10.1021/ci700096r</td>\n",
       "      <td>NaN</td>\n",
       "      <td>NaN</td>\n",
       "    </tr>\n",
       "    <tr>\n",
       "      <th>1</th>\n",
       "      <td>2</td>\n",
       "      <td>-3.33</td>\n",
       "      <td>2.95</td>\n",
       "      <td>130.274</td>\n",
       "      <td>bromoxynil</td>\n",
       "      <td>BrC[2]=C(C(=CHC(=CH@2)C#N)Br)OH</td>\n",
       "      <td>https://pubs.acs.org/doi/10.1021/ci700096r</td>\n",
       "      <td>NaN</td>\n",
       "      <td>NaN</td>\n",
       "    </tr>\n",
       "    <tr>\n",
       "      <th>2</th>\n",
       "      <td>3</td>\n",
       "      <td>-6.98</td>\n",
       "      <td>5.00</td>\n",
       "      <td>154.335</td>\n",
       "      <td>1,2,4,5-tetrabromobenzene</td>\n",
       "      <td>BrC[2]=C(CH=C(C(=CH@2)Br)Br)Br</td>\n",
       "      <td>https://pubs.acs.org/doi/10.1021/ci700096r</td>\n",
       "      <td>NaN</td>\n",
       "      <td>NaN</td>\n",
       "    </tr>\n",
       "  </tbody>\n",
       "</table>\n",
       "</div>"
      ],
      "text/plain": [
       "   No  Expt.  ClogP  Polarizability                       Name  \\\n",
       "0   1  -4.35   4.22         133.981         1-bromonapthtalene   \n",
       "1   2  -3.33   2.95         130.274                 bromoxynil   \n",
       "2   3  -6.98   5.00         154.335  1,2,4,5-tetrabromobenzene   \n",
       "\n",
       "                                    SLN  \\\n",
       "0  BrC[2]C[3]=C(CH=CHCH=@2)CH=CHCH=CH@3   \n",
       "1       BrC[2]=C(C(=CHC(=CH@2)C#N)Br)OH   \n",
       "2        BrC[2]=C(CH=C(C(=CH@2)Br)Br)Br   \n",
       "\n",
       "                                          ref  Tm   MP  \n",
       "0  https://pubs.acs.org/doi/10.1021/ci700096r NaN  NaN  \n",
       "1  https://pubs.acs.org/doi/10.1021/ci700096r NaN  NaN  \n",
       "2  https://pubs.acs.org/doi/10.1021/ci700096r NaN  NaN  "
      ]
     },
     "execution_count": 71,
     "metadata": {},
     "output_type": "execute_result"
    }
   ],
   "source": [
    "wangetal.head(3)"
   ]
  },
  {
   "cell_type": "code",
   "execution_count": 72,
   "id": "ff1aa477-c4de-411f-8203-c7438bec6e04",
   "metadata": {},
   "outputs": [],
   "source": [
    "wangetal['Temperature'] = np.nan\n",
    "wangetal.loc[wangetal['ref'] == 'https://pubs.acs.org/doi/10.1021/ci700096r', 'Temperature'] = 25\n",
    "wangetal.loc[wangetal['ref'] == 'Goodman’s data set', 'Temperature'] = 25"
   ]
  },
  {
   "cell_type": "code",
   "execution_count": 73,
   "id": "badce9dc-a78c-4d65-b7ae-af7945f51678",
   "metadata": {},
   "outputs": [],
   "source": [
    "from rdkit.Chem import rdSLNParse\n",
    "wangetal['mol'] = wangetal['SLN'].apply(lambda x: Chem.rdSLNParse.MolFromSLN(x))\n",
    "wangetal['Smiles'] = wangetal['mol'].apply(lambda x: Chem.MolToSmiles(x))"
   ]
  },
  {
   "cell_type": "markdown",
   "id": "9cd2e481-4036-47d6-a0f2-ba46be3a3a3a",
   "metadata": {},
   "source": [
    "### be ready for concat"
   ]
  },
  {
   "cell_type": "code",
   "execution_count": 74,
   "id": "7916433e-79a2-4e60-9338-e8479d7afd36",
   "metadata": {},
   "outputs": [],
   "source": [
    "wangetal['Unit'] ='log(mol/L)'\n",
    "wangetal['source'] = 'Wangetal'\n",
    "wangetal['property'] = 'solubility'"
   ]
  },
  {
   "cell_type": "code",
   "execution_count": 75,
   "id": "f58a5de6-4e3b-4687-9f11-960f84f84e35",
   "metadata": {},
   "outputs": [],
   "source": [
    "wangetal_fc = wangetal[['Smiles', 'Expt.', 'Unit', 'ref', \n",
    "               'source', 'Temperature', 'property']]"
   ]
  },
  {
   "cell_type": "code",
   "execution_count": 76,
   "id": "2aaa1c03-10f0-4368-a9fe-5d9b912d1073",
   "metadata": {},
   "outputs": [],
   "source": [
    "wangetal_fc.columns = ['Smiles', 'value', 'unit', 'ref', \n",
    "                    'source', 'Temperature', 'property']"
   ]
  },
  {
   "cell_type": "code",
   "execution_count": 77,
   "id": "7f944bfe-2af1-43a6-b6bf-3ad563f38e65",
   "metadata": {},
   "outputs": [
    {
     "data": {
      "text/plain": [
       "(3671, 7)"
      ]
     },
     "execution_count": 77,
     "metadata": {},
     "output_type": "execute_result"
    }
   ],
   "source": [
    "wangetal_fc.drop_duplicates(inplace=True)\n",
    "wangetal_fc.shape"
   ]
  },
  {
   "cell_type": "markdown",
   "id": "72818e8a-8631-477e-bc59-cd61602b5b6e",
   "metadata": {},
   "source": [
    "# Concat all data"
   ]
  },
  {
   "cell_type": "code",
   "execution_count": 78,
   "id": "8e8814b1-db60-45cd-a03e-e396d1c6c62f",
   "metadata": {},
   "outputs": [
    {
     "data": {
      "text/plain": [
       "(18029, 8)"
      ]
     },
     "execution_count": 78,
     "metadata": {},
     "output_type": "execute_result"
    }
   ],
   "source": [
    "df = pd.concat([chembl_fc, esol_fc, cuietal_fc, ons_fc, wangetal_fc], ignore_index=True)\n",
    "df.shape"
   ]
  },
  {
   "cell_type": "code",
   "execution_count": 79,
   "id": "df882f38",
   "metadata": {},
   "outputs": [
    {
     "data": {
      "text/plain": [
       "318"
      ]
     },
     "execution_count": 79,
     "metadata": {},
     "output_type": "execute_result"
    }
   ],
   "source": [
    "df['ref'].nunique()"
   ]
  },
  {
   "cell_type": "code",
   "execution_count": 80,
   "id": "d09a5249",
   "metadata": {},
   "outputs": [
    {
     "data": {
      "text/html": [
       "<div>\n",
       "<style scoped>\n",
       "    .dataframe tbody tr th:only-of-type {\n",
       "        vertical-align: middle;\n",
       "    }\n",
       "\n",
       "    .dataframe tbody tr th {\n",
       "        vertical-align: top;\n",
       "    }\n",
       "\n",
       "    .dataframe thead th {\n",
       "        text-align: right;\n",
       "    }\n",
       "</style>\n",
       "<table border=\"1\" class=\"dataframe\">\n",
       "  <thead>\n",
       "    <tr style=\"text-align: right;\">\n",
       "      <th></th>\n",
       "      <th>Smiles</th>\n",
       "      <th>value</th>\n",
       "      <th>unit</th>\n",
       "      <th>ref</th>\n",
       "      <th>source</th>\n",
       "      <th>Temperature</th>\n",
       "      <th>pH</th>\n",
       "      <th>property</th>\n",
       "    </tr>\n",
       "  </thead>\n",
       "  <tbody>\n",
       "    <tr>\n",
       "      <th>0</th>\n",
       "      <td>O=C(c1cc(Cc2n[nH]c(=O)c3ccccc23)ccc1F)N1CCCNCC1</td>\n",
       "      <td>5100.0000</td>\n",
       "      <td>ug.mL-1</td>\n",
       "      <td>CHEMBL1138134</td>\n",
       "      <td>ChEMBL</td>\n",
       "      <td>other</td>\n",
       "      <td>7.4</td>\n",
       "      <td>solubility</td>\n",
       "    </tr>\n",
       "    <tr>\n",
       "      <th>1</th>\n",
       "      <td>CCc1ccc(S(=O)(=O)c2ccccc2)cc1S(=O)(=O)NCCCN(C)C</td>\n",
       "      <td>26.0000</td>\n",
       "      <td>ug.mL-1</td>\n",
       "      <td>CHEMBL1151763</td>\n",
       "      <td>ChEMBL</td>\n",
       "      <td>other</td>\n",
       "      <td>7.4</td>\n",
       "      <td>solubility</td>\n",
       "    </tr>\n",
       "    <tr>\n",
       "      <th>2</th>\n",
       "      <td>O=C(Nc1cccc(-c2ccc(OC(F)(F)F)cc2)c1)N[C@@H]1CO...</td>\n",
       "      <td>3.0000</td>\n",
       "      <td>ug.mL-1</td>\n",
       "      <td>CHEMBL1944507</td>\n",
       "      <td>ChEMBL</td>\n",
       "      <td>other</td>\n",
       "      <td>7.0</td>\n",
       "      <td>solubility</td>\n",
       "    </tr>\n",
       "    <tr>\n",
       "      <th>3</th>\n",
       "      <td>Cn1ccnc1Sc1ccc(Nc2c(C#N)cnc3cc(/C=C/CN4CCCC4)c...</td>\n",
       "      <td>20.0000</td>\n",
       "      <td>ug.mL-1</td>\n",
       "      <td>CHEMBL1142456</td>\n",
       "      <td>ChEMBL</td>\n",
       "      <td>other</td>\n",
       "      <td>7.4</td>\n",
       "      <td>solubility</td>\n",
       "    </tr>\n",
       "    <tr>\n",
       "      <th>4</th>\n",
       "      <td>Cn1ccnc1Sc1ccc(Nc2c(C#N)cnc3cc(/C=C/CCO)ccc23)...</td>\n",
       "      <td>1.0000</td>\n",
       "      <td>ug.mL-1</td>\n",
       "      <td>CHEMBL1142456</td>\n",
       "      <td>ChEMBL</td>\n",
       "      <td>other</td>\n",
       "      <td>7.4</td>\n",
       "      <td>solubility</td>\n",
       "    </tr>\n",
       "    <tr>\n",
       "      <th>...</th>\n",
       "      <td>...</td>\n",
       "      <td>...</td>\n",
       "      <td>...</td>\n",
       "      <td>...</td>\n",
       "      <td>...</td>\n",
       "      <td>...</td>\n",
       "      <td>...</td>\n",
       "      <td>...</td>\n",
       "    </tr>\n",
       "    <tr>\n",
       "      <th>18024</th>\n",
       "      <td>NS(=O)(=O)c1ccc(C(=O)c2ccc(CNCc3ccccc3)cc2)s1</td>\n",
       "      <td>-3.3319</td>\n",
       "      <td>log(mol/L)</td>\n",
       "      <td>Wang et al. collected</td>\n",
       "      <td>Wangetal</td>\n",
       "      <td>NaN</td>\n",
       "      <td>NaN</td>\n",
       "      <td>solubility</td>\n",
       "    </tr>\n",
       "    <tr>\n",
       "      <th>18025</th>\n",
       "      <td>CCCCNCc1ccc(C(=O)c2ccc(S(N)(=O)=O)s2)cc1</td>\n",
       "      <td>-2.1669</td>\n",
       "      <td>log(mol/L)</td>\n",
       "      <td>Wang et al. collected</td>\n",
       "      <td>Wangetal</td>\n",
       "      <td>NaN</td>\n",
       "      <td>NaN</td>\n",
       "      <td>solubility</td>\n",
       "    </tr>\n",
       "    <tr>\n",
       "      <th>18026</th>\n",
       "      <td>NS(=O)(=O)c1ccc(C(=O)c2ccc(CN3CCOCC3)cc2)s1</td>\n",
       "      <td>-1.4812</td>\n",
       "      <td>log(mol/L)</td>\n",
       "      <td>Wang et al. collected</td>\n",
       "      <td>Wangetal</td>\n",
       "      <td>NaN</td>\n",
       "      <td>NaN</td>\n",
       "      <td>solubility</td>\n",
       "    </tr>\n",
       "    <tr>\n",
       "      <th>18027</th>\n",
       "      <td>CN1CCN(Cc2ccc(C(=O)c3ccc(S(N)(=O)=O)s3)cc2)CC1</td>\n",
       "      <td>-1.8802</td>\n",
       "      <td>log(mol/L)</td>\n",
       "      <td>Wang et al. collected</td>\n",
       "      <td>Wangetal</td>\n",
       "      <td>NaN</td>\n",
       "      <td>NaN</td>\n",
       "      <td>solubility</td>\n",
       "    </tr>\n",
       "    <tr>\n",
       "      <th>18028</th>\n",
       "      <td>CCN(CC)Cc1cc(C(=O)c2ccc(S(N)(=O)=O)s2)ccc1O</td>\n",
       "      <td>-1.0324</td>\n",
       "      <td>log(mol/L)</td>\n",
       "      <td>Wang et al. collected</td>\n",
       "      <td>Wangetal</td>\n",
       "      <td>NaN</td>\n",
       "      <td>NaN</td>\n",
       "      <td>solubility</td>\n",
       "    </tr>\n",
       "  </tbody>\n",
       "</table>\n",
       "<p>18029 rows × 8 columns</p>\n",
       "</div>"
      ],
      "text/plain": [
       "                                                  Smiles      value  \\\n",
       "0        O=C(c1cc(Cc2n[nH]c(=O)c3ccccc23)ccc1F)N1CCCNCC1  5100.0000   \n",
       "1        CCc1ccc(S(=O)(=O)c2ccccc2)cc1S(=O)(=O)NCCCN(C)C    26.0000   \n",
       "2      O=C(Nc1cccc(-c2ccc(OC(F)(F)F)cc2)c1)N[C@@H]1CO...     3.0000   \n",
       "3      Cn1ccnc1Sc1ccc(Nc2c(C#N)cnc3cc(/C=C/CN4CCCC4)c...    20.0000   \n",
       "4      Cn1ccnc1Sc1ccc(Nc2c(C#N)cnc3cc(/C=C/CCO)ccc23)...     1.0000   \n",
       "...                                                  ...        ...   \n",
       "18024      NS(=O)(=O)c1ccc(C(=O)c2ccc(CNCc3ccccc3)cc2)s1    -3.3319   \n",
       "18025           CCCCNCc1ccc(C(=O)c2ccc(S(N)(=O)=O)s2)cc1    -2.1669   \n",
       "18026        NS(=O)(=O)c1ccc(C(=O)c2ccc(CN3CCOCC3)cc2)s1    -1.4812   \n",
       "18027     CN1CCN(Cc2ccc(C(=O)c3ccc(S(N)(=O)=O)s3)cc2)CC1    -1.8802   \n",
       "18028        CCN(CC)Cc1cc(C(=O)c2ccc(S(N)(=O)=O)s2)ccc1O    -1.0324   \n",
       "\n",
       "             unit                    ref    source Temperature   pH  \\\n",
       "0         ug.mL-1          CHEMBL1138134    ChEMBL       other  7.4   \n",
       "1         ug.mL-1          CHEMBL1151763    ChEMBL       other  7.4   \n",
       "2         ug.mL-1          CHEMBL1944507    ChEMBL       other  7.0   \n",
       "3         ug.mL-1          CHEMBL1142456    ChEMBL       other  7.4   \n",
       "4         ug.mL-1          CHEMBL1142456    ChEMBL       other  7.4   \n",
       "...           ...                    ...       ...         ...  ...   \n",
       "18024  log(mol/L)  Wang et al. collected  Wangetal         NaN  NaN   \n",
       "18025  log(mol/L)  Wang et al. collected  Wangetal         NaN  NaN   \n",
       "18026  log(mol/L)  Wang et al. collected  Wangetal         NaN  NaN   \n",
       "18027  log(mol/L)  Wang et al. collected  Wangetal         NaN  NaN   \n",
       "18028  log(mol/L)  Wang et al. collected  Wangetal         NaN  NaN   \n",
       "\n",
       "         property  \n",
       "0      solubility  \n",
       "1      solubility  \n",
       "2      solubility  \n",
       "3      solubility  \n",
       "4      solubility  \n",
       "...           ...  \n",
       "18024  solubility  \n",
       "18025  solubility  \n",
       "18026  solubility  \n",
       "18027  solubility  \n",
       "18028  solubility  \n",
       "\n",
       "[18029 rows x 8 columns]"
      ]
     },
     "execution_count": 80,
     "metadata": {},
     "output_type": "execute_result"
    }
   ],
   "source": [
    "df"
   ]
  },
  {
   "cell_type": "code",
   "execution_count": 81,
   "id": "7f99623b-f093-4324-b523-7d94be6781c8",
   "metadata": {},
   "outputs": [
    {
     "data": {
      "text/html": [
       "<div>\n",
       "<style scoped>\n",
       "    .dataframe tbody tr th:only-of-type {\n",
       "        vertical-align: middle;\n",
       "    }\n",
       "\n",
       "    .dataframe tbody tr th {\n",
       "        vertical-align: top;\n",
       "    }\n",
       "\n",
       "    .dataframe thead th {\n",
       "        text-align: right;\n",
       "    }\n",
       "</style>\n",
       "<table border=\"1\" class=\"dataframe\">\n",
       "  <thead>\n",
       "    <tr style=\"text-align: right;\">\n",
       "      <th></th>\n",
       "      <th>Smiles</th>\n",
       "      <th>value</th>\n",
       "      <th>unit</th>\n",
       "      <th>ref</th>\n",
       "      <th>source</th>\n",
       "      <th>Temperature</th>\n",
       "      <th>pH</th>\n",
       "      <th>property</th>\n",
       "    </tr>\n",
       "  </thead>\n",
       "  <tbody>\n",
       "    <tr>\n",
       "      <th>0</th>\n",
       "      <td>O=C(c1cc(Cc2n[nH]c(=O)c3ccccc23)ccc1F)N1CCCNCC1</td>\n",
       "      <td>5100.0</td>\n",
       "      <td>ug.mL-1</td>\n",
       "      <td>CHEMBL1138134</td>\n",
       "      <td>ChEMBL</td>\n",
       "      <td>other</td>\n",
       "      <td>7.4</td>\n",
       "      <td>solubility</td>\n",
       "    </tr>\n",
       "    <tr>\n",
       "      <th>1</th>\n",
       "      <td>CCc1ccc(S(=O)(=O)c2ccccc2)cc1S(=O)(=O)NCCCN(C)C</td>\n",
       "      <td>26.0</td>\n",
       "      <td>ug.mL-1</td>\n",
       "      <td>CHEMBL1151763</td>\n",
       "      <td>ChEMBL</td>\n",
       "      <td>other</td>\n",
       "      <td>7.4</td>\n",
       "      <td>solubility</td>\n",
       "    </tr>\n",
       "    <tr>\n",
       "      <th>2</th>\n",
       "      <td>O=C(Nc1cccc(-c2ccc(OC(F)(F)F)cc2)c1)N[C@@H]1CO...</td>\n",
       "      <td>3.0</td>\n",
       "      <td>ug.mL-1</td>\n",
       "      <td>CHEMBL1944507</td>\n",
       "      <td>ChEMBL</td>\n",
       "      <td>other</td>\n",
       "      <td>7.0</td>\n",
       "      <td>solubility</td>\n",
       "    </tr>\n",
       "  </tbody>\n",
       "</table>\n",
       "</div>"
      ],
      "text/plain": [
       "                                              Smiles   value     unit  \\\n",
       "0    O=C(c1cc(Cc2n[nH]c(=O)c3ccccc23)ccc1F)N1CCCNCC1  5100.0  ug.mL-1   \n",
       "1    CCc1ccc(S(=O)(=O)c2ccccc2)cc1S(=O)(=O)NCCCN(C)C    26.0  ug.mL-1   \n",
       "2  O=C(Nc1cccc(-c2ccc(OC(F)(F)F)cc2)c1)N[C@@H]1CO...     3.0  ug.mL-1   \n",
       "\n",
       "             ref  source Temperature   pH    property  \n",
       "0  CHEMBL1138134  ChEMBL       other  7.4  solubility  \n",
       "1  CHEMBL1151763  ChEMBL       other  7.4  solubility  \n",
       "2  CHEMBL1944507  ChEMBL       other  7.0  solubility  "
      ]
     },
     "execution_count": 81,
     "metadata": {},
     "output_type": "execute_result"
    }
   ],
   "source": [
    "df.head(3)"
   ]
  },
  {
   "cell_type": "code",
   "execution_count": 82,
   "id": "85059492-bdf5-48fd-b665-a73e59b720d5",
   "metadata": {},
   "outputs": [
    {
     "name": "stderr",
     "output_type": "stream",
     "text": [
      "100%|██████████████████████████████████████| 18029/18029 [00:00<00:00, 18934.71it/s]\n"
     ]
    },
    {
     "name": "stdout",
     "output_type": "stream",
     "text": [
      "SANITIZE_NONE    18029\n",
      "Name: Smiles_check, dtype: int64\n"
     ]
    },
    {
     "name": "stderr",
     "output_type": "stream",
     "text": [
      "100%|█████████████████████████████████████| 18029/18029 [00:00<00:00, 965909.29it/s]\n",
      "18029it [00:17, 1029.93it/s]\n"
     ]
    },
    {
     "name": "stdout",
     "output_type": "stream",
     "text": [
      "Metal in Smiles amount: 50\n"
     ]
    },
    {
     "name": "stderr",
     "output_type": "stream",
     "text": [
      "100%|██████████████████████████████████████| 17979/17979 [00:01<00:00, 16247.59it/s]\n"
     ]
    }
   ],
   "source": [
    "df = process_stage_1(df,'Smiles')"
   ]
  },
  {
   "cell_type": "markdown",
   "id": "80f90ca2-4719-4987-a2e8-b0e05aab500c",
   "metadata": {},
   "source": [
    "# Value unify"
   ]
  },
  {
   "cell_type": "code",
   "execution_count": 83,
   "id": "7f49b99f-824f-4361-a668-bb69e4eb5d75",
   "metadata": {},
   "outputs": [
    {
     "data": {
      "text/plain": [
       "log(mol/L)    15604\n",
       "ug.mL-1        1226\n",
       "nM             1149\n",
       "Name: unit, dtype: int64"
      ]
     },
     "execution_count": 83,
     "metadata": {},
     "output_type": "execute_result"
    }
   ],
   "source": [
    "df['unit'].value_counts(dropna=False)"
   ]
  },
  {
   "cell_type": "code",
   "execution_count": 84,
   "id": "34f1a261-5724-40ba-aea1-c6c4db9547c1",
   "metadata": {},
   "outputs": [],
   "source": [
    "df['MW'] = df['Smiles_unify'].apply(lambda x: Chem.Descriptors.ExactMolWt(Chem.MolFromSmiles(x)))"
   ]
  },
  {
   "cell_type": "code",
   "execution_count": 85,
   "id": "da6af749-2e27-4bcb-9d73-0338c3830ab5",
   "metadata": {},
   "outputs": [],
   "source": [
    "def standardlised_value(x):\n",
    "    value = float(x['value'])\n",
    "    unit = x['unit']\n",
    "    mw = x['MW']\n",
    "    \n",
    "    if unit == 'nM':\n",
    "        return value\n",
    "    elif unit == 'ug.mL-1':\n",
    "        return value/mw*1000000\n",
    "    elif unit == 'log(mol/L)':\n",
    "        return 10**value*1000000000\n",
    "    else:\n",
    "        print(unit)"
   ]
  },
  {
   "cell_type": "code",
   "execution_count": 86,
   "id": "f7bc6ea7-bfeb-4081-8acc-1e63e9534a81",
   "metadata": {},
   "outputs": [],
   "source": [
    "df['value_nM'] = df.apply(standardlised_value,axis=1)"
   ]
  },
  {
   "cell_type": "markdown",
   "id": "f31d40e1-d502-45e0-aaf2-2e01b291f53b",
   "metadata": {},
   "source": [
    "# Filter values"
   ]
  },
  {
   "cell_type": "code",
   "execution_count": 87,
   "id": "1d862f14-3223-44fb-97a3-0adae522f652",
   "metadata": {},
   "outputs": [
    {
     "data": {
      "text/plain": [
       "(17979, 13)"
      ]
     },
     "execution_count": 87,
     "metadata": {},
     "output_type": "execute_result"
    }
   ],
   "source": [
    "df = df[df['value_nM'] != 0]\n",
    "df.shape"
   ]
  },
  {
   "cell_type": "code",
   "execution_count": 88,
   "id": "32ff2a06-652a-4553-87dd-364beb47ded6",
   "metadata": {},
   "outputs": [],
   "source": [
    "df['value_nM_log'] = df['value_nM'].apply(lambda x: round(np.log10(x), 4))"
   ]
  },
  {
   "cell_type": "code",
   "execution_count": 89,
   "id": "3a2b7439-054b-427d-b6c2-1f118c6e0136",
   "metadata": {},
   "outputs": [
    {
     "name": "stdout",
     "output_type": "stream",
     "text": [
      "alldata shape: (17979, 15)\n",
      "AtomCounts shape: (14828, 15)\n"
     ]
    }
   ],
   "source": [
    "df = AtomCounts(df, 'Smiles_unify', 10)"
   ]
  },
  {
   "cell_type": "code",
   "execution_count": 90,
   "id": "43801032-b42b-4a12-a7ce-721bb17e3237",
   "metadata": {},
   "outputs": [
    {
     "data": {
      "text/plain": [
       "(14818, 9)"
      ]
     },
     "execution_count": 90,
     "metadata": {},
     "output_type": "execute_result"
    }
   ],
   "source": [
    "df = df[['Smiles_unify', 'Smiles', 'value_nM', 'value_nM_log', \n",
    "        'ref', 'source', 'Temperature', 'pH', 'property']]\n",
    "df.shape"
   ]
  },
  {
   "cell_type": "code",
   "execution_count": 92,
   "id": "1ff8272f-d5c9-4446-a18a-c2abec120aca",
   "metadata": {},
   "outputs": [],
   "source": [
    "df.to_csv('../data/data_processing_result/solubility_preprocessing_finished.csv',index=False)"
   ]
  },
  {
   "cell_type": "code",
   "execution_count": 93,
   "id": "97e7b814-e0e3-40a9-9a7d-79213e0b42fd",
   "metadata": {},
   "outputs": [
    {
     "data": {
      "text/html": [
       "<div>\n",
       "<style scoped>\n",
       "    .dataframe tbody tr th:only-of-type {\n",
       "        vertical-align: middle;\n",
       "    }\n",
       "\n",
       "    .dataframe tbody tr th {\n",
       "        vertical-align: top;\n",
       "    }\n",
       "\n",
       "    .dataframe thead th {\n",
       "        text-align: right;\n",
       "    }\n",
       "</style>\n",
       "<table border=\"1\" class=\"dataframe\">\n",
       "  <thead>\n",
       "    <tr style=\"text-align: right;\">\n",
       "      <th></th>\n",
       "      <th>Smiles_unify</th>\n",
       "      <th>Smiles</th>\n",
       "      <th>value_nM</th>\n",
       "      <th>value_nM_log</th>\n",
       "      <th>ref</th>\n",
       "      <th>source</th>\n",
       "      <th>Temperature</th>\n",
       "      <th>pH</th>\n",
       "      <th>property</th>\n",
       "    </tr>\n",
       "  </thead>\n",
       "  <tbody>\n",
       "    <tr>\n",
       "      <th>0</th>\n",
       "      <td>O=C(c1cc(Cc2n[nH]c(=O)c3ccccc23)ccc1F)N1CCCNCC1</td>\n",
       "      <td>O=C(c1cc(Cc2n[nH]c(=O)c3ccccc23)ccc1F)N1CCCNCC1</td>\n",
       "      <td>1.341523e+07</td>\n",
       "      <td>7.1276</td>\n",
       "      <td>CHEMBL1138134</td>\n",
       "      <td>ChEMBL</td>\n",
       "      <td>other</td>\n",
       "      <td>7.4</td>\n",
       "      <td>solubility</td>\n",
       "    </tr>\n",
       "    <tr>\n",
       "      <th>1</th>\n",
       "      <td>CCc1ccc(S(=O)(=O)c2ccccc2)cc1S(=O)(=O)NCCCN(C)C</td>\n",
       "      <td>CCc1ccc(S(=O)(=O)c2ccccc2)cc1S(=O)(=O)NCCCN(C)C</td>\n",
       "      <td>6.339401e+04</td>\n",
       "      <td>4.8020</td>\n",
       "      <td>CHEMBL1151763</td>\n",
       "      <td>ChEMBL</td>\n",
       "      <td>other</td>\n",
       "      <td>7.4</td>\n",
       "      <td>solubility</td>\n",
       "    </tr>\n",
       "    <tr>\n",
       "      <th>2</th>\n",
       "      <td>O=C(Nc1cccc(-c2ccc(OC(F)(F)F)cc2)c1)N[C@@H]1CO...</td>\n",
       "      <td>O=C(Nc1cccc(-c2ccc(OC(F)(F)F)cc2)c1)N[C@@H]1CO...</td>\n",
       "      <td>6.477938e+03</td>\n",
       "      <td>3.8114</td>\n",
       "      <td>CHEMBL1944507</td>\n",
       "      <td>ChEMBL</td>\n",
       "      <td>other</td>\n",
       "      <td>7.0</td>\n",
       "      <td>solubility</td>\n",
       "    </tr>\n",
       "    <tr>\n",
       "      <th>3</th>\n",
       "      <td>Cn1ccnc1Sc1ccc(Nc2c(C#N)cnc3cc(/C=C/CN4CCCC4)c...</td>\n",
       "      <td>Cn1ccnc1Sc1ccc(Nc2c(C#N)cnc3cc(/C=C/CN4CCCC4)c...</td>\n",
       "      <td>3.998760e+04</td>\n",
       "      <td>4.6019</td>\n",
       "      <td>CHEMBL1142456</td>\n",
       "      <td>ChEMBL</td>\n",
       "      <td>other</td>\n",
       "      <td>7.4</td>\n",
       "      <td>solubility</td>\n",
       "    </tr>\n",
       "    <tr>\n",
       "      <th>4</th>\n",
       "      <td>Cn1ccnc1Sc1ccc(Nc2c(C#N)cnc3cc(/C=C/CCO)ccc23)...</td>\n",
       "      <td>Cn1ccnc1Sc1ccc(Nc2c(C#N)cnc3cc(/C=C/CCO)ccc23)...</td>\n",
       "      <td>2.168691e+03</td>\n",
       "      <td>3.3362</td>\n",
       "      <td>CHEMBL1142456</td>\n",
       "      <td>ChEMBL</td>\n",
       "      <td>other</td>\n",
       "      <td>7.4</td>\n",
       "      <td>solubility</td>\n",
       "    </tr>\n",
       "    <tr>\n",
       "      <th>...</th>\n",
       "      <td>...</td>\n",
       "      <td>...</td>\n",
       "      <td>...</td>\n",
       "      <td>...</td>\n",
       "      <td>...</td>\n",
       "      <td>...</td>\n",
       "      <td>...</td>\n",
       "      <td>...</td>\n",
       "      <td>...</td>\n",
       "    </tr>\n",
       "    <tr>\n",
       "      <th>18024</th>\n",
       "      <td>NS(=O)(=O)c1ccc(C(=O)c2ccc(CNCc3ccccc3)cc2)s1</td>\n",
       "      <td>NS(=O)(=O)c1ccc(C(=O)c2ccc(CNCc3ccccc3)cc2)s1</td>\n",
       "      <td>4.656933e+05</td>\n",
       "      <td>5.6681</td>\n",
       "      <td>Wang et al. collected</td>\n",
       "      <td>Wangetal</td>\n",
       "      <td>NaN</td>\n",
       "      <td>NaN</td>\n",
       "      <td>solubility</td>\n",
       "    </tr>\n",
       "    <tr>\n",
       "      <th>18025</th>\n",
       "      <td>CCCCNCc1ccc(C(=O)c2ccc(S(N)(=O)=O)s2)cc1</td>\n",
       "      <td>CCCCNCc1ccc(C(=O)c2ccc(S(N)(=O)=O)s2)cc1</td>\n",
       "      <td>6.809261e+06</td>\n",
       "      <td>6.8331</td>\n",
       "      <td>Wang et al. collected</td>\n",
       "      <td>Wangetal</td>\n",
       "      <td>NaN</td>\n",
       "      <td>NaN</td>\n",
       "      <td>solubility</td>\n",
       "    </tr>\n",
       "    <tr>\n",
       "      <th>18026</th>\n",
       "      <td>NS(=O)(=O)c1ccc(C(=O)c2ccc(CN3CCOCC3)cc2)s1</td>\n",
       "      <td>NS(=O)(=O)c1ccc(C(=O)c2ccc(CN3CCOCC3)cc2)s1</td>\n",
       "      <td>3.302174e+07</td>\n",
       "      <td>7.5188</td>\n",
       "      <td>Wang et al. collected</td>\n",
       "      <td>Wangetal</td>\n",
       "      <td>NaN</td>\n",
       "      <td>NaN</td>\n",
       "      <td>solubility</td>\n",
       "    </tr>\n",
       "    <tr>\n",
       "      <th>18027</th>\n",
       "      <td>CN1CCN(Cc2ccc(C(=O)c3ccc(S(N)(=O)=O)s3)cc2)CC1</td>\n",
       "      <td>CN1CCN(Cc2ccc(C(=O)c3ccc(S(N)(=O)=O)s3)cc2)CC1</td>\n",
       "      <td>1.317650e+07</td>\n",
       "      <td>7.1198</td>\n",
       "      <td>Wang et al. collected</td>\n",
       "      <td>Wangetal</td>\n",
       "      <td>NaN</td>\n",
       "      <td>NaN</td>\n",
       "      <td>solubility</td>\n",
       "    </tr>\n",
       "    <tr>\n",
       "      <th>18028</th>\n",
       "      <td>CCN(CC)Cc1cc(C(=O)c2ccc(S(N)(=O)=O)s2)ccc1O</td>\n",
       "      <td>CCN(CC)Cc1cc(C(=O)c2ccc(S(N)(=O)=O)s2)ccc1O</td>\n",
       "      <td>9.281112e+07</td>\n",
       "      <td>7.9676</td>\n",
       "      <td>Wang et al. collected</td>\n",
       "      <td>Wangetal</td>\n",
       "      <td>NaN</td>\n",
       "      <td>NaN</td>\n",
       "      <td>solubility</td>\n",
       "    </tr>\n",
       "  </tbody>\n",
       "</table>\n",
       "<p>14818 rows × 9 columns</p>\n",
       "</div>"
      ],
      "text/plain": [
       "                                            Smiles_unify  \\\n",
       "0        O=C(c1cc(Cc2n[nH]c(=O)c3ccccc23)ccc1F)N1CCCNCC1   \n",
       "1        CCc1ccc(S(=O)(=O)c2ccccc2)cc1S(=O)(=O)NCCCN(C)C   \n",
       "2      O=C(Nc1cccc(-c2ccc(OC(F)(F)F)cc2)c1)N[C@@H]1CO...   \n",
       "3      Cn1ccnc1Sc1ccc(Nc2c(C#N)cnc3cc(/C=C/CN4CCCC4)c...   \n",
       "4      Cn1ccnc1Sc1ccc(Nc2c(C#N)cnc3cc(/C=C/CCO)ccc23)...   \n",
       "...                                                  ...   \n",
       "18024      NS(=O)(=O)c1ccc(C(=O)c2ccc(CNCc3ccccc3)cc2)s1   \n",
       "18025           CCCCNCc1ccc(C(=O)c2ccc(S(N)(=O)=O)s2)cc1   \n",
       "18026        NS(=O)(=O)c1ccc(C(=O)c2ccc(CN3CCOCC3)cc2)s1   \n",
       "18027     CN1CCN(Cc2ccc(C(=O)c3ccc(S(N)(=O)=O)s3)cc2)CC1   \n",
       "18028        CCN(CC)Cc1cc(C(=O)c2ccc(S(N)(=O)=O)s2)ccc1O   \n",
       "\n",
       "                                                  Smiles      value_nM  \\\n",
       "0        O=C(c1cc(Cc2n[nH]c(=O)c3ccccc23)ccc1F)N1CCCNCC1  1.341523e+07   \n",
       "1        CCc1ccc(S(=O)(=O)c2ccccc2)cc1S(=O)(=O)NCCCN(C)C  6.339401e+04   \n",
       "2      O=C(Nc1cccc(-c2ccc(OC(F)(F)F)cc2)c1)N[C@@H]1CO...  6.477938e+03   \n",
       "3      Cn1ccnc1Sc1ccc(Nc2c(C#N)cnc3cc(/C=C/CN4CCCC4)c...  3.998760e+04   \n",
       "4      Cn1ccnc1Sc1ccc(Nc2c(C#N)cnc3cc(/C=C/CCO)ccc23)...  2.168691e+03   \n",
       "...                                                  ...           ...   \n",
       "18024      NS(=O)(=O)c1ccc(C(=O)c2ccc(CNCc3ccccc3)cc2)s1  4.656933e+05   \n",
       "18025           CCCCNCc1ccc(C(=O)c2ccc(S(N)(=O)=O)s2)cc1  6.809261e+06   \n",
       "18026        NS(=O)(=O)c1ccc(C(=O)c2ccc(CN3CCOCC3)cc2)s1  3.302174e+07   \n",
       "18027     CN1CCN(Cc2ccc(C(=O)c3ccc(S(N)(=O)=O)s3)cc2)CC1  1.317650e+07   \n",
       "18028        CCN(CC)Cc1cc(C(=O)c2ccc(S(N)(=O)=O)s2)ccc1O  9.281112e+07   \n",
       "\n",
       "       value_nM_log                    ref    source Temperature   pH  \\\n",
       "0            7.1276          CHEMBL1138134    ChEMBL       other  7.4   \n",
       "1            4.8020          CHEMBL1151763    ChEMBL       other  7.4   \n",
       "2            3.8114          CHEMBL1944507    ChEMBL       other  7.0   \n",
       "3            4.6019          CHEMBL1142456    ChEMBL       other  7.4   \n",
       "4            3.3362          CHEMBL1142456    ChEMBL       other  7.4   \n",
       "...             ...                    ...       ...         ...  ...   \n",
       "18024        5.6681  Wang et al. collected  Wangetal         NaN  NaN   \n",
       "18025        6.8331  Wang et al. collected  Wangetal         NaN  NaN   \n",
       "18026        7.5188  Wang et al. collected  Wangetal         NaN  NaN   \n",
       "18027        7.1198  Wang et al. collected  Wangetal         NaN  NaN   \n",
       "18028        7.9676  Wang et al. collected  Wangetal         NaN  NaN   \n",
       "\n",
       "         property  \n",
       "0      solubility  \n",
       "1      solubility  \n",
       "2      solubility  \n",
       "3      solubility  \n",
       "4      solubility  \n",
       "...           ...  \n",
       "18024  solubility  \n",
       "18025  solubility  \n",
       "18026  solubility  \n",
       "18027  solubility  \n",
       "18028  solubility  \n",
       "\n",
       "[14818 rows x 9 columns]"
      ]
     },
     "execution_count": 93,
     "metadata": {},
     "output_type": "execute_result"
    }
   ],
   "source": [
    "df"
   ]
  },
  {
   "cell_type": "code",
   "execution_count": null,
   "id": "1cfebb3a",
   "metadata": {},
   "outputs": [],
   "source": []
  }
 ],
 "metadata": {
  "kernelspec": {
   "display_name": "Python 3 (ipykernel)",
   "language": "python",
   "name": "python3"
  },
  "language_info": {
   "codemirror_mode": {
    "name": "ipython",
    "version": 3
   },
   "file_extension": ".py",
   "mimetype": "text/x-python",
   "name": "python",
   "nbconvert_exporter": "python",
   "pygments_lexer": "ipython3",
   "version": "3.9.6"
  },
  "toc-autonumbering": false,
  "toc-showmarkdowntxt": false
 },
 "nbformat": 4,
 "nbformat_minor": 5
}
