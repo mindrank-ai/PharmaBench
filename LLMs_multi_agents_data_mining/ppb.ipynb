{
 "cells": [
  {
   "cell_type": "code",
   "execution_count": null,
   "id": "01c802b6",
   "metadata": {},
   "outputs": [],
   "source": [
    "\n",
    "import openai\n",
    "from tqdm.notebook import tqdm\n",
    "import pandas as pd\n",
    "import os\n",
    "from IPython.display import display, Markdown\n",
    "import pickle as pkl\n",
    "pd.set_option('display.max_columns', 60)\n",
    "import time\n",
    "\n",
    "from datamining_utils import chatGPT_check_replay,chatGPT_replay,load_api_key_from_file,extract_code_script_from_markdown,find_dictionaries_in_string\n",
    "\n",
    "%load_ext autoreload\n",
    "%autoreload 2\n"
   ]
  },
  {
   "cell_type": "code",
   "execution_count": null,
   "id": "d42a20f2",
   "metadata": {},
   "outputs": [],
   "source": [
    "\n",
    "# Usage\n",
    "api_key = load_api_key_from_file()\n",
    "from openai import OpenAI\n",
    "client = OpenAI(api_key = api_key)"
   ]
  },
  {
   "cell_type": "markdown",
   "id": "1a34ae87",
   "metadata": {},
   "source": [
    "# Key Word Agent"
   ]
  },
  {
   "cell_type": "code",
   "execution_count": null,
   "id": "6a09b420",
   "metadata": {},
   "outputs": [],
   "source": [
    "prop = 'Plasma_Protein_Binding'"
   ]
  },
  {
   "cell_type": "code",
   "execution_count": null,
   "id": "72fb1d74",
   "metadata": {},
   "outputs": [],
   "source": [
    "assistant = client.beta.assistants.create(name=f'{prop} knowledge generation chatbot',\n",
    "  instructions=f\"Please summarize the ADME-T related important experimental conditions\",\n",
    "  model=\"gpt-4-1106-preview\",\n",
    ")   "
   ]
  },
  {
   "cell_type": "code",
   "execution_count": null,
   "id": "51e491b5",
   "metadata": {
    "scrolled": true
   },
   "outputs": [],
   "source": [
    "assistant.id"
   ]
  },
  {
   "cell_type": "code",
   "execution_count": null,
   "id": "a32de2bc",
   "metadata": {},
   "outputs": [],
   "source": [
    "thread = client.beta.threads.create(\n",
    "  messages=[\n",
    "    {\n",
    "      \"role\": \"user\",\n",
    "      \"content\": \"summarise the key experimental conditions within the given experiments\",\n",
    "      \"file_ids\": assistant.file_ids\n",
    "    }\n",
    "  ]\n",
    ")"
   ]
  },
  {
   "cell_type": "code",
   "execution_count": null,
   "id": "5affc311",
   "metadata": {},
   "outputs": [],
   "source": [
    "thread.id"
   ]
  },
  {
   "cell_type": "markdown",
   "id": "2dd91d59",
   "metadata": {},
   "source": [
    "### summarize the important experimental conditions"
   ]
  },
  {
   "cell_type": "code",
   "execution_count": null,
   "id": "3b6f7756",
   "metadata": {},
   "outputs": [],
   "source": [
    "df = pd.read_csv('../data/raw_data/ppb/chembl_ppb_raw_data.csv')\n",
    "df = df.drop_duplicates('Assay Description')\n",
    "condition = ' \\n '.join(df['Assay Description'][0:50])"
   ]
  },
  {
   "cell_type": "code",
   "execution_count": null,
   "id": "0a299f31",
   "metadata": {},
   "outputs": [],
   "source": [
    "mes = f\"\"\"\n",
    "Please summarize the key experimental conditions for experiments related to {prop} within the {condition}\n",
    "\n",
    "\n",
    "Please analyze the document and return a list of the top five most frequently mentioned experimental condition categories. These should be summarized under broad categories, such as pH levels, temperature ranges, or other relevant general conditions, rather than specific values or detailed conditions. Present this information in a Python list format.\n",
    "\n",
    "Each entry in the list should represent a unique category of experimental conditions. Avoid duplicating similar conditions and focus on capturing the overarching categories that these conditions fall under.\n",
    "\n",
    "Example output:\n",
    "```python\n",
    "['pH Level', 'Temperature Range', 'Light Exposure']\n",
    "```\n",
    "\n",
    "Ensure that the list is comprehensive, covering all major categories of experimental conditions mentioned in the document.\n",
    "\"\"\""
   ]
  },
  {
   "cell_type": "code",
   "execution_count": null,
   "id": "51203c1d",
   "metadata": {},
   "outputs": [],
   "source": [
    "chatGPT_replay(client,thread.id, assistant, question_content=mes)"
   ]
  },
  {
   "cell_type": "code",
   "execution_count": null,
   "id": "d68eb989",
   "metadata": {},
   "outputs": [],
   "source": [
    "# time.sleep(3)\n",
    "chatGPT_check_replay(client,thread)\n",
    "\n",
    "thread_messages = client.beta.threads.messages.list(thread.id)\n",
    "answer = extract_code_script_from_markdown(thread_messages.data[0].content[0].text.value)[0]\n",
    "experimental_conditions = eval(answer)\n",
    "experimental_conditions"
   ]
  },
  {
   "cell_type": "code",
   "execution_count": null,
   "id": "64ca1e94",
   "metadata": {},
   "outputs": [],
   "source": [
    "experimental_conditions = ['Species/Origin of Plasma or Serum',\n",
    " 'Concentration of Tested Compound',\n",
    " 'Duration of Incubation',\n",
    " 'Analytical Detection Method',\n",
    " 'Equilibrium Dialysis for Protein Binding Assessment']"
   ]
  },
  {
   "cell_type": "code",
   "execution_count": null,
   "id": "2555d2e8",
   "metadata": {},
   "outputs": [],
   "source": [
    "with open(f'../data/data_mining_results/{prop}/{prop}_experimental_conditions_summaried_by_LLMs.pkl','wb') as f:\n",
    "    pkl.dump(experimental_conditions,f)"
   ]
  },
  {
   "cell_type": "markdown",
   "id": "8f7d149b",
   "metadata": {},
   "source": [
    "# Example Agent"
   ]
  },
  {
   "cell_type": "code",
   "execution_count": null,
   "id": "1edde1fc",
   "metadata": {},
   "outputs": [],
   "source": [
    "with open(f'../data/data_mining_results/{prop}/{prop}_experimental_conditions_summaried_by_LLMs.pkl','rb') as f:\n",
    "    experimental_conditions = pkl.load(f)"
   ]
  },
  {
   "cell_type": "code",
   "execution_count": null,
   "id": "3f07d099",
   "metadata": {},
   "outputs": [],
   "source": [
    "assistant = client.beta.assistants.create(name=f'{prop} Data Mining chatbot',\n",
    "  instructions=f\"Please mining the key biomedical information within the given data\",\n",
    "  model=\"gpt-4-1106-preview\",\n",
    ")   "
   ]
  },
  {
   "cell_type": "code",
   "execution_count": null,
   "id": "5c1844d3",
   "metadata": {
    "scrolled": true
   },
   "outputs": [],
   "source": [
    "assistant.id"
   ]
  },
  {
   "cell_type": "code",
   "execution_count": null,
   "id": "bb4de378",
   "metadata": {},
   "outputs": [],
   "source": [
    "mes = \"\"\"\n",
    "Biomedical data mining task.\n",
    "\n",
    "Return python dictionary with key including index, original sentence, {}, and whether is {} experiment or not \n",
    "Fill in none if no information given. \n",
    "Please include all the sentences\n",
    "\n",
    "\"\"\".format(', '.join(experimental_conditions),prop)"
   ]
  },
  {
   "cell_type": "code",
   "execution_count": null,
   "id": "287c6dc7",
   "metadata": {},
   "outputs": [],
   "source": [
    "thread = client.beta.threads.create(\n",
    "  messages=[\n",
    "    {\n",
    "      \"role\": \"user\",\n",
    "      \"content\": mes,\n",
    "      \"file_ids\": assistant.file_ids\n",
    "    }\n",
    "  ]\n",
    ")"
   ]
  },
  {
   "cell_type": "code",
   "execution_count": null,
   "id": "59801037",
   "metadata": {},
   "outputs": [],
   "source": [
    "thread.id"
   ]
  },
  {
   "cell_type": "code",
   "execution_count": null,
   "id": "8cff56a5",
   "metadata": {},
   "outputs": [],
   "source": [
    "df = pd.read_csv('../data/raw_data/ppb/chembl_ppb_raw_data.csv')\n"
   ]
  },
  {
   "cell_type": "code",
   "execution_count": null,
   "id": "de9471d1",
   "metadata": {
    "scrolled": false
   },
   "outputs": [],
   "source": [
    "result = pd.DataFrame()\n",
    "for i in tqdm(range(0,40,20)):\n",
    "    info = ' \\n '.join(df['Assay Description'].value_counts().keys()[i:i+20]\n",
    "    \n",
    "    chatGPT_replay(client,thread.id, assistant, question_content=info)\n",
    "    time.sleep(3)\n",
    "    runs = client.beta.threads.runs.list(\n",
    "          thread.id)\n",
    "    \n",
    "    while runs.data[0].status != 'completed':\n",
    "        time.sleep(3)\n",
    "        runs = client.beta.threads.runs.list(\n",
    "          thread.id\n",
    "        )\n",
    "    \n",
    "    thread_messages = client.beta.threads.messages.list(thread.id)\n",
    "    answer = extract_code_script_from_markdown(thread_messages.data[0].content[0].text.value)[0]\n",
    "    answer = pd.DataFrame(find_dictionaries_in_string(answer))\n",
    "    \n",
    "\n",
    "    display(pd.DataFrame(answer))\n",
    "    result = pd.concat([result,pd.DataFrame(answer)])"
   ]
  },
  {
   "cell_type": "code",
   "execution_count": null,
   "id": "79cffc63",
   "metadata": {},
   "outputs": [],
   "source": [
    "result.to_csv(f'../data/data_mining_results/{prop}/example_{prop}.csv',index=False)"
   ]
  },
  {
   "cell_type": "markdown",
   "id": "54fb0dfd",
   "metadata": {},
   "source": [
    "# Manul Validate and Create Full Promt with two shot Examples"
   ]
  },
  {
   "cell_type": "code",
   "execution_count": null,
   "id": "c9520e5e",
   "metadata": {},
   "outputs": [],
   "source": [
    "examples = pd.read_csv(f'../data/data_mining_results/{prop}/example_{prop}_manuel_validated.csv')"
   ]
  },
  {
   "cell_type": "code",
   "execution_count": null,
   "id": "594cddad",
   "metadata": {},
   "outputs": [],
   "source": [
    "tmp = examples[0:20]\n",
    "\n",
    "' \\n '.join(tmp[ 'original sentence'].values)"
   ]
  },
  {
   "cell_type": "code",
   "execution_count": null,
   "id": "e92b94c2",
   "metadata": {},
   "outputs": [],
   "source": [
    "str(tmp.to_dict(orient='list'))"
   ]
  },
  {
   "cell_type": "code",
   "execution_count": null,
   "id": "b5f0c00b",
   "metadata": {},
   "outputs": [],
   "source": [
    "tmp = examples[20::]\n",
    "\n",
    "' \\n '.join(tmp[ 'original sentence'].values)"
   ]
  },
  {
   "cell_type": "code",
   "execution_count": null,
   "id": "65b63155",
   "metadata": {},
   "outputs": [],
   "source": [
    "str(tmp.to_dict(orient='list'))"
   ]
  },
  {
   "cell_type": "markdown",
   "id": "f40598ba",
   "metadata": {},
   "source": [
    "\n",
    "\n",
    "f\"\"\"\n",
    "Biomedical data mining task.\n",
    "\n",
    "Return python dictionary with key including index, original sentence, {experimental_conditions_list}, and whether is {prop} experiment or not \n",
    "Fill in none if no information given. \n",
    "Please don't ignore some sentences.\n",
    "\n",
    "Example 1 \n",
    "Input: 'Protein binding in human plasma \\n Plasma protein binding in human \\n Protein binding in mouse plasma \\n Protein binding in rat plasma \\n Plasma protein binding in rat \\n Plasma protein binding in mouse \\n Protein binding in plasma (unknown origin) \\n Protein binding in human plasma after 18 hrs by LC/MS/MS based rapid equilibrium dialysis method \\n Protein binding in human plasma at 5 uM incubated for 5 hrs by rapid equilibrium dialysis \\n Protein binding in rat plasma at 200 to 1000 ng/ml measured after 15 mins by UC-LC/MS/MS analysis \\n The protein binding is expressed as percent bound as determined by VolSurf \\n Protein binding in human plasma after 18 hrs by rapid equilibrium dialysis method \\n Protein binding in dog plasma \\n Percentage binding to plasma protein. \\n Plasma protein binding in dog \\n Plasma protein binding in mouse assessed as unbound fraction \\n Protein binding in human plasma at 10 uM after 4 hrs by RF-MS analysis \\n Protein binding in human plasma assessed as bound fraction \\n Protein binding in human serum at 1 ug/ml incubated for 4 hrs by LC-MS/MS analysis \\n Plasma protein binding in human assessed as unbound fraction'\n",
    "\n",
    "Output:\n",
    "```python\\n{{'index': [1, 2, 3, 4, 5, 6, 7, 8, 9, 10, 11, 12, 13, 14, 15, 16, 17, 18, 19, 20], 'original sentence': ['Protein binding in human plasma', 'Plasma protein binding in human', 'Protein binding in mouse plasma', 'Protein binding in rat plasma', 'Plasma protein binding in rat', 'Plasma protein binding in mouse', 'Protein binding in plasma (unknown origin)', 'Protein binding in human plasma after 18 hrs by LC/MS/MS based rapid equilibrium dialysis method', 'Protein binding in human plasma at 5 uM incubated for 5 hrs by rapid equilibrium dialysis', 'Protein binding in rat plasma at 200 to 1000 ng/ml measured after 15 mins by UC-LC/MS/MS analysis', 'The protein binding is expressed as percent bound as determined by VolSurf', 'Protein binding in human plasma after 18 hrs by rapid equilibrium dialysis method', 'Protein binding in dog plasma', 'Percentage binding to plasma protein.', 'Plasma protein binding in dog', 'Plasma protein binding in mouse assessed as unbound fraction', 'Protein binding in human plasma at 10 uM after 4 hrs by RF-MS analysis', 'Protein binding in human plasma assessed as bound fraction', 'Protein binding in human serum at 1 ug/ml incubated for 4 hrs by LC-MS/MS analysis', 'Plasma protein binding in human assessed as unbound fraction'], 'Species/Origin of Plasma or Serum': ['Human', 'Human', 'Mouse', 'Rat', 'Rat', 'Mouse', nan, 'Human', 'Human', 'Rat', nan, 'Human', 'Dog', nan, 'Dog', 'Mouse', 'Human', 'Human', 'Human', 'Human'], 'Concentration of Tested Compound': [nan, nan, nan, nan, nan, nan, nan, nan, '5 uM', '200 to 1000 ng/ml', nan, nan, nan, nan, nan, nan, '10 uM', nan, '1 ug/ml', nan], 'Duration of Incubation': [nan, nan, nan, nan, nan, nan, nan, '18 hrs', '5 hrs', '15 mins', nan, '18 hrs', nan, nan, nan, nan, '4 hrs', nan, '4 hrs', nan], 'Analytical Detection Method': [nan, nan, nan, nan, nan, nan, nan, 'LC/MS/MS', nan, 'UC-LC/MS/MS', 'VolSurf', nan, nan, nan, nan, nan, 'RF-MS', nan, 'LC-MS/MS', nan], 'Equilibrium Dialysis for Protein Binding Assessment': [nan, nan, nan, nan, nan, nan, nan, 'Rapid Equilibrium Dialysis', 'Rapid Equilibrium Dialysis', nan, nan, 'Rapid Equilibrium Dialysis', nan, nan, nan, nan, nan, nan, nan, nan], 'Plasma_Protein_Binding': [True, True, True, True, True, True, True, True, True, True, False, True, True, False, True, True, True, True, True, True]}}\\n```\n",
    "\n",
    "Example 2\n",
    "Input: 'Protein binding in mouse plasma assessed as bound fraction \\n Protein binding in ICR mouse serum at 1 ug/ml incubated for 4 hrs by LC-MS/MS analysis \\n Protein binding in mouse plasma by dialysis method \\n Plasma protein binding in human incubated for 30 mins by HPLC-MS analysis \\n Protein binding in human plasma by LC-MS/MS based equilibrium analysis \\n Protein binding in human plasma by dialysis method \\n Protein binding in rat plasma assessed as bound fraction \\n Protein binding in mouse serum assessed as fraction unbound \\n Plasma protein binding in CD-1 mouse incubated for 30 mins by HPLC-MS analysis \\n Plasma protein binding in rat incubated for 24 hrs by LC-MS/MS analysis \\n Plasma protein binding in human at 5 uM by HPLC analysis \\n Plasma protein binding in rat at 1 uM \\n Protein binding in mouse plasma at 5 uM incubated for 5 hrs by rapid equilibrium dialysis based LC-MS/MS analysis \\n Plasma protein binding in human incubated for 24 hrs by LC-MS/MS analysis \\n Protein binding in human plasma at 1 uM \\n Protein binding in human plasma measured after 4 hrs by LC-MS/MS analysis \\n Plasma protein binding in human at 5 uM measured after 4 hrs by LC-MS/MS analysis \\n Protein binding in human plasma at 1 uM by LC-MS/MS analysis \\n Protein binding in mouse plasma at 2 uM by equilibrium dialysis relative to control \\n Protein binding in human plasma at 2 uM by equilibrium dialysis relative to control'\n",
    "\n",
    "Output:\n",
    "```python\\n{{'index': [21, 22, 23, 24, 25, 26, 27, 28, 29, 30, 31, 32, 33, 34, 35, 36, 37, 38, 39, 40], 'original sentence': ['Protein binding in mouse plasma assessed as bound fraction', 'Protein binding in ICR mouse serum at 1 ug/ml incubated for 4 hrs by LC-MS/MS analysis', 'Protein binding in mouse plasma by dialysis method', 'Plasma protein binding in human incubated for 30 mins by HPLC-MS analysis', 'Protein binding in human plasma by LC-MS/MS based equilibrium analysis', 'Protein binding in human plasma by dialysis method', 'Protein binding in rat plasma assessed as bound fraction', 'Protein binding in mouse serum assessed as fraction unbound', 'Plasma protein binding in CD-1 mouse incubated for 30 mins by HPLC-MS analysis', 'Plasma protein binding in rat incubated for 24 hrs by LC-MS/MS analysis', 'Plasma protein binding in human at 5 uM by HPLC analysis', 'Plasma protein binding in rat at 1 uM', 'Protein binding in mouse plasma at 5 uM incubated for 5 hrs by rapid equilibrium dialysis based LC-MS/MS analysis', 'Plasma protein binding in human incubated for 24 hrs by LC-MS/MS analysis', 'Protein binding in human plasma at 1 uM', 'Protein binding in human plasma measured after 4 hrs by LC-MS/MS analysis', 'Plasma protein binding in human at 5 uM measured after 4 hrs by LC-MS/MS analysis', 'Protein binding in human plasma at 1 uM by LC-MS/MS analysis', 'Protein binding in mouse plasma at 2 uM by equilibrium dialysis relative to control', 'Protein binding in human plasma at 2 uM by equilibrium dialysis relative to control'], 'Species/Origin of Plasma or Serum': ['Mouse', 'Mouse', 'Mouse', 'Human', 'Human', 'Human', 'Rat', 'Mouse', 'Mouse', 'Rat', 'Human', 'Rat', 'Mouse', 'Human', 'Human', 'Human', 'Human', 'Human', 'Mouse', 'Human'], 'Concentration of Tested Compound': [nan, '1 ug/ml', nan, nan, nan, nan, nan, nan, nan, nan, '5 uM', '1 uM', '5 uM', nan, '1 uM', nan, '5 uM', '1 uM', '2 uM', '2 uM'], 'Duration of Incubation': [nan, '4 hrs', nan, '30 mins', nan, nan, nan, nan, '30 mins', '24 hrs', nan, nan, '5 hrs', '24 hrs', nan, '4 hrs', '4 hrs', nan, nan, nan], 'Analytical Detection Method': [nan, 'LC-MS/MS', nan, 'HPLC-MS', 'LC-MS/MS', nan, nan, nan, 'HPLC-MS', 'LC-MS/MS', 'HPLC', nan, 'LC-MS/MS', 'LC-MS/MS', nan, 'LC-MS/MS', 'LC-MS/MS', 'LC-MS/MS', nan, nan], 'Equilibrium Dialysis for Protein Binding Assessment': [nan, nan, 'Dialysis', nan, 'Equilibrium Analysis', 'Dialysis', nan, nan, nan, nan, nan, nan, 'Rapid Equilibrium Dialysis', nan, nan, nan, nan, nan, 'Equilibrium Dialysis', 'Equilibrium Dialysis'], 'Plasma_Protein_Binding': [True, True, True, True, True, True, True, True, True, True, True, True, True, True, True, True, True, True, True, True]}}\\n```\n",
    "\n",
    "\"\"\""
   ]
  },
  {
   "cell_type": "markdown",
   "id": "603fabe5",
   "metadata": {},
   "source": [
    "# Data Mining Agent"
   ]
  },
  {
   "cell_type": "markdown",
   "id": "0e3f6747",
   "metadata": {},
   "source": [
    "### Load data "
   ]
  },
  {
   "cell_type": "code",
   "execution_count": null,
   "id": "22f22499",
   "metadata": {},
   "outputs": [],
   "source": [
    "df = pd.read_csv('../data/raw_data/ppb/chembl_ppb_raw_data.csv')\n",
    "assay_description = df['Assay Description'].value_counts().keys()"
   ]
  },
  {
   "cell_type": "markdown",
   "id": "16334371",
   "metadata": {},
   "source": [
    "### Create agent"
   ]
  },
  {
   "cell_type": "code",
   "execution_count": null,
   "id": "863c6c65",
   "metadata": {},
   "outputs": [],
   "source": [
    "assistant = client.beta.assistants.create(name='Data Mining chatbot',\n",
    "  instructions=f\"Please mining the key biomedical information within the given data\",\n",
    "  model=\"gpt-4-1106-preview\",\n",
    ")   "
   ]
  },
  {
   "cell_type": "code",
   "execution_count": null,
   "id": "e3fd53fc",
   "metadata": {
    "scrolled": false
   },
   "outputs": [],
   "source": [
    "assistant.id"
   ]
  },
  {
   "cell_type": "code",
   "execution_count": null,
   "id": "34b251d1",
   "metadata": {},
   "outputs": [],
   "source": [
    "experimental_conditions_list = ['Species/Origin of Plasma or Serum',\n",
    " 'Concentration of Tested Compound',\n",
    " 'Duration of Incubation',\n",
    " 'Analytical Detection Method',\n",
    " 'Equilibrium Dialysis for Protein Binding Assessment']\n",
    "\n",
    "experimental_conditions_list = ', '.join(experimental_conditions_list)\n",
    "experimental_conditions_list"
   ]
  },
  {
   "cell_type": "code",
   "execution_count": null,
   "id": "316cf235",
   "metadata": {},
   "outputs": [],
   "source": [
    "mes = f\"\"\"\n",
    "Biomedical data mining task.\n",
    "\n",
    "Return python dictionary with key including index, original sentence, {experimental_conditions_list}, and whether is {prop} experiment or not \n",
    "Fill in none if no information given. \n",
    "Please don't ignore some sentences.\n",
    "\n",
    "Example 1 \n",
    "Input: 'Protein binding in human plasma \\n Plasma protein binding in human \\n Protein binding in mouse plasma \\n Protein binding in rat plasma \\n Plasma protein binding in rat \\n Plasma protein binding in mouse \\n Protein binding in plasma (unknown origin) \\n Protein binding in human plasma after 18 hrs by LC/MS/MS based rapid equilibrium dialysis method \\n Protein binding in human plasma at 5 uM incubated for 5 hrs by rapid equilibrium dialysis \\n Protein binding in rat plasma at 200 to 1000 ng/ml measured after 15 mins by UC-LC/MS/MS analysis \\n The protein binding is expressed as percent bound as determined by VolSurf \\n Protein binding in human plasma after 18 hrs by rapid equilibrium dialysis method \\n Protein binding in dog plasma \\n Percentage binding to plasma protein. \\n Plasma protein binding in dog \\n Plasma protein binding in mouse assessed as unbound fraction \\n Protein binding in human plasma at 10 uM after 4 hrs by RF-MS analysis \\n Protein binding in human plasma assessed as bound fraction \\n Protein binding in human serum at 1 ug/ml incubated for 4 hrs by LC-MS/MS analysis \\n Plasma protein binding in human assessed as unbound fraction'\n",
    "\n",
    "Output:\n",
    "```python\\n{{'index': [1, 2, 3, 4, 5, 6, 7, 8, 9, 10, 11, 12, 13, 14, 15, 16, 17, 18, 19, 20], 'original sentence': ['Protein binding in human plasma', 'Plasma protein binding in human', 'Protein binding in mouse plasma', 'Protein binding in rat plasma', 'Plasma protein binding in rat', 'Plasma protein binding in mouse', 'Protein binding in plasma (unknown origin)', 'Protein binding in human plasma after 18 hrs by LC/MS/MS based rapid equilibrium dialysis method', 'Protein binding in human plasma at 5 uM incubated for 5 hrs by rapid equilibrium dialysis', 'Protein binding in rat plasma at 200 to 1000 ng/ml measured after 15 mins by UC-LC/MS/MS analysis', 'The protein binding is expressed as percent bound as determined by VolSurf', 'Protein binding in human plasma after 18 hrs by rapid equilibrium dialysis method', 'Protein binding in dog plasma', 'Percentage binding to plasma protein.', 'Plasma protein binding in dog', 'Plasma protein binding in mouse assessed as unbound fraction', 'Protein binding in human plasma at 10 uM after 4 hrs by RF-MS analysis', 'Protein binding in human plasma assessed as bound fraction', 'Protein binding in human serum at 1 ug/ml incubated for 4 hrs by LC-MS/MS analysis', 'Plasma protein binding in human assessed as unbound fraction'], 'Species/Origin of Plasma or Serum': ['Human', 'Human', 'Mouse', 'Rat', 'Rat', 'Mouse', nan, 'Human', 'Human', 'Rat', nan, 'Human', 'Dog', nan, 'Dog', 'Mouse', 'Human', 'Human', 'Human', 'Human'], 'Concentration of Tested Compound': [nan, nan, nan, nan, nan, nan, nan, nan, '5 uM', '200 to 1000 ng/ml', nan, nan, nan, nan, nan, nan, '10 uM', nan, '1 ug/ml', nan], 'Duration of Incubation': [nan, nan, nan, nan, nan, nan, nan, '18 hrs', '5 hrs', '15 mins', nan, '18 hrs', nan, nan, nan, nan, '4 hrs', nan, '4 hrs', nan], 'Analytical Detection Method': [nan, nan, nan, nan, nan, nan, nan, 'LC/MS/MS', nan, 'UC-LC/MS/MS', 'VolSurf', nan, nan, nan, nan, nan, 'RF-MS', nan, 'LC-MS/MS', nan], 'Equilibrium Dialysis for Protein Binding Assessment': [nan, nan, nan, nan, nan, nan, nan, 'Rapid Equilibrium Dialysis', 'Rapid Equilibrium Dialysis', nan, nan, 'Rapid Equilibrium Dialysis', nan, nan, nan, nan, nan, nan, nan, nan], 'Plasma_Protein_Binding': [True, True, True, True, True, True, True, True, True, True, False, True, True, False, True, True, True, True, True, True]}}\\n```\n",
    "\n",
    "Example 2\n",
    "Input: 'Protein binding in mouse plasma assessed as bound fraction \\n Protein binding in ICR mouse serum at 1 ug/ml incubated for 4 hrs by LC-MS/MS analysis \\n Protein binding in mouse plasma by dialysis method \\n Plasma protein binding in human incubated for 30 mins by HPLC-MS analysis \\n Protein binding in human plasma by LC-MS/MS based equilibrium analysis \\n Protein binding in human plasma by dialysis method \\n Protein binding in rat plasma assessed as bound fraction \\n Protein binding in mouse serum assessed as fraction unbound \\n Plasma protein binding in CD-1 mouse incubated for 30 mins by HPLC-MS analysis \\n Plasma protein binding in rat incubated for 24 hrs by LC-MS/MS analysis \\n Plasma protein binding in human at 5 uM by HPLC analysis \\n Plasma protein binding in rat at 1 uM \\n Protein binding in mouse plasma at 5 uM incubated for 5 hrs by rapid equilibrium dialysis based LC-MS/MS analysis \\n Plasma protein binding in human incubated for 24 hrs by LC-MS/MS analysis \\n Protein binding in human plasma at 1 uM \\n Protein binding in human plasma measured after 4 hrs by LC-MS/MS analysis \\n Plasma protein binding in human at 5 uM measured after 4 hrs by LC-MS/MS analysis \\n Protein binding in human plasma at 1 uM by LC-MS/MS analysis \\n Protein binding in mouse plasma at 2 uM by equilibrium dialysis relative to control \\n Protein binding in human plasma at 2 uM by equilibrium dialysis relative to control'\n",
    "\n",
    "Output:\n",
    "```python\\n{{'index': [21, 22, 23, 24, 25, 26, 27, 28, 29, 30, 31, 32, 33, 34, 35, 36, 37, 38, 39, 40], 'original sentence': ['Protein binding in mouse plasma assessed as bound fraction', 'Protein binding in ICR mouse serum at 1 ug/ml incubated for 4 hrs by LC-MS/MS analysis', 'Protein binding in mouse plasma by dialysis method', 'Plasma protein binding in human incubated for 30 mins by HPLC-MS analysis', 'Protein binding in human plasma by LC-MS/MS based equilibrium analysis', 'Protein binding in human plasma by dialysis method', 'Protein binding in rat plasma assessed as bound fraction', 'Protein binding in mouse serum assessed as fraction unbound', 'Plasma protein binding in CD-1 mouse incubated for 30 mins by HPLC-MS analysis', 'Plasma protein binding in rat incubated for 24 hrs by LC-MS/MS analysis', 'Plasma protein binding in human at 5 uM by HPLC analysis', 'Plasma protein binding in rat at 1 uM', 'Protein binding in mouse plasma at 5 uM incubated for 5 hrs by rapid equilibrium dialysis based LC-MS/MS analysis', 'Plasma protein binding in human incubated for 24 hrs by LC-MS/MS analysis', 'Protein binding in human plasma at 1 uM', 'Protein binding in human plasma measured after 4 hrs by LC-MS/MS analysis', 'Plasma protein binding in human at 5 uM measured after 4 hrs by LC-MS/MS analysis', 'Protein binding in human plasma at 1 uM by LC-MS/MS analysis', 'Protein binding in mouse plasma at 2 uM by equilibrium dialysis relative to control', 'Protein binding in human plasma at 2 uM by equilibrium dialysis relative to control'], 'Species/Origin of Plasma or Serum': ['Mouse', 'Mouse', 'Mouse', 'Human', 'Human', 'Human', 'Rat', 'Mouse', 'Mouse', 'Rat', 'Human', 'Rat', 'Mouse', 'Human', 'Human', 'Human', 'Human', 'Human', 'Mouse', 'Human'], 'Concentration of Tested Compound': [nan, '1 ug/ml', nan, nan, nan, nan, nan, nan, nan, nan, '5 uM', '1 uM', '5 uM', nan, '1 uM', nan, '5 uM', '1 uM', '2 uM', '2 uM'], 'Duration of Incubation': [nan, '4 hrs', nan, '30 mins', nan, nan, nan, nan, '30 mins', '24 hrs', nan, nan, '5 hrs', '24 hrs', nan, '4 hrs', '4 hrs', nan, nan, nan], 'Analytical Detection Method': [nan, 'LC-MS/MS', nan, 'HPLC-MS', 'LC-MS/MS', nan, nan, nan, 'HPLC-MS', 'LC-MS/MS', 'HPLC', nan, 'LC-MS/MS', 'LC-MS/MS', nan, 'LC-MS/MS', 'LC-MS/MS', 'LC-MS/MS', nan, nan], 'Equilibrium Dialysis for Protein Binding Assessment': [nan, nan, 'Dialysis', nan, 'Equilibrium Analysis', 'Dialysis', nan, nan, nan, nan, nan, nan, 'Rapid Equilibrium Dialysis', nan, nan, nan, nan, nan, 'Equilibrium Dialysis', 'Equilibrium Dialysis'], 'Plasma_Protein_Binding': [True, True, True, True, True, True, True, True, True, True, True, True, True, True, True, True, True, True, True, True]}}\\n```\n",
    "\n",
    "\"\"\""
   ]
  },
  {
   "cell_type": "code",
   "execution_count": null,
   "id": "dafb5e28",
   "metadata": {},
   "outputs": [],
   "source": [
    "def replace_single_with_double_quotes(code_str):\n",
    "    return code_str.replace(\"'\", '\"')\n",
    "\n",
    "\n",
    "mes = replace_single_with_double_quotes(mes)\n"
   ]
  },
  {
   "cell_type": "code",
   "execution_count": null,
   "id": "4846fc6f",
   "metadata": {},
   "outputs": [],
   "source": [
    "thread = client.beta.threads.create(\n",
    "  messages=[\n",
    "    {\n",
    "      \"role\": \"user\",\n",
    "      \"content\": mes,\n",
    "      \"file_ids\": assistant.file_ids\n",
    "    }\n",
    "  ]\n",
    ")"
   ]
  },
  {
   "cell_type": "code",
   "execution_count": null,
   "id": "3fdb9a2a",
   "metadata": {},
   "outputs": [],
   "source": [
    "thread.id"
   ]
  },
  {
   "cell_type": "code",
   "execution_count": null,
   "id": "badbdfb6",
   "metadata": {},
   "outputs": [],
   "source": [
    "len(assay_description)"
   ]
  },
  {
   "cell_type": "code",
   "execution_count": null,
   "id": "29e5fc0a",
   "metadata": {
    "scrolled": true
   },
   "outputs": [],
   "source": [
    "for i in tqdm(range(0,len(assay_description),20)):\n",
    "    info = ' \\n '.join(assay_description[i:i+20])\n",
    "    \n",
    "    chatGPT_replay(client,thread.id, assistant, question_content=info)\n",
    "    time.sleep(3)\n",
    "    chatGPT_check_replay(client,thread, dis=False)\n",
    "    \n",
    "    thread_messages = client.beta.threads.messages.list(thread.id)\n",
    "\n",
    "    try:\n",
    "        answer = extract_code_script_from_markdown(thread_messages.data[0].content[0].text.value)[0]\n",
    "        answer = pd.DataFrame(find_dictionaries_in_string(answer)[0])\n",
    "        answer.to_csv(f'../data/data_mining_results/{prop}/batch/{prop}_batch_{i}.csv',index=False)\n",
    "    except:\n",
    "        print(f'error for {i}')\n",
    "        display(thread_messages.data[0].content[0].text.value)\n",
    "        continue\n",
    "    "
   ]
  },
  {
   "cell_type": "markdown",
   "id": "0fb07403",
   "metadata": {},
   "source": [
    "# Combine result"
   ]
  },
  {
   "cell_type": "code",
   "execution_count": null,
   "id": "538cf709",
   "metadata": {},
   "outputs": [],
   "source": [
    "import os\n",
    "root_path = '../data/data_mining_results/Plasma_Protein_Binding/batch/'\n",
    "result = pd.DataFrame()\n",
    "for file in os.listdir(root_path):\n",
    "    if 'csv' in file:\n",
    "        file_path = os.path.join(root_path,file)\n",
    "        tmp = pd.read_csv(file_path)\n",
    "        result = pd.concat([result,tmp])"
   ]
  },
  {
   "cell_type": "code",
   "execution_count": null,
   "id": "2f720224",
   "metadata": {},
   "outputs": [],
   "source": [
    "result.columns"
   ]
  },
  {
   "cell_type": "code",
   "execution_count": null,
   "id": "2c489f4e",
   "metadata": {},
   "outputs": [],
   "source": [
    "result = result[[ 'original sentence', 'Species/Origin of Plasma or Serum',\n",
    "       'Concentration of Tested Compound', 'Duration of Incubation',\n",
    "       'Analytical Detection Method',\n",
    "       'Equilibrium Dialysis for Protein Binding Assessment',\n",
    "       'Plasma_Protein_Binding']]"
   ]
  },
  {
   "cell_type": "code",
   "execution_count": null,
   "id": "83b5b31d",
   "metadata": {},
   "outputs": [],
   "source": [
    "result.columns = ['Assay Description','Species/Origin of Plasma or Serum',\n",
    "       'Concentration of Tested Compound', 'Duration of Incubation',\n",
    "       'Analytical Detection Method',\n",
    "       'Equilibrium Dialysis for Protein Binding Assessment',\n",
    "       'Plasma_Protein_Binding']"
   ]
  },
  {
   "cell_type": "code",
   "execution_count": null,
   "id": "e76eafc9",
   "metadata": {},
   "outputs": [],
   "source": [
    "df = pd.read_csv('../data/raw_data/ppb/chembl_ppb_raw_data.csv')\n",
    "col_list = ['Molecule ChEMBL ID', \n",
    "       'Smiles', 'Standard Type', 'Standard Relation', 'Standard Value',\n",
    "       'Standard Units', 'Assay ChEMBL ID', 'Assay Description', 'Assay Type', 'BAO Format ID',\n",
    "       'BAO Label', \n",
    "       'Document ChEMBL ID', 'Source Description',\n",
    "       'Document Journal', 'Document Year']\n",
    "df = df[col_list]"
   ]
  },
  {
   "cell_type": "code",
   "execution_count": null,
   "id": "f70948d0",
   "metadata": {},
   "outputs": [],
   "source": [
    "df = df.merge(result,on='Assay Description',how='left')"
   ]
  },
  {
   "cell_type": "code",
   "execution_count": null,
   "id": "72015fca",
   "metadata": {},
   "outputs": [],
   "source": [
    "df.to_csv('../data/data_mining_results/Plasma_Protein_Binding/ppb_Chembl_data_mining_finished.csv',index=False)"
   ]
  },
  {
   "cell_type": "code",
   "execution_count": null,
   "id": "9cb43611",
   "metadata": {},
   "outputs": [],
   "source": []
  }
 ],
 "metadata": {
  "kernelspec": {
   "display_name": "Python 3 (ipykernel)",
   "language": "python",
   "name": "python3"
  },
  "language_info": {
   "codemirror_mode": {
    "name": "ipython",
    "version": 3
   },
   "file_extension": ".py",
   "mimetype": "text/x-python",
   "name": "python",
   "nbconvert_exporter": "python",
   "pygments_lexer": "ipython3",
   "version": "3.9.6"
  }
 },
 "nbformat": 4,
 "nbformat_minor": 5
}
