{
 "cells": [
  {
   "cell_type": "code",
   "execution_count": null,
   "id": "01c802b6",
   "metadata": {},
   "outputs": [],
   "source": [
    "\n",
    "import openai\n",
    "from tqdm.notebook import tqdm\n",
    "import pandas as pd\n",
    "import os\n",
    "from IPython.display import display, Markdown\n",
    "import pickle as pkl\n",
    "pd.set_option('display.max_columns', 60)\n",
    "import time\n",
    "\n",
    "from datamining_utils import chatGPT_check_replay,chatGPT_replay,load_api_key_from_file,extract_code_script_from_markdown,find_dictionaries_in_string\n",
    "\n",
    "%load_ext autoreload\n",
    "%autoreload 2\n"
   ]
  },
  {
   "cell_type": "code",
   "execution_count": null,
   "id": "d42a20f2",
   "metadata": {},
   "outputs": [],
   "source": [
    "\n",
    "# Usage\n",
    "api_key = load_api_key_from_file()\n",
    "from openai import OpenAI\n",
    "client = OpenAI(api_key = api_key)"
   ]
  },
  {
   "cell_type": "markdown",
   "id": "1a34ae87",
   "metadata": {},
   "source": [
    "# Key Word Agent"
   ]
  },
  {
   "cell_type": "code",
   "execution_count": null,
   "id": "6a09b420",
   "metadata": {},
   "outputs": [],
   "source": [
    "prop = 'water_solubility'"
   ]
  },
  {
   "cell_type": "code",
   "execution_count": null,
   "id": "72fb1d74",
   "metadata": {},
   "outputs": [],
   "source": [
    "assistant = client.beta.assistants.create(name='knowledge generation chatbot',\n",
    "  instructions=f\"Please summarize the ADME-T related important experimental conditions\",\n",
    "  model=\"gpt-4-1106-preview\",\n",
    ")   "
   ]
  },
  {
   "cell_type": "code",
   "execution_count": null,
   "id": "51e491b5",
   "metadata": {
    "scrolled": true
   },
   "outputs": [],
   "source": [
    "assistant.id"
   ]
  },
  {
   "cell_type": "code",
   "execution_count": null,
   "id": "a32de2bc",
   "metadata": {},
   "outputs": [],
   "source": [
    "thread = client.beta.threads.create(\n",
    "  messages=[\n",
    "    {\n",
    "      \"role\": \"user\",\n",
    "      \"content\": \"summarise the key experimental conditions within the given experiments\",\n",
    "      \"file_ids\": assistant.file_ids\n",
    "    }\n",
    "  ]\n",
    ")"
   ]
  },
  {
   "cell_type": "code",
   "execution_count": null,
   "id": "5affc311",
   "metadata": {},
   "outputs": [],
   "source": [
    "thread.id"
   ]
  },
  {
   "cell_type": "markdown",
   "id": "2dd91d59",
   "metadata": {},
   "source": [
    "### summarize the important experimental conditions"
   ]
  },
  {
   "cell_type": "code",
   "execution_count": null,
   "id": "3b6f7756",
   "metadata": {},
   "outputs": [],
   "source": [
    "df = pd.read_csv('../data/raw_data/solubility/chembl_sol_raw_data.csv')\n",
    "df = df.drop_duplicates('Assay Description')\n",
    "condition = ' \\n '.join(df['Assay Description'][0:50])"
   ]
  },
  {
   "cell_type": "code",
   "execution_count": null,
   "id": "0a299f31",
   "metadata": {},
   "outputs": [],
   "source": [
    "mes = f\"\"\"\n",
    "Please summarize the key experimental conditions for experiments related to {prop} within the {condition}\n",
    "\n",
    "\n",
    "Please analyze the document and return a list of the top five most frequently mentioned experimental condition categories. These should be summarized under broad categories, such as pH levels, temperature ranges, or other relevant general conditions, rather than specific values or detailed conditions. Present this information in a Python list format.\n",
    "\n",
    "Each entry in the list should represent a unique category of experimental conditions. Avoid duplicating similar conditions and focus on capturing the overarching categories that these conditions fall under.\n",
    "\n",
    "Example output:\n",
    "```python\n",
    "['pH Level', 'Temperature Range', 'Light Exposure']\n",
    "```\n",
    "\n",
    "Ensure that the list is comprehensive, covering all major categories of experimental conditions mentioned in the document.\n",
    "\"\"\""
   ]
  },
  {
   "cell_type": "code",
   "execution_count": null,
   "id": "51203c1d",
   "metadata": {},
   "outputs": [],
   "source": [
    "chatGPT_replay(client,thread.id, assistant, question_content=mes)"
   ]
  },
  {
   "cell_type": "code",
   "execution_count": null,
   "id": "d68eb989",
   "metadata": {},
   "outputs": [],
   "source": [
    "# time.sleep(3)\n",
    "chatGPT_check_replay(client,thread)\n",
    "\n",
    "thread_messages = client.beta.threads.messages.list(thread.id)\n",
    "answer = extract_code_script_from_markdown(thread_messages.data[0].content[0].text.value)[0]\n",
    "experimental_conditions = eval(answer)\n",
    "experimental_conditions"
   ]
  },
  {
   "cell_type": "code",
   "execution_count": null,
   "id": "2555d2e8",
   "metadata": {},
   "outputs": [],
   "source": [
    "with open(f'../data/data_mining_results/{prop}/{prop}_experimental_conditions_summaried_by_LLMs.pkl','wb') as f:\n",
    "    pkl.dump(experimental_conditions,f)"
   ]
  },
  {
   "cell_type": "markdown",
   "id": "8f7d149b",
   "metadata": {},
   "source": [
    "# Examples Agent"
   ]
  },
  {
   "cell_type": "code",
   "execution_count": null,
   "id": "1edde1fc",
   "metadata": {},
   "outputs": [],
   "source": [
    "with open(f'../data/data_mining_results/{prop}/{prop}_experimental_conditions_summaried_by_LLMs.pkl','rb') as f:\n",
    "    experimental_conditions = pkl.load(f)"
   ]
  },
  {
   "cell_type": "code",
   "execution_count": null,
   "id": "3f07d099",
   "metadata": {},
   "outputs": [],
   "source": [
    "assistant = client.beta.assistants.create(name='Data Mining chatbot',\n",
    "  instructions=f\"Please mining the key biomedical information within the given data\",\n",
    "  model=\"gpt-4-1106-preview\",\n",
    ")   "
   ]
  },
  {
   "cell_type": "code",
   "execution_count": null,
   "id": "5c1844d3",
   "metadata": {
    "scrolled": true
   },
   "outputs": [],
   "source": [
    "assistant.id"
   ]
  },
  {
   "cell_type": "code",
   "execution_count": null,
   "id": "bb4de378",
   "metadata": {},
   "outputs": [],
   "source": [
    "mes = \"\"\"\n",
    "Biomedical data mining task.\n",
    "\n",
    "Return python dictionary with key including index, original sentence, {}, and whether is {} experiment or not \n",
    "Fill in none if no information given. \n",
    "Please include all the sentences\n",
    "\n",
    "\"\"\".format(', '.join(experimental_conditions),prop)"
   ]
  },
  {
   "cell_type": "code",
   "execution_count": null,
   "id": "287c6dc7",
   "metadata": {},
   "outputs": [],
   "source": [
    "thread = client.beta.threads.create(\n",
    "  messages=[\n",
    "    {\n",
    "      \"role\": \"user\",\n",
    "      \"content\": mes,\n",
    "      \"file_ids\": assistant.file_ids\n",
    "    }\n",
    "  ]\n",
    ")"
   ]
  },
  {
   "cell_type": "code",
   "execution_count": null,
   "id": "59801037",
   "metadata": {},
   "outputs": [],
   "source": [
    "thread.id"
   ]
  },
  {
   "cell_type": "code",
   "execution_count": null,
   "id": "8cff56a5",
   "metadata": {},
   "outputs": [],
   "source": [
    "df = pd.read_csv('../data/raw_data/solubility/chembl_sol_raw_data.csv')"
   ]
  },
  {
   "cell_type": "code",
   "execution_count": null,
   "id": "de9471d1",
   "metadata": {
    "scrolled": false
   },
   "outputs": [],
   "source": [
    "result = pd.DataFrame()\n",
    "for i in tqdm(range(0,40,20)):\n",
    "    info = ' \\n '.join(df['Assay Description'].value_counts().keys()[i:i+20])\n",
    "    \n",
    "    chatGPT_replay(client,thread.id, assistant, question_content=info)\n",
    "    time.sleep(3)\n",
    "    runs = client.beta.threads.runs.list(\n",
    "          thread.id)\n",
    "    \n",
    "    while runs.data[0].status != 'completed':\n",
    "        time.sleep(3)\n",
    "        runs = client.beta.threads.runs.list(\n",
    "          thread.id\n",
    "        )\n",
    "    \n",
    "    thread_messages = client.beta.threads.messages.list(thread.id)\n",
    "    answer = extract_code_script_from_markdown(thread_messages.data[0].content[0].text.value)[0]\n",
    "    answer = pd.DataFrame(find_dictionaries_in_string(answer))\n",
    "    \n",
    "\n",
    "    display(pd.DataFrame(answer))\n",
    "    result = pd.concat([result,pd.DataFrame(answer)])"
   ]
  },
  {
   "cell_type": "code",
   "execution_count": null,
   "id": "79cffc63",
   "metadata": {},
   "outputs": [],
   "source": [
    "result.to_csv(f'../data/data_mining_results/water_solubility/example_{prop}.csv',index=False)"
   ]
  },
  {
   "cell_type": "markdown",
   "id": "54fb0dfd",
   "metadata": {},
   "source": [
    "# Manul Validate and Create Full Promt with two shot Examples"
   ]
  },
  {
   "cell_type": "code",
   "execution_count": null,
   "id": "c9520e5e",
   "metadata": {},
   "outputs": [],
   "source": [
    "examples = pd.read_csv(f'../data/data_mining_results/water_solubility/example_{prop}_manuel_validated.csv')"
   ]
  },
  {
   "cell_type": "code",
   "execution_count": null,
   "id": "594cddad",
   "metadata": {},
   "outputs": [],
   "source": [
    "tmp = examples[0:20]\n",
    "\n",
    "' \\n '.join(tmp[ 'original sentence'].values)"
   ]
  },
  {
   "cell_type": "code",
   "execution_count": null,
   "id": "e92b94c2",
   "metadata": {},
   "outputs": [],
   "source": [
    "str(tmp.to_dict(orient='list'))"
   ]
  },
  {
   "cell_type": "code",
   "execution_count": null,
   "id": "b5f0c00b",
   "metadata": {},
   "outputs": [],
   "source": [
    "tmp = examples[20::]\n",
    "\n",
    "' \\n '.join(tmp[ 'original sentence'].values)"
   ]
  },
  {
   "cell_type": "code",
   "execution_count": null,
   "id": "65b63155",
   "metadata": {},
   "outputs": [],
   "source": [
    "str(tmp.to_dict(orient='list'))"
   ]
  },
  {
   "cell_type": "markdown",
   "id": "f40598ba",
   "metadata": {},
   "source": [
    "\n",
    "\n",
    "f\"\"\"\n",
    "Biomedical data mining task.\n",
    "\n",
    "Return python dictionary with key including index, original sentence, {experimental_conditions_list}, and whether is {prop} experiment or not \n",
    "Fill in none if no information given. \n",
    "Please don't ignore some sentences.\n",
    "\n",
    "Example 1 \n",
    "Input: 'Aqueous solubility of the compound \\n ASTRAZENECA: Solubility in pH7.4 buffer using solid starting material using the method described in J. Assoc. Lab. Autom. 2011, 16, 276-284. Experimental range 0.10 to 1500 uM \\n Solubility of the compound \\n Aqueous solubility of the compound at pH 7.4 \\n Kinetic solubility of the compound \\n Solubility in water \\n Aqueous solubility at pH 7.4 \\n Solubility at pH 7.4 \\n SUPPLEMENTARY: Lyophilisation Solubility Assay (LYSA) \\n Aqueous solubility of compound \\n Kinetic aqueous solubility of the compound \\n Solubility of the compound at pH 7.4 \\n Kinetic solubility of compound \\n Solubility of the compound in water \\n Solubility of the compound at pH 7 \\n Aqueous solubility \\n Kinetic solubility of the compound at pH 7.4 \\n Solubility of the compound at pH 6.8 \\n Aqueous solubility of compound at pH 7.4 \\n Solubility of compound in PBS pH 7.4 incubated for 2 hrs by spectrophotometry'\n",
    "\n",
    "Output:\n",
    "```python\\n{{'index': [0, 1, 2, 3, 4, 5, 6, 7, 8, 9, 10, 11, 12, 13, 14, 15, 16, 17, 18, 19], 'original sentence': ['Aqueous solubility of the compound', 'ASTRAZENECA: Solubility in pH7.4 buffer using solid starting material using the method described in J. Assoc. Lab. Autom. 2011, 16, 276-284. Experimental range 0.10 to 1500 uM', 'Solubility of the compound', 'Aqueous solubility of the compound at pH 7.4', 'Kinetic solubility of the compound', 'Solubility in water', 'Aqueous solubility at pH 7.4', 'Solubility at pH 7.4', 'SUPPLEMENTARY: Lyophilisation Solubility Assay (LYSA)', 'Aqueous solubility of compound', 'Kinetic aqueous solubility of the compound', 'Solubility of the compound at pH 7.4', 'Kinetic solubility of compound', 'Solubility of the compound in water', 'Solubility of the compound at pH 7', 'Aqueous solubility', 'Kinetic solubility of the compound at pH 7.4', 'Solubility of the compound at pH 6.8', 'Aqueous solubility of compound at pH 7.4', 'Solubility of compound in PBS pH 7.4 incubated for 2 hrs by spectrophotometry'], 'pH Level': [nan, 7.4, nan, 7.4, nan, nan, 7.4, 7.4, nan, nan, nan, 7.4, nan, nan, 7.0, nan, 7.4, 6.8, 7.4, 7.4], 'Solvent/System Composition': ['water', 'buffer', nan, 'water', nan, 'water', 'water', nan, nan, 'water', 'water', nan, nan, 'water', nan, 'water', nan, nan, 'water', 'PBS'], 'Time Period': [nan, nan, nan, nan, nan, nan, nan, nan, nan, nan, nan, nan, nan, nan, nan, nan, nan, nan, nan, '2 hrs'], 'Measurement Technique': [nan, 'method described in J. Assoc. Lab. Autom. 2011, 16, 276-284', nan, nan, 'kinetic solubility', nan, nan, nan, 'Lyophilisation Solubility Assay (LYSA)', nan, 'kinetic solubility', nan, 'kinetic solubility', nan, nan, nan, 'kinetic solubility', nan, nan, 'spectrophotometry'], 'Temperature Range': [nan, nan, nan, nan, nan, nan, nan, nan, nan, nan, nan, nan, nan, nan, nan, nan, nan, nan, nan, nan], 'water_solubility': [True, True, True, True, True, True, True, True, True, True, True, True, True, True, True, True, True, True, True, True]}}\\n```\n",
    "\n",
    "Example 2\n",
    "Input: 'Solubility (buffer pH 7.4) \\n Thermodynamic aqueous solubility of the compound \\n GSK_TB: GSK in-house kinetic solubility assay. DMSO stock solution diluted to 100 ml with pH 7.4 phosphate buffered saline. \\n Aqueous solubility of the compound at pH 7 \\n Thermodynamic solubility of the compound at pH 7.4 \\n Solubility of the compound at pH 2 \\n Aqueous solubility in phosphate buffered saline by multi-screen solubility assay \\n Solubility in sodium phosphate buffer at pH 7.4 \\n Aqueous solubility of the compound at pH 6.8 \\n Solubility of compound in water \\n Solubility of compound at pH 7.4 \\n Solubility in 100 mM glycylglycine buffer at pH 4.0 incubated for 18 hrs by UPLC analysis \\n Solubility in 100 mM glycylglycine buffer at pH 3.0 incubated for 18 hrs by UPLC analysis \\n Solubility in 100 mM bistrispropane buffer at pH 6.0 incubated for 18 hrs by UPLC analysis \\n Solubility in 100 mM bistrispropane buffer at pH 6.5 incubated for 18 hrs by UPLC analysis \\n Solubility in 100 mM bistrispropane buffer at pH 7.0 incubated for 18 hrs by UPLC analysis \\n Solubility in 100 mM bistrispropane buffer at pH 8.0 incubated for 18 hrs by UPLC analysis \\n Solubility in 100 mM glycylglycine buffer at pH 5.0 incubated for 18 hrs by UPLC analysis \\n Solubility in 100 mM bistrispropane buffer at pH 7.5 incubated for 18 hrs by UPLC analysis \\n Solubility of compound'\n",
    "\n",
    "Output:\n",
    "```python\\n{{'index': [20, 21, 22, 23, 24, 25, 26, 27, 28, 29, 30, 31, 32, 33, 34, 35, 36, 37, 38, 39], 'original sentence': ['Solubility (buffer pH 7.4)', 'Thermodynamic aqueous solubility of the compound', 'GSK_TB: GSK in-house kinetic solubility assay. DMSO stock solution diluted to 100 ml with pH 7.4 phosphate buffered saline.', 'Aqueous solubility of the compound at pH 7', 'Thermodynamic solubility of the compound at pH 7.4', 'Solubility of the compound at pH 2', 'Aqueous solubility in phosphate buffered saline by multi-screen solubility assay', 'Solubility in sodium phosphate buffer at pH 7.4', 'Aqueous solubility of the compound at pH 6.8', 'Solubility of compound in water', 'Solubility of compound at pH 7.4', 'Solubility in 100 mM glycylglycine buffer at pH 4.0 incubated for 18 hrs by UPLC analysis', 'Solubility in 100 mM glycylglycine buffer at pH 3.0 incubated for 18 hrs by UPLC analysis', 'Solubility in 100 mM bistrispropane buffer at pH 6.0 incubated for 18 hrs by UPLC analysis', 'Solubility in 100 mM bistrispropane buffer at pH 6.5 incubated for 18 hrs by UPLC analysis', 'Solubility in 100 mM bistrispropane buffer at pH 7.0 incubated for 18 hrs by UPLC analysis', 'Solubility in 100 mM bistrispropane buffer at pH 8.0 incubated for 18 hrs by UPLC analysis', 'Solubility in 100 mM glycylglycine buffer at pH 5.0 incubated for 18 hrs by UPLC analysis', 'Solubility in 100 mM bistrispropane buffer at pH 7.5 incubated for 18 hrs by UPLC analysis', 'Solubility of compound'], 'pH Level': [7.4, nan, 7.4, 7.0, 7.4, 2.0, nan, 7.4, 6.8, nan, 7.4, 4.0, 3.0, 6.0, 6.5, 7.0, 8.0, 5.0, 7.5, nan], 'Solvent/System Composition': ['buffer', 'water', 'DMSO stock solution diluted with pH 7.4 phosphate buffered saline', 'water', nan, nan, 'phosphate buffered saline', 'sodium phosphate buffer', 'water', 'water', nan, '100 mM glycylglycine buffer', '100 mM glycylglycine buffer', '100 mM bistrispropane buffer', '100 mM bistrispropane buffer', '100 mM bistrispropane buffer', '100 mM bistrispropane buffer', '100 mM glycylglycine buffer', '100 mM bistrispropane buffer', nan], 'Time Period': [nan, nan, nan, nan, nan, nan, nan, nan, nan, nan, nan, '18 hrs', '18 hrs', '18 hrs', '18 hrs', '18 hrs', '18 hrs', '18 hrs', '18 hrs', nan], 'Measurement Technique': [nan, 'thermodynamic solubility', 'kinetic solubility', nan, 'thermodynamic solubility', nan, 'multi-screen solubility assay', nan, nan, nan, nan, 'UPLC analysis', 'UPLC analysis', 'UPLC analysis', 'UPLC analysis', 'UPLC analysis', 'UPLC analysis', 'UPLC analysis', 'UPLC analysis', nan], 'Temperature Range': [nan, nan, nan, nan, nan, nan, nan, nan, nan, nan, nan, nan, nan, nan, nan, nan, nan, nan, nan, nan], 'water_solubility': [True, True, True, True, True, True, True, True, True, True, True, True, True, True, True, True, True, True, True, True]}}\\n```\n",
    "\n",
    "\"\"\""
   ]
  },
  {
   "cell_type": "markdown",
   "id": "603fabe5",
   "metadata": {},
   "source": [
    "# Data Mining Agent"
   ]
  },
  {
   "cell_type": "markdown",
   "id": "0e3f6747",
   "metadata": {},
   "source": [
    "### Load data "
   ]
  },
  {
   "cell_type": "code",
   "execution_count": null,
   "id": "22f22499",
   "metadata": {},
   "outputs": [],
   "source": [
    "df = pd.read_csv('../data/raw_data/solubility/chembl_sol_raw_data.csv')\n",
    "assay_description = df['Assay Description'].value_counts().keys()"
   ]
  },
  {
   "cell_type": "markdown",
   "id": "16334371",
   "metadata": {},
   "source": [
    "### Create agent"
   ]
  },
  {
   "cell_type": "code",
   "execution_count": null,
   "id": "863c6c65",
   "metadata": {},
   "outputs": [],
   "source": [
    "assistant = client.beta.assistants.create(name='Data Mining chatbot',\n",
    "  instructions=f\"Please mining the key biomedical information within the given data\",\n",
    "  model=\"gpt-4-1106-preview\",\n",
    ")   "
   ]
  },
  {
   "cell_type": "code",
   "execution_count": null,
   "id": "e3fd53fc",
   "metadata": {
    "scrolled": false
   },
   "outputs": [],
   "source": [
    "assistant.id"
   ]
  },
  {
   "cell_type": "code",
   "execution_count": null,
   "id": "34b251d1",
   "metadata": {},
   "outputs": [],
   "source": [
    "experimental_conditions_list = ['pH Level',\n",
    " 'Solvent/System Composition',\n",
    " 'Time Period',\n",
    " 'Measurement Technique',\n",
    " 'Temperature Range']\n",
    "\n",
    "experimental_conditions_list = ', '.join(experimental_conditions_list)"
   ]
  },
  {
   "cell_type": "code",
   "execution_count": null,
   "id": "d90b481d",
   "metadata": {},
   "outputs": [],
   "source": [
    "experimental_conditions_list"
   ]
  },
  {
   "cell_type": "code",
   "execution_count": null,
   "id": "316cf235",
   "metadata": {},
   "outputs": [],
   "source": [
    "mes = f\"\"\"\n",
    "Biomedical data mining task.\n",
    "\n",
    "Return python dictionary with key including index, original sentence, {experimental_conditions_list}, and whether is {prop} experiment or not \n",
    "Fill in none if no information given. \n",
    "Please don't ignore some sentences.\n",
    "\n",
    "Example 1 \n",
    "Input: 'Aqueous solubility of the compound \\n ASTRAZENECA: Solubility in pH7.4 buffer using solid starting material using the method described in J. Assoc. Lab. Autom. 2011, 16, 276-284. Experimental range 0.10 to 1500 uM \\n Solubility of the compound \\n Aqueous solubility of the compound at pH 7.4 \\n Kinetic solubility of the compound \\n Solubility in water \\n Aqueous solubility at pH 7.4 \\n Solubility at pH 7.4 \\n SUPPLEMENTARY: Lyophilisation Solubility Assay (LYSA) \\n Aqueous solubility of compound \\n Kinetic aqueous solubility of the compound \\n Solubility of the compound at pH 7.4 \\n Kinetic solubility of compound \\n Solubility of the compound in water \\n Solubility of the compound at pH 7 \\n Aqueous solubility \\n Kinetic solubility of the compound at pH 7.4 \\n Solubility of the compound at pH 6.8 \\n Aqueous solubility of compound at pH 7.4 \\n Solubility of compound in PBS pH 7.4 incubated for 2 hrs by spectrophotometry'\n",
    "\n",
    "Output:\n",
    "```python\\n{{'index': [0, 1, 2, 3, 4, 5, 6, 7, 8, 9, 10, 11, 12, 13, 14, 15, 16, 17, 18, 19], 'original sentence': ['Aqueous solubility of the compound', 'ASTRAZENECA: Solubility in pH7.4 buffer using solid starting material using the method described in J. Assoc. Lab. Autom. 2011, 16, 276-284. Experimental range 0.10 to 1500 uM', 'Solubility of the compound', 'Aqueous solubility of the compound at pH 7.4', 'Kinetic solubility of the compound', 'Solubility in water', 'Aqueous solubility at pH 7.4', 'Solubility at pH 7.4', 'SUPPLEMENTARY: Lyophilisation Solubility Assay (LYSA)', 'Aqueous solubility of compound', 'Kinetic aqueous solubility of the compound', 'Solubility of the compound at pH 7.4', 'Kinetic solubility of compound', 'Solubility of the compound in water', 'Solubility of the compound at pH 7', 'Aqueous solubility', 'Kinetic solubility of the compound at pH 7.4', 'Solubility of the compound at pH 6.8', 'Aqueous solubility of compound at pH 7.4', 'Solubility of compound in PBS pH 7.4 incubated for 2 hrs by spectrophotometry'], 'pH Level': [nan, 7.4, nan, 7.4, nan, nan, 7.4, 7.4, nan, nan, nan, 7.4, nan, nan, 7.0, nan, 7.4, 6.8, 7.4, 7.4], 'Solvent/System Composition': ['water', 'buffer', nan, 'water', nan, 'water', 'water', nan, nan, 'water', 'water', nan, nan, 'water', nan, 'water', nan, nan, 'water', 'PBS'], 'Time Period': [nan, nan, nan, nan, nan, nan, nan, nan, nan, nan, nan, nan, nan, nan, nan, nan, nan, nan, nan, '2 hrs'], 'Measurement Technique': [nan, 'method described in J. Assoc. Lab. Autom. 2011, 16, 276-284', nan, nan, 'kinetic solubility', nan, nan, nan, 'Lyophilisation Solubility Assay (LYSA)', nan, 'kinetic solubility', nan, 'kinetic solubility', nan, nan, nan, 'kinetic solubility', nan, nan, 'spectrophotometry'], 'Temperature Range': [nan, nan, nan, nan, nan, nan, nan, nan, nan, nan, nan, nan, nan, nan, nan, nan, nan, nan, nan, nan], 'water_solubility': [True, True, True, True, True, True, True, True, True, True, True, True, True, True, True, True, True, True, True, True]}}\\n```\n",
    "\n",
    "Example 2\n",
    "Input: 'Solubility (buffer pH 7.4) \\n Thermodynamic aqueous solubility of the compound \\n GSK_TB: GSK in-house kinetic solubility assay. DMSO stock solution diluted to 100 ml with pH 7.4 phosphate buffered saline. \\n Aqueous solubility of the compound at pH 7 \\n Thermodynamic solubility of the compound at pH 7.4 \\n Solubility of the compound at pH 2 \\n Aqueous solubility in phosphate buffered saline by multi-screen solubility assay \\n Solubility in sodium phosphate buffer at pH 7.4 \\n Aqueous solubility of the compound at pH 6.8 \\n Solubility of compound in water \\n Solubility of compound at pH 7.4 \\n Solubility in 100 mM glycylglycine buffer at pH 4.0 incubated for 18 hrs by UPLC analysis \\n Solubility in 100 mM glycylglycine buffer at pH 3.0 incubated for 18 hrs by UPLC analysis \\n Solubility in 100 mM bistrispropane buffer at pH 6.0 incubated for 18 hrs by UPLC analysis \\n Solubility in 100 mM bistrispropane buffer at pH 6.5 incubated for 18 hrs by UPLC analysis \\n Solubility in 100 mM bistrispropane buffer at pH 7.0 incubated for 18 hrs by UPLC analysis \\n Solubility in 100 mM bistrispropane buffer at pH 8.0 incubated for 18 hrs by UPLC analysis \\n Solubility in 100 mM glycylglycine buffer at pH 5.0 incubated for 18 hrs by UPLC analysis \\n Solubility in 100 mM bistrispropane buffer at pH 7.5 incubated for 18 hrs by UPLC analysis \\n Solubility of compound'\n",
    "\n",
    "Output:\n",
    "```python\\n{{'index': [20, 21, 22, 23, 24, 25, 26, 27, 28, 29, 30, 31, 32, 33, 34, 35, 36, 37, 38, 39], 'original sentence': ['Solubility (buffer pH 7.4)', 'Thermodynamic aqueous solubility of the compound', 'GSK_TB: GSK in-house kinetic solubility assay. DMSO stock solution diluted to 100 ml with pH 7.4 phosphate buffered saline.', 'Aqueous solubility of the compound at pH 7', 'Thermodynamic solubility of the compound at pH 7.4', 'Solubility of the compound at pH 2', 'Aqueous solubility in phosphate buffered saline by multi-screen solubility assay', 'Solubility in sodium phosphate buffer at pH 7.4', 'Aqueous solubility of the compound at pH 6.8', 'Solubility of compound in water', 'Solubility of compound at pH 7.4', 'Solubility in 100 mM glycylglycine buffer at pH 4.0 incubated for 18 hrs by UPLC analysis', 'Solubility in 100 mM glycylglycine buffer at pH 3.0 incubated for 18 hrs by UPLC analysis', 'Solubility in 100 mM bistrispropane buffer at pH 6.0 incubated for 18 hrs by UPLC analysis', 'Solubility in 100 mM bistrispropane buffer at pH 6.5 incubated for 18 hrs by UPLC analysis', 'Solubility in 100 mM bistrispropane buffer at pH 7.0 incubated for 18 hrs by UPLC analysis', 'Solubility in 100 mM bistrispropane buffer at pH 8.0 incubated for 18 hrs by UPLC analysis', 'Solubility in 100 mM glycylglycine buffer at pH 5.0 incubated for 18 hrs by UPLC analysis', 'Solubility in 100 mM bistrispropane buffer at pH 7.5 incubated for 18 hrs by UPLC analysis', 'Solubility of compound'], 'pH Level': [7.4, nan, 7.4, 7.0, 7.4, 2.0, nan, 7.4, 6.8, nan, 7.4, 4.0, 3.0, 6.0, 6.5, 7.0, 8.0, 5.0, 7.5, nan], 'Solvent/System Composition': ['buffer', 'water', 'DMSO stock solution diluted with pH 7.4 phosphate buffered saline', 'water', nan, nan, 'phosphate buffered saline', 'sodium phosphate buffer', 'water', 'water', nan, '100 mM glycylglycine buffer', '100 mM glycylglycine buffer', '100 mM bistrispropane buffer', '100 mM bistrispropane buffer', '100 mM bistrispropane buffer', '100 mM bistrispropane buffer', '100 mM glycylglycine buffer', '100 mM bistrispropane buffer', nan], 'Time Period': [nan, nan, nan, nan, nan, nan, nan, nan, nan, nan, nan, '18 hrs', '18 hrs', '18 hrs', '18 hrs', '18 hrs', '18 hrs', '18 hrs', '18 hrs', nan], 'Measurement Technique': [nan, 'thermodynamic solubility', 'kinetic solubility', nan, 'thermodynamic solubility', nan, 'multi-screen solubility assay', nan, nan, nan, nan, 'UPLC analysis', 'UPLC analysis', 'UPLC analysis', 'UPLC analysis', 'UPLC analysis', 'UPLC analysis', 'UPLC analysis', 'UPLC analysis', nan], 'Temperature Range': [nan, nan, nan, nan, nan, nan, nan, nan, nan, nan, nan, nan, nan, nan, nan, nan, nan, nan, nan, nan], 'water_solubility': [True, True, True, True, True, True, True, True, True, True, True, True, True, True, True, True, True, True, True, True]}}\\n```\n",
    "\n",
    "\"\"\""
   ]
  },
  {
   "cell_type": "code",
   "execution_count": null,
   "id": "0fb36879",
   "metadata": {},
   "outputs": [],
   "source": [
    "def replace_single_with_double_quotes(code_str):\n",
    "    return code_str.replace(\"'\", '\"')\n",
    "\n",
    "\n",
    "mes = replace_single_with_double_quotes(mes)\n"
   ]
  },
  {
   "cell_type": "code",
   "execution_count": null,
   "id": "4846fc6f",
   "metadata": {},
   "outputs": [],
   "source": [
    "thread = client.beta.threads.create(\n",
    "  messages=[\n",
    "    {\n",
    "      \"role\": \"user\",\n",
    "      \"content\": mes,\n",
    "      \"file_ids\": assistant.file_ids\n",
    "    }\n",
    "  ]\n",
    ")"
   ]
  },
  {
   "cell_type": "code",
   "execution_count": null,
   "id": "3fdb9a2a",
   "metadata": {},
   "outputs": [],
   "source": [
    "thread.id"
   ]
  },
  {
   "cell_type": "code",
   "execution_count": null,
   "id": "badbdfb6",
   "metadata": {},
   "outputs": [],
   "source": [
    "len(assay_description)"
   ]
  },
  {
   "cell_type": "code",
   "execution_count": null,
   "id": "29e5fc0a",
   "metadata": {
    "scrolled": false
   },
   "outputs": [],
   "source": [
    "for i in tqdm(range(0,len(assay_description),20)):\n",
    "    info = ' \\n '.join(assay_description[i:i+20])\n",
    "    \n",
    "    chatGPT_replay(client,thread.id, assistant, question_content=info)\n",
    "    time.sleep(3)\n",
    "    chatGPT_check_replay(client,thread, dis=False)\n",
    "    \n",
    "    thread_messages = client.beta.threads.messages.list(thread.id)\n",
    "\n",
    "    try:\n",
    "        answer = extract_code_script_from_markdown(thread_messages.data[0].content[0].text.value)[0]\n",
    "        answer = pd.DataFrame(find_dictionaries_in_string(answer)[0])\n",
    "        answer.to_csv(f'../data/data_mining_results/solubility/batch/{prop}_batch_{i}.csv',index=False)\n",
    "    except:\n",
    "        print(f'error for {i}')\n",
    "        display(thread_messages.data[0].content[0].text.value)\n",
    "        continue\n",
    "    "
   ]
  },
  {
   "cell_type": "markdown",
   "id": "09bc6f06",
   "metadata": {},
   "source": [
    "# Combine result"
   ]
  },
  {
   "cell_type": "code",
   "execution_count": null,
   "id": "eae19efa",
   "metadata": {},
   "outputs": [],
   "source": [
    "import os\n",
    "root_path = '../data/data_mining_results/water_solubility/batch/'\n",
    "result = pd.DataFrame()\n",
    "for file in os.listdir(root_path):\n",
    "    if 'csv' in file:\n",
    "        file_path = os.path.join(root_path,file)\n",
    "        tmp = pd.read_csv(file_path)\n",
    "        result = pd.concat([result,tmp])"
   ]
  },
  {
   "cell_type": "code",
   "execution_count": null,
   "id": "a5ee9332",
   "metadata": {},
   "outputs": [],
   "source": [
    "result.columns"
   ]
  },
  {
   "cell_type": "code",
   "execution_count": null,
   "id": "8706876f",
   "metadata": {},
   "outputs": [],
   "source": [
    "result = result[[ 'original sentence', 'pH Level', 'Solvent/System Composition',\n",
    "       'Time Period', 'Measurement Technique', 'Temperature Range',\n",
    "       'water_solubility', 'Water Solubility']]"
   ]
  },
  {
   "cell_type": "code",
   "execution_count": null,
   "id": "abed3355",
   "metadata": {},
   "outputs": [],
   "source": [
    "result.columns = ['Assay Description', 'pH Level', 'Solvent/System Composition',\n",
    "       'Time Period', 'Measurement Technique', 'Temperature Range',\n",
    "       'water_solubility', 'Water Solubility']"
   ]
  },
  {
   "cell_type": "code",
   "execution_count": null,
   "id": "863d6e94",
   "metadata": {},
   "outputs": [],
   "source": [
    "df = pd.read_csv('../data/raw_data/solubility/chembl_sol_raw_data.csv')\n",
    "col_list = ['Molecule ChEMBL ID', \n",
    "       'Smiles', 'Standard Type', 'Standard Relation', 'Standard Value',\n",
    "       'Standard Units', 'Assay ChEMBL ID', 'Assay Description', 'Assay Type', 'BAO Format ID',\n",
    "       'BAO Label', \n",
    "       'Document ChEMBL ID', 'Source Description',\n",
    "       'Document Journal', 'Document Year']\n",
    "\n",
    "df = df[col_list]"
   ]
  },
  {
   "cell_type": "code",
   "execution_count": null,
   "id": "0b884ab8",
   "metadata": {},
   "outputs": [],
   "source": [
    "df = df.merge(result,on='Assay Description',how='left')\n",
    "df"
   ]
  },
  {
   "cell_type": "code",
   "execution_count": null,
   "id": "d32fb5c6",
   "metadata": {},
   "outputs": [],
   "source": [
    "df.to_csv('../data/data_mining_results/water_solubility/chembl_solubility_data_mining.csv',index=False)"
   ]
  },
  {
   "cell_type": "code",
   "execution_count": null,
   "id": "a8a7a926",
   "metadata": {},
   "outputs": [],
   "source": []
  }
 ],
 "metadata": {
  "kernelspec": {
   "display_name": "Python 3 (ipykernel)",
   "language": "python",
   "name": "python3"
  },
  "language_info": {
   "codemirror_mode": {
    "name": "ipython",
    "version": 3
   },
   "file_extension": ".py",
   "mimetype": "text/x-python",
   "name": "python",
   "nbconvert_exporter": "python",
   "pygments_lexer": "ipython3",
   "version": "3.9.6"
  }
 },
 "nbformat": 4,
 "nbformat_minor": 5
}
