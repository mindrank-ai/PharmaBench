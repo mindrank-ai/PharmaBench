{
 "cells": [
  {
   "cell_type": "code",
   "execution_count": null,
   "id": "01c802b6",
   "metadata": {},
   "outputs": [],
   "source": [
    "import openai\n",
    "from tqdm.notebook import tqdm\n",
    "import pandas as pd\n",
    "import os\n",
    "from IPython.display import display, Markdown\n",
    "import pickle as pkl\n",
    "pd.set_option('display.max_columns', 60)\n",
    "import time\n",
    "\n",
    "from datamining_utils import chatGPT_check_replay,chatGPT_replay,load_api_key_from_file,extract_code_script_from_markdown,find_dictionaries_in_string\n",
    "\n",
    "%load_ext autoreload\n",
    "%autoreload 2"
   ]
  },
  {
   "cell_type": "code",
   "execution_count": null,
   "id": "2d60e93b",
   "metadata": {},
   "outputs": [],
   "source": [
    "\n",
    "# Usage\n",
    "api_key = load_api_key_from_file()\n"
   ]
  },
  {
   "cell_type": "code",
   "execution_count": null,
   "id": "00f1ca67",
   "metadata": {},
   "outputs": [],
   "source": [
    "from openai import OpenAI\n",
    "client = OpenAI(api_key = api_key)"
   ]
  },
  {
   "cell_type": "markdown",
   "id": "1a34ae87",
   "metadata": {},
   "source": [
    "# Key Word Agent"
   ]
  },
  {
   "cell_type": "code",
   "execution_count": null,
   "id": "6a09b420",
   "metadata": {},
   "outputs": [],
   "source": [
    "prop = 'LogD'"
   ]
  },
  {
   "cell_type": "code",
   "execution_count": null,
   "id": "72fb1d74",
   "metadata": {},
   "outputs": [],
   "source": [
    "assistant = client.beta.assistants.create(name='knowledge generation chatbot',\n",
    "  instructions=f\"Please summarize the ADME-T related important experimental conditions\",\n",
    "  model=\"gpt-4-1106-preview\",\n",
    ")   "
   ]
  },
  {
   "cell_type": "code",
   "execution_count": null,
   "id": "51e491b5",
   "metadata": {
    "scrolled": true
   },
   "outputs": [],
   "source": [
    "assistant.id"
   ]
  },
  {
   "cell_type": "code",
   "execution_count": null,
   "id": "a32de2bc",
   "metadata": {},
   "outputs": [],
   "source": [
    "thread = client.beta.threads.create(\n",
    "  messages=[\n",
    "    {\n",
    "      \"role\": \"user\",\n",
    "      \"content\": \"Standardlise the experiments\",\n",
    "      \"file_ids\": assistant.file_ids\n",
    "    }\n",
    "  ]\n",
    ")"
   ]
  },
  {
   "cell_type": "code",
   "execution_count": null,
   "id": "5affc311",
   "metadata": {},
   "outputs": [],
   "source": [
    "thread.id"
   ]
  },
  {
   "cell_type": "markdown",
   "id": "2dd91d59",
   "metadata": {},
   "source": [
    "### summarize the important experimental conditions"
   ]
  },
  {
   "cell_type": "code",
   "execution_count": null,
   "id": "0a299f31",
   "metadata": {},
   "outputs": [],
   "source": [
    "mes = f\"\"\"\n",
    "Please summarize the key experimental conditions for experiments related to {prop}.\n",
    "\n",
    "Return a list of the distinct experimental condition names in Python list format.\n",
    "\n",
    "Example output:\n",
    "```python\n",
    "['Experimental Condition A']\n",
    "```\n",
    "\"\"\""
   ]
  },
  {
   "cell_type": "code",
   "execution_count": null,
   "id": "43bc5faf",
   "metadata": {},
   "outputs": [],
   "source": [
    "chatGPT_replay(thread.id, assistant, question_content=mes)"
   ]
  },
  {
   "cell_type": "code",
   "execution_count": null,
   "id": "d68eb989",
   "metadata": {},
   "outputs": [],
   "source": [
    "thread_messages = client.beta.threads.messages.list(thread.id)\n",
    "display(Markdown(thread_messages.data[0].content[0].text.value))"
   ]
  },
  {
   "cell_type": "code",
   "execution_count": null,
   "id": "d17f5acf",
   "metadata": {},
   "outputs": [],
   "source": [
    "result = extract_code_script_from_markdown(thread_messages.data[0].content[0].text.value)[0]\n",
    "experimental_conditions = eval(result)\n",
    "experimental_conditions"
   ]
  },
  {
   "cell_type": "code",
   "execution_count": null,
   "id": "a3f2cfc1",
   "metadata": {},
   "outputs": [],
   "source": [
    "df = pd.read_csv('../data/raw_data/LogD/chembl_logd_raw_data.csv')\n"
   ]
  },
  {
   "cell_type": "code",
   "execution_count": null,
   "id": "ef72d779",
   "metadata": {
    "scrolled": true
   },
   "outputs": [],
   "source": [
    "condition = ' \\n '.join(df['Assay Description'].value_counts().keys()[0:50])\n",
    "\n",
    "mes = f\"\"\"\n",
    "Please analyze the given assay descriptions and identify which experimental conditions are present within these descriptions.\n",
    "Return a list of distinguishing experimental condition name can be found in the experimental conditions in Python list format.\n",
    "\n",
    "{condition}\n",
    "\"\"\"\n"
   ]
  },
  {
   "cell_type": "code",
   "execution_count": null,
   "id": "bb4a93d0",
   "metadata": {},
   "outputs": [],
   "source": [
    "chatGPT_replay(thread.id, assistant, question_content=mes)"
   ]
  },
  {
   "cell_type": "code",
   "execution_count": null,
   "id": "162f3aa8",
   "metadata": {},
   "outputs": [],
   "source": [
    "thread_messages = client.beta.threads.messages.list(thread.id)\n",
    "display(Markdown(thread_messages.data[0].content[0].text.value))"
   ]
  },
  {
   "cell_type": "code",
   "execution_count": null,
   "id": "c20e5df2",
   "metadata": {},
   "outputs": [],
   "source": [
    "result = extract_code_script_from_markdown(thread_messages.data[0].content[0].text.value)[0]\n",
    "result = result.split('=')[1]\n",
    "\n",
    "experimental_conditions = eval(result)\n",
    "experimental_conditions"
   ]
  },
  {
   "cell_type": "code",
   "execution_count": null,
   "id": "2555d2e8",
   "metadata": {},
   "outputs": [],
   "source": [
    "with open(f'../data/data_mining_results/{prop}_experimental_conditions_summaried_by_LLMs.pkl','wb') as f:\n",
    "    pkl.dump(experimental_conditions,f)"
   ]
  },
  {
   "cell_type": "markdown",
   "id": "8f7d149b",
   "metadata": {},
   "source": [
    "# Examples Agent"
   ]
  },
  {
   "cell_type": "code",
   "execution_count": null,
   "id": "1edde1fc",
   "metadata": {},
   "outputs": [],
   "source": [
    "with open(f'../data/data_mining_results/{prop}/{prop}_experimental_conditions_summaried_by_LLMs.pkl','rb') as f:\n",
    "    experimental_conditions = pkl.load(f)"
   ]
  },
  {
   "cell_type": "code",
   "execution_count": null,
   "id": "3f07d099",
   "metadata": {},
   "outputs": [],
   "source": [
    "assistant = client.beta.assistants.create(name='Data Mining chatbot',\n",
    "  instructions=f\"Please mining the key biomedical information within the given data\",\n",
    "  model=\"gpt-4-1106-preview\",\n",
    ")   "
   ]
  },
  {
   "cell_type": "code",
   "execution_count": null,
   "id": "5c1844d3",
   "metadata": {
    "scrolled": true
   },
   "outputs": [],
   "source": [
    "assistant.id"
   ]
  },
  {
   "cell_type": "code",
   "execution_count": null,
   "id": "bb4de378",
   "metadata": {},
   "outputs": [],
   "source": [
    "mes = \"\"\"\n",
    "Biomedical data mining task.\n",
    "\n",
    "Return python dictionary with key including index, original sentence, {}, and whether is {} experiment or not \n",
    "Fill in none if no information given. \n",
    "Please don't ignore some sentences.\n",
    "\n",
    "\"\"\".format(', '.join(experimental_conditions),prop)"
   ]
  },
  {
   "cell_type": "code",
   "execution_count": null,
   "id": "287c6dc7",
   "metadata": {},
   "outputs": [],
   "source": [
    "thread = client.beta.threads.create(\n",
    "  messages=[\n",
    "    {\n",
    "      \"role\": \"user\",\n",
    "      \"content\": mes,\n",
    "      \"file_ids\": assistant.file_ids\n",
    "    }\n",
    "  ]\n",
    ")"
   ]
  },
  {
   "cell_type": "code",
   "execution_count": null,
   "id": "59801037",
   "metadata": {},
   "outputs": [],
   "source": [
    "thread.id"
   ]
  },
  {
   "cell_type": "code",
   "execution_count": null,
   "id": "de9471d1",
   "metadata": {
    "scrolled": false
   },
   "outputs": [],
   "source": [
    "result = pd.DataFrame()\n",
    "for i in tqdm(range(0,40,20)):\n",
    "    info = ' \\n '.join(df['Assay Description'].value_counts().keys()[i:i+20])\n",
    "    \n",
    "    chatGPT_replay(thread.id, assistant, question_content=info)\n",
    "    time.sleep(3)\n",
    "    runs = client.beta.threads.runs.list(\n",
    "          thread.id)\n",
    "    \n",
    "    while runs.data[0].status != 'completed':\n",
    "        time.sleep(3)\n",
    "        runs = client.beta.threads.runs.list(\n",
    "          thread.id\n",
    "        )\n",
    "    \n",
    "    thread_messages = client.beta.threads.messages.list(thread.id)\n",
    "    answer = extract_code_script_from_markdown(thread_messages.data[0].content[0].text.value)[0]\n",
    "    if '=' in answer:\n",
    "        answer = answer.split('=')[1]\n",
    "    answer = eval(answer)\n",
    "    \n",
    "\n",
    "    display(pd.DataFrame(answer))\n",
    "    result = pd.concat([result,pd.DataFrame(answer).T])"
   ]
  },
  {
   "cell_type": "code",
   "execution_count": null,
   "id": "79cffc63",
   "metadata": {},
   "outputs": [],
   "source": [
    "result.to_csv(f'../data/data_mining_results/{prop}/example_{prop}.csv',index=False)"
   ]
  },
  {
   "cell_type": "markdown",
   "id": "54fb0dfd",
   "metadata": {},
   "source": [
    "# Manul Validate and Create Full Promt with two shot Examples"
   ]
  },
  {
   "cell_type": "code",
   "execution_count": null,
   "id": "c9520e5e",
   "metadata": {},
   "outputs": [],
   "source": [
    "examples = pd.read_csv(f'../data/data_mining_results/{prop}/example_{prop}_manuel_validated.csv')"
   ]
  },
  {
   "cell_type": "code",
   "execution_count": null,
   "id": "594cddad",
   "metadata": {},
   "outputs": [],
   "source": [
    "tmp = examples[0:20]\n",
    "\n",
    "' \\n '.join(tmp[ 'original sentence'].values)"
   ]
  },
  {
   "cell_type": "code",
   "execution_count": null,
   "id": "e92b94c2",
   "metadata": {},
   "outputs": [],
   "source": [
    "str(tmp.to_dict(orient='list'))"
   ]
  },
  {
   "cell_type": "code",
   "execution_count": null,
   "id": "b5f0c00b",
   "metadata": {},
   "outputs": [],
   "source": [
    "tmp = examples[20::]\n",
    "\n",
    "' \\n '.join(tmp[ 'original sentence'].values)"
   ]
  },
  {
   "cell_type": "code",
   "execution_count": null,
   "id": "65b63155",
   "metadata": {},
   "outputs": [],
   "source": [
    "str(tmp.to_dict(orient='list'))"
   ]
  },
  {
   "cell_type": "markdown",
   "id": "f40598ba",
   "metadata": {},
   "source": [
    "\n",
    "\n",
    "f\"\"\"\n",
    "Biomedical data mining task.\n",
    "\n",
    "Return python dictionary with key including index, original sentence, {experimental_conditions_list}, and whether is {prop} experiment or not \n",
    "Fill in none if no information given. \n",
    "Please don't ignore some sentences.\n",
    "\n",
    "Example 1 \n",
    "Input: Lipophilicity, log D of the compound at pH 7.4 \\n Lipophilicity, log D of the compound \\n Partition coefficient (logD7.4) \\n Lipophilicity, log D at pH 7.4 \\n Distribution coefficient, log D of the compound \\n SUPPLEMENTARY: Lipophilicity (log D) Determination by high-throughput shake-flask \\n Lipophilicity, log D of the compound at pH 7.4 by HPLC analysis \\n Lipophilicity, log D of the compound at pH 7.4 by chromatographic method \\n Partition coefficient (logD6.5) \\n Lipophilicity, log D of compound at pH 7.4 \\n Lipophilicity, logD of the compound at pH 7.4 \\n Distribution coefficient, log D of the compound at pH 7.4 \\n Lipophilicity, log D of the compound at pH 7.4 by shake flask method \\n Lipophilicity, logD of compound at pH 7.4 \\n Lipophilicity, logD of compound \\n Partition coefficient, log D at pH 7.4 \\n Partition coefficient, log D of the compound at pH 7.4 by HPLC analysis \\n Distribution coefficient, log D at pH 7.4 \\n Distribution coefficient, logD of compound at pH 7.4 \\n Partition coefficient (logD)\n",
    "\n",
    "Output:\n",
    "```python\\n{{'index': [1, 2, 3, 4, 5, 6, 7, 8, 9, 10, 11, 12, 13, 14, 15, 16, 17, 18, 19, 20], 'original sentence': ['Lipophilicity, log D of the compound at pH 7.4', 'Lipophilicity, log D of the compound', 'Partition coefficient (logD7.4)', 'Lipophilicity, log D at pH 7.4', 'Distribution coefficient, log D of the compound', 'SUPPLEMENTARY: Lipophilicity (log D) Determination by high-throughput shake-flask', 'Lipophilicity, log D of the compound at pH 7.4 by HPLC analysis', 'Lipophilicity, log D of the compound at pH 7.4 by chromatographic method', 'Partition coefficient (logD6.5)', 'Lipophilicity, log D of compound at pH 7.4', 'Lipophilicity, logD of the compound at pH 7.4', 'Distribution coefficient, log D of the compound at pH 7.4', 'Lipophilicity, log D of the compound at pH 7.4 by shake flask method', 'Lipophilicity, logD of compound at pH 7.4', 'Lipophilicity, logD of compound', 'Partition coefficient, log D at pH 7.4', 'Partition coefficient, log D of the compound at pH 7.4 by HPLC analysis', 'Distribution coefficient, log D at pH 7.4', 'Distribution coefficient, logD of compound at pH 7.4', 'Partition coefficient (logD)'], 'pH': [7.4, nan, 7.4, 7.4, nan, nan, 7.4, 7.4, 6.5, 7.4, 7.4, 7.4, 7.4, 7.4, nan, 7.4, 7.4, 7.4, 7.4, nan], 'Analytical Method': [nan, nan, nan, nan, nan, 'high-throughput shake-flask', 'HPLC', 'chromatography', nan, nan, nan, nan, 'shake flask', nan, nan, nan, 'HPLC', nan, nan, nan], 'Solvent System': [nan, nan, nan, nan, nan, nan, nan, nan, nan, nan, nan, nan, nan, nan, nan, nan, nan, nan, nan, nan], 'Equilibration Technique': [nan, nan, nan, nan, nan, nan, nan, nan, nan, nan, nan, nan, nan, nan, nan, nan, nan, nan, nan, nan], 'Incubation Time': [nan, nan, nan, nan, nan, nan, nan, nan, nan, nan, nan, nan, nan, nan, nan, nan, nan, nan, nan, nan], 'Shaking Condition': [nan, nan, nan, nan, nan, nan, nan, nan, nan, nan, nan, nan, nan, nan, nan, nan, nan, nan, nan, nan], 'LogD experiment': [True, True, True, True, True, True, True, True, True, True, True, True, True, True, True, True, True, True, True, True]}}\\n```\n",
    "\n",
    "Example 2\n",
    "Input: Lipophilicity, logD of the compound \\n Lipophilicity, logD of compound at pH 7.4 by HPLC analysis \\n DNDI: Lipophilicity (gLogD) at pH 7.4 \\n DNDI: Lipophilicity (gLogD) at pH 3 \\n Lipophilicity, log D of the compound by HPLC analysis \\n Partition coefficient, log D of the compound at pH 7.4 \\n Lipophilicity, log D of the compound by chromatography \\n Partition coefficient (logD7.6) \\n Lipophilicity, logD of compound at pH 7.4 by shake flask method \\n Octanol-water partition coefficient, log D of the compound at pH 7.4 by shake flask method \\n Chromatographic lipophilicity, log D of compound at pH 7.4 by UV-HPLC analysis \\n Lipophilicity, log D of compound \\n Buffer/octanol partition coefficient, log D of the compound at pH 7.4 by shake flask method \\n DNDI: Lipophilicity measured in Chromatographic hydrophobicity index (CHI) assay, pH 7.4 \\n Lipophilicity, logD of the compound at pH 7.4 by chromatographic method \\n Octanol-water partition coefficient, log D of the compound at pH 7.4 \\n Octanol-phosphate buffer partition coefficient, log D of the compound at pH 7.4 by shake flask method \\n Lipophilicity, logD of the compound at pH 7.4 by shake flask method \\n Lipophilicity, logD of compound at pH 7.4 by Chromatography \\n Distribution coefficient, logD of the compound at pH 7.4\n",
    "\n",
    "Output:\n",
    "```python\\n{{'index': [1, 2, 3, 4, 5, 6, 7, 8, 9, 10, 11, 12, 13, 14, 15, 16, 17, 18, 19, 20], 'original sentence': ['Lipophilicity, logD of the compound', 'Lipophilicity, logD of compound at pH 7.4 by HPLC analysis', 'DNDI: Lipophilicity (gLogD) at pH 7.4', 'DNDI: Lipophilicity (gLogD) at pH 3', 'Lipophilicity, log D of the compound by HPLC analysis', 'Partition coefficient, log D of the compound at pH 7.4', 'Lipophilicity, log D of the compound by chromatography', 'Partition coefficient (logD7.6)', 'Lipophilicity, logD of compound at pH 7.4 by shake flask method', 'Octanol-water partition coefficient, log D of the compound at pH 7.4 by shake flask method', 'Chromatographic lipophilicity, log D of compound at pH 7.4 by UV-HPLC analysis', 'Lipophilicity, log D of compound', 'Buffer/octanol partition coefficient, log D of the compound at pH 7.4 by shake flask method', 'DNDI: Lipophilicity measured in Chromatographic hydrophobicity index (CHI) assay, pH 7.4', 'Lipophilicity, logD of the compound at pH 7.4 by chromatographic method', 'Octanol-water partition coefficient, log D of the compound at pH 7.4', 'Octanol-phosphate buffer partition coefficient, log D of the compound at pH 7.4 by shake flask method', 'Lipophilicity, logD of the compound at pH 7.4 by shake flask method', 'Lipophilicity, logD of compound at pH 7.4 by Chromatography', 'Distribution coefficient, logD of the compound at pH 7.4'], 'pH': [nan, 7.4, 7.4, 3.0, nan, 7.4, nan, 7.6, 7.4, 7.4, 7.4, nan, 7.4, 7.4, 7.4, 7.4, 7.4, 7.4, 7.4, 7.4], 'Analytical Method': [nan, 'HPLC', nan, nan, 'HPLC', nan, 'chromatography', nan, 'shake flask', 'shake flask', 'UV-HPLC', nan, 'shake flask', 'CHI assay', 'chromatography', nan, 'shake flask', 'shake flask', 'Chromatography', nan], 'Solvent System': [nan, nan, nan, nan, nan, nan, nan, nan, nan, 'octanol-water', nan, nan, 'buffer/octanol', nan, nan, 'octanol-water', 'octanol-phosphate buffer', nan, nan, nan], 'Equilibration Technique': [nan, nan, nan, nan, nan, nan, nan, nan, nan, nan, nan, nan, nan, nan, nan, nan, nan, nan, nan, nan], 'Incubation Time': [nan, nan, nan, nan, nan, nan, nan, nan, nan, nan, nan, nan, nan, nan, nan, nan, nan, nan, nan, nan], 'Shaking Condition': [nan, nan, nan, nan, nan, nan, nan, nan, nan, nan, nan, nan, nan, nan, nan, nan, nan, nan, nan, nan], 'LogD experiment': [True, True, True, True, True, True, True, True, True, True, True, True, True, True, True, True, True, True, True, True]}}\\n```\n",
    "\n",
    "\"\"\""
   ]
  },
  {
   "cell_type": "markdown",
   "id": "603fabe5",
   "metadata": {},
   "source": [
    "# Data Mining Agent"
   ]
  },
  {
   "cell_type": "markdown",
   "id": "0e3f6747",
   "metadata": {},
   "source": [
    "### Load data "
   ]
  },
  {
   "cell_type": "code",
   "execution_count": null,
   "id": "22f22499",
   "metadata": {},
   "outputs": [],
   "source": [
    "df = pd.read_csv('../data/raw_data/LogD/chembl_logd_raw_data.csv')\n",
    "assay_description = df['Assay Description'].value_counts().keys()"
   ]
  },
  {
   "cell_type": "markdown",
   "id": "16334371",
   "metadata": {},
   "source": [
    "### Create agent"
   ]
  },
  {
   "cell_type": "code",
   "execution_count": null,
   "id": "863c6c65",
   "metadata": {},
   "outputs": [],
   "source": [
    "assistant = client.beta.assistants.create(name='Data Mining chatbot',\n",
    "  instructions=f\"Please mining the key biomedical information within the given data\",\n",
    "  model=\"gpt-4-1106-preview\",\n",
    ")   "
   ]
  },
  {
   "cell_type": "code",
   "execution_count": null,
   "id": "e3fd53fc",
   "metadata": {
    "scrolled": false
   },
   "outputs": [],
   "source": [
    "assistant.id"
   ]
  },
  {
   "cell_type": "code",
   "execution_count": null,
   "id": "34b251d1",
   "metadata": {},
   "outputs": [],
   "source": [
    "experimental_conditions_list = ['pH',\n",
    " 'Analytical Method',\n",
    " 'Solvent System',\n",
    " 'Equilibration Technique',\n",
    " 'Incubation Time',\n",
    " 'Shaking Condition']\n",
    "\n",
    "experimental_conditions_list = ', '.join(experimental_conditions_list)"
   ]
  },
  {
   "cell_type": "code",
   "execution_count": null,
   "id": "316cf235",
   "metadata": {},
   "outputs": [],
   "source": [
    "mes = f\"\"\"\n",
    "Biomedical data mining task.\n",
    "\n",
    "Return python dictionary with key including index, original sentence, {experimental_conditions_list}, and whether is {prop} experiment or not \n",
    "Fill in none if no information given. \n",
    "Please don't ignore some sentences.\n",
    "\n",
    "Example 1 \n",
    "Input: Lipophilicity, log D of the compound at pH 7.4 \\n Lipophilicity, log D of the compound \\n Partition coefficient (logD7.4) \\n Lipophilicity, log D at pH 7.4 \\n Distribution coefficient, log D of the compound \\n SUPPLEMENTARY: Lipophilicity (log D) Determination by high-throughput shake-flask \\n Lipophilicity, log D of the compound at pH 7.4 by HPLC analysis \\n Lipophilicity, log D of the compound at pH 7.4 by chromatographic method \\n Partition coefficient (logD6.5) \\n Lipophilicity, log D of compound at pH 7.4 \\n Lipophilicity, logD of the compound at pH 7.4 \\n Distribution coefficient, log D of the compound at pH 7.4 \\n Lipophilicity, log D of the compound at pH 7.4 by shake flask method \\n Lipophilicity, logD of compound at pH 7.4 \\n Lipophilicity, logD of compound \\n Partition coefficient, log D at pH 7.4 \\n Partition coefficient, log D of the compound at pH 7.4 by HPLC analysis \\n Distribution coefficient, log D at pH 7.4 \\n Distribution coefficient, logD of compound at pH 7.4 \\n Partition coefficient (logD)\n",
    "\n",
    "Output:\n",
    "```python\\n{{'index': [1, 2, 3, 4, 5, 6, 7, 8, 9, 10, 11, 12, 13, 14, 15, 16, 17, 18, 19, 20], 'original sentence': ['Lipophilicity, log D of the compound at pH 7.4', 'Lipophilicity, log D of the compound', 'Partition coefficient (logD7.4)', 'Lipophilicity, log D at pH 7.4', 'Distribution coefficient, log D of the compound', 'SUPPLEMENTARY: Lipophilicity (log D) Determination by high-throughput shake-flask', 'Lipophilicity, log D of the compound at pH 7.4 by HPLC analysis', 'Lipophilicity, log D of the compound at pH 7.4 by chromatographic method', 'Partition coefficient (logD6.5)', 'Lipophilicity, log D of compound at pH 7.4', 'Lipophilicity, logD of the compound at pH 7.4', 'Distribution coefficient, log D of the compound at pH 7.4', 'Lipophilicity, log D of the compound at pH 7.4 by shake flask method', 'Lipophilicity, logD of compound at pH 7.4', 'Lipophilicity, logD of compound', 'Partition coefficient, log D at pH 7.4', 'Partition coefficient, log D of the compound at pH 7.4 by HPLC analysis', 'Distribution coefficient, log D at pH 7.4', 'Distribution coefficient, logD of compound at pH 7.4', 'Partition coefficient (logD)'], 'pH': [7.4, nan, 7.4, 7.4, nan, nan, 7.4, 7.4, 6.5, 7.4, 7.4, 7.4, 7.4, 7.4, nan, 7.4, 7.4, 7.4, 7.4, nan], 'Analytical Method': [nan, nan, nan, nan, nan, 'high-throughput shake-flask', 'HPLC', 'chromatography', nan, nan, nan, nan, 'shake flask', nan, nan, nan, 'HPLC', nan, nan, nan], 'Solvent System': [nan, nan, nan, nan, nan, nan, nan, nan, nan, nan, nan, nan, nan, nan, nan, nan, nan, nan, nan, nan], 'Equilibration Technique': [nan, nan, nan, nan, nan, nan, nan, nan, nan, nan, nan, nan, nan, nan, nan, nan, nan, nan, nan, nan], 'Incubation Time': [nan, nan, nan, nan, nan, nan, nan, nan, nan, nan, nan, nan, nan, nan, nan, nan, nan, nan, nan, nan], 'Shaking Condition': [nan, nan, nan, nan, nan, nan, nan, nan, nan, nan, nan, nan, nan, nan, nan, nan, nan, nan, nan, nan], 'LogD experiment': [True, True, True, True, True, True, True, True, True, True, True, True, True, True, True, True, True, True, True, True]}}\\n```\n",
    "\n",
    "Example 2\n",
    "Input: Lipophilicity, logD of the compound \\n Lipophilicity, logD of compound at pH 7.4 by HPLC analysis \\n DNDI: Lipophilicity (gLogD) at pH 7.4 \\n DNDI: Lipophilicity (gLogD) at pH 3 \\n Lipophilicity, log D of the compound by HPLC analysis \\n Partition coefficient, log D of the compound at pH 7.4 \\n Lipophilicity, log D of the compound by chromatography \\n Partition coefficient (logD7.6) \\n Lipophilicity, logD of compound at pH 7.4 by shake flask method \\n Octanol-water partition coefficient, log D of the compound at pH 7.4 by shake flask method \\n Chromatographic lipophilicity, log D of compound at pH 7.4 by UV-HPLC analysis \\n Lipophilicity, log D of compound \\n Buffer/octanol partition coefficient, log D of the compound at pH 7.4 by shake flask method \\n DNDI: Lipophilicity measured in Chromatographic hydrophobicity index (CHI) assay, pH 7.4 \\n Lipophilicity, logD of the compound at pH 7.4 by chromatographic method \\n Octanol-water partition coefficient, log D of the compound at pH 7.4 \\n Octanol-phosphate buffer partition coefficient, log D of the compound at pH 7.4 by shake flask method \\n Lipophilicity, logD of the compound at pH 7.4 by shake flask method \\n Lipophilicity, logD of compound at pH 7.4 by Chromatography \\n Distribution coefficient, logD of the compound at pH 7.4\n",
    "\n",
    "Output:\n",
    "```python\\n{{'index': [1, 2, 3, 4, 5, 6, 7, 8, 9, 10, 11, 12, 13, 14, 15, 16, 17, 18, 19, 20], 'original sentence': ['Lipophilicity, logD of the compound', 'Lipophilicity, logD of compound at pH 7.4 by HPLC analysis', 'DNDI: Lipophilicity (gLogD) at pH 7.4', 'DNDI: Lipophilicity (gLogD) at pH 3', 'Lipophilicity, log D of the compound by HPLC analysis', 'Partition coefficient, log D of the compound at pH 7.4', 'Lipophilicity, log D of the compound by chromatography', 'Partition coefficient (logD7.6)', 'Lipophilicity, logD of compound at pH 7.4 by shake flask method', 'Octanol-water partition coefficient, log D of the compound at pH 7.4 by shake flask method', 'Chromatographic lipophilicity, log D of compound at pH 7.4 by UV-HPLC analysis', 'Lipophilicity, log D of compound', 'Buffer/octanol partition coefficient, log D of the compound at pH 7.4 by shake flask method', 'DNDI: Lipophilicity measured in Chromatographic hydrophobicity index (CHI) assay, pH 7.4', 'Lipophilicity, logD of the compound at pH 7.4 by chromatographic method', 'Octanol-water partition coefficient, log D of the compound at pH 7.4', 'Octanol-phosphate buffer partition coefficient, log D of the compound at pH 7.4 by shake flask method', 'Lipophilicity, logD of the compound at pH 7.4 by shake flask method', 'Lipophilicity, logD of compound at pH 7.4 by Chromatography', 'Distribution coefficient, logD of the compound at pH 7.4'], 'pH': [nan, 7.4, 7.4, 3.0, nan, 7.4, nan, 7.6, 7.4, 7.4, 7.4, nan, 7.4, 7.4, 7.4, 7.4, 7.4, 7.4, 7.4, 7.4], 'Analytical Method': [nan, 'HPLC', nan, nan, 'HPLC', nan, 'chromatography', nan, 'shake flask', 'shake flask', 'UV-HPLC', nan, 'shake flask', 'CHI assay', 'chromatography', nan, 'shake flask', 'shake flask', 'Chromatography', nan], 'Solvent System': [nan, nan, nan, nan, nan, nan, nan, nan, nan, 'octanol-water', nan, nan, 'buffer/octanol', nan, nan, 'octanol-water', 'octanol-phosphate buffer', nan, nan, nan], 'Equilibration Technique': [nan, nan, nan, nan, nan, nan, nan, nan, nan, nan, nan, nan, nan, nan, nan, nan, nan, nan, nan, nan], 'Incubation Time': [nan, nan, nan, nan, nan, nan, nan, nan, nan, nan, nan, nan, nan, nan, nan, nan, nan, nan, nan, nan], 'Shaking Condition': [nan, nan, nan, nan, nan, nan, nan, nan, nan, nan, nan, nan, nan, nan, nan, nan, nan, nan, nan, nan], 'LogD experiment': [True, True, True, True, True, True, True, True, True, True, True, True, True, True, True, True, True, True, True, True]}}\\n```\n",
    "\n",
    "\"\"\""
   ]
  },
  {
   "cell_type": "code",
   "execution_count": null,
   "id": "4846fc6f",
   "metadata": {},
   "outputs": [],
   "source": [
    "thread = client.beta.threads.create(\n",
    "  messages=[\n",
    "    {\n",
    "      \"role\": \"user\",\n",
    "      \"content\": mes,\n",
    "      \"file_ids\": assistant.file_ids\n",
    "    }\n",
    "  ]\n",
    ")"
   ]
  },
  {
   "cell_type": "code",
   "execution_count": null,
   "id": "3fdb9a2a",
   "metadata": {},
   "outputs": [],
   "source": [
    "thread.id"
   ]
  },
  {
   "cell_type": "code",
   "execution_count": null,
   "id": "badbdfb6",
   "metadata": {},
   "outputs": [],
   "source": [
    "len(assay_description)"
   ]
  },
  {
   "cell_type": "code",
   "execution_count": null,
   "id": "29e5fc0a",
   "metadata": {
    "scrolled": false
   },
   "outputs": [],
   "source": [
    "for i in tqdm(range(0,len(assay_description),20)):\n",
    "    info = ' \\n '.join(assay_description[i:i+20])\n",
    "    \n",
    "    chatGPT_replay(thread.id, assistant, question_content=info)\n",
    "    time.sleep(3)\n",
    "    runs = client.beta.threads.runs.list(\n",
    "          thread.id)\n",
    "    \n",
    "    while runs.data[0].status != 'completed':\n",
    "        time.sleep(3)\n",
    "        runs = client.beta.threads.runs.list(\n",
    "          thread.id\n",
    "        )\n",
    "    \n",
    "    thread_messages = client.beta.threads.messages.list(thread.id)\n",
    "\n",
    "    try:\n",
    "        answer = extract_code_script_from_markdown(thread_messages.data[0].content[0].text.value)[0]\n",
    "        if '=' in answer:\n",
    "            answer = answer.split('=')[1]\n",
    "        answer = eval(answer)\n",
    "        pd.DataFrame(answer).to_csv(f'../data/data_mining_results/logd/batch/{prop}_batch_{i}.csv',index=False)\n",
    "    except:\n",
    "        print(f'error for {i}')\n",
    "        display(thread_messages.data[0].content[0].text.value)\n",
    "        continue\n"
   ]
  },
  {
   "cell_type": "markdown",
   "id": "4adf5a7d",
   "metadata": {
    "collapsed": true
   },
   "source": [
    "# Combine result"
   ]
  },
  {
   "cell_type": "code",
   "execution_count": null,
   "id": "9007da8e",
   "metadata": {},
   "outputs": [],
   "source": [
    "import os\n",
    "root_path = '../data/data_mining_results/LogD/batch/'\n",
    "result = pd.DataFrame()\n",
    "for file in os.listdir(root_path):\n",
    "    if 'csv' in file:\n",
    "        file_path = os.path.join(root_path,file)\n",
    "        tmp = pd.read_csv(file_path)\n",
    "        result = pd.concat([result,tmp])"
   ]
  },
  {
   "cell_type": "code",
   "execution_count": null,
   "id": "cf3fb39f",
   "metadata": {},
   "outputs": [],
   "source": [
    "result.columns"
   ]
  },
  {
   "cell_type": "code",
   "execution_count": null,
   "id": "4a81e720",
   "metadata": {},
   "outputs": [],
   "source": [
    "result = result[[ 'original sentence', 'pH', 'Analytical Method',\n",
    "       'Solvent System', 'Equilibration Technique', 'Incubation Time',\n",
    "       'Shaking Condition', 'LogD experiment']]"
   ]
  },
  {
   "cell_type": "code",
   "execution_count": null,
   "id": "6b196886",
   "metadata": {},
   "outputs": [],
   "source": [
    "result.columns = ['Assay Description','pH', 'Analytical Method',\n",
    "       'Solvent System', 'Equilibration Technique', 'Incubation Time',\n",
    "       'Shaking Condition', 'LogD experiment']"
   ]
  },
  {
   "cell_type": "code",
   "execution_count": null,
   "id": "40cc3153",
   "metadata": {},
   "outputs": [],
   "source": [
    "df = pd.read_csv('../data/raw_data/LogD/chembl_logd_raw_data.csv')\n",
    "col_list = ['Molecule ChEMBL ID', \n",
    "       'Smiles', 'Standard Type', 'Standard Relation', 'Standard Value',\n",
    "       'Standard Units', 'Assay ChEMBL ID', 'Assay Description', 'Assay Type', 'BAO Format ID',\n",
    "       'BAO Label', \n",
    "       'Document ChEMBL ID', 'Source Description',\n",
    "       'Document Journal', 'Document Year']\n",
    "df = df[col_list]"
   ]
  },
  {
   "cell_type": "code",
   "execution_count": null,
   "id": "ca689e00",
   "metadata": {},
   "outputs": [],
   "source": [
    "df = df.merge(result,on='Assay Description',how='left')\n",
    "df"
   ]
  },
  {
   "cell_type": "code",
   "execution_count": null,
   "id": "29a498cf",
   "metadata": {},
   "outputs": [],
   "source": [
    "df.to_csv('../data/data_mining_results/LogD/LogD_Chembl_data_mining_finished.csv',index=False)"
   ]
  },
  {
   "cell_type": "code",
   "execution_count": null,
   "id": "52eee354",
   "metadata": {},
   "outputs": [],
   "source": []
  }
 ],
 "metadata": {
  "kernelspec": {
   "display_name": "Python 3 (ipykernel)",
   "language": "python",
   "name": "python3"
  },
  "language_info": {
   "codemirror_mode": {
    "name": "ipython",
    "version": 3
   },
   "file_extension": ".py",
   "mimetype": "text/x-python",
   "name": "python",
   "nbconvert_exporter": "python",
   "pygments_lexer": "ipython3",
   "version": "3.9.6"
  }
 },
 "nbformat": 4,
 "nbformat_minor": 5
}
