{
 "cells": [
  {
   "cell_type": "code",
   "execution_count": null,
   "id": "01c802b6",
   "metadata": {},
   "outputs": [],
   "source": [
    "import openai\n",
    "from tqdm.notebook import tqdm\n",
    "import pandas as pd\n",
    "import os\n",
    "from IPython.display import display, Markdown\n",
    "import pickle as pkl\n",
    "pd.set_option('display.max_columns', 60)\n",
    "import time\n",
    "\n",
    "from datamining_utils import chatGPT_check_replay,chatGPT_replay,load_api_key_from_file,extract_code_script_from_markdown,find_dictionaries_in_string\n",
    "\n",
    "%load_ext autoreload\n",
    "%autoreload 2"
   ]
  },
  {
   "cell_type": "code",
   "execution_count": null,
   "id": "d42a20f2",
   "metadata": {},
   "outputs": [],
   "source": [
    "# Usage\n",
    "api_key = load_api_key_from_file()\n",
    "from openai import OpenAI\n",
    "client = OpenAI(api_key = api_key)"
   ]
  },
  {
   "cell_type": "markdown",
   "id": "1a34ae87",
   "metadata": {},
   "source": [
    "# Key Word Agent"
   ]
  },
  {
   "cell_type": "code",
   "execution_count": null,
   "id": "6a09b420",
   "metadata": {},
   "outputs": [],
   "source": [
    "prop = 'Blood_Brain_Barrier'"
   ]
  },
  {
   "cell_type": "code",
   "execution_count": null,
   "id": "72fb1d74",
   "metadata": {},
   "outputs": [],
   "source": [
    "assistant = client.beta.assistants.create(name=f'{prop} knowledge generation chatbot',\n",
    "  instructions=f\"Please summarize the ADME-T related important experimental conditions\",\n",
    "  model=\"gpt-4-1106-preview\",\n",
    ")   "
   ]
  },
  {
   "cell_type": "code",
   "execution_count": null,
   "id": "51e491b5",
   "metadata": {
    "scrolled": true
   },
   "outputs": [],
   "source": [
    "assistant.id"
   ]
  },
  {
   "cell_type": "code",
   "execution_count": null,
   "id": "a32de2bc",
   "metadata": {},
   "outputs": [],
   "source": [
    "thread = client.beta.threads.create(\n",
    "  messages=[\n",
    "    {\n",
    "      \"role\": \"user\",\n",
    "      \"content\": \"summarise the key experimental conditions within the given experiments\",\n",
    "      \"file_ids\": assistant.file_ids\n",
    "    }\n",
    "  ]\n",
    ")"
   ]
  },
  {
   "cell_type": "code",
   "execution_count": null,
   "id": "5affc311",
   "metadata": {},
   "outputs": [],
   "source": [
    "thread.id"
   ]
  },
  {
   "cell_type": "markdown",
   "id": "2dd91d59",
   "metadata": {},
   "source": [
    "### summarize the important experimental conditions"
   ]
  },
  {
   "cell_type": "code",
   "execution_count": null,
   "id": "3b6f7756",
   "metadata": {},
   "outputs": [],
   "source": [
    "df = pd.read_csv('../data/raw_data/bbb/chembl_bbb_raw_data.csv')\n",
    "df = df.drop_duplicates('Assay Description')\n",
    "condition = ' \\n '.join(df['Assay Description'][0:50])"
   ]
  },
  {
   "cell_type": "code",
   "execution_count": null,
   "id": "0a299f31",
   "metadata": {},
   "outputs": [],
   "source": [
    "mes = f\"\"\"\n",
    "Please summarize the key experimental conditions for experiments related to {prop} within the {condition}\n",
    "\n",
    "\n",
    "Please analyze the document and return a list of the top five most frequently mentioned experimental condition categories. These should be summarized under broad categories, such as pH levels, temperature ranges, or other relevant general conditions, rather than specific values or detailed conditions. Present this information in a Python list format.\n",
    "\n",
    "Each entry in the list should represent a unique category of experimental conditions. Avoid duplicating similar conditions and focus on capturing the overarching categories that these conditions fall under.\n",
    "\n",
    "Example output:\n",
    "```python\n",
    "['pH Level', 'Temperature Range', 'Light Exposure']\n",
    "```\n",
    "\n",
    "Ensure that the list is comprehensive, covering all major categories of experimental conditions mentioned in the document.\n",
    "\"\"\""
   ]
  },
  {
   "cell_type": "code",
   "execution_count": null,
   "id": "51203c1d",
   "metadata": {},
   "outputs": [],
   "source": [
    "chatGPT_replay(client,thread.id, assistant, question_content=mes)"
   ]
  },
  {
   "cell_type": "code",
   "execution_count": null,
   "id": "d68eb989",
   "metadata": {},
   "outputs": [],
   "source": [
    "# time.sleep(3)\n",
    "chatGPT_check_replay(client,thread)\n",
    "\n",
    "thread_messages = client.beta.threads.messages.list(thread.id)\n",
    "answer = extract_code_script_from_markdown(thread_messages.data[0].content[0].text.value)[0]\n",
    "experimental_conditions = eval(answer)\n",
    "experimental_conditions"
   ]
  },
  {
   "cell_type": "code",
   "execution_count": null,
   "id": "b474d77c",
   "metadata": {},
   "outputs": [],
   "source": [
    "experimental_conditions = ['Cell Line Models',\n",
    " 'Temperature Conditions',\n",
    " 'Permeability Assays',\n",
    " 'pH Levels',\n",
    " 'Concentration and Dosing Parameters']"
   ]
  },
  {
   "cell_type": "code",
   "execution_count": null,
   "id": "2555d2e8",
   "metadata": {},
   "outputs": [],
   "source": [
    "with open(f'../data/data_mining_results/{prop}/{prop}_experimental_conditions_summaried_by_LLMs.pkl','wb') as f:\n",
    "    pkl.dump(experimental_conditions,f)"
   ]
  },
  {
   "cell_type": "markdown",
   "id": "8f7d149b",
   "metadata": {},
   "source": [
    "# Example Agent"
   ]
  },
  {
   "cell_type": "code",
   "execution_count": null,
   "id": "1edde1fc",
   "metadata": {},
   "outputs": [],
   "source": [
    "with open(f'../data/data_mining_results/{prop}/{prop}_experimental_conditions_summaried_by_LLMs.pkl','rb') as f:\n",
    "    experimental_conditions = pkl.load(f)"
   ]
  },
  {
   "cell_type": "code",
   "execution_count": null,
   "id": "3f07d099",
   "metadata": {},
   "outputs": [],
   "source": [
    "assistant = client.beta.assistants.create(name='Data Mining chatbot',\n",
    "  instructions=f\"Please mining the key biomedical information within the given data\",\n",
    "  model=\"gpt-4-1106-preview\",\n",
    ")   "
   ]
  },
  {
   "cell_type": "code",
   "execution_count": null,
   "id": "5c1844d3",
   "metadata": {
    "scrolled": true
   },
   "outputs": [],
   "source": [
    "assistant.id"
   ]
  },
  {
   "cell_type": "code",
   "execution_count": null,
   "id": "bb4de378",
   "metadata": {},
   "outputs": [],
   "source": [
    "mes = \"\"\"\n",
    "Biomedical data mining task.\n",
    "\n",
    "Return python dictionary with key including index, original sentence, {}, and whether is {} experiment or not \n",
    "Fill in none if no information given. \n",
    "Please include all the sentences\n",
    "\n",
    "\"\"\".format(', '.join(experimental_conditions),prop)"
   ]
  },
  {
   "cell_type": "code",
   "execution_count": null,
   "id": "287c6dc7",
   "metadata": {},
   "outputs": [],
   "source": [
    "thread = client.beta.threads.create(\n",
    "  messages=[\n",
    "    {\n",
    "      \"role\": \"user\",\n",
    "      \"content\": mes,\n",
    "      \"file_ids\": assistant.file_ids\n",
    "    }\n",
    "  ]\n",
    ")"
   ]
  },
  {
   "cell_type": "code",
   "execution_count": null,
   "id": "59801037",
   "metadata": {},
   "outputs": [],
   "source": [
    "thread.id"
   ]
  },
  {
   "cell_type": "code",
   "execution_count": null,
   "id": "8cff56a5",
   "metadata": {},
   "outputs": [],
   "source": [
    "df = pd.read_csv('../data/raw_data/bbb/chembl_bbb_raw_data.csv')"
   ]
  },
  {
   "cell_type": "code",
   "execution_count": null,
   "id": "de9471d1",
   "metadata": {
    "scrolled": false
   },
   "outputs": [],
   "source": [
    "result = pd.DataFrame()\n",
    "for i in tqdm(range(0,40,20)):\n",
    "    info = ' \\n '.join(df['Assay Description'].value_counts().keys()[i:i+20])\n",
    "    \n",
    "    chatGPT_replay(client,thread.id, assistant, question_content=info)\n",
    "    time.sleep(3)\n",
    "    runs = client.beta.threads.runs.list(\n",
    "          thread.id)\n",
    "    \n",
    "    while runs.data[0].status != 'completed':\n",
    "        time.sleep(3)\n",
    "        runs = client.beta.threads.runs.list(\n",
    "          thread.id\n",
    "        )\n",
    "    \n",
    "    thread_messages = client.beta.threads.messages.list(thread.id)\n",
    "    answer = extract_code_script_from_markdown(thread_messages.data[0].content[0].text.value)[0]\n",
    "    answer = pd.DataFrame(find_dictionaries_in_string(answer))\n",
    "    \n",
    "\n",
    "    display(pd.DataFrame(answer))\n",
    "    result = pd.concat([result,pd.DataFrame(answer)])"
   ]
  },
  {
   "cell_type": "code",
   "execution_count": null,
   "id": "79cffc63",
   "metadata": {},
   "outputs": [],
   "source": [
    "result.to_csv(f'../data/data_mining_results/{prop}/example_{prop}.csv',index=False)"
   ]
  },
  {
   "cell_type": "markdown",
   "id": "54fb0dfd",
   "metadata": {},
   "source": [
    "# Manul Validate and Create Full Promt with two shot Examples"
   ]
  },
  {
   "cell_type": "code",
   "execution_count": null,
   "id": "c9520e5e",
   "metadata": {},
   "outputs": [],
   "source": [
    "examples = pd.read_csv(f'../data/data_mining_results/{prop}/example_{prop}_manuel_validated.csv')"
   ]
  },
  {
   "cell_type": "code",
   "execution_count": null,
   "id": "594cddad",
   "metadata": {},
   "outputs": [],
   "source": [
    "tmp = examples[0:20]\n",
    "\n",
    "' \\n '.join(tmp[ 'original sentence'].values)"
   ]
  },
  {
   "cell_type": "code",
   "execution_count": null,
   "id": "e92b94c2",
   "metadata": {},
   "outputs": [],
   "source": [
    "str(tmp.to_dict(orient='list'))"
   ]
  },
  {
   "cell_type": "code",
   "execution_count": null,
   "id": "b5f0c00b",
   "metadata": {},
   "outputs": [],
   "source": [
    "tmp = examples[20::]\n",
    "\n",
    "' \\n '.join(tmp[ 'original sentence'].values)"
   ]
  },
  {
   "cell_type": "code",
   "execution_count": null,
   "id": "65b63155",
   "metadata": {},
   "outputs": [],
   "source": [
    "str(tmp.to_dict(orient='list'))"
   ]
  },
  {
   "cell_type": "markdown",
   "id": "f40598ba",
   "metadata": {},
   "source": [
    "\n",
    "\n",
    "f\"\"\"\n",
    "Biomedical data mining task.\n",
    "\n",
    "Return python dictionary with key including index, original sentence, {experimental_conditions_list}, and whether is {prop} experiment or not \n",
    "Fill in none if no information given. \n",
    "Please don't ignore some sentences.\n",
    "\n",
    "Example 1 \n",
    "Input: 'Permeability of the compound by PAMPA \\n Permeability of the compound at pH 7.4 by PAMPA \\n SUPPLEMENTARY: PAMPA permeability assay \\n Permeability of compound by PAMPA assay \\n Permeability from apical to basolateral side in human Caco2 cells \\n Permeability across apical to basolateral side in human Caco2 cells \\n Permeability across human Caco2 cells \\n Permeability from basolateral to apical side in human Caco2 cells \\n Permeability at pH 7.4 by PAMPA method \\n Permeability in human Caco2 cells \\n Permeability from apical to basolateral side of human Caco2 cells \\n Permeability of the compound at pH 7.4 by PAMPA assay \\n Permeability of the compound by PAMPA method at pH 7.4 \\n Permeability of the compound at pH 7.4 after 30 mins by PAMPA \\n Membrane permeability by PAMPA \\n Membrane permeability by PAMPA assay \\n Permeability of compound by PAMPA \\n Permeability of compound by PAMPA-BBB assay \\n Passive transcellular permeability of the compound at pH 4 by PAMPA \\n Passive transcellular permeability of the compound at pH 7.4 by PAMPA'\n",
    "\n",
    "Output:\n",
    "```python\\n{{'index': [0, 1, 2, 3, 4, 5, 6, 7, 8, 9, 10, 11, 12, 13, 14, 15, 16, 17, 18, 19], 'original sentence': ['Permeability of the compound by PAMPA', 'Permeability of the compound at pH 7.4 by PAMPA', 'SUPPLEMENTARY: PAMPA permeability assay', 'Permeability of compound by PAMPA assay', 'Permeability from apical to basolateral side in human Caco2 cells', 'Permeability across apical to basolateral side in human Caco2 cells', 'Permeability across human Caco2 cells', 'Permeability from basolateral to apical side in human Caco2 cells', 'Permeability at pH 7.4 by PAMPA method', 'Permeability in human Caco2 cells', 'Permeability from apical to basolateral side of human Caco2 cells', 'Permeability of the compound at pH 7.4 by PAMPA assay', 'Permeability of the compound by PAMPA method at pH 7.4', 'Permeability of the compound at pH 7.4 after 30 mins by PAMPA', 'Membrane permeability by PAMPA', 'Membrane permeability by PAMPA assay', 'Permeability of compound by PAMPA', 'Permeability of compound by PAMPA-BBB assay', 'Passive transcellular permeability of the compound at pH 4 by PAMPA', 'Passive transcellular permeability of the compound at pH 7.4 by PAMPA'], 'Cell Line Models': ['PAMPA', 'PAMPA', 'PAMPA', 'PAMPA', 'Caco2', 'Caco2', 'Caco2', 'Caco2', 'PAMPA', 'Caco2', 'Caco2', 'PAMPA', 'PAMPA', 'PAMPA', 'PAMPA', 'PAMPA', 'PAMPA', 'PAMPA-BBB', 'PAMPA', 'PAMPA'], 'Temperature Conditions': ['None', 'None', 'None', 'None', 'None', 'None', 'None', 'None', 'None', 'None', 'None', 'None', 'None', 'None', 'None', 'None', 'None', 'None', 'None', 'None'], 'Permeability Assays': ['None', 'None', 'None', 'None', 'apical to basolateral', 'apical to basolateral', 'None', 'basolateral to apical', 'PAMPA', 'None', 'apical to basolateral', 'None', 'None', 'None', 'None', 'None', 'None', 'None', 'None', 'None'], 'pH Levels': ['None', '7.4', 'None', 'None', 'None', 'None', 'None', 'None', '7.4', 'None', 'None', '7.4', '7.4', '7.4', 'None', 'None', 'None', 'None', '4', '7.4'], 'Concentration and Dosing Parameters': ['None', 'None', 'None', 'None', 'None', 'None', 'None', 'None', 'None', 'None', 'None', 'None', 'None', 'after 30 mins', 'None', 'None', 'None', 'None', 'None', 'None'], 'Blood_Brain_Barrier': [False, False, False, False, False, False, False, False, False, False, False, False, False, False, False, False, False, True, False, False]}}\\n```\n",
    "\n",
    "Example 2\n",
    "Input: 'Permeability of compound at pH 7.4 by PAMPA assay \\n Permeability across human Caco-2 cells \\n Permeability of compound \\n Permeability across basolateral to apical side in human Caco2 cells \\n Permeability from apical to basolateral side in human Caco-2 cells \\n Permeability of the compound by PAMPA assay \\n Permeability of the compound \\n Permeability of the compound at pH 7.4 incubated for 30 mins by UV plate reader based PAMPA assay \\n Permeability of the compound by PAMPA assay at pH 7.4 \\n Permeability in RRCK cells \\n Permeability of compound at pH 7.4 by PAMPA \\n Permeability in MDCK cells \\n Permeability across apical to basolateral side in human Caco2 cells measured up to 2 hrs by LC-MS/MS analysis or scintillation counting method \\n Passive permeability in MDCK cells at 2 uM after 90 mins by LC-MS/MS analysis \\n Apparent permeability of compound at pH 7.4 by artificial membrane permeability assay \\n Permeability across Caco-2 cell membrane \\n Permeability of the compound at pH 5.5 by PAMPA \\n Permeability of the compound by PAMPA-BBB assay \\n Permeability of the compound at pH 5.5 by PAMPA assay \\n Permeability of the compound at 10 uM by PAMPA'\n",
    "\n",
    "Output:\n",
    "```python\\n{{'index': [20, 21, 22, 23, 24, 25, 26, 27, 28, 29, 30, 31, 32, 33, 34, 35, 36, 37, 38, 39], 'original sentence': ['Permeability of compound at pH 7.4 by PAMPA assay', 'Permeability across human Caco-2 cells', 'Permeability of compound', 'Permeability across basolateral to apical side in human Caco2 cells', 'Permeability from apical to basolateral side in human Caco-2 cells', 'Permeability of the compound by PAMPA assay', 'Permeability of the compound', 'Permeability of the compound at pH 7.4 incubated for 30 mins by UV plate reader based PAMPA assay', 'Permeability of the compound by PAMPA assay at pH 7.4', 'Permeability in RRCK cells', 'Permeability of compound at pH 7.4 by PAMPA', 'Permeability in MDCK cells', 'Permeability across apical to basolateral side in human Caco2 cells measured up to 2 hrs by LC-MS/MS analysis or scintillation counting method', 'Passive permeability in MDCK cells at 2 uM after 90 mins by LC-MS/MS analysis', 'Apparent permeability of compound at pH 7.4 by artificial membrane permeability assay', 'Permeability across Caco-2 cell membrane', 'Permeability of the compound at pH 5.5 by PAMPA', 'Permeability of the compound by PAMPA-BBB assay', 'Permeability of the compound at pH 5.5 by PAMPA assay', 'Permeability of the compound at 10 uM by PAMPA'], 'Cell Line Models': ['PAMPA', 'Caco-2', 'None', 'Caco2', 'Caco-2', 'PAMPA', 'None', 'PAMPA', 'PAMPA', 'RRCK', 'PAMPA', 'MDCK', 'Caco2', 'MDCK', 'PAMPA', 'Caco-2', 'PAMPA', 'PAMPA-BBB', 'PAMPA', 'PAMPA'], 'Temperature Conditions': ['None', 'None', 'None', 'None', 'None', 'None', 'None', 'None', 'None', 'None', 'None', 'None', 'None', 'None', 'None', 'None', 'None', 'None', 'None', 'None'], 'Permeability Assays': ['None', 'None', 'None', 'basolateral to apical', 'apical to basolateral', 'None', 'None', 'None', 'None', 'None', 'None', 'None', 'apical to basolateral', 'None', 'None', 'None', 'None', 'None', 'None', 'None'], 'pH Levels': ['7.4', 'None', 'None', 'None', 'None', 'None', 'None', '7.4', '7.4', 'None', '7.4', 'None', 'None', 'None', '7.4', 'None', '5.5', 'None', '5.5', 'None'], 'Concentration and Dosing Parameters': ['None', 'None', 'None', 'None', 'None', 'None', 'None', 'incubated for 30 mins', 'None', 'None', 'None', 'None', 'None', '2 uM', 'None', 'None', 'None', 'None', 'None', '10 uM'], 'Blood_Brain_Barrier': [False, False, False, False, False, False, False, False, False, False, False, False, False, False, False, False, False, True, False, False]}}\\n```\n",
    "\n",
    "\"\"\""
   ]
  },
  {
   "cell_type": "markdown",
   "id": "603fabe5",
   "metadata": {},
   "source": [
    "# Data Mining Agent"
   ]
  },
  {
   "cell_type": "markdown",
   "id": "0e3f6747",
   "metadata": {},
   "source": [
    "### Load data "
   ]
  },
  {
   "cell_type": "code",
   "execution_count": null,
   "id": "22f22499",
   "metadata": {},
   "outputs": [],
   "source": [
    "df = pd.read_csv('../data/raw_data/bbb/chembl_bbb_raw_data.csv')\n",
    "assay_description = df['Assay Description'].value_counts().keys()"
   ]
  },
  {
   "cell_type": "markdown",
   "id": "16334371",
   "metadata": {},
   "source": [
    "### Create agent"
   ]
  },
  {
   "cell_type": "code",
   "execution_count": null,
   "id": "863c6c65",
   "metadata": {},
   "outputs": [],
   "source": [
    "assistant = client.beta.assistants.create(name='Data Mining chatbot',\n",
    "  instructions=f\"Please mining the key biomedical information within the given data\",\n",
    "  model=\"gpt-4-1106-preview\",\n",
    ")   "
   ]
  },
  {
   "cell_type": "code",
   "execution_count": null,
   "id": "e3fd53fc",
   "metadata": {
    "scrolled": false
   },
   "outputs": [],
   "source": [
    "assistant.id"
   ]
  },
  {
   "cell_type": "code",
   "execution_count": null,
   "id": "34b251d1",
   "metadata": {},
   "outputs": [],
   "source": [
    "experimental_conditions_list = ['Cell Line Models',\n",
    " 'Temperature Conditions',\n",
    " 'Permeability Assays',\n",
    " 'pH Levels',\n",
    " 'Concentration and Dosing Parameters']\n",
    "\n",
    "experimental_conditions_list = ', '.join(experimental_conditions_list)\n",
    "experimental_conditions_list"
   ]
  },
  {
   "cell_type": "code",
   "execution_count": null,
   "id": "316cf235",
   "metadata": {},
   "outputs": [],
   "source": [
    "mes = f\"\"\"\n",
    "Biomedical data mining task.\n",
    "\n",
    "Return python dictionary with key including index, original sentence, {experimental_conditions_list}, and whether is {prop} experiment or not \n",
    "Fill in none if no information given. \n",
    "Please don't ignore some sentences.\n",
    "\n",
    "Example 1 \n",
    "Input: 'Permeability of the compound by PAMPA \\n Permeability of the compound at pH 7.4 by PAMPA \\n SUPPLEMENTARY: PAMPA permeability assay \\n Permeability of compound by PAMPA assay \\n Permeability from apical to basolateral side in human Caco2 cells \\n Permeability across apical to basolateral side in human Caco2 cells \\n Permeability across human Caco2 cells \\n Permeability from basolateral to apical side in human Caco2 cells \\n Permeability at pH 7.4 by PAMPA method \\n Permeability in human Caco2 cells \\n Permeability from apical to basolateral side of human Caco2 cells \\n Permeability of the compound at pH 7.4 by PAMPA assay \\n Permeability of the compound by PAMPA method at pH 7.4 \\n Permeability of the compound at pH 7.4 after 30 mins by PAMPA \\n Membrane permeability by PAMPA \\n Membrane permeability by PAMPA assay \\n Permeability of compound by PAMPA \\n Permeability of compound by PAMPA-BBB assay \\n Passive transcellular permeability of the compound at pH 4 by PAMPA \\n Passive transcellular permeability of the compound at pH 7.4 by PAMPA'\n",
    "\n",
    "Output:\n",
    "```python\\n{{'index': [0, 1, 2, 3, 4, 5, 6, 7, 8, 9, 10, 11, 12, 13, 14, 15, 16, 17, 18, 19], 'original sentence': ['Permeability of the compound by PAMPA', 'Permeability of the compound at pH 7.4 by PAMPA', 'SUPPLEMENTARY: PAMPA permeability assay', 'Permeability of compound by PAMPA assay', 'Permeability from apical to basolateral side in human Caco2 cells', 'Permeability across apical to basolateral side in human Caco2 cells', 'Permeability across human Caco2 cells', 'Permeability from basolateral to apical side in human Caco2 cells', 'Permeability at pH 7.4 by PAMPA method', 'Permeability in human Caco2 cells', 'Permeability from apical to basolateral side of human Caco2 cells', 'Permeability of the compound at pH 7.4 by PAMPA assay', 'Permeability of the compound by PAMPA method at pH 7.4', 'Permeability of the compound at pH 7.4 after 30 mins by PAMPA', 'Membrane permeability by PAMPA', 'Membrane permeability by PAMPA assay', 'Permeability of compound by PAMPA', 'Permeability of compound by PAMPA-BBB assay', 'Passive transcellular permeability of the compound at pH 4 by PAMPA', 'Passive transcellular permeability of the compound at pH 7.4 by PAMPA'], 'Cell Line Models': ['PAMPA', 'PAMPA', 'PAMPA', 'PAMPA', 'Caco2', 'Caco2', 'Caco2', 'Caco2', 'PAMPA', 'Caco2', 'Caco2', 'PAMPA', 'PAMPA', 'PAMPA', 'PAMPA', 'PAMPA', 'PAMPA', 'PAMPA-BBB', 'PAMPA', 'PAMPA'], 'Temperature Conditions': ['None', 'None', 'None', 'None', 'None', 'None', 'None', 'None', 'None', 'None', 'None', 'None', 'None', 'None', 'None', 'None', 'None', 'None', 'None', 'None'], 'Permeability Assays': ['None', 'None', 'None', 'None', 'apical to basolateral', 'apical to basolateral', 'None', 'basolateral to apical', 'PAMPA', 'None', 'apical to basolateral', 'None', 'None', 'None', 'None', 'None', 'None', 'None', 'None', 'None'], 'pH Levels': ['None', '7.4', 'None', 'None', 'None', 'None', 'None', 'None', '7.4', 'None', 'None', '7.4', '7.4', '7.4', 'None', 'None', 'None', 'None', '4', '7.4'], 'Concentration and Dosing Parameters': ['None', 'None', 'None', 'None', 'None', 'None', 'None', 'None', 'None', 'None', 'None', 'None', 'None', 'after 30 mins', 'None', 'None', 'None', 'None', 'None', 'None'], 'Blood_Brain_Barrier': [False, False, False, False, False, False, False, False, False, False, False, False, False, False, False, False, False, True, False, False]}}\\n```\n",
    "\n",
    "Example 2\n",
    "Input: 'Permeability of compound at pH 7.4 by PAMPA assay \\n Permeability across human Caco-2 cells \\n Permeability of compound \\n Permeability across basolateral to apical side in human Caco2 cells \\n Permeability from apical to basolateral side in human Caco-2 cells \\n Permeability of the compound by PAMPA assay \\n Permeability of the compound \\n Permeability of the compound at pH 7.4 incubated for 30 mins by UV plate reader based PAMPA assay \\n Permeability of the compound by PAMPA assay at pH 7.4 \\n Permeability in RRCK cells \\n Permeability of compound at pH 7.4 by PAMPA \\n Permeability in MDCK cells \\n Permeability across apical to basolateral side in human Caco2 cells measured up to 2 hrs by LC-MS/MS analysis or scintillation counting method \\n Passive permeability in MDCK cells at 2 uM after 90 mins by LC-MS/MS analysis \\n Apparent permeability of compound at pH 7.4 by artificial membrane permeability assay \\n Permeability across Caco-2 cell membrane \\n Permeability of the compound at pH 5.5 by PAMPA \\n Permeability of the compound by PAMPA-BBB assay \\n Permeability of the compound at pH 5.5 by PAMPA assay \\n Permeability of the compound at 10 uM by PAMPA'\n",
    "\n",
    "Output:\n",
    "```python\\n{{'index': [20, 21, 22, 23, 24, 25, 26, 27, 28, 29, 30, 31, 32, 33, 34, 35, 36, 37, 38, 39], 'original sentence': ['Permeability of compound at pH 7.4 by PAMPA assay', 'Permeability across human Caco-2 cells', 'Permeability of compound', 'Permeability across basolateral to apical side in human Caco2 cells', 'Permeability from apical to basolateral side in human Caco-2 cells', 'Permeability of the compound by PAMPA assay', 'Permeability of the compound', 'Permeability of the compound at pH 7.4 incubated for 30 mins by UV plate reader based PAMPA assay', 'Permeability of the compound by PAMPA assay at pH 7.4', 'Permeability in RRCK cells', 'Permeability of compound at pH 7.4 by PAMPA', 'Permeability in MDCK cells', 'Permeability across apical to basolateral side in human Caco2 cells measured up to 2 hrs by LC-MS/MS analysis or scintillation counting method', 'Passive permeability in MDCK cells at 2 uM after 90 mins by LC-MS/MS analysis', 'Apparent permeability of compound at pH 7.4 by artificial membrane permeability assay', 'Permeability across Caco-2 cell membrane', 'Permeability of the compound at pH 5.5 by PAMPA', 'Permeability of the compound by PAMPA-BBB assay', 'Permeability of the compound at pH 5.5 by PAMPA assay', 'Permeability of the compound at 10 uM by PAMPA'], 'Cell Line Models': ['PAMPA', 'Caco-2', 'None', 'Caco2', 'Caco-2', 'PAMPA', 'None', 'PAMPA', 'PAMPA', 'RRCK', 'PAMPA', 'MDCK', 'Caco2', 'MDCK', 'PAMPA', 'Caco-2', 'PAMPA', 'PAMPA-BBB', 'PAMPA', 'PAMPA'], 'Temperature Conditions': ['None', 'None', 'None', 'None', 'None', 'None', 'None', 'None', 'None', 'None', 'None', 'None', 'None', 'None', 'None', 'None', 'None', 'None', 'None', 'None'], 'Permeability Assays': ['None', 'None', 'None', 'basolateral to apical', 'apical to basolateral', 'None', 'None', 'None', 'None', 'None', 'None', 'None', 'apical to basolateral', 'None', 'None', 'None', 'None', 'None', 'None', 'None'], 'pH Levels': ['7.4', 'None', 'None', 'None', 'None', 'None', 'None', '7.4', '7.4', 'None', '7.4', 'None', 'None', 'None', '7.4', 'None', '5.5', 'None', '5.5', 'None'], 'Concentration and Dosing Parameters': ['None', 'None', 'None', 'None', 'None', 'None', 'None', 'incubated for 30 mins', 'None', 'None', 'None', 'None', 'None', '2 uM', 'None', 'None', 'None', 'None', 'None', '10 uM'], 'Blood_Brain_Barrier': [False, False, False, False, False, False, False, False, False, False, False, False, False, False, False, False, False, True, False, False]}}\\n```\n",
    "\n",
    "\"\"\""
   ]
  },
  {
   "cell_type": "code",
   "execution_count": null,
   "id": "dafb5e28",
   "metadata": {},
   "outputs": [],
   "source": [
    "def replace_single_with_double_quotes(code_str):\n",
    "    return code_str.replace(\"'\", '\"')\n",
    "\n",
    "\n",
    "mes = replace_single_with_double_quotes(mes)\n"
   ]
  },
  {
   "cell_type": "code",
   "execution_count": null,
   "id": "4846fc6f",
   "metadata": {},
   "outputs": [],
   "source": [
    "thread = client.beta.threads.create(\n",
    "  messages=[\n",
    "    {\n",
    "      \"role\": \"user\",\n",
    "      \"content\": mes,\n",
    "      \"file_ids\": assistant.file_ids\n",
    "    }\n",
    "  ]\n",
    ")"
   ]
  },
  {
   "cell_type": "code",
   "execution_count": null,
   "id": "3fdb9a2a",
   "metadata": {},
   "outputs": [],
   "source": [
    "thread.id"
   ]
  },
  {
   "cell_type": "code",
   "execution_count": null,
   "id": "badbdfb6",
   "metadata": {},
   "outputs": [],
   "source": [
    "len(assay_description)"
   ]
  },
  {
   "cell_type": "code",
   "execution_count": null,
   "id": "29e5fc0a",
   "metadata": {
    "scrolled": true
   },
   "outputs": [],
   "source": [
    "for i in tqdm(range(0,len(assay_description),20)):\n",
    "    info = ' \\n '.join(assay_description[i:i+20])\n",
    "    \n",
    "    chatGPT_replay(client,thread.id, assistant, question_content=info)\n",
    "    time.sleep(3)\n",
    "    chatGPT_check_replay(client,thread, dis=False)\n",
    "    \n",
    "    thread_messages = client.beta.threads.messages.list(thread.id)\n",
    "\n",
    "    try:\n",
    "        answer = extract_code_script_from_markdown(thread_messages.data[0].content[0].text.value)[0]\n",
    "        answer = pd.DataFrame(find_dictionaries_in_string(answer)[0])\n",
    "        answer.to_csv(f'../me(find_dictionaries_in_string(answer)[0])\n",
    "        answer.to_csv(f'../data/data_mining_results/{prop}/batch/{prop}_batch_{i}.csv',index=False)\n",
    "    except:\n",
    "        print(f'error for {i}')\n",
    "        display(thread_messages.data[0].content[0].text.value)\n",
    "        continue\n",
    "    "
   ]
  },
  {
   "cell_type": "markdown",
   "id": "d099b3b8",
   "metadata": {},
   "source": [
    "# Combine result"
   ]
  },
  {
   "cell_type": "code",
   "execution_count": null,
   "id": "cff2e65d",
   "metadata": {},
   "outputs": [],
   "source": [
    "import os\n",
    "import pandas as pd\n",
    "root_path = '../data/data_mining_results/Blood_Brain_Barrier/batch/'\n",
    "result = pd.DataFrame()\n",
    "for file in os.listdir(root_path):\n",
    "    if 'csv' in file:\n",
    "        file_path = os.path.join(root_path,file)\n",
    "        tmp = pd.read_csv(file_path)\n",
    "        result = pd.concat([result,tmp])"
   ]
  },
  {
   "cell_type": "code",
   "execution_count": null,
   "id": "43553381",
   "metadata": {},
   "outputs": [],
   "source": [
    "result.columns"
   ]
  },
  {
   "cell_type": "code",
   "execution_count": null,
   "id": "9d7038e1",
   "metadata": {},
   "outputs": [],
   "source": [
    "result = result[[ 'original sentence', 'Cell Line Models',\n",
    "       'Temperature Conditions', 'Permeability Assays', 'pH Levels',\n",
    "       'Concentration and Dosing Parameters', 'Blood_Brain_Barrier']]"
   ]
  },
  {
   "cell_type": "code",
   "execution_count": null,
   "id": "c052cb64",
   "metadata": {},
   "outputs": [],
   "source": [
    "result.columns = ['Assay Description','Cell Line Models',\n",
    "       'Temperature Conditions', 'Permeability Assays', 'pH Levels',\n",
    "       'Concentration and Dosing Parameters', 'Blood_Brain_Barrier']"
   ]
  },
  {
   "cell_type": "code",
   "execution_count": null,
   "id": "eceb08ef",
   "metadata": {},
   "outputs": [],
   "source": [
    "df = pd.read_csv('../data/raw_data/bbb/chembl_bbb_raw_data.csv')\n",
    "col_list = ['Molecule ChEMBL ID', \n",
    "       'Smiles', 'Standard Type', 'Standard Relation', 'Standard Value',\n",
    "       'Standard Units', 'Assay ChEMBL ID', 'Assay Description', 'Assay Type', 'BAO Format ID',\n",
    "       'BAO Label', \n",
    "       'Document ChEMBL ID', 'Source Description',\n",
    "       'Document Journal', 'Document Year']\n",
    "df = df[col_list]"
   ]
  },
  {
   "cell_type": "code",
   "execution_count": null,
   "id": "9b7412ac",
   "metadata": {},
   "outputs": [],
   "source": [
    "df = df.merge(result,on='Assay Description',how='left')\n",
    "df"
   ]
  },
  {
   "cell_type": "code",
   "execution_count": null,
   "id": "081c069f",
   "metadata": {},
   "outputs": [],
   "source": [
    "df.to_csv('../data/data_mining_results/Blood_Brain_Barrier/chembl_bbb_data_mining.csv',index=False)"
   ]
  },
  {
   "cell_type": "code",
   "execution_count": null,
   "id": "6be46fad",
   "metadata": {},
   "outputs": [],
   "source": []
  }
 ],
 "metadata": {
  "kernelspec": {
   "display_name": "Python 3 (ipykernel)",
   "language": "python",
   "name": "python3"
  },
  "language_info": {
   "codemirror_mode": {
    "name": "ipython",
    "version": 3
   },
   "file_extension": ".py",
   "mimetype": "text/x-python",
   "name": "python",
   "nbconvert_exporter": "python",
   "pygments_lexer": "ipython3",
   "version": "3.9.6"
  }
 },
 "nbformat": 4,
 "nbformat_minor": 5
}
