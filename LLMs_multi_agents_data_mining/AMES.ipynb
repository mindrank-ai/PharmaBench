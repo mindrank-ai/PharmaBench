{
 "cells": [
  {
   "cell_type": "code",
   "execution_count": null,
   "id": "01c802b6",
   "metadata": {},
   "outputs": [],
   "source": [
    "import openai\n",
    "from tqdm.notebook import tqdm\n",
    "import pandas as pd\n",
    "import os \n",
    "from IPython.display import display, Markdown\n",
    "import pickle as pkl\n",
    "pd.set_option('display.max_columns', 60)\n",
    "import time\n",
    "\n",
    "from datamining_utils import chatGPT_check_replay,chatGPT_replay,load_api_key_from_file,extract_code_script_from_markdown,find_dictionaries_in_string\n",
    "\n",
    "%load_ext autoreload\n",
    "%autoreload 2"
   ]
  },
  {
   "cell_type": "code",
   "execution_count": null,
   "id": "d42a20f2",
   "metadata": {},
   "outputs": [],
   "source": [
    "# Usage\n",
    "api_key = load_api_key_from_file()\n",
    "from openai import OpenAI\n",
    "client = OpenAI(api_key = api_key)"
   ]
  },
  {
   "cell_type": "markdown",
   "id": "1a34ae87",
   "metadata": {},
   "source": [
    "# Key Word Agent"
   ]
  },
  {
   "cell_type": "code",
   "execution_count": null,
   "id": "6a09b420",
   "metadata": {},
   "outputs": [],
   "source": [
    "prop = 'Ames'"
   ]
  },
  {
   "cell_type": "code",
   "execution_count": null,
   "id": "72fb1d74",
   "metadata": {},
   "outputs": [],
   "source": [
    "assistant = client.beta.assistants.create(name=f'{prop} knowledge generation chatbot',\n",
    "  instructions=f\"Please summarize the ADME-T related important experimental conditions\",\n",
    "  model=\"gpt-4-1106-preview\",\n",
    ")   "
   ]
  },
  {
   "cell_type": "code",
   "execution_count": null,
   "id": "51e491b5",
   "metadata": {
    "scrolled": true
   },
   "outputs": [],
   "source": [
    "assistant.id"
   ]
  },
  {
   "cell_type": "code",
   "execution_count": null,
   "id": "a32de2bc",
   "metadata": {},
   "outputs": [],
   "source": [
    "thread = client.beta.threads.create(\n",
    "  messages=[\n",
    "    {\n",
    "      \"role\": \"user\",\n",
    "      \"content\": \"summarise the key experimental conditions within the given experiments\",\n",
    "      \"file_ids\": assistant.file_ids\n",
    "    }\n",
    "  ]\n",
    ")"
   ]
  },
  {
   "cell_type": "code",
   "execution_count": null,
   "id": "5affc311",
   "metadata": {},
   "outputs": [],
   "source": [
    "thread.id"
   ]
  },
  {
   "cell_type": "markdown",
   "id": "2dd91d59",
   "metadata": {},
   "source": [
    "### summarize the important experimental conditions"
   ]
  },
  {
   "cell_type": "code",
   "execution_count": null,
   "id": "3b6f7756",
   "metadata": {},
   "outputs": [],
   "source": [
    "df = pd.read_csv('../data/raw_data/ames/chembl_ames_raw_data.csv')\n",
    "df = df.drop_duplicates('Assay Description')\n",
    "condition = ' \\n '.join(df['Assay Description'][0:50])"
   ]
  },
  {
   "cell_type": "code",
   "execution_count": null,
   "id": "0a299f31",
   "metadata": {},
   "outputs": [],
   "source": [
    "mes = f\"\"\"\n",
    "Please summarize the key experimental conditions for experiments related to {prop} within the {condition}\n",
    "\n",
    "\n",
    "Please analyze the document and return a list of the top five most frequently mentioned experimental condition categories. These should be summarized under broad categories, such as pH levels, temperature ranges, or other relevant general conditions, rather than specific values or detailed conditions. Present this information in a Python list format.\n",
    "\n",
    "Each entry in the list should represent a unique category of experimental conditions. Avoid duplicating similar conditions and focus on capturing the overarching categories that these conditions fall under.\n",
    "\n",
    "Example output:\n",
    "```python\n",
    "['pH Level', 'Temperature Range', 'Light Exposure']\n",
    "```\n",
    "\n",
    "Ensure that the list is comprehensive, covering all major categories of experimental conditions mentioned in the document.\n",
    "\"\"\""
   ]
  },
  {
   "cell_type": "code",
   "execution_count": null,
   "id": "51203c1d",
   "metadata": {},
   "outputs": [],
   "source": [
    "chatGPT_replay(client,thread.id, assistant, question_content=mes)"
   ]
  },
  {
   "cell_type": "code",
   "execution_count": null,
   "id": "d68eb989",
   "metadata": {},
   "outputs": [],
   "source": [
    "# time.sleep(3)\n",
    "chatGPT_check_replay(client,thread)\n",
    "\n",
    "thread_messages = client.beta.threads.messages.list(thread.id)\n",
    "answer = extract_code_script_from_markdown(thread_messages.data[0].content[0].text.value)[0]\n",
    "experimental_conditions = eval(answer)\n",
    "experimental_conditions"
   ]
  },
  {
   "cell_type": "code",
   "execution_count": null,
   "id": "b474d77c",
   "metadata": {},
   "outputs": [],
   "source": [
    "experimental_conditions = ['Concentration/Dosage Levels',\n",
    " 'Temperature Range',\n",
    " 'Time Duration',\n",
    " 'Metabolic Activation Presence (e.g., S9 fraction in Ames test)',\n",
    " 'Cell/Tissue Type or Organism Used']"
   ]
  },
  {
   "cell_type": "code",
   "execution_count": null,
   "id": "2555d2e8",
   "metadata": {},
   "outputs": [],
   "source": [
    "with open(f'../data/data_mining_results/{prop}/{prop}_experimental_conditions_summaried_by_LLMs.pkl','wb') as f:\n",
    "    pkl.dump(experimental_conditions,f)"
   ]
  },
  {
   "cell_type": "markdown",
   "id": "8f7d149b",
   "metadata": {},
   "source": [
    "# Examples Agent"
   ]
  },
  {
   "cell_type": "code",
   "execution_count": null,
   "id": "1edde1fc",
   "metadata": {},
   "outputs": [],
   "source": [
    "with open(f'../data/data_mining_results/{prop}/{prop}_experimental_conditions_summaried_by_LLMs.pkl','rb') as f:\n",
    "    experimental_conditions = pkl.load(f)"
   ]
  },
  {
   "cell_type": "code",
   "execution_count": null,
   "id": "3f07d099",
   "metadata": {},
   "outputs": [],
   "source": [
    "assistant = client.beta.assistants.create(name='Data Mining chatbot',\n",
    "  instructions=f\"Please mining the key biomedical information within the given data\",\n",
    "  model=\"gpt-4-1106-preview\",\n",
    ")   "
   ]
  },
  {
   "cell_type": "code",
   "execution_count": null,
   "id": "5c1844d3",
   "metadata": {
    "scrolled": true
   },
   "outputs": [],
   "source": [
    "assistant.id"
   ]
  },
  {
   "cell_type": "code",
   "execution_count": null,
   "id": "bb4de378",
   "metadata": {},
   "outputs": [],
   "source": [
    "mes = \"\"\"\n",
    "Biomedical data mining task.\n",
    "\n",
    "Return python dictionary with key including index, original sentence, {}, and whether is {} experiment or not \n",
    "Fill in none if no information given. \n",
    "Please include all the sentences\n",
    "\n",
    "\"\"\".format(', '.join(experimental_conditions),prop)"
   ]
  },
  {
   "cell_type": "code",
   "execution_count": null,
   "id": "287c6dc7",
   "metadata": {},
   "outputs": [],
   "source": [
    "thread = client.beta.threads.create(\n",
    "  messages=[\n",
    "    {\n",
    "      \"role\": \"user\",\n",
    "      \"content\": mes,\n",
    "      \"file_ids\": assistant.file_ids\n",
    "    }\n",
    "  ]\n",
    ")"
   ]
  },
  {
   "cell_type": "code",
   "execution_count": null,
   "id": "59801037",
   "metadata": {},
   "outputs": [],
   "source": [
    "thread.id"
   ]
  },
  {
   "cell_type": "code",
   "execution_count": null,
   "id": "de9471d1",
   "metadata": {},
   "outputs": [],
   "source": [
    "result = pd.DataFrame()\n",
    "for i in tqdm(range(0,40,20)):\n",
    "    info = ' \\n '.join(df['Assay Description'].value_counts().keys()[i:i+20])\n",
    "    \n",
    "    chatGPT_replay(client,thread.id, assistant, question_content=info)\n",
    "    time.sleep(3)\n",
    "    runs = client.beta.threads.runs.list(\n",
    "          thread.id)\n",
    "    \n",
    "    while runs.data[0].status != 'completed':\n",
    "        time.sleep(3)\n",
    "        runs = client.beta.threads.runs.list(\n",
    "          thread.id\n",
    "        )\n",
    "    \n",
    "    thread_messages = client.beta.threads.messages.list(thread.id)\n",
    "    answer = extract_code_script_from_markdown(thread_messages.data[0].content[0].text.value)[0]\n",
    "    answer = pd.DataFrame(find_dictionaries_in_string(answer))\n",
    "    \n",
    "\n",
    "    display(pd.DataFrame(answer))\n",
    "    result = pd.concat([result,pd.DataFrame(answer)])"
   ]
  },
  {
   "cell_type": "code",
   "execution_count": null,
   "id": "79cffc63",
   "metadata": {},
   "outputs": [],
   "source": [
    "result.to_csv(f'../data/data_mining_results/{prop}/example_{prop}.csv',index=False)"
   ]
  },
  {
   "cell_type": "markdown",
   "id": "54fb0dfd",
   "metadata": {},
   "source": [
    "# Manul Validate and Create Full Promt with two shot Examples"
   ]
  },
  {
   "cell_type": "code",
   "execution_count": null,
   "id": "c9520e5e",
   "metadata": {},
   "outputs": [],
   "source": [
    "examples = pd.read_csv(f'../data/data_mining_results/{prop}/example_{prop}_manuel_validated.csv')"
   ]
  },
  {
   "cell_type": "code",
   "execution_count": null,
   "id": "594cddad",
   "metadata": {},
   "outputs": [],
   "source": [
    "tmp = examples[0:20]\n",
    "\n",
    "' \\n '.join(tmp[ 'original sentence'].values)"
   ]
  },
  {
   "cell_type": "code",
   "execution_count": null,
   "id": "e92b94c2",
   "metadata": {},
   "outputs": [],
   "source": [
    "str(tmp.to_dict(orient='list'))"
   ]
  },
  {
   "cell_type": "code",
   "execution_count": null,
   "id": "b5f0c00b",
   "metadata": {},
   "outputs": [],
   "source": [
    "tmp = examples[20::]\n",
    "\n",
    "' \\n '.join(tmp[ 'original sentence'].values)"
   ]
  },
  {
   "cell_type": "code",
   "execution_count": null,
   "id": "65b63155",
   "metadata": {},
   "outputs": [],
   "source": [
    "str(tmp.to_dict(orient='list'))"
   ]
  },
  {
   "cell_type": "markdown",
   "id": "f40598ba",
   "metadata": {},
   "source": [
    "\n",
    "\n",
    "f\"\"\"\n",
    "Biomedical data mining task.\n",
    "\n",
    "Return python dictionary with key including index, original sentence, {experimental_conditions_list}, and whether is {prop} experiment or not \n",
    "Fill in none if no information given. \n",
    "Please don't ignore some sentences.\n",
    "\n",
    "Example 1 \n",
    "Input: 'Late stage results from the probe development effort to identify inhibitors of the Janus kinase 2 mutant JAK2V617F. (Class of assay: screening) [Related pubchem assays (depositor defined):AID1446, AID1486, AID1520, AID1521, AID1691, AID1699, AID1797] Panel member name: irf1 Inhibition (HEL cells) \\n Late stage results from the probe development effort to identify inhibitors of the Janus kinase 2 mutant JAK2V617F. (Class of assay: screening) [Related pubchem assays (depositor defined):AID1446, AID1486, AID1520, AID1521, AID1691, AID1699, AID1797] Panel member name: irf1 Inhibition (Ba/F3 cells) \\n Genotoxicity in Salmonella typhimurium by Ames test \\n Late stage results from the probe development effort to identify inhibitors of the Janus kinase 2 mutant JAK2V617F. (Class of assay: screening) [Related pubchem assays (depositor defined):AID1446, AID1486, AID1520, AID1521, AID1691, AID1699, AID1797] Panel member name: Ba/F3 Cytotoxicity \\n Late stage results from the probe development effort to identify inhibitors of the Janus kinase 2 mutant JAK2V617F. (Class of assay: screening) [Related pubchem assays (depositor defined):AID1446, AID1486, AID1520, AID1521, AID1691, AID1699, AID1797] Panel member name: JAK2V617F Inhibition \\n Mutagenicity in Salmonella typhimurium by Ames test \\n Induction of phospholipidosis in bovine corneal fibroblasts assessed as lamellar inclusion bodies after 72 hrs by light microscopy \\n Neuroprotective activity against kainate-induced cell damage in mouse primary cortical neurons assessed as reduction in kainate-induced neurofilament loss by measuring increase in MAPK level at 1 uM pretreated followed by kainate challenge measured after 18 hrs by fluorescence assay \\n Antiviral activity against HCV infected in human HuH5.2 cells assessed as inhibition of subgenomic RNA replication after 4 days by Steady-Glo luciferase assay \\n Antibacterial activity against trimethoprim-sulfamethoxazole-resistant Stenotrophomonas maltophilia assessed as inhibition of microbial growth up to 50 ug/ml incubated for 24 hrs by microdilution assay \\n Mutagenicity in Salmonella typhimurium TA100 in presence of liver S9 fraction by AMES test \\n Mutagenicity in Salmonella typhimurium TA98 in presence of liver S9 fraction by AMES test \\n Antiviral activity against Vaccinia virus WR in BSC1 cells assessed as retention of antiviral potency by measuring exogenous double stranded DNA trapping \\n Genotoxicity in Salmonella typhimurium TA98 by Ames test in presence of S9 fractions \\n Genotoxicity in Salmonella typhimurium TAMix by Ames test in presence of S9 fractions \\n Mutagenicity in Salmonella typhimurium TA98 by AMES test \\n Mutagenicity in Salmonella typhimurium TA100 by AMES test \\n Antibacterial activity against drug-resistant Pseudomonas aeruginosa clinical isolate assessed as inhibition zone diameter after 24 hrs by antibacterial susceptibility test \\n Antibacterial activity against drug-resistant Acinetobacter calcoaceticus clinical isolate assessed as inhibition zone diameter after 24 hrs by antibacterial susceptibility test \\n Antibacterial activity against drug-resistant Serratia marcescens clinical isolate assessed as inhibition zone diameter after 24 hrs by antibacterial susceptibility test'\n",
    "\n",
    "Output:\n",
    "```python\\n{{'index': [1, 2, 3, 4, 5, 6, 7, 8, 9, 10, 11, 12, 13, 14, 15, 16, 17, 18, 19, 20], 'original sentence': ['Late stage results from the probe development effort to identify inhibitors of the Janus kinase 2 mutant JAK2V617F. (Class of assay: screening) [Related pubchem assays (depositor defined):AID1446, AID1486, AID1520, AID1521, AID1691, AID1699, AID1797] Panel member name: irf1 Inhibition (HEL cells)', 'Late stage results from the probe development effort to identify inhibitors of the Janus kinase 2 mutant JAK2V617F. (Class of assay: screening) [Related pubchem assays (depositor defined):AID1446, AID1486, AID1520, AID1521, AID1691, AID1699, AID1797] Panel member name: irf1 Inhibition (Ba/F3 cells)', 'Genotoxicity in Salmonella typhimurium by Ames test', 'Late stage results from the probe development effort to identify inhibitors of the Janus kinase 2 mutant JAK2V617F. (Class of assay: screening) [Related pubchem assays (depositor defined):AID1446, AID1486, AID1520, AID1521, AID1691, AID1699, AID1797] Panel member name: Ba/F3 Cytotoxicity', 'Late stage results from the probe development effort to identify inhibitors of the Janus kinase 2 mutant JAK2V617F. (Class of assay: screening) [Related pubchem assays (depositor defined):AID1446, AID1486, AID1520, AID1521, AID1691, AID1699, AID1797] Panel member name: JAK2V617F Inhibition', 'Mutagenicity in Salmonella typhimurium by Ames test', 'Induction of phospholipidosis in bovine corneal fibroblasts assessed as lamellar inclusion bodies after 72 hrs by light microscopy', 'Neuroprotective activity against kainate-induced cell damage in mouse primary cortical neurons assessed as reduction in kainate-induced neurofilament loss by measuring increase in MAPK level at 1 uM pretreated followed by kainate challenge measured after 18 hrs by fluorescence assay', 'Antiviral activity against HCV infected in human HuH5.2 cells assessed as inhibition of subgenomic RNA replication after 4 days by Steady-Glo luciferase assay', 'Antibacterial activity against trimethoprim-sulfamethoxazole-resistant Stenotrophomonas maltophilia assessed as inhibition of microbial growth up to 50 ug/ml incubated for 24 hrs by microdilution assay', 'Mutagenicity in Salmonella typhimurium TA100 in presence of liver S9 fraction by AMES test', 'Mutagenicity in Salmonella typhimurium TA98 in presence of liver S9 fraction by AMES test', 'Antiviral activity against Vaccinia virus WR in BSC1 cells assessed as retention of antiviral potency by measuring exogenous double stranded DNA trapping', 'Genotoxicity in Salmonella typhimurium TA98 by Ames test in presence of S9 fractions', 'Genotoxicity in Salmonella typhimurium TAMix by Ames test in presence of S9 fractions', 'Mutagenicity in Salmonella typhimurium TA98 by AMES test', 'Mutagenicity in Salmonella typhimurium TA100 by AMES test', 'Antibacterial activity against drug-resistant Pseudomonas aeruginosa clinical isolate assessed as inhibition zone diameter after 24 hrs by antibacterial susceptibility test', 'Antibacterial activity against drug-resistant Acinetobacter calcoaceticus clinical isolate assessed as inhibition zone diameter after 24 hrs by antibacterial susceptibility test', 'Antibacterial activity against drug-resistant Serratia marcescens clinical isolate assessed as inhibition zone diameter after 24 hrs by antibacterial susceptibility test'], 'Concentration/Dosage Levels': [nan, nan, nan, nan, nan, nan, nan, '1 uM', nan, 'up to 50 ug/ml', nan, nan, nan, nan, nan, nan, nan, nan, nan, nan], 'Temperature Range': [nan, nan, nan, nan, nan, nan, nan, nan, nan, nan, nan, nan, nan, nan, nan, nan, nan, nan, nan, nan], 'Time Duration': [nan, nan, nan, nan, nan, nan, '72 hrs', '18 hrs', '4 days', '24 hrs', nan, nan, nan, nan, nan, nan, nan, '24 hrs', '24 hrs', '24 hrs'], 'Metabolic Activation Presence': [nan, nan, nan, nan, nan, nan, nan, nan, nan, nan, 'liver S9 fraction', 'liver S9 fraction', nan, 'S9 fractions', 'S9 fractions', nan, nan, nan, nan, nan], 'Cell/Tissue Type or Organism Used': ['HEL cells', 'Ba/F3 cells', 'Salmonella typhimurium', 'Ba/F3', nan, 'Salmonella typhimurium', 'bovine corneal fibroblasts', 'mouse primary cortical neurons', 'human HuH5.2 cells', 'Stenotrophomonas maltophilia', 'Salmonella typhimurium TA100', 'Salmonella typhimurium TA98', 'BSC1 cells', 'Salmonella typhimurium TA98', 'Salmonella typhimurium TAMix', 'Salmonella typhimurium TA98', 'Salmonella typhimurium TA100', 'Pseudomonas aeruginosa', 'Acinetobacter calcoaceticus', 'Serratia marcescens'], 'Ames experiment': [False, False, True, False, False, True, False, False, False, False, True, True, False, True, True, True, True, False, False, False]}}\\n```\n",
    "\n",
    "Example 2\n",
    "Input: 'Antibacterial activity against drug-resistant Enterococcus faecalis clinical isolate assessed as inhibition zone diameter after 24 hrs by antibacterial susceptibility test \\n Antibacterial activity against drug-resistant Escherichia coli clinical isolate assessed as inhibition zone diameter after 24 hrs by antibacterial susceptibility test \\n Antibacterial activity against drug-resistant Proteus mirabilis clinical isolate assessed as inhibition zone diameter after 24 hrs by antibacterial susceptibility test \\n Antibacterial activity against drug-resistant Klebsiella pneumoniae clinical isolate assessed as inhibition zone diameter after 24 hrs by antibacterial susceptibility test \\n Antibacterial activity against drug-resistant Enterobacter cloacae clinical isolate assessed as inhibition zone diameter after 24 hrs by antibacterial susceptibility test \\n Genotoxicity in Salmonella typhimurium TA98 by Ames test \\n Cytotoxicity against human Huh5-2 cells carrying HCV genotype 1b I389luc-ubi-neo/NS3-3'/5.1 replicon assessed as cell morphological changes after 72 hrs by microscopic analysis \\n Genotoxicity in Salmonella typhimurium TAMix by Ames test in absence of S9 fractions \\n Genotoxicity in Salmonella typhimurium TA98 by Ames test in absence of S9 fractions \\n Genotoxicity in Salmonella Typhimurium by Ames test \\n Mutagenic activity in Salmonella Typhimurium TA98 using Ames test; Activity is log of revertants / nmol; a= inactive \\n Cytotoxicity against Parkinson's disease patient derived human ONS cells assessed as effect on cell morphology parameters at 10 uM after 24 hrs by DAPI staining based fluorescence assay \\n Cytotoxicity against Parkinson's disease patient derived human ONS cells assessed as effect on nucleus morphology parameters at 10 uM after 24 hrs by DAPI staining based fluorescence assay \\n Inhibition of yeast histone acetyltransferase Gcn5-Ada2-Ada3 complex using tetramer and [3H]-acetyl-CoA assessed as acetate incorporation after 30 mins by liquid scintillation counting in presence of 1 mM DTT \\n Inhibition of recombinant histone acetyltransferase p300 (unknown origin) using dH3-H4 tetramer and [3H]-acetyl-CoA assessed as acetate incorporation after 30 mins by liquid scintillation counting in presence of 1 mM DTT \\n Antibacterial activity against Escherichia coli ATCC 11229 assessed as diameter of the inhibition zone at 1 uM/disk after 4 hrs by disk diffusion method \\n Substrate activity at N-terminal His6-tagged recombinant Paramecium bursaria chlorella virus 1 CPH expressed in Escherichia coli Rosetta 2 (DE3) cells assessed as substrate hydroxylation at 100 uM incubated for 16 hrs in presence of 2OG by MALDI TOF MS analysis \\n Mutagenic activity in Salmonella Typhimurium TA98 assessed as number of revertants after 48 hrs by Ames test \\n Mutagenic activity in Salmonella Typhimurium TA100 assessed as number of revertants after 48 hrs by Ames test \\n Antifungal activity against Candida maltosa SBUG 700 assessed as diameter of the inhibition zone at 1 uM/disk by disk diffusion method'\n",
    "\n",
    "Output:\n",
    "```python\\n{{\\'index\\': [21, 22, 23, 24, 25, 26, 27, 28, 29, 30, 31, 32, 33, 34, 35, 36, 37, 38, 39, 40], \\'original sentence\\': [\\'Antibacterial activity against drug-resistant Enterococcus faecalis clinical isolate assessed as inhibition zone diameter after 24 hrs by antibacterial susceptibility test\\', \\'Antibacterial activity against drug-resistant Escherichia coli clinical isolate assessed as inhibition zone diameter after 24 hrs by antibacterial susceptibility test\\', \\'Antibacterial activity against drug-resistant Proteus mirabilis clinical isolate assessed as inhibition zone diameter after 24 hrs by antibacterial susceptibility test\\', \\'Antibacterial activity against drug-resistant Klebsiella pneumoniae clinical isolate assessed as inhibition zone diameter after 24 hrs by antibacterial susceptibility test\\', \\'Antibacterial activity against drug-resistant Enterobacter cloacae clinical isolate assessed as inhibition zone diameter after 24 hrs by antibacterial susceptibility test\\', \\'Genotoxicity in Salmonella typhimurium TA98 by Ames test\\', \"Cytotoxicity against human Huh5-2 cells carrying HCV genotype 1b I389luc-ubi-neo/NS3-3\\'/5.1 replicon assessed as cell morphological changes after 72 hrs by microscopic analysis\", \\'Genotoxicity in Salmonella typhimurium TAMix by Ames test in absence of S9 fractions\\', \\'Genotoxicity in Salmonella typhimurium TA98 by Ames test in absence of S9 fractions\\', \\'Genotoxicity in Salmonella Typhimurium by Ames test\\', \\'Mutagenic activity in Salmonella Typhimurium TA98 using Ames test; Activity is log of revertants / nmol; a= inactive\\', \"Cytotoxicity against Parkinson\\'s disease patient derived human ONS cells assessed as effect on cell morphology parameters at 10 uM after 24 hrs by DAPI staining based fluorescence assay\", \"Cytotoxicity against Parkinson\\'s disease patient derived human ONS cells assessed as effect on nucleus morphology parameters at 10 uM after 24 hrs by DAPI staining based fluorescence assay\", \\'Inhibition of yeast histone acetyltransferase Gcn5-Ada2-Ada3 complex using tetramer and [3H]-acetyl-CoA assessed as acetate incorporation after 30 mins by liquid scintillation counting in presence of 1 mM DTT\\', \\'Inhibition of recombinant histone acetyltransferase p300 (unknown origin) using dH3-H4 tetramer and [3H]-acetyl-CoA assessed as acetate incorporation after 30 mins by liquid scintillation counting in presence of 1 mM DTT\\', \\'Antibacterial activity against Escherichia coli ATCC 11229 assessed as diameter of the inhibition zone at 1 uM/disk after 4 hrs by disk diffusion method\\', \\'Substrate activity at N-terminal His6-tagged recombinant Paramecium bursaria chlorella virus 1 CPH expressed in Escherichia coli Rosetta 2 (DE3) cells assessed as substrate hydroxylation at 100 uM incubated for 16 hrs in presence of 2OG by MALDI TOF MS analysis\\', \\'Mutagenic activity in Salmonella Typhimurium TA98 assessed as number of revertants after 48 hrs by Ames test\\', \\'Mutagenic activity in Salmonella Typhimurium TA100 assessed as number of revertants after 48 hrs by Ames test\\', \\'Antifungal activity against Candida maltosa SBUG 700 assessed as diameter of the inhibition zone at 1 uM/disk by disk diffusion method\\'], \\'Concentration/Dosage Levels\\': [nan, nan, nan, nan, nan, nan, nan, nan, nan, nan, \\'log of revertants / nmol\\', \\'10 uM\\', \\'10 uM\\', \\'1 mM DTT\\', \\'1 mM DTT\\', \\'1 uM/disk\\', \\'100 uM\\', nan, nan, \\'1 uM/disk\\'], \\'Temperature Range\\': [nan, nan, nan, nan, nan, nan, nan, nan, nan, nan, nan, nan, nan, nan, nan, nan, nan, nan, nan, nan], \\'Time Duration\\': [\\'24 hrs\\', \\'24 hrs\\', \\'24 hrs\\', \\'24 hrs\\', \\'24 hrs\\', nan, \\'72 hrs\\', nan, nan, nan, nan, \\'24 hrs\\', \\'24 hrs\\', \\'30 mins\\', \\'30 mins\\', \\'4 hrs\\', \\'16 hrs\\', \\'48 hrs\\', \\'48 hrs\\', nan], \\'Metabolic Activation Presence\\': [nan, nan, nan, nan, nan, nan, nan, \\'absence of S9 fractions\\', \\'absence of S9 fractions\\', nan, nan, nan, nan, nan, nan, nan, \\'2OG\\', nan, nan, nan], \\'Cell/Tissue Type or Organism Used\\': [\\'Enterococcus faecalis\\', \\'Escherichia coli\\', \\'Proteus mirabilis\\', \\'Klebsiella pneumoniae\\', \\'Enterobacter cloacae\\', \\'Salmonella typhimurium TA98\\', \\'human Huh5-2 cells\\', \\'Salmonella typhimurium TAMix\\', \\'Salmonella typhimurium TA98\\', \\'Salmonella Typhimurium\\', \\'Salmonella Typhimurium TA98\\', \"Parkinson\\'s disease patient derived human ONS cells\", \"Parkinson\\'s disease patient derived human ONS cells\", \\'yeast histone acetyltransferase Gcn5-Ada2-Ada3 complex\\', \\'recombinant histone acetyltransferase p300\\', \\'Escherichia coli ATCC 11229\\', \\'Escherichia coli Rosetta 2 (DE3) cells\\', \\'Salmonella Typhimurium TA98\\', \\'Salmonella Typhimurium TA100\\', \\'Candida maltosa SBUG 700\\'], \\'Ames experiment\\': [False, False, False, False, False, True, False, True, True, True, True, False, False, False, False, False, False, True, True, False]}}\\n```\n",
    "\n",
    "\"\"\""
   ]
  },
  {
   "cell_type": "markdown",
   "id": "603fabe5",
   "metadata": {},
   "source": [
    "# Data Mining Agent"
   ]
  },
  {
   "cell_type": "markdown",
   "id": "0e3f6747",
   "metadata": {},
   "source": [
    "### Load data "
   ]
  },
  {
   "cell_type": "code",
   "execution_count": null,
   "id": "22f22499",
   "metadata": {},
   "outputs": [],
   "source": [
    "df = pd.read_csv('../data/raw_data/ames/chembl_ames_raw_data.csv')\n",
    "assay_description = df['Assay Description'].value_counts().keys()"
   ]
  },
  {
   "cell_type": "markdown",
   "id": "16334371",
   "metadata": {},
   "source": [
    "### Create agent"
   ]
  },
  {
   "cell_type": "code",
   "execution_count": null,
   "id": "863c6c65",
   "metadata": {},
   "outputs": [],
   "source": [
    "assistant = client.beta.assistants.create(name='Data Mining chatbot',\n",
    "  instructions=f\"Please mining the key biomedical information within the given data\",\n",
    "  model=\"gpt-4-1106-preview\",\n",
    ")   "
   ]
  },
  {
   "cell_type": "code",
   "execution_count": null,
   "id": "e3fd53fc",
   "metadata": {},
   "outputs": [],
   "source": [
    "assistant.id"
   ]
  },
  {
   "cell_type": "code",
   "execution_count": null,
   "id": "34b251d1",
   "metadata": {},
   "outputs": [],
   "source": [
    "experimental_conditions_list = ['Concentration/Dosage Levels',\n",
    " 'Temperature Range',\n",
    " 'Time Duration',\n",
    " 'Metabolic Activation Presence (e.g., S9 fraction in Ames test)',\n",
    " 'Cell/Tissue Type or Organism Used']\n",
    "\n",
    "experimental_conditions_list = ', '.join(experimental_conditions_list)"
   ]
  },
  {
   "cell_type": "code",
   "execution_count": null,
   "id": "316cf235",
   "metadata": {},
   "outputs": [],
   "source": [
    "mes = f\"\"\"\n",
    "Biomedical data mining task.\n",
    "\n",
    "Return python dictionary with key including index, original sentence, {experimental_conditions_list}, and whether is {prop} experiment or not \n",
    "Fill in none if no information given. \n",
    "Please don't ignore some sentences.\n",
    "\n",
    "Example 1 \n",
    "Input: 'Late stage results from the probe development effort to identify inhibitors of the Janus kinase 2 mutant JAK2V617F. (Class of assay: screening) [Related pubchem assays (depositor defined):AID1446, AID1486, AID1520, AID1521, AID1691, AID1699, AID1797] Panel member name: irf1 Inhibition (HEL cells) \\n Late stage results from the probe development effort to identify inhibitors of the Janus kinase 2 mutant JAK2V617F. (Class of assay: screening) [Related pubchem assays (depositor defined):AID1446, AID1486, AID1520, AID1521, AID1691, AID1699, AID1797] Panel member name: irf1 Inhibition (Ba/F3 cells) \\n Genotoxicity in Salmonella typhimurium by Ames test \\n Late stage results from the probe development effort to identify inhibitors of the Janus kinase 2 mutant JAK2V617F. (Class of assay: screening) [Related pubchem assays (depositor defined):AID1446, AID1486, AID1520, AID1521, AID1691, AID1699, AID1797] Panel member name: Ba/F3 Cytotoxicity \\n Late stage results from the probe development effort to identify inhibitors of the Janus kinase 2 mutant JAK2V617F. (Class of assay: screening) [Related pubchem assays (depositor defined):AID1446, AID1486, AID1520, AID1521, AID1691, AID1699, AID1797] Panel member name: JAK2V617F Inhibition \\n Mutagenicity in Salmonella typhimurium by Ames test \\n Induction of phospholipidosis in bovine corneal fibroblasts assessed as lamellar inclusion bodies after 72 hrs by light microscopy \\n Neuroprotective activity against kainate-induced cell damage in mouse primary cortical neurons assessed as reduction in kainate-induced neurofilament loss by measuring increase in MAPK level at 1 uM pretreated followed by kainate challenge measured after 18 hrs by fluorescence assay \\n Antiviral activity against HCV infected in human HuH5.2 cells assessed as inhibition of subgenomic RNA replication after 4 days by Steady-Glo luciferase assay \\n Antibacterial activity against trimethoprim-sulfamethoxazole-resistant Stenotrophomonas maltophilia assessed as inhibition of microbial growth up to 50 ug/ml incubated for 24 hrs by microdilution assay \\n Mutagenicity in Salmonella typhimurium TA100 in presence of liver S9 fraction by AMES test \\n Mutagenicity in Salmonella typhimurium TA98 in presence of liver S9 fraction by AMES test \\n Antiviral activity against Vaccinia virus WR in BSC1 cells assessed as retention of antiviral potency by measuring exogenous double stranded DNA trapping \\n Genotoxicity in Salmonella typhimurium TA98 by Ames test in presence of S9 fractions \\n Genotoxicity in Salmonella typhimurium TAMix by Ames test in presence of S9 fractions \\n Mutagenicity in Salmonella typhimurium TA98 by AMES test \\n Mutagenicity in Salmonella typhimurium TA100 by AMES test \\n Antibacterial activity against drug-resistant Pseudomonas aeruginosa clinical isolate assessed as inhibition zone diameter after 24 hrs by antibacterial susceptibility test \\n Antibacterial activity against drug-resistant Acinetobacter calcoaceticus clinical isolate assessed as inhibition zone diameter after 24 hrs by antibacterial susceptibility test \\n Antibacterial activity against drug-resistant Serratia marcescens clinical isolate assessed as inhibition zone diameter after 24 hrs by antibacterial susceptibility test'\n",
    "\n",
    "Output:\n",
    "```python\\n{{'index': [1, 2, 3, 4, 5, 6, 7, 8, 9, 10, 11, 12, 13, 14, 15, 16, 17, 18, 19, 20], 'original sentence': ['Late stage results from the probe development effort to identify inhibitors of the Janus kinase 2 mutant JAK2V617F. (Class of assay: screening) [Related pubchem assays (depositor defined):AID1446, AID1486, AID1520, AID1521, AID1691, AID1699, AID1797] Panel member name: irf1 Inhibition (HEL cells)', 'Late stage results from the probe development effort to identify inhibitors of the Janus kinase 2 mutant JAK2V617F. (Class of assay: screening) [Related pubchem assays (depositor defined):AID1446, AID1486, AID1520, AID1521, AID1691, AID1699, AID1797] Panel member name: irf1 Inhibition (Ba/F3 cells)', 'Genotoxicity in Salmonella typhimurium by Ames test', 'Late stage results from the probe development effort to identify inhibitors of the Janus kinase 2 mutant JAK2V617F. (Class of assay: screening) [Related pubchem assays (depositor defined):AID1446, AID1486, AID1520, AID1521, AID1691, AID1699, AID1797] Panel member name: Ba/F3 Cytotoxicity', 'Late stage results from the probe development effort to identify inhibitors of the Janus kinase 2 mutant JAK2V617F. (Class of assay: screening) [Related pubchem assays (depositor defined):AID1446, AID1486, AID1520, AID1521, AID1691, AID1699, AID1797] Panel member name: JAK2V617F Inhibition', 'Mutagenicity in Salmonella typhimurium by Ames test', 'Induction of phospholipidosis in bovine corneal fibroblasts assessed as lamellar inclusion bodies after 72 hrs by light microscopy', 'Neuroprotective activity against kainate-induced cell damage in mouse primary cortical neurons assessed as reduction in kainate-induced neurofilament loss by measuring increase in MAPK level at 1 uM pretreated followed by kainate challenge measured after 18 hrs by fluorescence assay', 'Antiviral activity against HCV infected in human HuH5.2 cells assessed as inhibition of subgenomic RNA replication after 4 days by Steady-Glo luciferase assay', 'Antibacterial activity against trimethoprim-sulfamethoxazole-resistant Stenotrophomonas maltophilia assessed as inhibition of microbial growth up to 50 ug/ml incubated for 24 hrs by microdilution assay', 'Mutagenicity in Salmonella typhimurium TA100 in presence of liver S9 fraction by AMES test', 'Mutagenicity in Salmonella typhimurium TA98 in presence of liver S9 fraction by AMES test', 'Antiviral activity against Vaccinia virus WR in BSC1 cells assessed as retention of antiviral potency by measuring exogenous double stranded DNA trapping', 'Genotoxicity in Salmonella typhimurium TA98 by Ames test in presence of S9 fractions', 'Genotoxicity in Salmonella typhimurium TAMix by Ames test in presence of S9 fractions', 'Mutagenicity in Salmonella typhimurium TA98 by AMES test', 'Mutagenicity in Salmonella typhimurium TA100 by AMES test', 'Antibacterial activity against drug-resistant Pseudomonas aeruginosa clinical isolate assessed as inhibition zone diameter after 24 hrs by antibacterial susceptibility test', 'Antibacterial activity against drug-resistant Acinetobacter calcoaceticus clinical isolate assessed as inhibition zone diameter after 24 hrs by antibacterial susceptibility test', 'Antibacterial activity against drug-resistant Serratia marcescens clinical isolate assessed as inhibition zone diameter after 24 hrs by antibacterial susceptibility test'], 'Concentration/Dosage Levels': [nan, nan, nan, nan, nan, nan, nan, '1 uM', nan, 'up to 50 ug/ml', nan, nan, nan, nan, nan, nan, nan, nan, nan, nan], 'Temperature Range': [nan, nan, nan, nan, nan, nan, nan, nan, nan, nan, nan, nan, nan, nan, nan, nan, nan, nan, nan, nan], 'Time Duration': [nan, nan, nan, nan, nan, nan, '72 hrs', '18 hrs', '4 days', '24 hrs', nan, nan, nan, nan, nan, nan, nan, '24 hrs', '24 hrs', '24 hrs'], 'Metabolic Activation Presence': [nan, nan, nan, nan, nan, nan, nan, nan, nan, nan, 'liver S9 fraction', 'liver S9 fraction', nan, 'S9 fractions', 'S9 fractions', nan, nan, nan, nan, nan], 'Cell/Tissue Type or Organism Used': ['HEL cells', 'Ba/F3 cells', 'Salmonella typhimurium', 'Ba/F3', nan, 'Salmonella typhimurium', 'bovine corneal fibroblasts', 'mouse primary cortical neurons', 'human HuH5.2 cells', 'Stenotrophomonas maltophilia', 'Salmonella typhimurium TA100', 'Salmonella typhimurium TA98', 'BSC1 cells', 'Salmonella typhimurium TA98', 'Salmonella typhimurium TAMix', 'Salmonella typhimurium TA98', 'Salmonella typhimurium TA100', 'Pseudomonas aeruginosa', 'Acinetobacter calcoaceticus', 'Serratia marcescens'], 'Ames experiment': [False, False, True, False, False, True, False, False, False, False, True, True, False, True, True, True, True, False, False, False]}}\\n```\n",
    "\n",
    "Example 2\n",
    "Input: 'Antibacterial activity against drug-resistant Enterococcus faecalis clinical isolate assessed as inhibition zone diameter after 24 hrs by antibacterial susceptibility test \\n Antibacterial activity against drug-resistant Escherichia coli clinical isolate assessed as inhibition zone diameter after 24 hrs by antibacterial susceptibility test \\n Antibacterial activity against drug-resistant Proteus mirabilis clinical isolate assessed as inhibition zone diameter after 24 hrs by antibacterial susceptibility test \\n Antibacterial activity against drug-resistant Klebsiella pneumoniae clinical isolate assessed as inhibition zone diameter after 24 hrs by antibacterial susceptibility test \\n Antibacterial activity against drug-resistant Enterobacter cloacae clinical isolate assessed as inhibition zone diameter after 24 hrs by antibacterial susceptibility test \\n Genotoxicity in Salmonella typhimurium TA98 by Ames test \\n Cytotoxicity against human Huh5-2 cells carrying HCV genotype 1b I389luc-ubi-neo/NS3-3'/5.1 replicon assessed as cell morphological changes after 72 hrs by microscopic analysis \\n Genotoxicity in Salmonella typhimurium TAMix by Ames test in absence of S9 fractions \\n Genotoxicity in Salmonella typhimurium TA98 by Ames test in absence of S9 fractions \\n Genotoxicity in Salmonella Typhimurium by Ames test \\n Mutagenic activity in Salmonella Typhimurium TA98 using Ames test; Activity is log of revertants / nmol; a= inactive \\n Cytotoxicity against Parkinson's disease patient derived human ONS cells assessed as effect on cell morphology parameters at 10 uM after 24 hrs by DAPI staining based fluorescence assay \\n Cytotoxicity against Parkinson's disease patient derived human ONS cells assessed as effect on nucleus morphology parameters at 10 uM after 24 hrs by DAPI staining based fluorescence assay \\n Inhibition of yeast histone acetyltransferase Gcn5-Ada2-Ada3 complex using tetramer and [3H]-acetyl-CoA assessed as acetate incorporation after 30 mins by liquid scintillation counting in presence of 1 mM DTT \\n Inhibition of recombinant histone acetyltransferase p300 (unknown origin) using dH3-H4 tetramer and [3H]-acetyl-CoA assessed as acetate incorporation after 30 mins by liquid scintillation counting in presence of 1 mM DTT \\n Antibacterial activity against Escherichia coli ATCC 11229 assessed as diameter of the inhibition zone at 1 uM/disk after 4 hrs by disk diffusion method \\n Substrate activity at N-terminal His6-tagged recombinant Paramecium bursaria chlorella virus 1 CPH expressed in Escherichia coli Rosetta 2 (DE3) cells assessed as substrate hydroxylation at 100 uM incubated for 16 hrs in presence of 2OG by MALDI TOF MS analysis \\n Mutagenic activity in Salmonella Typhimurium TA98 assessed as number of revertants after 48 hrs by Ames test \\n Mutagenic activity in Salmonella Typhimurium TA100 assessed as number of revertants after 48 hrs by Ames test \\n Antifungal activity against Candida maltosa SBUG 700 assessed as diameter of the inhibition zone at 1 uM/disk by disk diffusion method'\n",
    "\n",
    "Output:\n",
    "```python\\n{{\\'index\\': [21, 22, 23, 24, 25, 26, 27, 28, 29, 30, 31, 32, 33, 34, 35, 36, 37, 38, 39, 40], \\'original sentence\\': [\\'Antibacterial activity against drug-resistant Enterococcus faecalis clinical isolate assessed as inhibition zone diameter after 24 hrs by antibacterial susceptibility test\\', \\'Antibacterial activity against drug-resistant Escherichia coli clinical isolate assessed as inhibition zone diameter after 24 hrs by antibacterial susceptibility test\\', \\'Antibacterial activity against drug-resistant Proteus mirabilis clinical isolate assessed as inhibition zone diameter after 24 hrs by antibacterial susceptibility test\\', \\'Antibacterial activity against drug-resistant Klebsiella pneumoniae clinical isolate assessed as inhibition zone diameter after 24 hrs by antibacterial susceptibility test\\', \\'Antibacterial activity against drug-resistant Enterobacter cloacae clinical isolate assessed as inhibition zone diameter after 24 hrs by antibacterial susceptibility test\\', \\'Genotoxicity in Salmonella typhimurium TA98 by Ames test\\', \"Cytotoxicity against human Huh5-2 cells carrying HCV genotype 1b I389luc-ubi-neo/NS3-3\\'/5.1 replicon assessed as cell morphological changes after 72 hrs by microscopic analysis\", \\'Genotoxicity in Salmonella typhimurium TAMix by Ames test in absence of S9 fractions\\', \\'Genotoxicity in Salmonella typhimurium TA98 by Ames test in absence of S9 fractions\\', \\'Genotoxicity in Salmonella Typhimurium by Ames test\\', \\'Mutagenic activity in Salmonella Typhimurium TA98 using Ames test; Activity is log of revertants / nmol; a= inactive\\', \"Cytotoxicity against Parkinson\\'s disease patient derived human ONS cells assessed as effect on cell morphology parameters at 10 uM after 24 hrs by DAPI staining based fluorescence assay\", \"Cytotoxicity against Parkinson\\'s disease patient derived human ONS cells assessed as effect on nucleus morphology parameters at 10 uM after 24 hrs by DAPI staining based fluorescence assay\", \\'Inhibition of yeast histone acetyltransferase Gcn5-Ada2-Ada3 complex using tetramer and [3H]-acetyl-CoA assessed as acetate incorporation after 30 mins by liquid scintillation counting in presence of 1 mM DTT\\', \\'Inhibition of recombinant histone acetyltransferase p300 (unknown origin) using dH3-H4 tetramer and [3H]-acetyl-CoA assessed as acetate incorporation after 30 mins by liquid scintillation counting in presence of 1 mM DTT\\', \\'Antibacterial activity against Escherichia coli ATCC 11229 assessed as diameter of the inhibition zone at 1 uM/disk after 4 hrs by disk diffusion method\\', \\'Substrate activity at N-terminal His6-tagged recombinant Paramecium bursaria chlorella virus 1 CPH expressed in Escherichia coli Rosetta 2 (DE3) cells assessed as substrate hydroxylation at 100 uM incubated for 16 hrs in presence of 2OG by MALDI TOF MS analysis\\', \\'Mutagenic activity in Salmonella Typhimurium TA98 assessed as number of revertants after 48 hrs by Ames test\\', \\'Mutagenic activity in Salmonella Typhimurium TA100 assessed as number of revertants after 48 hrs by Ames test\\', \\'Antifungal activity against Candida maltosa SBUG 700 assessed as diameter of the inhibition zone at 1 uM/disk by disk diffusion method\\'], \\'Concentration/Dosage Levels\\': [nan, nan, nan, nan, nan, nan, nan, nan, nan, nan, \\'log of revertants / nmol\\', \\'10 uM\\', \\'10 uM\\', \\'1 mM DTT\\', \\'1 mM DTT\\', \\'1 uM/disk\\', \\'100 uM\\', nan, nan, \\'1 uM/disk\\'], \\'Temperature Range\\': [nan, nan, nan, nan, nan, nan, nan, nan, nan, nan, nan, nan, nan, nan, nan, nan, nan, nan, nan, nan], \\'Time Duration\\': [\\'24 hrs\\', \\'24 hrs\\', \\'24 hrs\\', \\'24 hrs\\', \\'24 hrs\\', nan, \\'72 hrs\\', nan, nan, nan, nan, \\'24 hrs\\', \\'24 hrs\\', \\'30 mins\\', \\'30 mins\\', \\'4 hrs\\', \\'16 hrs\\', \\'48 hrs\\', \\'48 hrs\\', nan], \\'Metabolic Activation Presence\\': [nan, nan, nan, nan, nan, nan, nan, \\'absence of S9 fractions\\', \\'absence of S9 fractions\\', nan, nan, nan, nan, nan, nan, nan, \\'2OG\\', nan, nan, nan], \\'Cell/Tissue Type or Organism Used\\': [\\'Enterococcus faecalis\\', \\'Escherichia coli\\', \\'Proteus mirabilis\\', \\'Klebsiella pneumoniae\\', \\'Enterobacter cloacae\\', \\'Salmonella typhimurium TA98\\', \\'human Huh5-2 cells\\', \\'Salmonella typhimurium TAMix\\', \\'Salmonella typhimurium TA98\\', \\'Salmonella Typhimurium\\', \\'Salmonella Typhimurium TA98\\', \"Parkinson\\'s disease patient derived human ONS cells\", \"Parkinson\\'s disease patient derived human ONS cells\", \\'yeast histone acetyltransferase Gcn5-Ada2-Ada3 complex\\', \\'recombinant histone acetyltransferase p300\\', \\'Escherichia coli ATCC 11229\\', \\'Escherichia coli Rosetta 2 (DE3) cells\\', \\'Salmonella Typhimurium TA98\\', \\'Salmonella Typhimurium TA100\\', \\'Candida maltosa SBUG 700\\'], \\'Ames experiment\\': [False, False, False, False, False, True, False, True, True, True, True, False, False, False, False, False, False, True, True, False]}}\\n```\n",
    "\n",
    "\"\"\""
   ]
  },
  {
   "cell_type": "code",
   "execution_count": null,
   "id": "dafb5e28",
   "metadata": {},
   "outputs": [],
   "source": [
    "def replace_single_with_double_quotes(code_str):\n",
    "    return code_str.replace(\"'\", '\"')\n",
    "\n",
    "\n",
    "mes = replace_single_with_double_quotes(mes)\n"
   ]
  },
  {
   "cell_type": "code",
   "execution_count": null,
   "id": "4846fc6f",
   "metadata": {},
   "outputs": [],
   "source": [
    "thread = client.beta.threads.create(\n",
    "  messages=[\n",
    "    {\n",
    "      \"role\": \"user\",\n",
    "      \"content\": mes,\n",
    "      \"file_ids\": assistant.file_ids\n",
    "    }\n",
    "  ]\n",
    ")"
   ]
  },
  {
   "cell_type": "code",
   "execution_count": null,
   "id": "3fdb9a2a",
   "metadata": {},
   "outputs": [],
   "source": [
    "thread.id"
   ]
  },
  {
   "cell_type": "code",
   "execution_count": null,
   "id": "29e5fc0a",
   "metadata": {
    "scrolled": true
   },
   "outputs": [],
   "source": [
    "for i in tqdm(range(0,len(assay_description),20)):\n",
    "    info = ' \\n '.join(assay_description[i:i+20])\n",
    "    \n",
    "    chatGPT_replay(client,thread.id, assistant, question_content=info)\n",
    "    time.sleep(3)\n",
    "    chatGPT_check_replay(client,thread, dis=False)\n",
    "    \n",
    "    thread_messages = client.beta.threads.messages.list(thread.id)\n",
    "\n",
    "    try:\n",
    "        answer = extract_code_script_from_markdown(thread_messages.data[0].content[0].text.value)[0]\n",
    "        answer = pd.DataFrame(find_dictionaries_in_string(answer)[0])\n",
    "        answer.to_csv(f'../data/data_mining_results/{prop}/batch/{prop}_batch_{i}.csv',index=False)\n",
    "    except:\n",
    "        print(f'error for {i}')\n",
    "        display(thread_messages.data[0].content[0].text.value)\n",
    "        continue\n",
    "    "
   ]
  },
  {
   "cell_type": "markdown",
   "id": "8b0d53f9",
   "metadata": {},
   "source": [
    "# Combine result"
   ]
  },
  {
   "cell_type": "code",
   "execution_count": null,
   "id": "d7d36adb",
   "metadata": {},
   "outputs": [],
   "source": [
    "import os\n",
    "root_path = '../data/data_mining_results/Ames/batch/'\n",
    "result = pd.DataFrame()\n",
    "for file in os.listdir(root_path):\n",
    "    if 'csv' in file:\n",
    "        file_path = os.path.join(root_path,file)\n",
    "        tmp = pd.read_csv(file_path)\n",
    "        result = pd.concat([result,tmp])"
   ]
  },
  {
   "cell_type": "code",
   "execution_count": null,
   "id": "a34e7104",
   "metadata": {},
   "outputs": [],
   "source": [
    "result.columns"
   ]
  },
  {
   "cell_type": "code",
   "execution_count": null,
   "id": "47e8d66b",
   "metadata": {},
   "outputs": [],
   "source": [
    "result = result[[ 'original sentence', 'Concentration/Dosage Levels',\n",
    "       'Temperature Range', 'Time Duration', 'Metabolic Activation Presence',\n",
    "       'Cell/Tissue Type or Organism Used', 'Ames experiment']]"
   ]
  },
  {
   "cell_type": "code",
   "execution_count": null,
   "id": "b53da679",
   "metadata": {},
   "outputs": [],
   "source": [
    "result.columns = ['Assay Description', 'Concentration/Dosage Levels',\n",
    "       'Temperature Range', 'Time Duration', 'Metabolic Activation Presence',\n",
    "       'Cell/Tissue Type or Organism Used', 'Ames experiment']"
   ]
  },
  {
   "cell_type": "code",
   "execution_count": null,
   "id": "abb61142",
   "metadata": {},
   "outputs": [],
   "source": [
    "df = pd.read_csv('../data/raw_data/ames/chembl_ames_raw_data.csv')\n",
    "col_list = ['Molecule ChEMBL ID', \n",
    "       'Smiles', 'Standard Type', 'Standard Relation', 'Standard Value',\n",
    "       'Standard Units', 'Assay ChEMBL ID', 'Assay Description', 'Assay Type', 'BAO Format ID',\n",
    "       'BAO Label', \n",
    "       'Document ChEMBL ID', 'Source Description',\n",
    "       'Document Journal', 'Document Year','Comment']\n",
    "df = df[col_list]"
   ]
  },
  {
   "cell_type": "code",
   "execution_count": null,
   "id": "5bd471ca",
   "metadata": {},
   "outputs": [],
   "source": [
    "df = df.merge(result,on='Assay Description',how='left')\n",
    "df"
   ]
  },
  {
   "cell_type": "code",
   "execution_count": null,
   "id": "4e244300",
   "metadata": {},
   "outputs": [],
   "source": [
    "df.to_csv('../data/data_mining_results/Ames/chembl_ames_data_mining.csv',index=False)"
   ]
  },
  {
   "cell_type": "code",
   "execution_count": null,
   "id": "4b3ab957",
   "metadata": {},
   "outputs": [],
   "source": []
  },
  {
   "cell_type": "code",
   "execution_count": null,
   "id": "7748ca90",
   "metadata": {},
   "outputs": [],
   "source": []
  }
 ],
 "metadata": {
  "kernelspec": {
   "display_name": "Python 3 (ipykernel)",
   "language": "python",
   "name": "python3"
  },
  "language_info": {
   "codemirror_mode": {
    "name": "ipython",
    "version": 3
   },
   "file_extension": ".py",
   "mimetype": "text/x-python",
   "name": "python",
   "nbconvert_exporter": "python",
   "pygments_lexer": "ipython3",
   "version": "3.9.6"
  }
 },
 "nbformat": 4,
 "nbformat_minor": 5
}
