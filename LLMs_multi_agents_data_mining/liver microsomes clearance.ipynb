{
 "cells": [
  {
   "cell_type": "code",
   "execution_count": null,
   "id": "01c802b6",
   "metadata": {},
   "outputs": [],
   "source": [
    "\n",
    "import openai\n",
    "from tqdm.notebook import tqdm\n",
    "import pandas as pd\n",
    "import os\n",
    "from IPython.display import display, Markdown\n",
    "import pickle as pkl\n",
    "pd.set_option('display.max_columns', 60)\n",
    "import time\n",
    "\n",
    "from datamining_utils import chatGPT_check_replay,chatGPT_replay,load_api_key_from_file,extract_code_script_from_markdown,find_dictionaries_in_string\n",
    "\n",
    "%load_ext autoreload\n",
    "%autoreload 2\n"
   ]
  },
  {
   "cell_type": "code",
   "execution_count": null,
   "id": "d42a20f2",
   "metadata": {},
   "outputs": [],
   "source": [
    "\n",
    "# Usage\n",
    "api_key = load_api_key_from_file()\n",
    "from openai import OpenAI\n",
    "client = OpenAI(api_key = api_key)"
   ]
  },
  {
   "cell_type": "markdown",
   "id": "1a34ae87",
   "metadata": {},
   "source": [
    "# Key Word Agent"
   ]
  },
  {
   "cell_type": "code",
   "execution_count": null,
   "id": "6a09b420",
   "metadata": {},
   "outputs": [],
   "source": [
    "prop = 'Liver_microsomes_clearance'"
   ]
  },
  {
   "cell_type": "code",
   "execution_count": null,
   "id": "72fb1d74",
   "metadata": {},
   "outputs": [],
   "source": [
    "assistant = client.beta.assistants.create(name=f'{prop} knowledge generation chatbot',\n",
    "  instructions=f\"Please summarize the ADME-T related important experimental conditions\",\n",
    "  model=\"gpt-4-1106-preview\",\n",
    ")   "
   ]
  },
  {
   "cell_type": "code",
   "execution_count": null,
   "id": "51e491b5",
   "metadata": {
    "scrolled": true
   },
   "outputs": [],
   "source": [
    "assistant.id"
   ]
  },
  {
   "cell_type": "code",
   "execution_count": null,
   "id": "a32de2bc",
   "metadata": {},
   "outputs": [],
   "source": [
    "thread = client.beta.threads.create(\n",
    "  messages=[\n",
    "    {\n",
    "      \"role\": \"user\",\n",
    "      \"content\": \"summarise the key experimental conditions within the given experiments\",\n",
    "      \"file_ids\": assistant.file_ids\n",
    "    }\n",
    "  ]\n",
    ")"
   ]
  },
  {
   "cell_type": "code",
   "execution_count": null,
   "id": "5affc311",
   "metadata": {},
   "outputs": [],
   "source": [
    "thread.id"
   ]
  },
  {
   "cell_type": "markdown",
   "id": "2dd91d59",
   "metadata": {},
   "source": [
    "### summarize the important experimental conditions"
   ]
  },
  {
   "cell_type": "code",
   "execution_count": null,
   "id": "3b6f7756",
   "metadata": {},
   "outputs": [],
   "source": [
    "df = pd.read_csv('../data/raw_data/cl/chembl_cl_raw_data.csv')\n",
    "\n",
    "condition = ' \\n '.join(df['Assay Description'].value_counts().keys()[0:50])"
   ]
  },
  {
   "cell_type": "code",
   "execution_count": null,
   "id": "0a299f31",
   "metadata": {},
   "outputs": [],
   "source": [
    "mes = f\"\"\"\n",
    "Please summarize the key experimental conditions for experiments related to {prop} within the {condition}, only analysis the in vitro experiments\n",
    "\n",
    "\n",
    "Please analyze the document and return a list of the top ten most frequently mentioned experimental condition categories. These should be summarized under broad categories, such as pH levels, temperature ranges, or other relevant general conditions, rather than specific values or detailed conditions. Present this information in a Python list format.\n",
    "\n",
    "Each entry in the list should represent a unique category of experimental conditions. Avoid duplicating similar conditions and focus on capturing the overarching categories that these conditions fall under.\n",
    "\n",
    "Example output:\n",
    "```python\n",
    "['pH Level', 'Temperature Range', 'Light Exposure']\n",
    "```\n",
    "\n",
    "Ensure that the list is comprehensive, covering all major categories of experimental conditions mentioned in the document.\n",
    "\"\"\""
   ]
  },
  {
   "cell_type": "code",
   "execution_count": null,
   "id": "51203c1d",
   "metadata": {},
   "outputs": [],
   "source": [
    "chatGPT_replay(client,thread.id, assistant, question_content=mes)"
   ]
  },
  {
   "cell_type": "code",
   "execution_count": null,
   "id": "d68eb989",
   "metadata": {},
   "outputs": [],
   "source": [
    "# time.sleep(3)\n",
    "chatGPT_check_replay(client,thread)\n",
    "\n",
    "thread_messages = client.beta.threads.messages.list(thread.id)\n",
    "answer = extract_code_script_from_markdown(thread_messages.data[0].content[0].text.value)[0]\n",
    "experimental_conditions = eval(answer)\n",
    "experimental_conditions"
   ]
  },
  {
   "cell_type": "code",
   "execution_count": null,
   "id": "64ca1e94",
   "metadata": {},
   "outputs": [],
   "source": [
    "experimental_conditions = [\n",
    "    'Compound Concentration',\n",
    "    'Incubation Time',\n",
    "    'Presence of NADPH/NADP',\n",
    "    'Enzyme Source',\n",
    "    'Temperature Range',\n",
    "    'Analytical Technique',\n",
    "    'Species',\n",
    "    'Route of Administration',\n",
    "    'Type of Microsomes',\n",
    "    'Protein Amount or Microsomal Protein Concentration'\n",
    "]\n"
   ]
  },
  {
   "cell_type": "code",
   "execution_count": null,
   "id": "2555d2e8",
   "metadata": {},
   "outputs": [],
   "source": [
    "with open(f'../data/data_mining_results/{prop}/{prop}_experimental_conditions_summaried_by_LLMs.pkl','wb') as f:\n",
    "    pkl.dump(experimental_conditions,f)"
   ]
  },
  {
   "cell_type": "markdown",
   "id": "8f7d149b",
   "metadata": {},
   "source": [
    "# Example Agent"
   ]
  },
  {
   "cell_type": "code",
   "execution_count": null,
   "id": "1edde1fc",
   "metadata": {},
   "outputs": [],
   "source": [
    "with open(f'../data/data_mining_results/{prop}/{prop}_experimental_conditions_summaried_by_LLMs.pkl','rb') as f:\n",
    "    experimental_conditions = pkl.load(f)"
   ]
  },
  {
   "cell_type": "code",
   "execution_count": null,
   "id": "3f07d099",
   "metadata": {},
   "outputs": [],
   "source": [
    "assistant = client.beta.assistants.create(name=f'{prop} Data Mining chatbot',\n",
    "  instructions=f\"Please mining the key biomedical information within the given data\",\n",
    "  model=\"gpt-4-1106-preview\",\n",
    ")   "
   ]
  },
  {
   "cell_type": "code",
   "execution_count": null,
   "id": "5c1844d3",
   "metadata": {
    "scrolled": true
   },
   "outputs": [],
   "source": [
    "assistant.id"
   ]
  },
  {
   "cell_type": "code",
   "execution_count": null,
   "id": "bb4de378",
   "metadata": {},
   "outputs": [],
   "source": [
    "mes = \"\"\"\n",
    "Biomedical data mining task.\n",
    "\n",
    "Return python dictionary with key including index, original sentence, {}, and whether is {} experiment or not \n",
    "Fill in none if no information given. \n",
    "Please include all the sentences\n",
    "\n",
    "\"\"\".format(', '.join(experimental_conditions),prop)"
   ]
  },
  {
   "cell_type": "code",
   "execution_count": null,
   "id": "287c6dc7",
   "metadata": {},
   "outputs": [],
   "source": [
    "thread = client.beta.threads.create(\n",
    "  messages=[\n",
    "    {\n",
    "      \"role\": \"user\",\n",
    "      \"content\": mes,\n",
    "      \"file_ids\": assistant.file_ids\n",
    "    }\n",
    "  ]\n",
    ")"
   ]
  },
  {
   "cell_type": "code",
   "execution_count": null,
   "id": "59801037",
   "metadata": {},
   "outputs": [],
   "source": [
    "thread.id"
   ]
  },
  {
   "cell_type": "code",
   "execution_count": null,
   "id": "8cff56a5",
   "metadata": {},
   "outputs": [],
   "source": [
    "df = pd.read_csv('../data/cl/chembl_cl_combined.csv')"
   ]
  },
  {
   "cell_type": "code",
   "execution_count": null,
   "id": "de9471d1",
   "metadata": {
    "scrolled": true
   },
   "outputs": [],
   "source": [
    "result = pd.DataFrame()\n",
    "for i in tqdm(range(0,40,5)):\n",
    "    info = ' \\n '.join(df['Assay Description'].value_counts().keys()[i:i+5])\n",
    "    \n",
    "    chatGPT_replay(client,thread.id, assistant, question_content=info)\n",
    "    time.sleep(3)\n",
    "    runs = client.beta.threads.runs.list(\n",
    "          thread.id)\n",
    "    \n",
    "    while runs.data[0].status != 'completed':\n",
    "        time.sleep(3)\n",
    "        runs = client.beta.threads.runs.list(\n",
    "          thread.id\n",
    "        )\n",
    "    \n",
    "    thread_messages = client.beta.threads.messages.list(thread.id)\n",
    "    answer = extract_code_script_from_markdown(thread_messages.data[0].content[0].text.value)[0]\n",
    "    answer = pd.DataFrame(find_dictionaries_in_string(answer))\n",
    "    \n",
    "\n",
    "    display(pd.DataFrame(answer))\n",
    "    result = pd.concat([result,pd.DataFrame(answer)])"
   ]
  },
  {
   "cell_type": "code",
   "execution_count": null,
   "id": "79cffc63",
   "metadata": {},
   "outputs": [],
   "source": [
    "result.to_csv(f'../data/data_mining_results/{prop}/example_{prop}.csv',index=False)"
   ]
  },
  {
   "cell_type": "markdown",
   "id": "54fb0dfd",
   "metadata": {},
   "source": [
    "# Manul Validate and Create Full Promt with two shot Examples"
   ]
  },
  {
   "cell_type": "code",
   "execution_count": null,
   "id": "c9520e5e",
   "metadata": {},
   "outputs": [],
   "source": [
    "examples = pd.read_csv(f'../data/data_mining_results/{prop}/example_{prop}_manuel_validated.csv')"
   ]
  },
  {
   "cell_type": "code",
   "execution_count": null,
   "id": "594cddad",
   "metadata": {},
   "outputs": [],
   "source": [
    "tmp = examples[0:20]\n",
    "\n",
    "' \\n '.join(tmp[ 'original sentence'].values)"
   ]
  },
  {
   "cell_type": "code",
   "execution_count": null,
   "id": "e92b94c2",
   "metadata": {},
   "outputs": [],
   "source": [
    "str(tmp.to_dict(orient='list'))"
   ]
  },
  {
   "cell_type": "code",
   "execution_count": null,
   "id": "b5f0c00b",
   "metadata": {},
   "outputs": [],
   "source": [
    "tmp = examples[20::]\n",
    "\n",
    "' \\n '.join(tmp[ 'original sentence'].values)"
   ]
  },
  {
   "cell_type": "code",
   "execution_count": null,
   "id": "65b63155",
   "metadata": {},
   "outputs": [],
   "source": [
    "str(tmp.to_dict(orient='list'))"
   ]
  },
  {
   "cell_type": "markdown",
   "id": "f40598ba",
   "metadata": {},
   "source": [
    "\n",
    "\n",
    "f\"\"\"\n",
    "Biomedical data mining task.\n",
    "\n",
    "Return python dictionary with key including index, original sentence, {experimental_conditions_list}, and whether is {prop} experiment or not \n",
    "Fill in none if no information given. \n",
    "Please don't ignore some sentences.\n",
    "\n",
    "Example 1 \n",
    "Input: 'Clearance in human after iv administration \\n Intrinsic clearance in human liver microsomes \\n Intrinsic clearance in mouse liver microsomes \\n Metabolic stability in human liver microsomes assessed as intrinsic clearance \\n Intrinsic clearance in rat liver microsomes \\n Clearance in human liver microsomes \\n Intrinsic clearance in human microsomes \\n DNDI: in vitro intrinsic clearance in mouse liver microsomes at a concentration of 1uM \\n Metabolic stability in mouse liver microsomes assessed as intrinsic clearance \\n DNDI: Metabolism \\n Clearance in rat liver microsomes \\n Clearance in rat at 1 mg/kg, iv \\n Clearance in rat after iv administration \\n Metabolic stability in mouse liver microsomes assessed as intrinsic clearance at 0.5 uM incubated for 30 mins by LC-MS/MS analysis \\n Clearance in mouse liver microsomes \\n Plasma clearance in rat \\n Metabolic stability in human liver microsomes assessed as intrinsic clearance at 0.5 uM incubated for 30 mins by LC-MS/MS analysis \\n Intrinsic clearance in rat microsomes \\n Metabolic stability in rat liver microsomes assessed as intrinsic clearance \\n Intrinsic clearance in CD1 mouse liver microsomes at 5 uM incubated up to 30 mins in presence of NADPH by UPLC-UV analysis'\n",
    "\n",
    "Output:\n",
    "```python\\n{{'index': [0, 1, 2, 3, 4, 0, 1, 2, 3, 4, 0, 1, 2, 3, 4, 0, 1, 2, 3, 4], 'original sentence': ['Clearance in human after iv administration', 'Intrinsic clearance in human liver microsomes', 'Intrinsic clearance in mouse liver microsomes', 'Metabolic stability in human liver microsomes assessed as intrinsic clearance', 'Intrinsic clearance in rat liver microsomes', 'Clearance in human liver microsomes', 'Intrinsic clearance in human microsomes', 'DNDI: in vitro intrinsic clearance in mouse liver microsomes at a concentration of 1uM', 'Metabolic stability in mouse liver microsomes assessed as intrinsic clearance', 'DNDI: Metabolism', 'Clearance in rat liver microsomes', 'Clearance in rat at 1 mg/kg, iv', 'Clearance in rat after iv administration', 'Metabolic stability in mouse liver microsomes assessed as intrinsic clearance at 0.5 uM incubated for 30 mins by LC-MS/MS analysis', 'Clearance in mouse liver microsomes', 'Plasma clearance in rat', 'Metabolic stability in human liver microsomes assessed as intrinsic clearance at 0.5 uM incubated for 30 mins by LC-MS/MS analysis', 'Intrinsic clearance in rat microsomes', 'Metabolic stability in rat liver microsomes assessed as intrinsic clearance', 'Intrinsic clearance in CD1 mouse liver microsomes at 5 uM incubated up to 30 mins in presence of NADPH by UPLC-UV analysis'], 'Compound Concentration': ['none', 'none', 'none', 'none', 'none', 'none', 'none', '1uM', 'none', 'none', 'none', '1 mg/kg', 'none', '0.5 uM', 'none', 'none', '0.5 uM', 'none', 'none', '5 uM'], 'Incubation Time': ['none', 'none', 'none', 'none', 'none', 'none', 'none', 'none', 'none', 'none', 'none', 'none', 'none', '30 mins', 'none', 'none', '30 mins', 'none', 'none', 'up to 30 mins'], 'Presence of NADPH/NADP': ['none', 'none', 'none', 'none', 'none', 'none', 'none', 'none', 'none', 'none', 'none', 'none', 'none', 'none', 'none', 'none', 'none', 'none', 'none', 'NADPH'], 'Enzyme Source': ['none', 'liver', 'liver', 'liver', 'liver', 'liver', 'none', 'liver', 'liver', 'none', 'liver', 'none', 'none', 'liver', 'liver', 'none', 'liver', 'none', 'liver', 'liver'], 'Temperature Range': ['none', 'none', 'none', 'none', 'none', 'none', 'none', 'none', 'none', 'none', 'none', 'none', 'none', 'none', 'none', 'none', 'none', 'none', 'none', 'none'], 'Analytical Technique': ['none', 'none', 'none', 'none', 'none', 'none', 'none', 'none', 'none', 'none', 'none', 'none', 'none', 'LC-MS/MS', 'none', 'none', 'LC-MS/MS', 'none', 'none', 'UPLC-UV'], 'Species': ['human', 'human', 'mouse', 'human', 'rat', 'human', 'human', 'mouse', 'mouse', 'none', 'rat', 'rat', 'rat', 'mouse', 'mouse', 'rat', 'human', 'rat', 'rat', 'CD1 mouse'], 'Route of Administration': ['iv', 'none', 'none', 'none', 'none', 'none', 'none', 'none', 'none', 'none', 'none', 'iv', 'iv', 'none', 'none', 'none', 'none', 'none', 'none', 'none'], 'Type of Microsomes': ['none', 'liver microsomes', 'liver microsomes', 'liver microsomes', 'liver microsomes', 'liver microsomes', 'microsomes', 'liver microsomes', 'liver microsomes', 'none', 'liver microsomes', 'none', 'none', 'liver microsomes', 'liver microsomes', 'none', 'liver microsomes', 'microsomes', 'liver microsomes', 'liver microsomes'], 'Protein Amount or Microsomal Protein Concentration': ['none', 'none', 'none', 'none', 'none', 'none', 'none', 'none', 'none', 'none', 'none', 'none', 'none', 'none', 'none', 'none', 'none', 'none', 'none', 'none'], 'Liver_microsomes_clearance experiment': [False, True, True, True, True, True, True, True, True, False, True, False, False, True, True, False, True, True, True, True]}}\\n```\n",
    "\n",
    "Example 2\n",
    "Input: 'Microsomal stability in human liver microsomes assessed as intrinsic clearance \\n Intrinsic clearance in human liver microsomes at 1 to 2.5 uM in presence of NADPH \\n Clearance in iv dosed mouse \\n Clearance in rat \\n Clearance in human liver microsomes at 1 uM incubated for 60 mins followed by NADPH generating system addition and measured by LC-MS/MS analysis \\n Clearance in Sprague-Dawley rat at 1 mg/kg, iv by LC-MS/MS analysis \\n Clearance in Sprague-Dawley rat at 1 mg/kg, iv \\n Intrinsic clearance in human liver microsome \\n Clearance in human hepatocytes \\n Clearance in rat at 2 mg/kg, iv \\n Intrinsic clearance in mouse liver microsomes at 1 uM measured up to 30 mins in presence of NADPH by UPLC-MS/MS analysis \\n Intrinsic clearance in human liver microsomes at 1 uM measured up to 30 mins in presence of NADPH by UPLC-MS/MS analysis \\n Metabolic stability in human microsomes assessed as intrinsic clearance \\n Clearance in rat hepatocytes \\n Intrinsic clearance in human hepatocytes \\n Metabolic stability in mouse liver microsomes assessed as clearance \\n Unbound clearance in rat \\n Intrinsic clearance in mouse microsomes \\n Clearance in rat at 0.5 mg/kg, iv \\n Intrinsic clearance in mouse microsomes preincubated for 5 mins followed by addition of 1.5 mM of NADPH measured after 5 to 30 mins by LC-MS/MS analysis'\n",
    "\n",
    "Output:\n",
    "```python\\n{{'index': [0, 1, 2, 3, 4, 0, 1, 2, 3, 4, 0, 1, 2, 3, 4, 0, 1, 2, 3, 4], 'original sentence': ['Microsomal stability in human liver microsomes assessed as intrinsic clearance', 'Intrinsic clearance in human liver microsomes at 1 to 2.5 uM in presence of NADPH', 'Clearance in iv dosed mouse', 'Clearance in rat', 'Clearance in human liver microsomes at 1 uM incubated for 60 mins followed by NADPH generating system addition and measured by LC-MS/MS analysis', 'Clearance in Sprague-Dawley rat at 1 mg/kg, iv by LC-MS/MS analysis', 'Clearance in Sprague-Dawley rat at 1 mg/kg, iv', 'Intrinsic clearance in human liver microsome', 'Clearance in human hepatocytes', 'Clearance in rat at 2 mg/kg, iv', 'Intrinsic clearance in mouse liver microsomes at 1 uM measured up to 30 mins in presence of NADPH by UPLC-MS/MS analysis', 'Intrinsic clearance in human liver microsomes at 1 uM measured up to 30 mins in presence of NADPH by UPLC-MS/MS analysis', 'Metabolic stability in human microsomes assessed as intrinsic clearance', 'Clearance in rat hepatocytes', 'Intrinsic clearance in human hepatocytes', 'Metabolic stability in mouse liver microsomes assessed as clearance', 'Unbound clearance in rat', 'Intrinsic clearance in mouse microsomes', 'Clearance in rat at 0.5 mg/kg, iv', 'Intrinsic clearance in mouse microsomes preincubated for 5 mins followed by addition of 1.5 mM of NADPH measured after 5 to 30 mins by LC-MS/MS analysis'], 'Compound Concentration': ['none', '1 to 2.5 uM', 'none', 'none', '1 uM', '1 mg/kg', '1 mg/kg', 'none', 'none', '2 mg/kg', '1 uM', '1 uM', 'none', 'none', 'none', 'none', 'none', 'none', '0.5 mg/kg', 'none'], 'Incubation Time': ['none', 'none', 'none', 'none', '60 mins', 'none', 'none', 'none', 'none', 'none', 'up to 30 mins', 'up to 30 mins', 'none', 'none', 'none', 'none', 'none', 'none', 'none', '5 to 30 mins'], 'Presence of NADPH/NADP': ['none', 'NADPH', 'none', 'none', 'NADPH generating system', 'none', 'none', 'none', 'none', 'none', 'NADPH', 'NADPH', 'none', 'none', 'none', 'none', 'none', 'none', 'none', '1.5 mM NADPH'], 'Enzyme Source': ['liver', 'liver', 'none', 'none', 'liver', 'none', 'none', 'liver', 'hepatocytes', 'none', 'liver', 'liver', 'none', 'hepatocytes', 'hepatocytes', 'liver', 'none', 'none', 'none', 'none'], 'Temperature Range': ['none', 'none', 'none', 'none', 'none', 'none', 'none', 'none', 'none', 'none', 'none', 'none', 'none', 'none', 'none', 'none', 'none', 'none', 'none', 'none'], 'Analytical Technique': ['none', 'none', 'none', 'none', 'LC-MS/MS', 'LC-MS/MS', 'none', 'none', 'none', 'none', 'UPLC-MS/MS', 'UPLC-MS/MS', 'none', 'none', 'none', 'none', 'none', 'none', 'none', 'LC-MS/MS'], 'Species': ['human', 'human', 'mouse', 'rat', 'human', 'Sprague-Dawley rat', 'Sprague-Dawley rat', 'human', 'human', 'rat', 'mouse', 'human', 'human', 'rat', 'human', 'mouse', 'rat', 'mouse', 'rat', 'mouse'], 'Route of Administration': ['none', 'none', 'iv', 'none', 'none', 'iv', 'iv', 'none', 'none', 'iv', 'none', 'none', 'none', 'none', 'none', 'none', 'none', 'none', 'iv', 'none'], 'Type of Microsomes': ['liver microsomes', 'liver microsomes', 'none', 'none', 'liver microsomes', 'none', 'none', 'liver microsomes', 'none', 'none', 'liver microsomes', 'liver microsomes', 'microsomes', 'none', 'none', 'liver microsomes', 'none', 'microsomes', 'none', 'microsomes'], 'Protein Amount or Microsomal Protein Concentration': ['none', 'none', 'none', 'none', 'none', 'none', 'none', 'none', 'none', 'none', 'none', 'none', 'none', 'none', 'none', 'none', 'none', 'none', 'none', 'none'], 'Liver_microsomes_clearance experiment': [True, True, False, False, True, False, False, True, False, False, True, True, True, False, False, True, False, True, False, True]}}\\n```\n",
    "\n",
    "\"\"\""
   ]
  },
  {
   "cell_type": "markdown",
   "id": "603fabe5",
   "metadata": {},
   "source": [
    "# Data Mining Agent"
   ]
  },
  {
   "cell_type": "markdown",
   "id": "0e3f6747",
   "metadata": {},
   "source": [
    "### Load data "
   ]
  },
  {
   "cell_type": "code",
   "execution_count": null,
   "id": "22f22499",
   "metadata": {},
   "outputs": [],
   "source": [
    "df = pd.read_csv('../data/cl/chembl_cl_combined.csv')\n",
    "assay_description = df['Assay Description'].value_counts().keys()"
   ]
  },
  {
   "cell_type": "markdown",
   "id": "16334371",
   "metadata": {},
   "source": [
    "### Create agent"
   ]
  },
  {
   "cell_type": "code",
   "execution_count": null,
   "id": "863c6c65",
   "metadata": {},
   "outputs": [],
   "source": [
    "assistant = client.beta.assistants.create(name='Data Mining chatbot',\n",
    "  instructions=f\"Please mining the key biomedical information within the given data\",\n",
    "  model=\"gpt-4-1106-preview\",\n",
    ")   "
   ]
  },
  {
   "cell_type": "code",
   "execution_count": null,
   "id": "e3fd53fc",
   "metadata": {
    "scrolled": false
   },
   "outputs": [],
   "source": [
    "assistant.id"
   ]
  },
  {
   "cell_type": "code",
   "execution_count": null,
   "id": "34b251d1",
   "metadata": {},
   "outputs": [],
   "source": [
    "experimental_conditions_list = [\n",
    "    'Compound Concentration',\n",
    "    'Incubation Time',\n",
    "    'Presence of NADPH/NADP',\n",
    "    'Enzyme Source',\n",
    "    'Temperature Range',\n",
    "    'Analytical Technique',\n",
    "    'Species',\n",
    "    'Route of Administration',\n",
    "    'Type of Microsomes',\n",
    "    'Protein Amount or Microsomal Protein Concentration'\n",
    "]\n",
    "\n",
    "\n",
    "experimental_conditions_list = ', '.join(experimental_conditions_list)\n",
    "experimental_conditions_list"
   ]
  },
  {
   "cell_type": "code",
   "execution_count": null,
   "id": "316cf235",
   "metadata": {},
   "outputs": [],
   "source": [
    "mes = f\"\"\"\n",
    "Biomedical data mining task.\n",
    "\n",
    "Return python dictionary with key including index, original sentence, {experimental_conditions_list}, and whether is {prop} experiment or not \n",
    "Fill in none if no information given. \n",
    "Please don't ignore some sentences.\n",
    "\n",
    "Example 1 \n",
    "Input: 'Clearance in human after iv administration \\n Intrinsic clearance in human liver microsomes \\n Intrinsic clearance in mouse liver microsomes \\n Metabolic stability in human liver microsomes assessed as intrinsic clearance \\n Intrinsic clearance in rat liver microsomes \\n Clearance in human liver microsomes \\n Intrinsic clearance in human microsomes \\n DNDI: in vitro intrinsic clearance in mouse liver microsomes at a concentration of 1uM \\n Metabolic stability in mouse liver microsomes assessed as intrinsic clearance \\n DNDI: Metabolism \\n Clearance in rat liver microsomes \\n Clearance in rat at 1 mg/kg, iv \\n Clearance in rat after iv administration \\n Metabolic stability in mouse liver microsomes assessed as intrinsic clearance at 0.5 uM incubated for 30 mins by LC-MS/MS analysis \\n Clearance in mouse liver microsomes \\n Plasma clearance in rat \\n Metabolic stability in human liver microsomes assessed as intrinsic clearance at 0.5 uM incubated for 30 mins by LC-MS/MS analysis \\n Intrinsic clearance in rat microsomes \\n Metabolic stability in rat liver microsomes assessed as intrinsic clearance \\n Intrinsic clearance in CD1 mouse liver microsomes at 5 uM incubated up to 30 mins in presence of NADPH by UPLC-UV analysis'\n",
    "\n",
    "Output:\n",
    "```python\\n{{'index': [0, 1, 2, 3, 4, 0, 1, 2, 3, 4, 0, 1, 2, 3, 4, 0, 1, 2, 3, 4], 'original sentence': ['Clearance in human after iv administration', 'Intrinsic clearance in human liver microsomes', 'Intrinsic clearance in mouse liver microsomes', 'Metabolic stability in human liver microsomes assessed as intrinsic clearance', 'Intrinsic clearance in rat liver microsomes', 'Clearance in human liver microsomes', 'Intrinsic clearance in human microsomes', 'DNDI: in vitro intrinsic clearance in mouse liver microsomes at a concentration of 1uM', 'Metabolic stability in mouse liver microsomes assessed as intrinsic clearance', 'DNDI: Metabolism', 'Clearance in rat liver microsomes', 'Clearance in rat at 1 mg/kg, iv', 'Clearance in rat after iv administration', 'Metabolic stability in mouse liver microsomes assessed as intrinsic clearance at 0.5 uM incubated for 30 mins by LC-MS/MS analysis', 'Clearance in mouse liver microsomes', 'Plasma clearance in rat', 'Metabolic stability in human liver microsomes assessed as intrinsic clearance at 0.5 uM incubated for 30 mins by LC-MS/MS analysis', 'Intrinsic clearance in rat microsomes', 'Metabolic stability in rat liver microsomes assessed as intrinsic clearance', 'Intrinsic clearance in CD1 mouse liver microsomes at 5 uM incubated up to 30 mins in presence of NADPH by UPLC-UV analysis'], 'Compound Concentration': ['none', 'none', 'none', 'none', 'none', 'none', 'none', '1uM', 'none', 'none', 'none', '1 mg/kg', 'none', '0.5 uM', 'none', 'none', '0.5 uM', 'none', 'none', '5 uM'], 'Incubation Time': ['none', 'none', 'none', 'none', 'none', 'none', 'none', 'none', 'none', 'none', 'none', 'none', 'none', '30 mins', 'none', 'none', '30 mins', 'none', 'none', 'up to 30 mins'], 'Presence of NADPH/NADP': ['none', 'none', 'none', 'none', 'none', 'none', 'none', 'none', 'none', 'none', 'none', 'none', 'none', 'none', 'none', 'none', 'none', 'none', 'none', 'NADPH'], 'Enzyme Source': ['none', 'liver', 'liver', 'liver', 'liver', 'liver', 'none', 'liver', 'liver', 'none', 'liver', 'none', 'none', 'liver', 'liver', 'none', 'liver', 'none', 'liver', 'liver'], 'Temperature Range': ['none', 'none', 'none', 'none', 'none', 'none', 'none', 'none', 'none', 'none', 'none', 'none', 'none', 'none', 'none', 'none', 'none', 'none', 'none', 'none'], 'Analytical Technique': ['none', 'none', 'none', 'none', 'none', 'none', 'none', 'none', 'none', 'none', 'none', 'none', 'none', 'LC-MS/MS', 'none', 'none', 'LC-MS/MS', 'none', 'none', 'UPLC-UV'], 'Species': ['human', 'human', 'mouse', 'human', 'rat', 'human', 'human', 'mouse', 'mouse', 'none', 'rat', 'rat', 'rat', 'mouse', 'mouse', 'rat', 'human', 'rat', 'rat', 'CD1 mouse'], 'Route of Administration': ['iv', 'none', 'none', 'none', 'none', 'none', 'none', 'none', 'none', 'none', 'none', 'iv', 'iv', 'none', 'none', 'none', 'none', 'none', 'none', 'none'], 'Type of Microsomes': ['none', 'liver microsomes', 'liver microsomes', 'liver microsomes', 'liver microsomes', 'liver microsomes', 'microsomes', 'liver microsomes', 'liver microsomes', 'none', 'liver microsomes', 'none', 'none', 'liver microsomes', 'liver microsomes', 'none', 'liver microsomes', 'microsomes', 'liver microsomes', 'liver microsomes'], 'Protein Amount or Microsomal Protein Concentration': ['none', 'none', 'none', 'none', 'none', 'none', 'none', 'none', 'none', 'none', 'none', 'none', 'none', 'none', 'none', 'none', 'none', 'none', 'none', 'none'], 'Liver_microsomes_clearance experiment': [False, True, True, True, True, True, True, True, True, False, True, False, False, True, True, False, True, True, True, True]}}\\n```\n",
    "\n",
    "Example 2\n",
    "Input: 'Microsomal stability in human liver microsomes assessed as intrinsic clearance \\n Intrinsic clearance in human liver microsomes at 1 to 2.5 uM in presence of NADPH \\n Clearance in iv dosed mouse \\n Clearance in rat \\n Clearance in human liver microsomes at 1 uM incubated for 60 mins followed by NADPH generating system addition and measured by LC-MS/MS analysis \\n Clearance in Sprague-Dawley rat at 1 mg/kg, iv by LC-MS/MS analysis \\n Clearance in Sprague-Dawley rat at 1 mg/kg, iv \\n Intrinsic clearance in human liver microsome \\n Clearance in human hepatocytes \\n Clearance in rat at 2 mg/kg, iv \\n Intrinsic clearance in mouse liver microsomes at 1 uM measured up to 30 mins in presence of NADPH by UPLC-MS/MS analysis \\n Intrinsic clearance in human liver microsomes at 1 uM measured up to 30 mins in presence of NADPH by UPLC-MS/MS analysis \\n Metabolic stability in human microsomes assessed as intrinsic clearance \\n Clearance in rat hepatocytes \\n Intrinsic clearance in human hepatocytes \\n Metabolic stability in mouse liver microsomes assessed as clearance \\n Unbound clearance in rat \\n Intrinsic clearance in mouse microsomes \\n Clearance in rat at 0.5 mg/kg, iv \\n Intrinsic clearance in mouse microsomes preincubated for 5 mins followed by addition of 1.5 mM of NADPH measured after 5 to 30 mins by LC-MS/MS analysis'\n",
    "\n",
    "Output:\n",
    "```python\\n{{'index': [0, 1, 2, 3, 4, 0, 1, 2, 3, 4, 0, 1, 2, 3, 4, 0, 1, 2, 3, 4], 'original sentence': ['Microsomal stability in human liver microsomes assessed as intrinsic clearance', 'Intrinsic clearance in human liver microsomes at 1 to 2.5 uM in presence of NADPH', 'Clearance in iv dosed mouse', 'Clearance in rat', 'Clearance in human liver microsomes at 1 uM incubated for 60 mins followed by NADPH generating system addition and measured by LC-MS/MS analysis', 'Clearance in Sprague-Dawley rat at 1 mg/kg, iv by LC-MS/MS analysis', 'Clearance in Sprague-Dawley rat at 1 mg/kg, iv', 'Intrinsic clearance in human liver microsome', 'Clearance in human hepatocytes', 'Clearance in rat at 2 mg/kg, iv', 'Intrinsic clearance in mouse liver microsomes at 1 uM measured up to 30 mins in presence of NADPH by UPLC-MS/MS analysis', 'Intrinsic clearance in human liver microsomes at 1 uM measured up to 30 mins in presence of NADPH by UPLC-MS/MS analysis', 'Metabolic stability in human microsomes assessed as intrinsic clearance', 'Clearance in rat hepatocytes', 'Intrinsic clearance in human hepatocytes', 'Metabolic stability in mouse liver microsomes assessed as clearance', 'Unbound clearance in rat', 'Intrinsic clearance in mouse microsomes', 'Clearance in rat at 0.5 mg/kg, iv', 'Intrinsic clearance in mouse microsomes preincubated for 5 mins followed by addition of 1.5 mM of NADPH measured after 5 to 30 mins by LC-MS/MS analysis'], 'Compound Concentration': ['none', '1 to 2.5 uM', 'none', 'none', '1 uM', '1 mg/kg', '1 mg/kg', 'none', 'none', '2 mg/kg', '1 uM', '1 uM', 'none', 'none', 'none', 'none', 'none', 'none', '0.5 mg/kg', 'none'], 'Incubation Time': ['none', 'none', 'none', 'none', '60 mins', 'none', 'none', 'none', 'none', 'none', 'up to 30 mins', 'up to 30 mins', 'none', 'none', 'none', 'none', 'none', 'none', 'none', '5 to 30 mins'], 'Presence of NADPH/NADP': ['none', 'NADPH', 'none', 'none', 'NADPH generating system', 'none', 'none', 'none', 'none', 'none', 'NADPH', 'NADPH', 'none', 'none', 'none', 'none', 'none', 'none', 'none', '1.5 mM NADPH'], 'Enzyme Source': ['liver', 'liver', 'none', 'none', 'liver', 'none', 'none', 'liver', 'hepatocytes', 'none', 'liver', 'liver', 'none', 'hepatocytes', 'hepatocytes', 'liver', 'none', 'none', 'none', 'none'], 'Temperature Range': ['none', 'none', 'none', 'none', 'none', 'none', 'none', 'none', 'none', 'none', 'none', 'none', 'none', 'none', 'none', 'none', 'none', 'none', 'none', 'none'], 'Analytical Technique': ['none', 'none', 'none', 'none', 'LC-MS/MS', 'LC-MS/MS', 'none', 'none', 'none', 'none', 'UPLC-MS/MS', 'UPLC-MS/MS', 'none', 'none', 'none', 'none', 'none', 'none', 'none', 'LC-MS/MS'], 'Species': ['human', 'human', 'mouse', 'rat', 'human', 'Sprague-Dawley rat', 'Sprague-Dawley rat', 'human', 'human', 'rat', 'mouse', 'human', 'human', 'rat', 'human', 'mouse', 'rat', 'mouse', 'rat', 'mouse'], 'Route of Administration': ['none', 'none', 'iv', 'none', 'none', 'iv', 'iv', 'none', 'none', 'iv', 'none', 'none', 'none', 'none', 'none', 'none', 'none', 'none', 'iv', 'none'], 'Type of Microsomes': ['liver microsomes', 'liver microsomes', 'none', 'none', 'liver microsomes', 'none', 'none', 'liver microsomes', 'none', 'none', 'liver microsomes', 'liver microsomes', 'microsomes', 'none', 'none', 'liver microsomes', 'none', 'microsomes', 'none', 'microsomes'], 'Protein Amount or Microsomal Protein Concentration': ['none', 'none', 'none', 'none', 'none', 'none', 'none', 'none', 'none', 'none', 'none', 'none', 'none', 'none', 'none', 'none', 'none', 'none', 'none', 'none'], 'Liver_microsomes_clearance experiment': [True, True, False, False, True, False, False, True, False, False, True, True, True, False, False, True, False, True, False, True]}}\\n```\n",
    "\n",
    "\"\"\""
   ]
  },
  {
   "cell_type": "code",
   "execution_count": null,
   "id": "dafb5e28",
   "metadata": {},
   "outputs": [],
   "source": [
    "def replace_single_with_double_quotes(code_str):\n",
    "    return code_str.replace(\"'\", '\"')\n",
    "\n",
    "\n",
    "mes = replace_single_with_double_quotes(mes)\n"
   ]
  },
  {
   "cell_type": "code",
   "execution_count": null,
   "id": "4846fc6f",
   "metadata": {},
   "outputs": [],
   "source": [
    "thread = client.beta.threads.create(\n",
    "  messages=[\n",
    "    {\n",
    "      \"role\": \"user\",\n",
    "      \"content\": mes,\n",
    "      \"file_ids\": assistant.file_ids\n",
    "    }\n",
    "  ]\n",
    ")"
   ]
  },
  {
   "cell_type": "code",
   "execution_count": null,
   "id": "3fdb9a2a",
   "metadata": {},
   "outputs": [],
   "source": [
    "thread.id"
   ]
  },
  {
   "cell_type": "code",
   "execution_count": null,
   "id": "badbdfb6",
   "metadata": {},
   "outputs": [],
   "source": [
    "len(assay_description)"
   ]
  },
  {
   "cell_type": "code",
   "execution_count": null,
   "id": "29e5fc0a",
   "metadata": {
    "scrolled": true
   },
   "outputs": [],
   "source": [
    "for i in tqdm(range(0,len(assay_description),20)):\n",
    "    info = ' \\n '.join(assay_description[i:i+20])\n",
    "    \n",
    "    chatGPT_replay(client,thread.id, assistant, question_content=info)\n",
    "    time.sleep(3)\n",
    "    chatGPT_check_replay(client,thread, dis=False)\n",
    "    \n",
    "    thread_messages = client.beta.threads.messages.list(thread.id)\n",
    "\n",
    "    try:\n",
    "        answer = extract_code_script_from_markdown(thread_messages.data[0].content[0].text.value)[0]\n",
    "        answer = pd.DataFrame(find_dictionaries_in_string(answer)[0])\n",
    "        answer.to_csv(f'../data/data_mining_results/{prop}/batch/{prop}_batch_{i}.csv',index=False)\n",
    "    except:\n",
    "        print(f'error for {i}')\n",
    "        display(thread_messages.data[0].content[0].text.value)\n",
    "        continue\n",
    "    "
   ]
  },
  {
   "cell_type": "markdown",
   "id": "28efca37",
   "metadata": {},
   "source": [
    "# Combine result"
   ]
  },
  {
   "cell_type": "code",
   "execution_count": null,
   "id": "06bcb339",
   "metadata": {},
   "outputs": [],
   "source": [
    "import os\n",
    "import pandas as pd\n",
    "root_path = '../data/data_mining_results/Liver_microsomes_clearance/batch/'\n",
    "result = pd.DataFrame()\n",
    "for file in os.listdir(root_path):\n",
    "    if 'csv' in file:\n",
    "        file_path = os.path.join(root_path,file)\n",
    "        tmp = pd.read_csv(file_path)\n",
    "        result = pd.concat([result,tmp])"
   ]
  },
  {
   "cell_type": "code",
   "execution_count": null,
   "id": "08257c25",
   "metadata": {},
   "outputs": [],
   "source": [
    "result.columns"
   ]
  },
  {
   "cell_type": "code",
   "execution_count": null,
   "id": "34ee3f1a",
   "metadata": {},
   "outputs": [],
   "source": [
    "result = result[[ 'original sentence',  'Compound Concentration',\n",
    "       'Incubation Time', 'Presence of NADPH/NADP', 'Enzyme Source',\n",
    "       'Temperature Range', 'Analytical Technique', 'Species',\n",
    "       'Route of Administration', 'Type of Microsomes',\n",
    "       'Protein Amount or Microsomal Protein Concentration',\n",
    "       'Liver_microsomes_clearance experiment']]"
   ]
  },
  {
   "cell_type": "code",
   "execution_count": null,
   "id": "cd12c715",
   "metadata": {},
   "outputs": [],
   "source": [
    "result.columns = ['Assay Description','Compound Concentration',\n",
    "       'Incubation Time', 'Presence of NADPH/NADP', 'Enzyme Source',\n",
    "       'Temperature Range', 'Analytical Technique', 'Species',\n",
    "       'Route of Administration', 'Type of Microsomes',\n",
    "       'Protein Amount or Microsomal Protein Concentration',\n",
    "       'Liver_microsomes_clearance experiment']"
   ]
  },
  {
   "cell_type": "code",
   "execution_count": null,
   "id": "7ff3d93b",
   "metadata": {},
   "outputs": [],
   "source": [
    "df = pd.read_csv('../data/raw_data/cl/chembl_cl_raw_data.csv')\n",
    "col_list = ['Molecule ChEMBL ID', \n",
    "       'Smiles', 'Standard Type', 'Standard Relation', 'Standard Value',\n",
    "       'Standard Units', 'Assay ChEMBL ID', 'Assay Description', 'Assay Type', 'BAO Format ID',\n",
    "       'BAO Label', \n",
    "       'Document ChEMBL ID', 'Source Description',\n",
    "       'Document Journal', 'Document Year']\n",
    "df = df[col_list]"
   ]
  },
  {
   "cell_type": "code",
   "execution_count": null,
   "id": "09acea3e",
   "metadata": {},
   "outputs": [],
   "source": [
    "df = df.merge(result,on='Assay Description',how='left')\n",
    "df"
   ]
  },
  {
   "cell_type": "code",
   "execution_count": null,
   "id": "ed03d84e",
   "metadata": {},
   "outputs": [],
   "source": [
    "df.to_csv('../data/data_mining_results/Liver_microsomes_clearance/cl_Chembl_data_mining_finished.csv',index=False)"
   ]
  },
  {
   "cell_type": "code",
   "execution_count": null,
   "id": "733d1818",
   "metadata": {},
   "outputs": [],
   "source": []
  }
 ],
 "metadata": {
  "kernelspec": {
   "display_name": "Python 3 (ipykernel)",
   "language": "python",
   "name": "python3"
  },
  "language_info": {
   "codemirror_mode": {
    "name": "ipython",
    "version": 3
   },
   "file_extension": ".py",
   "mimetype": "text/x-python",
   "name": "python",
   "nbconvert_exporter": "python",
   "pygments_lexer": "ipython3",
   "version": "3.9.6"
  }
 },
 "nbformat": 4,
 "nbformat_minor": 5
}
