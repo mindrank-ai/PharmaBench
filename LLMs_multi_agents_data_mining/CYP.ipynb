{
 "cells": [
  {
   "cell_type": "code",
   "execution_count": null,
   "id": "01c802b6",
   "metadata": {},
   "outputs": [],
   "source": [
    "import openai\n",
    "from tqdm.notebook import tqdm\n",
    "import pandas as pd\n",
    "import os\n",
    "from IPython.display import display, Markdown\n",
    "import pickle as pkl\n",
    "pd.set_option('display.max_columns', 60)\n",
    "import time\n",
    "\n",
    "from datamining_utils import chatGPT_check_replay,chatGPT_replay,load_api_key_from_file,extract_code_script_from_markdown,find_dictionaries_in_string\n",
    "\n",
    "%load_ext autoreload\n",
    "%autoreload 2"
   ]
  },
  {
   "cell_type": "code",
   "execution_count": null,
   "id": "d42a20f2",
   "metadata": {},
   "outputs": [],
   "source": [
    "\n",
    "# Usage\n",
    "api_key = load_api_key_from_file()\n",
    "from openai import OpenAI\n",
    "client = OpenAI(api_key = api_key)"
   ]
  },
  {
   "cell_type": "markdown",
   "id": "1a34ae87",
   "metadata": {},
   "source": [
    "# Key Word Agent"
   ]
  },
  {
   "cell_type": "code",
   "execution_count": null,
   "id": "6a09b420",
   "metadata": {},
   "outputs": [],
   "source": [
    "prop = 'Cytochrome_P450_enzymes'"
   ]
  },
  {
   "cell_type": "code",
   "execution_count": null,
   "id": "72fb1d74",
   "metadata": {},
   "outputs": [],
   "source": [
    "assistant = client.beta.assistants.create(name=f'{prop} knowledge generation chatbot',\n",
    "  instructions=f\"Please summarize the ADME-T related important experimental conditions\",\n",
    "  model=\"gpt-4-1106-preview\",\n",
    ")   "
   ]
  },
  {
   "cell_type": "code",
   "execution_count": null,
   "id": "51e491b5",
   "metadata": {
    "scrolled": true
   },
   "outputs": [],
   "source": [
    "assistant.id"
   ]
  },
  {
   "cell_type": "code",
   "execution_count": null,
   "id": "a32de2bc",
   "metadata": {},
   "outputs": [],
   "source": [
    "thread = client.beta.threads.create(\n",
    "  messages=[\n",
    "    {\n",
    "      \"role\": \"user\",\n",
    "      \"content\": \"summarise the key experimental conditions within the given experiments\",\n",
    "      \"file_ids\": assistant.file_ids\n",
    "    }\n",
    "  ]\n",
    ")"
   ]
  },
  {
   "cell_type": "code",
   "execution_count": null,
   "id": "5affc311",
   "metadata": {},
   "outputs": [],
   "source": [
    "thread.id"
   ]
  },
  {
   "cell_type": "markdown",
   "id": "2dd91d59",
   "metadata": {},
   "source": [
    "### summarize the important experimental conditions"
   ]
  },
  {
   "cell_type": "code",
   "execution_count": null,
   "id": "3b6f7756",
   "metadata": {},
   "outputs": [],
   "source": [
    "df = pd.read_csv('../data/raw_data/cyp/chembl_cyp_raw_data.csv')\n",
    "df = df.drop_duplicates('Assay Description')\n",
    "condition = ' \\n '.join(df['Assay Description'][0:50])"
   ]
  },
  {
   "cell_type": "code",
   "execution_count": null,
   "id": "0a299f31",
   "metadata": {},
   "outputs": [],
   "source": [
    "mes = f\"\"\"\n",
    "Please summarize the key experimental conditions for experiments related to {prop} within the {condition}\n",
    "\n",
    "\n",
    "Please analyze the document and return a list of the top ten most frequently mentioned experimental condition categories. These should be summarized under broad categories, such as pH levels, temperature ranges, or other relevant general conditions, rather than specific values or detailed conditions. Present this information in a Python list format.\n",
    "\n",
    "Each entry in the list should represent a unique category of experimental conditions. Avoid duplicating similar conditions and focus on capturing the overarching categories that these conditions fall under.\n",
    "\n",
    "Example output:\n",
    "```python\n",
    "['pH Level', 'Temperature Range', 'Light Exposure']\n",
    "```\n",
    "\n",
    "Ensure that the list is comprehensive, covering all major categories of experimental conditions mentioned in the document.\n",
    "\"\"\""
   ]
  },
  {
   "cell_type": "code",
   "execution_count": null,
   "id": "51203c1d",
   "metadata": {},
   "outputs": [],
   "source": [
    "chatGPT_replay(client,thread.id, assistant, question_content=mes)"
   ]
  },
  {
   "cell_type": "code",
   "execution_count": null,
   "id": "d68eb989",
   "metadata": {},
   "outputs": [],
   "source": [
    "# time.sleep(3)\n",
    "chatGPT_check_replay(client,thread)\n",
    "\n",
    "thread_messages = client.beta.threads.messages.list(thread.id)\n",
    "answer = extract_code_script_from_markdown(thread_messages.data[0].content[0].text.value)[0]\n",
    "experimental_conditions = eval(answer)\n",
    "experimental_conditions"
   ]
  },
  {
   "cell_type": "code",
   "execution_count": null,
   "id": "64ca1e94",
   "metadata": {},
   "outputs": [],
   "source": [
    "experimental_conditions = ['Enzyme Source',\n",
    " 'Incubation Time',\n",
    " 'Temperature Range',\n",
    " 'pH Level',\n",
    " 'Substrate Concentration',\n",
    " 'Inhibitor Concentration',\n",
    " 'Cofactors',\n",
    " 'Detection Method',\n",
    " 'Protein Expression System',\n",
    " 'Cell Type']"
   ]
  },
  {
   "cell_type": "code",
   "execution_count": null,
   "id": "2555d2e8",
   "metadata": {},
   "outputs": [],
   "source": [
    "with open(f'../data/data_mining_results/{prop}/{prop}_experimental_conditions_summaried_by_LLMs.pkl','wb') as f:\n",
    "    pkl.dump(experimental_conditions,f)"
   ]
  },
  {
   "cell_type": "markdown",
   "id": "8f7d149b",
   "metadata": {},
   "source": [
    "# Example Agent"
   ]
  },
  {
   "cell_type": "code",
   "execution_count": null,
   "id": "1edde1fc",
   "metadata": {},
   "outputs": [],
   "source": [
    "with open(f'../data/data_mining_results/{prop}/{prop}_experimental_conditions_summaried_by_LLMs.pkl','rb') as f:\n",
    "    experimental_conditions = pkl.load(f)"
   ]
  },
  {
   "cell_type": "code",
   "execution_count": null,
   "id": "3f07d099",
   "metadata": {},
   "outputs": [],
   "source": [
    "assistant = client.beta.assistants.create(name=f'{prop} Data Mining chatbot',\n",
    "  instructions=f\"Please mining the key biomedical information within the given data\",\n",
    "  model=\"gpt-4-1106-preview\",\n",
    ")   "
   ]
  },
  {
   "cell_type": "code",
   "execution_count": null,
   "id": "5c1844d3",
   "metadata": {
    "scrolled": true
   },
   "outputs": [],
   "source": [
    "assistant.id"
   ]
  },
  {
   "cell_type": "code",
   "execution_count": null,
   "id": "bb4de378",
   "metadata": {},
   "outputs": [],
   "source": [
    "mes = \"\"\"\n",
    "Biomedical data mining task.\n",
    "\n",
    "Return python dictionary with key including index, original sentence, {}, and whether is {} experiment or not \n",
    "Fill in none if no information given. \n",
    "Please include all the sentences\n",
    "\n",
    "\"\"\".format(', '.join(experimental_conditions),prop)"
   ]
  },
  {
   "cell_type": "code",
   "execution_count": null,
   "id": "287c6dc7",
   "metadata": {},
   "outputs": [],
   "source": [
    "thread = client.beta.threads.create(\n",
    "  messages=[\n",
    "    {\n",
    "      \"role\": \"user\",\n",
    "      \"content\": mes,\n",
    "      \"file_ids\": assistant.file_ids\n",
    "    }\n",
    "  ]\n",
    ")"
   ]
  },
  {
   "cell_type": "code",
   "execution_count": null,
   "id": "59801037",
   "metadata": {},
   "outputs": [],
   "source": [
    "thread.id"
   ]
  },
  {
   "cell_type": "code",
   "execution_count": null,
   "id": "8cff56a5",
   "metadata": {},
   "outputs": [],
   "source": [
    "df = pd.read_csv('../data/raw_data/cyp/chembl_cyp_raw_data.csv')"
   ]
  },
  {
   "cell_type": "code",
   "execution_count": null,
   "id": "de9471d1",
   "metadata": {
    "scrolled": false
   },
   "outputs": [],
   "source": [
    "result = pd.DataFrame()\n",
    "for i in tqdm(range(0,40,10)):\n",
    "    info = ' \\n '.join(df['Assay Description'].value_counts().keys()[i:i+10])\n",
    "    \n",
    "    chatGPT_replay(client,thread.id, assistant, question_content=info)\n",
    "    time.sleep(3)\n",
    "    runs = client.beta.threads.runs.list(\n",
    "          thread.id)\n",
    "    \n",
    "    while runs.data[0].status != 'completed':\n",
    "        time.sleep(3)\n",
    "        runs = client.beta.threads.runs.list(\n",
    "          thread.id\n",
    "        )\n",
    "    \n",
    "    thread_messages = client.beta.threads.messages.list(thread.id)\n",
    "    answer = extract_code_script_from_markdown(thread_messages.data[0].content[0].text.value)[0]\n",
    "    answer = pd.DataFrame(find_dictionaries_in_string(answer))\n",
    "    \n",
    "\n",
    "    display(pd.DataFrame(answer))\n",
    "    result = pd.concat([result,pd.DataFrame(answer)])"
   ]
  },
  {
   "cell_type": "code",
   "execution_count": null,
   "id": "79cffc63",
   "metadata": {},
   "outputs": [],
   "source": [
    "result.to_csv(f'../data/data_mining_results/{prop}/example_{prop}.csv',index=False)"
   ]
  },
  {
   "cell_type": "markdown",
   "id": "54fb0dfd",
   "metadata": {},
   "source": [
    "# Manul Validate and Create Full Promt with two shot Examples"
   ]
  },
  {
   "cell_type": "code",
   "execution_count": null,
   "id": "c9520e5e",
   "metadata": {},
   "outputs": [],
   "source": [
    "examples = pd.read_csv(f'../data/data_mining_results/{prop}/example_{prop}_manuel_validated.csv')"
   ]
  },
  {
   "cell_type": "code",
   "execution_count": null,
   "id": "594cddad",
   "metadata": {},
   "outputs": [],
   "source": [
    "tmp = examples[0:20]\n",
    "\n",
    "' \\n '.join(tmp[ 'original sentence'].values)"
   ]
  },
  {
   "cell_type": "code",
   "execution_count": null,
   "id": "e92b94c2",
   "metadata": {},
   "outputs": [],
   "source": [
    "str(tmp.to_dict(orient='list'))"
   ]
  },
  {
   "cell_type": "code",
   "execution_count": null,
   "id": "b5f0c00b",
   "metadata": {},
   "outputs": [],
   "source": [
    "tmp = examples[20::]\n",
    "\n",
    "' \\n '.join(tmp[ 'original sentence'].values)"
   ]
  },
  {
   "cell_type": "code",
   "execution_count": null,
   "id": "65b63155",
   "metadata": {},
   "outputs": [],
   "source": [
    "str(tmp.to_dict(orient='list'))"
   ]
  },
  {
   "cell_type": "markdown",
   "id": "f40598ba",
   "metadata": {},
   "source": [
    "f\"\"\"\n",
    "Biomedical data mining task.\n",
    "\n",
    "Return python dictionary with key including index, original sentence, {experimental_conditions_list}, and whether is {prop} experiment or not \n",
    "Fill in none if no information given. \n",
    "Please don't ignore some sentences.\n",
    "\n",
    "Example 1 \n",
    "Input: 'Inhibition of CYP2D6 \\n Inhibition of CYP3A4 \\n Inhibition of CYP2C9 \\n Inhibition of CYP3A4 (unknown origin) \\n Inhibition of CYP2C19 \\n Inhibition of CYP2C9 (unknown origin) \\n Inhibition of CYP2D6 (unknown origin) \\n Inhibition of human placental microsome CYP19 \\n GSK_TCAKS: pIC50 CYP51 from Trypanosoma cruzi. \\n Inhibition of human CYP3A4 \\n Inhibition of human CYP11B1 expressed in chinese hamster V79 cells \\n Inhibition of CYP1A2 \\n Inhibition of human recombinant CYP2D6 \\n Inhibition of human CYP2C9 \\n Inhibition of human CYP11B2 expressed in chinese hamster V79 cells \\n Inhibition of human CYP11B1 expressed in hamster V79MZh cells using [1,2-3H]-11-deoxycorticosterone as substrate \\n Inhibition of CYP2C19 (unknown origin) \\n Inhibition of human CYP2D6 \\n Inhibition of CYP1A2 (unknown origin) \\n Inhibition of human recombinant CYP3A4'\n",
    "\n",
    "Output:\n",
    "```python\\n{{'index': [1, 2, 3, 4, 5, 6, 7, 8, 9, 10, 11, 12, 13, 14, 15, 16, 17, 18, 19, 20], 'original sentence': ['Inhibition of CYP2D6', 'Inhibition of CYP3A4', 'Inhibition of CYP2C9', 'Inhibition of CYP3A4 (unknown origin)', 'Inhibition of CYP2C19', 'Inhibition of CYP2C9 (unknown origin)', 'Inhibition of CYP2D6 (unknown origin)', 'Inhibition of human placental microsome CYP19', 'GSK_TCAKS: pIC50 CYP51 from Trypanosoma cruzi.', 'Inhibition of human CYP3A4', 'Inhibition of human CYP11B1 expressed in chinese hamster V79 cells', 'Inhibition of CYP1A2', 'Inhibition of human recombinant CYP2D6', 'Inhibition of human CYP2C9', 'Inhibition of human CYP11B2 expressed in chinese hamster V79 cells', 'Inhibition of human CYP11B1 expressed in hamster V79MZh cells using [1,2-3H]-11-deoxycorticosterone as substrate', 'Inhibition of CYP2C19 (unknown origin)', 'Inhibition of human CYP2D6', 'Inhibition of CYP1A2 (unknown origin)', 'Inhibition of human recombinant CYP3A4'], 'Enzyme Source': ['CYP2D6', 'CYP3A4', 'CYP2C9', 'CYP3A4', 'CYP2C19', 'CYP2C9', 'CYP2D6', 'CYP19', 'CYP51 from Trypanosoma cruzi', 'CYP3A4', 'CYP11B1', 'CYP1A2', 'CYP2D6', 'CYP2C9', 'CYP11B2', 'CYP11B1', 'CYP2C19', 'CYP2D6', 'CYP1A2', 'CYP3A4'], 'Incubation Time': [nan, nan, nan, nan, nan, nan, nan, nan, nan, nan, nan, nan, nan, nan, nan, nan, nan, nan, nan, nan], 'Temperature Range': [nan, nan, nan, nan, nan, nan, nan, nan, nan, nan, nan, nan, nan, nan, nan, nan, nan, nan, nan, nan], 'pH Level': [nan, nan, nan, nan, nan, nan, nan, nan, nan, nan, nan, nan, nan, nan, nan, nan, nan, nan, nan, nan], 'Substrate Concentration': [nan, nan, nan, nan, nan, nan, nan, nan, nan, nan, nan, nan, nan, nan, nan, '[1,2-3H]-11-deoxycorticosterone', nan, nan, nan, nan], 'Inhibitor Concentration': [nan, nan, nan, nan, nan, nan, nan, nan, 'pIC50', nan, nan, nan, nan, nan, nan, nan, nan, nan, nan, nan], 'Cofactors': [nan, nan, nan, nan, nan, nan, nan, nan, nan, nan, nan, nan, nan, nan, nan, nan, nan, nan, nan, nan], 'Detection Method': [nan, nan, nan, nan, nan, nan, nan, nan, nan, nan, nan, nan, nan, nan, nan, nan, nan, nan, nan, nan], 'Protein Expression System': [nan, nan, nan, nan, nan, nan, nan, nan, nan, nan, 'chinese hamster V79 cells', nan, 'recombinant', nan, 'chinese hamster V79 cells', 'hamster V79MZh cells', nan, nan, nan, 'recombinant'], 'CYP sources': [nan, nan, nan, 'unknown origin', nan, 'unknown origin', 'unknown origin', 'human placental microsome ', nan, 'human ', 'human ', nan, 'human recombinant ', 'human', 'human', 'human', 'unknown origin', 'human', 'unknown origin', 'human recombinant '], 'Cytochrome_P450_enzymes': [True, True, True, True, True, True, True, True, False, True, True, True, True, True, True, True, True, True, True, True]}}\\n```\n",
    "\n",
    "Example 2\n",
    "Input: 'Inhibition of human CYP2C19 \\n DRUGMATRIX: CYP450, 2D6 enzyme inhibition (substrate: 3-Cyano-7-ethoxycoumarin) \\n Inhibition of human CYP11B2 expressed in hamster V79MZh cells using [1,2-3H]-11-deoxycorticosterone as substrate \\n Inhibition of human recombinant CYP1A2 \\n In vitro inhibitory concentration against human placental CYP19 incubated with 500 nM of substrate androstenedione in presence of the compound \\n Inhibition of human CYP11B2 expressed in hamster V79 MZh cells \\n In vitro inhibitory concentration against human CYP11B2 expressed in V79MZh hamster fibroblasts incubated with 100 nM of substrate deoxy-corticosterone in presence of the compound \\n DNDI: CYP Inhibition \\n Inhibition of human recombinant CYP2C9 \\n Inhibition of CYP2C9 in human liver microsomes \\n Inhibition of CYP3A4 in human liver microsomes \\n Inhibition of CYP8B1 in human liver microsomes using 7alpha-hydroxy-4-cholesten-3-one as substrate preincubated followed by substrate addition in presence of NADPH and measured after 45 mins by ESI-MS analysis \\n DRUGMATRIX: CYP450, 2C19 enzyme inhibition (substrate: 3-Cyano-7-ethoxycoumarin) \\n Inhibition of human CYP11B1 expressed in hamster V79 MZh cells \\n Reversible inhibition of CYP3A4 \\n Inhibition of recombinant CYP21 (unknown origin) expressed in human AD293 cells using 17alpha-hydroxyprogesterone as substrate pretreated for 60 mins followed by substrate addition and measured after 45 mins by LC/MS analysis \\n Inhibition of recombinant CYP17 (unknown origin) expressed in human AD293 cells using 21[3H]-17alpha-hydroxyl-pregnenolone as substrate pretreated for 60 mins followed by substrate addition and measured after 4 hrs by Topcount method \\n Inhibition of CYP2D6 in human liver microsomes \\n Inhibition of CYP3A4 in human liver microsomes using midazolam as substrate after 10 mins by LC/MS/MS analysis \\n DRUGMATRIX: CYP450, 3A4 enzyme inhibition (substrate: 7-Benzyloxy-4-(trifluoromethyl)-coumarin)'\n",
    "\n",
    "Output:\n",
    "```python\\n{{'index': [21, 22, 23, 24, 25, 26, 27, 28, 29, 30, 31, 32, 33, 34, 35, 36, 37, 38, 39, 40], 'original sentence': ['Inhibition of human CYP2C19', 'DRUGMATRIX: CYP450, 2D6 enzyme inhibition (substrate: 3-Cyano-7-ethoxycoumarin)', 'Inhibition of human CYP11B2 expressed in hamster V79MZh cells using [1,2-3H]-11-deoxycorticosterone as substrate', 'Inhibition of human recombinant CYP1A2', 'In vitro inhibitory concentration against human placental CYP19 incubated with 500 nM of substrate androstenedione in presence of the compound', 'Inhibition of human CYP11B2 expressed in hamster V79 MZh cells', 'In vitro inhibitory concentration against human CYP11B2 expressed in V79MZh hamster fibroblasts incubated with 100 nM of substrate deoxy-corticosterone in presence of the compound', 'DNDI: CYP Inhibition', 'Inhibition of human recombinant CYP2C9', 'Inhibition of CYP2C9 in human liver microsomes', 'Inhibition of CYP3A4 in human liver microsomes', 'Inhibition of CYP8B1 in human liver microsomes using 7alpha-hydroxy-4-cholesten-3-one as substrate preincubated followed by substrate addition in presence of NADPH and measured after 45 mins by ESI-MS analysis', 'DRUGMATRIX: CYP450, 2C19 enzyme inhibition (substrate: 3-Cyano-7-ethoxycoumarin)', 'Inhibition of human CYP11B1 expressed in hamster V79 MZh cells', 'Reversible inhibition of CYP3A4', 'Inhibition of recombinant CYP21 (unknown origin) expressed in human AD293 cells using 17alpha-hydroxyprogesterone as substrate pretreated for 60 mins followed by substrate addition and measured after 45 mins by LC/MS analysis', 'Inhibition of recombinant CYP17 (unknown origin) expressed in human AD293 cells using 21[3H]-17alpha-hydroxyl-pregnenolone as substrate pretreated for 60 mins followed by substrate addition and measured after 4 hrs by Topcount method', 'Inhibition of CYP2D6 in human liver microsomes', 'Inhibition of CYP3A4 in human liver microsomes using midazolam as substrate after 10 mins by LC/MS/MS analysis', 'DRUGMATRIX: CYP450, 3A4 enzyme inhibition (substrate: 7-Benzyloxy-4-(trifluoromethyl)-coumarin)'], 'Enzyme Source': ['CYP2C19', 'CYP2D6', 'CYP11B2', 'CYP1A2', 'CYP19', 'CYP11B2', 'CYP11B2', nan, 'CYP2C9', 'CYP2C9', 'CYP3A4', 'CYP8B1', 'CYP2C19', 'CYP11B1', 'CYP3A4', 'CYP21', 'CYP17', 'CYP2D6', 'CYP3A4', 'CYP3A4'], 'Incubation Time': [nan, nan, nan, nan, nan, nan, nan, nan, nan, nan, nan, '45 mins', nan, nan, nan, '60 mins pretreatment, 45 mins post-substrate addition', '60 mins pretreatment, 4 hrs post-substrate addition', nan, '10 mins', nan], 'Temperature Range': [nan, nan, nan, nan, nan, nan, nan, nan, nan, nan, nan, nan, nan, nan, nan, nan, nan, nan, nan, nan], 'pH Level': [nan, nan, nan, nan, nan, nan, nan, nan, nan, nan, nan, nan, nan, nan, nan, nan, nan, nan, nan, nan], 'Substrate Concentration': [nan, '3-Cyano-7-ethoxycoumarin', '[1,2-3H]-11-deoxycorticosterone', nan, '500 nM androstenedione', nan, '100 nM deoxy-corticosterone', nan, nan, nan, nan, '7alpha-hydroxy-4-cholesten-3-one', '3-Cyano-7-ethoxycoumarin', nan, nan, '17alpha-hydroxyprogesterone', '21[3H]-17alpha-hydroxyl-pregnenolone', nan, 'midazolam', '7-Benzyloxy-4-(trifluoromethyl)-coumarin'], 'Inhibitor Concentration': [nan, nan, nan, nan, 'inhibitory concentration in vitro', nan, 'inhibitory concentration in vitro', nan, nan, nan, nan, nan, nan, nan, nan, nan, nan, nan, nan, nan], 'Cofactors': [nan, nan, nan, nan, nan, nan, nan, nan, nan, nan, nan, 'NADPH', nan, nan, nan, nan, nan, nan, nan, nan], 'Detection Method': [nan, 'DRUGMATRIX', nan, nan, nan, nan, nan, 'DNDI', nan, nan, nan, 'ESI-MS', 'DRUGMATRIX', nan, nan, 'LC/MS', 'Topcount', nan, 'LC/MS/MS', 'DRUGMATRIX'], 'Protein Expression System': [nan, nan, 'hamster V79MZh cells', 'recombinant', nan, 'hamster V79 MZh cells', 'V79MZh hamster fibroblasts', nan, 'recombinant', nan, nan, nan, nan, 'hamster V79 MZh cells', nan, 'human AD293 cells', 'human AD293 cells', nan, nan, nan], 'CYP sources': ['human', nan, 'human', 'human recombinant ', 'human placental', 'human', 'human', nan, 'human recombinant ', 'human', 'human', 'human', nan, 'human', nan, 'unknown origin', 'unknown origin', 'human', 'human', nan], 'Cytochrome_P450_enzymes': [True, True, True, True, True, True, True, True, True, True, True, True, True, True, True, True, True, True, True, True]}}\\n```\n",
    "\"\"\""
   ]
  },
  {
   "cell_type": "markdown",
   "id": "603fabe5",
   "metadata": {},
   "source": [
    "# Data Mining Agent"
   ]
  },
  {
   "cell_type": "markdown",
   "id": "0e3f6747",
   "metadata": {},
   "source": [
    "### Load data "
   ]
  },
  {
   "cell_type": "code",
   "execution_count": null,
   "id": "22f22499",
   "metadata": {},
   "outputs": [],
   "source": [
    "df = pd.read_csv('../data/raw_data/cyp/chembl_cyp_raw_data.csv')\n",
    "assay_description = df['Assay Description'].value_counts().keys()"
   ]
  },
  {
   "cell_type": "markdown",
   "id": "16334371",
   "metadata": {},
   "source": [
    "### Create agent"
   ]
  },
  {
   "cell_type": "code",
   "execution_count": null,
   "id": "863c6c65",
   "metadata": {},
   "outputs": [],
   "source": [
    "assistant = client.beta.assistants.create(name='Data Mining chatbot',\n",
    "  instructions=f\"Please mining the key biomedical information within the given data\",\n",
    "  model=\"gpt-4-1106-preview\",\n",
    ")   "
   ]
  },
  {
   "cell_type": "code",
   "execution_count": null,
   "id": "e3fd53fc",
   "metadata": {
    "scrolled": false
   },
   "outputs": [],
   "source": [
    "assistant.id"
   ]
  },
  {
   "cell_type": "code",
   "execution_count": null,
   "id": "34b251d1",
   "metadata": {},
   "outputs": [],
   "source": [
    "experimental_conditions_list = ['Enzyme Source',\n",
    " 'Incubation Time',\n",
    " 'Temperature Range',\n",
    " 'pH Level',\n",
    " 'Substrate Concentration',\n",
    " 'Inhibitor Concentration',\n",
    " 'Cofactors',\n",
    " 'Detection Method',\n",
    " 'Protein Expression System',\n",
    " 'CYP sources']\n",
    "\n",
    "experimental_conditions_list = ', '.join(experimental_conditions_list)"
   ]
  },
  {
   "cell_type": "code",
   "execution_count": null,
   "id": "316cf235",
   "metadata": {},
   "outputs": [],
   "source": [
    "mes = f\"\"\"\n",
    "Biomedical data mining task.\n",
    "\n",
    "Return python dictionary with key including index, original sentence, {experimental_conditions_list}, and whether is {prop} experiment or not \n",
    "Fill in none if no information given. \n",
    "Please don't ignore some sentences.\n",
    "\n",
    "Example 1 \n",
    "Input: 'Inhibition of CYP2D6 \\n Inhibition of CYP3A4 \\n Inhibition of CYP2C9 \\n Inhibition of CYP3A4 (unknown origin) \\n Inhibition of CYP2C19 \\n Inhibition of CYP2C9 (unknown origin) \\n Inhibition of CYP2D6 (unknown origin) \\n Inhibition of human placental microsome CYP19 \\n GSK_TCAKS: pIC50 CYP51 from Trypanosoma cruzi. \\n Inhibition of human CYP3A4 \\n Inhibition of human CYP11B1 expressed in chinese hamster V79 cells \\n Inhibition of CYP1A2 \\n Inhibition of human recombinant CYP2D6 \\n Inhibition of human CYP2C9 \\n Inhibition of human CYP11B2 expressed in chinese hamster V79 cells \\n Inhibition of human CYP11B1 expressed in hamster V79MZh cells using [1,2-3H]-11-deoxycorticosterone as substrate \\n Inhibition of CYP2C19 (unknown origin) \\n Inhibition of human CYP2D6 \\n Inhibition of CYP1A2 (unknown origin) \\n Inhibition of human recombinant CYP3A4'\n",
    "\n",
    "Output:\n",
    "```python\\n{{'index': [1, 2, 3, 4, 5, 6, 7, 8, 9, 10, 11, 12, 13, 14, 15, 16, 17, 18, 19, 20], 'original sentence': ['Inhibition of CYP2D6', 'Inhibition of CYP3A4', 'Inhibition of CYP2C9', 'Inhibition of CYP3A4 (unknown origin)', 'Inhibition of CYP2C19', 'Inhibition of CYP2C9 (unknown origin)', 'Inhibition of CYP2D6 (unknown origin)', 'Inhibition of human placental microsome CYP19', 'GSK_TCAKS: pIC50 CYP51 from Trypanosoma cruzi.', 'Inhibition of human CYP3A4', 'Inhibition of human CYP11B1 expressed in chinese hamster V79 cells', 'Inhibition of CYP1A2', 'Inhibition of human recombinant CYP2D6', 'Inhibition of human CYP2C9', 'Inhibition of human CYP11B2 expressed in chinese hamster V79 cells', 'Inhibition of human CYP11B1 expressed in hamster V79MZh cells using [1,2-3H]-11-deoxycorticosterone as substrate', 'Inhibition of CYP2C19 (unknown origin)', 'Inhibition of human CYP2D6', 'Inhibition of CYP1A2 (unknown origin)', 'Inhibition of human recombinant CYP3A4'], 'Enzyme Source': ['CYP2D6', 'CYP3A4', 'CYP2C9', 'CYP3A4', 'CYP2C19', 'CYP2C9', 'CYP2D6', 'CYP19', 'CYP51 from Trypanosoma cruzi', 'CYP3A4', 'CYP11B1', 'CYP1A2', 'CYP2D6', 'CYP2C9', 'CYP11B2', 'CYP11B1', 'CYP2C19', 'CYP2D6', 'CYP1A2', 'CYP3A4'], 'Incubation Time': [nan, nan, nan, nan, nan, nan, nan, nan, nan, nan, nan, nan, nan, nan, nan, nan, nan, nan, nan, nan], 'Temperature Range': [nan, nan, nan, nan, nan, nan, nan, nan, nan, nan, nan, nan, nan, nan, nan, nan, nan, nan, nan, nan], 'pH Level': [nan, nan, nan, nan, nan, nan, nan, nan, nan, nan, nan, nan, nan, nan, nan, nan, nan, nan, nan, nan], 'Substrate Concentration': [nan, nan, nan, nan, nan, nan, nan, nan, nan, nan, nan, nan, nan, nan, nan, '[1,2-3H]-11-deoxycorticosterone', nan, nan, nan, nan], 'Inhibitor Concentration': [nan, nan, nan, nan, nan, nan, nan, nan, 'pIC50', nan, nan, nan, nan, nan, nan, nan, nan, nan, nan, nan], 'Cofactors': [nan, nan, nan, nan, nan, nan, nan, nan, nan, nan, nan, nan, nan, nan, nan, nan, nan, nan, nan, nan], 'Detection Method': [nan, nan, nan, nan, nan, nan, nan, nan, nan, nan, nan, nan, nan, nan, nan, nan, nan, nan, nan, nan], 'Protein Expression System': [nan, nan, nan, nan, nan, nan, nan, nan, nan, nan, 'chinese hamster V79 cells', nan, 'recombinant', nan, 'chinese hamster V79 cells', 'hamster V79MZh cells', nan, nan, nan, 'recombinant'], 'CYP sources': [nan, nan, nan, 'unknown origin', nan, 'unknown origin', 'unknown origin', 'human placental microsome ', nan, 'human ', 'human ', nan, 'human recombinant ', 'human', 'human', 'human', 'unknown origin', 'human', 'unknown origin', 'human recombinant '], 'Cytochrome_P450_enzymes': [True, True, True, True, True, True, True, True, False, True, True, True, True, True, True, True, True, True, True, True]}}\\n```\n",
    "\n",
    "Example 2\n",
    "Input: 'Inhibition of human CYP2C19 \\n DRUGMATRIX: CYP450, 2D6 enzyme inhibition (substrate: 3-Cyano-7-ethoxycoumarin) \\n Inhibition of human CYP11B2 expressed in hamster V79MZh cells using [1,2-3H]-11-deoxycorticosterone as substrate \\n Inhibition of human recombinant CYP1A2 \\n In vitro inhibitory concentration against human placental CYP19 incubated with 500 nM of substrate androstenedione in presence of the compound \\n Inhibition of human CYP11B2 expressed in hamster V79 MZh cells \\n In vitro inhibitory concentration against human CYP11B2 expressed in V79MZh hamster fibroblasts incubated with 100 nM of substrate deoxy-corticosterone in presence of the compound \\n DNDI: CYP Inhibition \\n Inhibition of human recombinant CYP2C9 \\n Inhibition of CYP2C9 in human liver microsomes \\n Inhibition of CYP3A4 in human liver microsomes \\n Inhibition of CYP8B1 in human liver microsomes using 7alpha-hydroxy-4-cholesten-3-one as substrate preincubated followed by substrate addition in presence of NADPH and measured after 45 mins by ESI-MS analysis \\n DRUGMATRIX: CYP450, 2C19 enzyme inhibition (substrate: 3-Cyano-7-ethoxycoumarin) \\n Inhibition of human CYP11B1 expressed in hamster V79 MZh cells \\n Reversible inhibition of CYP3A4 \\n Inhibition of recombinant CYP21 (unknown origin) expressed in human AD293 cells using 17alpha-hydroxyprogesterone as substrate pretreated for 60 mins followed by substrate addition and measured after 45 mins by LC/MS analysis \\n Inhibition of recombinant CYP17 (unknown origin) expressed in human AD293 cells using 21[3H]-17alpha-hydroxyl-pregnenolone as substrate pretreated for 60 mins followed by substrate addition and measured after 4 hrs by Topcount method \\n Inhibition of CYP2D6 in human liver microsomes \\n Inhibition of CYP3A4 in human liver microsomes using midazolam as substrate after 10 mins by LC/MS/MS analysis \\n DRUGMATRIX: CYP450, 3A4 enzyme inhibition (substrate: 7-Benzyloxy-4-(trifluoromethyl)-coumarin)'\n",
    "\n",
    "Output:\n",
    "```python\\n{{'index': [21, 22, 23, 24, 25, 26, 27, 28, 29, 30, 31, 32, 33, 34, 35, 36, 37, 38, 39, 40], 'original sentence': ['Inhibition of human CYP2C19', 'DRUGMATRIX: CYP450, 2D6 enzyme inhibition (substrate: 3-Cyano-7-ethoxycoumarin)', 'Inhibition of human CYP11B2 expressed in hamster V79MZh cells using [1,2-3H]-11-deoxycorticosterone as substrate', 'Inhibition of human recombinant CYP1A2', 'In vitro inhibitory concentration against human placental CYP19 incubated with 500 nM of substrate androstenedione in presence of the compound', 'Inhibition of human CYP11B2 expressed in hamster V79 MZh cells', 'In vitro inhibitory concentration against human CYP11B2 expressed in V79MZh hamster fibroblasts incubated with 100 nM of substrate deoxy-corticosterone in presence of the compound', 'DNDI: CYP Inhibition', 'Inhibition of human recombinant CYP2C9', 'Inhibition of CYP2C9 in human liver microsomes', 'Inhibition of CYP3A4 in human liver microsomes', 'Inhibition of CYP8B1 in human liver microsomes using 7alpha-hydroxy-4-cholesten-3-one as substrate preincubated followed by substrate addition in presence of NADPH and measured after 45 mins by ESI-MS analysis', 'DRUGMATRIX: CYP450, 2C19 enzyme inhibition (substrate: 3-Cyano-7-ethoxycoumarin)', 'Inhibition of human CYP11B1 expressed in hamster V79 MZh cells', 'Reversible inhibition of CYP3A4', 'Inhibition of recombinant CYP21 (unknown origin) expressed in human AD293 cells using 17alpha-hydroxyprogesterone as substrate pretreated for 60 mins followed by substrate addition and measured after 45 mins by LC/MS analysis', 'Inhibition of recombinant CYP17 (unknown origin) expressed in human AD293 cells using 21[3H]-17alpha-hydroxyl-pregnenolone as substrate pretreated for 60 mins followed by substrate addition and measured after 4 hrs by Topcount method', 'Inhibition of CYP2D6 in human liver microsomes', 'Inhibition of CYP3A4 in human liver microsomes using midazolam as substrate after 10 mins by LC/MS/MS analysis', 'DRUGMATRIX: CYP450, 3A4 enzyme inhibition (substrate: 7-Benzyloxy-4-(trifluoromethyl)-coumarin)'], 'Enzyme Source': ['CYP2C19', 'CYP2D6', 'CYP11B2', 'CYP1A2', 'CYP19', 'CYP11B2', 'CYP11B2', nan, 'CYP2C9', 'CYP2C9', 'CYP3A4', 'CYP8B1', 'CYP2C19', 'CYP11B1', 'CYP3A4', 'CYP21', 'CYP17', 'CYP2D6', 'CYP3A4', 'CYP3A4'], 'Incubation Time': [nan, nan, nan, nan, nan, nan, nan, nan, nan, nan, nan, '45 mins', nan, nan, nan, '60 mins pretreatment, 45 mins post-substrate addition', '60 mins pretreatment, 4 hrs post-substrate addition', nan, '10 mins', nan], 'Temperature Range': [nan, nan, nan, nan, nan, nan, nan, nan, nan, nan, nan, nan, nan, nan, nan, nan, nan, nan, nan, nan], 'pH Level': [nan, nan, nan, nan, nan, nan, nan, nan, nan, nan, nan, nan, nan, nan, nan, nan, nan, nan, nan, nan], 'Substrate Concentration': [nan, '3-Cyano-7-ethoxycoumarin', '[1,2-3H]-11-deoxycorticosterone', nan, '500 nM androstenedione', nan, '100 nM deoxy-corticosterone', nan, nan, nan, nan, '7alpha-hydroxy-4-cholesten-3-one', '3-Cyano-7-ethoxycoumarin', nan, nan, '17alpha-hydroxyprogesterone', '21[3H]-17alpha-hydroxyl-pregnenolone', nan, 'midazolam', '7-Benzyloxy-4-(trifluoromethyl)-coumarin'], 'Inhibitor Concentration': [nan, nan, nan, nan, 'inhibitory concentration in vitro', nan, 'inhibitory concentration in vitro', nan, nan, nan, nan, nan, nan, nan, nan, nan, nan, nan, nan, nan], 'Cofactors': [nan, nan, nan, nan, nan, nan, nan, nan, nan, nan, nan, 'NADPH', nan, nan, nan, nan, nan, nan, nan, nan], 'Detection Method': [nan, 'DRUGMATRIX', nan, nan, nan, nan, nan, 'DNDI', nan, nan, nan, 'ESI-MS', 'DRUGMATRIX', nan, nan, 'LC/MS', 'Topcount', nan, 'LC/MS/MS', 'DRUGMATRIX'], 'Protein Expression System': [nan, nan, 'hamster V79MZh cells', 'recombinant', nan, 'hamster V79 MZh cells', 'V79MZh hamster fibroblasts', nan, 'recombinant', nan, nan, nan, nan, 'hamster V79 MZh cells', nan, 'human AD293 cells', 'human AD293 cells', nan, nan, nan], 'CYP sources': ['human', nan, 'human', 'human recombinant ', 'human placental', 'human', 'human', nan, 'human recombinant ', 'human', 'human', 'human', nan, 'human', nan, 'unknown origin', 'unknown origin', 'human', 'human', nan], 'Cytochrome_P450_enzymes': [True, True, True, True, True, True, True, True, True, True, True, True, True, True, True, True, True, True, True, True]}}\\n```\n",
    "\"\"\""
   ]
  },
  {
   "cell_type": "code",
   "execution_count": null,
   "id": "dafb5e28",
   "metadata": {},
   "outputs": [],
   "source": [
    "def replace_single_with_double_quotes(code_str):\n",
    "    return code_str.replace(\"'\", '\"')\n",
    "\n",
    "\n",
    "mes = replace_single_with_double_quotes(mes)\n"
   ]
  },
  {
   "cell_type": "code",
   "execution_count": null,
   "id": "4846fc6f",
   "metadata": {},
   "outputs": [],
   "source": [
    "thread = client.beta.threads.create(\n",
    "  messages=[\n",
    "    {\n",
    "      \"role\": \"user\",\n",
    "      \"content\": mes,\n",
    "      \"file_ids\": assistant.file_ids\n",
    "    }\n",
    "  ]\n",
    ")"
   ]
  },
  {
   "cell_type": "code",
   "execution_count": null,
   "id": "3fdb9a2a",
   "metadata": {},
   "outputs": [],
   "source": [
    "thread.id"
   ]
  },
  {
   "cell_type": "code",
   "execution_count": null,
   "id": "badbdfb6",
   "metadata": {},
   "outputs": [],
   "source": [
    "len(assay_description)"
   ]
  },
  {
   "cell_type": "code",
   "execution_count": null,
   "id": "29e5fc0a",
   "metadata": {
    "scrolled": false
   },
   "outputs": [],
   "source": [
    "for i in tqdm(range(0,len(assay_description),20)):\n",
    "    info = ' \\n '.join(assay_description[i:i+20])\n",
    "    \n",
    "    chatGPT_replay(client,thread.id, assistant, question_content=info)\n",
    "    time.sleep(3)\n",
    "    chatGPT_check_replay(client,thread, dis=False)\n",
    "    \n",
    "    thread_messages = client.beta.threads.messages.list(thread.id)\n",
    "\n",
    "    try:\n",
    "        answer = extract_code_script_from_markdown(thread_messages.data[0].content[0].text.value)[0]\n",
    "        answer = pd.DataFrame(find_dictionaries_in_string(answer)[0])\n",
    "        answer.to_csv(f'../data/data_mining_results/{prop}/batch/{prop}_batch_{i}.csv',index=False)\n",
    "    except:\n",
    "        print(f'error for {i}')\n",
    "        display(thread_messages.data[0].content[0].text.value)\n",
    "        continue\n",
    "    "
   ]
  },
  {
   "cell_type": "code",
   "execution_count": null,
   "id": "3c303636",
   "metadata": {},
   "outputs": [],
   "source": []
  },
  {
   "cell_type": "code",
   "execution_count": null,
   "id": "fdb00d4f",
   "metadata": {},
   "outputs": [],
   "source": []
  },
  {
   "cell_type": "markdown",
   "id": "b1feab80",
   "metadata": {},
   "source": [
    "# Combine result"
   ]
  },
  {
   "cell_type": "code",
   "execution_count": null,
   "id": "6d8863d4",
   "metadata": {},
   "outputs": [],
   "source": [
    "import os\n",
    "import pandas as pd\n",
    "root_path = '../data/data_mining_results/Cytochrome_P450_enzymes/batch/'\n",
    "result = pd.DataFrame()\n",
    "for file in os.listdir(root_path):\n",
    "    if 'csv' in file:\n",
    "        file_path = os.path.join(root_path,file)\n",
    "        tmp = pd.read_csv(file_path)\n",
    "        result = pd.concat([result,tmp])"
   ]
  },
  {
   "cell_type": "code",
   "execution_count": null,
   "id": "83a919e0",
   "metadata": {},
   "outputs": [],
   "source": [
    "result.columns"
   ]
  },
  {
   "cell_type": "code",
   "execution_count": null,
   "id": "b00a9a79",
   "metadata": {},
   "outputs": [],
   "source": [
    "result = result[[ 'original sentence', 'Enzyme Source', 'Incubation Time',\n",
    "       'Temperature Range', 'pH Level', 'Substrate Concentration',\n",
    "       'Inhibitor Concentration', 'Cofactors', 'Detection Method',\n",
    "       'Protein Expression System', 'CYP sources', 'Cytochrome_P450_enzymes']]"
   ]
  },
  {
   "cell_type": "code",
   "execution_count": null,
   "id": "e325b999",
   "metadata": {},
   "outputs": [],
   "source": [
    "result.columns = ['Assay Description','Enzyme Source', 'Incubation Time',\n",
    "       'Temperature Range', 'pH Level', 'Substrate Concentration',\n",
    "       'Inhibitor Concentration', 'Cofactors', 'Detection Method',\n",
    "       'Protein Expression System', 'CYP sources', 'Cytochrome_P450_enzymes']"
   ]
  },
  {
   "cell_type": "code",
   "execution_count": null,
   "id": "e67c0092",
   "metadata": {},
   "outputs": [],
   "source": [
    "df = pd.read_csv('../data/raw_data/cyp/chembl_cyp_raw_data.csv')\n",
    "col_list = ['Molecule ChEMBL ID', \n",
    "       'Smiles', 'Standard Type', 'Standard Relation', 'Standard Value',\n",
    "       'Standard Units', 'Assay ChEMBL ID', 'Assay Description', 'Assay Type', 'BAO Format ID',\n",
    "       'BAO Label', \n",
    "       'Document ChEMBL ID', 'Source Description',\n",
    "       'Document Journal', 'Document Year']\n",
    "df = df[col_list]"
   ]
  },
  {
   "cell_type": "code",
   "execution_count": null,
   "id": "f518b4a0",
   "metadata": {},
   "outputs": [],
   "source": [
    "df = df.merge(result,on='Assay Description',how='left')\n",
    "df"
   ]
  },
  {
   "cell_type": "code",
   "execution_count": null,
   "id": "1812351b",
   "metadata": {},
   "outputs": [],
   "source": [
    "df.to_csv('../data/data_mining_results/Cytochrome_P450_enzymes/chembl_cyp_data_mining_finished.csv',index=False)"
   ]
  },
  {
   "cell_type": "code",
   "execution_count": null,
   "id": "45fa196b",
   "metadata": {},
   "outputs": [],
   "source": []
  }
 ],
 "metadata": {
  "kernelspec": {
   "display_name": "Python 3 (ipykernel)",
   "language": "python",
   "name": "python3"
  },
  "language_info": {
   "codemirror_mode": {
    "name": "ipython",
    "version": 3
   },
   "file_extension": ".py",
   "mimetype": "text/x-python",
   "name": "python",
   "nbconvert_exporter": "python",
   "pygments_lexer": "ipython3",
   "version": "3.9.6"
  }
 },
 "nbformat": 4,
 "nbformat_minor": 5
}
